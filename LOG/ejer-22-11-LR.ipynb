{
  "nbformat": 4,
  "nbformat_minor": 0,
  "metadata": {
    "kernelspec": {
      "display_name": "Python 3",
      "language": "python",
      "name": "python3"
    },
    "language_info": {
      "codemirror_mode": {
        "name": "ipython",
        "version": 3
      },
      "file_extension": ".py",
      "mimetype": "text/x-python",
      "name": "python",
      "nbconvert_exporter": "python",
      "pygments_lexer": "ipython3",
      "version": "3.6.8"
    },
    "colab": {
      "provenance": [],
      "include_colab_link": true
    }
  },
  "cells": [
    {
      "cell_type": "markdown",
      "metadata": {
        "id": "view-in-github",
        "colab_type": "text"
      },
      "source": [
        "<a href=\"https://colab.research.google.com/github/gachet/ad-1-24/blob/main/LOG/ejer-22-11-LR.ipynb\" target=\"_parent\"><img src=\"https://colab.research.google.com/assets/colab-badge.svg\" alt=\"Open In Colab\"/></a>"
      ]
    },
    {
      "cell_type": "markdown",
      "metadata": {
        "id": "0vLu6Zvwv_-b"
      },
      "source": [
        "# Regresión Logística con Gradiente Descendente"
      ]
    },
    {
      "cell_type": "markdown",
      "metadata": {
        "id": "qxrl6Y8dv_-e"
      },
      "source": [
        "###  Librerías y carga de datos"
      ]
    },
    {
      "cell_type": "code",
      "metadata": {
        "id": "U89ZWwerv_-f"
      },
      "source": [
        "import numpy as np\n",
        "import matplotlib.pyplot as plt\n",
        "import seaborn as sns\n",
        "import pandas as pd\n",
        "plt.style.use(\"ggplot\")\n",
        "%matplotlib inline"
      ],
      "execution_count": 5,
      "outputs": []
    },
    {
      "cell_type": "code",
      "metadata": {
        "id": "WgcSySujv_-l"
      },
      "source": [
        "from pylab import rcParams\n",
        "rcParams['figure.figsize'] = 12, 8"
      ],
      "execution_count": 6,
      "outputs": []
    },
    {
      "cell_type": "code",
      "metadata": {
        "id": "gpg6iGBHv_-q",
        "colab": {
          "base_uri": "https://localhost:8080/",
          "height": 206
        },
        "outputId": "e3e5dd7c-c173-4108-983d-a694099f1e4d"
      },
      "source": [
        "data = pd.read_csv(\"https://drive.google.com/uc?id=1fMmyhTvj8RAJxMdFtI7zB5j8egQKx30O\")\n",
        "data.head()"
      ],
      "execution_count": 7,
      "outputs": [
        {
          "output_type": "execute_result",
          "data": {
            "text/plain": [
              "   DMV_Test_1  DMV_Test_2  Results\n",
              "0   34.623660   78.024693        0\n",
              "1   30.286711   43.894998        0\n",
              "2   35.847409   72.902198        0\n",
              "3   60.182599   86.308552        1\n",
              "4   79.032736   75.344376        1"
            ],
            "text/html": [
              "\n",
              "  <div id=\"df-9ebfc4c6-b17b-4a0a-88fe-900767a55933\" class=\"colab-df-container\">\n",
              "    <div>\n",
              "<style scoped>\n",
              "    .dataframe tbody tr th:only-of-type {\n",
              "        vertical-align: middle;\n",
              "    }\n",
              "\n",
              "    .dataframe tbody tr th {\n",
              "        vertical-align: top;\n",
              "    }\n",
              "\n",
              "    .dataframe thead th {\n",
              "        text-align: right;\n",
              "    }\n",
              "</style>\n",
              "<table border=\"1\" class=\"dataframe\">\n",
              "  <thead>\n",
              "    <tr style=\"text-align: right;\">\n",
              "      <th></th>\n",
              "      <th>DMV_Test_1</th>\n",
              "      <th>DMV_Test_2</th>\n",
              "      <th>Results</th>\n",
              "    </tr>\n",
              "  </thead>\n",
              "  <tbody>\n",
              "    <tr>\n",
              "      <th>0</th>\n",
              "      <td>34.623660</td>\n",
              "      <td>78.024693</td>\n",
              "      <td>0</td>\n",
              "    </tr>\n",
              "    <tr>\n",
              "      <th>1</th>\n",
              "      <td>30.286711</td>\n",
              "      <td>43.894998</td>\n",
              "      <td>0</td>\n",
              "    </tr>\n",
              "    <tr>\n",
              "      <th>2</th>\n",
              "      <td>35.847409</td>\n",
              "      <td>72.902198</td>\n",
              "      <td>0</td>\n",
              "    </tr>\n",
              "    <tr>\n",
              "      <th>3</th>\n",
              "      <td>60.182599</td>\n",
              "      <td>86.308552</td>\n",
              "      <td>1</td>\n",
              "    </tr>\n",
              "    <tr>\n",
              "      <th>4</th>\n",
              "      <td>79.032736</td>\n",
              "      <td>75.344376</td>\n",
              "      <td>1</td>\n",
              "    </tr>\n",
              "  </tbody>\n",
              "</table>\n",
              "</div>\n",
              "    <div class=\"colab-df-buttons\">\n",
              "\n",
              "  <div class=\"colab-df-container\">\n",
              "    <button class=\"colab-df-convert\" onclick=\"convertToInteractive('df-9ebfc4c6-b17b-4a0a-88fe-900767a55933')\"\n",
              "            title=\"Convert this dataframe to an interactive table.\"\n",
              "            style=\"display:none;\">\n",
              "\n",
              "  <svg xmlns=\"http://www.w3.org/2000/svg\" height=\"24px\" viewBox=\"0 -960 960 960\">\n",
              "    <path d=\"M120-120v-720h720v720H120Zm60-500h600v-160H180v160Zm220 220h160v-160H400v160Zm0 220h160v-160H400v160ZM180-400h160v-160H180v160Zm440 0h160v-160H620v160ZM180-180h160v-160H180v160Zm440 0h160v-160H620v160Z\"/>\n",
              "  </svg>\n",
              "    </button>\n",
              "\n",
              "  <style>\n",
              "    .colab-df-container {\n",
              "      display:flex;\n",
              "      gap: 12px;\n",
              "    }\n",
              "\n",
              "    .colab-df-convert {\n",
              "      background-color: #E8F0FE;\n",
              "      border: none;\n",
              "      border-radius: 50%;\n",
              "      cursor: pointer;\n",
              "      display: none;\n",
              "      fill: #1967D2;\n",
              "      height: 32px;\n",
              "      padding: 0 0 0 0;\n",
              "      width: 32px;\n",
              "    }\n",
              "\n",
              "    .colab-df-convert:hover {\n",
              "      background-color: #E2EBFA;\n",
              "      box-shadow: 0px 1px 2px rgba(60, 64, 67, 0.3), 0px 1px 3px 1px rgba(60, 64, 67, 0.15);\n",
              "      fill: #174EA6;\n",
              "    }\n",
              "\n",
              "    .colab-df-buttons div {\n",
              "      margin-bottom: 4px;\n",
              "    }\n",
              "\n",
              "    [theme=dark] .colab-df-convert {\n",
              "      background-color: #3B4455;\n",
              "      fill: #D2E3FC;\n",
              "    }\n",
              "\n",
              "    [theme=dark] .colab-df-convert:hover {\n",
              "      background-color: #434B5C;\n",
              "      box-shadow: 0px 1px 3px 1px rgba(0, 0, 0, 0.15);\n",
              "      filter: drop-shadow(0px 1px 2px rgba(0, 0, 0, 0.3));\n",
              "      fill: #FFFFFF;\n",
              "    }\n",
              "  </style>\n",
              "\n",
              "    <script>\n",
              "      const buttonEl =\n",
              "        document.querySelector('#df-9ebfc4c6-b17b-4a0a-88fe-900767a55933 button.colab-df-convert');\n",
              "      buttonEl.style.display =\n",
              "        google.colab.kernel.accessAllowed ? 'block' : 'none';\n",
              "\n",
              "      async function convertToInteractive(key) {\n",
              "        const element = document.querySelector('#df-9ebfc4c6-b17b-4a0a-88fe-900767a55933');\n",
              "        const dataTable =\n",
              "          await google.colab.kernel.invokeFunction('convertToInteractive',\n",
              "                                                    [key], {});\n",
              "        if (!dataTable) return;\n",
              "\n",
              "        const docLinkHtml = 'Like what you see? Visit the ' +\n",
              "          '<a target=\"_blank\" href=https://colab.research.google.com/notebooks/data_table.ipynb>data table notebook</a>'\n",
              "          + ' to learn more about interactive tables.';\n",
              "        element.innerHTML = '';\n",
              "        dataTable['output_type'] = 'display_data';\n",
              "        await google.colab.output.renderOutput(dataTable, element);\n",
              "        const docLink = document.createElement('div');\n",
              "        docLink.innerHTML = docLinkHtml;\n",
              "        element.appendChild(docLink);\n",
              "      }\n",
              "    </script>\n",
              "  </div>\n",
              "\n",
              "\n",
              "<div id=\"df-2629bc48-bd07-42a7-a201-15d3a601f8e8\">\n",
              "  <button class=\"colab-df-quickchart\" onclick=\"quickchart('df-2629bc48-bd07-42a7-a201-15d3a601f8e8')\"\n",
              "            title=\"Suggest charts\"\n",
              "            style=\"display:none;\">\n",
              "\n",
              "<svg xmlns=\"http://www.w3.org/2000/svg\" height=\"24px\"viewBox=\"0 0 24 24\"\n",
              "     width=\"24px\">\n",
              "    <g>\n",
              "        <path d=\"M19 3H5c-1.1 0-2 .9-2 2v14c0 1.1.9 2 2 2h14c1.1 0 2-.9 2-2V5c0-1.1-.9-2-2-2zM9 17H7v-7h2v7zm4 0h-2V7h2v10zm4 0h-2v-4h2v4z\"/>\n",
              "    </g>\n",
              "</svg>\n",
              "  </button>\n",
              "\n",
              "<style>\n",
              "  .colab-df-quickchart {\n",
              "      --bg-color: #E8F0FE;\n",
              "      --fill-color: #1967D2;\n",
              "      --hover-bg-color: #E2EBFA;\n",
              "      --hover-fill-color: #174EA6;\n",
              "      --disabled-fill-color: #AAA;\n",
              "      --disabled-bg-color: #DDD;\n",
              "  }\n",
              "\n",
              "  [theme=dark] .colab-df-quickchart {\n",
              "      --bg-color: #3B4455;\n",
              "      --fill-color: #D2E3FC;\n",
              "      --hover-bg-color: #434B5C;\n",
              "      --hover-fill-color: #FFFFFF;\n",
              "      --disabled-bg-color: #3B4455;\n",
              "      --disabled-fill-color: #666;\n",
              "  }\n",
              "\n",
              "  .colab-df-quickchart {\n",
              "    background-color: var(--bg-color);\n",
              "    border: none;\n",
              "    border-radius: 50%;\n",
              "    cursor: pointer;\n",
              "    display: none;\n",
              "    fill: var(--fill-color);\n",
              "    height: 32px;\n",
              "    padding: 0;\n",
              "    width: 32px;\n",
              "  }\n",
              "\n",
              "  .colab-df-quickchart:hover {\n",
              "    background-color: var(--hover-bg-color);\n",
              "    box-shadow: 0 1px 2px rgba(60, 64, 67, 0.3), 0 1px 3px 1px rgba(60, 64, 67, 0.15);\n",
              "    fill: var(--button-hover-fill-color);\n",
              "  }\n",
              "\n",
              "  .colab-df-quickchart-complete:disabled,\n",
              "  .colab-df-quickchart-complete:disabled:hover {\n",
              "    background-color: var(--disabled-bg-color);\n",
              "    fill: var(--disabled-fill-color);\n",
              "    box-shadow: none;\n",
              "  }\n",
              "\n",
              "  .colab-df-spinner {\n",
              "    border: 2px solid var(--fill-color);\n",
              "    border-color: transparent;\n",
              "    border-bottom-color: var(--fill-color);\n",
              "    animation:\n",
              "      spin 1s steps(1) infinite;\n",
              "  }\n",
              "\n",
              "  @keyframes spin {\n",
              "    0% {\n",
              "      border-color: transparent;\n",
              "      border-bottom-color: var(--fill-color);\n",
              "      border-left-color: var(--fill-color);\n",
              "    }\n",
              "    20% {\n",
              "      border-color: transparent;\n",
              "      border-left-color: var(--fill-color);\n",
              "      border-top-color: var(--fill-color);\n",
              "    }\n",
              "    30% {\n",
              "      border-color: transparent;\n",
              "      border-left-color: var(--fill-color);\n",
              "      border-top-color: var(--fill-color);\n",
              "      border-right-color: var(--fill-color);\n",
              "    }\n",
              "    40% {\n",
              "      border-color: transparent;\n",
              "      border-right-color: var(--fill-color);\n",
              "      border-top-color: var(--fill-color);\n",
              "    }\n",
              "    60% {\n",
              "      border-color: transparent;\n",
              "      border-right-color: var(--fill-color);\n",
              "    }\n",
              "    80% {\n",
              "      border-color: transparent;\n",
              "      border-right-color: var(--fill-color);\n",
              "      border-bottom-color: var(--fill-color);\n",
              "    }\n",
              "    90% {\n",
              "      border-color: transparent;\n",
              "      border-bottom-color: var(--fill-color);\n",
              "    }\n",
              "  }\n",
              "</style>\n",
              "\n",
              "  <script>\n",
              "    async function quickchart(key) {\n",
              "      const quickchartButtonEl =\n",
              "        document.querySelector('#' + key + ' button');\n",
              "      quickchartButtonEl.disabled = true;  // To prevent multiple clicks.\n",
              "      quickchartButtonEl.classList.add('colab-df-spinner');\n",
              "      try {\n",
              "        const charts = await google.colab.kernel.invokeFunction(\n",
              "            'suggestCharts', [key], {});\n",
              "      } catch (error) {\n",
              "        console.error('Error during call to suggestCharts:', error);\n",
              "      }\n",
              "      quickchartButtonEl.classList.remove('colab-df-spinner');\n",
              "      quickchartButtonEl.classList.add('colab-df-quickchart-complete');\n",
              "    }\n",
              "    (() => {\n",
              "      let quickchartButtonEl =\n",
              "        document.querySelector('#df-2629bc48-bd07-42a7-a201-15d3a601f8e8 button');\n",
              "      quickchartButtonEl.style.display =\n",
              "        google.colab.kernel.accessAllowed ? 'block' : 'none';\n",
              "    })();\n",
              "  </script>\n",
              "</div>\n",
              "\n",
              "    </div>\n",
              "  </div>\n"
            ],
            "application/vnd.google.colaboratory.intrinsic+json": {
              "type": "dataframe",
              "variable_name": "data",
              "summary": "{\n  \"name\": \"data\",\n  \"rows\": 100,\n  \"fields\": [\n    {\n      \"column\": \"DMV_Test_1\",\n      \"properties\": {\n        \"dtype\": \"number\",\n        \"std\": 19.458222275425072,\n        \"min\": 30.05882244669796,\n        \"max\": 99.82785779692128,\n        \"num_unique_values\": 100,\n        \"samples\": [\n          57.23870631569862,\n          34.52451385320009,\n          32.72283304060323\n        ],\n        \"semantic_type\": \"\",\n        \"description\": \"\"\n      }\n    },\n    {\n      \"column\": \"DMV_Test_2\",\n      \"properties\": {\n        \"dtype\": \"number\",\n        \"std\": 18.582783039307344,\n        \"min\": 30.60326323428011,\n        \"max\": 98.86943574220612,\n        \"num_unique_values\": 100,\n        \"samples\": [\n          59.51428198012956,\n          60.39634245837173,\n          43.30717306430063\n        ],\n        \"semantic_type\": \"\",\n        \"description\": \"\"\n      }\n    },\n    {\n      \"column\": \"Results\",\n      \"properties\": {\n        \"dtype\": \"number\",\n        \"std\": 0,\n        \"min\": 0,\n        \"max\": 1,\n        \"num_unique_values\": 2,\n        \"samples\": [\n          1,\n          0\n        ],\n        \"semantic_type\": \"\",\n        \"description\": \"\"\n      }\n    }\n  ]\n}"
            }
          },
          "metadata": {},
          "execution_count": 7
        }
      ]
    },
    {
      "cell_type": "code",
      "metadata": {
        "id": "WHNSw-jEv_-v",
        "colab": {
          "base_uri": "https://localhost:8080/"
        },
        "outputId": "cc942335-2f64-4de3-ba8b-0fe65a4aa17c"
      },
      "source": [
        "data.info()"
      ],
      "execution_count": 8,
      "outputs": [
        {
          "output_type": "stream",
          "name": "stdout",
          "text": [
            "<class 'pandas.core.frame.DataFrame'>\n",
            "RangeIndex: 100 entries, 0 to 99\n",
            "Data columns (total 3 columns):\n",
            " #   Column      Non-Null Count  Dtype  \n",
            "---  ------      --------------  -----  \n",
            " 0   DMV_Test_1  100 non-null    float64\n",
            " 1   DMV_Test_2  100 non-null    float64\n",
            " 2   Results     100 non-null    int64  \n",
            "dtypes: float64(2), int64(1)\n",
            "memory usage: 2.5 KB\n"
          ]
        }
      ]
    },
    {
      "cell_type": "code",
      "metadata": {
        "id": "kAKbXQGQv_-0"
      },
      "source": [
        "scores = data[['DMV_Test_1', 'DMV_Test_2']].values\n",
        "results = data['Results'].values"
      ],
      "execution_count": 9,
      "outputs": []
    },
    {
      "cell_type": "markdown",
      "metadata": {
        "id": "A6seGivEv_-5"
      },
      "source": [
        "### Visualizar Datos Originales"
      ]
    },
    {
      "cell_type": "code",
      "metadata": {
        "id": "ft3Xdbkwv_-6",
        "colab": {
          "base_uri": "https://localhost:8080/",
          "height": 700
        },
        "outputId": "8e3bf09a-e67f-4f29-8a19-882fe3ac1fea"
      },
      "source": [
        "passed = (results == 1).reshape(100, 1)\n",
        "failed = (results == 0).reshape(100, 1)\n",
        "\n",
        "ax = sns.scatterplot(x = scores[passed[:, 0], 0],\n",
        "                     y = scores[passed[:, 0], 1],\n",
        "                     marker = \"^\",\n",
        "                     color = \"green\",\n",
        "                     s = 60)\n",
        "sns.scatterplot(x = scores[failed[:, 0], 0],\n",
        "                y = scores[failed[:, 0], 1],\n",
        "                marker = \"X\",\n",
        "                color = \"red\",\n",
        "                s = 60)\n",
        "\n",
        "ax.set(xlabel=\"DMV Written Test 1 Scores\", ylabel=\"DMV Written Test 2 Scores\")\n",
        "ax.legend([\"Passed\", \"Failed\"])\n",
        "plt.show();"
      ],
      "execution_count": 10,
      "outputs": [
        {
          "output_type": "display_data",
          "data": {
            "text/plain": [
              "<Figure size 1200x800 with 1 Axes>"
            ],
            "image/png": "[encoded data removed]"
          },
          "metadata": {}
        }
      ]
    },
    {
      "cell_type": "markdown",
      "metadata": {
        "id": "kRSvpHJbv_--"
      },
      "source": [
        "### Definimos de la función logística $\\sigma(z)$\n",
        "\n",
        "$$ \\sigma(z) = \\frac{1}{1+e^{-z}}$$"
      ]
    },
    {
      "cell_type": "markdown",
      "source": [
        "Podemos definir nuestra   hipótesis como sigue, $h(X) = g(X \\theta)$\n",
        "donde:\n",
        "- $\\theta$ es el vector de coeficientes\n",
        "- $X$ es el vector de todas las observaciones al cual le añadimos una columna de 1 para calcular el primer valor del vector $\\theta$.\n",
        "\n",
        "$h(X)$  nos da la probabilidad de que nuestra salida sea 1, lo que significa:\n",
        "- Si $ X \\theta \\geqslant 0 $, entonces $h(X) \\geqslant 0.5$, entonces la predicción es $y = 1$\n",
        "- Si $ X \\theta < 0 $, entonces $h(X) < 0.5$, entonces la predicción es $y = 0$"
      ],
      "metadata": {
        "id": "UVhPQj31HcIo"
      }
    },
    {
      "cell_type": "markdown",
      "metadata": {
        "id": "_rUWBmqov__I"
      },
      "source": [
        "### Cálculo de la Función de Coste  $J(\\theta)$ y el Gradiente"
      ]
    },
    {
      "cell_type": "markdown",
      "metadata": {
        "id": "fqQysVC-v__J"
      },
      "source": [
        "En la regresión Logística debemos minimizar la función de coste\n",
        "\n",
        "$$J(\\theta) = -\\frac{1}{m} \\sum_{i=1}^{m} [ y^{(i)}log(h_{\\theta}(x^{(i)})) + (1 - y^{(i)})log(1 - (h_{\\theta}(x^{(i)}))]$$\n",
        "\n",
        "Siendo el gradiente de esta función de coste:\n",
        "\n",
        "$$ \\frac{\\partial J(\\theta)}{\\partial \\theta_j} = \\frac{1}{m} \\sum_{i=1}^{m} (h_{\\theta}(x^{(i)}) - y^{(i)})x_j^{(i)}$$\n",
        "\n",
        "Podemos observar que la expresión es de la misma forma que la utilizada eb la regresión lineal, que en forma vectorial se puede escribir de la forma:\n",
        "\n",
        "<img width=\"250\" height=\"100\" src=\"data:image/png;base64,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\"/>"
      ]
    },
    {
      "cell_type": "markdown",
      "metadata": {
        "id": "XcEtsz-1v__T"
      },
      "source": [
        "### Gradiente Descendente"
      ]
    },
    {
      "cell_type": "markdown",
      "metadata": {
        "id": "12L_QCYQv__U"
      },
      "source": [
        "Minimizamos la función de coste $J(\\theta)$  actualizando la siguiente ecuación (algoritmo del gradiente descendente) repitiendo hasta convergencia :  \n",
        "$\\theta_j := \\theta_j - \\alpha \\frac{\\partial J(\\theta)}{\\partial \\theta_j}$    \n",
        " (actualizar simultaneamente $\\theta_j$ para todo $j$)"
      ]
    },
    {
      "cell_type": "code",
      "metadata": {
        "id": "7QT1Pqwwv_-_"
      },
      "source": [
        "def logistic_function(x):\n",
        "    return 1/ (1 + np.exp(-x))"
      ],
      "execution_count": 11,
      "outputs": []
    },
    {
      "cell_type": "code",
      "metadata": {
        "id": "Oiwj3rYzv__D",
        "colab": {
          "base_uri": "https://localhost:8080/"
        },
        "outputId": "521ceea3-3132-41f9-c2ec-745d511e4719"
      },
      "source": [
        "# ompeobación\n",
        "logistic_function(0)"
      ],
      "execution_count": 16,
      "outputs": [
        {
          "output_type": "execute_result",
          "data": {
            "text/plain": [
              "0.5"
            ]
          },
          "metadata": {},
          "execution_count": 16
        }
      ]
    },
    {
      "cell_type": "code",
      "metadata": {
        "id": "8MdUPocAv__K"
      },
      "source": [
        "def compute_cost(theta, x, y):\n",
        "    m = len(y)\n",
        "    y_pred = logistic_function(np.dot(x , theta))\n",
        "    error = (y * np.log(y_pred)) + ((1 - y) * np.log(1 - y_pred))\n",
        "    cost = -1 / m * sum(error)\n",
        "    return cost"
      ],
      "execution_count": 17,
      "outputs": []
    }
  ]
}