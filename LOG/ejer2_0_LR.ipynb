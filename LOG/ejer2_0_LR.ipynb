{
  "cells": [
    {
      "cell_type": "markdown",
      "metadata": {
        "id": "view-in-github",
        "colab_type": "text"
      },
      "source": [
        "<a href=\"https://colab.research.google.com/github/gachet/ad-1-24/blob/main/LOG/ejer2_0_LR.ipynb\" target=\"_parent\"><img src=\"https://colab.research.google.com/assets/colab-badge.svg\" alt=\"Open In Colab\"/></a>"
      ]
    },
    {
      "cell_type": "markdown",
      "metadata": {
        "id": "SMq-PfnANXP2"
      },
      "source": [
        "# Regresión Logística con gradiente descendente"
      ]
    },
    {
      "cell_type": "markdown",
      "metadata": {
        "id": "m8OO5IEGNXP4"
      },
      "source": [
        " La regresión logística es un algoritmo de clasificación de aprendizaje supervisado, lo que significa que puede estimar la clase de nuevas observaciones en función de observaciones etiquetadas."
      ]
    },
    {
      "cell_type": "code",
      "execution_count": 2,
      "metadata": {
        "id": "whWg0x8GNXP5"
      },
      "outputs": [],
      "source": [
        "import numpy as np\n",
        "import matplotlib.pyplot as plt\n",
        "from sklearn.linear_model import LogisticRegression\n",
        "from sklearn.datasets import make_classification\n",
        "%matplotlib inline"
      ]
    },
    {
      "cell_type": "markdown",
      "metadata": {
        "id": "KVQvqgLCNXP6"
      },
      "source": [
        "## Conjunto de datos"
      ]
    },
    {
      "cell_type": "markdown",
      "metadata": {
        "id": "ZvrmqVaYNXP6"
      },
      "source": [
        "supongamos 10 observaciones y dos características y dos clases (clasificación binaria)."
      ]
    },
    {
      "cell_type": "code",
      "execution_count": 3,
      "metadata": {
        "id": "PPknnK_wNXP7",
        "outputId": "6cf72e19-fe96-4e8a-e74c-52757df65cb3",
        "colab": {
          "base_uri": "https://localhost:8080/"
        }
      },
      "outputs": [
        {
          "output_type": "stream",
          "name": "stdout",
          "text": [
            "[[-0.64185521  0.78535215]\n",
            " [ 0.10972634  1.83671408]\n",
            " [-1.07362634  2.591487  ]\n",
            " [-1.38222372  0.85340843]\n",
            " [ 1.78689446  2.3841826 ]\n",
            " [ 0.94785273  3.53015683]\n",
            " [ 1.08876018  1.35925144]\n",
            " [ 0.42774158  3.54015499]\n",
            " [-0.88398194 -0.57876171]\n",
            " [-1.59347411  1.2168913 ]]\n",
            "[1 0 1 1 0 0 0 0 1 1]\n"
          ]
        }
      ],
      "source": [
        "X, y = make_classification(\n",
        "        n_samples=10,\n",
        "        n_features=2,\n",
        "        n_redundant=0,\n",
        "        n_informative=2,\n",
        "        random_state=1,\n",
        "        n_clusters_per_class=1)\n",
        "print(X)\n",
        "print(y)"
      ]
    },
    {
      "cell_type": "code",
      "execution_count": 4,
      "metadata": {
        "id": "em-gDxyJNXP8",
        "outputId": "5cf3ac22-18a4-4b95-d755-e103ceca635a",
        "colab": {
          "base_uri": "https://localhost:8080/",
          "height": 469
        }
      },
      "outputs": [
        {
          "output_type": "execute_result",
          "data": {
            "text/plain": [
              "Text(0, 0.5, '$X_2$')"
            ]
          },
          "metadata": {},
          "execution_count": 4
        },
        {
          "output_type": "display_data",
          "data": {
            "text/plain": [
              "<Figure size 640x480 with 1 Axes>"
            ],
            "image/png": "[encoded data removed]"
          },
          "metadata": {}
        }
      ],
      "source": [
        "plt.scatter(X[:, 0], X[:, 1], c=y.ravel(), s=40, cmap=plt.cm.Spectral)\n",
        "plt.xlabel(\"$X_1$\")\n",
        "plt.ylabel(\"$X_2$\")\n",
        "# blue dots = 1, red dots = 0"
      ]
    },
    {
      "cell_type": "markdown",
      "metadata": {
        "id": "7tpX08nONXP8"
      },
      "source": [
        "Tenemos 10 observaciones $X$ con dos características, el vector $\\theta$ tendrá tres elementos contando el intercept y conocemos también el vector objetivo (etiqueta) $y$. Podemos predecir el valor (prob) de una nueva observación??"
      ]
    },
    {
      "cell_type": "markdown",
      "metadata": {
        "id": "molMZEOaNXP8"
      },
      "source": [
        "## Regresión Logística"
      ]
    },
    {
      "cell_type": "markdown",
      "metadata": {
        "id": "pFf26DPMNXP9"
      },
      "source": [
        "Intentamos modelar la probabilidad de que una observación pertenezca a una categoría particular.\n",
        "Para generar estas probabilidades, la regresión logística utiliza la función **sigmoide**. Esta función asigna un número real a valores entre 0 y 1.\n",
        "\\begin{equation}\n",
        "g(z) = \\frac{1}{1+e^{-z}}\n",
        "\\end{equation}"
      ]
    },
    {
      "cell_type": "markdown",
      "metadata": {
        "id": "Ciu8JLKWNXP9"
      },
      "source": [
        "Podemos definir nuestra   hipótesis como sigue, $h(X) = g(X \\theta)$\n",
        "donde:\n",
        "- $\\theta$ es el vector de coeficientes\n",
        "- $X$ es el vector de todas las observaciones al cual le añadimos una columna de 1 para calcular el primer valor del vector $\\theta$.\n",
        "\n",
        "$h(X)$  nos da la probabilidad de que nuestra salida sea 1, lo que significa:\n",
        "- Si $ X \\theta \\geqslant 0 $, entonces $h(X) \\geqslant 0.5$, entonces la predicción es $y = 1$\n",
        "- Si $ X \\theta < 0 $, entonces $h(X) < 0.5$, entonces la predicción es $y = 0$"
      ]
    },
    {
      "cell_type": "markdown",
      "source": [
        "Ponemos nuestra columna de 1 al inicio de las caractrerísticas\n"
      ],
      "metadata": {
        "id": "tg0PK0M89_uG"
      }
    },
    {
      "cell_type": "code",
      "source": [
        "\n",
        "def add_ones(X):\n",
        "    intercept = np.ones((X.shape[0], 1))\n",
        "    return np.concatenate((intercept, X), axis=1)"
      ],
      "metadata": {
        "id": "yJQuKgmB9z8L"
      },
      "execution_count": 9,
      "outputs": []
    },
    {
      "cell_type": "code",
      "source": [
        "#función sigmoid\n",
        "def sigmoid(z):\n",
        "    return 1 / (1 + np.exp(-z))"
      ],
      "metadata": {
        "id": "aOnCcydcbBG9"
      },
      "execution_count": 10,
      "outputs": []
    },
    {
      "cell_type": "code",
      "source": [
        "#xálculo de la hypòtesis\n",
        "def calc_h(X, theta):\n",
        "    z = np.dot(X, theta)\n",
        "    h = sigmoid(z)\n",
        "    return h"
      ],
      "metadata": {
        "id": "-tF3AWcibEQU"
      },
      "execution_count": 20,
      "outputs": []
    },
    {
      "cell_type": "code",
      "source": [
        "XX = add_ones(X)\n",
        "theta = np.zeros(XX.shape[1])\n",
        "h = calc_h(XX, theta)"
      ],
      "metadata": {
        "id": "9VTup_BMbEql"
      },
      "execution_count": 21,
      "outputs": []
    },
    {
      "cell_type": "code",
      "execution_count": 22,
      "metadata": {
        "id": "CPsBOs-_NXP-",
        "outputId": "9864ff43-8f93-466c-8812-580ed85225e4",
        "colab": {
          "base_uri": "https://localhost:8080/"
        }
      },
      "outputs": [
        {
          "output_type": "stream",
          "name": "stdout",
          "text": [
            "[[ 1.         -0.64185521  0.78535215]\n",
            " [ 1.          0.10972634  1.83671408]\n",
            " [ 1.         -1.07362634  2.591487  ]\n",
            " [ 1.         -1.38222372  0.85340843]\n",
            " [ 1.          1.78689446  2.3841826 ]\n",
            " [ 1.          0.94785273  3.53015683]\n",
            " [ 1.          1.08876018  1.35925144]\n",
            " [ 1.          0.42774158  3.54015499]\n",
            " [ 1.         -0.88398194 -0.57876171]\n",
            " [ 1.         -1.59347411  1.2168913 ]]\n",
            "[0. 0. 0.]\n",
            "[0.5 0.5 0.5 0.5 0.5 0.5 0.5 0.5 0.5 0.5]\n"
          ]
        }
      ],
      "source": [
        "print(XX)\n",
        "print(theta)\n",
        "print(h)"
      ]
    },
    {
      "cell_type": "markdown",
      "metadata": {
        "id": "zPexb0m4NXP-"
      },
      "source": [
        "# Función de pérdida"
      ]
    },
    {
      "cell_type": "markdown",
      "metadata": {
        "id": "yOA7UQi5NXP-"
      },
      "source": [
        "Como se vió en clase para la regresión logística se define como,\n",
        "\\begin{equation}\n",
        "J(\\theta) = \\frac{1}{m}(-y \\log(h) - (1 - y) \\log(1 - h))\n",
        "\\end{equation}\n",
        "siendo $m$ es el número de observaciones.\n",
        "\n",
        "Esta función penañiza las observaciones mal clasificadas, por ejemplo:  \n",
        "- si $y=0$ y $h\\rightarrow 1$, entonces $J(\\theta)\\rightarrow ∞$  (penalización fuerte)\n",
        "- si $y=0$ y $h\\rightarrow 0$, entonces $J(\\theta)\\rightarrow 0$  (penalización débil)\n",
        "- si $y=1$ y $h\\rightarrow 0$, entonces $J(\\theta)\\rightarrow ∞$  (penalización fuerte)\n",
        "- si $y=1$ y $h\\rightarrow 1$, entonces $J(\\theta)\\rightarrow 0$  (penalización débil)"
      ]
    },
    {
      "cell_type": "code",
      "execution_count": 23,
      "metadata": {
        "id": "LA7pffiGNXP_",
        "outputId": "be16a99f-4f5e-4d47-ff82-ee285f3fd297",
        "colab": {
          "base_uri": "https://localhost:8080/"
        }
      },
      "outputs": [
        {
          "output_type": "stream",
          "name": "stdout",
          "text": [
            "0.6931471805599453\n"
          ]
        }
      ],
      "source": [
        "cost = (-y * np.log(h) - (1 - y) * np.log(1 - h)).mean()\n",
        "print(cost)"
      ]
    },
    {
      "cell_type": "markdown",
      "metadata": {
        "id": "8_a6JX6FNXP_"
      },
      "source": [
        "## Gradiente descendente"
      ]
    },
    {
      "cell_type": "markdown",
      "metadata": {
        "id": "KG5VIreHNXP_"
      },
      "source": [
        "Para poder hacer una predicción adecuada, necesitamos minimizar la función de pérdida $J(\\theta)$ y encontrar los valores del vector de coeficientes  $\\theta$ que hacen mínima esta función. Para ello tenemos que calcular las derivadas de la función de pérdida respecto de cada coeficiente  $\\theta$. Este \"gradiente\" cómo varía la función de pérdida al cambiar los coeficientes. Este procedimiento se denomina  *Gradiente Descendente*.\n",
        "\\begin{equation}\n",
        "\\theta_j := \\theta_j - \\alpha \\frac{\\partial J(\\theta)}{\\partial \\theta_j}\n",
        "\\end{equation}\n",
        "Siendo $\\alpha$ es la tasa de aprendizaje.\n",
        "\n",
        "Se puede demostrar que\n",
        "\\begin{equation}\n",
        "\\frac{\\partial J(\\theta)}{\\partial \\theta_j} = \\frac{1}{m} X^T (h - y)\n",
        "\\end{equation}"
      ]
    },
    {
      "cell_type": "code",
      "execution_count": 24,
      "metadata": {
        "id": "3_ZmcCy7NXQA"
      },
      "outputs": [],
      "source": [
        "m = y.size\n",
        "alpha = 0.01\n",
        "\n",
        "gradient = np.dot(XX.T, (h - y)) / m\n",
        "theta = theta - alpha * gradient\n"
      ]
    },
    {
      "cell_type": "code",
      "source": [
        "print(gradient)"
      ],
      "metadata": {
        "colab": {
          "base_uri": "https://localhost:8080/"
        },
        "id": "C9pduutKfv_k",
        "outputId": "88d5c70b-c833-4491-b655-c94722d7ae23"
      },
      "execution_count": 25,
      "outputs": [
        {
          "output_type": "stream",
          "name": "stdout",
          "text": [
            "[0.         0.49680683 0.38910414]\n"
          ]
        }
      ]
    },
    {
      "cell_type": "code",
      "source": [
        "print(theta)"
      ],
      "metadata": {
        "colab": {
          "base_uri": "https://localhost:8080/"
        },
        "id": "q6XZTvlwfz-t",
        "outputId": "05e5c5d8-1fb7-4bbf-8344-f1d8532a946d"
      },
      "execution_count": 26,
      "outputs": [
        {
          "output_type": "stream",
          "name": "stdout",
          "text": [
            "[ 0.         -0.00496807 -0.00389104]\n"
          ]
        }
      ]
    },
    {
      "cell_type": "markdown",
      "metadata": {
        "id": "wXa7Ur28NXQA"
      },
      "source": [
        "## Entrenamiento del modelo"
      ]
    },
    {
      "cell_type": "markdown",
      "metadata": {
        "id": "kRQ3ImbnNXQA"
      },
      "source": [
        "a fin de encontrar los coeficientes del modelo, es decir los elementos del vector $\\theta$, debemos proceder a realizar el gradiente descendente de forma iterativa"
      ]
    },
    {
      "cell_type": "code",
      "execution_count": 28,
      "metadata": {
        "id": "FcWtgSTcNXQA",
        "outputId": "6d8cc008-1c59-4695-c1de-062acf804288",
        "colab": {
          "base_uri": "https://localhost:8080/"
        }
      },
      "outputs": [
        {
          "output_type": "stream",
          "name": "stdout",
          "text": [
            "Cost: 0.057021197492913\n",
            "Cost: 0.022670034594313958\n",
            "Cost: 0.014586799781943643\n",
            "Cost: 0.010800580833121942\n",
            "Cost: 0.008585805998247872\n",
            "Cost: 0.007128292118614267\n",
            "Cost: 0.0060951770262227655\n",
            "Cost: 0.00532422022992774\n",
            "Cost: 0.004726688964519781\n",
            "Cost: 0.004249897289681944\n",
            "Cost: 0.00386056508162295\n",
            "Cost: 0.0035366268508171574\n",
            "Cost: 0.0032628705193235375\n",
            "Cost: 0.0030284662273604673\n",
            "Cost: 0.002825493250257099\n",
            "Cost: 0.0026480240659474043\n",
            "Cost: 0.002491534166299732\n",
            "Cost: 0.0023525099516066867\n",
            "Cost: 0.0022281812201854325\n",
            "Cost: 0.002116334368080663\n",
            "Convergencia Alcanzada ! 196116  iteraciones\n",
            "Adjusted coefficient: [ 0.6671577  -9.83351445 -2.26794714]\n"
          ]
        }
      ],
      "source": [
        "import  math\n",
        "num_iter = 300000\n",
        "epsilon = 10e-9\n",
        "J_vals = []\n",
        "prev = math.inf\n",
        "for i in range(num_iter):\n",
        "    h = calc_h(XX, theta)\n",
        "    cost = (-y * np.log(h) - (1 - y) * np.log(1 - h)).mean()\n",
        "    J_vals.append(cost)\n",
        "    if(abs( J_vals[i]- prev) < epsilon) :\n",
        "            print(\"Convergencia Alcanzada !\", i ,\" iteraciones\")\n",
        "            break\n",
        "    prev = J_vals[i]\n",
        "    gradient = np.dot(XX.T, (h - y)) / m\n",
        "    theta -= alpha * gradient\n",
        "    if i % 10000 == 0:\n",
        "        print('Cost: {}'.format(cost))\n",
        "\n",
        "print('Adjusted coefficient: {}'.format(theta))"
      ]
    },
    {
      "cell_type": "markdown",
      "metadata": {
        "id": "LNynrREuNXQB"
      },
      "source": [
        "## Variación de la función de pérdida"
      ]
    },
    {
      "cell_type": "code",
      "execution_count": 30,
      "metadata": {
        "id": "WfWWbaWINXQB",
        "outputId": "a8603573-e948-40a7-8e1e-89250c6b3924",
        "colab": {
          "base_uri": "https://localhost:8080/",
          "height": 447
        }
      },
      "outputs": [
        {
          "output_type": "execute_result",
          "data": {
            "text/plain": [
              "[<matplotlib.lines.Line2D at 0x7c238afdfa90>]"
            ]
          },
          "metadata": {},
          "execution_count": 30
        },
        {
          "output_type": "display_data",
          "data": {
            "text/plain": [
              "<Figure size 640x480 with 1 Axes>"
            ],
            "image/png": "[encoded data removed]"
          },
          "metadata": {}
        }
      ],
      "source": [
        "plt.plot(range(len(J_vals)), J_vals)"
      ]
    },
    {
      "cell_type": "markdown",
      "metadata": {
        "id": "BEjCjKYINXQB"
      },
      "source": [
        "Como esperábamos la función de pçerdoda decrece."
      ]
    },
    {
      "cell_type": "markdown",
      "metadata": {
        "id": "REAYi3F-NXQB"
      },
      "source": [
        "## Realizando predicciones"
      ]
    },
    {
      "cell_type": "markdown",
      "metadata": {
        "id": "hrt8NSbFNXQB"
      },
      "source": [
        "Calculemos las predicciones, es decir la probabilidad para cada observación."
      ]
    },
    {
      "cell_type": "code",
      "execution_count": 31,
      "metadata": {
        "id": "AWDIUr1sNXQC",
        "outputId": "7559a4c2-845a-45b8-99e7-83a56111c8dc",
        "colab": {
          "base_uri": "https://localhost:8080/"
        }
      },
      "outputs": [
        {
          "output_type": "stream",
          "name": "stdout",
          "text": [
            "[9.94501209e-01 1.01768745e-02 9.95261677e-01 9.99995555e-01\n",
            " 2.04287070e-10 5.81770463e-08 2.00093961e-06 9.46472211e-06\n",
            " 9.99976825e-01 9.99998730e-01]\n"
          ]
        }
      ],
      "source": [
        "preds_prob = calc_h(XX, theta)\n",
        "print(preds_prob)"
      ]
    },
    {
      "cell_type": "markdown",
      "metadata": {
        "id": "tk3RKNx2NXQC"
      },
      "source": [
        "El límite de decisión para la sigmoide es 0.5 con lo que podemos redondear las probabilidades para asignar la clase de cada observación."
      ]
    },
    {
      "cell_type": "code",
      "execution_count": 32,
      "metadata": {
        "id": "9KzqJAvjNXQC",
        "outputId": "c2271b83-18cc-4460-e728-3d731dec57f0",
        "colab": {
          "base_uri": "https://localhost:8080/"
        }
      },
      "outputs": [
        {
          "output_type": "stream",
          "name": "stdout",
          "text": [
            "[1. 0. 1. 1. 0. 0. 0. 0. 1. 1.]\n"
          ]
        }
      ],
      "source": [
        "preds = preds_prob.round()\n",
        "print(preds)"
      ]
    },
    {
      "cell_type": "markdown",
      "metadata": {
        "id": "Hacj9Ft1NXQD"
      },
      "source": [
        "Calculemos la medida de la precisión para estos datos de entreamiento."
      ]
    },
    {
      "cell_type": "code",
      "execution_count": 33,
      "metadata": {
        "id": "yALSqK0pNXQD",
        "outputId": "e0573cc3-583c-4b94-c3fc-32d566f65796",
        "colab": {
          "base_uri": "https://localhost:8080/"
        }
      },
      "outputs": [
        {
          "output_type": "stream",
          "name": "stdout",
          "text": [
            "Score Numpy: 1.0\n"
          ]
        }
      ],
      "source": [
        "score_numpy = (preds == y).mean()\n",
        "print('Score Numpy: {}'.format(score_numpy))"
      ]
    },
    {
      "cell_type": "markdown",
      "metadata": {
        "id": "Dd8BJYD3NXQD"
      },
      "source": [
        "No es muy informativo ya que hemos entrebado y probado con los mismos datos y los mismos valores objetivos $y$. Veams que sucede con una nueva onservación."
      ]
    },
    {
      "cell_type": "code",
      "execution_count": 35,
      "metadata": {
        "id": "c089pTFTNXQD",
        "colab": {
          "base_uri": "https://localhost:8080/"
        },
        "outputId": "aec0577a-d6cb-4ad4-b90f-8a1a753e78f8"
      },
      "outputs": [
        {
          "output_type": "stream",
          "name": "stdout",
          "text": [
            "[ 1.  -0.8  0.8]\n",
            "predicción para la salida de la nueva observación:  1.0\n"
          ]
        }
      ],
      "source": [
        "new_x = np.array([1, -0.8, 0.8])   # nuevo dato (-0.8, 0.8)  le adicionamos 1\n",
        "print(new_x)\n",
        "preds_prob_new_x = calc_h(new_x, theta).round()\n",
        "print(\"predicción para la salida de la nueva observación: \", preds_prob_new_x)"
      ]
    },
    {
      "cell_type": "markdown",
      "metadata": {
        "id": "cvWzGC8NNXQE"
      },
      "source": [
        "## Recta de decisión"
      ]
    },
    {
      "cell_type": "code",
      "source": [
        "theta"
      ],
      "metadata": {
        "id": "jp9t0eK-djWY",
        "outputId": "41de784f-bd80-499b-eec8-2a443e49854c",
        "colab": {
          "base_uri": "https://localhost:8080/"
        }
      },
      "execution_count": 38,
      "outputs": [
        {
          "output_type": "execute_result",
          "data": {
            "text/plain": [
              "array([ 0.6671577 , -9.83351445, -2.26794714])"
            ]
          },
          "metadata": {},
          "execution_count": 38
        }
      ]
    },
    {
      "cell_type": "code",
      "source": [
        "plt.scatter(X[:, 0], X[:, 1], c=y.ravel(), s=40, cmap=plt.cm.Spectral)\n",
        "plt.xlabel(\"$X_1$\")\n",
        "plt.ylabel(\"$X_2$\")\n",
        "\n",
        "x_values = [np.min(X[:, 0] ), np.max(X[:, 1] )]\n",
        "y_values = - (theta[0] + np.dot(theta[1], x_values)) / theta[2]\n",
        "\n",
        "plt.plot(x_values, y_values, label='Decision Boundary')\n"
      ],
      "metadata": {
        "id": "nbZiByNoddOs",
        "outputId": "916d3246-34b8-4c0b-9600-3a6b80a44026",
        "colab": {
          "base_uri": "https://localhost:8080/",
          "height": 469
        }
      },
      "execution_count": 54,
      "outputs": [
        {
          "output_type": "execute_result",
          "data": {
            "text/plain": [
              "[<matplotlib.lines.Line2D at 0x7c23836df6d0>]"
            ]
          },
          "metadata": {},
          "execution_count": 54
        },
        {
          "output_type": "display_data",
          "data": {
            "text/plain": [
              "<Figure size 640x480 with 1 Axes>"
            ],
            "image/png": "[encoded data removed]"
          },
          "metadata": {}
        }
      ]
    },
    {
      "cell_type": "code",
      "source": [
        "x_values = [np.min(X[:, 0] ), np.max(X[:, 1] )]\n",
        "y_values = - (theta[0] + np.dot(theta[1], x_values)) / theta[2]\n",
        "plt.scatter(X[:, 0], X[:, 1], c=y.ravel(), s=40, cmap=plt.cm.Spectral)\n",
        "plt.plot(x_values, y_values, label='Decision Boundary')\n",
        "plt.xlabel('Marks in 1st Exam')\n",
        "plt.ylabel('Marks in 2nd Exam')\n",
        "plt.legend()\n",
        "plt.show()"
      ],
      "metadata": {
        "id": "K7FXJSK8p7pC",
        "outputId": "d90b609c-9f26-43d8-8aa7-39797be06c74",
        "colab": {
          "base_uri": "https://localhost:8080/",
          "height": 449
        }
      },
      "execution_count": 48,
      "outputs": [
        {
          "output_type": "display_data",
          "data": {
            "text/plain": [
              "<Figure size 640x480 with 1 Axes>"
            ],
            "image/png": "[encoded data removed]"
          },
          "metadata": {}
        }
      ]
    },
    {
      "cell_type": "markdown",
      "metadata": {
        "id": "e3PzJiv9NXQE"
      },
      "source": [
        "## Sklearn implementation"
      ]
    },
    {
      "cell_type": "markdown",
      "metadata": {
        "id": "ASS56fqqNXQF"
      },
      "source": [
        "Of course, logistic regression is already implemented in Scikit-learn."
      ]
    },
    {
      "cell_type": "code",
      "source": [
        "from sklearn import metrics\n",
        "from sklearn.linear_model import LogisticRegression"
      ],
      "metadata": {
        "id": "cFcf9WWcjcgD"
      },
      "execution_count": null,
      "outputs": []
    },
    {
      "cell_type": "code",
      "source": [
        "X"
      ],
      "metadata": {
        "id": "1GOrCEu-l87n",
        "colab": {
          "base_uri": "https://localhost:8080/"
        },
        "outputId": "36923db5-1d1e-46ea-9a31-5f943b9abf71"
      },
      "execution_count": null,
      "outputs": [
        {
          "output_type": "execute_result",
          "data": {
            "text/plain": [
              "array([[-0.64185521,  0.78535215],\n",
              "       [ 0.10972634,  1.83671408],\n",
              "       [-1.07362634,  2.591487  ],\n",
              "       [-1.38222372,  0.85340843],\n",
              "       [ 1.78689446,  2.3841826 ],\n",
              "       [ 0.94785273,  3.53015683],\n",
              "       [ 1.08876018,  1.35925144],\n",
              "       [ 0.42774158,  3.54015499],\n",
              "       [-0.88398194, -0.57876171],\n",
              "       [-1.59347411,  1.2168913 ]])"
            ]
          },
          "metadata": {},
          "execution_count": 21
        }
      ]
    },
    {
      "cell_type": "code",
      "execution_count": null,
      "metadata": {
        "id": "kZFIj_jMNXQF",
        "outputId": "d008b8ba-440f-4e20-9f3c-68eb1081d8bd",
        "colab": {
          "base_uri": "https://localhost:8080/"
        }
      },
      "outputs": [
        {
          "output_type": "stream",
          "name": "stdout",
          "text": [
            "Score Sklearn: 1.0\n",
            "[0.27561212] [[-14.70501451  -3.00497196]]\n",
            "Confusion matrix : [[5 0]\n",
            " [0 5]]\n"
          ]
        }
      ],
      "source": [
        "model = LogisticRegression(penalty=None,max_iter=30000)\n",
        "model.fit(X, y)\n",
        "preds = model.predict(X)\n",
        "\n",
        "score_sklearn = (preds == y).mean()\n",
        "print('Score Sklearn: {}'.format(score_sklearn))\n",
        "print(model.intercept_, model.coef_)\n",
        "print (\"Confusion matrix :\",metrics.confusion_matrix(y, model.predict(X)))"
      ]
    },
    {
      "cell_type": "code",
      "execution_count": null,
      "metadata": {
        "id": "yNGDqTeONXQJ",
        "colab": {
          "base_uri": "https://localhost:8080/"
        },
        "outputId": "1ee971dd-9d04-416d-aeec-e8ecf7054fb0"
      },
      "outputs": [
        {
          "output_type": "execute_result",
          "data": {
            "text/plain": [
              "array([1])"
            ]
          },
          "metadata": {},
          "execution_count": 27
        }
      ],
      "source": [
        "new_x = np.array([-0.8, 0.8])\n",
        "new_x = new_x.reshape(1, -1)\n",
        "preds = model.predict(new_x)\n",
        "preds"
      ]
    }
  ],
  "metadata": {
    "kernelspec": {
      "display_name": "Python 3",
      "language": "python",
      "name": "python3"
    },
    "language_info": {
      "codemirror_mode": {
        "name": "ipython",
        "version": 3
      },
      "file_extension": ".py",
      "mimetype": "text/x-python",
      "name": "python",
      "nbconvert_exporter": "python",
      "pygments_lexer": "ipython3",
      "version": "3.6.8"
    },
    "colab": {
      "provenance": [],
      "include_colab_link": true
    }
  },
  "nbformat": 4,
  "nbformat_minor": 0
}