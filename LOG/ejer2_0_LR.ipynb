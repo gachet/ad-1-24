{
  "cells": [
    {
      "cell_type": "markdown",
      "metadata": {
        "id": "view-in-github",
        "colab_type": "text"
      },
      "source": [
        "<a href=\"https://colab.research.google.com/github/gachet/ad-1-24/blob/main/LOG/ejer2_0_LR.ipynb\" target=\"_parent\"><img src=\"https://colab.research.google.com/assets/colab-badge.svg\" alt=\"Open In Colab\"/></a>"
      ]
    },
    {
      "cell_type": "markdown",
      "metadata": {
        "id": "SMq-PfnANXP2"
      },
      "source": [
        "# Regresión Logística con gradiente descendente"
      ]
    },
    {
      "cell_type": "markdown",
      "metadata": {
        "id": "m8OO5IEGNXP4"
      },
      "source": [
        " La regresión logística es un algoritmo de clasificación de aprendizaje supervisado, lo que significa que puede estimar la clase de nuevas observaciones en función de observaciones etiquetadas."
      ]
    },
    {
      "cell_type": "code",
      "execution_count": null,
      "metadata": {
        "id": "whWg0x8GNXP5"
      },
      "outputs": [],
      "source": [
        "import numpy as np\n",
        "import matplotlib.pyplot as plt\n",
        "from sklearn.linear_model import LogisticRegression\n",
        "from sklearn.datasets import make_classification\n",
        "import seaborn as sbn\n",
        "%matplotlib inline"
      ]
    },
    {
      "cell_type": "markdown",
      "metadata": {
        "id": "KVQvqgLCNXP6"
      },
      "source": [
        "## Conjunto de datos (sintéticos)"
      ]
    },
    {
      "cell_type": "markdown",
      "metadata": {
        "id": "ZvrmqVaYNXP6"
      },
      "source": [
        "supongamos 10 observaciones y dos características y dos clases (clasificación binaria)."
      ]
    },
    {
      "cell_type": "code",
      "execution_count": null,
      "metadata": {
        "id": "PPknnK_wNXP7",
        "outputId": "6849e6a6-75e0-440a-a0a6-49f5fd83e1d6",
        "colab": {
          "base_uri": "https://localhost:8080/"
        }
      },
      "outputs": [
        {
          "output_type": "stream",
          "name": "stdout",
          "text": [
            "[[-0.64185521  0.78535215]\n",
            " [ 0.10972634  1.83671408]\n",
            " [-1.07362634  2.591487  ]\n",
            " [-1.38222372  0.85340843]\n",
            " [ 1.78689446  2.3841826 ]\n",
            " [ 0.94785273  3.53015683]\n",
            " [ 1.08876018  1.35925144]\n",
            " [ 0.42774158  3.54015499]\n",
            " [-0.88398194 -0.57876171]\n",
            " [-1.59347411  1.2168913 ]]\n",
            "[1 0 1 1 0 0 0 0 1 1]\n"
          ]
        }
      ],
      "source": [
        "X, y = make_classification(\n",
        "        n_samples=10,\n",
        "        n_features=2,\n",
        "        n_redundant=0,\n",
        "        n_informative=2,\n",
        "        random_state=1,\n",
        "        n_clusters_per_class=1)\n",
        "print(X)\n",
        "print(y)"
      ]
    },
    {
      "cell_type": "code",
      "execution_count": null,
      "metadata": {
        "id": "em-gDxyJNXP8",
        "outputId": "f5165211-bfa7-4ca5-fbef-4228428301c5",
        "colab": {
          "base_uri": "https://localhost:8080/",
          "height": 469
        }
      },
      "outputs": [
        {
          "output_type": "execute_result",
          "data": {
            "text/plain": [
              "Text(0, 0.5, '$X_2$')"
            ]
          },
          "metadata": {},
          "execution_count": 5
        },
        {
          "output_type": "display_data",
          "data": {
            "text/plain": [
              "<Figure size 640x480 with 1 Axes>"
            ],
            "image/png": "[encoded data removed]"
          },
          "metadata": {}
        }
      ],
      "source": [
        "plt.scatter(X[:, 0], X[:, 1], c=y.ravel(), s=40, cmap=plt.cm.Spectral)\n",
        "plt.xlabel(\"$X_1$\")\n",
        "plt.ylabel(\"$X_2$\")\n",
        "# blue dots = 1, red dots = 0"
      ]
    },
    {
      "cell_type": "markdown",
      "metadata": {
        "id": "7tpX08nONXP8"
      },
      "source": [
        "Tenemos 10 observaciones $X$ con dos características, el vector $\\theta$ tendrá tres elementos contando el intercept y conocemos también el vector objetivo (etiqueta) $y$. Podemos predecir el valor (prob) de una nueva observación??"
      ]
    },
    {
      "cell_type": "markdown",
      "metadata": {
        "id": "molMZEOaNXP8"
      },
      "source": [
        "## Regresión Logística"
      ]
    },
    {
      "cell_type": "markdown",
      "metadata": {
        "id": "pFf26DPMNXP9"
      },
      "source": [
        "Intentamos modelar la probabilidad de que una observación pertenezca a una categoría particular.\n",
        "Para generar estas probabilidades, la regresión logística utiliza la función **sigmoide**. Esta función asigna un número real a valores entre 0 y 1.\n",
        "\\begin{equation}\n",
        "g(z) = \\frac{1}{1+e^{-z}}\n",
        "\\end{equation}"
      ]
    },
    {
      "cell_type": "markdown",
      "metadata": {
        "id": "Ciu8JLKWNXP9"
      },
      "source": [
        "Podemos definir nuestra   hipótesis como sigue, $h(X) = g(X \\theta)$\n",
        "donde:\n",
        "- $\\theta$ es el vector de coeficientes\n",
        "- $X$ es el vector de todas las observaciones al cual le añadimos una columna de 1 para calcular el primer valor del vector $\\theta$.\n",
        "\n",
        "$h(X)$  nos da la probabilidad de que nuestra salida sea 1, lo que significa:\n",
        "- Si $ X \\theta \\geqslant 0 $, entonces $h(X) \\geqslant 0.5$, entonces la predicción es $y = 1$\n",
        "- Si $ X \\theta < 0 $, entonces $h(X) < 0.5$, entonces la predicción es $y = 0$"
      ]
    },
    {
      "cell_type": "markdown",
      "source": [
        "Ponemos nuestra columna de 1 al inicio de las caractrerísticas\n"
      ],
      "metadata": {
        "id": "tg0PK0M89_uG"
      }
    },
    {
      "cell_type": "markdown",
      "source": [
        "Plotting the decision boundary\n",
        "As there are two features in our dataset, the linear equation can be represented by,\n",
        "\n",
        "<img width=\"200\" height=\"20\" src=\"data:image/png;base64, UklGRvAGAABXRUJQVlA4WAoAAAAIAAAA7AAAGAAAVlA4IBAGAABQIQCdASrtABkAPm0ylEgkIqIhJFgLEIANiWkAFeG/0Ts+/rX40dbl4oeYPwz8Erz78qPV/+W8AF+N/zL+9b0+AD8o/rv9p/MLywv1X0K+of+W+yX5K/yT/Ffl36oHgDfLf7z+oHwAfyH+Q/6D+4/jl8Lf9z/jvN3+Zf3j/Tf3H4Bv5R/Qf8z/b/73+0Hfe/cD2QP09BAqRlUBm5ePqydaYK5+yNJlNikJxCBOu+s9HfV5Q4/J3bu9sqLajyXcHBcHnzZtIjbFWcrJKnke8MZURURBpelzoQ+7e8WfT9gRYziFCGKr3XsXtn2iAtKH/a5LA7WwP9XSGyNtLi9QH6zTYbjAg2pdQNbBeSSUPFp742pAAAD+Rv8iGaP5J8lwWuMwlbS3WfPxXshKrftiyyc28ZHpSYru1Nhi24+oxE7zTjV7HJtEePjMggFR5zESe+uzSVKDmD8lKSaADPoJuc2m9QbUSOtDheCSEf0FNApijs5D2CEgkUtx0pt6Ld4wFQ1U2pcJJ/YoeAPALEOB+PWP10a4SXqposDfzR0zMZSAdagDVUOFcjdG+jG/5kurs7WyFuLh9gbe4yrndLbaCY+tSU63uByDdCQlziAMiMHqz/LBEJEU4IpMwTAel7mXAc5VU01TWXVXFEayeoT9oK8+m6u6gWqcp+KwHa09BH3EuUYUY3Xr+j9h88wzp+ug4nbYRe4wlXjtQi2evCB+8o8ifrX6kve0woU1UAjqc/F3KcYZAY2TGUoPCl9HyUIJDL2xGvZfU4IgHckEYXC74xmYBLMtvIOn3E3pnjaobcelY/RDVeXLiJFRFODk2su3f+xfXi/Dfk9VNxKrCsofxgC7nHA7M+PhTZFYjEVl/1BWyttaNdOT0d+jly0wHpoFR4YbbBwa/y/5lUnLPwPo9Kj8mETO/6xf91ybTlnwSP6EELYyqTdOKc38MZtzwR6EDj8vSkYb93GvltKcDNnOHz+M9yUuyqrMPVZ7mH0/pG/o/smHeNIBfUmx4RiVoUXX3TS2S8goD80bWB8bRusi8W+BwA0nH/lxQ8Qmm9rZ1uvuyzQuEZ7proxS4GnUGrhDR3Cfu2f46/mbA7e8Bgp86+DDCnhXu8euqqGCR8Jm64tLA8UybtOJt2gHIj8XdJjYeUKvkahNfFOoXWtKGTmMoF7sZKczWTKNSPo9Sisl79Z8CEknLcGLMb1ZqzQ6oT0502BLVTzg0aHQvEyfEDh5yI5m6oGDpTrJ2eK9cQodx9Lg/KJQljWrlFUBZMpphjiL3M6Ew0UJ7R3kTurbxP7k3inZeaM7//zMTOp8SxFCnl0H7IknrTTMTt84blFgWQEjzX03VMCvu39P3dJM4vEsJ0O2cSG58k6i2NL79mvQ4+DMxToWfhiZkFANi3zXyDxY9JwvAmgwmc3D36FX5kL10SPIQXwSpTXNNYcyKxgW/qoNpk66o1KHUnM7YoMvC94DnN6FMDUTc4LIStv8OGIb4wV30L1SHPlN1dgHtIInTZOVtykIBfEl8kD6rZSdjbsF5Guk7ZTB/jYcdZ1v43+gIya947CQgJQWKsLtHwsR9dpu/yuSEi9PIJSzMVLVGLrFP+9FHquxC6Q8CaAQUG/8H9sJChioUKPVj5PAm70NSyxD9gRMPSHD+W2AHdzrx8H+bGfr92IHg0djegYdU2paQyfRKgl+0339Gm3tcv01B3fhlyW3m3Cswe/5+IsfIpOFQOs1qarpF1ZXDJXJrdsg8btvK0ifg4wR7To5YlEM+mNbOrIHLk9aDlf8aHWIEa1pbfzPpWIoyHzji52it2eT0KBd2iebaGiwc83ryu/Ve5MbfuntArKVO7qd9Gm4ctuBL/6yOPJCwgPIE+KhDJBn55oyYTIFzjN2kYyGyHg/yB35OuyhkHniOQDVtWlxGRo7wPbW9sCHu5HwV3mbwrwdCKlL4EjlNkBBm0rE+GKXre4dSoglfA+Jhv8Ort8lX6P+i+XuHBoUH71GqRI2Ohf+mGs69RkrK7axYulGn0agNcmgOFcJbTWwzlB6aKZF/ym+xtovRomG/MkP1fjxON2cAAAARVhJRroAAABFeGlmAABJSSoACAAAAAYAEgEDAAEAAAABAAAAGgEFAAEAAABWAAAAGwEFAAEAAABeAAAAKAEDAAEAAAACAAAAEwIDAAEAAAABAAAAaYcEAAEAAABmAAAAAAAAAEgAAAABAAAASAAAAAEAAAAGAACQBwAEAAAAMDIxMAGRBwAEAAAAAQIDAACgBwAEAAAAMDEwMAGgAwABAAAA//8AAAKgBAABAAAA7QAAAAOgBAABAAAAGQAAAAAAAAA=\"/>  \n",
        "As discussed earlier, the decision boundary can be found by setting the weighted sum of inputs to 0. Equating h(x) to 0 gives us,  \n",
        "<img width=\"100\" height=\"40\" src=\"data:image/png;base64,UklGRrwFAABXRUJQVlA4WAoAAAAIAAAApgAANQAAVlA4INwEAADwGwCdASqnADYAPm0ylEekIyIhJdQMOIANiWkAFtJ9Oe13++9Dz6RfveI76p/Yfy3/KTUa/4/evOX/z3/Vd53/FehXeK/mv+C4wagB/Hv6j/rP75+Q/xEf7X+N84/5X/hP+x/kPxQ+wf+Qf0j/YfcH37PQ4/WE5EA1knNfoxf8/XDncs0xdYP26Q+wT6X9dLfeRLo7GabY3GufSewzDHm4k0X/DIA7MH4CtUG7vlvEG0t6wbH+N5X0MsaaPR+DeVCRueTFqigdyIisdl/9ImeEqFHPU8asUQI7NK8K22Bibf8695Ag7H8AAP78qBnKcXRyAS2O5Cw6fuZODD0CFtJU17LbTgsSZsbBMQi0clR3kU+i9+Rv//AqRwaAubuMKr+DrqDX9sOel0wM0WlTbm/7oIdHwst6fkAX0YGuicopkDDvELJ/rjr4U1Bs0mAcajz7sOsCbfxjjH9320qqw03MSXsAri8628sjP0J5g5ojYfzheSRN/3/J69zZyrZmrSJpsudfjWhqI2EFYZPG68jwgiGnxensW2aJPSIs8GHoELaRf3dvUtzCaetP1vRwWJM2NgmIRUZ2kj3pkfcsTsv//h9Z75VV8YA6bSq8QnJmv1o8Boxmrm5AA7t7amXBtP2L6J6eOh9KfFahVB7NzWzfSu64JAYTvOTN/vx0l9BvOGgn5hpf/AS3/hQWUXGvOD5qUMeU9W3PsylLUK7kjIKOyIq6vNsdOh9qvjt8lUZk47YUDx9rWbFtC4uypqj00Cc2DbYr9LQbCXqSDg7ffrZ67kv7qmNg89dpK4tqs3Qg6HzQ4jQPoz/ahD8cZH7rH7IiR5CysODdH9FLo3yMCtLrqMq0oL3O1jbi84+hXeHy9LmzX4SvwFmaK+45eHbaZHcEwR67PBvoiDcSMBIXK1Sku/ZOtw9W4E8QFkQpdZCkJ/xprcnbv7EhzxiaYNYNGT2FW/4huBwuJ+xfIQpc2SNkzUqbDlxxK8/4Xcca3P/6aRnMMluf4l3g/ex/rQ+wF/GJyl9WsQchJGmIKBh//z+ePJ4EFe81P3Ra1sfI/kFtD0N/OxR/L6MXi5eQ0l9+6MPjkBTkNw8/qqMoC2Iq/AjbhH3C3f+AD6+U/p3oPfNVwQL1gaDPi0eB+v0/WdRlbggGbSDGfpC0T1wBTluq43v/ctNjwFthj67jkyyS1ofwC2V0PBaXXhVgl9gx/DAm40g19CLDa8RDwf5RFO6ji9pt4lS1OrvLAK1jjPV8tZ1IFgu00vXl5lLuPb5dKsb1BdJWiCHjFNVQ1umoaoEloAsNTVqDf3s5PBcAccrjejw1uZRHzYIYP0Xj65ZrxI/29fA2KNuwydCx6pACGqXnP+2mjBKTjc09e50CRGMo7eY9EBsTB5EfluWmW66PnW2i/48MWVVoye5Wq/Y0AXM5BUqo15EshFLOQ76wV7Jz/yJIkH1cx4uNsYPH9pqUAf2mYI0r0Y+irYazeW0A/9hmQX4QwQs3jTSOayYRP+Y4riaoRp8lw8tGWLhjmxhiX74dcUoW4z4uuE6vPwFVRnXSZ2WoU4Ah9QMVJCF3RBr8MurYGt8ii6RpHxphiuxUmRhs6yXdkvli49OfXfox75rv/8LA3gSCviI6++ruTILfiYoNqKgOL8gJmdt6QAAAAEVYSUa6AAAARXhpZgAASUkqAAgAAAAGABIBAwABAAAAAQAAABoBBQABAAAAVgAAABsBBQABAAAAXgAAACgBAwABAAAAAgAAABMCAwABAAAAAQAAAGmHBAABAAAAZgAAAAAAAABIAAAAAQAAAEgAAAABAAAABgAAkAcABAAAADAyMTABkQcABAAAAAECAwAAoAcABAAAADAxMDABoAMAAQAAAP//AAACoAQAAQAAAKcAAAADoAQAAQAAADYAAAAAAAAA\"/>\n"
      ],
      "metadata": {
        "id": "SMBIVHvoHjyk"
      }
    },
    {
      "cell_type": "markdown",
      "source": [],
      "metadata": {
        "id": "Bn2YLyTzHjpU"
      }
    },
    {
      "cell_type": "markdown",
      "source": [],
      "metadata": {
        "id": "IdqaLlvCHje1"
      }
    },
    {
      "cell_type": "markdown",
      "source": [],
      "metadata": {
        "id": "81M1eEYIHjIu"
      }
    },
    {
      "cell_type": "code",
      "source": [
        "\n",
        "def add_ones(X):\n",
        "    intercept = np.ones((X.shape[0], 1))\n",
        "    return np.concatenate((intercept, X), axis=1)"
      ],
      "metadata": {
        "id": "yJQuKgmB9z8L"
      },
      "execution_count": null,
      "outputs": []
    },
    {
      "cell_type": "code",
      "source": [
        "#función sigmoid\n",
        "def sigmoid(z):\n",
        "    return 1 / (1 + np.exp(-z))"
      ],
      "metadata": {
        "id": "aOnCcydcbBG9"
      },
      "execution_count": null,
      "outputs": []
    },
    {
      "cell_type": "code",
      "source": [
        "#xálculo de la hypòtesis\n",
        "def calc_h(X, theta):\n",
        "    z = np.dot(X, theta)\n",
        "    h = sigmoid(z)\n",
        "    return h"
      ],
      "metadata": {
        "id": "-tF3AWcibEQU"
      },
      "execution_count": null,
      "outputs": []
    },
    {
      "cell_type": "code",
      "source": [
        "XX = add_ones(X)\n",
        "theta = np.zeros(XX.shape[1])\n",
        "h = calc_h(XX, theta)"
      ],
      "metadata": {
        "id": "9VTup_BMbEql"
      },
      "execution_count": null,
      "outputs": []
    },
    {
      "cell_type": "code",
      "execution_count": null,
      "metadata": {
        "id": "CPsBOs-_NXP-",
        "outputId": "9dde4bce-6ae1-427a-84a1-8c8591fd34a6",
        "colab": {
          "base_uri": "https://localhost:8080/"
        }
      },
      "outputs": [
        {
          "output_type": "stream",
          "name": "stdout",
          "text": [
            "[[ 1.         -0.64185521  0.78535215]\n",
            " [ 1.          0.10972634  1.83671408]\n",
            " [ 1.         -1.07362634  2.591487  ]\n",
            " [ 1.         -1.38222372  0.85340843]\n",
            " [ 1.          1.78689446  2.3841826 ]\n",
            " [ 1.          0.94785273  3.53015683]\n",
            " [ 1.          1.08876018  1.35925144]\n",
            " [ 1.          0.42774158  3.54015499]\n",
            " [ 1.         -0.88398194 -0.57876171]\n",
            " [ 1.         -1.59347411  1.2168913 ]]\n",
            "[0. 0. 0.]\n",
            "[0.5 0.5 0.5 0.5 0.5 0.5 0.5 0.5 0.5 0.5]\n"
          ]
        }
      ],
      "source": [
        "print(XX)\n",
        "print(theta)\n",
        "print(h)"
      ]
    },
    {
      "cell_type": "markdown",
      "metadata": {
        "id": "zPexb0m4NXP-"
      },
      "source": [
        "# Función de Coste"
      ]
    },
    {
      "cell_type": "markdown",
      "metadata": {
        "id": "yOA7UQi5NXP-"
      },
      "source": [
        "Como se vió en clase para la regresión logística se define como,\n",
        "\\begin{equation}\n",
        "J(\\theta) = \\frac{1}{m}(-y \\log(h) - (1 - y) \\log(1 - h))\n",
        "\\end{equation}\n",
        "siendo $m$ es el número de observaciones.\n",
        "\n",
        "Esta función penañiza las observaciones mal clasificadas, por ejemplo:  \n",
        "- si $y=0$ y $h\\rightarrow 1$, entonces $J(\\theta)\\rightarrow ∞$  (penalización fuerte)\n",
        "- si $y=0$ y $h\\rightarrow 0$, entonces $J(\\theta)\\rightarrow 0$  (penalización débil)\n",
        "- si $y=1$ y $h\\rightarrow 0$, entonces $J(\\theta)\\rightarrow ∞$  (penalización fuerte)\n",
        "- si $y=1$ y $h\\rightarrow 1$, entonces $J(\\theta)\\rightarrow 0$  (penalización débil)"
      ]
    },
    {
      "cell_type": "code",
      "execution_count": null,
      "metadata": {
        "id": "LA7pffiGNXP_",
        "outputId": "ae0f2c2c-c897-410a-e174-58402f99192f",
        "colab": {
          "base_uri": "https://localhost:8080/"
        }
      },
      "outputs": [
        {
          "output_type": "stream",
          "name": "stdout",
          "text": [
            "0.0020532776926143743\n"
          ]
        }
      ],
      "source": [
        "cost = (-y * np.log(h) - (1 - y) * np.log(1 - h)).mean()\n",
        "print(cost)"
      ]
    },
    {
      "cell_type": "markdown",
      "metadata": {
        "id": "8_a6JX6FNXP_"
      },
      "source": [
        "## Gradiente descendente"
      ]
    },
    {
      "cell_type": "markdown",
      "metadata": {
        "id": "KG5VIreHNXP_"
      },
      "source": [
        "Para poder hacer una predicción adecuada, necesitamos minimizar la función de pérdida $J(\\theta)$ y encontrar los valores del vector de coeficientes  $\\theta$ que hacen mínima esta función. Para ello tenemos que calcular las derivadas de la función de coste respecto de cada coeficiente  $\\theta$.  Este procedimiento se denomina  *Gradiente Descendente*.\n",
        "\\begin{equation}\n",
        "\\theta_j := \\theta_j - \\alpha \\frac{\\partial J(\\theta)}{\\partial \\theta_j}\n",
        "\\end{equation}\n",
        "Siendo $\\alpha$ es la tasa de aprendizaje.\n",
        "\n",
        "Se puede demostrar que\n",
        "\\begin{equation}\n",
        "\\frac{\\partial J(\\theta)}{\\partial \\theta_j} = \\frac{1}{m} X^T (h - y)\n",
        "\\end{equation}"
      ]
    },
    {
      "cell_type": "code",
      "execution_count": null,
      "metadata": {
        "id": "3_ZmcCy7NXQA"
      },
      "outputs": [],
      "source": [
        "m = y.size\n",
        "alpha = 0.01\n",
        "theta = np.zeros(XX.shape[1])\n"
      ]
    },
    {
      "cell_type": "code",
      "source": [
        "print(theta)"
      ],
      "metadata": {
        "colab": {
          "base_uri": "https://localhost:8080/"
        },
        "id": "q6XZTvlwfz-t",
        "outputId": "72b31409-8fc6-4912-c84f-7e7670ba52e4"
      },
      "execution_count": null,
      "outputs": [
        {
          "output_type": "stream",
          "name": "stdout",
          "text": [
            "[0. 0. 0.]\n"
          ]
        }
      ]
    },
    {
      "cell_type": "markdown",
      "metadata": {
        "id": "wXa7Ur28NXQA"
      },
      "source": [
        "## Entrenamiento del modelo"
      ]
    },
    {
      "cell_type": "markdown",
      "metadata": {
        "id": "kRQ3ImbnNXQA"
      },
      "source": [
        "a fin de encontrar los coeficientes del modelo, es decir los elementos del vector $\\theta$, debemos proceder a realizar el gradiente descendente de forma iterativa"
      ]
    },
    {
      "cell_type": "code",
      "execution_count": null,
      "metadata": {
        "id": "FcWtgSTcNXQA",
        "outputId": "6a372949-a58c-4d2a-ce65-d6ebe36e9608",
        "colab": {
          "base_uri": "https://localhost:8080/"
        }
      },
      "outputs": [
        {
          "output_type": "stream",
          "name": "stdout",
          "text": [
            "iteracion  0 coste  0.6931471805599453\n",
            "iteracion  20000 coste  0.016869055503776965\n",
            "iteracion  40000 coste  0.009315820714618188\n",
            "iteracion  60000 coste  0.0064528709248223345\n",
            "iteracion  80000 coste  0.004938723667775568\n",
            "iteracion  100000 coste  0.00400078405098816\n",
            "iteracion  120000 coste  0.0033624486205240654\n",
            "iteracion  140000 coste  0.002899851796632355\n",
            "iteracion  160000 coste  0.0025491718231981796\n",
            "iteracion  180000 coste  0.0022741652026607028\n",
            "Convergencia Alcanzada ! 199942  iteraciones\n",
            "Adjusted coefficient: [ 0.6671577  -9.83351445 -2.26794714]\n"
          ]
        }
      ],
      "source": [
        "import  math\n",
        "num_iter = 600000\n",
        "epsilon = 10e-9\n",
        "J_vals = []\n",
        "prev = math.inf\n",
        "for i in range(num_iter):\n",
        "    h = calc_h(XX, theta)\n",
        "    cost = (-y * np.log(h) - (1 - y) * np.log(1 - h)).mean()\n",
        "    J_vals.append(cost)\n",
        "    if(abs( J_vals[i]- prev) < epsilon) :\n",
        "            print(\"Convergencia Alcanzada !\", i ,\" iteraciones\")\n",
        "            break\n",
        "    prev = J_vals[i]\n",
        "    gradient = np.dot(XX.T, (h - y)) / m\n",
        "    theta -= alpha * gradient\n",
        "    if i % 20000 == 0:\n",
        "        print('iteracion ',i,'coste ', cost)\n",
        "\n",
        "print('Adjusted coefficient: {}'.format(theta))"
      ]
    },
    {
      "cell_type": "markdown",
      "metadata": {
        "id": "LNynrREuNXQB"
      },
      "source": [
        "## Variación de la función de pérdida"
      ]
    },
    {
      "cell_type": "code",
      "execution_count": null,
      "metadata": {
        "id": "WfWWbaWINXQB",
        "outputId": "32ebdc68-dc18-45ac-8c03-57a2c44d4214",
        "colab": {
          "base_uri": "https://localhost:8080/",
          "height": 447
        }
      },
      "outputs": [
        {
          "output_type": "execute_result",
          "data": {
            "text/plain": [
              "[<matplotlib.lines.Line2D at 0x7b896d5d9a50>]"
            ]
          },
          "metadata": {},
          "execution_count": 27
        },
        {
          "output_type": "display_data",
          "data": {
            "text/plain": [
              "<Figure size 640x480 with 1 Axes>"
            ],
            "image/png": "[encoded data removed]"
          },
          "metadata": {}
        }
      ],
      "source": [
        "plt.plot(range(len(J_vals)), J_vals)"
      ]
    },
    {
      "cell_type": "markdown",
      "metadata": {
        "id": "BEjCjKYINXQB"
      },
      "source": [
        "Como esperábamos la función de pçerdoda decrece."
      ]
    },
    {
      "cell_type": "markdown",
      "metadata": {
        "id": "REAYi3F-NXQB"
      },
      "source": [
        "## Realizando predicciones"
      ]
    },
    {
      "cell_type": "markdown",
      "metadata": {
        "id": "hrt8NSbFNXQB"
      },
      "source": [
        "Calculemos las predicciones, es decir la probabilidad para cada observación."
      ]
    },
    {
      "cell_type": "code",
      "execution_count": null,
      "metadata": {
        "id": "AWDIUr1sNXQC",
        "outputId": "897d9567-e0e2-4822-8eac-24115385fd37",
        "colab": {
          "base_uri": "https://localhost:8080/"
        }
      },
      "outputs": [
        {
          "output_type": "stream",
          "name": "stdout",
          "text": [
            "[9.94501209e-01 1.01768745e-02 9.95261677e-01 9.99995555e-01\n",
            " 2.04287070e-10 5.81770463e-08 2.00093961e-06 9.46472211e-06\n",
            " 9.99976825e-01 9.99998730e-01]\n"
          ]
        }
      ],
      "source": [
        "preds_prob = calc_h(XX, theta)\n",
        "print(preds_prob)"
      ]
    },
    {
      "cell_type": "markdown",
      "metadata": {
        "id": "tk3RKNx2NXQC"
      },
      "source": [
        "El límite de decisión para la sigmoide es 0.5 con lo que podemos redondear las probabilidades para asignar la clase de cada observación."
      ]
    },
    {
      "cell_type": "code",
      "execution_count": null,
      "metadata": {
        "id": "9KzqJAvjNXQC",
        "outputId": "761a2994-9fbd-4a27-8f87-3e6ad6a8a763",
        "colab": {
          "base_uri": "https://localhost:8080/"
        }
      },
      "outputs": [
        {
          "output_type": "stream",
          "name": "stdout",
          "text": [
            "[1. 0. 1. 1. 0. 0. 0. 0. 1. 1.]\n"
          ]
        }
      ],
      "source": [
        "preds = preds_prob.round()\n",
        "print(preds)"
      ]
    },
    {
      "cell_type": "markdown",
      "metadata": {
        "id": "Hacj9Ft1NXQD"
      },
      "source": [
        "Calculemos la medida de la precisión para estos datos de entreamiento."
      ]
    },
    {
      "cell_type": "code",
      "execution_count": null,
      "metadata": {
        "id": "yALSqK0pNXQD",
        "outputId": "b6409a29-9cbd-43b6-d999-9930bdfa3a91",
        "colab": {
          "base_uri": "https://localhost:8080/"
        }
      },
      "outputs": [
        {
          "output_type": "stream",
          "name": "stdout",
          "text": [
            "Score Numpy: 1.0\n"
          ]
        }
      ],
      "source": [
        "score_numpy = (preds == y).mean()\n",
        "print('Score Numpy: {}'.format(score_numpy))"
      ]
    },
    {
      "cell_type": "markdown",
      "metadata": {
        "id": "Dd8BJYD3NXQD"
      },
      "source": [
        "No es muy informativo ya que hemos entrebado y probado con los mismos datos y los mismos valores objetivos $y$. Veams que sucede con una nueva onservación."
      ]
    },
    {
      "cell_type": "code",
      "execution_count": null,
      "metadata": {
        "id": "c089pTFTNXQD",
        "colab": {
          "base_uri": "https://localhost:8080/"
        },
        "outputId": "66e0ceeb-4414-4cb0-fe0f-8121ce9fc5de"
      },
      "outputs": [
        {
          "output_type": "stream",
          "name": "stdout",
          "text": [
            "[ 1.  -0.8  0.8]\n",
            "predicción para la salida de la nueva observación:  1.0\n"
          ]
        }
      ],
      "source": [
        "new_x = np.array([1, -0.8, 0.8])   # nuevo dato (-0.8, 0.8)  le adicionamos 1\n",
        "print(new_x)\n",
        "preds_prob_new_x = calc_h(new_x, theta).round()\n",
        "print(\"predicción para la salida de la nueva observación: \", preds_prob_new_x)"
      ]
    },
    {
      "cell_type": "markdown",
      "metadata": {
        "id": "cvWzGC8NNXQE"
      },
      "source": [
        "## Recta de decisión"
      ]
    },
    {
      "cell_type": "markdown",
      "source": [
        "Plotting the decision boundary\n",
        "As there are two features in our dataset, the linear equation can be represented by,\n",
        "\n",
        "\n",
        "As discussed earlier, the decision boundary can be found by setting the weighted sum of inputs to 0. Equating h(x) to 0 gives us,"
      ],
      "metadata": {
        "id": "tUCgXyKFa1Eg"
      }
    },
    {
      "cell_type": "code",
      "source": [
        "theta"
      ],
      "metadata": {
        "id": "jp9t0eK-djWY",
        "outputId": "41de784f-bd80-499b-eec8-2a443e49854c",
        "colab": {
          "base_uri": "https://localhost:8080/"
        }
      },
      "execution_count": null,
      "outputs": [
        {
          "output_type": "execute_result",
          "data": {
            "text/plain": [
              "array([ 0.6671577 , -9.83351445, -2.26794714])"
            ]
          },
          "metadata": {},
          "execution_count": 38
        }
      ]
    },
    {
      "cell_type": "code",
      "source": [
        "sbn.scatterplot(x = 'exam 1', y = 'exam 2', hue = 'admitted', data =data)\n",
        "decision_boundary = -(w[0] + (w[1]/100)*data['exam 1'])/(w[2]/100)\n",
        "plt.plot(data['exam 1'], decision_boundary)"
      ],
      "metadata": {
        "id": "2UGhj8kHSAla"
      },
      "execution_count": null,
      "outputs": []
    },
    {
      "cell_type": "code",
      "source": [
        "sbn.scatterplot(x = X[:, 0], y=X[:, 1], hue = y)\n",
        "decision_boundary = -(theta[0] + theta[1]*X[:, 0])/theta[2]\n",
        "plt.plot(X[:, 0], decision_boundary)"
      ],
      "metadata": {
        "colab": {
          "base_uri": "https://localhost:8080/",
          "height": 447
        },
        "id": "Z7MKdCy0PoSP",
        "outputId": "d3d5a3ef-f195-4134-fb3c-67e8ccbc26f6"
      },
      "execution_count": null,
      "outputs": [
        {
          "output_type": "execute_result",
          "data": {
            "text/plain": [
              "[<matplotlib.lines.Line2D at 0x7b896d646410>]"
            ]
          },
          "metadata": {},
          "execution_count": 55
        },
        {
          "output_type": "display_data",
          "data": {
            "text/plain": [
              "<Figure size 640x480 with 1 Axes>"
            ],
            "image/png": "[encoded data removed]"
          },
          "metadata": {}
        }
      ]
    },
    {
      "cell_type": "code",
      "source": [
        "plt.scatter(X[:, 0], X[:, 1], c=y.ravel(), s=40, cmap=plt.cm.Spectral)\n",
        "plt.xlabel(\"$X_1$\")\n",
        "plt.ylabel(\"$X_2$\")\n",
        "\n",
        "x_values = [np.min(X[:, 0] ), np.max(X[:, 1] )]\n",
        "y_values = - (theta[0] + np.dot(theta[1], x_values)) / theta[2]\n",
        "\n",
        "plt.plot(x_values, y_values, label='Decision Boundary')\n"
      ],
      "metadata": {
        "id": "nbZiByNoddOs",
        "outputId": "56f778db-c0f8-4b47-dc9d-423b7408412c",
        "colab": {
          "base_uri": "https://localhost:8080/",
          "height": 469
        }
      },
      "execution_count": null,
      "outputs": [
        {
          "output_type": "execute_result",
          "data": {
            "text/plain": [
              "[<matplotlib.lines.Line2D at 0x7b89703d8ca0>]"
            ]
          },
          "metadata": {},
          "execution_count": 32
        },
        {
          "output_type": "display_data",
          "data": {
            "text/plain": [
              "<Figure size 640x480 with 1 Axes>"
            ],
            "image/png": "[encoded data removed]"
          },
          "metadata": {}
        }
      ]
    },
    {
      "cell_type": "code",
      "source": [
        "x_values = [np.min(X[:, 0] ), np.max(X[:, 1] )]\n",
        "y_values = - (theta[0] + np.dot(theta[1], x_values)) / theta[2]\n",
        "plt.scatter(X[:, 0], X[:, 1], c=y.ravel(), s=40, cmap=plt.cm.Spectral)\n",
        "plt.plot(x_values, y_values, label='Decision Boundary')\n",
        "plt.xlabel('Marks in 1st Exam')\n",
        "plt.ylabel('Marks in 2nd Exam')\n",
        "plt.legend()\n",
        "plt.show()"
      ],
      "metadata": {
        "id": "K7FXJSK8p7pC",
        "outputId": "bba08ad9-577f-454c-ef94-c5bd32f889bd",
        "colab": {
          "base_uri": "https://localhost:8080/",
          "height": 449
        }
      },
      "execution_count": null,
      "outputs": [
        {
          "output_type": "display_data",
          "data": {
            "text/plain": [
              "<Figure size 640x480 with 1 Axes>"
            ],
            "image/png": "[encoded data removed]"
          },
          "metadata": {}
        }
      ]
    },
    {
      "cell_type": "markdown",
      "metadata": {
        "id": "e3PzJiv9NXQE"
      },
      "source": [
        "## Sklearn implementation"
      ]
    },
    {
      "cell_type": "markdown",
      "metadata": {
        "id": "ASS56fqqNXQF"
      },
      "source": [
        "Of course, logistic regression is already implemented in Scikit-learn."
      ]
    },
    {
      "cell_type": "code",
      "source": [
        "from sklearn import metrics\n",
        "from sklearn.linear_model import LogisticRegression"
      ],
      "metadata": {
        "id": "cFcf9WWcjcgD"
      },
      "execution_count": null,
      "outputs": []
    },
    {
      "cell_type": "code",
      "source": [
        "X"
      ],
      "metadata": {
        "id": "1GOrCEu-l87n",
        "colab": {
          "base_uri": "https://localhost:8080/"
        },
        "outputId": "5cd9297b-9030-4a3a-a3d4-757599bc4b1f"
      },
      "execution_count": null,
      "outputs": [
        {
          "output_type": "execute_result",
          "data": {
            "text/plain": [
              "array([[-0.64185521,  0.78535215],\n",
              "       [ 0.10972634,  1.83671408],\n",
              "       [-1.07362634,  2.591487  ],\n",
              "       [-1.38222372,  0.85340843],\n",
              "       [ 1.78689446,  2.3841826 ],\n",
              "       [ 0.94785273,  3.53015683],\n",
              "       [ 1.08876018,  1.35925144],\n",
              "       [ 0.42774158,  3.54015499],\n",
              "       [-0.88398194, -0.57876171],\n",
              "       [-1.59347411,  1.2168913 ]])"
            ]
          },
          "metadata": {},
          "execution_count": 41
        }
      ]
    },
    {
      "cell_type": "code",
      "execution_count": null,
      "metadata": {
        "id": "kZFIj_jMNXQF",
        "outputId": "3aa936c5-b93e-491d-c2dc-93938899f1cc",
        "colab": {
          "base_uri": "https://localhost:8080/"
        }
      },
      "outputs": [
        {
          "output_type": "stream",
          "name": "stdout",
          "text": [
            "Score Sklearn: 1.0\n",
            "[0.8674912] [[-1.33248068 -0.61986477]]\n",
            "Confusion matrix : [[5 0]\n",
            " [0 5]]\n"
          ]
        }
      ],
      "source": [
        "model = LogisticRegression(max_iter=300000)\n",
        "model.fit(X, y)\n",
        "preds = model.predict(X)\n",
        "\n",
        "score_sklearn = (preds == y).mean()\n",
        "print('Score Sklearn: {}'.format(score_sklearn))\n",
        "print(model.intercept_, model.coef_)\n",
        "print (\"Confusion matrix :\",metrics.confusion_matrix(y, model.predict(X)))"
      ]
    },
    {
      "cell_type": "code",
      "execution_count": null,
      "metadata": {
        "id": "yNGDqTeONXQJ",
        "colab": {
          "base_uri": "https://localhost:8080/"
        },
        "outputId": "1ee971dd-9d04-416d-aeec-e8ecf7054fb0"
      },
      "outputs": [
        {
          "output_type": "execute_result",
          "data": {
            "text/plain": [
              "array([1])"
            ]
          },
          "metadata": {},
          "execution_count": 27
        }
      ],
      "source": [
        "new_x = np.array([-0.8, 0.8])\n",
        "new_x = new_x.reshape(1, -1)\n",
        "preds = model.predict(new_x)\n",
        "preds"
      ]
    }
  ],
  "metadata": {
    "kernelspec": {
      "display_name": "Python 3",
      "language": "python",
      "name": "python3"
    },
    "language_info": {
      "codemirror_mode": {
        "name": "ipython",
        "version": 3
      },
      "file_extension": ".py",
      "mimetype": "text/x-python",
      "name": "python",
      "nbconvert_exporter": "python",
      "pygments_lexer": "ipython3",
      "version": "3.6.8"
    },
    "colab": {
      "provenance": [],
      "include_colab_link": true
    }
  },
  "nbformat": 4,
  "nbformat_minor": 0
}