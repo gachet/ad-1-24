{
  "cells": [
    {
      "cell_type": "markdown",
      "metadata": {
        "id": "view-in-github",
        "colab_type": "text"
      },
      "source": [
        "<a href=\"https://colab.research.google.com/github/gachet/ad-1-24/blob/main/LOG/Ejer1_LR.ipynb\" target=\"_parent\"><img src=\"https://colab.research.google.com/assets/colab-badge.svg\" alt=\"Open In Colab\"/></a>"
      ]
    },
    {
      "cell_type": "markdown",
      "metadata": {
        "id": "JLe7Sd6Vv7y8"
      },
      "source": [
        "### Logistic Regression"
      ]
    },
    {
      "cell_type": "code",
      "execution_count": 1,
      "metadata": {
        "collapsed": true,
        "id": "TXPR_0-3v7y-"
      },
      "outputs": [],
      "source": [
        "import pandas as pd\n",
        "import numpy as np\n",
        "import matplotlib.pyplot as plt\n",
        "import scipy.stats as stats\n",
        "import statsmodels.api as sm\n",
        "\n",
        "# importing linear regression function\n",
        "import sklearn.linear_model as lm\n",
        "\n",
        "# function to calculate r-squared, MAE, RMSE\n",
        "from sklearn.metrics import r2_score , mean_absolute_error, mean_squared_error\n",
        "\n",
        "%matplotlib inline"
      ]
    },
    {
      "cell_type": "markdown",
      "metadata": {
        "id": "EJbSUnMjv7y_"
      },
      "source": [
        "### Lectura de datos\n"
      ]
    },
    {
      "cell_type": "code",
      "execution_count": 2,
      "metadata": {
        "scrolled": true,
        "id": "WZUzSo78v7zA",
        "outputId": "0018d2da-e2cd-4d32-d5ee-f59fe3aa9bcf",
        "colab": {
          "base_uri": "https://localhost:8080/"
        }
      },
      "outputs": [
        {
          "output_type": "stream",
          "name": "stdout",
          "text": [
            "   HorasEstudio  Aprueba\n",
            "0             2        0\n",
            "1             3        0\n",
            "2             4        0\n",
            "3             5        0\n",
            "4             6        1\n",
            "5             7        1\n",
            "6             8        1\n",
            "7             9        1\n",
            "8            10        1\n"
          ]
        }
      ],
      "source": [
        "# Load data\n",
        "df = pd.read_csv('https://drive.google.com/uc?id=1XiPaHHEQRZ5rGwtTalpfDRxpxRS7vgWW',names=['HorasEstudio','Aprueba'])\n",
        "\n",
        "print(df)"
      ]
    },
    {
      "cell_type": "markdown",
      "metadata": {
        "id": "aHshjMcOv7zA"
      },
      "source": [
        "### Regresión Lineal\n",
        "\n"
      ]
    },
    {
      "cell_type": "code",
      "execution_count": 6,
      "metadata": {
        "id": "Ismgt_fxv7zB",
        "outputId": "95752da4-b826-4be0-fe25-aa4dcbeb426d",
        "colab": {
          "base_uri": "https://localhost:8080/",
          "height": 559
        }
      },
      "outputs": [
        {
          "output_type": "stream",
          "name": "stdout",
          "text": [
            "[0.16666667]\n",
            "-0.4444444444444444\n",
            "R Squared :  0.7499999999999999\n",
            "Mean Absolute Error:  0.20987654320987661\n",
            "Root Mean Squared Error:  0.24845199749997668\n"
          ]
        },
        {
          "output_type": "display_data",
          "data": {
            "text/plain": [
              "<Figure size 640x480 with 1 Axes>"
            ],
            "image/png": "[encoded data removed]"
          },
          "metadata": {}
        }
      ],
      "source": [
        "x= df.HorasEstudio.values[:, np.newaxis] # independent variable\n",
        "y= df.Aprueba                      # dependent variable\n",
        "\n",
        "# Create linear regression object\n",
        "lr = lm.LinearRegression()\n",
        "\n",
        "# Train the model using the training sets\n",
        "lr.fit(x, y)\n",
        "\n",
        "# plotting fitted line\n",
        "plt.scatter(x, y,  color='black')\n",
        "plt.plot(x, lr.predict(x), color='blue', linewidth=3)\n",
        "plt.title('HorasEstudio vs Aprueba')\n",
        "plt.ylabel('Resultado')\n",
        "plt.xlabel('Horas de Estudio')\n",
        "\n",
        "# add predict value to the data frame\n",
        "df['Aprueba_Pred'] = lr.predict(x)\n",
        "print(lr.coef_)\n",
        "print(lr.intercept_)\n",
        "\n",
        "# Using built-in function\n",
        "print (\"R Squared : \", r2_score(df.Aprueba, df.Aprueba_Pred))\n",
        "print (\"Mean Absolute Error: \", mean_absolute_error(df.Aprueba, df.Aprueba_Pred))\n",
        "print (\"Root Mean Squared Error: \", np.sqrt(mean_squared_error(df.Aprueba, df.Aprueba_Pred)))"
      ]
    },
    {
      "cell_type": "markdown",
      "metadata": {
        "id": "TjYepW-hv7zB"
      },
      "source": [
        "### Regresión LOgística\n",
        "\n",
        "\n",
        "\n",
        "Utilizaremos el modelo con la función  logit o sigmoide:\n",
        "\n",
        "log(p / p(1 - p)) = mx + c\n",
        "\n",
        "p = 1 / 1 + e^-(mx + c)"
      ]
    },
    {
      "cell_type": "code",
      "execution_count": null,
      "metadata": {
        "id": "ufdp8tkvv7zB"
      },
      "outputs": [],
      "source": [
        "# plot sigmoid function\n",
        "x = np.linspace(-10, 10, 100)\n",
        "y = 1.0 / (1.0 + np.exp(-x))\n",
        "\n",
        "plt.plot(x, y, 'r-', label='logit')\n",
        "plt.legend(loc='lower right')"
      ]
    },
    {
      "cell_type": "markdown",
      "metadata": {
        "id": "hd18Gi5Uv7zC"
      },
      "source": [
        "La probabilidad de aprobar es  p = .66 y la de no es  f = 1 - p = .33\n",
        "\n"
      ]
    },
    {
      "cell_type": "code",
      "execution_count": null,
      "metadata": {
        "id": "222shTLyv7zC"
      },
      "outputs": [],
      "source": [
        "from sklearn.linear_model import LogisticRegression\n",
        "\n",
        "# manually add intercept\n",
        "df['intercept'] = 1\n",
        "independent_variables = ['HorasEstudio', 'intercept']\n",
        "\n",
        "x = df[independent_variables]       # independent variable\n",
        "y = df['Aprueba']                      # dependent variable\n",
        "\n",
        "# instantiate a logistic regression model, and fit with X and y\n",
        "model = LogisticRegression()\n",
        "model = model.fit(x, y)\n",
        "\n",
        "# check the accuracy on the training set\n",
        "model.score(x, y)\n",
        "\n",
        "print(\"coef\",model.coef_)\n",
        "print(\"intercept\",model.intercept_)\n",
        "\n",
        "# predict_proba will return array containing proability of y = 0 and y = 1\n",
        "print( model.predict_proba(x)[:,1])\n",
        "\n",
        "# predict will give convert the probability(y=1) values > .5 to 1 else 0\n",
        "print (model.predict(x))\n",
        "\n",
        "# plotting fitted line\n",
        "plt.scatter(df.HorasEstudio, y,  color='black')\n",
        "plt.yticks([0.0, 0.5, 1.0])\n",
        "plt.plot(df.HorasEstudio, model.predict_proba(x)[:,1], color='blue', linewidth=3)\n",
        "plt.title('Horas de Estudio  vs Aprueba ')\n",
        "plt.ylabel('Aprueba')\n",
        "plt.xlabel('Houras Estudio')\n",
        "plt.show()"
      ]
    },
    {
      "cell_type": "code",
      "execution_count": null,
      "metadata": {
        "id": "UjNZLUxev7zC"
      },
      "outputs": [],
      "source": [
        "from sklearn import metrics\n",
        "\n",
        "# generate evaluation metrics\n",
        "print (\"Accuracy :\", metrics.accuracy_score(y, model.predict(x)))\n",
        "print (\"AUC :\", metrics.roc_auc_score(y, model.predict_proba(x)[:,1]))\n",
        "\n",
        "print (\"Confusion matrix :\",metrics.confusion_matrix(y, model.predict(x)))\n",
        "print (\"classification report :\", metrics.classification_report(y, model.predict(x)))"
      ]
    },
    {
      "cell_type": "markdown",
      "metadata": {
        "id": "S0-JzO5cv7zD"
      },
      "source": [
        "### Plot ROC curve"
      ]
    },
    {
      "cell_type": "code",
      "execution_count": null,
      "metadata": {
        "id": "IcncJMIov7zD"
      },
      "outputs": [],
      "source": [
        "# Determine the false positive and true positive rates\n",
        "fpr, tpr, _ = metrics.roc_curve(y, model.predict_proba(x)[:,1])\n",
        "\n",
        "# Calculate the AUC\n",
        "roc_auc = metrics.auc(fpr, tpr)\n",
        "print ('ROC AUC: %0.2f' % roc_auc)\n",
        "\n",
        "# Plot of a ROC curve for a specific class\n",
        "plt.figure()\n",
        "plt.plot(fpr, tpr, label='ROC curve (area = %0.2f)' % roc_auc)\n",
        "plt.plot([0, 1], [0, 1], 'k--')\n",
        "plt.xlim([0.0, 1.0])\n",
        "plt.ylim([0.0, 1.05])\n",
        "plt.xlabel('False Positive Rate')\n",
        "plt.ylabel('True Positive Rate')\n",
        "plt.title('ROC Curve')\n",
        "plt.legend(loc=\"lower right\")\n",
        "plt.show()"
      ]
    }
  ],
  "metadata": {
    "anaconda-cloud": {},
    "kernelspec": {
      "display_name": "Python [conda root]",
      "language": "python",
      "name": "conda-root-py"
    },
    "language_info": {
      "codemirror_mode": {
        "name": "ipython",
        "version": 2
      },
      "file_extension": ".py",
      "mimetype": "text/x-python",
      "name": "python",
      "nbconvert_exporter": "python",
      "pygments_lexer": "ipython2",
      "version": "2.7.12"
    },
    "colab": {
      "provenance": [],
      "include_colab_link": true
    }
  },
  "nbformat": 4,
  "nbformat_minor": 0
}