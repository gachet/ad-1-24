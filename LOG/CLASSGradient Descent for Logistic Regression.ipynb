{
  "cells": [
    {
      "cell_type": "markdown",
      "metadata": {
        "id": "view-in-github",
        "colab_type": "text"
      },
      "source": [
        "<a href=\"https://colab.research.google.com/github/gachet/ad-1-24/blob/main/LOG/CLASSGradient%20Descent%20for%20Logistic%20Regression.ipynb\" target=\"_parent\"><img src=\"https://colab.research.google.com/assets/colab-badge.svg\" alt=\"Open In Colab\"/></a>"
      ]
    },
    {
      "cell_type": "code",
      "execution_count": null,
      "metadata": {
        "id": "Ik6NEmKiJNLZ"
      },
      "outputs": [],
      "source": [
        "import numpy as np\n",
        "X = np.array([.50,1.50,2.00,4.25,3.25,5.50], ndmin=2).reshape((6,1))\n",
        "y = np.array([0,0,0,1,1,1])\n",
        "X_mean = np.mean(X)\n",
        "y_mean = np.mean(y)\n",
        "n = len(X)"
      ]
    },
    {
      "cell_type": "code",
      "execution_count": null,
      "metadata": {
        "id": "eZT7RCcqJNLb",
        "outputId": "f0655822-d191-42ee-f8a5-2c2d2c886c30"
      },
      "outputs": [
        {
          "name": "stdout",
          "output_type": "stream",
          "text": [
            "(array([-0.2409201]), array([0.26150121]))\n",
            "[0.47248545 0.53776089 0.57005666 0.70484142 0.64770326 0.76805063]\n",
            "[0.63957883 0.77167297 0.84410185 0.34978244 0.43432262 0.26389962]\n",
            "(0.5505597217123788, array([0.47248545, 0.53776089, 0.57005666, 0.70484142, 0.64770326,\n",
            "       0.76805063]))\n",
            "Constant :  [-0.24101369] \n",
            "Regresssion Coeff :  [0.26140762]\n",
            "[0.63957883 0.77167297 0.84410185 0.34978244 0.43432262 0.26389962\n",
            " 0.63957883 0.77167297 0.84410185 0.34978244 0.43432262 0.26389962]\n"
          ]
        },
        {
          "data": {
            "text/plain": [
              "(0.5505597217123789,\n",
              " array([0.47248545, 0.53776089, 0.57005666, 0.70484142, 0.64770326,\n",
              "        0.76805063]))"
            ]
          },
          "execution_count": 7,
          "metadata": {},
          "output_type": "execute_result"
        }
      ],
      "source": [
        "class LogisticRegression:\n",
        "    b0 = 0\n",
        "    b1 = 0\n",
        "    sigmoid = np.array([])\n",
        "    loss = np.array([])\n",
        "    epoch = 10\n",
        "    alpha = 0.000001\n",
        "    def fit(self, X, y):\n",
        "        upward_function = 0\n",
        "        downward_function = 0\n",
        "        for i in range(n):\n",
        "            upward_function += (X[i]-X_mean)*(y[i]-y_mean)\n",
        "            downward_function += (X[i]-X_mean)**2\n",
        "        self.b1 = upward_function / downward_function\n",
        "        self.b0 = y_mean - (self.b1*X_mean)\n",
        "        return self.b0, self.b1\n",
        "\n",
        "    def predict(self, Xi):\n",
        "        z = self.b0 + (self.b1*Xi)\n",
        "        self.sigmoid = np.append(self.sigmoid, [1/(1 + np.exp(-z))])\n",
        "        return self.sigmoid\n",
        "\n",
        "    def log_loss(self):\n",
        "        for i in range(n):\n",
        "            self.loss = np.append(self.loss, [-y[i]*np.log(self.sigmoid[i])-(1-y[i])*np.log(1-self.sigmoid[i])])\n",
        "        print(self.loss)\n",
        "        log_loss = np.mean(self.loss)\n",
        "        return log_loss, self.sigmoid\n",
        "\n",
        "    def loss_optimization(self, Xi):\n",
        "        for i in range(self.epoch):\n",
        "            dertivate_sigmoid = (1/n)*np.sum(self.loss*Xi)\n",
        "            self.b0 = self.b0 - self.alpha*dertivate_sigmoid\n",
        "            self.b1 = self.b1 - self.alpha*dertivate_sigmoid\n",
        "        print('Constant : ',self.b0,'\\nRegresssion Coeff : ',self.b1)\n",
        "\n",
        "model = LogisticRegression()\n",
        "print(model.fit(X, y))\n",
        "print(model.predict(X))\n",
        "print(model.log_loss())\n",
        "model.loss_optimization(X)\n",
        "model.log_loss()\n"
      ]
    },
    {
      "cell_type": "code",
      "execution_count": null,
      "metadata": {
        "id": "C-DRsdYLJNLd"
      },
      "outputs": [],
      "source": []
    }
  ],
  "metadata": {
    "kernelspec": {
      "display_name": "Python 3",
      "language": "python",
      "name": "python3"
    },
    "language_info": {
      "codemirror_mode": {
        "name": "ipython",
        "version": 3
      },
      "file_extension": ".py",
      "mimetype": "text/x-python",
      "name": "python",
      "nbconvert_exporter": "python",
      "pygments_lexer": "ipython3",
      "version": "3.7.2"
    },
    "colab": {
      "provenance": [],
      "include_colab_link": true
    }
  },
  "nbformat": 4,
  "nbformat_minor": 0
}