{
  "cells": [
    {
      "cell_type": "markdown",
      "metadata": {
        "id": "view-in-github",
        "colab_type": "text"
      },
      "source": [
        "<a href=\"https://colab.research.google.com/github/gachet/ad-1-24/blob/main/LOG/AD1_examen_parcial_2_24.ipynb\" target=\"_parent\"><img src=\"https://colab.research.google.com/assets/colab-badge.svg\" alt=\"Open In Colab\"/></a>"
      ]
    },
    {
      "cell_type": "markdown",
      "metadata": {
        "id": "21klK5jSeR2W"
      },
      "source": [
        "#Examen Parcial 2 Análisis de Datos I.\n",
        "## Ingeniería en Industria Conectada 9 Diciembre 2024\n",
        "\n",
        "Nombre :\n"
      ]
    },
    {
      "cell_type": "markdown",
      "metadata": {
        "id": "iDMlHb3QwLLL"
      },
      "source": [
        "## Parte2.- Ejercicios. (6 ptos)"
      ]
    },
    {
      "cell_type": "markdown",
      "metadata": {
        "id": "wQc5Zuyp7E8n"
      },
      "source": [
        "#### Ejercicio .- Una empresa de coches ha sacado un nuevo modelo al mercado. Queremos saber la probabilidad de que una persona con una cierta edad y un determinado salario pueda comprar ese coche."
      ]
    },
    {
      "cell_type": "code",
      "execution_count": 2,
      "metadata": {
        "id": "Xn9_3L-Y7MoN"
      },
      "outputs": [],
      "source": [
        "# 0. Importar librerías\n",
        "import numpy as np\n",
        "import pandas as pd\n",
        "import matplotlib.pyplot as plt\n",
        "from sklearn.preprocessing import StandardScaler\n",
        "from sklearn import metrics\n",
        "from sklearn.metrics import confusion_matrix, accuracy_score"
      ]
    },
    {
      "cell_type": "code",
      "execution_count": 3,
      "metadata": {
        "id": "k4H8k7yk7M3u"
      },
      "outputs": [],
      "source": [
        "# 1. Importar datos y ver las primeras 10 lineas\n",
        "datos = pd.read_csv('https://drive.google.com/uc?id=1Tt2YOz6CVUCqgQ4Ob50PdWG81UyyeQTB')"
      ]
    },
    {
      "cell_type": "code",
      "execution_count": null,
      "metadata": {
        "id": "x37Y3rY07oIE"
      },
      "outputs": [],
      "source": [
        "# 2. Visualizar las variables independientes (gráfico de puntos con dos colores en base a la variable compra)\n"
      ]
    },
    {
      "cell_type": "code",
      "execution_count": null,
      "metadata": {
        "id": "nUdFkp877n4J"
      },
      "outputs": [],
      "source": [
        "# 3. Formar el conjunto de datos necesario utilizando las Variables Edad y Salario como independientes y Compra como dependiente\n"
      ]
    },
    {
      "cell_type": "code",
      "source": [
        "#4.·Estandarizar los datos predictores utilizando \"StandardScaler\" de la librería   sklearn\n",
        "#utilizar estos datos para construir el modelo de regresión logística"
      ],
      "metadata": {
        "id": "z4AyCcCiE2AD"
      },
      "execution_count": 1,
      "outputs": []
    },
    {
      "cell_type": "code",
      "source": [
        "#4.- Calcular el Coste Inicial (Escribir las funciones necesarias)\n",
        "#Debería ser  Cost at initialization [0.69314718]"
      ],
      "metadata": {
        "id": "_q07sdFf4FgK"
      },
      "execution_count": null,
      "outputs": []
    },
    {
      "cell_type": "code",
      "source": [
        "#5 Obtener el vector gradiente inicial, debería ser\n",
        "#Gradient at initialization: [[ 0.1425    ]\n",
        "# [-0.29831974]\n",
        "# [-0.17353327]]"
      ],
      "metadata": {
        "id": "-pEB0W3NFgly"
      },
      "execution_count": null,
      "outputs": []
    },
    {
      "cell_type": "code",
      "source": [
        "#5.- Implementar Gradiente descendente. Utilizar:\n",
        "#alfa 0.01,\n",
        "#iteraciones 200000\n",
        "#Imprimir el valor final de la función de coste?"
      ],
      "metadata": {
        "id": "ZgUxl93L4FP7"
      },
      "execution_count": null,
      "outputs": []
    },
    {
      "cell_type": "code",
      "source": [
        "#6.- Dibujar la función de pérdida"
      ],
      "metadata": {
        "id": "no4wUeX15Z3L"
      },
      "execution_count": null,
      "outputs": []
    },
    {
      "cell_type": "code",
      "source": [
        "#7.- Imprimir los valores finales del vector \"theta\""
      ],
      "metadata": {
        "id": "pRNunKko4E_c"
      },
      "execution_count": null,
      "outputs": []
    },
    {
      "cell_type": "code",
      "source": [
        "#8 Dibujar la recta de decisión (Cuidado: Utilizar los datos estandarizados)"
      ],
      "metadata": {
        "id": "8P4au4Ai6mSU"
      },
      "execution_count": null,
      "outputs": []
    },
    {
      "cell_type": "code",
      "source": [
        "# 9. Utilizando las funciones de la librería sklearn:\n",
        "# Imprimir la precisión del Modelo\n",
        "#Obtener la matriz de confusión"
      ],
      "metadata": {
        "id": "lCTE4s7k7yvk"
      },
      "execution_count": null,
      "outputs": []
    },
    {
      "cell_type": "code",
      "source": [
        "#10..-Una persona desconocida con 50 años y salario 350000 que probabilidad tiene de comprar el coche ?"
      ],
      "metadata": {
        "id": "vO4NiBQ179lL"
      },
      "execution_count": null,
      "outputs": []
    },
    {
      "cell_type": "code",
      "source": [
        "#11..-Una persona desconocida con 30 años y salario 450000 que probabilidad tiene de comprar el coche ?"
      ],
      "metadata": {
        "id": "2rOWdnLVHxrj"
      },
      "execution_count": null,
      "outputs": []
    },
    {
      "cell_type": "code",
      "source": [],
      "metadata": {
        "id": "PPL7ksVi72G8"
      },
      "execution_count": null,
      "outputs": []
    }
  ],
  "metadata": {
    "colab": {
      "provenance": [],
      "include_colab_link": true
    },
    "kernelspec": {
      "display_name": "Python 3",
      "name": "python3"
    },
    "language_info": {
      "codemirror_mode": {
        "name": "ipython",
        "version": 3
      },
      "file_extension": ".py",
      "mimetype": "text/x-python",
      "name": "python",
      "nbconvert_exporter": "python",
      "pygments_lexer": "ipython3",
      "version": "3.9.6"
    }
  },
  "nbformat": 4,
  "nbformat_minor": 0
}