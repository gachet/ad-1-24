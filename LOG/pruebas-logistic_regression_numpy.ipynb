{
  "nbformat": 4,
  "nbformat_minor": 0,
  "metadata": {
    "kernelspec": {
      "display_name": "Python 3",
      "language": "python",
      "name": "python3"
    },
    "language_info": {
      "codemirror_mode": {
        "name": "ipython",
        "version": 3
      },
      "file_extension": ".py",
      "mimetype": "text/x-python",
      "name": "python",
      "nbconvert_exporter": "python",
      "pygments_lexer": "ipython3",
      "version": "3.6.8"
    },
    "colab": {
      "provenance": [],
      "include_colab_link": true
    }
  },
  "cells": [
    {
      "cell_type": "markdown",
      "metadata": {
        "id": "view-in-github",
        "colab_type": "text"
      },
      "source": [
        "<a href=\"https://colab.research.google.com/github/gachet/ad-1-24/blob/main/LOG/pruebas-logistic_regression_numpy.ipynb\" target=\"_parent\"><img src=\"https://colab.research.google.com/assets/colab-badge.svg\" alt=\"Open In Colab\"/></a>"
      ]
    },
    {
      "cell_type": "markdown",
      "metadata": {
        "id": "0vLu6Zvwv_-b"
      },
      "source": [
        "# Regresión Logística"
      ]
    },
    {
      "cell_type": "markdown",
      "metadata": {
        "id": "qxrl6Y8dv_-e"
      },
      "source": [
        "###  Librerías y catga de datos"
      ]
    },
    {
      "cell_type": "code",
      "metadata": {
        "id": "U89ZWwerv_-f"
      },
      "source": [
        "import numpy as np\n",
        "import matplotlib.pyplot as plt\n",
        "import seaborn as sns\n",
        "import pandas as pd\n",
        "\n",
        "%matplotlib inline"
      ],
      "execution_count": 124,
      "outputs": []
    },
    {
      "cell_type": "code",
      "metadata": {
        "id": "gpg6iGBHv_-q",
        "colab": {
          "base_uri": "https://localhost:8080/",
          "height": 206
        },
        "outputId": "e09cc714-f49a-4686-a829-01717bd0e7dd"
      },
      "source": [
        "data = pd.read_csv(\"https://drive.google.com/uc?id=1fMmyhTvj8RAJxMdFtI7zB5j8egQKx30O\")\n",
        "data.head()"
      ],
      "execution_count": 125,
      "outputs": [
        {
          "output_type": "execute_result",
          "data": {
            "text/plain": [
              "   DMV_Test_1  DMV_Test_2  Results\n",
              "0   34.623660   78.024693        0\n",
              "1   30.286711   43.894998        0\n",
              "2   35.847409   72.902198        0\n",
              "3   60.182599   86.308552        1\n",
              "4   79.032736   75.344376        1"
            ],
            "text/html": [
              "\n",
              "  <div id=\"df-5aca6c67-0b17-4f5e-ad94-08cc93163b16\" class=\"colab-df-container\">\n",
              "    <div>\n",
              "<style scoped>\n",
              "    .dataframe tbody tr th:only-of-type {\n",
              "        vertical-align: middle;\n",
              "    }\n",
              "\n",
              "    .dataframe tbody tr th {\n",
              "        vertical-align: top;\n",
              "    }\n",
              "\n",
              "    .dataframe thead th {\n",
              "        text-align: right;\n",
              "    }\n",
              "</style>\n",
              "<table border=\"1\" class=\"dataframe\">\n",
              "  <thead>\n",
              "    <tr style=\"text-align: right;\">\n",
              "      <th></th>\n",
              "      <th>DMV_Test_1</th>\n",
              "      <th>DMV_Test_2</th>\n",
              "      <th>Results</th>\n",
              "    </tr>\n",
              "  </thead>\n",
              "  <tbody>\n",
              "    <tr>\n",
              "      <th>0</th>\n",
              "      <td>34.623660</td>\n",
              "      <td>78.024693</td>\n",
              "      <td>0</td>\n",
              "    </tr>\n",
              "    <tr>\n",
              "      <th>1</th>\n",
              "      <td>30.286711</td>\n",
              "      <td>43.894998</td>\n",
              "      <td>0</td>\n",
              "    </tr>\n",
              "    <tr>\n",
              "      <th>2</th>\n",
              "      <td>35.847409</td>\n",
              "      <td>72.902198</td>\n",
              "      <td>0</td>\n",
              "    </tr>\n",
              "    <tr>\n",
              "      <th>3</th>\n",
              "      <td>60.182599</td>\n",
              "      <td>86.308552</td>\n",
              "      <td>1</td>\n",
              "    </tr>\n",
              "    <tr>\n",
              "      <th>4</th>\n",
              "      <td>79.032736</td>\n",
              "      <td>75.344376</td>\n",
              "      <td>1</td>\n",
              "    </tr>\n",
              "  </tbody>\n",
              "</table>\n",
              "</div>\n",
              "    <div class=\"colab-df-buttons\">\n",
              "\n",
              "  <div class=\"colab-df-container\">\n",
              "    <button class=\"colab-df-convert\" onclick=\"convertToInteractive('df-5aca6c67-0b17-4f5e-ad94-08cc93163b16')\"\n",
              "            title=\"Convert this dataframe to an interactive table.\"\n",
              "            style=\"display:none;\">\n",
              "\n",
              "  <svg xmlns=\"http://www.w3.org/2000/svg\" height=\"24px\" viewBox=\"0 -960 960 960\">\n",
              "    <path d=\"M120-120v-720h720v720H120Zm60-500h600v-160H180v160Zm220 220h160v-160H400v160Zm0 220h160v-160H400v160ZM180-400h160v-160H180v160Zm440 0h160v-160H620v160ZM180-180h160v-160H180v160Zm440 0h160v-160H620v160Z\"/>\n",
              "  </svg>\n",
              "    </button>\n",
              "\n",
              "  <style>\n",
              "    .colab-df-container {\n",
              "      display:flex;\n",
              "      gap: 12px;\n",
              "    }\n",
              "\n",
              "    .colab-df-convert {\n",
              "      background-color: #E8F0FE;\n",
              "      border: none;\n",
              "      border-radius: 50%;\n",
              "      cursor: pointer;\n",
              "      display: none;\n",
              "      fill: #1967D2;\n",
              "      height: 32px;\n",
              "      padding: 0 0 0 0;\n",
              "      width: 32px;\n",
              "    }\n",
              "\n",
              "    .colab-df-convert:hover {\n",
              "      background-color: #E2EBFA;\n",
              "      box-shadow: 0px 1px 2px rgba(60, 64, 67, 0.3), 0px 1px 3px 1px rgba(60, 64, 67, 0.15);\n",
              "      fill: #174EA6;\n",
              "    }\n",
              "\n",
              "    .colab-df-buttons div {\n",
              "      margin-bottom: 4px;\n",
              "    }\n",
              "\n",
              "    [theme=dark] .colab-df-convert {\n",
              "      background-color: #3B4455;\n",
              "      fill: #D2E3FC;\n",
              "    }\n",
              "\n",
              "    [theme=dark] .colab-df-convert:hover {\n",
              "      background-color: #434B5C;\n",
              "      box-shadow: 0px 1px 3px 1px rgba(0, 0, 0, 0.15);\n",
              "      filter: drop-shadow(0px 1px 2px rgba(0, 0, 0, 0.3));\n",
              "      fill: #FFFFFF;\n",
              "    }\n",
              "  </style>\n",
              "\n",
              "    <script>\n",
              "      const buttonEl =\n",
              "        document.querySelector('#df-5aca6c67-0b17-4f5e-ad94-08cc93163b16 button.colab-df-convert');\n",
              "      buttonEl.style.display =\n",
              "        google.colab.kernel.accessAllowed ? 'block' : 'none';\n",
              "\n",
              "      async function convertToInteractive(key) {\n",
              "        const element = document.querySelector('#df-5aca6c67-0b17-4f5e-ad94-08cc93163b16');\n",
              "        const dataTable =\n",
              "          await google.colab.kernel.invokeFunction('convertToInteractive',\n",
              "                                                    [key], {});\n",
              "        if (!dataTable) return;\n",
              "\n",
              "        const docLinkHtml = 'Like what you see? Visit the ' +\n",
              "          '<a target=\"_blank\" href=https://colab.research.google.com/notebooks/data_table.ipynb>data table notebook</a>'\n",
              "          + ' to learn more about interactive tables.';\n",
              "        element.innerHTML = '';\n",
              "        dataTable['output_type'] = 'display_data';\n",
              "        await google.colab.output.renderOutput(dataTable, element);\n",
              "        const docLink = document.createElement('div');\n",
              "        docLink.innerHTML = docLinkHtml;\n",
              "        element.appendChild(docLink);\n",
              "      }\n",
              "    </script>\n",
              "  </div>\n",
              "\n",
              "\n",
              "<div id=\"df-8ffd3792-ce9e-41c3-9252-b2f16af82020\">\n",
              "  <button class=\"colab-df-quickchart\" onclick=\"quickchart('df-8ffd3792-ce9e-41c3-9252-b2f16af82020')\"\n",
              "            title=\"Suggest charts\"\n",
              "            style=\"display:none;\">\n",
              "\n",
              "<svg xmlns=\"http://www.w3.org/2000/svg\" height=\"24px\"viewBox=\"0 0 24 24\"\n",
              "     width=\"24px\">\n",
              "    <g>\n",
              "        <path d=\"M19 3H5c-1.1 0-2 .9-2 2v14c0 1.1.9 2 2 2h14c1.1 0 2-.9 2-2V5c0-1.1-.9-2-2-2zM9 17H7v-7h2v7zm4 0h-2V7h2v10zm4 0h-2v-4h2v4z\"/>\n",
              "    </g>\n",
              "</svg>\n",
              "  </button>\n",
              "\n",
              "<style>\n",
              "  .colab-df-quickchart {\n",
              "      --bg-color: #E8F0FE;\n",
              "      --fill-color: #1967D2;\n",
              "      --hover-bg-color: #E2EBFA;\n",
              "      --hover-fill-color: #174EA6;\n",
              "      --disabled-fill-color: #AAA;\n",
              "      --disabled-bg-color: #DDD;\n",
              "  }\n",
              "\n",
              "  [theme=dark] .colab-df-quickchart {\n",
              "      --bg-color: #3B4455;\n",
              "      --fill-color: #D2E3FC;\n",
              "      --hover-bg-color: #434B5C;\n",
              "      --hover-fill-color: #FFFFFF;\n",
              "      --disabled-bg-color: #3B4455;\n",
              "      --disabled-fill-color: #666;\n",
              "  }\n",
              "\n",
              "  .colab-df-quickchart {\n",
              "    background-color: var(--bg-color);\n",
              "    border: none;\n",
              "    border-radius: 50%;\n",
              "    cursor: pointer;\n",
              "    display: none;\n",
              "    fill: var(--fill-color);\n",
              "    height: 32px;\n",
              "    padding: 0;\n",
              "    width: 32px;\n",
              "  }\n",
              "\n",
              "  .colab-df-quickchart:hover {\n",
              "    background-color: var(--hover-bg-color);\n",
              "    box-shadow: 0 1px 2px rgba(60, 64, 67, 0.3), 0 1px 3px 1px rgba(60, 64, 67, 0.15);\n",
              "    fill: var(--button-hover-fill-color);\n",
              "  }\n",
              "\n",
              "  .colab-df-quickchart-complete:disabled,\n",
              "  .colab-df-quickchart-complete:disabled:hover {\n",
              "    background-color: var(--disabled-bg-color);\n",
              "    fill: var(--disabled-fill-color);\n",
              "    box-shadow: none;\n",
              "  }\n",
              "\n",
              "  .colab-df-spinner {\n",
              "    border: 2px solid var(--fill-color);\n",
              "    border-color: transparent;\n",
              "    border-bottom-color: var(--fill-color);\n",
              "    animation:\n",
              "      spin 1s steps(1) infinite;\n",
              "  }\n",
              "\n",
              "  @keyframes spin {\n",
              "    0% {\n",
              "      border-color: transparent;\n",
              "      border-bottom-color: var(--fill-color);\n",
              "      border-left-color: var(--fill-color);\n",
              "    }\n",
              "    20% {\n",
              "      border-color: transparent;\n",
              "      border-left-color: var(--fill-color);\n",
              "      border-top-color: var(--fill-color);\n",
              "    }\n",
              "    30% {\n",
              "      border-color: transparent;\n",
              "      border-left-color: var(--fill-color);\n",
              "      border-top-color: var(--fill-color);\n",
              "      border-right-color: var(--fill-color);\n",
              "    }\n",
              "    40% {\n",
              "      border-color: transparent;\n",
              "      border-right-color: var(--fill-color);\n",
              "      border-top-color: var(--fill-color);\n",
              "    }\n",
              "    60% {\n",
              "      border-color: transparent;\n",
              "      border-right-color: var(--fill-color);\n",
              "    }\n",
              "    80% {\n",
              "      border-color: transparent;\n",
              "      border-right-color: var(--fill-color);\n",
              "      border-bottom-color: var(--fill-color);\n",
              "    }\n",
              "    90% {\n",
              "      border-color: transparent;\n",
              "      border-bottom-color: var(--fill-color);\n",
              "    }\n",
              "  }\n",
              "</style>\n",
              "\n",
              "  <script>\n",
              "    async function quickchart(key) {\n",
              "      const quickchartButtonEl =\n",
              "        document.querySelector('#' + key + ' button');\n",
              "      quickchartButtonEl.disabled = true;  // To prevent multiple clicks.\n",
              "      quickchartButtonEl.classList.add('colab-df-spinner');\n",
              "      try {\n",
              "        const charts = await google.colab.kernel.invokeFunction(\n",
              "            'suggestCharts', [key], {});\n",
              "      } catch (error) {\n",
              "        console.error('Error during call to suggestCharts:', error);\n",
              "      }\n",
              "      quickchartButtonEl.classList.remove('colab-df-spinner');\n",
              "      quickchartButtonEl.classList.add('colab-df-quickchart-complete');\n",
              "    }\n",
              "    (() => {\n",
              "      let quickchartButtonEl =\n",
              "        document.querySelector('#df-8ffd3792-ce9e-41c3-9252-b2f16af82020 button');\n",
              "      quickchartButtonEl.style.display =\n",
              "        google.colab.kernel.accessAllowed ? 'block' : 'none';\n",
              "    })();\n",
              "  </script>\n",
              "</div>\n",
              "\n",
              "    </div>\n",
              "  </div>\n"
            ],
            "application/vnd.google.colaboratory.intrinsic+json": {
              "type": "dataframe",
              "variable_name": "data",
              "summary": "{\n  \"name\": \"data\",\n  \"rows\": 100,\n  \"fields\": [\n    {\n      \"column\": \"DMV_Test_1\",\n      \"properties\": {\n        \"dtype\": \"number\",\n        \"std\": 19.458222275425072,\n        \"min\": 30.05882244669796,\n        \"max\": 99.82785779692128,\n        \"num_unique_values\": 100,\n        \"samples\": [\n          57.23870631569862,\n          34.52451385320009,\n          32.72283304060323\n        ],\n        \"semantic_type\": \"\",\n        \"description\": \"\"\n      }\n    },\n    {\n      \"column\": \"DMV_Test_2\",\n      \"properties\": {\n        \"dtype\": \"number\",\n        \"std\": 18.582783039307344,\n        \"min\": 30.60326323428011,\n        \"max\": 98.86943574220612,\n        \"num_unique_values\": 100,\n        \"samples\": [\n          59.51428198012956,\n          60.39634245837173,\n          43.30717306430063\n        ],\n        \"semantic_type\": \"\",\n        \"description\": \"\"\n      }\n    },\n    {\n      \"column\": \"Results\",\n      \"properties\": {\n        \"dtype\": \"number\",\n        \"std\": 0,\n        \"min\": 0,\n        \"max\": 1,\n        \"num_unique_values\": 2,\n        \"samples\": [\n          1,\n          0\n        ],\n        \"semantic_type\": \"\",\n        \"description\": \"\"\n      }\n    }\n  ]\n}"
            }
          },
          "metadata": {},
          "execution_count": 125
        }
      ]
    },
    {
      "cell_type": "code",
      "metadata": {
        "id": "kAKbXQGQv_-0"
      },
      "source": [
        "scores = data[['DMV_Test_1', 'DMV_Test_2']].values\n",
        "results = data['Results'].values"
      ],
      "execution_count": 126,
      "outputs": []
    },
    {
      "cell_type": "markdown",
      "metadata": {
        "id": "A6seGivEv_-5"
      },
      "source": [
        "### Visualizar Datos"
      ]
    },
    {
      "cell_type": "code",
      "metadata": {
        "id": "ft3Xdbkwv_-6",
        "colab": {
          "base_uri": "https://localhost:8080/",
          "height": 453
        },
        "outputId": "4c760715-9f3c-468e-d468-d909d26a5a40"
      },
      "source": [
        "sns.scatterplot(x = 'DMV_Test_1', y = 'DMV_Test_2', hue = 'Results', data =data)\n",
        "\n",
        "plt.show();"
      ],
      "execution_count": 127,
      "outputs": [
        {
          "output_type": "display_data",
          "data": {
            "text/plain": [
              "<Figure size 640x480 with 1 Axes>"
            ],
            "image/png": "[encoded data removed]"
          },
          "metadata": {}
        }
      ]
    },
    {
      "cell_type": "markdown",
      "metadata": {
        "id": "kRSvpHJbv_--"
      },
      "source": [
        "### Definimos de la función logística $\\sigma(z)$\n",
        "\n",
        "$$ \\sigma(z) = \\frac{1}{1+e^{-z}}$$"
      ]
    },
    {
      "cell_type": "markdown",
      "metadata": {
        "id": "_rUWBmqov__I"
      },
      "source": [
        "### Cálculo de la Función de Coste  $J(\\theta)$ y el Gradiente"
      ]
    },
    {
      "cell_type": "markdown",
      "metadata": {
        "id": "fqQysVC-v__J"
      },
      "source": [
        "En la regresión Logística debemos minimizar la función de coste\n",
        "\n",
        "$$J(\\theta) = -\\frac{1}{m} \\sum_{i=1}^{m} [ y^{(i)}log(h_{\\theta}(x^{(i)})) + (1 - y^{(i)})log(1 - (h_{\\theta}(x^{(i)}))]$$\n",
        "\n",
        "Siendo el gradiente de esta función de coste:\n",
        "\n",
        "$$ \\frac{\\partial J(\\theta)}{\\partial \\theta_j} = \\frac{1}{m} \\sum_{i=1}^{m} (h_{\\theta}(x^{(i)}) - y^{(i)})x_j^{(i)}$$\n",
        "\n",
        "Podemos observar que la expresión es de la misma forma que la utilizada eb la regresión lineal, que en forma vectorial se puede escribir de la forma:\n",
        "\n",
        "<img width=\"250\" height=\"100\" src=\"data:image/png;base64,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\"/>"
      ]
    },
    {
      "cell_type": "code",
      "metadata": {
        "id": "7QT1Pqwwv_-_"
      },
      "source": [
        "def logistic_function(x):\n",
        "    return 1/ (1 + np.exp(-x))"
      ],
      "execution_count": 128,
      "outputs": []
    },
    {
      "cell_type": "code",
      "metadata": {
        "id": "8MdUPocAv__K"
      },
      "source": [
        "def compute_cost(theta, x, y):\n",
        "    m = len(y)\n",
        "    y_pred = logistic_function(np.dot(x , theta))\n",
        "    error = (y * np.log(y_pred)) + ((1 - y) * np.log(1 - y_pred))\n",
        "    cost = -(1 / m) * sum(error)\n",
        "    gradient = 1 / m *(np.dot(x.transpose(), (y_pred - y)))\n",
        "    return cost"
      ],
      "execution_count": 129,
      "outputs": []
    },
    {
      "cell_type": "code",
      "source": [
        "def compute_grad(theta, x, y):\n",
        "  m = len(y)\n",
        "  y_pred = logistic_function(np.dot(x , theta))\n",
        "  grad = 1 / m *(np.dot(x.transpose(), (y_pred - y)))\n",
        "  return grad"
      ],
      "metadata": {
        "id": "X46bsVPQd4FJ"
      },
      "execution_count": 130,
      "outputs": []
    },
    {
      "cell_type": "markdown",
      "metadata": {
        "id": "BFBr2LsSv__O"
      },
      "source": [
        "### Formamos matriz XX,vector y  theta_inicial"
      ]
    },
    {
      "cell_type": "code",
      "source": [
        "scores = data[['DMV_Test_1', 'DMV_Test_2']].values\n",
        "results = data['Results'].values"
      ],
      "metadata": {
        "id": "2hGBPyWzQFcs"
      },
      "execution_count": 131,
      "outputs": []
    },
    {
      "cell_type": "code",
      "metadata": {
        "id": "191eT1E4v__P"
      },
      "source": [
        "#mean_scores = np.mean(scores, axis=0)\n",
        "#std_scores = np.std(scores, axis=0)\n",
        "#scores = (scores - mean_scores) / std_scores #standardization\n",
        "\n",
        "rows = scores.shape[0]\n",
        "cols = scores.shape[1]\n",
        "\n",
        "X = np.append(np.ones((rows, 1)), scores, axis=1) #include intercept\n",
        "y = results.reshape(rows, 1)\n",
        "theta_init = np.zeros((cols + 1, 1))\n"
      ],
      "execution_count": 132,
      "outputs": []
    },
    {
      "cell_type": "code",
      "source": [
        "X.shape,y.shape,theta_init.shape"
      ],
      "metadata": {
        "colab": {
          "base_uri": "https://localhost:8080/"
        },
        "id": "tXVdEn4dS-IJ",
        "outputId": "ea0e2f29-f3fa-485d-bc82-23265c6edd91"
      },
      "execution_count": 133,
      "outputs": [
        {
          "output_type": "execute_result",
          "data": {
            "text/plain": [
              "((100, 3), (100, 1), (3, 1))"
            ]
          },
          "metadata": {},
          "execution_count": 133
        }
      ]
    },
    {
      "cell_type": "code",
      "source": [
        "X[0:4,:],y[0:4,:],theta_init[0:4,:]"
      ],
      "metadata": {
        "colab": {
          "base_uri": "https://localhost:8080/"
        },
        "id": "lPYGec9ETNOY",
        "outputId": "cd06aaf9-46ce-4a4b-c6ab-f2006e96e16e"
      },
      "execution_count": 134,
      "outputs": [
        {
          "output_type": "execute_result",
          "data": {
            "text/plain": [
              "(array([[ 1.        , 34.62365962, 78.02469282],\n",
              "        [ 1.        , 30.28671077, 43.89499752],\n",
              "        [ 1.        , 35.84740877, 72.90219803],\n",
              "        [ 1.        , 60.18259939, 86.3085521 ]]),\n",
              " array([[0],\n",
              "        [0],\n",
              "        [0],\n",
              "        [1]]),\n",
              " array([[0.],\n",
              "        [0.],\n",
              "        [0.]]))"
            ]
          },
          "metadata": {},
          "execution_count": 134
        }
      ]
    },
    {
      "cell_type": "code",
      "source": [
        "cost = compute_cost(theta_init, X, y)\n",
        "gradient = compute_grad(theta_init, X, y)\n",
        "print(\"Cost at initialization\", cost)\n",
        "print(\"Gradient at initialization:\", gradient)"
      ],
      "metadata": {
        "colab": {
          "base_uri": "https://localhost:8080/"
        },
        "id": "Q0Vdz3PlQPo5",
        "outputId": "0a86c102-519c-4c15-dc0a-bbc80a31236b"
      },
      "execution_count": 135,
      "outputs": [
        {
          "output_type": "stream",
          "name": "stdout",
          "text": [
            "Cost at initialization [0.69314718]\n",
            "Gradient at initialization: [[ -0.1       ]\n",
            " [-12.00921659]\n",
            " [-11.26284221]]\n"
          ]
        }
      ]
    },
    {
      "cell_type": "markdown",
      "metadata": {
        "id": "XcEtsz-1v__T"
      },
      "source": [
        "### Gradiente Descendente"
      ]
    },
    {
      "cell_type": "markdown",
      "metadata": {
        "id": "12L_QCYQv__U"
      },
      "source": [
        "Minimizamos la función de coste $J(\\theta)$  actualizando la siguiente ecuación (algoritmo del gradiente descendente) repitiendo hasta convergencia :  \n",
        "$\\theta_j := \\theta_j - \\alpha \\frac{\\partial J(\\theta)}{\\partial \\theta_j}$    \n",
        " (actualizar simultaneamente $\\theta_j$ para todo $j$)"
      ]
    },
    {
      "cell_type": "code",
      "metadata": {
        "id": "6r0mZuWqv__V"
      },
      "source": [
        "def gradient_descent(x, y, theta, alpha, iterations):\n",
        "    costs = []\n",
        "\n",
        "    for i in range(iterations):\n",
        "        cost= compute_cost(theta, x, y)\n",
        "        gradient = compute_grad(theta, x, y)\n",
        "        theta = theta - (alpha * gradient)\n",
        "        if i % 10000 == 0:\n",
        "            print(\"Iteration\", i, \"Cost:\", cost)\n",
        "        costs.append(cost)\n",
        "    return theta, costs"
      ],
      "execution_count": 136,
      "outputs": []
    },
    {
      "cell_type": "code",
      "source": [
        "theta_init"
      ],
      "metadata": {
        "id": "Z3hEqQtWuSvR",
        "outputId": "cce7c487-69f1-4192-c657-e8cc0b002bb8",
        "colab": {
          "base_uri": "https://localhost:8080/"
        }
      },
      "execution_count": 137,
      "outputs": [
        {
          "output_type": "execute_result",
          "data": {
            "text/plain": [
              "array([[0.],\n",
              "       [0.],\n",
              "       [0.]])"
            ]
          },
          "metadata": {},
          "execution_count": 137
        }
      ]
    },
    {
      "cell_type": "code",
      "metadata": {
        "id": "qCHyUDk_v__Z",
        "collapsed": true,
        "outputId": "fef64b6f-13cc-4fcf-e309-e1131bee912c",
        "colab": {
          "base_uri": "https://localhost:8080/"
        }
      },
      "source": [
        "theta, costs = gradient_descent(X, y, theta_init, 0.001, 200000)"
      ],
      "execution_count": 138,
      "outputs": [
        {
          "output_type": "stream",
          "name": "stdout",
          "text": [
            "Iteration 0 Cost: [0.69314718]\n",
            "Iteration 10000 Cost: [0.5850275]\n",
            "Iteration 20000 Cost: [0.54729546]\n",
            "Iteration 30000 Cost: [0.51540182]\n",
            "Iteration 40000 Cost: [0.48829571]\n",
            "Iteration 50000 Cost: [0.46510457]\n",
            "Iteration 60000 Cost: [0.44511881]\n",
            "Iteration 70000 Cost: [0.42776774]\n",
            "Iteration 80000 Cost: [0.4125944]\n",
            "Iteration 90000 Cost: [0.39923293]\n",
            "Iteration 100000 Cost: [0.38738952]\n",
            "Iteration 110000 Cost: [0.3768271]\n",
            "Iteration 120000 Cost: [0.36735325]\n",
            "Iteration 130000 Cost: [0.3588108]\n",
            "Iteration 140000 Cost: [0.35107051]\n",
            "Iteration 150000 Cost: [0.34402534]\n",
            "Iteration 160000 Cost: [0.33758609]\n",
            "Iteration 170000 Cost: [0.33167795]\n",
            "Iteration 180000 Cost: [0.32623773]\n",
            "Iteration 190000 Cost: [0.3212118]\n"
          ]
        }
      ]
    },
    {
      "cell_type": "code",
      "metadata": {
        "id": "yFd2uVT9v__d",
        "colab": {
          "base_uri": "https://localhost:8080/"
        },
        "outputId": "955d13b5-5a05-43fd-ec81-bc6869b8c72c"
      },
      "source": [
        "print(\"Theta after running gradient descent:\", theta)\n",
        "print(\"Resulting cost:\", costs[-1])"
      ],
      "execution_count": 139,
      "outputs": [
        {
          "output_type": "stream",
          "name": "stdout",
          "text": [
            "Theta after running gradient descent: [[-7.45017822]\n",
            " [ 0.06550395]\n",
            " [ 0.05898701]]\n",
            "Resulting cost: [0.31655478]\n"
          ]
        }
      ]
    },
    {
      "cell_type": "markdown",
      "metadata": {
        "id": "G0wYcEZkv__h"
      },
      "source": [
        "###  Convergencia de $J(\\theta)$"
      ]
    },
    {
      "cell_type": "markdown",
      "metadata": {
        "id": "SS1g8Dubv__i"
      },
      "source": [
        "Dibujamos $J(\\theta)$ en relación al número de iteraciones del  gradiente descente:"
      ]
    },
    {
      "cell_type": "code",
      "metadata": {
        "id": "_RvJ1Orcv__j",
        "colab": {
          "base_uri": "https://localhost:8080/",
          "height": 477
        },
        "outputId": "c93a7daf-53be-42c4-aeca-2f43d68a448e"
      },
      "source": [
        "plt.plot(costs)\n",
        "plt.xlabel(\"Iterations\")\n",
        "plt.ylabel(\"$J(\\Theta)$\")\n",
        "plt.title(\"Values of Cost Function over iterations of Gradient Descent\");"
      ],
      "execution_count": 140,
      "outputs": [
        {
          "output_type": "display_data",
          "data": {
            "text/plain": [
              "<Figure size 640x480 with 1 Axes>"
            ],
            "image/png": "[encoded data removed]"
          },
          "metadata": {}
        }
      ]
    },
    {
      "cell_type": "markdown",
      "metadata": {
        "id": "EOwRVJ4Yv__n"
      },
      "source": [
        "### Dibujemos la recta de decisión"
      ]
    },
    {
      "cell_type": "markdown",
      "metadata": {
        "id": "DMFDLDTzv__o"
      },
      "source": [
        "$h_\\theta(x) = \\sigma(z)$, donde $\\sigma$ es la función sigmoide y $z = \\theta^Tx$\n",
        "\n",
        "Cuando $h_\\theta(x) \\geq 0.5$ el modelo predice la clase \"1\":\n",
        "\n",
        "$\\implies \\sigma(\\theta^Tx) \\geq 0.5$\n",
        "\n",
        "$\\implies \\theta^Tx \\geq 0$ predice clase \"1\"\n",
        "\n",
        "Como, $\\theta_1 + \\theta_2x_2 + \\theta_3x_3 = 0$ es la ecuación de la recta de decisión, tenemos que :\n",
        "\n",
        "$ x_3 = \\frac{-(\\theta_1+\\theta_2x_2)}{\\theta_3}$"
      ]
    },
    {
      "cell_type": "code",
      "metadata": {
        "id": "DD3cGiKvv__o",
        "colab": {
          "base_uri": "https://localhost:8080/",
          "height": 470
        },
        "outputId": "7012fd0c-7f34-4f24-e960-9ecfdc7bd5e0"
      },
      "source": [
        "sns.scatterplot(x = 'DMV_Test_1', y = 'DMV_Test_2', hue = 'Results', data =data)\n",
        "decision_boundary = -(theta[0] + (theta[1]/1)*data['DMV_Test_1'])/(theta[2]/1)\n",
        "plt.plot(data['DMV_Test_1'], decision_boundary)"
      ],
      "execution_count": 141,
      "outputs": [
        {
          "output_type": "execute_result",
          "data": {
            "text/plain": [
              "[<matplotlib.lines.Line2D at 0x7c7c1b564580>]"
            ]
          },
          "metadata": {},
          "execution_count": 141
        },
        {
          "output_type": "display_data",
          "data": {
            "text/plain": [
              "<Figure size 640x480 with 1 Axes>"
            ],
            "image/png": "[encoded data removed]"
          },
          "metadata": {}
        }
      ]
    },
    {
      "cell_type": "code",
      "source": [
        "decision_boundary = -(theta[0] + (theta[1]/1)*data['DMV_Test_1'])/(theta[2]/1)"
      ],
      "metadata": {
        "id": "DA6a4ZkKVaKM"
      },
      "execution_count": 142,
      "outputs": []
    },
    {
      "cell_type": "code",
      "source": [
        "np.min(decision_boundary),np.max(decision_boundary)"
      ],
      "metadata": {
        "colab": {
          "base_uri": "https://localhost:8080/"
        },
        "id": "WD92zRycVgDQ",
        "outputId": "159f252c-ed5f-4722-aff3-122b7ae04e84"
      },
      "execution_count": 143,
      "outputs": [
        {
          "output_type": "execute_result",
          "data": {
            "text/plain": [
              "(15.445080203892827, 92.92226017961194)"
            ]
          },
          "metadata": {},
          "execution_count": 143
        }
      ]
    },
    {
      "cell_type": "markdown",
      "metadata": {
        "id": "TJrYT_Yhv__t"
      },
      "source": [
        "### Predicciones utilizando los valores $\\theta$ encontrados"
      ]
    },
    {
      "cell_type": "markdown",
      "metadata": {
        "id": "8aTpI1C7v__u"
      },
      "source": [
        "$h_\\theta(x) = x\\theta$"
      ]
    },
    {
      "cell_type": "code",
      "metadata": {
        "id": "pidK1zqSv__v"
      },
      "source": [
        "def predict(theta, x):\n",
        "    results = x.dot(theta)\n",
        "    return results > 0\n"
      ],
      "execution_count": 144,
      "outputs": []
    },
    {
      "cell_type": "code",
      "metadata": {
        "id": "qpvIV7phv__y",
        "colab": {
          "base_uri": "https://localhost:8080/"
        },
        "outputId": "44b94250-d9b3-4a5b-eb1e-47dcdcef6c89"
      },
      "source": [
        "p = predict(theta, X)\n",
        "print(\"Training Accuracy:\", sum(p==y)[0],\"%\")"
      ],
      "execution_count": 145,
      "outputs": [
        {
          "output_type": "stream",
          "name": "stdout",
          "text": [
            "Training Accuracy: 93 %\n"
          ]
        }
      ]
    },
    {
      "cell_type": "code",
      "metadata": {
        "id": "3Va48zM0v__1",
        "colab": {
          "base_uri": "https://localhost:8080/"
        },
        "outputId": "6296398d-84dd-4e39-8bf1-8a9cff2d694c"
      },
      "source": [
        "test = np.array([50,79])\n",
        "#test = (test - mean_scores)/std_scores\n",
        "test = np.append(np.ones(1), test)\n",
        "probability = logistic_function(test.dot(theta))\n",
        "print(\"A person who scores 50 and 79 on their DMV written tests have a\",\n",
        "      np.round(probability[0], 2),\"probability of passing.\")"
      ],
      "execution_count": 146,
      "outputs": [
        {
          "output_type": "stream",
          "name": "stdout",
          "text": [
            "A person who scores 50 and 79 on their DMV written tests have a 0.62 probability of passing.\n"
          ]
        }
      ]
    },
    {
      "cell_type": "code",
      "source": [
        "test = np.array([40,50])\n",
        "#test = (test - mean_scores)/std_scores\n",
        "test = np.append(np.ones(1), test)\n",
        "probability = logistic_function(test.dot(theta))\n",
        "print(\"A person who scores 50 and 79 on their DMV written tests have a\",\n",
        "      np.round(probability[0], 2),\"probability of passing.\")"
      ],
      "metadata": {
        "id": "4dJ3n2r0fsVK",
        "outputId": "7024937a-e0e9-455e-93a6-44d94621b256",
        "colab": {
          "base_uri": "https://localhost:8080/"
        }
      },
      "execution_count": 147,
      "outputs": [
        {
          "output_type": "stream",
          "name": "stdout",
          "text": [
            "A person who scores 50 and 79 on their DMV written tests have a 0.13 probability of passing.\n"
          ]
        }
      ]
    },
    {
      "cell_type": "code",
      "source": [
        "def predict(X, params):\n",
        "    return np.round(logistic_function(X @ params))"
      ],
      "metadata": {
        "id": "QJCnqreRteLg"
      },
      "execution_count": 148,
      "outputs": []
    },
    {
      "cell_type": "code",
      "source": [
        "from sklearn import metrics\n",
        "from sklearn.metrics import confusion_matrix, accuracy_score\n",
        "\n",
        "actual = y\n",
        "predicted = predict(X, theta)\n",
        "print(accuracy_score(actual, predicted))\n",
        "confusion_matrix = metrics.confusion_matrix(actual, predicted)\n",
        "print(confusion_matrix)\n",
        "\n",
        "cm_display = metrics.ConfusionMatrixDisplay(confusion_matrix = confusion_matrix, display_labels = [0, 1])\n",
        "\n",
        "cm_display.plot()\n",
        "plt.show()"
      ],
      "metadata": {
        "id": "FP7RnYpGgh2o",
        "outputId": "94b1835f-c43c-4d6a-9942-fc3a54c80c16",
        "colab": {
          "base_uri": "https://localhost:8080/",
          "height": 505
        }
      },
      "execution_count": 152,
      "outputs": [
        {
          "output_type": "stream",
          "name": "stdout",
          "text": [
            "0.93\n",
            "[[34  6]\n",
            " [ 1 59]]\n"
          ]
        },
        {
          "output_type": "display_data",
          "data": {
            "text/plain": [
              "<Figure size 640x480 with 2 Axes>"
            ],
            "image/png": "[encoded data removed]"
          },
          "metadata": {}
        }
      ]
    }
  ]
}