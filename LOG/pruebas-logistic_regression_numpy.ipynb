{
  "nbformat": 4,
  "nbformat_minor": 0,
  "metadata": {
    "kernelspec": {
      "display_name": "Python 3",
      "language": "python",
      "name": "python3"
    },
    "language_info": {
      "codemirror_mode": {
        "name": "ipython",
        "version": 3
      },
      "file_extension": ".py",
      "mimetype": "text/x-python",
      "name": "python",
      "nbconvert_exporter": "python",
      "pygments_lexer": "ipython3",
      "version": "3.6.8"
    },
    "colab": {
      "provenance": [],
      "include_colab_link": true
    }
  },
  "cells": [
    {
      "cell_type": "markdown",
      "metadata": {
        "id": "view-in-github",
        "colab_type": "text"
      },
      "source": [
        "<a href=\"https://colab.research.google.com/github/gachet/ad-1-24/blob/main/LOG/pruebas-logistic_regression_numpy.ipynb\" target=\"_parent\"><img src=\"https://colab.research.google.com/assets/colab-badge.svg\" alt=\"Open In Colab\"/></a>"
      ]
    },
    {
      "cell_type": "markdown",
      "metadata": {
        "id": "0vLu6Zvwv_-b"
      },
      "source": [
        "# Regresión Logística"
      ]
    },
    {
      "cell_type": "markdown",
      "metadata": {
        "id": "qxrl6Y8dv_-e"
      },
      "source": [
        "###  Librerías y catga de datos"
      ]
    },
    {
      "cell_type": "code",
      "metadata": {
        "id": "U89ZWwerv_-f"
      },
      "source": [
        "import numpy as np\n",
        "import matplotlib.pyplot as plt\n",
        "import seaborn as sns\n",
        "import pandas as pd\n",
        "plt.style.use(\"ggplot\")\n",
        "%matplotlib inline"
      ],
      "execution_count": 61,
      "outputs": []
    },
    {
      "cell_type": "code",
      "metadata": {
        "id": "WgcSySujv_-l"
      },
      "source": [
        "from pylab import rcParams\n",
        "rcParams['figure.figsize'] = 12, 8"
      ],
      "execution_count": 62,
      "outputs": []
    },
    {
      "cell_type": "code",
      "metadata": {
        "id": "gpg6iGBHv_-q",
        "colab": {
          "base_uri": "https://localhost:8080/",
          "height": 206
        },
        "outputId": "3d87b9f4-3e13-46eb-e14a-63244edae886"
      },
      "source": [
        "data = pd.read_csv(\"https://drive.google.com/uc?id=1fMmyhTvj8RAJxMdFtI7zB5j8egQKx30O\")\n",
        "data.head()"
      ],
      "execution_count": 63,
      "outputs": [
        {
          "output_type": "execute_result",
          "data": {
            "text/plain": [
              "   DMV_Test_1  DMV_Test_2  Results\n",
              "0   34.623660   78.024693        0\n",
              "1   30.286711   43.894998        0\n",
              "2   35.847409   72.902198        0\n",
              "3   60.182599   86.308552        1\n",
              "4   79.032736   75.344376        1"
            ],
            "text/html": [
              "\n",
              "  <div id=\"df-27a82634-8cee-41ab-9340-4c339d69a402\" class=\"colab-df-container\">\n",
              "    <div>\n",
              "<style scoped>\n",
              "    .dataframe tbody tr th:only-of-type {\n",
              "        vertical-align: middle;\n",
              "    }\n",
              "\n",
              "    .dataframe tbody tr th {\n",
              "        vertical-align: top;\n",
              "    }\n",
              "\n",
              "    .dataframe thead th {\n",
              "        text-align: right;\n",
              "    }\n",
              "</style>\n",
              "<table border=\"1\" class=\"dataframe\">\n",
              "  <thead>\n",
              "    <tr style=\"text-align: right;\">\n",
              "      <th></th>\n",
              "      <th>DMV_Test_1</th>\n",
              "      <th>DMV_Test_2</th>\n",
              "      <th>Results</th>\n",
              "    </tr>\n",
              "  </thead>\n",
              "  <tbody>\n",
              "    <tr>\n",
              "      <th>0</th>\n",
              "      <td>34.623660</td>\n",
              "      <td>78.024693</td>\n",
              "      <td>0</td>\n",
              "    </tr>\n",
              "    <tr>\n",
              "      <th>1</th>\n",
              "      <td>30.286711</td>\n",
              "      <td>43.894998</td>\n",
              "      <td>0</td>\n",
              "    </tr>\n",
              "    <tr>\n",
              "      <th>2</th>\n",
              "      <td>35.847409</td>\n",
              "      <td>72.902198</td>\n",
              "      <td>0</td>\n",
              "    </tr>\n",
              "    <tr>\n",
              "      <th>3</th>\n",
              "      <td>60.182599</td>\n",
              "      <td>86.308552</td>\n",
              "      <td>1</td>\n",
              "    </tr>\n",
              "    <tr>\n",
              "      <th>4</th>\n",
              "      <td>79.032736</td>\n",
              "      <td>75.344376</td>\n",
              "      <td>1</td>\n",
              "    </tr>\n",
              "  </tbody>\n",
              "</table>\n",
              "</div>\n",
              "    <div class=\"colab-df-buttons\">\n",
              "\n",
              "  <div class=\"colab-df-container\">\n",
              "    <button class=\"colab-df-convert\" onclick=\"convertToInteractive('df-27a82634-8cee-41ab-9340-4c339d69a402')\"\n",
              "            title=\"Convert this dataframe to an interactive table.\"\n",
              "            style=\"display:none;\">\n",
              "\n",
              "  <svg xmlns=\"http://www.w3.org/2000/svg\" height=\"24px\" viewBox=\"0 -960 960 960\">\n",
              "    <path d=\"M120-120v-720h720v720H120Zm60-500h600v-160H180v160Zm220 220h160v-160H400v160Zm0 220h160v-160H400v160ZM180-400h160v-160H180v160Zm440 0h160v-160H620v160ZM180-180h160v-160H180v160Zm440 0h160v-160H620v160Z\"/>\n",
              "  </svg>\n",
              "    </button>\n",
              "\n",
              "  <style>\n",
              "    .colab-df-container {\n",
              "      display:flex;\n",
              "      gap: 12px;\n",
              "    }\n",
              "\n",
              "    .colab-df-convert {\n",
              "      background-color: #E8F0FE;\n",
              "      border: none;\n",
              "      border-radius: 50%;\n",
              "      cursor: pointer;\n",
              "      display: none;\n",
              "      fill: #1967D2;\n",
              "      height: 32px;\n",
              "      padding: 0 0 0 0;\n",
              "      width: 32px;\n",
              "    }\n",
              "\n",
              "    .colab-df-convert:hover {\n",
              "      background-color: #E2EBFA;\n",
              "      box-shadow: 0px 1px 2px rgba(60, 64, 67, 0.3), 0px 1px 3px 1px rgba(60, 64, 67, 0.15);\n",
              "      fill: #174EA6;\n",
              "    }\n",
              "\n",
              "    .colab-df-buttons div {\n",
              "      margin-bottom: 4px;\n",
              "    }\n",
              "\n",
              "    [theme=dark] .colab-df-convert {\n",
              "      background-color: #3B4455;\n",
              "      fill: #D2E3FC;\n",
              "    }\n",
              "\n",
              "    [theme=dark] .colab-df-convert:hover {\n",
              "      background-color: #434B5C;\n",
              "      box-shadow: 0px 1px 3px 1px rgba(0, 0, 0, 0.15);\n",
              "      filter: drop-shadow(0px 1px 2px rgba(0, 0, 0, 0.3));\n",
              "      fill: #FFFFFF;\n",
              "    }\n",
              "  </style>\n",
              "\n",
              "    <script>\n",
              "      const buttonEl =\n",
              "        document.querySelector('#df-27a82634-8cee-41ab-9340-4c339d69a402 button.colab-df-convert');\n",
              "      buttonEl.style.display =\n",
              "        google.colab.kernel.accessAllowed ? 'block' : 'none';\n",
              "\n",
              "      async function convertToInteractive(key) {\n",
              "        const element = document.querySelector('#df-27a82634-8cee-41ab-9340-4c339d69a402');\n",
              "        const dataTable =\n",
              "          await google.colab.kernel.invokeFunction('convertToInteractive',\n",
              "                                                    [key], {});\n",
              "        if (!dataTable) return;\n",
              "\n",
              "        const docLinkHtml = 'Like what you see? Visit the ' +\n",
              "          '<a target=\"_blank\" href=https://colab.research.google.com/notebooks/data_table.ipynb>data table notebook</a>'\n",
              "          + ' to learn more about interactive tables.';\n",
              "        element.innerHTML = '';\n",
              "        dataTable['output_type'] = 'display_data';\n",
              "        await google.colab.output.renderOutput(dataTable, element);\n",
              "        const docLink = document.createElement('div');\n",
              "        docLink.innerHTML = docLinkHtml;\n",
              "        element.appendChild(docLink);\n",
              "      }\n",
              "    </script>\n",
              "  </div>\n",
              "\n",
              "\n",
              "<div id=\"df-ee80978e-9653-4ee4-a17a-68980d3c4fe4\">\n",
              "  <button class=\"colab-df-quickchart\" onclick=\"quickchart('df-ee80978e-9653-4ee4-a17a-68980d3c4fe4')\"\n",
              "            title=\"Suggest charts\"\n",
              "            style=\"display:none;\">\n",
              "\n",
              "<svg xmlns=\"http://www.w3.org/2000/svg\" height=\"24px\"viewBox=\"0 0 24 24\"\n",
              "     width=\"24px\">\n",
              "    <g>\n",
              "        <path d=\"M19 3H5c-1.1 0-2 .9-2 2v14c0 1.1.9 2 2 2h14c1.1 0 2-.9 2-2V5c0-1.1-.9-2-2-2zM9 17H7v-7h2v7zm4 0h-2V7h2v10zm4 0h-2v-4h2v4z\"/>\n",
              "    </g>\n",
              "</svg>\n",
              "  </button>\n",
              "\n",
              "<style>\n",
              "  .colab-df-quickchart {\n",
              "      --bg-color: #E8F0FE;\n",
              "      --fill-color: #1967D2;\n",
              "      --hover-bg-color: #E2EBFA;\n",
              "      --hover-fill-color: #174EA6;\n",
              "      --disabled-fill-color: #AAA;\n",
              "      --disabled-bg-color: #DDD;\n",
              "  }\n",
              "\n",
              "  [theme=dark] .colab-df-quickchart {\n",
              "      --bg-color: #3B4455;\n",
              "      --fill-color: #D2E3FC;\n",
              "      --hover-bg-color: #434B5C;\n",
              "      --hover-fill-color: #FFFFFF;\n",
              "      --disabled-bg-color: #3B4455;\n",
              "      --disabled-fill-color: #666;\n",
              "  }\n",
              "\n",
              "  .colab-df-quickchart {\n",
              "    background-color: var(--bg-color);\n",
              "    border: none;\n",
              "    border-radius: 50%;\n",
              "    cursor: pointer;\n",
              "    display: none;\n",
              "    fill: var(--fill-color);\n",
              "    height: 32px;\n",
              "    padding: 0;\n",
              "    width: 32px;\n",
              "  }\n",
              "\n",
              "  .colab-df-quickchart:hover {\n",
              "    background-color: var(--hover-bg-color);\n",
              "    box-shadow: 0 1px 2px rgba(60, 64, 67, 0.3), 0 1px 3px 1px rgba(60, 64, 67, 0.15);\n",
              "    fill: var(--button-hover-fill-color);\n",
              "  }\n",
              "\n",
              "  .colab-df-quickchart-complete:disabled,\n",
              "  .colab-df-quickchart-complete:disabled:hover {\n",
              "    background-color: var(--disabled-bg-color);\n",
              "    fill: var(--disabled-fill-color);\n",
              "    box-shadow: none;\n",
              "  }\n",
              "\n",
              "  .colab-df-spinner {\n",
              "    border: 2px solid var(--fill-color);\n",
              "    border-color: transparent;\n",
              "    border-bottom-color: var(--fill-color);\n",
              "    animation:\n",
              "      spin 1s steps(1) infinite;\n",
              "  }\n",
              "\n",
              "  @keyframes spin {\n",
              "    0% {\n",
              "      border-color: transparent;\n",
              "      border-bottom-color: var(--fill-color);\n",
              "      border-left-color: var(--fill-color);\n",
              "    }\n",
              "    20% {\n",
              "      border-color: transparent;\n",
              "      border-left-color: var(--fill-color);\n",
              "      border-top-color: var(--fill-color);\n",
              "    }\n",
              "    30% {\n",
              "      border-color: transparent;\n",
              "      border-left-color: var(--fill-color);\n",
              "      border-top-color: var(--fill-color);\n",
              "      border-right-color: var(--fill-color);\n",
              "    }\n",
              "    40% {\n",
              "      border-color: transparent;\n",
              "      border-right-color: var(--fill-color);\n",
              "      border-top-color: var(--fill-color);\n",
              "    }\n",
              "    60% {\n",
              "      border-color: transparent;\n",
              "      border-right-color: var(--fill-color);\n",
              "    }\n",
              "    80% {\n",
              "      border-color: transparent;\n",
              "      border-right-color: var(--fill-color);\n",
              "      border-bottom-color: var(--fill-color);\n",
              "    }\n",
              "    90% {\n",
              "      border-color: transparent;\n",
              "      border-bottom-color: var(--fill-color);\n",
              "    }\n",
              "  }\n",
              "</style>\n",
              "\n",
              "  <script>\n",
              "    async function quickchart(key) {\n",
              "      const quickchartButtonEl =\n",
              "        document.querySelector('#' + key + ' button');\n",
              "      quickchartButtonEl.disabled = true;  // To prevent multiple clicks.\n",
              "      quickchartButtonEl.classList.add('colab-df-spinner');\n",
              "      try {\n",
              "        const charts = await google.colab.kernel.invokeFunction(\n",
              "            'suggestCharts', [key], {});\n",
              "      } catch (error) {\n",
              "        console.error('Error during call to suggestCharts:', error);\n",
              "      }\n",
              "      quickchartButtonEl.classList.remove('colab-df-spinner');\n",
              "      quickchartButtonEl.classList.add('colab-df-quickchart-complete');\n",
              "    }\n",
              "    (() => {\n",
              "      let quickchartButtonEl =\n",
              "        document.querySelector('#df-ee80978e-9653-4ee4-a17a-68980d3c4fe4 button');\n",
              "      quickchartButtonEl.style.display =\n",
              "        google.colab.kernel.accessAllowed ? 'block' : 'none';\n",
              "    })();\n",
              "  </script>\n",
              "</div>\n",
              "\n",
              "    </div>\n",
              "  </div>\n"
            ],
            "application/vnd.google.colaboratory.intrinsic+json": {
              "type": "dataframe",
              "variable_name": "data",
              "summary": "{\n  \"name\": \"data\",\n  \"rows\": 100,\n  \"fields\": [\n    {\n      \"column\": \"DMV_Test_1\",\n      \"properties\": {\n        \"dtype\": \"number\",\n        \"std\": 19.458222275425072,\n        \"min\": 30.05882244669796,\n        \"max\": 99.82785779692128,\n        \"num_unique_values\": 100,\n        \"samples\": [\n          57.23870631569862,\n          34.52451385320009,\n          32.72283304060323\n        ],\n        \"semantic_type\": \"\",\n        \"description\": \"\"\n      }\n    },\n    {\n      \"column\": \"DMV_Test_2\",\n      \"properties\": {\n        \"dtype\": \"number\",\n        \"std\": 18.582783039307344,\n        \"min\": 30.60326323428011,\n        \"max\": 98.86943574220612,\n        \"num_unique_values\": 100,\n        \"samples\": [\n          59.51428198012956,\n          60.39634245837173,\n          43.30717306430063\n        ],\n        \"semantic_type\": \"\",\n        \"description\": \"\"\n      }\n    },\n    {\n      \"column\": \"Results\",\n      \"properties\": {\n        \"dtype\": \"number\",\n        \"std\": 0,\n        \"min\": 0,\n        \"max\": 1,\n        \"num_unique_values\": 2,\n        \"samples\": [\n          1,\n          0\n        ],\n        \"semantic_type\": \"\",\n        \"description\": \"\"\n      }\n    }\n  ]\n}"
            }
          },
          "metadata": {},
          "execution_count": 63
        }
      ]
    },
    {
      "cell_type": "code",
      "metadata": {
        "id": "WHNSw-jEv_-v",
        "colab": {
          "base_uri": "https://localhost:8080/"
        },
        "outputId": "1085a730-8f4c-41a4-a761-7fc53f62fe71"
      },
      "source": [
        "data.info()"
      ],
      "execution_count": 64,
      "outputs": [
        {
          "output_type": "stream",
          "name": "stdout",
          "text": [
            "<class 'pandas.core.frame.DataFrame'>\n",
            "RangeIndex: 100 entries, 0 to 99\n",
            "Data columns (total 3 columns):\n",
            " #   Column      Non-Null Count  Dtype  \n",
            "---  ------      --------------  -----  \n",
            " 0   DMV_Test_1  100 non-null    float64\n",
            " 1   DMV_Test_2  100 non-null    float64\n",
            " 2   Results     100 non-null    int64  \n",
            "dtypes: float64(2), int64(1)\n",
            "memory usage: 2.5 KB\n"
          ]
        }
      ]
    },
    {
      "cell_type": "code",
      "metadata": {
        "id": "kAKbXQGQv_-0"
      },
      "source": [
        "scores = data[['DMV_Test_1', 'DMV_Test_2']].values\n",
        "results = data['Results'].values"
      ],
      "execution_count": 65,
      "outputs": []
    },
    {
      "cell_type": "markdown",
      "metadata": {
        "id": "A6seGivEv_-5"
      },
      "source": [
        "### Visualizar Datos"
      ]
    },
    {
      "cell_type": "code",
      "metadata": {
        "id": "ft3Xdbkwv_-6",
        "colab": {
          "base_uri": "https://localhost:8080/",
          "height": 700
        },
        "outputId": "7b016baa-bfab-4692-ca26-512f4da6c4e8"
      },
      "source": [
        "passed = (results == 1).reshape(100, 1)\n",
        "failed = (results == 0).reshape(100, 1)\n",
        "\n",
        "ax = sns.scatterplot(x = scores[passed[:, 0], 0],\n",
        "                     y = scores[passed[:, 0], 1],\n",
        "                     marker = \"^\",\n",
        "                     color = \"green\",\n",
        "                     s = 60)\n",
        "sns.scatterplot(x = scores[failed[:, 0], 0],\n",
        "                y = scores[failed[:, 0], 1],\n",
        "                marker = \"X\",\n",
        "                color = \"red\",\n",
        "                s = 60)\n",
        "\n",
        "ax.set(xlabel=\"DMV Written Test 1 Scores\", ylabel=\"DMV Written Test 2 Scores\")\n",
        "ax.legend([\"Passed\", \"Failed\"])\n",
        "plt.show();"
      ],
      "execution_count": 66,
      "outputs": [
        {
          "output_type": "display_data",
          "data": {
            "text/plain": [
              "<Figure size 1200x800 with 1 Axes>"
            ],
            "image/png": "[encoded data removed]"
          },
          "metadata": {}
        }
      ]
    },
    {
      "cell_type": "markdown",
      "metadata": {
        "id": "kRSvpHJbv_--"
      },
      "source": [
        "### Definimos de la función logística $\\sigma(z)$\n",
        "\n",
        "$$ \\sigma(z) = \\frac{1}{1+e^{-z}}$$"
      ]
    },
    {
      "cell_type": "code",
      "metadata": {
        "id": "7QT1Pqwwv_-_"
      },
      "source": [
        "def logistic_function(x):\n",
        "    return 1/ (1 + np.exp(-x))"
      ],
      "execution_count": 67,
      "outputs": []
    },
    {
      "cell_type": "code",
      "metadata": {
        "id": "Oiwj3rYzv__D",
        "colab": {
          "base_uri": "https://localhost:8080/"
        },
        "outputId": "9ef9884f-d8fc-44d8-de43-29daa7304485"
      },
      "source": [
        "logistic_function(0)"
      ],
      "execution_count": 68,
      "outputs": [
        {
          "output_type": "execute_result",
          "data": {
            "text/plain": [
              "0.5"
            ]
          },
          "metadata": {},
          "execution_count": 68
        }
      ]
    },
    {
      "cell_type": "markdown",
      "metadata": {
        "id": "_rUWBmqov__I"
      },
      "source": [
        "### Cálculo de la Función de Coste  $J(\\theta)$ y el Gradiente"
      ]
    },
    {
      "cell_type": "markdown",
      "metadata": {
        "id": "fqQysVC-v__J"
      },
      "source": [
        "En la regresión Logística debemos minimizar la función de coste\n",
        "\n",
        "$$J(\\theta) = -\\frac{1}{m} \\sum_{i=1}^{m} [ y^{(i)}log(h_{\\theta}(x^{(i)})) + (1 - y^{(i)})log(1 - (h_{\\theta}(x^{(i)}))]$$\n",
        "\n",
        "Siendo el gradiente de esta función de coste:\n",
        "\n",
        "$$ \\frac{\\partial J(\\theta)}{\\partial \\theta_j} = \\frac{1}{m} \\sum_{i=1}^{m} (h_{\\theta}(x^{(i)}) - y^{(i)})x_j^{(i)}$$"
      ]
    },
    {
      "cell_type": "code",
      "metadata": {
        "id": "8MdUPocAv__K"
      },
      "source": [
        "def compute_cost(theta, x, y):\n",
        "    m = len(y)\n",
        "    y_pred = logistic_function(np.dot(x , theta))\n",
        "    error = (y * np.log(y_pred)) + ((1 - y) * np.log(1 - y_pred))\n",
        "    cost = -1 / m * sum(error)\n",
        "    gradient = 1 / m *(np.dot(x.transpose(), (y_pred - y)))\n",
        "    return cost[0] , gradient"
      ],
      "execution_count": 79,
      "outputs": []
    },
    {
      "cell_type": "markdown",
      "metadata": {
        "id": "BFBr2LsSv__O"
      },
      "source": [
        "### Inicialización del Coste y el Gradiente"
      ]
    },
    {
      "cell_type": "code",
      "metadata": {
        "id": "191eT1E4v__P",
        "colab": {
          "base_uri": "https://localhost:8080/"
        },
        "outputId": "682a1bcd-022d-48b7-e5bc-5285ba6c715e"
      },
      "source": [
        "#mean_scores = np.mean(scores, axis=0)\n",
        "#std_scores = np.std(scores, axis=0)\n",
        "#scores = (scores - mean_scores) / std_scores #standardization\n",
        "\n",
        "rows = scores.shape[0]\n",
        "cols = scores.shape[1]\n",
        "\n",
        "X = np.append(np.ones((rows, 1)), scores, axis=1) #include intercept\n",
        "y = results.reshape(rows, 1)\n",
        "\n",
        "theta_init = np.zeros((cols + 1, 1))\n",
        "cost, gradient = compute_cost(theta_init, X, y)\n",
        "\n",
        "print(\"Cost at initialization\", cost)\n",
        "print(\"Gradient at initialization:\", gradient)"
      ],
      "execution_count": 102,
      "outputs": [
        {
          "output_type": "stream",
          "name": "stdout",
          "text": [
            "Cost at initialization 0.693147180559946\n",
            "Gradient at initialization: [[-0.1       ]\n",
            " [-0.28122914]\n",
            " [-0.25098615]]\n"
          ]
        }
      ]
    },
    {
      "cell_type": "markdown",
      "metadata": {
        "id": "XcEtsz-1v__T"
      },
      "source": [
        "### Gradiente Descendente"
      ]
    },
    {
      "cell_type": "markdown",
      "metadata": {
        "id": "12L_QCYQv__U"
      },
      "source": [
        "Minimizamos la función de coste $J(\\theta)$  actualizando la siguiente ecuación (algoritmo del gradiente descendente) repitiendo hasta convergencia :  \n",
        "$\\theta_j := \\theta_j - \\alpha \\frac{\\partial J(\\theta)}{\\partial \\theta_j}$    \n",
        " (actualizar simultaneamente $\\theta_j$ para todo $j$)"
      ]
    },
    {
      "cell_type": "code",
      "metadata": {
        "id": "6r0mZuWqv__V"
      },
      "source": [
        "def gradient_descent(x, y, theta, alpha, iterations):\n",
        "    costs = []\n",
        "\n",
        "    for i in range(iterations):\n",
        "        cost, gradient = compute_cost(theta, x, y)\n",
        "        theta = theta - (alpha * gradient)\n",
        "        if i % 1 == 0:\n",
        "            print(\"Iteration\", i, \"Cost:\", cost)\n",
        "        costs.append(cost)\n",
        "    return theta, costs"
      ],
      "execution_count": 98,
      "outputs": []
    },
    {
      "cell_type": "code",
      "source": [
        "theta_init"
      ],
      "metadata": {
        "id": "Z3hEqQtWuSvR",
        "outputId": "fa639ea4-0749-4922-aeed-00a8fdda886e",
        "colab": {
          "base_uri": "https://localhost:8080/"
        }
      },
      "execution_count": 106,
      "outputs": [
        {
          "output_type": "execute_result",
          "data": {
            "text/plain": [
              "array([[0.],\n",
              "       [0.],\n",
              "       [0.]])"
            ]
          },
          "metadata": {},
          "execution_count": 106
        }
      ]
    },
    {
      "cell_type": "code",
      "metadata": {
        "id": "qCHyUDk_v__Z",
        "collapsed": true,
        "outputId": "3cf21ffa-b4a9-4c91-e15e-dbee7f04d47d",
        "colab": {
          "base_uri": "https://localhost:8080/"
        }
      },
      "source": [
        "theta, costs = gradient_descent(X, y, theta_init, 0.1, 200)"
      ],
      "execution_count": 107,
      "outputs": [
        {
          "output_type": "stream",
          "name": "stdout",
          "text": [
            "Iteration 0 Cost: 0.693147180559946\n",
            "Iteration 1 Cost: 0.6781246963007578\n",
            "Iteration 2 Cost: 0.66382741095537\n",
            "Iteration 3 Cost: 0.6502189347748323\n",
            "Iteration 4 Cost: 0.6372638011294857\n",
            "Iteration 5 Cost: 0.6249276349768509\n",
            "Iteration 6 Cost: 0.6131772824536351\n",
            "Iteration 7 Cost: 0.6019809053902057\n",
            "Iteration 8 Cost: 0.591308044861739\n",
            "Iteration 9 Cost: 0.5811296579688263\n",
            "Iteration 10 Cost: 0.5714181319373622\n",
            "Iteration 11 Cost: 0.5621472793949616\n",
            "Iteration 12 Cost: 0.5532923183637236\n",
            "Iteration 13 Cost: 0.5448298401440204\n",
            "Iteration 14 Cost: 0.5367377678799601\n",
            "Iteration 15 Cost: 0.5289953082157876\n",
            "Iteration 16 Cost: 0.5215828980887385\n",
            "Iteration 17 Cost: 0.5144821483673813\n",
            "Iteration 18 Cost: 0.507675785740751\n",
            "Iteration 19 Cost: 0.5011475939948845\n",
            "Iteration 20 Cost: 0.4948823555796873\n",
            "Iteration 21 Cost: 0.48886579416897574\n",
            "Iteration 22 Cost: 0.4830845187474487\n",
            "Iteration 23 Cost: 0.47752596961736515\n",
            "Iteration 24 Cost: 0.4721783666015383\n",
            "Iteration 25 Cost: 0.46703065962474805\n",
            "Iteration 26 Cost: 0.46207248177974963\n",
            "Iteration 27 Cost: 0.45729410492389855\n",
            "Iteration 28 Cost: 0.4526863978054735\n",
            "Iteration 29 Cost: 0.4482407866828499\n",
            "Iteration 30 Cost: 0.4439492183727496\n",
            "Iteration 31 Cost: 0.43980412564425686\n",
            "Iteration 32 Cost: 0.4357983948616652\n",
            "Iteration 33 Cost: 0.4319253357703678\n",
            "Iteration 34 Cost: 0.4281786533148617\n",
            "Iteration 35 Cost: 0.42455242137575505\n",
            "Iteration 36 Cost: 0.4210410583126992\n",
            "Iteration 37 Cost: 0.4176393042019315\n",
            "Iteration 38 Cost: 0.4143421996600939\n",
            "Iteration 39 Cost: 0.41114506614990604\n",
            "Iteration 40 Cost: 0.40804348766777715\n",
            "Iteration 41 Cost: 0.4050332937183307\n",
            "Iteration 42 Cost: 0.40211054348594927\n",
            "Iteration 43 Cost: 0.3992715111186256\n",
            "Iteration 44 Cost: 0.39651267204459884\n",
            "Iteration 45 Cost: 0.39383069024731837\n",
            "Iteration 46 Cost: 0.39122240642921136\n",
            "Iteration 47 Cost: 0.3886848269994684\n",
            "Iteration 48 Cost: 0.38621511382556867\n",
            "Iteration 49 Cost: 0.3838105746925623\n",
            "Iteration 50 Cost: 0.38146865441815986\n",
            "Iteration 51 Cost: 0.37918692657548386\n",
            "Iteration 52 Cost: 0.37696308577889825\n",
            "Iteration 53 Cost: 0.37479494049164763\n",
            "Iteration 54 Cost: 0.3726804063171395\n",
            "Iteration 55 Cost: 0.3706174997385799\n",
            "Iteration 56 Cost: 0.3686043322743432\n",
            "Iteration 57 Cost: 0.366639105018932\n",
            "Iteration 58 Cost: 0.36472010354167744\n",
            "Iteration 59 Cost: 0.36284569311744536\n",
            "Iteration 60 Cost: 0.3610143142655727\n",
            "Iteration 61 Cost: 0.35922447857507034\n",
            "Iteration 62 Cost: 0.3574747647957875\n",
            "Iteration 63 Cost: 0.3557638151767805\n",
            "Iteration 64 Cost: 0.35409033203454277\n",
            "Iteration 65 Cost: 0.35245307453506\n",
            "Iteration 66 Cost: 0.3508508556748606\n",
            "Iteration 67 Cost: 0.3492825394473477\n",
            "Iteration 68 Cost: 0.3477470381817092\n",
            "Iteration 69 Cost: 0.3462433100426639\n",
            "Iteration 70 Cost: 0.34477035668015377\n",
            "Iteration 71 Cost: 0.3433272210189082\n",
            "Iteration 72 Cost: 0.341912985178536\n",
            "Iteration 73 Cost: 0.3405267685154839\n",
            "Iteration 74 Cost: 0.3391677257788343\n",
            "Iteration 75 Cost: 0.3378350453724874\n",
            "Iteration 76 Cost: 0.336527947716812\n",
            "Iteration 77 Cost: 0.3352456837033427\n",
            "Iteration 78 Cost: 0.3339875332365559\n",
            "Iteration 79 Cost: 0.33275280385718103\n",
            "Iteration 80 Cost: 0.33154082944188695\n",
            "Iteration 81 Cost: 0.33035096897455263\n",
            "Iteration 82 Cost: 0.3291826053846515\n",
            "Iteration 83 Cost: 0.32803514444859977\n",
            "Iteration 84 Cost: 0.3269080137501915\n",
            "Iteration 85 Cost: 0.3258006616965166\n",
            "Iteration 86 Cost: 0.3247125565859952\n",
            "Iteration 87 Cost: 0.3236431857253937\n",
            "Iteration 88 Cost: 0.3225920545928909\n",
            "Iteration 89 Cost: 0.32155868604446236\n",
            "Iteration 90 Cost: 0.3205426195610322\n",
            "Iteration 91 Cost: 0.3195434105340003\n",
            "Iteration 92 Cost: 0.3185606295869213\n",
            "Iteration 93 Cost: 0.3175938619312445\n",
            "Iteration 94 Cost: 0.31664270675416434\n",
            "Iteration 95 Cost: 0.31570677663675495\n",
            "Iteration 96 Cost: 0.314785697000674\n",
            "Iteration 97 Cost: 0.31387910558183857\n",
            "Iteration 98 Cost: 0.3129866519295638\n",
            "Iteration 99 Cost: 0.3121079969297592\n",
            "Iteration 100 Cost: 0.3112428123508575\n",
            "Iteration 101 Cost: 0.310390780411238\n",
            "Iteration 102 Cost: 0.30955159336697824\n",
            "Iteration 103 Cost: 0.3087249531188369\n",
            "Iteration 104 Cost: 0.3079105708374448\n",
            "Iteration 105 Cost: 0.30710816660573115\n",
            "Iteration 106 Cost: 0.3063174690776814\n",
            "Iteration 107 Cost: 0.3055382151525666\n",
            "Iteration 108 Cost: 0.30477014966384136\n",
            "Iteration 109 Cost: 0.30401302508195244\n",
            "Iteration 110 Cost: 0.30326660123034127\n",
            "Iteration 111 Cost: 0.30253064501397037\n",
            "Iteration 112 Cost: 0.301804930159737\n",
            "Iteration 113 Cost: 0.3010892369681768\n",
            "Iteration 114 Cost: 0.30038335207589156\n",
            "Iteration 115 Cost: 0.29968706822816954\n",
            "Iteration 116 Cost: 0.2990001840612963\n",
            "Iteration 117 Cost: 0.2983225038940761\n",
            "Iteration 118 Cost: 0.2976538375281211\n",
            "Iteration 119 Cost: 0.2969940000564812\n",
            "Iteration 120 Cost: 0.296342811680211\n",
            "Iteration 121 Cost: 0.29570009753249976\n",
            "Iteration 122 Cost: 0.2950656875100006\n",
            "Iteration 123 Cost: 0.2944394161110209\n",
            "Iteration 124 Cost: 0.29382112228025337\n",
            "Iteration 125 Cost: 0.2932106492597402\n",
            "Iteration 126 Cost: 0.29260784444578464\n",
            "Iteration 127 Cost: 0.29201255925153397\n",
            "Iteration 128 Cost: 0.2914246489749755\n",
            "Iteration 129 Cost: 0.2908439726721004\n",
            "Iteration 130 Cost: 0.29027039303499863\n",
            "Iteration 131 Cost: 0.2897037762746674\n",
            "Iteration 132 Cost: 0.28914399200832225\n",
            "Iteration 133 Cost: 0.2885909131510062\n",
            "Iteration 134 Cost: 0.2880444158113152\n",
            "Iteration 135 Cost: 0.28750437919105226\n",
            "Iteration 136 Cost: 0.2869706854886442\n",
            "Iteration 137 Cost: 0.2864432198061547\n",
            "Iteration 138 Cost: 0.28592187005973996\n",
            "Iteration 139 Cost: 0.28540652689340257\n",
            "Iteration 140 Cost: 0.2848970835958952\n",
            "Iteration 141 Cost: 0.2843934360206509\n",
            "Iteration 142 Cost: 0.2838954825086053\n",
            "Iteration 143 Cost: 0.28340312381379246\n",
            "Iteration 144 Cost: 0.2829162630315998\n",
            "Iteration 145 Cost: 0.2824348055295698\n",
            "Iteration 146 Cost: 0.2819586588806465\n",
            "Iteration 147 Cost: 0.28148773279876493\n",
            "Iteration 148 Cost: 0.2810219390766881\n",
            "Iteration 149 Cost: 0.28056119152600306\n",
            "Iteration 150 Cost: 0.28010540591918603\n",
            "Iteration 151 Cost: 0.2796544999336564\n",
            "Iteration 152 Cost: 0.27920839309773865\n",
            "Iteration 153 Cost: 0.2787670067384594\n",
            "Iteration 154 Cost: 0.2783302639311034\n",
            "Iteration 155 Cost: 0.2778980894504642\n",
            "Iteration 156 Cost: 0.2774704097237198\n",
            "Iteration 157 Cost: 0.2770471527848731\n",
            "Iteration 158 Cost: 0.27662824823069526\n",
            "Iteration 159 Cost: 0.2762136271781151\n",
            "Iteration 160 Cost: 0.2758032222229997\n",
            "Iteration 161 Cost: 0.27539696740027336\n",
            "Iteration 162 Cost: 0.2749947981453236\n",
            "Iteration 163 Cost: 0.2745966512566482\n",
            "Iteration 164 Cost: 0.27420246485969463\n",
            "Iteration 165 Cost: 0.27381217837184857\n",
            "Iteration 166 Cost: 0.2734257324685299\n",
            "Iteration 167 Cost: 0.2730430690503547\n",
            "Iteration 168 Cost: 0.27266413121132393\n",
            "Iteration 169 Cost: 0.27228886320800305\n",
            "Iteration 170 Cost: 0.2719172104296544\n",
            "Iteration 171 Cost: 0.2715491193692916\n",
            "Iteration 172 Cost: 0.27118453759561856\n",
            "Iteration 173 Cost: 0.27082341372582486\n",
            "Iteration 174 Cost: 0.2704656973992075\n",
            "Iteration 175 Cost: 0.2701113392515869\n",
            "Iteration 176 Cost: 0.26976029089049103\n",
            "Iteration 177 Cost: 0.26941250487108326\n",
            "Iteration 178 Cost: 0.2690679346728018\n",
            "Iteration 179 Cost: 0.268726534676695\n",
            "Iteration 180 Cost: 0.26838826014341804\n",
            "Iteration 181 Cost: 0.26805306719187993\n",
            "Iteration 182 Cost: 0.26772091277850785\n",
            "Iteration 183 Cost: 0.2673917546771158\n",
            "Iteration 184 Cost: 0.2670655514593527\n",
            "Iteration 185 Cost: 0.2667422624757136\n",
            "Iteration 186 Cost: 0.26642184783709133\n",
            "Iteration 187 Cost: 0.2661042683968556\n",
            "Iteration 188 Cost: 0.26578948573343614\n",
            "Iteration 189 Cost: 0.2654774621334004\n",
            "Iteration 190 Cost: 0.2651681605750029\n",
            "Iteration 191 Cost: 0.2648615447121939\n",
            "Iteration 192 Cost: 0.2645575788590742\n",
            "Iteration 193 Cost: 0.2642562279747773\n",
            "Iteration 194 Cost: 0.26395745764876927\n",
            "Iteration 195 Cost: 0.26366123408655084\n",
            "Iteration 196 Cost: 0.26336752409574876\n",
            "Iteration 197 Cost: 0.2630762950725855\n",
            "Iteration 198 Cost: 0.2627875149887134\n",
            "Iteration 199 Cost: 0.2625011523784044\n"
          ]
        }
      ]
    },
    {
      "cell_type": "code",
      "metadata": {
        "id": "yFd2uVT9v__d",
        "colab": {
          "base_uri": "https://localhost:8080/"
        },
        "outputId": "ed234450-7d8e-4574-809f-4437cd9f653b"
      },
      "source": [
        "print(\"Theta after running gradient descent:\", theta)\n",
        "print(\"Resulting cost:\", costs[-1])"
      ],
      "execution_count": 89,
      "outputs": [
        {
          "output_type": "stream",
          "name": "stdout",
          "text": [
            "Theta after running gradient descent: [[1.67192074]\n",
            " [3.89354928]\n",
            " [3.62911339]]\n",
            "Resulting cost: 0.20356054510899488\n"
          ]
        }
      ]
    },
    {
      "cell_type": "markdown",
      "metadata": {
        "id": "G0wYcEZkv__h"
      },
      "source": [
        "###  Convergencia de $J(\\theta)$"
      ]
    },
    {
      "cell_type": "markdown",
      "metadata": {
        "id": "SS1g8Dubv__i"
      },
      "source": [
        "Dibujamos $J(\\theta)$ en relación al número de iteraciones del  gradiente descente:"
      ]
    },
    {
      "cell_type": "code",
      "metadata": {
        "id": "_RvJ1Orcv__j",
        "colab": {
          "base_uri": "https://localhost:8080/",
          "height": 723
        },
        "outputId": "c740103e-b272-4cb9-de8f-0d2a7c15b878"
      },
      "source": [
        "plt.plot(costs)\n",
        "plt.xlabel(\"Iterations\")\n",
        "plt.ylabel(\"$J(\\Theta)$\")\n",
        "plt.title(\"Values of Cost Function over iterations of Gradient Descent\");"
      ],
      "execution_count": 108,
      "outputs": [
        {
          "output_type": "display_data",
          "data": {
            "text/plain": [
              "<Figure size 1200x800 with 1 Axes>"
            ],
            "image/png": "[encoded data removed]"
          },
          "metadata": {}
        }
      ]
    },
    {
      "cell_type": "markdown",
      "metadata": {
        "id": "EOwRVJ4Yv__n"
      },
      "source": [
        "### Dibujemos la recta de decisión"
      ]
    },
    {
      "cell_type": "markdown",
      "metadata": {
        "id": "DMFDLDTzv__o"
      },
      "source": [
        "$h_\\theta(x) = \\sigma(z)$, donde $\\sigma$ es la función sigmoide y $z = \\theta^Tx$\n",
        "\n",
        "Cuando $h_\\theta(x) \\geq 0.5$ el modelo predice la clase \"1\":\n",
        "\n",
        "$\\implies \\sigma(\\theta^Tx) \\geq 0.5$\n",
        "\n",
        "$\\implies \\theta^Tx \\geq 0$ predice clase \"1\"\n",
        "\n",
        "Como, $\\theta_1 + \\theta_2x_2 + \\theta_3x_3 = 0$ es la ecuación de la recta de decisión, tenemos que :\n",
        "\n",
        "$ x_3 = \\frac{-(\\theta_1+\\theta_2x_2)}{\\theta_3}$"
      ]
    },
    {
      "cell_type": "code",
      "metadata": {
        "id": "DD3cGiKvv__o",
        "colab": {
          "base_uri": "https://localhost:8080/",
          "height": 700
        },
        "outputId": "b229c46f-b6d4-46ba-8812-5735446c85e3"
      },
      "source": [
        "sns.scatterplot(x = X[passed[:, 0], 1],\n",
        "                y = X[passed[:, 0], 2],\n",
        "                marker = \"^\",\n",
        "                color = \"green\",\n",
        "                s = 60)\n",
        "ax = sns.scatterplot(x = X[failed[:, 0], 1],\n",
        "                    y = X[failed[:, 0], 2],\n",
        "                    marker = \"X\",\n",
        "                    color = \"red\",\n",
        "                    s = 60)\n",
        "\n",
        "ax.legend([\"Passed\", \"Failed\"])\n",
        "ax.set(xlabel=\"DMV Written Test 1 Scores\", ylabel=\"DMV Written Test 2 Scores\")\n",
        "\n",
        "x_boundary = np.array([np.min(X[:, 1]), np.max(X[:, 1])])\n",
        "y_boundary = -(theta[0] + theta[1] * x_boundary) / theta[2]\n",
        "\n",
        "sns.lineplot(x = x_boundary, y = y_boundary, color=\"blue\")\n",
        "plt.show();"
      ],
      "execution_count": 75,
      "outputs": [
        {
          "output_type": "display_data",
          "data": {
            "text/plain": [
              "<Figure size 1200x800 with 1 Axes>"
            ],
            "image/png": "[encoded data removed]"
          },
          "metadata": {}
        }
      ]
    },
    {
      "cell_type": "markdown",
      "metadata": {
        "id": "TJrYT_Yhv__t"
      },
      "source": [
        "### Predicciones utilizando los valores $\\theta$ encontrados"
      ]
    },
    {
      "cell_type": "markdown",
      "metadata": {
        "id": "8aTpI1C7v__u"
      },
      "source": [
        "$h_\\theta(x) = x\\theta$"
      ]
    },
    {
      "cell_type": "code",
      "metadata": {
        "id": "pidK1zqSv__v"
      },
      "source": [
        "def predict(theta, x):\n",
        "    results = x.dot(theta)\n",
        "    return results > 0\n"
      ],
      "execution_count": 76,
      "outputs": []
    },
    {
      "cell_type": "code",
      "metadata": {
        "id": "qpvIV7phv__y",
        "colab": {
          "base_uri": "https://localhost:8080/"
        },
        "outputId": "56ba044c-1da0-476b-942b-28fb29390894"
      },
      "source": [
        "p = predict(theta, X)\n",
        "print(\"Training Accuracy:\", sum(p==y)[0],\"%\")"
      ],
      "execution_count": 77,
      "outputs": [
        {
          "output_type": "stream",
          "name": "stdout",
          "text": [
            "Training Accuracy: 86 %\n"
          ]
        }
      ]
    },
    {
      "cell_type": "code",
      "metadata": {
        "id": "3Va48zM0v__1",
        "colab": {
          "base_uri": "https://localhost:8080/"
        },
        "outputId": "19e7befd-9ef9-4cc6-994e-eee7845a4087"
      },
      "source": [
        "test = np.array([50,79])\n",
        "test = (test - mean_scores)/std_scores\n",
        "test = np.append(np.ones(1), test)\n",
        "probability = logistic_function(test.dot(theta))\n",
        "print(\"A person who scores 50 and 79 on their DMV written tests have a\",\n",
        "      np.round(probability[0], 2),\"probability of passing.\")"
      ],
      "execution_count": 78,
      "outputs": [
        {
          "output_type": "stream",
          "name": "stdout",
          "text": [
            "A person who scores 50 and 79 on their DMV written tests have a 0.87 probability of passing.\n"
          ]
        }
      ]
    }
  ]
}