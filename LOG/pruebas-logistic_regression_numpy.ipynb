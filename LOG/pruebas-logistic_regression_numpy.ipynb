{
  "nbformat": 4,
  "nbformat_minor": 0,
  "metadata": {
    "kernelspec": {
      "display_name": "Python 3",
      "language": "python",
      "name": "python3"
    },
    "language_info": {
      "codemirror_mode": {
        "name": "ipython",
        "version": 3
      },
      "file_extension": ".py",
      "mimetype": "text/x-python",
      "name": "python",
      "nbconvert_exporter": "python",
      "pygments_lexer": "ipython3",
      "version": "3.6.8"
    },
    "colab": {
      "provenance": [],
      "include_colab_link": true
    }
  },
  "cells": [
    {
      "cell_type": "markdown",
      "metadata": {
        "id": "view-in-github",
        "colab_type": "text"
      },
      "source": [
        "<a href=\"https://colab.research.google.com/github/gachet/ad-1-24/blob/main/LOG/pruebas-logistic_regression_numpy.ipynb\" target=\"_parent\"><img src=\"https://colab.research.google.com/assets/colab-badge.svg\" alt=\"Open In Colab\"/></a>"
      ]
    },
    {
      "cell_type": "markdown",
      "metadata": {
        "id": "0vLu6Zvwv_-b"
      },
      "source": [
        "# Regresión Logística"
      ]
    },
    {
      "cell_type": "markdown",
      "metadata": {
        "id": "qxrl6Y8dv_-e"
      },
      "source": [
        "###  Librerías y catga de datos"
      ]
    },
    {
      "cell_type": "code",
      "metadata": {
        "id": "U89ZWwerv_-f"
      },
      "source": [
        "import numpy as np\n",
        "import matplotlib.pyplot as plt\n",
        "import seaborn as sns\n",
        "import pandas as pd\n",
        "plt.style.use(\"ggplot\")\n",
        "%matplotlib inline"
      ],
      "execution_count": 6,
      "outputs": []
    },
    {
      "cell_type": "code",
      "metadata": {
        "id": "WgcSySujv_-l"
      },
      "source": [],
      "execution_count": 4,
      "outputs": []
    },
    {
      "cell_type": "code",
      "metadata": {
        "id": "gpg6iGBHv_-q",
        "colab": {
          "base_uri": "https://localhost:8080/",
          "height": 206
        },
        "outputId": "082fd279-b1d4-4200-8e9a-79edbf76616d"
      },
      "source": [
        "data = pd.read_csv(\"https://drive.google.com/uc?id=1fMmyhTvj8RAJxMdFtI7zB5j8egQKx30O\")\n",
        "data.head()"
      ],
      "execution_count": 84,
      "outputs": [
        {
          "output_type": "execute_result",
          "data": {
            "text/plain": [
              "   DMV_Test_1  DMV_Test_2  Results\n",
              "0   34.623660   78.024693        0\n",
              "1   30.286711   43.894998        0\n",
              "2   35.847409   72.902198        0\n",
              "3   60.182599   86.308552        1\n",
              "4   79.032736   75.344376        1"
            ],
            "text/html": [
              "\n",
              "  <div id=\"df-06721da7-1e89-477e-8ed1-9858dfe3f1f7\" class=\"colab-df-container\">\n",
              "    <div>\n",
              "<style scoped>\n",
              "    .dataframe tbody tr th:only-of-type {\n",
              "        vertical-align: middle;\n",
              "    }\n",
              "\n",
              "    .dataframe tbody tr th {\n",
              "        vertical-align: top;\n",
              "    }\n",
              "\n",
              "    .dataframe thead th {\n",
              "        text-align: right;\n",
              "    }\n",
              "</style>\n",
              "<table border=\"1\" class=\"dataframe\">\n",
              "  <thead>\n",
              "    <tr style=\"text-align: right;\">\n",
              "      <th></th>\n",
              "      <th>DMV_Test_1</th>\n",
              "      <th>DMV_Test_2</th>\n",
              "      <th>Results</th>\n",
              "    </tr>\n",
              "  </thead>\n",
              "  <tbody>\n",
              "    <tr>\n",
              "      <th>0</th>\n",
              "      <td>34.623660</td>\n",
              "      <td>78.024693</td>\n",
              "      <td>0</td>\n",
              "    </tr>\n",
              "    <tr>\n",
              "      <th>1</th>\n",
              "      <td>30.286711</td>\n",
              "      <td>43.894998</td>\n",
              "      <td>0</td>\n",
              "    </tr>\n",
              "    <tr>\n",
              "      <th>2</th>\n",
              "      <td>35.847409</td>\n",
              "      <td>72.902198</td>\n",
              "      <td>0</td>\n",
              "    </tr>\n",
              "    <tr>\n",
              "      <th>3</th>\n",
              "      <td>60.182599</td>\n",
              "      <td>86.308552</td>\n",
              "      <td>1</td>\n",
              "    </tr>\n",
              "    <tr>\n",
              "      <th>4</th>\n",
              "      <td>79.032736</td>\n",
              "      <td>75.344376</td>\n",
              "      <td>1</td>\n",
              "    </tr>\n",
              "  </tbody>\n",
              "</table>\n",
              "</div>\n",
              "    <div class=\"colab-df-buttons\">\n",
              "\n",
              "  <div class=\"colab-df-container\">\n",
              "    <button class=\"colab-df-convert\" onclick=\"convertToInteractive('df-06721da7-1e89-477e-8ed1-9858dfe3f1f7')\"\n",
              "            title=\"Convert this dataframe to an interactive table.\"\n",
              "            style=\"display:none;\">\n",
              "\n",
              "  <svg xmlns=\"http://www.w3.org/2000/svg\" height=\"24px\" viewBox=\"0 -960 960 960\">\n",
              "    <path d=\"M120-120v-720h720v720H120Zm60-500h600v-160H180v160Zm220 220h160v-160H400v160Zm0 220h160v-160H400v160ZM180-400h160v-160H180v160Zm440 0h160v-160H620v160ZM180-180h160v-160H180v160Zm440 0h160v-160H620v160Z\"/>\n",
              "  </svg>\n",
              "    </button>\n",
              "\n",
              "  <style>\n",
              "    .colab-df-container {\n",
              "      display:flex;\n",
              "      gap: 12px;\n",
              "    }\n",
              "\n",
              "    .colab-df-convert {\n",
              "      background-color: #E8F0FE;\n",
              "      border: none;\n",
              "      border-radius: 50%;\n",
              "      cursor: pointer;\n",
              "      display: none;\n",
              "      fill: #1967D2;\n",
              "      height: 32px;\n",
              "      padding: 0 0 0 0;\n",
              "      width: 32px;\n",
              "    }\n",
              "\n",
              "    .colab-df-convert:hover {\n",
              "      background-color: #E2EBFA;\n",
              "      box-shadow: 0px 1px 2px rgba(60, 64, 67, 0.3), 0px 1px 3px 1px rgba(60, 64, 67, 0.15);\n",
              "      fill: #174EA6;\n",
              "    }\n",
              "\n",
              "    .colab-df-buttons div {\n",
              "      margin-bottom: 4px;\n",
              "    }\n",
              "\n",
              "    [theme=dark] .colab-df-convert {\n",
              "      background-color: #3B4455;\n",
              "      fill: #D2E3FC;\n",
              "    }\n",
              "\n",
              "    [theme=dark] .colab-df-convert:hover {\n",
              "      background-color: #434B5C;\n",
              "      box-shadow: 0px 1px 3px 1px rgba(0, 0, 0, 0.15);\n",
              "      filter: drop-shadow(0px 1px 2px rgba(0, 0, 0, 0.3));\n",
              "      fill: #FFFFFF;\n",
              "    }\n",
              "  </style>\n",
              "\n",
              "    <script>\n",
              "      const buttonEl =\n",
              "        document.querySelector('#df-06721da7-1e89-477e-8ed1-9858dfe3f1f7 button.colab-df-convert');\n",
              "      buttonEl.style.display =\n",
              "        google.colab.kernel.accessAllowed ? 'block' : 'none';\n",
              "\n",
              "      async function convertToInteractive(key) {\n",
              "        const element = document.querySelector('#df-06721da7-1e89-477e-8ed1-9858dfe3f1f7');\n",
              "        const dataTable =\n",
              "          await google.colab.kernel.invokeFunction('convertToInteractive',\n",
              "                                                    [key], {});\n",
              "        if (!dataTable) return;\n",
              "\n",
              "        const docLinkHtml = 'Like what you see? Visit the ' +\n",
              "          '<a target=\"_blank\" href=https://colab.research.google.com/notebooks/data_table.ipynb>data table notebook</a>'\n",
              "          + ' to learn more about interactive tables.';\n",
              "        element.innerHTML = '';\n",
              "        dataTable['output_type'] = 'display_data';\n",
              "        await google.colab.output.renderOutput(dataTable, element);\n",
              "        const docLink = document.createElement('div');\n",
              "        docLink.innerHTML = docLinkHtml;\n",
              "        element.appendChild(docLink);\n",
              "      }\n",
              "    </script>\n",
              "  </div>\n",
              "\n",
              "\n",
              "<div id=\"df-90db1504-2ddd-4418-a63b-5e8516385ce5\">\n",
              "  <button class=\"colab-df-quickchart\" onclick=\"quickchart('df-90db1504-2ddd-4418-a63b-5e8516385ce5')\"\n",
              "            title=\"Suggest charts\"\n",
              "            style=\"display:none;\">\n",
              "\n",
              "<svg xmlns=\"http://www.w3.org/2000/svg\" height=\"24px\"viewBox=\"0 0 24 24\"\n",
              "     width=\"24px\">\n",
              "    <g>\n",
              "        <path d=\"M19 3H5c-1.1 0-2 .9-2 2v14c0 1.1.9 2 2 2h14c1.1 0 2-.9 2-2V5c0-1.1-.9-2-2-2zM9 17H7v-7h2v7zm4 0h-2V7h2v10zm4 0h-2v-4h2v4z\"/>\n",
              "    </g>\n",
              "</svg>\n",
              "  </button>\n",
              "\n",
              "<style>\n",
              "  .colab-df-quickchart {\n",
              "      --bg-color: #E8F0FE;\n",
              "      --fill-color: #1967D2;\n",
              "      --hover-bg-color: #E2EBFA;\n",
              "      --hover-fill-color: #174EA6;\n",
              "      --disabled-fill-color: #AAA;\n",
              "      --disabled-bg-color: #DDD;\n",
              "  }\n",
              "\n",
              "  [theme=dark] .colab-df-quickchart {\n",
              "      --bg-color: #3B4455;\n",
              "      --fill-color: #D2E3FC;\n",
              "      --hover-bg-color: #434B5C;\n",
              "      --hover-fill-color: #FFFFFF;\n",
              "      --disabled-bg-color: #3B4455;\n",
              "      --disabled-fill-color: #666;\n",
              "  }\n",
              "\n",
              "  .colab-df-quickchart {\n",
              "    background-color: var(--bg-color);\n",
              "    border: none;\n",
              "    border-radius: 50%;\n",
              "    cursor: pointer;\n",
              "    display: none;\n",
              "    fill: var(--fill-color);\n",
              "    height: 32px;\n",
              "    padding: 0;\n",
              "    width: 32px;\n",
              "  }\n",
              "\n",
              "  .colab-df-quickchart:hover {\n",
              "    background-color: var(--hover-bg-color);\n",
              "    box-shadow: 0 1px 2px rgba(60, 64, 67, 0.3), 0 1px 3px 1px rgba(60, 64, 67, 0.15);\n",
              "    fill: var(--button-hover-fill-color);\n",
              "  }\n",
              "\n",
              "  .colab-df-quickchart-complete:disabled,\n",
              "  .colab-df-quickchart-complete:disabled:hover {\n",
              "    background-color: var(--disabled-bg-color);\n",
              "    fill: var(--disabled-fill-color);\n",
              "    box-shadow: none;\n",
              "  }\n",
              "\n",
              "  .colab-df-spinner {\n",
              "    border: 2px solid var(--fill-color);\n",
              "    border-color: transparent;\n",
              "    border-bottom-color: var(--fill-color);\n",
              "    animation:\n",
              "      spin 1s steps(1) infinite;\n",
              "  }\n",
              "\n",
              "  @keyframes spin {\n",
              "    0% {\n",
              "      border-color: transparent;\n",
              "      border-bottom-color: var(--fill-color);\n",
              "      border-left-color: var(--fill-color);\n",
              "    }\n",
              "    20% {\n",
              "      border-color: transparent;\n",
              "      border-left-color: var(--fill-color);\n",
              "      border-top-color: var(--fill-color);\n",
              "    }\n",
              "    30% {\n",
              "      border-color: transparent;\n",
              "      border-left-color: var(--fill-color);\n",
              "      border-top-color: var(--fill-color);\n",
              "      border-right-color: var(--fill-color);\n",
              "    }\n",
              "    40% {\n",
              "      border-color: transparent;\n",
              "      border-right-color: var(--fill-color);\n",
              "      border-top-color: var(--fill-color);\n",
              "    }\n",
              "    60% {\n",
              "      border-color: transparent;\n",
              "      border-right-color: var(--fill-color);\n",
              "    }\n",
              "    80% {\n",
              "      border-color: transparent;\n",
              "      border-right-color: var(--fill-color);\n",
              "      border-bottom-color: var(--fill-color);\n",
              "    }\n",
              "    90% {\n",
              "      border-color: transparent;\n",
              "      border-bottom-color: var(--fill-color);\n",
              "    }\n",
              "  }\n",
              "</style>\n",
              "\n",
              "  <script>\n",
              "    async function quickchart(key) {\n",
              "      const quickchartButtonEl =\n",
              "        document.querySelector('#' + key + ' button');\n",
              "      quickchartButtonEl.disabled = true;  // To prevent multiple clicks.\n",
              "      quickchartButtonEl.classList.add('colab-df-spinner');\n",
              "      try {\n",
              "        const charts = await google.colab.kernel.invokeFunction(\n",
              "            'suggestCharts', [key], {});\n",
              "      } catch (error) {\n",
              "        console.error('Error during call to suggestCharts:', error);\n",
              "      }\n",
              "      quickchartButtonEl.classList.remove('colab-df-spinner');\n",
              "      quickchartButtonEl.classList.add('colab-df-quickchart-complete');\n",
              "    }\n",
              "    (() => {\n",
              "      let quickchartButtonEl =\n",
              "        document.querySelector('#df-90db1504-2ddd-4418-a63b-5e8516385ce5 button');\n",
              "      quickchartButtonEl.style.display =\n",
              "        google.colab.kernel.accessAllowed ? 'block' : 'none';\n",
              "    })();\n",
              "  </script>\n",
              "</div>\n",
              "\n",
              "    </div>\n",
              "  </div>\n"
            ],
            "application/vnd.google.colaboratory.intrinsic+json": {
              "type": "dataframe",
              "variable_name": "data",
              "summary": "{\n  \"name\": \"data\",\n  \"rows\": 100,\n  \"fields\": [\n    {\n      \"column\": \"DMV_Test_1\",\n      \"properties\": {\n        \"dtype\": \"number\",\n        \"std\": 19.458222275425072,\n        \"min\": 30.05882244669796,\n        \"max\": 99.82785779692128,\n        \"num_unique_values\": 100,\n        \"samples\": [\n          57.23870631569862,\n          34.52451385320009,\n          32.72283304060323\n        ],\n        \"semantic_type\": \"\",\n        \"description\": \"\"\n      }\n    },\n    {\n      \"column\": \"DMV_Test_2\",\n      \"properties\": {\n        \"dtype\": \"number\",\n        \"std\": 18.582783039307344,\n        \"min\": 30.60326323428011,\n        \"max\": 98.86943574220612,\n        \"num_unique_values\": 100,\n        \"samples\": [\n          59.51428198012956,\n          60.39634245837173,\n          43.30717306430063\n        ],\n        \"semantic_type\": \"\",\n        \"description\": \"\"\n      }\n    },\n    {\n      \"column\": \"Results\",\n      \"properties\": {\n        \"dtype\": \"number\",\n        \"std\": 0,\n        \"min\": 0,\n        \"max\": 1,\n        \"num_unique_values\": 2,\n        \"samples\": [\n          1,\n          0\n        ],\n        \"semantic_type\": \"\",\n        \"description\": \"\"\n      }\n    }\n  ]\n}"
            }
          },
          "metadata": {},
          "execution_count": 84
        }
      ]
    },
    {
      "cell_type": "code",
      "metadata": {
        "id": "WHNSw-jEv_-v",
        "colab": {
          "base_uri": "https://localhost:8080/"
        },
        "outputId": "cb52dc7b-3abb-4f55-e55f-e8d61951bad2"
      },
      "source": [
        "data.info()"
      ],
      "execution_count": 88,
      "outputs": [
        {
          "output_type": "stream",
          "name": "stdout",
          "text": [
            "<class 'pandas.core.frame.DataFrame'>\n",
            "RangeIndex: 100 entries, 0 to 99\n",
            "Data columns (total 3 columns):\n",
            " #   Column      Non-Null Count  Dtype  \n",
            "---  ------      --------------  -----  \n",
            " 0   DMV_Test_1  100 non-null    float64\n",
            " 1   DMV_Test_2  100 non-null    float64\n",
            " 2   Results     100 non-null    int64  \n",
            "dtypes: float64(2), int64(1)\n",
            "memory usage: 2.5 KB\n"
          ]
        }
      ]
    },
    {
      "cell_type": "code",
      "metadata": {
        "id": "kAKbXQGQv_-0"
      },
      "source": [
        "scores = data[['DMV_Test_1', 'DMV_Test_2']].values\n",
        "results = data['Results'].values"
      ],
      "execution_count": 89,
      "outputs": []
    },
    {
      "cell_type": "markdown",
      "metadata": {
        "id": "A6seGivEv_-5"
      },
      "source": [
        "### Visualizar Datos"
      ]
    },
    {
      "cell_type": "code",
      "metadata": {
        "id": "ft3Xdbkwv_-6",
        "colab": {
          "base_uri": "https://localhost:8080/",
          "height": 453
        },
        "outputId": "92361c13-b233-4f6e-feb9-bf0ad6bc6ff2"
      },
      "source": [
        "sns.scatterplot(x = 'DMV_Test_1', y = 'DMV_Test_2', hue = 'Results', data =data)\n",
        "\n",
        "plt.show();"
      ],
      "execution_count": 92,
      "outputs": [
        {
          "output_type": "display_data",
          "data": {
            "text/plain": [
              "<Figure size 640x480 with 1 Axes>"
            ],
            "image/png": "[encoded data removed]"
          },
          "metadata": {}
        }
      ]
    },
    {
      "cell_type": "markdown",
      "metadata": {
        "id": "kRSvpHJbv_--"
      },
      "source": [
        "### Definimos de la función logística $\\sigma(z)$\n",
        "\n",
        "$$ \\sigma(z) = \\frac{1}{1+e^{-z}}$$"
      ]
    },
    {
      "cell_type": "markdown",
      "metadata": {
        "id": "_rUWBmqov__I"
      },
      "source": [
        "### Cálculo de la Función de Coste  $J(\\theta)$ y el Gradiente"
      ]
    },
    {
      "cell_type": "markdown",
      "metadata": {
        "id": "fqQysVC-v__J"
      },
      "source": [
        "En la regresión Logística debemos minimizar la función de coste\n",
        "\n",
        "$$J(\\theta) = -\\frac{1}{m} \\sum_{i=1}^{m} [ y^{(i)}log(h_{\\theta}(x^{(i)})) + (1 - y^{(i)})log(1 - (h_{\\theta}(x^{(i)}))]$$\n",
        "\n",
        "Siendo el gradiente de esta función de coste:\n",
        "\n",
        "$$ \\frac{\\partial J(\\theta)}{\\partial \\theta_j} = \\frac{1}{m} \\sum_{i=1}^{m} (h_{\\theta}(x^{(i)}) - y^{(i)})x_j^{(i)}$$"
      ]
    },
    {
      "cell_type": "code",
      "metadata": {
        "id": "7QT1Pqwwv_-_"
      },
      "source": [
        "def logistic_function(x):\n",
        "    return 1/ (1 + np.exp(-x))"
      ],
      "execution_count": 94,
      "outputs": []
    },
    {
      "cell_type": "code",
      "metadata": {
        "id": "8MdUPocAv__K"
      },
      "source": [
        "def compute_cost(theta, x, y):\n",
        "    m = len(y)\n",
        "    y_pred = logistic_function(np.dot(x , theta))\n",
        "    error = (y * np.log(y_pred)) + ((1 - y) * np.log(1 - y_pred))\n",
        "    cost = -(1 / m) * sum(error)\n",
        "    gradient = 1 / m *(np.dot(x.transpose(), (y_pred - y)))\n",
        "    return cost , gradient"
      ],
      "execution_count": 102,
      "outputs": []
    },
    {
      "cell_type": "markdown",
      "metadata": {
        "id": "BFBr2LsSv__O"
      },
      "source": [
        "### Formamos matriz XX,vector y  theta_inicial"
      ]
    },
    {
      "cell_type": "code",
      "source": [
        "scores = data[['DMV_Test_1', 'DMV_Test_2']].values\n",
        "results = data['Results'].values"
      ],
      "metadata": {
        "id": "2hGBPyWzQFcs"
      },
      "execution_count": 124,
      "outputs": []
    },
    {
      "cell_type": "code",
      "metadata": {
        "id": "191eT1E4v__P"
      },
      "source": [
        "#mean_scores = np.mean(scores, axis=0)\n",
        "#std_scores = np.std(scores, axis=0)\n",
        "#scores = (scores - mean_scores) / std_scores #standardization\n",
        "\n",
        "rows = scores.shape[0]\n",
        "cols = scores.shape[1]\n",
        "\n",
        "X = np.append(np.ones((rows, 1)), scores, axis=1) #include intercept\n",
        "y = results.reshape(rows, 1)\n",
        "theta_init = np.zeros((cols + 1, 1))\n"
      ],
      "execution_count": 130,
      "outputs": []
    },
    {
      "cell_type": "code",
      "source": [
        "X.shape,y.shape,theta_init.shape"
      ],
      "metadata": {
        "id": "tXVdEn4dS-IJ",
        "outputId": "4b08119a-4b5a-423f-baa6-21d673bcf5ac",
        "colab": {
          "base_uri": "https://localhost:8080/"
        }
      },
      "execution_count": 131,
      "outputs": [
        {
          "output_type": "execute_result",
          "data": {
            "text/plain": [
              "((100, 3), (100, 1), (3, 1))"
            ]
          },
          "metadata": {},
          "execution_count": 131
        }
      ]
    },
    {
      "cell_type": "code",
      "source": [
        "X[0:4,:],y[0:4,:],theta_init[0:4,:]"
      ],
      "metadata": {
        "id": "lPYGec9ETNOY",
        "outputId": "a7334e48-b109-49d8-ac74-c4ee1fbe3ce5",
        "colab": {
          "base_uri": "https://localhost:8080/"
        }
      },
      "execution_count": 132,
      "outputs": [
        {
          "output_type": "execute_result",
          "data": {
            "text/plain": [
              "(array([[ 1.        , 34.62365962, 78.02469282],\n",
              "        [ 1.        , 30.28671077, 43.89499752],\n",
              "        [ 1.        , 35.84740877, 72.90219803],\n",
              "        [ 1.        , 60.18259939, 86.3085521 ]]),\n",
              " array([[0],\n",
              "        [0],\n",
              "        [0],\n",
              "        [1]]),\n",
              " array([[0.],\n",
              "        [0.],\n",
              "        [0.]]))"
            ]
          },
          "metadata": {},
          "execution_count": 132
        }
      ]
    },
    {
      "cell_type": "code",
      "source": [
        "cost,gradient = compute_cost(theta_init, X, y)\n",
        "print(\"Cost at initialization\", cost)\n",
        "print(\"Gradient at initialization:\", gradient)"
      ],
      "metadata": {
        "id": "Q0Vdz3PlQPo5",
        "outputId": "605677bc-0645-4e4a-e12a-701ac5bcbb19",
        "colab": {
          "base_uri": "https://localhost:8080/"
        }
      },
      "execution_count": 133,
      "outputs": [
        {
          "output_type": "stream",
          "name": "stdout",
          "text": [
            "Cost at initialization [0.69314718]\n",
            "Gradient at initialization: [[ -0.1       ]\n",
            " [-12.00921659]\n",
            " [-11.26284221]]\n"
          ]
        }
      ]
    },
    {
      "cell_type": "markdown",
      "metadata": {
        "id": "XcEtsz-1v__T"
      },
      "source": [
        "### Gradiente Descendente"
      ]
    },
    {
      "cell_type": "markdown",
      "metadata": {
        "id": "12L_QCYQv__U"
      },
      "source": [
        "Minimizamos la función de coste $J(\\theta)$  actualizando la siguiente ecuación (algoritmo del gradiente descendente) repitiendo hasta convergencia :  \n",
        "$\\theta_j := \\theta_j - \\alpha \\frac{\\partial J(\\theta)}{\\partial \\theta_j}$    \n",
        " (actualizar simultaneamente $\\theta_j$ para todo $j$)"
      ]
    },
    {
      "cell_type": "code",
      "metadata": {
        "id": "6r0mZuWqv__V"
      },
      "source": [
        "def gradient_descent(x, y, theta, alpha, iterations):\n",
        "    costs = []\n",
        "\n",
        "    for i in range(iterations):\n",
        "        cost,gradient= compute_cost(theta, x, y)\n",
        "        theta = theta - (alpha * gradient)\n",
        "        if i % 1000 == 0:\n",
        "            print(\"Iteration\", i, \"Cost:\", cost)\n",
        "        costs.append(cost)\n",
        "    return theta, costs"
      ],
      "execution_count": 135,
      "outputs": []
    },
    {
      "cell_type": "code",
      "source": [
        "theta_init"
      ],
      "metadata": {
        "id": "Z3hEqQtWuSvR",
        "outputId": "3ce7bf33-b24b-4c41-8d8d-c77b10dd8a3a",
        "colab": {
          "base_uri": "https://localhost:8080/"
        }
      },
      "execution_count": 136,
      "outputs": [
        {
          "output_type": "execute_result",
          "data": {
            "text/plain": [
              "array([[0.],\n",
              "       [0.],\n",
              "       [0.]])"
            ]
          },
          "metadata": {},
          "execution_count": 136
        }
      ]
    },
    {
      "cell_type": "code",
      "metadata": {
        "id": "qCHyUDk_v__Z",
        "collapsed": true,
        "outputId": "30c7f98c-a0bb-4b61-b68f-4ad3ea394f4f",
        "colab": {
          "base_uri": "https://localhost:8080/"
        }
      },
      "source": [
        "theta, costs = gradient_descent(X, y, theta_init, 0.0001, 20000)"
      ],
      "execution_count": 137,
      "outputs": [
        {
          "output_type": "stream",
          "name": "stdout",
          "text": [
            "Iteration 0 Cost: [0.69314718]\n",
            "Iteration 1000 Cost: [0.62933389]\n",
            "Iteration 2000 Cost: [0.62884748]\n",
            "Iteration 3000 Cost: [0.62836191]\n",
            "Iteration 4000 Cost: [0.62787718]\n",
            "Iteration 5000 Cost: [0.62739328]\n",
            "Iteration 6000 Cost: [0.62691022]\n",
            "Iteration 7000 Cost: [0.62642798]\n",
            "Iteration 8000 Cost: [0.62594658]\n",
            "Iteration 9000 Cost: [0.62546601]\n",
            "Iteration 10000 Cost: [0.62498627]\n",
            "Iteration 11000 Cost: [0.62450735]\n",
            "Iteration 12000 Cost: [0.62402926]\n",
            "Iteration 13000 Cost: [0.623552]\n",
            "Iteration 14000 Cost: [0.62307555]\n",
            "Iteration 15000 Cost: [0.62259993]\n",
            "Iteration 16000 Cost: [0.62212513]\n",
            "Iteration 17000 Cost: [0.62165114]\n",
            "Iteration 18000 Cost: [0.62117797]\n",
            "Iteration 19000 Cost: [0.62070562]\n"
          ]
        }
      ]
    },
    {
      "cell_type": "code",
      "metadata": {
        "id": "yFd2uVT9v__d",
        "colab": {
          "base_uri": "https://localhost:8080/"
        },
        "outputId": "42eaa8ee-d2e4-4812-a566-1d3886ae5354"
      },
      "source": [
        "print(\"Theta after running gradient descent:\", theta)\n",
        "print(\"Resulting cost:\", costs[-1])"
      ],
      "execution_count": 138,
      "outputs": [
        {
          "output_type": "stream",
          "name": "stdout",
          "text": [
            "Theta after running gradient descent: [[-0.13838573]\n",
            " [ 0.0113862 ]\n",
            " [ 0.00152735]]\n",
            "Resulting cost: [0.62023456]\n"
          ]
        }
      ]
    },
    {
      "cell_type": "markdown",
      "metadata": {
        "id": "G0wYcEZkv__h"
      },
      "source": [
        "###  Convergencia de $J(\\theta)$"
      ]
    },
    {
      "cell_type": "markdown",
      "metadata": {
        "id": "SS1g8Dubv__i"
      },
      "source": [
        "Dibujamos $J(\\theta)$ en relación al número de iteraciones del  gradiente descente:"
      ]
    },
    {
      "cell_type": "code",
      "metadata": {
        "id": "_RvJ1Orcv__j",
        "colab": {
          "base_uri": "https://localhost:8080/",
          "height": 477
        },
        "outputId": "50bdf1ac-5cfe-4588-8bc6-32909338552b"
      },
      "source": [
        "plt.plot(costs)\n",
        "plt.xlabel(\"Iterations\")\n",
        "plt.ylabel(\"$J(\\Theta)$\")\n",
        "plt.title(\"Values of Cost Function over iterations of Gradient Descent\");"
      ],
      "execution_count": 139,
      "outputs": [
        {
          "output_type": "display_data",
          "data": {
            "text/plain": [
              "<Figure size 640x480 with 1 Axes>"
            ],
            "image/png": "[encoded data removed]"
          },
          "metadata": {}
        }
      ]
    },
    {
      "cell_type": "markdown",
      "metadata": {
        "id": "EOwRVJ4Yv__n"
      },
      "source": [
        "### Dibujemos la recta de decisión"
      ]
    },
    {
      "cell_type": "markdown",
      "metadata": {
        "id": "DMFDLDTzv__o"
      },
      "source": [
        "$h_\\theta(x) = \\sigma(z)$, donde $\\sigma$ es la función sigmoide y $z = \\theta^Tx$\n",
        "\n",
        "Cuando $h_\\theta(x) \\geq 0.5$ el modelo predice la clase \"1\":\n",
        "\n",
        "$\\implies \\sigma(\\theta^Tx) \\geq 0.5$\n",
        "\n",
        "$\\implies \\theta^Tx \\geq 0$ predice clase \"1\"\n",
        "\n",
        "Como, $\\theta_1 + \\theta_2x_2 + \\theta_3x_3 = 0$ es la ecuación de la recta de decisión, tenemos que :\n",
        "\n",
        "$ x_3 = \\frac{-(\\theta_1+\\theta_2x_2)}{\\theta_3}$"
      ]
    },
    {
      "cell_type": "code",
      "metadata": {
        "id": "DD3cGiKvv__o",
        "colab": {
          "base_uri": "https://localhost:8080/",
          "height": 470
        },
        "outputId": "bc878c84-e69c-4267-ac96-6fdd16fe07a3"
      },
      "source": [
        "sns.scatterplot(x = 'DMV_Test_1', y = 'DMV_Test_2', hue = 'Results', data =data)\n",
        "decision_boundary = -(theta[0] + (theta[1]/0.0001)*data['DMV_Test_1'])/(theta[2]/0.0001)\n",
        "plt.plot(data['DMV_Test_1'], decision_boundary)"
      ],
      "execution_count": 122,
      "outputs": [
        {
          "output_type": "execute_result",
          "data": {
            "text/plain": [
              "[<matplotlib.lines.Line2D at 0x788543044220>]"
            ]
          },
          "metadata": {},
          "execution_count": 122
        },
        {
          "output_type": "display_data",
          "data": {
            "text/plain": [
              "<Figure size 640x480 with 1 Axes>"
            ],
            "image/png": "[encoded data removed]"
          },
          "metadata": {}
        }
      ]
    },
    {
      "cell_type": "markdown",
      "metadata": {
        "id": "TJrYT_Yhv__t"
      },
      "source": [
        "### Predicciones utilizando los valores $\\theta$ encontrados"
      ]
    },
    {
      "cell_type": "markdown",
      "metadata": {
        "id": "8aTpI1C7v__u"
      },
      "source": [
        "$h_\\theta(x) = x\\theta$"
      ]
    },
    {
      "cell_type": "code",
      "metadata": {
        "id": "pidK1zqSv__v"
      },
      "source": [
        "def predict(theta, x):\n",
        "    results = x.dot(theta)\n",
        "    return results > 0\n"
      ],
      "execution_count": 79,
      "outputs": []
    },
    {
      "cell_type": "code",
      "metadata": {
        "id": "qpvIV7phv__y",
        "colab": {
          "base_uri": "https://localhost:8080/"
        },
        "outputId": "5a3ea3db-eb91-429c-bd4a-11fc56ad6c9b"
      },
      "source": [
        "p = predict(theta, X)\n",
        "print(\"Training Accuracy:\", sum(p==y)[0],\"%\")"
      ],
      "execution_count": 83,
      "outputs": [
        {
          "output_type": "stream",
          "name": "stdout",
          "text": [
            "Training Accuracy: 60 %\n"
          ]
        }
      ]
    },
    {
      "cell_type": "code",
      "metadata": {
        "id": "3Va48zM0v__1",
        "colab": {
          "base_uri": "https://localhost:8080/"
        },
        "outputId": "dac6424c-5440-4c68-87e3-472ccf1f3cf8"
      },
      "source": [
        "test = np.array([50,79])\n",
        "#test = (test - mean_scores)/std_scores\n",
        "test = np.append(np.ones(1), test)\n",
        "probability = logistic_function(test.dot(theta))\n",
        "print(\"A person who scores 50 and 79 on their DMV written tests have a\",\n",
        "      np.round(probability[0], 2),\"probability of passing.\")"
      ],
      "execution_count": 82,
      "outputs": [
        {
          "output_type": "stream",
          "name": "stdout",
          "text": [
            "A person who scores 50 and 79 on their DMV written tests have a 0.64 probability of passing.\n"
          ]
        }
      ]
    }
  ]
}