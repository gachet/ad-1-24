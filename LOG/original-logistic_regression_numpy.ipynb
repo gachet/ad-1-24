{
  "nbformat": 4,
  "nbformat_minor": 0,
  "metadata": {
    "kernelspec": {
      "display_name": "Python 3",
      "language": "python",
      "name": "python3"
    },
    "language_info": {
      "codemirror_mode": {
        "name": "ipython",
        "version": 3
      },
      "file_extension": ".py",
      "mimetype": "text/x-python",
      "name": "python",
      "nbconvert_exporter": "python",
      "pygments_lexer": "ipython3",
      "version": "3.6.8"
    },
    "colab": {
      "name": "logistic-regression-numpy.ipynb",
      "provenance": [],
      "include_colab_link": true
    }
  },
  "cells": [
    {
      "cell_type": "markdown",
      "metadata": {
        "id": "view-in-github",
        "colab_type": "text"
      },
      "source": [
        "<a href=\"https://colab.research.google.com/github/gachet/ad-1-24/blob/main/LOG/original-logistic_regression_numpy.ipynb\" target=\"_parent\"><img src=\"https://colab.research.google.com/assets/colab-badge.svg\" alt=\"Open In Colab\"/></a>"
      ]
    },
    {
      "cell_type": "markdown",
      "metadata": {
        "id": "0vLu6Zvwv_-b"
      },
      "source": [
        "# Logistic Regression"
      ]
    },
    {
      "cell_type": "code",
      "metadata": {
        "id": "lCRzU3LnyAEU",
        "colab": {
          "base_uri": "https://localhost:8080/",
          "height": 34
        },
        "outputId": "68ae95b4-ae3f-4b2a-deb4-a4feac5bed24"
      },
      "source": [
        "from google.colab import drive\n",
        "drive.mount('/content/drive/')\n",
        "import os\n",
        "os.chdir('/content/drive/My Drive/Colab Notebooks/logistic-regression-numpy')"
      ],
      "execution_count": null,
      "outputs": [
        {
          "output_type": "stream",
          "text": [
            "Drive already mounted at /content/drive/; to attempt to forcibly remount, call drive.mount(\"/content/drive/\", force_remount=True).\n"
          ],
          "name": "stdout"
        }
      ]
    },
    {
      "cell_type": "markdown",
      "metadata": {
        "id": "qxrl6Y8dv_-e"
      },
      "source": [
        "### Load the Data and Libraries"
      ]
    },
    {
      "cell_type": "code",
      "metadata": {
        "id": "U89ZWwerv_-f",
        "colab": {
          "base_uri": "https://localhost:8080/",
          "height": 51
        },
        "outputId": "ca34fdb6-d4aa-4bd5-c78a-3d36303d7c38"
      },
      "source": [
        "import numpy as np\n",
        "import matplotlib.pyplot as plt\n",
        "import seaborn as sns\n",
        "import pandas as pd\n",
        "plt.style.use(\"ggplot\")\n",
        "%matplotlib inline"
      ],
      "execution_count": null,
      "outputs": [
        {
          "output_type": "stream",
          "text": [
            "/usr/local/lib/python3.6/dist-packages/statsmodels/tools/_testing.py:19: FutureWarning: pandas.util.testing is deprecated. Use the functions in the public API at pandas.testing instead.\n",
            "  import pandas.util.testing as tm\n"
          ],
          "name": "stderr"
        }
      ]
    },
    {
      "cell_type": "code",
      "metadata": {
        "id": "WgcSySujv_-l"
      },
      "source": [
        "from pylab import rcParams\n",
        "rcParams['figure.figsize'] = 12, 8"
      ],
      "execution_count": null,
      "outputs": []
    },
    {
      "cell_type": "code",
      "metadata": {
        "id": "gpg6iGBHv_-q",
        "colab": {
          "base_uri": "https://localhost:8080/",
          "height": 204
        },
        "outputId": "334a98ef-968a-4db9-8b6f-dbdab34306a5"
      },
      "source": [
        "data = pd.read_csv(\"DMV_Written_Tests.csv\")\n",
        "data.head()"
      ],
      "execution_count": null,
      "outputs": [
        {
          "output_type": "execute_result",
          "data": {
            "text/html": [
              "<div>\n",
              "<style scoped>\n",
              "    .dataframe tbody tr th:only-of-type {\n",
              "        vertical-align: middle;\n",
              "    }\n",
              "\n",
              "    .dataframe tbody tr th {\n",
              "        vertical-align: top;\n",
              "    }\n",
              "\n",
              "    .dataframe thead th {\n",
              "        text-align: right;\n",
              "    }\n",
              "</style>\n",
              "<table border=\"1\" class=\"dataframe\">\n",
              "  <thead>\n",
              "    <tr style=\"text-align: right;\">\n",
              "      <th></th>\n",
              "      <th>DMV_Test_1</th>\n",
              "      <th>DMV_Test_2</th>\n",
              "      <th>Results</th>\n",
              "    </tr>\n",
              "  </thead>\n",
              "  <tbody>\n",
              "    <tr>\n",
              "      <th>0</th>\n",
              "      <td>34.623660</td>\n",
              "      <td>78.024693</td>\n",
              "      <td>0</td>\n",
              "    </tr>\n",
              "    <tr>\n",
              "      <th>1</th>\n",
              "      <td>30.286711</td>\n",
              "      <td>43.894998</td>\n",
              "      <td>0</td>\n",
              "    </tr>\n",
              "    <tr>\n",
              "      <th>2</th>\n",
              "      <td>35.847409</td>\n",
              "      <td>72.902198</td>\n",
              "      <td>0</td>\n",
              "    </tr>\n",
              "    <tr>\n",
              "      <th>3</th>\n",
              "      <td>60.182599</td>\n",
              "      <td>86.308552</td>\n",
              "      <td>1</td>\n",
              "    </tr>\n",
              "    <tr>\n",
              "      <th>4</th>\n",
              "      <td>79.032736</td>\n",
              "      <td>75.344376</td>\n",
              "      <td>1</td>\n",
              "    </tr>\n",
              "  </tbody>\n",
              "</table>\n",
              "</div>"
            ],
            "text/plain": [
              "   DMV_Test_1  DMV_Test_2  Results\n",
              "0   34.623660   78.024693        0\n",
              "1   30.286711   43.894998        0\n",
              "2   35.847409   72.902198        0\n",
              "3   60.182599   86.308552        1\n",
              "4   79.032736   75.344376        1"
            ]
          },
          "metadata": {
            "tags": []
          },
          "execution_count": 4
        }
      ]
    },
    {
      "cell_type": "code",
      "metadata": {
        "id": "WHNSw-jEv_-v",
        "colab": {
          "base_uri": "https://localhost:8080/",
          "height": 187
        },
        "outputId": "78007116-ec6b-43df-e5f6-4e4fdb78cbfc"
      },
      "source": [
        "data.info()"
      ],
      "execution_count": null,
      "outputs": [
        {
          "output_type": "stream",
          "text": [
            "<class 'pandas.core.frame.DataFrame'>\n",
            "RangeIndex: 100 entries, 0 to 99\n",
            "Data columns (total 3 columns):\n",
            " #   Column      Non-Null Count  Dtype  \n",
            "---  ------      --------------  -----  \n",
            " 0   DMV_Test_1  100 non-null    float64\n",
            " 1   DMV_Test_2  100 non-null    float64\n",
            " 2   Results     100 non-null    int64  \n",
            "dtypes: float64(2), int64(1)\n",
            "memory usage: 2.5 KB\n"
          ],
          "name": "stdout"
        }
      ]
    },
    {
      "cell_type": "code",
      "metadata": {
        "id": "kAKbXQGQv_-0"
      },
      "source": [
        "scores = data[['DMV_Test_1', 'DMV_Test_2']].values\n",
        "results = data['Results'].values"
      ],
      "execution_count": null,
      "outputs": []
    },
    {
      "cell_type": "markdown",
      "metadata": {
        "id": "A6seGivEv_-5"
      },
      "source": [
        "### Visualize the Data"
      ]
    },
    {
      "cell_type": "code",
      "metadata": {
        "id": "ft3Xdbkwv_-6",
        "colab": {
          "base_uri": "https://localhost:8080/",
          "height": 500
        },
        "outputId": "e25aea15-a29d-4a48-8991-846439e88c5c"
      },
      "source": [
        "passed = (results == 1).reshape(100, 1)\n",
        "failed = (results == 0).reshape(100, 1)\n",
        "\n",
        "ax = sns.scatterplot(x = scores[passed[:, 0], 0],\n",
        "                     y = scores[passed[:, 0], 1],\n",
        "                     marker = \"^\",\n",
        "                     color = \"green\",\n",
        "                     s = 60)\n",
        "sns.scatterplot(x = scores[failed[:, 0], 0],\n",
        "                y = scores[failed[:, 0], 1],\n",
        "                marker = \"X\",\n",
        "                color = \"red\",\n",
        "                s = 60)\n",
        "\n",
        "ax.set(xlabel=\"DMV Written Test 1 Scores\", ylabel=\"DMV Written Test 2 Scores\")\n",
        "ax.legend([\"Passed\", \"Failed\"])\n",
        "plt.show();"
      ],
      "execution_count": null,
      "outputs": [
        {
          "output_type": "display_data",
          "data": {
            "image/png": "[encoded data removed]",
            "text/plain": [
              "<Figure size 864x576 with 1 Axes>"
            ]
          },
          "metadata": {
            "tags": [],
            "needs_background": "light"
          }
        }
      ]
    },
    {
      "cell_type": "markdown",
      "metadata": {
        "id": "kRSvpHJbv_--"
      },
      "source": [
        "### Define the Logistic Sigmoid Function $\\sigma(z)$\n",
        "\n",
        "$$ \\sigma(z) = \\frac{1}{1+e^{-z}}$$"
      ]
    },
    {
      "cell_type": "code",
      "metadata": {
        "id": "7QT1Pqwwv_-_"
      },
      "source": [
        "def logistic_function(x):\n",
        "    return 1/ (1 + np.exp(-x))"
      ],
      "execution_count": null,
      "outputs": []
    },
    {
      "cell_type": "code",
      "metadata": {
        "id": "Oiwj3rYzv__D",
        "colab": {
          "base_uri": "https://localhost:8080/",
          "height": 34
        },
        "outputId": "b03b85ca-3090-4f4e-effd-d28d3f4ce95f"
      },
      "source": [
        "logistic_function(0)"
      ],
      "execution_count": null,
      "outputs": [
        {
          "output_type": "execute_result",
          "data": {
            "text/plain": [
              "0.5"
            ]
          },
          "metadata": {
            "tags": []
          },
          "execution_count": 9
        }
      ]
    },
    {
      "cell_type": "markdown",
      "metadata": {
        "id": "_rUWBmqov__I"
      },
      "source": [
        "### Compute the Cost Function $J(\\theta)$ and Gradient"
      ]
    },
    {
      "cell_type": "markdown",
      "metadata": {
        "id": "fqQysVC-v__J"
      },
      "source": [
        "The objective of logistic regression is to minimize the cost function\n",
        "\n",
        "$$J(\\theta) = -\\frac{1}{m} \\sum_{i=1}^{m} [ y^{(i)}log(h_{\\theta}(x^{(i)})) + (1 - y^{(i)})log(1 - (h_{\\theta}(x^{(i)}))]$$\n",
        "\n",
        "where the gradient of the cost function is given by\n",
        "\n",
        "$$ \\frac{\\partial J(\\theta)}{\\partial \\theta_j} = \\frac{1}{m} \\sum_{i=1}^{m} (h_{\\theta}(x^{(i)}) - y^{(i)})x_j^{(i)}$$"
      ]
    },
    {
      "cell_type": "code",
      "metadata": {
        "id": "8MdUPocAv__K"
      },
      "source": [
        "def compute_cost(theta, x, y):\n",
        "    m = len(y)\n",
        "    y_pred = logistic_function(np.dot(x , theta))\n",
        "    error = (y * np.log(y_pred)) + ((1 - y) * np.log(1 - y_pred))\n",
        "    cost = -1 / m * sum(error)\n",
        "    gradient = 1 / m * np.dot(x.transpose(), (y_pred - y))\n",
        "    return cost[0] , gradient"
      ],
      "execution_count": null,
      "outputs": []
    },
    {
      "cell_type": "markdown",
      "metadata": {
        "id": "BFBr2LsSv__O"
      },
      "source": [
        "### Cost and Gradient at Initialization"
      ]
    },
    {
      "cell_type": "code",
      "metadata": {
        "id": "191eT1E4v__P",
        "colab": {
          "base_uri": "https://localhost:8080/",
          "height": 85
        },
        "outputId": "65624c0e-bed7-4392-a7d4-55d3907213ed"
      },
      "source": [
        "mean_scores = np.mean(scores, axis=0)\n",
        "std_scores = np.std(scores, axis=0)\n",
        "scores = (scores - mean_scores) / std_scores #standardization\n",
        "\n",
        "rows = scores.shape[0]\n",
        "cols = scores.shape[1]\n",
        "\n",
        "X = np.append(np.ones((rows, 1)), scores, axis=1) #include intercept\n",
        "y = results.reshape(rows, 1)\n",
        "\n",
        "theta_init = np.zeros((cols + 1, 1))\n",
        "cost, gradient = compute_cost(theta_init, X, y)\n",
        "\n",
        "print(\"Cost at initialization\", cost)\n",
        "print(\"Gradient at initialization:\", gradient)"
      ],
      "execution_count": null,
      "outputs": [
        {
          "output_type": "stream",
          "text": [
            "Cost at initialization 0.693147180559946\n",
            "Gradient at initialization: [[-0.1       ]\n",
            " [-0.28122914]\n",
            " [-0.25098615]]\n"
          ],
          "name": "stdout"
        }
      ]
    },
    {
      "cell_type": "markdown",
      "metadata": {
        "id": "XcEtsz-1v__T"
      },
      "source": [
        "### Gradient Descent"
      ]
    },
    {
      "cell_type": "markdown",
      "metadata": {
        "id": "12L_QCYQv__U"
      },
      "source": [
        "Minimize the cost function $J(\\theta)$ by updating the below equation and repeat until convergence\n",
        "$\\theta_j := \\theta_j - \\alpha \\frac{\\partial J(\\theta)}{\\partial \\theta_j}$ (simultaneously update $\\theta_j$ for all $j$)"
      ]
    },
    {
      "cell_type": "code",
      "metadata": {
        "id": "6r0mZuWqv__V"
      },
      "source": [
        "def gradient_descent(x, y, theta, alpha, iterations):\n",
        "    costs = []\n",
        "    for i in range(iterations):\n",
        "        cost, gradient = compute_cost(theta, x, y)\n",
        "        theta -= (alpha * gradient)\n",
        "        costs.append(cost)\n",
        "    return theta, costs"
      ],
      "execution_count": null,
      "outputs": []
    },
    {
      "cell_type": "code",
      "metadata": {
        "id": "qCHyUDk_v__Z"
      },
      "source": [
        "theta, costs = gradient_descent(X, y, theta_init, 1, 200)"
      ],
      "execution_count": null,
      "outputs": []
    },
    {
      "cell_type": "code",
      "metadata": {
        "id": "yFd2uVT9v__d",
        "colab": {
          "base_uri": "https://localhost:8080/",
          "height": 85
        },
        "outputId": "5a699344-78ba-41de-85e0-80c259008073"
      },
      "source": [
        "print(\"Theta after running gradient descent:\", theta)\n",
        "print(\"Resulting cost:\", costs[-1])"
      ],
      "execution_count": null,
      "outputs": [
        {
          "output_type": "stream",
          "text": [
            "Theta after running gradient descent: [[1.50850586]\n",
            " [3.5468762 ]\n",
            " [3.29383709]]\n",
            "Resulting cost: 0.2048938203512014\n"
          ],
          "name": "stdout"
        }
      ]
    },
    {
      "cell_type": "markdown",
      "metadata": {
        "id": "G0wYcEZkv__h"
      },
      "source": [
        "### Plotting the Convergence of $J(\\theta)$"
      ]
    },
    {
      "cell_type": "markdown",
      "metadata": {
        "id": "SS1g8Dubv__i"
      },
      "source": [
        "Plot $J(\\theta)$ against the number of iterations of gradient descent:"
      ]
    },
    {
      "cell_type": "code",
      "metadata": {
        "id": "_RvJ1Orcv__j",
        "colab": {
          "base_uri": "https://localhost:8080/",
          "height": 517
        },
        "outputId": "8e003d4a-f189-49c4-a949-a90830765713"
      },
      "source": [
        "plt.plot(costs)\n",
        "plt.xlabel(\"Iterations\")\n",
        "plt.ylabel(\"$J(\\Theta)$\")\n",
        "plt.title(\"Values of Cost Function over iterations of Gradient Descent\");"
      ],
      "execution_count": null,
      "outputs": [
        {
          "output_type": "display_data",
          "data": {
            "image/png": "[encoded data removed]",
            "text/plain": [
              "<Figure size 864x576 with 1 Axes>"
            ]
          },
          "metadata": {
            "tags": [],
            "needs_background": "light"
          }
        }
      ]
    },
    {
      "cell_type": "markdown",
      "metadata": {
        "id": "EOwRVJ4Yv__n"
      },
      "source": [
        "### Plotting the decision boundary"
      ]
    },
    {
      "cell_type": "markdown",
      "metadata": {
        "id": "DMFDLDTzv__o"
      },
      "source": [
        "$h_\\theta(x) = \\sigma(z)$, where $\\sigma$ is the logistic sigmoid function and $z = \\theta^Tx$\n",
        "\n",
        "When $h_\\theta(x) \\geq 0.5$ the model predicts class \"1\":\n",
        "\n",
        "$\\implies \\sigma(\\theta^Tx) \\geq 0.5$\n",
        "\n",
        "$\\implies \\theta^Tx \\geq 0$ predict class \"1\"\n",
        "\n",
        "Hence, $\\theta_1 + \\theta_2x_2 + \\theta_3x_3 = 0$ is the equation for the decision boundary, giving us\n",
        "\n",
        "$ x_3 = \\frac{-(\\theta_1+\\theta_2x_2)}{\\theta_3}$"
      ]
    },
    {
      "cell_type": "code",
      "metadata": {
        "id": "DD3cGiKvv__o",
        "colab": {
          "base_uri": "https://localhost:8080/",
          "height": 500
        },
        "outputId": "5eb0970a-59bc-4ff6-8b56-04a2e1ed92a4"
      },
      "source": [
        "sns.scatterplot(x = X[passed[:, 0], 1],\n",
        "                y = X[passed[:, 0], 2],\n",
        "                marker = \"^\",\n",
        "                color = \"green\",\n",
        "                s = 60)\n",
        "ax = sns.scatterplot(x = X[failed[:, 0], 1],\n",
        "                    y = X[failed[:, 0], 2],\n",
        "                    marker = \"X\",\n",
        "                    color = \"red\",\n",
        "                    s = 60)\n",
        "\n",
        "ax.legend([\"Passed\", \"Failed\"])\n",
        "ax.set(xlabel=\"DMV Written Test 1 Scores\", ylabel=\"DMV Written Test 2 Scores\")\n",
        "\n",
        "x_boundary = np.array([np.min(X[:, 1]), np.max(X[:, 1])])\n",
        "y_boundary = -(theta[0] + theta[1] * x_boundary) / theta[2]\n",
        "\n",
        "sns.lineplot(x = x_boundary, y = y_boundary, color=\"blue\")\n",
        "plt.show();"
      ],
      "execution_count": null,
      "outputs": [
        {
          "output_type": "display_data",
          "data": {
            "image/png": "[encoded data removed]",
            "text/plain": [
              "<Figure size 864x576 with 1 Axes>"
            ]
          },
          "metadata": {
            "tags": [],
            "needs_background": "light"
          }
        }
      ]
    },
    {
      "cell_type": "markdown",
      "metadata": {
        "id": "TJrYT_Yhv__t"
      },
      "source": [
        "### Predictions using the optimized $\\theta$ values"
      ]
    },
    {
      "cell_type": "markdown",
      "metadata": {
        "id": "8aTpI1C7v__u"
      },
      "source": [
        "$h_\\theta(x) = x\\theta$"
      ]
    },
    {
      "cell_type": "code",
      "metadata": {
        "id": "pidK1zqSv__v"
      },
      "source": [
        "def predict(theta, x):\n",
        "    results = x.dot(theta)\n",
        "    return results > 0\n"
      ],
      "execution_count": null,
      "outputs": []
    },
    {
      "cell_type": "code",
      "metadata": {
        "id": "qpvIV7phv__y",
        "colab": {
          "base_uri": "https://localhost:8080/",
          "height": 34
        },
        "outputId": "90d482ff-1bae-4c67-ed77-1933682a1520"
      },
      "source": [
        "p = predict(theta, X)\n",
        "print(\"Training Accuracy:\", sum(p==y)[0],\"%\")"
      ],
      "execution_count": null,
      "outputs": [
        {
          "output_type": "stream",
          "text": [
            "Training Accuracy: 89 %\n"
          ],
          "name": "stdout"
        }
      ]
    },
    {
      "cell_type": "code",
      "metadata": {
        "id": "3Va48zM0v__1",
        "colab": {
          "base_uri": "https://localhost:8080/",
          "height": 34
        },
        "outputId": "c8bf86d8-b337-4300-e837-d764ebd9d391"
      },
      "source": [
        "test = np.array([50,79])\n",
        "test = (test - mean_scores)/std_scores\n",
        "test = np.append(np.ones(1), test)\n",
        "probability = logistic_function(test.dot(theta))\n",
        "print(\"A person who scores 50 and 79 on their DMV written tests have a\",\n",
        "      np.round(probability[0], 2),\"probability of passing.\")"
      ],
      "execution_count": null,
      "outputs": [
        {
          "output_type": "stream",
          "text": [
            "A person who scores 50 and 79 on their DMV written tests have a 0.71 probability of passing.\n"
          ],
          "name": "stdout"
        }
      ]
    }
  ]
}