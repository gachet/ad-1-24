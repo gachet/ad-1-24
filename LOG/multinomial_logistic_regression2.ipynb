{
  "cells": [
    {
      "cell_type": "markdown",
      "metadata": {
        "id": "view-in-github",
        "colab_type": "text"
      },
      "source": [
        "<a href=\"https://colab.research.google.com/github/gachet/ad-1-24/blob/main/LOG/multinomial_logistic_regression2.ipynb\" target=\"_parent\"><img src=\"https://colab.research.google.com/assets/colab-badge.svg\" alt=\"Open In Colab\"/></a>"
      ]
    },
    {
      "cell_type": "markdown",
      "metadata": {
        "id": "GbDQv8angJZH"
      },
      "source": [
        "# Multi-Class Logistic Regression in Numpy\n",
        "\n",
        "This notebook contains the code for multiple classes also known as ONE Vs ALL Classification based on logistic regression using python and numpy. We are using matplotlib plotting library to visualize the data and our cost values.\n",
        "\n",
        "The inputs is a randomly generated values which is present in the data folder. It contains 2 files train.csv for training and test.csv for testing our model. The output consist of 3 classes."
      ]
    },
    {
      "cell_type": "markdown",
      "metadata": {
        "id": "h4ZZuXdYgJZL"
      },
      "source": [
        "### Import Libraries"
      ]
    },
    {
      "cell_type": "code",
      "execution_count": null,
      "metadata": {
        "scrolled": false,
        "id": "XuFrozrIgJZM"
      },
      "outputs": [],
      "source": [
        "import numpy as np\n",
        "import matplotlib.pyplot as  plt"
      ]
    },
    {
      "cell_type": "markdown",
      "metadata": {
        "id": "NcZa3jgggJZO"
      },
      "source": [
        "### Load training data"
      ]
    },
    {
      "cell_type": "code",
      "execution_count": null,
      "metadata": {
        "id": "J7QFie_JgJZO"
      },
      "outputs": [],
      "source": [
        "#load data as numpy array using genfromtxt\n",
        "train_data = np.genfromtxt('multiclass-classification/train.csv', delimiter=',', skip_header=1)\n",
        "\n",
        "#no of samples\n",
        "m = train_data.shape[0]\n",
        "\n",
        "#input(Features) last column is the output column so slicing the train_data based on that\n",
        "X = train_data[:,:-1]\n",
        "\n",
        "#As we are using vector implementation adding a column in X with all the value 1\n",
        "X = np.hstack((np.ones((m,1)),X))\n",
        "\n",
        "#output\n",
        "y = train_data[:,-1:]"
      ]
    },
    {
      "cell_type": "markdown",
      "metadata": {
        "id": "9ZGdgOnigJZP"
      },
      "source": [
        "Since we have 3 classes we will design 3 model one for classifying each classes. So for easier computation we will convert our output vector in matrix where no of columns is equal to the no of classes. The values in the matrix will be 0 or 1. For instance the rows where we have output 2 the column 2 will contain 1 and rest all 0 ."
      ]
    },
    {
      "cell_type": "code",
      "execution_count": null,
      "metadata": {
        "id": "wxu_cXdpgJZP"
      },
      "outputs": [],
      "source": [
        "#For multi class classification we uses the concept of one vs all\n",
        "#as we have 3 classes so y will be of shape m,3\n",
        "Y = np.zeros((m,3))\n",
        "\n",
        "#no of classes\n",
        "k = np.unique(y)\n",
        "k.sort()\n",
        "\n",
        "#in Y matrix for each class columns put 1 wherin the rows belong to that class\n",
        "for cls in k.astype(int):\n",
        "    Y[np.where(y[:,-1] == cls),cls] = 1"
      ]
    },
    {
      "cell_type": "markdown",
      "metadata": {
        "id": "ECvFhC4cgJZQ"
      },
      "source": [
        "### Visualize data\n",
        "There are 2 features lets plot them as x,y with features belonging to class 0 as red and class 1 as green and class 2 as blue"
      ]
    },
    {
      "cell_type": "code",
      "execution_count": null,
      "metadata": {
        "id": "_Yf9lkuegJZQ",
        "outputId": "ce7b9776-7a66-44fa-b6ab-69048b5e7609"
      },
      "outputs": [
        {
          "data": {
            "image/png": "[encoded data removed]",
            "text/plain": [
              "<matplotlib.figure.Figure at 0x7fb9f54effd0>"
            ]
          },
          "metadata": {},
          "output_type": "display_data"
        }
      ],
      "source": [
        "plt.figure(figsize=(6,6))\n",
        "plt.scatter(X[y[:,0] == 0][:,1], X[y[:,0] == 0][:,2], label='class 0', c='r')\n",
        "plt.scatter(X[y[:,0] == 1][:,1], X[y[:,0] == 1][:,2], label='class 1', c='g')\n",
        "plt.scatter(X[y[:,0] == 2][:,1], X[y[:,0] == 2][:,2], label='class 2', c='b')\n",
        "\n",
        "plt.show()"
      ]
    },
    {
      "cell_type": "markdown",
      "metadata": {
        "id": "tI4-8lR3gJZS"
      },
      "source": [
        "### Logistic Regression Implementation\n",
        "For multi-class logistic regression we have 3 models so our theta will be of shape (3,3) and cost arr of shape (no_of_iterations,3) one for each model"
      ]
    },
    {
      "cell_type": "code",
      "execution_count": null,
      "metadata": {
        "id": "lYVOE2QjgJZS"
      },
      "outputs": [],
      "source": [
        "#define theta with size 3,3 as there are 3 features and 3 models, lets take the initial value as 0\n",
        "theta = np.zeros((3,3))\n",
        "\n",
        "#learning rate\n",
        "learning_rate = 0.001\n",
        "\n",
        "#no of iterations we want our model to be trained\n",
        "no_of_iterations = 200000\n",
        "\n",
        "#to visualise the cost function\n",
        "cost_arr = np.empty((0,3))\n",
        "\n",
        "#counter\n",
        "i = 1\n",
        "\n",
        "def sigmoid(z):\n",
        "    return 1 / (1 + np.exp(-z))\n",
        "\n",
        "for i in range(no_of_iterations):\n",
        "\n",
        "    #model/hypothesis function\n",
        "    lineq = np.dot(X, theta.T)\n",
        "    h = sigmoid(lineq)\n",
        "\n",
        "    #cost function -1/m * sum (y log h + (1-y)log(1-h))for each class\n",
        "    cost = -1/m * ((Y * np.log(h)) + ((1-Y) * np.log(1-h)))\n",
        "    cost = cost.sum(axis = 0)\n",
        "    cost_arr = np.vstack((cost_arr, cost))\n",
        "\n",
        "    #applying gradient descent to calculate new theta = theta - (learning_rate/m * summation[(h-y)*x]) -> delta\n",
        "    #summation can be replace by matrix multiplication\n",
        "    delta = (learning_rate/m) * np.dot((h-Y).T, X)\n",
        "    theta = theta - delta\n",
        "\n",
        "    i = i + 1;"
      ]
    },
    {
      "cell_type": "markdown",
      "metadata": {
        "id": "qTOS3vr2gJZT"
      },
      "source": [
        "### Plot cost values"
      ]
    },
    {
      "cell_type": "code",
      "execution_count": null,
      "metadata": {
        "id": "afQ1FDrYgJZT",
        "outputId": "4c2ee3d9-c613-4b59-a095-9cfbd7c13577"
      },
      "outputs": [
        {
          "data": {
            "image/png": "[encoded data removed]",
            "text/plain": [
              "<matplotlib.figure.Figure at 0x7fb9f4756128>"
            ]
          },
          "metadata": {},
          "output_type": "display_data"
        }
      ],
      "source": [
        "plt.plot(cost_arr[:,0], label='class 0', c='r')\n",
        "plt.plot(cost_arr[:,1], label='class 1', c='g')\n",
        "plt.plot(cost_arr[:,2], label='class 2', c='b')\n",
        "plt.show()"
      ]
    },
    {
      "cell_type": "markdown",
      "metadata": {
        "id": "pyT6kPF9gJZU"
      },
      "source": [
        "### Plot the decision boundary line\n",
        "only need 2 points to define the line lets take min and max of feature 1 and calculate feature 2 based on the theta values we have\n",
        "\n",
        "y = theta0 + theta1x1 + theta2x2, since y is 3rd dimension take y as 0 and calculate x2 to plot the decision boundary line"
      ]
    },
    {
      "cell_type": "code",
      "execution_count": null,
      "metadata": {
        "id": "XR1xb4RogJZU",
        "outputId": "a9daba41-dfab-486a-bc98-c1056d6c9162"
      },
      "outputs": [
        {
          "data": {
            "image/png": "[encoded data removed]",
            "text/plain": [
              "<matplotlib.figure.Figure at 0x7fb9f46758d0>"
            ]
          },
          "metadata": {},
          "output_type": "display_data"
        }
      ],
      "source": [
        " #plot the decision boundary line\n",
        "plot_x = np.array([min(X[:,1]),max(X[:,2])])\n",
        "plot_y0 = -1/theta[0,2] * ((theta[0,1] * plot_x) + theta[0,0])\n",
        "plot_y1 = -1/theta[1,2] * ((theta[1,1] * plot_x) + theta[1,0])\n",
        "plot_y2 = -1/theta[2,2] * ((theta[2,1] * plot_x) + theta[2,0])\n",
        "\n",
        "plt.figure(figsize=(6,6))\n",
        "plt.scatter(X[y[:,0] == 0][:,1], X[y[:,0] == 0][:,2], label='class 0', c='r')\n",
        "plt.scatter(X[y[:,0] == 1][:,1], X[y[:,0] == 1][:,2], label='class 1', c='g')\n",
        "plt.scatter(X[y[:,0] == 2][:,1], X[y[:,0] == 2][:,2], label='class 2', c='b')\n",
        "plt.plot(plot_x,plot_y0)\n",
        "plt.plot(plot_x,plot_y1)\n",
        "plt.plot(plot_x,plot_y2)\n",
        "plt.show()"
      ]
    },
    {
      "cell_type": "markdown",
      "metadata": {
        "id": "W-dROEK2gJZV"
      },
      "source": [
        "### Prediction on test data\n",
        "\n",
        "Our model is ready lets apply it on test data.\n",
        "\n",
        "lets define the predict array with 0 and update 1 for the inputs where the sigmoid value is greater than 0.5"
      ]
    },
    {
      "cell_type": "code",
      "execution_count": null,
      "metadata": {
        "id": "Dp-SaMcggJZV"
      },
      "outputs": [],
      "source": [
        "#load test data as numpy array using genfromtxt\n",
        "test_data = np.genfromtxt('multiclass-classification/test.csv', delimiter=',', skip_header=1)\n",
        "\n",
        "#no of test samples\n",
        "test_m = test_data.shape[0]\n",
        "\n",
        "#test input(Features)\n",
        "test_X = test_data[:,:-1]\n",
        "\n",
        "#As we are using vector implementation adding a column in test_X with all the value 1\n",
        "test_X = np.hstack((np.ones((test_m,1)),test_X))\n",
        "\n",
        "#test output\n",
        "test_y = test_data[:,-1:]\n",
        "\n",
        "#predict\n",
        "pred = np.zeros((test_m,3))\n",
        "model_predict = sigmoid(np.dot(test_X, theta.T))\n",
        "pred[model_predict > 0.5] = 1\n",
        "\n",
        "#converting the prediction matrix into vectors\n",
        "predict = np.zeros((test_m,1))\n",
        "predict[pred[:,1] == 1] = 1\n",
        "predict[pred[:,2] == 1] = 2"
      ]
    },
    {
      "cell_type": "markdown",
      "metadata": {
        "id": "hmpCuVYRgJZW"
      },
      "source": [
        "### Comparing our model with scikit library\n",
        "\n",
        "Lets compare our model with the scikit logistic model. we have used mean square error and variance values for model comparison.\n"
      ]
    },
    {
      "cell_type": "code",
      "execution_count": null,
      "metadata": {
        "id": "qZPUhVOigJZW",
        "outputId": "aaa90186-721b-4f8f-c422-5d2a8ce233ab"
      },
      "outputs": [
        {
          "name": "stdout",
          "output_type": "stream",
          "text": [
            "Sklearn\n",
            "Coefficients: [[ 2.32548844 -0.11179135 -0.03180164]\n",
            " [-0.8355958   0.08438111 -0.06624176]\n",
            " [-2.71843457 -0.00716732  0.08797036]]\n",
            "Mean squared error: 0.40\n",
            "Variance score: 0.48\n",
            "\n",
            "\n",
            "Our Model\n",
            "Coefficients: [[ 6.40021736e+00 -1.39447586e-01 -4.78757962e-02]\n",
            " [-2.07444826e+00  8.94816188e-02 -6.49579515e-02]\n",
            " [-7.54354414e+00 -5.06823544e-03  1.17747915e-01]]\n",
            "Mean squared error: 0.20\n",
            "Variance score: 0.77\n"
          ]
        }
      ],
      "source": [
        "from sklearn import linear_model\n",
        "from sklearn.metrics import mean_squared_error, explained_variance_score\n",
        "\n",
        "#train the model with training data\n",
        "regr = linear_model.LogisticRegression()\n",
        "regr.fit(X,y.reshape(m))\n",
        "\n",
        "#Predict our test data\n",
        "sklearn_predict = regr.predict(test_X)\n",
        "\n",
        "print('Sklearn')\n",
        "#coefficients\n",
        "print('Coefficients: {}'.format(regr.coef_))\n",
        "# The mean squared error\n",
        "print(\"Mean squared error: %.2f\" % mean_squared_error(sklearn_predict, test_y))\n",
        "# Explained variance score: 1 is perfect prediction\n",
        "print('Variance score: %.2f' % explained_variance_score(test_y, sklearn_predict))\n",
        "\n",
        "print('\\n')\n",
        "\n",
        "print('Our Model')\n",
        "#coefficients\n",
        "print('Coefficients: {}'.format(theta))\n",
        "# The mean squared error\n",
        "print(\"Mean squared error: %.2f\" % mean_squared_error(predict, test_y))\n",
        "# Explained variance score: 1 is perfect prediction\n",
        "print('Variance score: %.2f' % explained_variance_score(test_y, predict))\n"
      ]
    },
    {
      "cell_type": "markdown",
      "metadata": {
        "id": "i-EenRnVgJZW"
      },
      "source": [
        "It seems our model mean squared error and variance is much better than sklearn model."
      ]
    }
  ],
  "metadata": {
    "kernelspec": {
      "display_name": "Python 3",
      "language": "python",
      "name": "python3"
    },
    "language_info": {
      "codemirror_mode": {
        "name": "ipython",
        "version": 3
      },
      "file_extension": ".py",
      "mimetype": "text/x-python",
      "name": "python",
      "nbconvert_exporter": "python",
      "pygments_lexer": "ipython3",
      "version": "3.6.4"
    },
    "colab": {
      "provenance": [],
      "include_colab_link": true
    }
  },
  "nbformat": 4,
  "nbformat_minor": 0
}