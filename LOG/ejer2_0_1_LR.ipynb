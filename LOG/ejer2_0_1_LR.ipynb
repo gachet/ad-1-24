{
  "cells": [
    {
      "cell_type": "markdown",
      "metadata": {
        "id": "view-in-github",
        "colab_type": "text"
      },
      "source": [
        "<a href=\"https://colab.research.google.com/github/gachet/ad-1-24/blob/main/LOG/ejer2_0_1_LR.ipynb\" target=\"_parent\"><img src=\"https://colab.research.google.com/assets/colab-badge.svg\" alt=\"Open In Colab\"/></a>"
      ]
    },
    {
      "cell_type": "markdown",
      "metadata": {
        "id": "SMq-PfnANXP2"
      },
      "source": [
        "# Regresión Logística con gradiente descendente"
      ]
    },
    {
      "cell_type": "markdown",
      "metadata": {
        "id": "m8OO5IEGNXP4"
      },
      "source": [
        " La regresión logística es un algoritmo de clasificación de aprendizaje supervisado, lo que significa que puede estimar la clase de nuevas observaciones en función de observaciones etiquetadas."
      ]
    },
    {
      "cell_type": "code",
      "execution_count": 1,
      "metadata": {
        "id": "whWg0x8GNXP5"
      },
      "outputs": [],
      "source": [
        "import numpy as np\n",
        "import matplotlib.pyplot as plt\n",
        "from sklearn.linear_model import LogisticRegression\n",
        "from sklearn.datasets import make_classification\n",
        "%matplotlib inline"
      ]
    },
    {
      "cell_type": "markdown",
      "metadata": {
        "id": "KVQvqgLCNXP6"
      },
      "source": [
        "## Conjunto de datos"
      ]
    },
    {
      "cell_type": "markdown",
      "metadata": {
        "id": "ZvrmqVaYNXP6"
      },
      "source": [
        "supongamos 10 observaciones y dos características y dos clases (clasificación binaria)."
      ]
    },
    {
      "cell_type": "code",
      "execution_count": 2,
      "metadata": {
        "id": "PPknnK_wNXP7",
        "outputId": "eba7524e-53a4-47b9-89a6-d128f1610488",
        "colab": {
          "base_uri": "https://localhost:8080/"
        }
      },
      "outputs": [
        {
          "output_type": "stream",
          "name": "stdout",
          "text": [
            "[[-0.64185521  0.78535215]\n",
            " [ 0.10972634  1.83671408]\n",
            " [-1.07362634  2.591487  ]\n",
            " [-1.38222372  0.85340843]\n",
            " [ 1.78689446  2.3841826 ]\n",
            " [ 0.94785273  3.53015683]\n",
            " [ 1.08876018  1.35925144]\n",
            " [ 0.42774158  3.54015499]\n",
            " [-0.88398194 -0.57876171]\n",
            " [-1.59347411  1.2168913 ]]\n",
            "[1 0 1 1 0 0 0 0 1 1]\n"
          ]
        }
      ],
      "source": [
        "X, y = make_classification(\n",
        "        n_samples=10,\n",
        "        n_features=2,\n",
        "        n_redundant=0,\n",
        "        n_informative=2,\n",
        "        random_state=1,\n",
        "        n_clusters_per_class=1)\n",
        "print(X)\n",
        "print(y)"
      ]
    },
    {
      "cell_type": "code",
      "execution_count": 3,
      "metadata": {
        "id": "em-gDxyJNXP8",
        "outputId": "c5ef797e-8b6a-4a78-b5dd-57e476edf815",
        "colab": {
          "base_uri": "https://localhost:8080/",
          "height": 469
        }
      },
      "outputs": [
        {
          "output_type": "execute_result",
          "data": {
            "text/plain": [
              "Text(0, 0.5, '$X_2$')"
            ]
          },
          "metadata": {},
          "execution_count": 3
        },
        {
          "output_type": "display_data",
          "data": {
            "text/plain": [
              "<Figure size 640x480 with 1 Axes>"
            ],
            "image/png": "[encoded data removed]"
          },
          "metadata": {}
        }
      ],
      "source": [
        "plt.scatter(X[:, 0], X[:, 1], c=y.ravel(), s=40, cmap=plt.cm.Spectral)\n",
        "plt.xlabel(\"$X_1$\")\n",
        "plt.ylabel(\"$X_2$\")\n",
        "# blue dots = 1, red dots = 0"
      ]
    },
    {
      "cell_type": "markdown",
      "metadata": {
        "id": "7tpX08nONXP8"
      },
      "source": [
        "Tenemos 10 observaciones $X$ con dos características, el vector $\\theta$ tendrá tres elementos contando el intercept y conocemos también el vector objetivo (etiqueta) $y$. Podemos predecir el valor (prob) de una nueva observación??"
      ]
    },
    {
      "cell_type": "markdown",
      "metadata": {
        "id": "molMZEOaNXP8"
      },
      "source": [
        "## Regresión Logística"
      ]
    },
    {
      "cell_type": "markdown",
      "metadata": {
        "id": "pFf26DPMNXP9"
      },
      "source": [
        "Intentamos modelar la probabilidad de que una observación pertenezca a una categoría particular.\n",
        "Para generar estas probabilidades, la regresión logística utiliza la función **sigmoide**. Esta función asigna un número real a valores entre 0 y 1.\n",
        "\\begin{equation}\n",
        "g(z) = \\frac{1}{1+e^{-z}}\n",
        "\\end{equation}"
      ]
    },
    {
      "cell_type": "markdown",
      "metadata": {
        "id": "Ciu8JLKWNXP9"
      },
      "source": [
        "Podemos definir nuestra   hipótesis como sigue, $h(X) = g(X \\theta)$\n",
        "donde:\n",
        "- $\\theta$ es el vector de coeficientes\n",
        "- $X$ es el vector de todas las observaciones al cual le añadimos una columna de 1 para calcular el primer valor del vector $\\theta$.\n",
        "\n",
        "$h(X)$  nos da la probabilidad de que nuestra salida sea 1, lo que significa:\n",
        "- Si $ X \\theta \\geqslant 0 $, entonces $h(X) \\geqslant 0.5$, entonces la predicción es $y = 1$\n",
        "- Si $ X \\theta < 0 $, entonces $h(X) < 0.5$, entonces la predicción es $y = 0$"
      ]
    },
    {
      "cell_type": "markdown",
      "source": [
        "#@title hola\n",
        "def add_intercept(X):\n",
        "    intercept = np.ones((X.shape[0], 1))\n",
        "    return np.concatenate((intercept, X), axis=1)"
      ],
      "metadata": {
        "id": "tg0PK0M89_uG"
      }
    },
    {
      "cell_type": "code",
      "source": [
        "#@title intercept\n",
        "def add_intercept(X):\n",
        "    intercept = np.ones((X.shape[0], 1))\n",
        "    return np.concatenate((intercept, X), axis=1)"
      ],
      "metadata": {
        "cellView": "form",
        "id": "yJQuKgmB9z8L"
      },
      "execution_count": 4,
      "outputs": []
    },
    {
      "cell_type": "code",
      "source": [],
      "metadata": {
        "id": "UB-q4IGma9xc"
      },
      "execution_count": 4,
      "outputs": []
    },
    {
      "cell_type": "code",
      "source": [
        "#@title sigmoid\n",
        "def sigmoid(z):\n",
        "    return 1 / (1 + np.exp(-z))"
      ],
      "metadata": {
        "id": "aOnCcydcbBG9"
      },
      "execution_count": 5,
      "outputs": []
    },
    {
      "cell_type": "code",
      "source": [
        "#@title calcular h\n",
        "def calc_h(X, theta):\n",
        "    z = np.dot(X, theta)\n",
        "    h = sigmoid(z)\n",
        "    return h"
      ],
      "metadata": {
        "id": "-tF3AWcibEQU",
        "cellView": "form"
      },
      "execution_count": 6,
      "outputs": []
    },
    {
      "cell_type": "code",
      "source": [
        "XX = add_intercept(X)\n",
        "theta = np.zeros(XX.shape[1])\n",
        "h = calc_h(XX, theta)"
      ],
      "metadata": {
        "id": "9VTup_BMbEql"
      },
      "execution_count": 7,
      "outputs": []
    },
    {
      "cell_type": "code",
      "execution_count": 8,
      "metadata": {
        "id": "CPsBOs-_NXP-",
        "outputId": "19636d2a-24fb-42c0-9c84-599b9f343154",
        "colab": {
          "base_uri": "https://localhost:8080/"
        }
      },
      "outputs": [
        {
          "output_type": "stream",
          "name": "stdout",
          "text": [
            "[[ 1.         -0.64185521  0.78535215]\n",
            " [ 1.          0.10972634  1.83671408]\n",
            " [ 1.         -1.07362634  2.591487  ]\n",
            " [ 1.         -1.38222372  0.85340843]\n",
            " [ 1.          1.78689446  2.3841826 ]\n",
            " [ 1.          0.94785273  3.53015683]\n",
            " [ 1.          1.08876018  1.35925144]\n",
            " [ 1.          0.42774158  3.54015499]\n",
            " [ 1.         -0.88398194 -0.57876171]\n",
            " [ 1.         -1.59347411  1.2168913 ]]\n",
            "[0. 0. 0.]\n",
            "[0.5 0.5 0.5 0.5 0.5 0.5 0.5 0.5 0.5 0.5]\n"
          ]
        }
      ],
      "source": [
        "print(XX)\n",
        "print(theta)\n",
        "print(h)"
      ]
    },
    {
      "cell_type": "markdown",
      "metadata": {
        "id": "zPexb0m4NXP-"
      },
      "source": [
        "# Función de pérdida"
      ]
    },
    {
      "cell_type": "markdown",
      "metadata": {
        "id": "yOA7UQi5NXP-"
      },
      "source": [
        "Como se vió en clase para la regresión logística se define como,\n",
        "\\begin{equation}\n",
        "J(\\theta) = \\frac{1}{m}(-y \\log(h) - (1 - y) \\log(1 - h))\n",
        "\\end{equation}\n",
        "siendo $m$ es el número de observaciones.\n",
        "\n",
        "Esta función penañiza las observaciones mal clasificadas, por ejemplo:  \n",
        "- si $y=0$ y $h\\rightarrow 1$, entonces $J(\\theta)\\rightarrow ∞$  (penalización fuerte)\n",
        "- si $y=0$ y $h\\rightarrow 0$, entonces $J(\\theta)\\rightarrow 0$  (penalización débil)\n",
        "- si $y=1$ y $h\\rightarrow 0$, entonces $J(\\theta)\\rightarrow ∞$  (penalización fuerte)\n",
        "- si $y=1$ y $h\\rightarrow 1$, entonces $J(\\theta)\\rightarrow 0$  (penalización débil)"
      ]
    },
    {
      "cell_type": "code",
      "execution_count": 9,
      "metadata": {
        "id": "LA7pffiGNXP_",
        "outputId": "0f70654e-66bc-43fb-9ee7-ab079f0fa83e",
        "colab": {
          "base_uri": "https://localhost:8080/"
        }
      },
      "outputs": [
        {
          "output_type": "stream",
          "name": "stdout",
          "text": [
            "0.6931471805599453\n"
          ]
        }
      ],
      "source": [
        "cost = (-y * np.log(h) - (1 - y) * np.log(1 - h)).mean()\n",
        "print(cost)"
      ]
    },
    {
      "cell_type": "markdown",
      "metadata": {
        "id": "8_a6JX6FNXP_"
      },
      "source": [
        "## Gradiente descendente"
      ]
    },
    {
      "cell_type": "markdown",
      "metadata": {
        "id": "KG5VIreHNXP_"
      },
      "source": [
        "Para poder hacer una predicción adecuada, necesitamos minimizar la función de pérdida $J(\\theta)$ y encontrar los valores del vector de coeficientes  $\\theta$ que hacen mínima esta función. Para ello tenemos que calcular las derivadas de la función de pérdida respecto de cada coeficiente  $\\theta$. Este \"gradiente\" cómo varía la función de pérdida al cambiar los coeficientes. Este procedimiento se denomina  *Gradiente Descendente*.\n",
        "\\begin{equation}\n",
        "\\theta_j := \\theta_j - \\alpha \\frac{\\partial J(\\theta)}{\\partial \\theta_j}\n",
        "\\end{equation}\n",
        "Siendo $\\alpha$ es la tasa de aprendizaje.\n",
        "\n",
        "Se puede demostrar que\n",
        "\\begin{equation}\n",
        "\\frac{\\partial J(\\theta)}{\\partial \\theta_j} = \\frac{1}{m} X^T (h - y)\n",
        "\\end{equation}"
      ]
    },
    {
      "cell_type": "code",
      "execution_count": 10,
      "metadata": {
        "id": "3_ZmcCy7NXQA"
      },
      "outputs": [],
      "source": [
        "m = y.size\n",
        "alpha = 0.01\n",
        "\n",
        "gradient = np.dot(XX.T, (h - y)) / m\n",
        "theta -= alpha * gradient\n"
      ]
    },
    {
      "cell_type": "code",
      "source": [
        "print(gradient)"
      ],
      "metadata": {
        "colab": {
          "base_uri": "https://localhost:8080/"
        },
        "id": "C9pduutKfv_k",
        "outputId": "263bcc86-4df9-4c05-efc1-d7dd59e7deb8"
      },
      "execution_count": 11,
      "outputs": [
        {
          "output_type": "stream",
          "name": "stdout",
          "text": [
            "[0.         0.49680683 0.38910414]\n"
          ]
        }
      ]
    },
    {
      "cell_type": "code",
      "source": [
        "print(theta)"
      ],
      "metadata": {
        "colab": {
          "base_uri": "https://localhost:8080/"
        },
        "id": "q6XZTvlwfz-t",
        "outputId": "1bfe4c98-1e21-4bc3-cf25-29bc5bd9dce4"
      },
      "execution_count": 12,
      "outputs": [
        {
          "output_type": "stream",
          "name": "stdout",
          "text": [
            "[ 0.         -0.00496807 -0.00389104]\n"
          ]
        }
      ]
    },
    {
      "cell_type": "markdown",
      "metadata": {
        "id": "wXa7Ur28NXQA"
      },
      "source": [
        "## Entrenamiento del modelo"
      ]
    },
    {
      "cell_type": "markdown",
      "metadata": {
        "id": "kRQ3ImbnNXQA"
      },
      "source": [
        "a fin de encontrar los coeficientes del modelo, es decir los elementos del vector $\\theta$, debemos proceder a realizar el gradiente descendente de forma iterativa"
      ]
    },
    {
      "cell_type": "code",
      "execution_count": 13,
      "metadata": {
        "id": "FcWtgSTcNXQA",
        "outputId": "c6aabc23-7139-4151-f138-eb87cf35fd3f",
        "colab": {
          "base_uri": "https://localhost:8080/"
        }
      },
      "outputs": [
        {
          "output_type": "stream",
          "name": "stdout",
          "text": [
            "Cost: 0.6891798102118079\n",
            "Cost: 0.029018963792119053\n",
            "Cost: 0.01686836306295252\n",
            "Adjusted coefficient: [ 0.67146085 -6.29573044 -1.50847208]\n"
          ]
        }
      ],
      "source": [
        "num_iter = 30000\n",
        "cost_list = []\n",
        "\n",
        "for i in range(num_iter):\n",
        "    h = calc_h(XX, theta)\n",
        "    cost = (-y * np.log(h) - (1 - y) * np.log(1 - h)).mean()\n",
        "    cost_list.append(cost)\n",
        "\n",
        "    gradient = np.dot(XX.T, (h - y)) / m\n",
        "    theta -= alpha * gradient\n",
        "\n",
        "\n",
        "    if i % 10000 == 0:\n",
        "        print('Cost: {}'.format(cost))\n",
        "\n",
        "print('Adjusted coefficient: {}'.format(theta))"
      ]
    },
    {
      "cell_type": "markdown",
      "metadata": {
        "id": "LNynrREuNXQB"
      },
      "source": [
        "## Variación de la función de pérdida"
      ]
    },
    {
      "cell_type": "code",
      "execution_count": 14,
      "metadata": {
        "id": "WfWWbaWINXQB",
        "outputId": "1c3ac5a5-ecdd-4813-f153-fc67c45fee17",
        "colab": {
          "base_uri": "https://localhost:8080/",
          "height": 447
        }
      },
      "outputs": [
        {
          "output_type": "execute_result",
          "data": {
            "text/plain": [
              "[<matplotlib.lines.Line2D at 0x7beb74335f90>]"
            ]
          },
          "metadata": {},
          "execution_count": 14
        },
        {
          "output_type": "display_data",
          "data": {
            "text/plain": [
              "<Figure size 640x480 with 1 Axes>"
            ],
            "image/png": "[encoded data removed]"
          },
          "metadata": {}
        }
      ],
      "source": [
        "plt.plot(range(num_iter), cost_list)"
      ]
    },
    {
      "cell_type": "markdown",
      "metadata": {
        "id": "BEjCjKYINXQB"
      },
      "source": [
        "Como esperábamos la función de pçerdoda decrece."
      ]
    },
    {
      "cell_type": "markdown",
      "metadata": {
        "id": "REAYi3F-NXQB"
      },
      "source": [
        "## Realizando predicciones"
      ]
    },
    {
      "cell_type": "markdown",
      "metadata": {
        "id": "hrt8NSbFNXQB"
      },
      "source": [
        "Calculemos las predicciones, es decir la probabilidad para cada observación."
      ]
    },
    {
      "cell_type": "code",
      "execution_count": 15,
      "metadata": {
        "id": "AWDIUr1sNXQC",
        "outputId": "0919a95d-ffe8-46b9-e46a-ad8fca56ea0c",
        "colab": {
          "base_uri": "https://localhost:8080/"
        }
      },
      "outputs": [
        {
          "output_type": "stream",
          "name": "stdout",
          "text": [
            "[9.71466458e-01 5.78681254e-02 9.71294392e-01 9.99692346e-01\n",
            " 6.98159274e-07 2.43950129e-05 2.65541829e-04 6.34708521e-04\n",
            " 9.99183624e-01 9.99859181e-01]\n"
          ]
        }
      ],
      "source": [
        "preds_prob = calc_h(XX, theta)\n",
        "print(preds_prob)"
      ]
    },
    {
      "cell_type": "markdown",
      "metadata": {
        "id": "tk3RKNx2NXQC"
      },
      "source": [
        "El límite de decisión para la sigmoide es 0.5 con lo que podemos redondear las probabilidades para asignar la clase de cada observación."
      ]
    },
    {
      "cell_type": "code",
      "execution_count": 16,
      "metadata": {
        "id": "9KzqJAvjNXQC",
        "outputId": "517837c3-1b0d-4b2a-d185-e510e9e1c8a7",
        "colab": {
          "base_uri": "https://localhost:8080/"
        }
      },
      "outputs": [
        {
          "output_type": "stream",
          "name": "stdout",
          "text": [
            "[1. 0. 1. 1. 0. 0. 0. 0. 1. 1.]\n"
          ]
        }
      ],
      "source": [
        "preds = preds_prob.round()\n",
        "print(preds)"
      ]
    },
    {
      "cell_type": "markdown",
      "metadata": {
        "id": "Hacj9Ft1NXQD"
      },
      "source": [
        "Calculemos la medida de la precisión para estos datos de entreamiento."
      ]
    },
    {
      "cell_type": "code",
      "execution_count": 17,
      "metadata": {
        "id": "yALSqK0pNXQD",
        "outputId": "d3883615-e7c1-4ca2-fd8e-41d9d2d8ba77",
        "colab": {
          "base_uri": "https://localhost:8080/"
        }
      },
      "outputs": [
        {
          "output_type": "stream",
          "name": "stdout",
          "text": [
            "Score Numpy: 1.0\n"
          ]
        }
      ],
      "source": [
        "score_numpy = (preds == y).mean()\n",
        "print('Score Numpy: {}'.format(score_numpy))"
      ]
    },
    {
      "cell_type": "markdown",
      "metadata": {
        "id": "Dd8BJYD3NXQD"
      },
      "source": [
        "No es muy informativo ya que hemos entrebado y probado con los mismos datos y los mismos valores objetivos $y$. Veams que sucede con una nueva onservación."
      ]
    },
    {
      "cell_type": "code",
      "execution_count": 18,
      "metadata": {
        "id": "c089pTFTNXQD",
        "colab": {
          "base_uri": "https://localhost:8080/"
        },
        "outputId": "f6c15c3e-8a13-4767-ee42-b60b0e927f56"
      },
      "outputs": [
        {
          "output_type": "stream",
          "name": "stdout",
          "text": [
            "[ 1.  -0.8  0.8]\n",
            "predicción para la salida de la nueva observación:  1.0\n"
          ]
        }
      ],
      "source": [
        "new_x = np.array([1, -0.8, 0.8])   # new observation (-0.8, 0.8)  with an intercept of 1\n",
        "print(new_x)\n",
        "preds_prob_new_x = calc_h(new_x, theta).round()\n",
        "print(\"predicción para la salida de la nueva observación: \", preds_prob_new_x)"
      ]
    },
    {
      "cell_type": "markdown",
      "metadata": {
        "id": "cvWzGC8NNXQE"
      },
      "source": [
        "## Recta de decisión"
      ]
    },
    {
      "cell_type": "code",
      "execution_count": 20,
      "metadata": {
        "id": "WKU_XJeVNXQE",
        "colab": {
          "base_uri": "https://localhost:8080/",
          "height": 210
        },
        "outputId": "0a336a56-5427-4968-ef97-e8e018d65bf6"
      },
      "outputs": [
        {
          "output_type": "error",
          "ename": "NameError",
          "evalue": "name 'passed' is not defined",
          "traceback": [
            "\u001b[0;31m---------------------------------------------------------------------------\u001b[0m",
            "\u001b[0;31mNameError\u001b[0m                                 Traceback (most recent call last)",
            "\u001b[0;32m<ipython-input-20-66af15d2c37f>\u001b[0m in \u001b[0;36m<cell line: 2>\u001b[0;34m()\u001b[0m\n\u001b[1;32m      1\u001b[0m \u001b[0;32mimport\u001b[0m \u001b[0mseaborn\u001b[0m \u001b[0;32mas\u001b[0m \u001b[0msns\u001b[0m\u001b[0;34m\u001b[0m\u001b[0;34m\u001b[0m\u001b[0m\n\u001b[0;32m----> 2\u001b[0;31m sns.scatterplot(x = X[passed[:, 0], 1],\n\u001b[0m\u001b[1;32m      3\u001b[0m                 \u001b[0my\u001b[0m \u001b[0;34m=\u001b[0m \u001b[0mX\u001b[0m\u001b[0;34m[\u001b[0m\u001b[0mpassed\u001b[0m\u001b[0;34m[\u001b[0m\u001b[0;34m:\u001b[0m\u001b[0;34m,\u001b[0m \u001b[0;36m0\u001b[0m\u001b[0;34m]\u001b[0m\u001b[0;34m,\u001b[0m \u001b[0;36m2\u001b[0m\u001b[0;34m]\u001b[0m\u001b[0;34m,\u001b[0m\u001b[0;34m\u001b[0m\u001b[0;34m\u001b[0m\u001b[0m\n\u001b[1;32m      4\u001b[0m                 \u001b[0mmarker\u001b[0m \u001b[0;34m=\u001b[0m \u001b[0;34m\"^\"\u001b[0m\u001b[0;34m,\u001b[0m\u001b[0;34m\u001b[0m\u001b[0;34m\u001b[0m\u001b[0m\n\u001b[1;32m      5\u001b[0m                 \u001b[0mcolor\u001b[0m \u001b[0;34m=\u001b[0m \u001b[0;34m\"green\"\u001b[0m\u001b[0;34m,\u001b[0m\u001b[0;34m\u001b[0m\u001b[0;34m\u001b[0m\u001b[0m\n",
            "\u001b[0;31mNameError\u001b[0m: name 'passed' is not defined"
          ]
        }
      ],
      "source": [
        "import seaborn as sns\n",
        "sns.scatterplot(x = X[passed[:, 0], 1],\n",
        "                y = X[passed[:, 0], 2],\n",
        "                marker = \"^\",\n",
        "                color = \"green\",\n",
        "                s = 60)\n",
        "ax = sns.scatterplot(x = X[failed[:, 0], 1],\n",
        "                    y = X[failed[:, 0], 2],\n",
        "                    marker = \"X\",\n",
        "                    color = \"red\",\n",
        "                    s = 60)\n",
        "\n",
        "ax.legend([\"Passed\", \"Failed\"])\n",
        "ax.set(xlabel=\"DMV Written Test 1 Scores\", ylabel=\"DMV Written Test 2 Scores\")\n",
        "\n",
        "x_boundary = np.array([np.min(X[:, 1]), np.max(X[:, 1])])\n",
        "y_boundary = -(theta[0] + theta[1] * x_boundary) / theta[2]\n",
        "\n",
        "sns.lineplot(x = x_boundary, y = y_boundary, color=\"blue\")\n",
        "plt.show();"
      ]
    },
    {
      "cell_type": "markdown",
      "metadata": {
        "id": "e3PzJiv9NXQE"
      },
      "source": [
        "## Sklearn implementation"
      ]
    },
    {
      "cell_type": "markdown",
      "metadata": {
        "id": "ASS56fqqNXQF"
      },
      "source": [
        "Of course, logistic regression is already implemented in Scikit-learn."
      ]
    },
    {
      "cell_type": "code",
      "source": [
        "from sklearn import metrics\n",
        "from sklearn.linear_model import LogisticRegression"
      ],
      "metadata": {
        "id": "cFcf9WWcjcgD"
      },
      "execution_count": null,
      "outputs": []
    },
    {
      "cell_type": "code",
      "source": [
        "X"
      ],
      "metadata": {
        "id": "1GOrCEu-l87n"
      },
      "execution_count": null,
      "outputs": []
    },
    {
      "cell_type": "code",
      "execution_count": null,
      "metadata": {
        "id": "kZFIj_jMNXQF"
      },
      "outputs": [],
      "source": [
        "model = LogisticRegression(penalty=None,max_iter=30000)\n",
        "model.fit(X, y)\n",
        "preds = model.predict(X)\n",
        "\n",
        "score_sklearn = (preds == y).mean()\n",
        "print('Score Sklearn: {}'.format(score_sklearn))\n",
        "print(model.intercept_, model.coef_)\n",
        "print (\"Confusion matrix :\",metrics.confusion_matrix(y, model.predict(X)))"
      ]
    },
    {
      "cell_type": "code",
      "execution_count": null,
      "metadata": {
        "id": "yNGDqTeONXQJ"
      },
      "outputs": [],
      "source": [
        "new_x = np.array([-0.8, 0.8])\n",
        "new_x = new_x.reshape(1, -1)\n",
        "preds = model.predict(new_x)\n",
        "preds"
      ]
    }
  ],
  "metadata": {
    "kernelspec": {
      "display_name": "Python 3",
      "language": "python",
      "name": "python3"
    },
    "language_info": {
      "codemirror_mode": {
        "name": "ipython",
        "version": 3
      },
      "file_extension": ".py",
      "mimetype": "text/x-python",
      "name": "python",
      "nbconvert_exporter": "python",
      "pygments_lexer": "ipython3",
      "version": "3.6.8"
    },
    "colab": {
      "provenance": [],
      "include_colab_link": true
    }
  },
  "nbformat": 4,
  "nbformat_minor": 0
}