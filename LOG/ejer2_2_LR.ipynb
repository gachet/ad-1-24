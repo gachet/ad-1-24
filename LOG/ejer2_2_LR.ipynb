{
  "cells": [
    {
      "cell_type": "markdown",
      "metadata": {
        "id": "view-in-github",
        "colab_type": "text"
      },
      "source": [
        "<a href=\"https://colab.research.google.com/github/gachet/ad-1-24/blob/main/LOG/ejer2_2_LR.ipynb\" target=\"_parent\"><img src=\"https://colab.research.google.com/assets/colab-badge.svg\" alt=\"Open In Colab\"/></a>"
      ]
    },
    {
      "cell_type": "markdown",
      "metadata": {
        "id": "SMq-PfnANXP2"
      },
      "source": [
        "# Regresión Logística con gradiente descendente"
      ]
    },
    {
      "cell_type": "markdown",
      "metadata": {
        "id": "m8OO5IEGNXP4"
      },
      "source": [
        " La regresión logística es un algoritmo de clasificación de aprendizaje supervisado, lo que significa que puede estimar la clase de nuevas observaciones en función de observaciones etiquetadas."
      ]
    },
    {
      "cell_type": "code",
      "execution_count": 21,
      "metadata": {
        "id": "whWg0x8GNXP5"
      },
      "outputs": [],
      "source": [
        "import numpy as np\n",
        "import matplotlib.pyplot as plt\n",
        "from sklearn.linear_model import LogisticRegression\n",
        "from sklearn.datasets import make_classification\n",
        "import seaborn as sbn\n",
        "%matplotlib inline"
      ]
    },
    {
      "cell_type": "markdown",
      "metadata": {
        "id": "KVQvqgLCNXP6"
      },
      "source": [
        "## Conjunto de datos (sintéticos)"
      ]
    },
    {
      "cell_type": "markdown",
      "metadata": {
        "id": "ZvrmqVaYNXP6"
      },
      "source": [
        "supongamos 10 observaciones y dos características y dos clases (clasificación binaria)."
      ]
    },
    {
      "cell_type": "code",
      "execution_count": 22,
      "metadata": {
        "id": "PPknnK_wNXP7",
        "outputId": "644fe217-924b-40ce-a385-808e2320001c",
        "colab": {
          "base_uri": "https://localhost:8080/"
        }
      },
      "outputs": [
        {
          "output_type": "stream",
          "name": "stdout",
          "text": [
            "[[-0.64185521  0.78535215]\n",
            " [ 0.10972634  1.83671408]\n",
            " [-1.07362634  2.591487  ]\n",
            " [-1.38222372  0.85340843]\n",
            " [ 1.78689446  2.3841826 ]\n",
            " [ 0.94785273  3.53015683]\n",
            " [ 1.08876018  1.35925144]\n",
            " [ 0.42774158  3.54015499]\n",
            " [-0.88398194 -0.57876171]\n",
            " [-1.59347411  1.2168913 ]]\n",
            "[1 0 1 1 0 0 0 0 1 1]\n"
          ]
        }
      ],
      "source": [
        "X, y = make_classification(\n",
        "        n_samples=10,\n",
        "        n_features=2,\n",
        "        n_redundant=0,\n",
        "        n_informative=2,\n",
        "        random_state=1,\n",
        "        n_clusters_per_class=1)\n",
        "print(X)\n",
        "print(y)"
      ]
    },
    {
      "cell_type": "code",
      "execution_count": 23,
      "metadata": {
        "id": "em-gDxyJNXP8",
        "outputId": "93f72c4f-e1cf-410d-83cf-6b42919072ef",
        "colab": {
          "base_uri": "https://localhost:8080/",
          "height": 469
        }
      },
      "outputs": [
        {
          "output_type": "execute_result",
          "data": {
            "text/plain": [
              "Text(0, 0.5, '$X_2$')"
            ]
          },
          "metadata": {},
          "execution_count": 23
        },
        {
          "output_type": "display_data",
          "data": {
            "text/plain": [
              "<Figure size 640x480 with 1 Axes>"
            ],
            "image/png": "[encoded data removed]"
          },
          "metadata": {}
        }
      ],
      "source": [
        "plt.scatter(X[:, 0], X[:, 1], c=y.ravel(), s=40, cmap=plt.cm.Spectral)\n",
        "plt.xlabel(\"$X_1$\")\n",
        "plt.ylabel(\"$X_2$\")\n",
        "# blue dots = 1, red dots = 0"
      ]
    },
    {
      "cell_type": "markdown",
      "metadata": {
        "id": "7tpX08nONXP8"
      },
      "source": [
        "Tenemos 10 observaciones $X$ con dos características, el vector $\\theta$ tendrá tres elementos contando el intercept y conocemos también el vector objetivo (etiqueta) $y$. Podemos predecir el valor (prob) de una nueva observación??"
      ]
    },
    {
      "cell_type": "markdown",
      "metadata": {
        "id": "molMZEOaNXP8"
      },
      "source": [
        "## Regresión Logística"
      ]
    },
    {
      "cell_type": "markdown",
      "metadata": {
        "id": "pFf26DPMNXP9"
      },
      "source": [
        "Intentamos modelar la probabilidad de que una observación pertenezca a una categoría particular.\n",
        "Para generar estas probabilidades, la regresión logística utiliza la función **sigmoide**. Esta función asigna un número real a valores entre 0 y 1.\n",
        "\\begin{equation}\n",
        "g(z) = \\frac{1}{1+e^{-z}}\n",
        "\\end{equation}"
      ]
    },
    {
      "cell_type": "markdown",
      "metadata": {
        "id": "Ciu8JLKWNXP9"
      },
      "source": [
        "Podemos definir nuestra   hipótesis como sigue, $h(X) = g(X \\theta)$\n",
        "donde:\n",
        "- $\\theta$ es el vector de coeficientes\n",
        "- $X$ es el vector de todas las observaciones al cual le añadimos una columna de 1 para calcular el primer valor del vector $\\theta$.\n",
        "\n",
        "$h(X)$  nos da la probabilidad de que nuestra salida sea 1, lo que significa:\n",
        "- Si $ X \\theta \\geqslant 0 $, entonces $h(X) \\geqslant 0.5$, entonces la predicción es $y = 1$\n",
        "- Si $ X \\theta < 0 $, entonces $h(X) < 0.5$, entonces la predicción es $y = 0$"
      ]
    },
    {
      "cell_type": "markdown",
      "source": [
        "Ponemos nuestra columna de 1 al inicio de las caractrerísticas\n"
      ],
      "metadata": {
        "id": "tg0PK0M89_uG"
      }
    },
    {
      "cell_type": "code",
      "source": [
        "def add_ones(X):\n",
        "    intercept = np.ones((X.shape[0], 1))\n",
        "    return np.concatenate((intercept, X), axis=1)"
      ],
      "metadata": {
        "id": "yJQuKgmB9z8L"
      },
      "execution_count": 24,
      "outputs": []
    },
    {
      "cell_type": "code",
      "source": [
        "#función sigmoid\n",
        "def sigmoid(z):\n",
        "    return 1 / (1 + np.exp(-z))"
      ],
      "metadata": {
        "id": "aOnCcydcbBG9"
      },
      "execution_count": 25,
      "outputs": []
    },
    {
      "cell_type": "code",
      "source": [
        "#xálculo de la hypòtesis\n",
        "def calc_h(X, theta):\n",
        "    z = np.dot(X, theta)\n",
        "    h = sigmoid(z)\n",
        "    return h"
      ],
      "metadata": {
        "id": "-tF3AWcibEQU"
      },
      "execution_count": 26,
      "outputs": []
    },
    {
      "cell_type": "code",
      "source": [
        "XX = add_ones(X)\n",
        "theta = np.zeros(XX.shape[1])\n",
        "h = calc_h(XX, theta)"
      ],
      "metadata": {
        "id": "9VTup_BMbEql"
      },
      "execution_count": 27,
      "outputs": []
    },
    {
      "cell_type": "code",
      "execution_count": 28,
      "metadata": {
        "id": "CPsBOs-_NXP-",
        "outputId": "1602921f-02e7-425b-921c-3dd2528e93de",
        "colab": {
          "base_uri": "https://localhost:8080/"
        }
      },
      "outputs": [
        {
          "output_type": "stream",
          "name": "stdout",
          "text": [
            "[[ 1.         -0.64185521  0.78535215]\n",
            " [ 1.          0.10972634  1.83671408]\n",
            " [ 1.         -1.07362634  2.591487  ]\n",
            " [ 1.         -1.38222372  0.85340843]\n",
            " [ 1.          1.78689446  2.3841826 ]\n",
            " [ 1.          0.94785273  3.53015683]\n",
            " [ 1.          1.08876018  1.35925144]\n",
            " [ 1.          0.42774158  3.54015499]\n",
            " [ 1.         -0.88398194 -0.57876171]\n",
            " [ 1.         -1.59347411  1.2168913 ]]\n",
            "[0. 0. 0.]\n",
            "[0.5 0.5 0.5 0.5 0.5 0.5 0.5 0.5 0.5 0.5]\n"
          ]
        }
      ],
      "source": [
        "print(XX)\n",
        "print(theta)\n",
        "print(h)"
      ]
    },
    {
      "cell_type": "markdown",
      "metadata": {
        "id": "zPexb0m4NXP-"
      },
      "source": [
        "# Función de Coste"
      ]
    },
    {
      "cell_type": "markdown",
      "metadata": {
        "id": "yOA7UQi5NXP-"
      },
      "source": [
        "Como se vió en clase para la regresión logística el coste se define como,\n",
        "<div align='center'>\n",
        "<img width=\"600\" height=\"100\" src=\"data:image/png;base64,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 \"/>\n",
        "</div>\n",
        "**O Simplemente:**  \n",
        "\\begin{equation}\n",
        "J(\\theta) = \\frac{1}{m}(-y \\log(h) - (1 - y) \\log(1 - h))\n",
        "\\end{equation}\n",
        "siendo $m$ es el número de observaciones.\n",
        "\n",
        "Esta función penaliza las observaciones mal clasificadas, por ejemplo:  \n",
        "- si $y=0$ y $h\\rightarrow 1$, entonces $J(\\theta)\\rightarrow ∞$  (penalización fuerte)\n",
        "- si $y=0$ y $h\\rightarrow 0$, entonces $J(\\theta)\\rightarrow 0$  (penalización débil)\n",
        "- si $y=1$ y $h\\rightarrow 0$, entonces $J(\\theta)\\rightarrow ∞$  (penalización fuerte)\n",
        "- si $y=1$ y $h\\rightarrow 1$, entonces $J(\\theta)\\rightarrow 0$  (penalización débil)"
      ]
    },
    {
      "cell_type": "code",
      "execution_count": 29,
      "metadata": {
        "id": "LA7pffiGNXP_",
        "outputId": "895af46e-2056-40b8-ec63-359a5946917e",
        "colab": {
          "base_uri": "https://localhost:8080/"
        }
      },
      "outputs": [
        {
          "output_type": "stream",
          "name": "stdout",
          "text": [
            "0.6931471805599453\n"
          ]
        }
      ],
      "source": [
        "cost = (-y * np.log(h) - (1 - y) * np.log(1 - h)).mean()\n",
        "print(cost)"
      ]
    },
    {
      "cell_type": "markdown",
      "metadata": {
        "id": "8_a6JX6FNXP_"
      },
      "source": [
        "## Gradiente descendente"
      ]
    },
    {
      "cell_type": "markdown",
      "metadata": {
        "id": "KG5VIreHNXP_"
      },
      "source": [
        "Para poder hacer una predicción adecuada, necesitamos minimizar la función de pérdida $J(\\theta)$ y encontrar los valores del vector de coeficientes  $\\theta$ que hacen mínima esta función. Para ello tenemos que calcular las derivadas de la función de coste respecto de cada coeficiente  $\\theta$.  Este procedimiento se denomina  *Gradiente Descendente*.\n",
        "\\begin{equation}\n",
        "\\theta_j := \\theta_j - \\alpha \\frac{\\partial J(\\theta)}{\\partial \\theta_j}\n",
        "\\end{equation}\n",
        "Siendo $\\alpha$ es la tasa de aprendizaje.\n",
        "\n",
        "Se puede demostrar que :\n",
        "<div align='center'>\n",
        "\n",
        "<img width=\"200\" height=\"50\" src=\"data:image/png;base64,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\"/>\n",
        "</div>\n",
        "\n",
        "O de forma mas simple:  \n",
        "\\begin{equation}\n",
        "\\frac{\\partial J(\\theta)}{\\partial \\theta_j} = \\frac{1}{m} X^T (h - y)\n",
        "\\end{equation}"
      ]
    },
    {
      "cell_type": "code",
      "execution_count": 30,
      "metadata": {
        "id": "3_ZmcCy7NXQA"
      },
      "outputs": [],
      "source": [
        "m = y.size\n",
        "alpha = 0.01\n",
        "theta = np.zeros(XX.shape[1])\n"
      ]
    },
    {
      "cell_type": "code",
      "source": [
        "print(theta)"
      ],
      "metadata": {
        "colab": {
          "base_uri": "https://localhost:8080/"
        },
        "id": "q6XZTvlwfz-t",
        "outputId": "6d3c8b20-978e-4e0d-ad3e-38357021dd46"
      },
      "execution_count": 31,
      "outputs": [
        {
          "output_type": "stream",
          "name": "stdout",
          "text": [
            "[0. 0. 0.]\n"
          ]
        }
      ]
    },
    {
      "cell_type": "markdown",
      "metadata": {
        "id": "wXa7Ur28NXQA"
      },
      "source": [
        "## Entrenamiento del modelo"
      ]
    },
    {
      "cell_type": "markdown",
      "metadata": {
        "id": "kRQ3ImbnNXQA"
      },
      "source": [
        "a fin de encontrar los coeficientes del modelo, es decir los elementos del vector $\\theta$, debemos proceder a realizar el gradiente descendente de forma iterativa"
      ]
    },
    {
      "cell_type": "code",
      "execution_count": 32,
      "metadata": {
        "id": "FcWtgSTcNXQA",
        "outputId": "50e9f950-59cf-43db-b60a-c49d96264420",
        "colab": {
          "base_uri": "https://localhost:8080/"
        }
      },
      "outputs": [
        {
          "output_type": "stream",
          "name": "stdout",
          "text": [
            "iteracion  0 coste  0.6931471805599453\n",
            "iteracion  20000 coste  0.016869055503776965\n",
            "iteracion  40000 coste  0.009315820714618188\n",
            "iteracion  60000 coste  0.0064528709248223345\n",
            "iteracion  80000 coste  0.004938723667775568\n",
            "iteracion  100000 coste  0.00400078405098816\n",
            "iteracion  120000 coste  0.0033624486205240654\n",
            "iteracion  140000 coste  0.002899851796632355\n",
            "iteracion  160000 coste  0.0025491718231981796\n",
            "iteracion  180000 coste  0.0022741652026607028\n",
            "Convergencia Alcanzada ! 199942  iteraciones\n",
            "Adjusted coefficient: [ 0.6671577  -9.83351445 -2.26794714]\n"
          ]
        }
      ],
      "source": [
        "import  math\n",
        "num_iter = 600000\n",
        "epsilon = 10e-9\n",
        "J_vals = []\n",
        "prev = math.inf\n",
        "for i in range(num_iter):\n",
        "    h = calc_h(XX, theta)\n",
        "    cost = (-y * np.log(h) - (1 - y) * np.log(1 - h)).mean()\n",
        "    J_vals.append(cost)\n",
        "    if(abs( J_vals[i]- prev) < epsilon) :\n",
        "            print(\"Convergencia Alcanzada !\", i ,\" iteraciones\")\n",
        "            break\n",
        "    prev = J_vals[i]\n",
        "    gradient = np.dot(XX.T, (h - y)) / m\n",
        "    theta -= alpha * gradient\n",
        "    if i % 20000 == 0:\n",
        "        print('iteracion ',i,'coste ', cost)\n",
        "\n",
        "print('Adjusted coefficient: {}'.format(theta))"
      ]
    },
    {
      "cell_type": "markdown",
      "metadata": {
        "id": "LNynrREuNXQB"
      },
      "source": [
        "## Variación de la función de pérdida"
      ]
    },
    {
      "cell_type": "code",
      "execution_count": 33,
      "metadata": {
        "id": "WfWWbaWINXQB",
        "outputId": "5f96432d-ede4-4ef4-a658-4feb6498e757",
        "colab": {
          "base_uri": "https://localhost:8080/",
          "height": 447
        }
      },
      "outputs": [
        {
          "output_type": "execute_result",
          "data": {
            "text/plain": [
              "[<matplotlib.lines.Line2D at 0x79d22396fe20>]"
            ]
          },
          "metadata": {},
          "execution_count": 33
        },
        {
          "output_type": "display_data",
          "data": {
            "text/plain": [
              "<Figure size 640x480 with 1 Axes>"
            ],
            "image/png": "[encoded data removed]"
          },
          "metadata": {}
        }
      ],
      "source": [
        "plt.plot(range(len(J_vals)), J_vals)"
      ]
    },
    {
      "cell_type": "markdown",
      "metadata": {
        "id": "BEjCjKYINXQB"
      },
      "source": [
        "Como esperábamos la función de pçerdoda decrece."
      ]
    },
    {
      "cell_type": "markdown",
      "metadata": {
        "id": "REAYi3F-NXQB"
      },
      "source": [
        "## Realizando predicciones"
      ]
    },
    {
      "cell_type": "markdown",
      "metadata": {
        "id": "hrt8NSbFNXQB"
      },
      "source": [
        "Calculemos las predicciones, es decir la probabilidad para cada observación."
      ]
    },
    {
      "cell_type": "code",
      "execution_count": 34,
      "metadata": {
        "id": "AWDIUr1sNXQC",
        "outputId": "53d439cf-20ff-4e72-ec4f-e9482821858a",
        "colab": {
          "base_uri": "https://localhost:8080/"
        }
      },
      "outputs": [
        {
          "output_type": "stream",
          "name": "stdout",
          "text": [
            "[9.94501209e-01 1.01768745e-02 9.95261677e-01 9.99995555e-01\n",
            " 2.04287070e-10 5.81770463e-08 2.00093961e-06 9.46472211e-06\n",
            " 9.99976825e-01 9.99998730e-01]\n"
          ]
        }
      ],
      "source": [
        "preds_prob = calc_h(XX, theta)\n",
        "print(preds_prob)"
      ]
    },
    {
      "cell_type": "markdown",
      "metadata": {
        "id": "tk3RKNx2NXQC"
      },
      "source": [
        "El límite de decisión para la sigmoide es 0.5 con lo que podemos redondear las probabilidades para asignar la clase de cada observación."
      ]
    },
    {
      "cell_type": "code",
      "execution_count": 35,
      "metadata": {
        "id": "9KzqJAvjNXQC",
        "outputId": "57b5b990-830a-456a-de76-c8e411e7b8f7",
        "colab": {
          "base_uri": "https://localhost:8080/"
        }
      },
      "outputs": [
        {
          "output_type": "stream",
          "name": "stdout",
          "text": [
            "[1. 0. 1. 1. 0. 0. 0. 0. 1. 1.]\n"
          ]
        }
      ],
      "source": [
        "preds = preds_prob.round()\n",
        "print(preds)"
      ]
    },
    {
      "cell_type": "markdown",
      "metadata": {
        "id": "Hacj9Ft1NXQD"
      },
      "source": [
        "Calculemos la medida de la precisión para estos datos de entreamiento."
      ]
    },
    {
      "cell_type": "code",
      "execution_count": 36,
      "metadata": {
        "id": "yALSqK0pNXQD",
        "outputId": "edcdeca4-78eb-4a1c-9699-b8e8ab3a1a85",
        "colab": {
          "base_uri": "https://localhost:8080/"
        }
      },
      "outputs": [
        {
          "output_type": "stream",
          "name": "stdout",
          "text": [
            "Score Numpy: 1.0\n"
          ]
        }
      ],
      "source": [
        "score_numpy = (preds == y).mean()\n",
        "print('Score Numpy: {}'.format(score_numpy))"
      ]
    },
    {
      "cell_type": "markdown",
      "metadata": {
        "id": "Dd8BJYD3NXQD"
      },
      "source": [
        "No es muy informativo ya que hemos entrebado y probado con los mismos datos y los mismos valores objetivos $y$. Veams que sucede con una nueva onservación."
      ]
    },
    {
      "cell_type": "code",
      "execution_count": 37,
      "metadata": {
        "id": "c089pTFTNXQD",
        "colab": {
          "base_uri": "https://localhost:8080/"
        },
        "outputId": "08b81899-e74b-45fc-8378-edbca686143e"
      },
      "outputs": [
        {
          "output_type": "stream",
          "name": "stdout",
          "text": [
            "[ 1.  -0.8  0.8]\n",
            "predicción para la salida de la nueva observación:  1.0\n"
          ]
        }
      ],
      "source": [
        "new_x = np.array([1, -0.8, 0.8])   # nuevo dato (-0.8, 0.8)  le adicionamos 1\n",
        "print(new_x)\n",
        "preds_prob_new_x = calc_h(new_x, theta).round()\n",
        "print(\"predicción para la salida de la nueva observación: \", preds_prob_new_x)"
      ]
    },
    {
      "cell_type": "code",
      "source": [
        "theta"
      ],
      "metadata": {
        "id": "jp9t0eK-djWY",
        "outputId": "6c67469d-f932-4819-f6f4-bccc698c4173",
        "colab": {
          "base_uri": "https://localhost:8080/"
        }
      },
      "execution_count": 38,
      "outputs": [
        {
          "output_type": "execute_result",
          "data": {
            "text/plain": [
              "array([ 0.6671577 , -9.83351445, -2.26794714])"
            ]
          },
          "metadata": {},
          "execution_count": 38
        }
      ]
    },
    {
      "cell_type": "markdown",
      "source": [
        "##Recta de decisión\n",
        "Como hay dos caeacrerísticas en nuestros datos, la ecualción lineal del exponente en la sigmoide se puede representar como,  \n",
        "\n",
        "<div align='center'>\n",
        "<img width=\"200\" height=\"20\"  src=\"data:image/png;base64, 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\"/>  \n",
        "</div>\n",
        "La recta de decisión se ìede encontrar igualando la ecuación anterior a 0, con lo que tenemos,  \n",
        "<div align='center'>\n",
        "<img width=\"100\" height=\"40\"  src=\"data:image/png;base64,UklGRrwFAABXRUJQVlA4WAoAAAAIAAAApgAANQAAVlA4INwEAADwGwCdASqnADYAPm0ylEekIyIhJdQMOIANiWkAFtJ9Oe13++9Dz6RfveI76p/Yfy3/KTUa/4/evOX/z3/Vd53/FehXeK/mv+C4wagB/Hv6j/rP75+Q/xEf7X+N84/5X/hP+x/kPxQ+wf+Qf0j/YfcH37PQ4/WE5EA1knNfoxf8/XDncs0xdYP26Q+wT6X9dLfeRLo7GabY3GufSewzDHm4k0X/DIA7MH4CtUG7vlvEG0t6wbH+N5X0MsaaPR+DeVCRueTFqigdyIisdl/9ImeEqFHPU8asUQI7NK8K22Bibf8695Ag7H8AAP78qBnKcXRyAS2O5Cw6fuZODD0CFtJU17LbTgsSZsbBMQi0clR3kU+i9+Rv//AqRwaAubuMKr+DrqDX9sOel0wM0WlTbm/7oIdHwst6fkAX0YGuicopkDDvELJ/rjr4U1Bs0mAcajz7sOsCbfxjjH9320qqw03MSXsAri8628sjP0J5g5ojYfzheSRN/3/J69zZyrZmrSJpsudfjWhqI2EFYZPG68jwgiGnxensW2aJPSIs8GHoELaRf3dvUtzCaetP1vRwWJM2NgmIRUZ2kj3pkfcsTsv//h9Z75VV8YA6bSq8QnJmv1o8Boxmrm5AA7t7amXBtP2L6J6eOh9KfFahVB7NzWzfSu64JAYTvOTN/vx0l9BvOGgn5hpf/AS3/hQWUXGvOD5qUMeU9W3PsylLUK7kjIKOyIq6vNsdOh9qvjt8lUZk47YUDx9rWbFtC4uypqj00Cc2DbYr9LQbCXqSDg7ffrZ67kv7qmNg89dpK4tqs3Qg6HzQ4jQPoz/ahD8cZH7rH7IiR5CysODdH9FLo3yMCtLrqMq0oL3O1jbi84+hXeHy9LmzX4SvwFmaK+45eHbaZHcEwR67PBvoiDcSMBIXK1Sku/ZOtw9W4E8QFkQpdZCkJ/xprcnbv7EhzxiaYNYNGT2FW/4huBwuJ+xfIQpc2SNkzUqbDlxxK8/4Xcca3P/6aRnMMluf4l3g/ex/rQ+wF/GJyl9WsQchJGmIKBh//z+ePJ4EFe81P3Ra1sfI/kFtD0N/OxR/L6MXi5eQ0l9+6MPjkBTkNw8/qqMoC2Iq/AjbhH3C3f+AD6+U/p3oPfNVwQL1gaDPi0eB+v0/WdRlbggGbSDGfpC0T1wBTluq43v/ctNjwFthj67jkyyS1ofwC2V0PBaXXhVgl9gx/DAm40g19CLDa8RDwf5RFO6ji9pt4lS1OrvLAK1jjPV8tZ1IFgu00vXl5lLuPb5dKsb1BdJWiCHjFNVQ1umoaoEloAsNTVqDf3s5PBcAccrjejw1uZRHzYIYP0Xj65ZrxI/29fA2KNuwydCx6pACGqXnP+2mjBKTjc09e50CRGMo7eY9EBsTB5EfluWmW66PnW2i/48MWVVoye5Wq/Y0AXM5BUqo15EshFLOQ76wV7Jz/yJIkH1cx4uNsYPH9pqUAf2mYI0r0Y+irYazeW0A/9hmQX4QwQs3jTSOayYRP+Y4riaoRp8lw8tGWLhjmxhiX74dcUoW4z4uuE6vPwFVRnXSZ2WoU4Ah9QMVJCF3RBr8MurYGt8ii6RpHxphiuxUmRhs6yXdkvli49OfXfox75rv/8LA3gSCviI6++ruTILfiYoNqKgOL8gJmdt6QAAAAEVYSUa6AAAARXhpZgAASUkqAAgAAAAGABIBAwABAAAAAQAAABoBBQABAAAAVgAAABsBBQABAAAAXgAAACgBAwABAAAAAgAAABMCAwABAAAAAQAAAGmHBAABAAAAZgAAAAAAAABIAAAAAQAAAEgAAAABAAAABgAAkAcABAAAADAyMTABkQcABAAAAAECAwAAoAcABAAAADAxMDABoAMAAQAAAP//AAACoAQAAQAAAKcAAAADoAQAAQAAADYAAAAAAAAA\"/>\n",
        "</div>\n"
      ],
      "metadata": {
        "id": "SMBIVHvoHjyk"
      }
    },
    {
      "cell_type": "code",
      "source": [
        "sbn.scatterplot(x = X[:, 0], y=X[:, 1], hue = y)\n",
        "decision_boundary = -(theta[0] + theta[1]*X[:, 0])/theta[2]\n",
        "plt.plot(X[:, 0], decision_boundary)"
      ],
      "metadata": {
        "colab": {
          "base_uri": "https://localhost:8080/",
          "height": 447
        },
        "id": "Z7MKdCy0PoSP",
        "outputId": "28a38bef-8306-41f7-d08e-fbdbedc5e6f2"
      },
      "execution_count": 39,
      "outputs": [
        {
          "output_type": "execute_result",
          "data": {
            "text/plain": [
              "[<matplotlib.lines.Line2D at 0x79d224814250>]"
            ]
          },
          "metadata": {},
          "execution_count": 39
        },
        {
          "output_type": "display_data",
          "data": {
            "text/plain": [
              "<Figure size 640x480 with 1 Axes>"
            ],
            "image/png": "[encoded data removed]"
          },
          "metadata": {}
        }
      ]
    },
    {
      "cell_type": "markdown",
      "metadata": {
        "id": "e3PzJiv9NXQE"
      },
      "source": [
        "## Sklearn implementation"
      ]
    },
    {
      "cell_type": "markdown",
      "metadata": {
        "id": "ASS56fqqNXQF"
      },
      "source": [
        "Of course, logistic regression is already implemented in Scikit-learn."
      ]
    },
    {
      "cell_type": "code",
      "source": [
        "from sklearn import metrics\n",
        "from sklearn.linear_model import LogisticRegression"
      ],
      "metadata": {
        "id": "cFcf9WWcjcgD"
      },
      "execution_count": 40,
      "outputs": []
    },
    {
      "cell_type": "code",
      "source": [
        "X"
      ],
      "metadata": {
        "id": "1GOrCEu-l87n",
        "colab": {
          "base_uri": "https://localhost:8080/"
        },
        "outputId": "6e2d2773-c937-4246-b7ba-c974801f3774"
      },
      "execution_count": 45,
      "outputs": [
        {
          "output_type": "execute_result",
          "data": {
            "text/plain": [
              "array([[-0.64185521,  0.78535215],\n",
              "       [ 0.10972634,  1.83671408],\n",
              "       [-1.07362634,  2.591487  ],\n",
              "       [-1.38222372,  0.85340843],\n",
              "       [ 1.78689446,  2.3841826 ],\n",
              "       [ 0.94785273,  3.53015683],\n",
              "       [ 1.08876018,  1.35925144],\n",
              "       [ 0.42774158,  3.54015499],\n",
              "       [-0.88398194, -0.57876171],\n",
              "       [-1.59347411,  1.2168913 ]])"
            ]
          },
          "metadata": {},
          "execution_count": 45
        }
      ]
    },
    {
      "cell_type": "code",
      "execution_count": 84,
      "metadata": {
        "id": "kZFIj_jMNXQF",
        "outputId": "419e1dc4-95e5-4192-cf1e-5f929bfab359",
        "colab": {
          "base_uri": "https://localhost:8080/"
        }
      },
      "outputs": [
        {
          "output_type": "stream",
          "name": "stdout",
          "text": [
            "Score Sklearn: 1.0\n",
            "[0.29143698] [[-10.52298612  -2.1069012 ]]\n",
            "Confusion matrix : [[5 0]\n",
            " [0 5]]\n"
          ]
        }
      ],
      "source": [
        "model = LogisticRegression(max_iter=9000, random_state=None,penalty=None,tol=10e-4,verbose=1)\n",
        "model.fit(X, y)\n",
        "preds = model.predict(X)\n",
        "\n",
        "score_sklearn = (preds == y).mean()\n",
        "print('Score Sklearn: {}'.format(score_sklearn))\n",
        "print(model.intercept_, model.coef_)\n",
        "print (\"Confusion matrix :\",metrics.confusion_matrix(y, model.predict(X)))"
      ]
    },
    {
      "cell_type": "code",
      "execution_count": 56,
      "metadata": {
        "id": "yNGDqTeONXQJ",
        "colab": {
          "base_uri": "https://localhost:8080/"
        },
        "outputId": "7fbb1c8d-d8f5-4710-e849-a1548f97a4de"
      },
      "outputs": [
        {
          "output_type": "execute_result",
          "data": {
            "text/plain": [
              "array([1])"
            ]
          },
          "metadata": {},
          "execution_count": 56
        }
      ],
      "source": [
        "new_x = np.array([-0.8, 0.8])\n",
        "new_x = new_x.reshape(1, -1)\n",
        "preds = model.predict(new_x)\n",
        "preds"
      ]
    }
  ],
  "metadata": {
    "kernelspec": {
      "display_name": "Python 3",
      "language": "python",
      "name": "python3"
    },
    "language_info": {
      "codemirror_mode": {
        "name": "ipython",
        "version": 3
      },
      "file_extension": ".py",
      "mimetype": "text/x-python",
      "name": "python",
      "nbconvert_exporter": "python",
      "pygments_lexer": "ipython3",
      "version": "3.6.8"
    },
    "colab": {
      "provenance": [],
      "include_colab_link": true
    }
  },
  "nbformat": 4,
  "nbformat_minor": 0
}