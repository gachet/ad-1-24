{
  "nbformat": 4,
  "nbformat_minor": 0,
  "metadata": {
    "colab": {
      "provenance": [],
      "include_colab_link": true
    },
    "kernelspec": {
      "name": "python3",
      "display_name": "Python 3"
    },
    "language_info": {
      "name": "python"
    }
  },
  "cells": [
    {
      "cell_type": "markdown",
      "metadata": {
        "id": "view-in-github",
        "colab_type": "text"
      },
      "source": [
        "<a href=\"https://colab.research.google.com/github/gachet/ad-1-24/blob/main/pca/para_nuria.ipynb\" target=\"_parent\"><img src=\"https://colab.research.google.com/assets/colab-badge.svg\" alt=\"Open In Colab\"/></a>"
      ]
    },
    {
      "cell_type": "code",
      "source": [],
      "metadata": {
        "id": "tHmfqgcvsZzk"
      },
      "execution_count": null,
      "outputs": []
    },
    {
      "cell_type": "code",
      "execution_count": null,
      "metadata": {
        "id": "86MFRmCLrNeq"
      },
      "outputs": [],
      "source": [
        "import pandas as pd\n",
        "import numpy as np\n",
        "\n",
        "\n",
        "x = [19,39,30,30,15,15,15,30]\n",
        "y= [63,74,87,23,35,43,32,73]\n",
        "originales =np.stack ((x, y), axis=1)\n",
        "mean_col = np.mean(originales, axis=0)\n",
        "data1 = originales - mean_col\n"
      ]
    },
    {
      "cell_type": "markdown",
      "source": [
        "#Ejemplo de las traspas de clase"
      ],
      "metadata": {
        "id": "_LA4ANtJ_xdX"
      }
    },
    {
      "cell_type": "code",
      "source": [
        "originales"
      ],
      "metadata": {
        "colab": {
          "base_uri": "https://localhost:8080/"
        },
        "id": "bRBQlBaY_h9a",
        "outputId": "b5865fc1-9f49-4148-b233-9ca9393b339e"
      },
      "execution_count": null,
      "outputs": [
        {
          "output_type": "execute_result",
          "data": {
            "text/plain": [
              "array([[19, 63],\n",
              "       [39, 74],\n",
              "       [30, 87],\n",
              "       [30, 23],\n",
              "       [15, 35],\n",
              "       [15, 43],\n",
              "       [15, 32],\n",
              "       [30, 73]])"
            ]
          },
          "metadata": {},
          "execution_count": 4
        }
      ]
    },
    {
      "cell_type": "markdown",
      "source": [
        "#Datos normalizados con la medoa"
      ],
      "metadata": {
        "id": "jlDFZynl_9ej"
      }
    },
    {
      "cell_type": "code",
      "source": [
        "data1"
      ],
      "metadata": {
        "colab": {
          "base_uri": "https://localhost:8080/"
        },
        "id": "ypIMMdTjsdls",
        "outputId": "fb44f56d-6866-4449-b818-eaac9116414e"
      },
      "execution_count": null,
      "outputs": [
        {
          "output_type": "execute_result",
          "data": {
            "text/plain": [
              "array([[ -5.125,   9.25 ],\n",
              "       [ 14.875,  20.25 ],\n",
              "       [  5.875,  33.25 ],\n",
              "       [  5.875, -30.75 ],\n",
              "       [ -9.125, -18.75 ],\n",
              "       [ -9.125, -10.75 ],\n",
              "       [ -9.125, -21.75 ],\n",
              "       [  5.875,  19.25 ]])"
            ]
          },
          "metadata": {},
          "execution_count": 108
        }
      ]
    },
    {
      "cell_type": "markdown",
      "source": [
        "#Covarianza"
      ],
      "metadata": {
        "id": "lttMuw2BAIIO"
      }
    },
    {
      "cell_type": "code",
      "source": [
        "A=np.cov(data1.T)\n",
        "A"
      ],
      "metadata": {
        "colab": {
          "base_uri": "https://localhost:8080/"
        },
        "id": "20KTE3z7rnkA",
        "outputId": "60509215-2e42-441f-875f-962179c3d643"
      },
      "execution_count": null,
      "outputs": [
        {
          "output_type": "execute_result",
          "data": {
            "text/plain": [
              "array([[ 85.83928571, 121.32142857],\n",
              "       [121.32142857, 551.07142857]])"
            ]
          },
          "metadata": {},
          "execution_count": 5
        }
      ]
    },
    {
      "cell_type": "markdown",
      "source": [
        "#Autovalores y autovectores"
      ],
      "metadata": {
        "id": "FQmXQaxJARmG"
      }
    },
    {
      "cell_type": "code",
      "source": [
        "autovalor, autovector = np.linalg.eig(A )\n",
        "autovalor"
      ],
      "metadata": {
        "colab": {
          "base_uri": "https://localhost:8080/"
        },
        "id": "tJaMQhUgrt3D",
        "outputId": "5f11cb9e-f718-4800-b6a2-e6485ae78d1e"
      },
      "execution_count": null,
      "outputs": [
        {
          "output_type": "execute_result",
          "data": {
            "text/plain": [
              "array([ 56.10230167, 580.80841262])"
            ]
          },
          "metadata": {},
          "execution_count": 6
        }
      ]
    },
    {
      "cell_type": "code",
      "source": [
        "autovector"
      ],
      "metadata": {
        "colab": {
          "base_uri": "https://localhost:8080/"
        },
        "id": "OWeBzaCDzKIQ",
        "outputId": "46026c27-b28f-456c-88a3-7b83f46c8310"
      },
      "execution_count": null,
      "outputs": [
        {
          "output_type": "execute_result",
          "data": {
            "text/plain": [
              "array([[-0.97124992, -0.23806218],\n",
              "       [ 0.23806218, -0.97124992]])"
            ]
          },
          "metadata": {},
          "execution_count": 8
        }
      ]
    },
    {
      "cell_type": "markdown",
      "source": [
        "#Tomamos el autovector 2 , el que se relaciona con el autovalor mas grande, sería la CP1"
      ],
      "metadata": {
        "id": "uXIfzMbNAk5F"
      }
    },
    {
      "cell_type": "code",
      "source": [
        "autovector1=autovector[1,0:2]\n",
        "autovector1.reshape(2,-1)"
      ],
      "metadata": {
        "colab": {
          "base_uri": "https://localhost:8080/"
        },
        "id": "Ku1TRSvRzXHF",
        "outputId": "e7e08c0c-e742-4735-d49d-00987669b083"
      },
      "execution_count": null,
      "outputs": [
        {
          "output_type": "execute_result",
          "data": {
            "text/plain": [
              "array([[ 0.23806218],\n",
              "       [-0.97124992]])"
            ]
          },
          "metadata": {},
          "execution_count": 21
        }
      ]
    },
    {
      "cell_type": "code",
      "source": [
        "data_reduced = np.dot(data1, autovector1.T)\n",
        "data_reduced"
      ],
      "metadata": {
        "colab": {
          "base_uri": "https://localhost:8080/"
        },
        "id": "P115RHqRzuWI",
        "outputId": "06930c03-27d3-45f9-90ee-20fd4b844c77"
      },
      "execution_count": null,
      "outputs": [
        {
          "output_type": "execute_result",
          "data": {
            "text/plain": [
              "array([-10.20413038, -16.12663594, -30.89544444,  31.26455022,\n",
              "        16.03861858,   8.26861925,  18.95236833, -17.29794561])"
            ]
          },
          "metadata": {},
          "execution_count": 25
        }
      ]
    },
    {
      "cell_type": "code",
      "source": [
        "data_reduced.shape"
      ],
      "metadata": {
        "colab": {
          "base_uri": "https://localhost:8080/"
        },
        "id": "I3OUskwyA_er",
        "outputId": "3d63d5e4-4087-4039-c6d9-f8c64db6236c"
      },
      "execution_count": null,
      "outputs": [
        {
          "output_type": "execute_result",
          "data": {
            "text/plain": [
              "(8,)"
            ]
          },
          "metadata": {},
          "execution_count": 13
        }
      ]
    },
    {
      "cell_type": "code",
      "source": [
        "data_reduced= data_reduced.reshape(,8)"
      ],
      "metadata": {
        "id": "tZzmUgSBBcU6"
      },
      "execution_count": null,
      "outputs": []
    },
    {
      "cell_type": "code",
      "source": [
        "data_reduced.shape"
      ],
      "metadata": {
        "colab": {
          "base_uri": "https://localhost:8080/"
        },
        "id": "q2UClgKpBrEK",
        "outputId": "838bd0da-b2ac-4c80-ca38-522500ce0e5f"
      },
      "execution_count": null,
      "outputs": [
        {
          "output_type": "execute_result",
          "data": {
            "text/plain": [
              "(1, 8)"
            ]
          },
          "metadata": {},
          "execution_count": 16
        }
      ]
    },
    {
      "cell_type": "code",
      "source": [
        "data_reduced"
      ],
      "metadata": {
        "colab": {
          "base_uri": "https://localhost:8080/"
        },
        "id": "HKUd7WqoK_r3",
        "outputId": "0b76b7ca-d478-4065-adbc-ee5f6cd0e0b9"
      },
      "execution_count": null,
      "outputs": [
        {
          "output_type": "execute_result",
          "data": {
            "text/plain": [
              "array([[-10.20413038, -16.12663594, -30.89544444,  31.26455022,\n",
              "         16.03861858,   8.26861925,  18.95236833, -17.29794561]])"
            ]
          },
          "metadata": {},
          "execution_count": 17
        }
      ]
    },
    {
      "cell_type": "code",
      "source": [
        "autovector1 = autovector1.reshape(1, -1)"
      ],
      "metadata": {
        "id": "gVVxdl6iJ7fY"
      },
      "execution_count": null,
      "outputs": []
    },
    {
      "cell_type": "code",
      "source": [
        "autovector1"
      ],
      "metadata": {
        "colab": {
          "base_uri": "https://localhost:8080/"
        },
        "id": "Axb7ufPWSuGc",
        "outputId": "6cc6541f-706b-45aa-ade1-1c55ad622955"
      },
      "execution_count": null,
      "outputs": [
        {
          "output_type": "execute_result",
          "data": {
            "text/plain": [
              "array([[ 0.23806218, -0.97124992]])"
            ]
          },
          "metadata": {},
          "execution_count": 120
        }
      ]
    },
    {
      "cell_type": "code",
      "source": [
        "autovector1.shape"
      ],
      "metadata": {
        "colab": {
          "base_uri": "https://localhost:8080/"
        },
        "id": "6zeoVlvgSVaU",
        "outputId": "ccb3034f-dcef-45c4-8da2-32051b583789"
      },
      "execution_count": null,
      "outputs": [
        {
          "output_type": "execute_result",
          "data": {
            "text/plain": [
              "(2,)"
            ]
          },
          "metadata": {},
          "execution_count": 19
        }
      ]
    },
    {
      "cell_type": "code",
      "source": [
        "data_original = np.dot(autovector1,data_reduced) +mean_col\n",
        "data_original"
      ],
      "metadata": {
        "colab": {
          "base_uri": "https://localhost:8080/",
          "height": 158
        },
        "id": "Gbb8zVFDAUDj",
        "outputId": "a2df8a60-d5e5-4781-caa0-3421053b8fc2"
      },
      "execution_count": null,
      "outputs": [
        {
          "output_type": "error",
          "ename": "ValueError",
          "evalue": "shapes (2,) and (1,8) not aligned: 2 (dim 0) != 1 (dim 0)",
          "traceback": [
            "\u001b[0;31m---------------------------------------------------------------------------\u001b[0m",
            "\u001b[0;31mValueError\u001b[0m                                Traceback (most recent call last)",
            "\u001b[0;32m<ipython-input-20-19f917d9e7c0>\u001b[0m in \u001b[0;36m<cell line: 1>\u001b[0;34m()\u001b[0m\n\u001b[0;32m----> 1\u001b[0;31m \u001b[0mdata_original\u001b[0m \u001b[0;34m=\u001b[0m \u001b[0mnp\u001b[0m\u001b[0;34m.\u001b[0m\u001b[0mdot\u001b[0m\u001b[0;34m(\u001b[0m\u001b[0mautovector1\u001b[0m\u001b[0;34m,\u001b[0m\u001b[0mdata_reduced\u001b[0m\u001b[0;34m)\u001b[0m \u001b[0;34m+\u001b[0m\u001b[0mmean_col\u001b[0m\u001b[0;34m\u001b[0m\u001b[0;34m\u001b[0m\u001b[0m\n\u001b[0m\u001b[1;32m      2\u001b[0m \u001b[0mdata_original\u001b[0m\u001b[0;34m\u001b[0m\u001b[0;34m\u001b[0m\u001b[0m\n",
            "\u001b[0;31mValueError\u001b[0m: shapes (2,) and (1,8) not aligned: 2 (dim 0) != 1 (dim 0)"
          ]
        }
      ]
    },
    {
      "cell_type": "code",
      "source": [
        "originales"
      ],
      "metadata": {
        "colab": {
          "base_uri": "https://localhost:8080/"
        },
        "id": "3TM-R6u-UWyx",
        "outputId": "16384895-40db-4f8d-f620-1690b35d3c70"
      },
      "execution_count": null,
      "outputs": [
        {
          "output_type": "execute_result",
          "data": {
            "text/plain": [
              "array([[19, 63],\n",
              "       [39, 74],\n",
              "       [30, 87],\n",
              "       [30, 23],\n",
              "       [15, 35],\n",
              "       [15, 43],\n",
              "       [15, 32],\n",
              "       [30, 73]])"
            ]
          },
          "metadata": {},
          "execution_count": 123
        }
      ]
    },
    {
      "cell_type": "code",
      "source": [
        "data_reduced2 = np.dot(data1, autovector.T)\n",
        "data_reduced2"
      ],
      "metadata": {
        "colab": {
          "base_uri": "https://localhost:8080/"
        },
        "id": "PwmfXJ-KUx_N",
        "outputId": "219d02c0-4111-4c21-9f36-ca558a87b614"
      },
      "execution_count": null,
      "outputs": [
        {
          "output_type": "execute_result",
          "data": {
            "text/plain": [
              "array([[  2.77558069, -10.20413038],\n",
              "       [-19.26810157, -16.12663594],\n",
              "       [-13.62166061, -30.89544444],\n",
              "       [  1.61431865,  31.26455022],\n",
              "       [ 13.32632129,  16.03861858],\n",
              "       [ 11.42182388,   8.26861925],\n",
              "       [ 14.04050782,  18.95236833],\n",
              "       [-10.28879015, -17.29794561]])"
            ]
          },
          "metadata": {},
          "execution_count": 128
        }
      ]
    },
    {
      "cell_type": "code",
      "source": [
        "data_original2 = np.dot(data_reduced2, autovector) +mean_col\n",
        "data_original2"
      ],
      "metadata": {
        "colab": {
          "base_uri": "https://localhost:8080/"
        },
        "id": "FnMVH2VGT2Eg",
        "outputId": "d75b252d-9a8e-497e-850e-cd2b2236ec15"
      },
      "execution_count": null,
      "outputs": [
        {
          "output_type": "execute_result",
          "data": {
            "text/plain": [
              "array([[19., 63.],\n",
              "       [39., 74.],\n",
              "       [30., 87.],\n",
              "       [30., 23.],\n",
              "       [15., 35.],\n",
              "       [15., 43.],\n",
              "       [15., 32.],\n",
              "       [30., 73.]])"
            ]
          },
          "metadata": {},
          "execution_count": 129
        }
      ]
    },
    {
      "cell_type": "code",
      "source": [],
      "metadata": {
        "id": "d3TnUdtUU7_s"
      },
      "execution_count": null,
      "outputs": []
    }
  ]
}