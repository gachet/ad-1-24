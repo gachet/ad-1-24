{
  "nbformat": 4,
  "nbformat_minor": 0,
  "metadata": {
    "colab": {
      "provenance": [],
      "authorship_tag": "ABX9TyOE1f9dDOfvYVqxnFzMhOIj",
      "include_colab_link": true
    },
    "kernelspec": {
      "name": "python3",
      "display_name": "Python 3"
    },
    "language_info": {
      "name": "python"
    }
  },
  "cells": [
    {
      "cell_type": "markdown",
      "metadata": {
        "id": "view-in-github",
        "colab_type": "text"
      },
      "source": [
        "<a href=\"https://colab.research.google.com/github/gachet/ad-1-24/blob/main/pca/para_nuria.ipynb\" target=\"_parent\"><img src=\"https://colab.research.google.com/assets/colab-badge.svg\" alt=\"Open In Colab\"/></a>"
      ]
    },
    {
      "cell_type": "code",
      "source": [],
      "metadata": {
        "id": "tHmfqgcvsZzk"
      },
      "execution_count": null,
      "outputs": []
    },
    {
      "cell_type": "code",
      "execution_count": 107,
      "metadata": {
        "id": "86MFRmCLrNeq"
      },
      "outputs": [],
      "source": [
        "import pandas as pd\n",
        "import numpy as np\n",
        "from sklearn import datasets\n",
        "from sklearn.decomposition import PCA\n",
        "import seaborn as sns; sns.set()\n",
        "\n",
        "x = [19,39,30,30,15,15,15,30]\n",
        "y= [63,74,87,23,35,43,32,73]\n",
        "originales =np.stack ((x, y), axis=1)\n",
        "mean_col = np.mean(originales, axis=0)\n",
        "data1 = originales - mean_col\n"
      ]
    },
    {
      "cell_type": "code",
      "source": [
        "data1"
      ],
      "metadata": {
        "colab": {
          "base_uri": "https://localhost:8080/"
        },
        "id": "ypIMMdTjsdls",
        "outputId": "fb44f56d-6866-4449-b818-eaac9116414e"
      },
      "execution_count": 108,
      "outputs": [
        {
          "output_type": "execute_result",
          "data": {
            "text/plain": [
              "array([[ -5.125,   9.25 ],\n",
              "       [ 14.875,  20.25 ],\n",
              "       [  5.875,  33.25 ],\n",
              "       [  5.875, -30.75 ],\n",
              "       [ -9.125, -18.75 ],\n",
              "       [ -9.125, -10.75 ],\n",
              "       [ -9.125, -21.75 ],\n",
              "       [  5.875,  19.25 ]])"
            ]
          },
          "metadata": {},
          "execution_count": 108
        }
      ]
    },
    {
      "cell_type": "code",
      "source": [
        "A=np.cov(data1.T)\n",
        "A"
      ],
      "metadata": {
        "colab": {
          "base_uri": "https://localhost:8080/"
        },
        "id": "20KTE3z7rnkA",
        "outputId": "8c80775b-85ef-452a-da7d-223fbc325d9a"
      },
      "execution_count": 109,
      "outputs": [
        {
          "output_type": "execute_result",
          "data": {
            "text/plain": [
              "array([[ 85.83928571, 121.32142857],\n",
              "       [121.32142857, 551.07142857]])"
            ]
          },
          "metadata": {},
          "execution_count": 109
        }
      ]
    },
    {
      "cell_type": "code",
      "source": [
        "autovalor, autovector = np.linalg.eig(A )\n",
        "autovalor"
      ],
      "metadata": {
        "colab": {
          "base_uri": "https://localhost:8080/"
        },
        "id": "tJaMQhUgrt3D",
        "outputId": "ea3803ab-8959-421e-f688-e1a6d68649e6"
      },
      "execution_count": 110,
      "outputs": [
        {
          "output_type": "execute_result",
          "data": {
            "text/plain": [
              "array([ 56.10230167, 580.80841262])"
            ]
          },
          "metadata": {},
          "execution_count": 110
        }
      ]
    },
    {
      "cell_type": "code",
      "source": [
        "autovector"
      ],
      "metadata": {
        "colab": {
          "base_uri": "https://localhost:8080/"
        },
        "id": "OWeBzaCDzKIQ",
        "outputId": "156d589a-7b5c-4c0e-de36-2785266c3e0b"
      },
      "execution_count": 111,
      "outputs": [
        {
          "output_type": "execute_result",
          "data": {
            "text/plain": [
              "array([[-0.97124992, -0.23806218],\n",
              "       [ 0.23806218, -0.97124992]])"
            ]
          },
          "metadata": {},
          "execution_count": 111
        }
      ]
    },
    {
      "cell_type": "code",
      "source": [
        "autovector1=autovector[1,0:2]\n",
        "autovector1.reshape(1,-1)"
      ],
      "metadata": {
        "colab": {
          "base_uri": "https://localhost:8080/"
        },
        "id": "Ku1TRSvRzXHF",
        "outputId": "d3c0b9c6-2411-4778-c148-2797e36cf4ad"
      },
      "execution_count": 112,
      "outputs": [
        {
          "output_type": "execute_result",
          "data": {
            "text/plain": [
              "array([[ 0.23806218, -0.97124992]])"
            ]
          },
          "metadata": {},
          "execution_count": 112
        }
      ]
    },
    {
      "cell_type": "code",
      "source": [
        "autovector1.shape"
      ],
      "metadata": {
        "colab": {
          "base_uri": "https://localhost:8080/"
        },
        "id": "L_SH-e2NQH81",
        "outputId": "7363316a-a7f6-4127-969b-f7eb9b032ea4"
      },
      "execution_count": 113,
      "outputs": [
        {
          "output_type": "execute_result",
          "data": {
            "text/plain": [
              "(2,)"
            ]
          },
          "metadata": {},
          "execution_count": 113
        }
      ]
    },
    {
      "cell_type": "code",
      "source": [
        "data_reduced = np.dot(data1, autovector[1].T)\n",
        "data_reduced"
      ],
      "metadata": {
        "colab": {
          "base_uri": "https://localhost:8080/"
        },
        "id": "P115RHqRzuWI",
        "outputId": "3fa036b6-0a74-4726-fc09-5b04f1615683"
      },
      "execution_count": 114,
      "outputs": [
        {
          "output_type": "execute_result",
          "data": {
            "text/plain": [
              "array([-10.20413038, -16.12663594, -30.89544444,  31.26455022,\n",
              "        16.03861858,   8.26861925,  18.95236833, -17.29794561])"
            ]
          },
          "metadata": {},
          "execution_count": 114
        }
      ]
    },
    {
      "cell_type": "code",
      "source": [
        "data_reduced.shape"
      ],
      "metadata": {
        "colab": {
          "base_uri": "https://localhost:8080/"
        },
        "id": "I3OUskwyA_er",
        "outputId": "002d0ecb-5f2c-465a-f30c-b0ec39f622cb"
      },
      "execution_count": 115,
      "outputs": [
        {
          "output_type": "execute_result",
          "data": {
            "text/plain": [
              "(8,)"
            ]
          },
          "metadata": {},
          "execution_count": 115
        }
      ]
    },
    {
      "cell_type": "code",
      "source": [
        "data_reduced= data_reduced.reshape(8,-1)"
      ],
      "metadata": {
        "id": "tZzmUgSBBcU6"
      },
      "execution_count": 116,
      "outputs": []
    },
    {
      "cell_type": "code",
      "source": [
        "data_reduced.shape"
      ],
      "metadata": {
        "colab": {
          "base_uri": "https://localhost:8080/"
        },
        "id": "q2UClgKpBrEK",
        "outputId": "ac515e5f-e192-446f-9139-ae1d9e121930"
      },
      "execution_count": 117,
      "outputs": [
        {
          "output_type": "execute_result",
          "data": {
            "text/plain": [
              "(8, 1)"
            ]
          },
          "metadata": {},
          "execution_count": 117
        }
      ]
    },
    {
      "cell_type": "code",
      "source": [
        "data_reduced"
      ],
      "metadata": {
        "colab": {
          "base_uri": "https://localhost:8080/"
        },
        "id": "HKUd7WqoK_r3",
        "outputId": "d638290e-880c-4f1d-d4df-efada3109926"
      },
      "execution_count": 118,
      "outputs": [
        {
          "output_type": "execute_result",
          "data": {
            "text/plain": [
              "array([[-10.20413038],\n",
              "       [-16.12663594],\n",
              "       [-30.89544444],\n",
              "       [ 31.26455022],\n",
              "       [ 16.03861858],\n",
              "       [  8.26861925],\n",
              "       [ 18.95236833],\n",
              "       [-17.29794561]])"
            ]
          },
          "metadata": {},
          "execution_count": 118
        }
      ]
    },
    {
      "cell_type": "code",
      "source": [
        "autovector1 = autovector1.reshape(1, -1)"
      ],
      "metadata": {
        "id": "gVVxdl6iJ7fY"
      },
      "execution_count": 119,
      "outputs": []
    },
    {
      "cell_type": "code",
      "source": [
        "autovector1"
      ],
      "metadata": {
        "colab": {
          "base_uri": "https://localhost:8080/"
        },
        "id": "Axb7ufPWSuGc",
        "outputId": "6cc6541f-706b-45aa-ade1-1c55ad622955"
      },
      "execution_count": 120,
      "outputs": [
        {
          "output_type": "execute_result",
          "data": {
            "text/plain": [
              "array([[ 0.23806218, -0.97124992]])"
            ]
          },
          "metadata": {},
          "execution_count": 120
        }
      ]
    },
    {
      "cell_type": "code",
      "source": [
        "autovector1.shape"
      ],
      "metadata": {
        "colab": {
          "base_uri": "https://localhost:8080/"
        },
        "id": "6zeoVlvgSVaU",
        "outputId": "142eba90-03e7-4e4d-8a39-2bab44d18371"
      },
      "execution_count": 121,
      "outputs": [
        {
          "output_type": "execute_result",
          "data": {
            "text/plain": [
              "(1, 2)"
            ]
          },
          "metadata": {},
          "execution_count": 121
        }
      ]
    },
    {
      "cell_type": "code",
      "source": [
        "data_original = np.dot(data_reduced, autovector1) +mean_col\n",
        "data_original"
      ],
      "metadata": {
        "colab": {
          "base_uri": "https://localhost:8080/"
        },
        "id": "Gbb8zVFDAUDj",
        "outputId": "c8ae6d3c-fb3b-4f74-ffa6-6bfd15f63d99"
      },
      "execution_count": 122,
      "outputs": [
        {
          "output_type": "execute_result",
          "data": {
            "text/plain": [
              "array([[21.69578252, 63.66076078],\n",
              "       [20.28585796, 69.41299381],\n",
              "       [16.76996327, 83.75719784],\n",
              "       [31.56790685, 23.38430821],\n",
              "       [27.94318844, 38.17249304],\n",
              "       [26.09344549, 45.71910425],\n",
              "       [28.63684204, 35.34251384],\n",
              "       [20.00701343, 70.55062823]])"
            ]
          },
          "metadata": {},
          "execution_count": 122
        }
      ]
    },
    {
      "cell_type": "code",
      "source": [
        "originales"
      ],
      "metadata": {
        "colab": {
          "base_uri": "https://localhost:8080/"
        },
        "id": "3TM-R6u-UWyx",
        "outputId": "16384895-40db-4f8d-f620-1690b35d3c70"
      },
      "execution_count": 123,
      "outputs": [
        {
          "output_type": "execute_result",
          "data": {
            "text/plain": [
              "array([[19, 63],\n",
              "       [39, 74],\n",
              "       [30, 87],\n",
              "       [30, 23],\n",
              "       [15, 35],\n",
              "       [15, 43],\n",
              "       [15, 32],\n",
              "       [30, 73]])"
            ]
          },
          "metadata": {},
          "execution_count": 123
        }
      ]
    },
    {
      "cell_type": "code",
      "source": [
        "data_reduced2 = np.dot(data1, autovector.T)\n",
        "data_reduced2"
      ],
      "metadata": {
        "colab": {
          "base_uri": "https://localhost:8080/"
        },
        "id": "PwmfXJ-KUx_N",
        "outputId": "219d02c0-4111-4c21-9f36-ca558a87b614"
      },
      "execution_count": 128,
      "outputs": [
        {
          "output_type": "execute_result",
          "data": {
            "text/plain": [
              "array([[  2.77558069, -10.20413038],\n",
              "       [-19.26810157, -16.12663594],\n",
              "       [-13.62166061, -30.89544444],\n",
              "       [  1.61431865,  31.26455022],\n",
              "       [ 13.32632129,  16.03861858],\n",
              "       [ 11.42182388,   8.26861925],\n",
              "       [ 14.04050782,  18.95236833],\n",
              "       [-10.28879015, -17.29794561]])"
            ]
          },
          "metadata": {},
          "execution_count": 128
        }
      ]
    },
    {
      "cell_type": "code",
      "source": [
        "data_original2 = np.dot(data_reduced2, autovector) +mean_col\n",
        "data_original2"
      ],
      "metadata": {
        "colab": {
          "base_uri": "https://localhost:8080/"
        },
        "id": "FnMVH2VGT2Eg",
        "outputId": "d75b252d-9a8e-497e-850e-cd2b2236ec15"
      },
      "execution_count": 129,
      "outputs": [
        {
          "output_type": "execute_result",
          "data": {
            "text/plain": [
              "array([[19., 63.],\n",
              "       [39., 74.],\n",
              "       [30., 87.],\n",
              "       [30., 23.],\n",
              "       [15., 35.],\n",
              "       [15., 43.],\n",
              "       [15., 32.],\n",
              "       [30., 73.]])"
            ]
          },
          "metadata": {},
          "execution_count": 129
        }
      ]
    },
    {
      "cell_type": "code",
      "source": [],
      "metadata": {
        "id": "d3TnUdtUU7_s"
      },
      "execution_count": null,
      "outputs": []
    }
  ]
}