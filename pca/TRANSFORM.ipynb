{
  "nbformat": 4,
  "nbformat_minor": 0,
  "metadata": {
    "colab": {
      "provenance": [],
      "authorship_tag": "ABX9TyNLP2AbwDf5MMS0zUFuTuZ5",
      "include_colab_link": true
    },
    "kernelspec": {
      "name": "python3",
      "display_name": "Python 3"
    },
    "language_info": {
      "name": "python"
    }
  },
  "cells": [
    {
      "cell_type": "markdown",
      "metadata": {
        "id": "view-in-github",
        "colab_type": "text"
      },
      "source": [
        "<a href=\"https://colab.research.google.com/github/gachet/ad-1-24/blob/main/pca/TRANSFORM.ipynb\" target=\"_parent\"><img src=\"https://colab.research.google.com/assets/colab-badge.svg\" alt=\"Open In Colab\"/></a>"
      ]
    },
    {
      "cell_type": "code",
      "execution_count": null,
      "metadata": {
        "id": "RqQ-x6Em709a"
      },
      "outputs": [],
      "source": []
    },
    {
      "cell_type": "code",
      "source": [
        "import numpy as np\n",
        "#Original dataset X\n",
        "X=np.array([[11,2,25],[12,20, 31],[5,6,7],[200,10,22]])\n",
        "\n",
        "#Get covariance matrix from X, if using numpy.cov,\n",
        "#make sure set parameter rowvar to False\n",
        "\n",
        "covX=np.cov(X, rowvar=False)\n",
        "\n",
        "#Get eigenvalues and eigenvectors from covX\n",
        "eigenvals, eigenvecs = np.linalg.eig(covX)\n",
        "\n",
        "#pair the eigenvalue and corresponding eigenvector\n",
        "pair = [(i[0], i[1]) for i in zip(eigenvals, eigenvecs)]\n",
        "#Sort the eigenvectors by its eigenvalues in descending order\n",
        "sortedPair=[[i[0], i[1]] for i in sorted(pair, key=lambda x: abs(x[0]), reverse=True)]\n",
        "\n",
        "#Get sorted eigenvectors, keep the sort order.\n",
        "W=np.array([i[1] for i in sortedPair])\n",
        "\n",
        "def findTopPrincipalComponentNumber(eigenvals:list,threshold:int=0.80) -> (int, float):\n",
        "        ''' findTopPrincipalComponentNumber will return k number that will meet the threshold'''\n",
        "        total = sum(eigenvals)\n",
        "        #Sort the Eigenvalues in descending order,\n",
        "        #calculate each eiganvalue that contains percentage of information in raw dataset\n",
        "        eachPercentList = [(i / total) for i in sorted(eigenvals, reverse=True)]\n",
        "        cumulativePercept=0\n",
        "        cumulativePerceptList=[]\n",
        "        for i in eachPercentList:\n",
        "            cumulativePercept+=i\n",
        "            cumulativePerceptList.append(cumulativePercept)\n",
        "            if cumulativePercept >= threshold:\n",
        "                break\n",
        "        return (len(cumulativePerceptList), float(cumulativePerceptList[-1]))\n",
        "#get the k to have 95% of the original information from raw dataset\n",
        "bestK, coveredPercentage = findTopPrincipalComponentNumber(eigenvals, 0.95)\n",
        "\n",
        "#pca projected dataset is X times W\n",
        "Z=np.matmul(X, W)\n",
        "\n",
        "#Get bestK columns from Z, to created dimension reduced dataset pcaZ\n",
        "#that has 98% of the information from original X\n",
        "pcaZ=[]\n",
        "for i in Z.tolist():\n",
        "    subZ=[]\n",
        "    for j in range(bestK):\n",
        "        subZ.append(i[j])\n",
        "    pcaZ.append(subZ)\n",
        "\n",
        "#To reconstruct, can not use pcaZ, need to use Z\n",
        "#Since Z = X times W, then X = Z times inversed(W)\n",
        "restoredX = np.matmul(Z, np.linalg.inv(W))\n",
        "\n",
        "#Restored original dataset, that should match original raw dataset X\n",
        "restoredX\n",
        "\n",
        "'''\n",
        "array([[ 11.,   2.,  25.],\n",
        "       [ 12.,  20.,  31.],\n",
        "       [  5.,   6.,   7.],\n",
        "       [200.,  10.,  22.]])\n",
        "'''\n",
        "\n",
        "#Original raw dataset\n",
        "X\n",
        "\n",
        "'''\n",
        "array([[ 11,   2,  25],\n",
        "       [ 12,  20,  31],\n",
        "       [  5,   6,   7],\n",
        "       [200,  10,  22]])\n",
        "'''"
      ],
      "metadata": {
        "colab": {
          "base_uri": "https://localhost:8080/",
          "height": 35
        },
        "id": "jKjpnFUZ78on",
        "outputId": "104d2517-c67d-4248-88ba-b9271cbbac24"
      },
      "execution_count": 1,
      "outputs": [
        {
          "output_type": "execute_result",
          "data": {
            "text/plain": [
              "'\\narray([[ 11,   2,  25],\\n       [ 12,  20,  31],\\n       [  5,   6,   7],\\n       [200,  10,  22]])\\n'"
            ],
            "application/vnd.google.colaboratory.intrinsic+json": {
              "type": "string"
            }
          },
          "metadata": {},
          "execution_count": 1
        }
      ]
    }
  ]
}