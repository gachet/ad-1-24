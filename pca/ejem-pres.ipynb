{
  "nbformat": 4,
  "nbformat_minor": 0,
  "metadata": {
    "colab": {
      "provenance": [],
      "authorship_tag": "ABX9TyOSXeB7yUZONUd+C4TF3L96",
      "include_colab_link": true
    },
    "kernelspec": {
      "name": "python3",
      "display_name": "Python 3"
    },
    "language_info": {
      "name": "python"
    }
  },
  "cells": [
    {
      "cell_type": "markdown",
      "metadata": {
        "id": "view-in-github",
        "colab_type": "text"
      },
      "source": [
        "<a href=\"https://colab.research.google.com/github/gachet/ad-1-24/blob/main/pca/ejem-pres.ipynb\" target=\"_parent\"><img src=\"https://colab.research.google.com/assets/colab-badge.svg\" alt=\"Open In Colab\"/></a>"
      ]
    },
    {
      "cell_type": "code",
      "execution_count": null,
      "metadata": {
        "id": "wg8G_5xsVToz"
      },
      "outputs": [],
      "source": [
        "import numpy as np # importando numpy\n",
        "from scipy import stats # importando scipy.stats\n",
        "import pandas as pd # importando pandas\n",
        "\n"
      ]
    },
    {
      "cell_type": "code",
      "source": [
        "x = [19,39,30,30,15,15,15,30]\n",
        "y= [63,74,87,23,35,43,32,73]\n",
        "x = x- np.mean(x)\n",
        "y = y-np.mean(y)\n",
        "datos = np.stack((x, y), axis=0)\n",
        "datos"
      ],
      "metadata": {
        "colab": {
          "base_uri": "https://localhost:8080/"
        },
        "id": "5gFMu9hKVUbl",
        "outputId": "0b3d8394-3302-457f-d58c-09e61419d721"
      },
      "execution_count": 28,
      "outputs": [
        {
          "output_type": "execute_result",
          "data": {
            "text/plain": [
              "array([[ -5.125,  14.875,   5.875,   5.875,  -9.125,  -9.125,  -9.125,\n",
              "          5.875],\n",
              "       [  9.25 ,  20.25 ,  33.25 , -30.75 , -18.75 , -10.75 , -21.75 ,\n",
              "         19.25 ]])"
            ]
          },
          "metadata": {},
          "execution_count": 28
        }
      ]
    },
    {
      "cell_type": "code",
      "source": [
        "A=np.cov(datos)\n",
        "A"
      ],
      "metadata": {
        "id": "Oe4s43SxVUmD",
        "colab": {
          "base_uri": "https://localhost:8080/"
        },
        "outputId": "6852b3d4-08be-428a-b5ac-6d27e0cc72e5"
      },
      "execution_count": 29,
      "outputs": [
        {
          "output_type": "execute_result",
          "data": {
            "text/plain": [
              "array([[ 85.83928571, 121.32142857],\n",
              "       [121.32142857, 551.07142857]])"
            ]
          },
          "metadata": {},
          "execution_count": 29
        }
      ]
    },
    {
      "cell_type": "code",
      "source": [
        "autovalor, autovector = np.linalg.eig(A )\n",
        "autovalor"
      ],
      "metadata": {
        "id": "FjZ3hnkZp53L",
        "outputId": "77a3b27c-cbb2-4827-c59c-2facdcda9f13",
        "colab": {
          "base_uri": "https://localhost:8080/"
        }
      },
      "execution_count": 30,
      "outputs": [
        {
          "output_type": "execute_result",
          "data": {
            "text/plain": [
              "array([ 56.10230167, 580.80841262])"
            ]
          },
          "metadata": {},
          "execution_count": 30
        }
      ]
    },
    {
      "cell_type": "code",
      "source": [
        "autovector"
      ],
      "metadata": {
        "id": "KyNtfVrPqLn6",
        "outputId": "047b01f2-afe6-49ad-c897-b50f586db687",
        "colab": {
          "base_uri": "https://localhost:8080/"
        }
      },
      "execution_count": 33,
      "outputs": [
        {
          "output_type": "execute_result",
          "data": {
            "text/plain": [
              "array([[-0.97124992, -0.23806218],\n",
              "       [ 0.23806218, -0.97124992]])"
            ]
          },
          "metadata": {},
          "execution_count": 33
        }
      ]
    },
    {
      "cell_type": "code",
      "source": [
        "autovector[1]"
      ],
      "metadata": {
        "id": "7fFXMrIlrGXS",
        "outputId": "af0d2701-c966-4b59-cbc4-13fe76a96698",
        "colab": {
          "base_uri": "https://localhost:8080/"
        }
      },
      "execution_count": 44,
      "outputs": [
        {
          "output_type": "execute_result",
          "data": {
            "text/plain": [
              "array([ 0.23806218, -0.97124992])"
            ]
          },
          "metadata": {},
          "execution_count": 44
        }
      ]
    },
    {
      "cell_type": "code",
      "source": [
        "proj = np.dot(autovector[1].T,datos)\n",
        "proj"
      ],
      "metadata": {
        "id": "KnMphRXuqgp0",
        "outputId": "58a5933a-dc0a-4d55-8032-12d932441b24",
        "colab": {
          "base_uri": "https://localhost:8080/"
        }
      },
      "execution_count": 47,
      "outputs": [
        {
          "output_type": "execute_result",
          "data": {
            "text/plain": [
              "array([-10.20413038, -16.12663594, -30.89544444,  31.26455022,\n",
              "        16.03861858,   8.26861925,  18.95236833, -17.29794561])"
            ]
          },
          "metadata": {},
          "execution_count": 47
        }
      ]
    },
    {
      "cell_type": "code",
      "source": [],
      "metadata": {
        "id": "ha4z9beTqgWq"
      },
      "execution_count": null,
      "outputs": []
    },
    {
      "cell_type": "code",
      "source": [],
      "metadata": {
        "id": "BhtTPhWmp5jo"
      },
      "execution_count": null,
      "outputs": []
    },
    {
      "cell_type": "code",
      "source": [
        "x1 = [19.,39.,30.,30.,15.,15.,15.,30.]\n",
        "x2 =  [63.,74.,87.,23.,35.,43.,32.,73.]\n",
        "N=np.size(x1)\n",
        "X = np.column_stack([x1, x2])\n",
        "X -= X.mean(axis=0)\n",
        "fact = N-1\n",
        "by_hand = np.dot(X.T, X.conj()) / fact\n",
        "print(by_hand)"
      ],
      "metadata": {
        "id": "uLgDCtzxkuOW",
        "outputId": "8688db85-02ba-4908-b6b1-d64f8a977958",
        "colab": {
          "base_uri": "https://localhost:8080/"
        }
      },
      "execution_count": 22,
      "outputs": [
        {
          "output_type": "stream",
          "name": "stdout",
          "text": [
            "[[ 85.83928571 121.32142857]\n",
            " [121.32142857 551.07142857]]\n"
          ]
        }
      ]
    },
    {
      "cell_type": "code",
      "source": [
        "autovalor, autovector = np.linalg.eig(by_hand )\n",
        "autovalor"
      ],
      "metadata": {
        "id": "XGN0fkzHmK4N",
        "outputId": "c5fe2ec4-f198-4653-9ef5-65211f0eb977",
        "colab": {
          "base_uri": "https://localhost:8080/"
        }
      },
      "execution_count": 23,
      "outputs": [
        {
          "output_type": "execute_result",
          "data": {
            "text/plain": [
              "array([ 56.10230167, 580.80841262])"
            ]
          },
          "metadata": {},
          "execution_count": 23
        }
      ]
    },
    {
      "cell_type": "code",
      "source": [
        "autovector"
      ],
      "metadata": {
        "id": "-AYqQEBOmkAT",
        "outputId": "87d36d57-0201-431d-eaa4-b93882c72bd8",
        "colab": {
          "base_uri": "https://localhost:8080/"
        }
      },
      "execution_count": 24,
      "outputs": [
        {
          "output_type": "execute_result",
          "data": {
            "text/plain": [
              "array([[-0.97124992, -0.23806218],\n",
              "       [ 0.23806218, -0.97124992]])"
            ]
          },
          "metadata": {},
          "execution_count": 24
        }
      ]
    },
    {
      "cell_type": "code",
      "source": [
        "W"
      ],
      "metadata": {
        "id": "yGcGRLVQoUkW"
      },
      "execution_count": null,
      "outputs": []
    },
    {
      "cell_type": "code",
      "source": [],
      "metadata": {
        "id": "bMwDjIR8oUTg"
      },
      "execution_count": null,
      "outputs": []
    },
    {
      "cell_type": "code",
      "source": [
        "autovalor, autovector = np.linalg.eig(A)"
      ],
      "metadata": {
        "id": "wkt3yrATVUo8"
      },
      "execution_count": 25,
      "outputs": []
    },
    {
      "cell_type": "code",
      "source": [
        "autovalor"
      ],
      "metadata": {
        "colab": {
          "base_uri": "https://localhost:8080/"
        },
        "id": "uRA3Cpl2aJyS",
        "outputId": "b414787e-c028-40f4-d158-a3297f0f55c4"
      },
      "execution_count": 26,
      "outputs": [
        {
          "output_type": "execute_result",
          "data": {
            "text/plain": [
              "array([ 56.10230167, 580.80841262])"
            ]
          },
          "metadata": {},
          "execution_count": 26
        }
      ]
    },
    {
      "cell_type": "code",
      "source": [
        "autovector"
      ],
      "metadata": {
        "colab": {
          "base_uri": "https://localhost:8080/"
        },
        "id": "dw1s_i4_aN1h",
        "outputId": "7b755985-328b-40d6-91f5-6c488c8b3037"
      },
      "execution_count": null,
      "outputs": [
        {
          "output_type": "execute_result",
          "data": {
            "text/plain": [
              "array([[-0.97124992, -0.23806218],\n",
              "       [ 0.23806218, -0.97124992]])"
            ]
          },
          "metadata": {},
          "execution_count": 16
        }
      ]
    },
    {
      "cell_type": "code",
      "source": [],
      "metadata": {
        "id": "361qRwiwgof2"
      },
      "execution_count": null,
      "outputs": []
    },
    {
      "cell_type": "code",
      "source": [
        "x = [2.5,0.5,2.2,1.9,3.1,2.3,2,1,1.5,1.2]\n",
        "y= [2.4,0.7,2.9,2.2,3.0,2.7,1.6,1.1,1.6,0.9]\n",
        "datos = np.stack((x, y), axis=0)\n",
        "datos"
      ],
      "metadata": {
        "id": "_p7jORDjVUrk",
        "colab": {
          "base_uri": "https://localhost:8080/"
        },
        "outputId": "26fabc41-9bf1-455a-8f59-65be3c746df2"
      },
      "execution_count": null,
      "outputs": [
        {
          "output_type": "execute_result",
          "data": {
            "text/plain": [
              "array([[2.5, 0.5, 2.2, 1.9, 3.1, 2.3, 2. , 1. , 1.5, 1.2],\n",
              "       [2.4, 0.7, 2.9, 2.2, 3. , 2.7, 1.6, 1.1, 1.6, 0.9]])"
            ]
          },
          "metadata": {},
          "execution_count": 17
        }
      ]
    },
    {
      "cell_type": "code",
      "source": [
        "b1 = [2.5,0.5,2.2,1.9,3.1,2.3,2,1,1.5,1.2]\n",
        "b2 =  [2.4,0.7,2.9,2.2,3.0,2.7,1.6,1.1,1.6,0.9]\n",
        "N=np.size(b1)\n",
        "X = np.column_stack([b1, b2])\n",
        "X -= X.mean(axis=0)\n",
        "fact = N-1\n",
        "by_hand = np.dot(X.T, X.conj()) / fact\n",
        "print(by_hand)"
      ],
      "metadata": {
        "id": "3-TPjXLmjPtF",
        "outputId": "d225f82a-ef31-4ddc-e4d5-a32ffc6cdc0f",
        "colab": {
          "base_uri": "https://localhost:8080/"
        }
      },
      "execution_count": null,
      "outputs": [
        {
          "output_type": "stream",
          "name": "stdout",
          "text": [
            "[[0.60177778 0.60422222]\n",
            " [0.60422222 0.71655556]]\n"
          ]
        }
      ]
    },
    {
      "cell_type": "code",
      "source": [
        "Z = np.cov(x,y)\n",
        "Z"
      ],
      "metadata": {
        "id": "OpouVIrojDW2",
        "outputId": "fa511ce9-6630-4d62-d3be-f181674c870b",
        "colab": {
          "base_uri": "https://localhost:8080/"
        }
      },
      "execution_count": null,
      "outputs": [
        {
          "output_type": "execute_result",
          "data": {
            "text/plain": [
              "array([[0.60177778, 0.60422222],\n",
              "       [0.60422222, 0.71655556]])"
            ]
          },
          "metadata": {},
          "execution_count": 18
        }
      ]
    },
    {
      "cell_type": "code",
      "source": [
        "A=np.cov(datos)\n",
        "A"
      ],
      "metadata": {
        "colab": {
          "base_uri": "https://localhost:8080/"
        },
        "id": "Uom-ctFsgpec",
        "outputId": "40946fa2-4787-4551-a28c-ecfb00274ae3"
      },
      "execution_count": null,
      "outputs": [
        {
          "output_type": "execute_result",
          "data": {
            "text/plain": [
              "array([[0.60177778, 0.60422222],\n",
              "       [0.60422222, 0.71655556]])"
            ]
          },
          "metadata": {},
          "execution_count": 19
        }
      ]
    },
    {
      "cell_type": "code",
      "source": [
        "autovalor, autovector = np.linalg.eig(A)"
      ],
      "metadata": {
        "id": "Me8PVFmHg-P2"
      },
      "execution_count": null,
      "outputs": []
    },
    {
      "cell_type": "code",
      "source": [
        "autovalor"
      ],
      "metadata": {
        "colab": {
          "base_uri": "https://localhost:8080/"
        },
        "id": "SWq2_CnPhADl",
        "outputId": "a24c0eb2-fc4f-4319-99b1-5896e8b0dfb8"
      },
      "execution_count": null,
      "outputs": [
        {
          "output_type": "execute_result",
          "data": {
            "text/plain": [
              "array([0.04702256, 1.13951381])"
            ]
          },
          "metadata": {},
          "execution_count": 7
        }
      ]
    },
    {
      "cell_type": "code",
      "source": [
        "autovector"
      ],
      "metadata": {
        "colab": {
          "base_uri": "https://localhost:8080/"
        },
        "id": "2n7sXxmUg_3t",
        "outputId": "de91e2bf-107b-457b-fba7-e7baa2b779b2"
      },
      "execution_count": null,
      "outputs": [
        {
          "output_type": "execute_result",
          "data": {
            "text/plain": [
              "array([[-0.73977066, -0.67285911],\n",
              "       [ 0.67285911, -0.73977066]])"
            ]
          },
          "metadata": {},
          "execution_count": 8
        }
      ]
    }
  ]
}