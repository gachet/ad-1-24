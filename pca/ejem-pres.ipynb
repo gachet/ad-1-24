{
  "nbformat": 4,
  "nbformat_minor": 0,
  "metadata": {
    "colab": {
      "provenance": [],
      "authorship_tag": "ABX9TyM1+t+4/cke9pILazFap8sl",
      "include_colab_link": true
    },
    "kernelspec": {
      "name": "python3",
      "display_name": "Python 3"
    },
    "language_info": {
      "name": "python"
    }
  },
  "cells": [
    {
      "cell_type": "markdown",
      "metadata": {
        "id": "view-in-github",
        "colab_type": "text"
      },
      "source": [
        "<a href=\"https://colab.research.google.com/github/gachet/ad-1-24/blob/main/pca/ejem-pres.ipynb\" target=\"_parent\"><img src=\"https://colab.research.google.com/assets/colab-badge.svg\" alt=\"Open In Colab\"/></a>"
      ]
    },
    {
      "cell_type": "code",
      "execution_count": 2,
      "metadata": {
        "id": "wg8G_5xsVToz"
      },
      "outputs": [],
      "source": [
        "import numpy as np # importando numpy\n",
        "from scipy import stats # importando scipy.stats\n",
        "import pandas as pd # importando pandas\n",
        "\n"
      ]
    },
    {
      "cell_type": "code",
      "source": [
        "x = [19,39,30,30,15,15,15,30]\n",
        "y= [63,74,87,23,35,43,32,73]\n",
        "datos = np.stack((x, y), axis=0)\n",
        "datos"
      ],
      "metadata": {
        "colab": {
          "base_uri": "https://localhost:8080/"
        },
        "id": "5gFMu9hKVUbl",
        "outputId": "57e5a6e4-656b-4c1a-ae04-34a3794ff6d2"
      },
      "execution_count": 26,
      "outputs": [
        {
          "output_type": "execute_result",
          "data": {
            "text/plain": [
              "array([[19, 39, 30, 30, 15, 15, 15, 30],\n",
              "       [63, 74, 87, 23, 35, 43, 32, 73]])"
            ]
          },
          "metadata": {},
          "execution_count": 26
        }
      ]
    },
    {
      "cell_type": "code",
      "source": [
        "A=np.cov(datos)\n",
        "A"
      ],
      "metadata": {
        "id": "Oe4s43SxVUmD",
        "colab": {
          "base_uri": "https://localhost:8080/"
        },
        "outputId": "7c7b1ef7-ff40-43bb-a2ce-1196be4fb59d"
      },
      "execution_count": 28,
      "outputs": [
        {
          "output_type": "execute_result",
          "data": {
            "text/plain": [
              "array([[ 85.83928571, 121.32142857],\n",
              "       [121.32142857, 551.07142857]])"
            ]
          },
          "metadata": {},
          "execution_count": 28
        }
      ]
    },
    {
      "cell_type": "code",
      "source": [
        "x1 = [19.,39.,30.,30.,15.,15.,15.,30.]\n",
        "x2 =  [63.,74.,87.,23.,35.,43.,32.,73.]\n",
        "N=np.size(x1)\n",
        "X = np.column_stack([x1, x2])\n",
        "X -= X.mean(axis=0)\n",
        "fact = N\n",
        "by_hand = np.dot(X.T, X.conj()) / fact\n",
        "print(by_hand)"
      ],
      "metadata": {
        "id": "uLgDCtzxkuOW",
        "outputId": "523d892e-42f9-4d90-c9fa-2c0c4b97c473",
        "colab": {
          "base_uri": "https://localhost:8080/"
        }
      },
      "execution_count": 31,
      "outputs": [
        {
          "output_type": "stream",
          "name": "stdout",
          "text": [
            "[[ 75.109375 106.15625 ]\n",
            " [106.15625  482.1875  ]]\n"
          ]
        }
      ]
    },
    {
      "cell_type": "code",
      "source": [
        "autovalor, autovector = np.linalg.eig(by_hand )\n",
        "autovalor"
      ],
      "metadata": {
        "id": "XGN0fkzHmK4N",
        "outputId": "acafb5ed-4de7-410b-b4e6-86dc466fe864",
        "colab": {
          "base_uri": "https://localhost:8080/"
        }
      },
      "execution_count": 37,
      "outputs": [
        {
          "output_type": "execute_result",
          "data": {
            "text/plain": [
              "array([ 49.08951396, 508.20736104])"
            ]
          },
          "metadata": {},
          "execution_count": 37
        }
      ]
    },
    {
      "cell_type": "code",
      "source": [
        "autovector"
      ],
      "metadata": {
        "id": "-AYqQEBOmkAT",
        "outputId": "2c14e0f3-942b-4fd0-f04e-750ffff2944c",
        "colab": {
          "base_uri": "https://localhost:8080/"
        }
      },
      "execution_count": 38,
      "outputs": [
        {
          "output_type": "execute_result",
          "data": {
            "text/plain": [
              "array([[-0.97124992, -0.23806218],\n",
              "       [ 0.23806218, -0.97124992]])"
            ]
          },
          "metadata": {},
          "execution_count": 38
        }
      ]
    },
    {
      "cell_type": "code",
      "source": [
        "autovalor, autovector = np.linalg.eig(A)"
      ],
      "metadata": {
        "id": "wkt3yrATVUo8"
      },
      "execution_count": null,
      "outputs": []
    },
    {
      "cell_type": "code",
      "source": [
        "autovalor"
      ],
      "metadata": {
        "colab": {
          "base_uri": "https://localhost:8080/"
        },
        "id": "uRA3Cpl2aJyS",
        "outputId": "97db9f90-940a-4fb8-abb5-17d16c963387"
      },
      "execution_count": null,
      "outputs": [
        {
          "output_type": "execute_result",
          "data": {
            "text/plain": [
              "array([ 56.10230167, 580.80841262])"
            ]
          },
          "metadata": {},
          "execution_count": 15
        }
      ]
    },
    {
      "cell_type": "code",
      "source": [
        "autovector"
      ],
      "metadata": {
        "colab": {
          "base_uri": "https://localhost:8080/"
        },
        "id": "dw1s_i4_aN1h",
        "outputId": "7b755985-328b-40d6-91f5-6c488c8b3037"
      },
      "execution_count": null,
      "outputs": [
        {
          "output_type": "execute_result",
          "data": {
            "text/plain": [
              "array([[-0.97124992, -0.23806218],\n",
              "       [ 0.23806218, -0.97124992]])"
            ]
          },
          "metadata": {},
          "execution_count": 16
        }
      ]
    },
    {
      "cell_type": "code",
      "source": [],
      "metadata": {
        "id": "361qRwiwgof2"
      },
      "execution_count": null,
      "outputs": []
    },
    {
      "cell_type": "code",
      "source": [
        "x = [2.5,0.5,2.2,1.9,3.1,2.3,2,1,1.5,1.2]\n",
        "y= [2.4,0.7,2.9,2.2,3.0,2.7,1.6,1.1,1.6,0.9]\n",
        "datos = np.stack((x, y), axis=0)\n",
        "datos"
      ],
      "metadata": {
        "id": "_p7jORDjVUrk",
        "colab": {
          "base_uri": "https://localhost:8080/"
        },
        "outputId": "26fabc41-9bf1-455a-8f59-65be3c746df2"
      },
      "execution_count": 17,
      "outputs": [
        {
          "output_type": "execute_result",
          "data": {
            "text/plain": [
              "array([[2.5, 0.5, 2.2, 1.9, 3.1, 2.3, 2. , 1. , 1.5, 1.2],\n",
              "       [2.4, 0.7, 2.9, 2.2, 3. , 2.7, 1.6, 1.1, 1.6, 0.9]])"
            ]
          },
          "metadata": {},
          "execution_count": 17
        }
      ]
    },
    {
      "cell_type": "code",
      "source": [
        "b1 = [2.5,0.5,2.2,1.9,3.1,2.3,2,1,1.5,1.2]\n",
        "b2 =  [2.4,0.7,2.9,2.2,3.0,2.7,1.6,1.1,1.6,0.9]\n",
        "N=np.size(b1)\n",
        "X = np.column_stack([b1, b2])\n",
        "X -= X.mean(axis=0)\n",
        "fact = N-1\n",
        "by_hand = np.dot(X.T, X.conj()) / fact\n",
        "print(by_hand)"
      ],
      "metadata": {
        "id": "3-TPjXLmjPtF",
        "outputId": "d225f82a-ef31-4ddc-e4d5-a32ffc6cdc0f",
        "colab": {
          "base_uri": "https://localhost:8080/"
        }
      },
      "execution_count": 16,
      "outputs": [
        {
          "output_type": "stream",
          "name": "stdout",
          "text": [
            "[[0.60177778 0.60422222]\n",
            " [0.60422222 0.71655556]]\n"
          ]
        }
      ]
    },
    {
      "cell_type": "code",
      "source": [
        "Z = np.cov(x,y)\n",
        "Z"
      ],
      "metadata": {
        "id": "OpouVIrojDW2",
        "outputId": "fa511ce9-6630-4d62-d3be-f181674c870b",
        "colab": {
          "base_uri": "https://localhost:8080/"
        }
      },
      "execution_count": 18,
      "outputs": [
        {
          "output_type": "execute_result",
          "data": {
            "text/plain": [
              "array([[0.60177778, 0.60422222],\n",
              "       [0.60422222, 0.71655556]])"
            ]
          },
          "metadata": {},
          "execution_count": 18
        }
      ]
    },
    {
      "cell_type": "code",
      "source": [
        "A=np.cov(datos)\n",
        "A"
      ],
      "metadata": {
        "colab": {
          "base_uri": "https://localhost:8080/"
        },
        "id": "Uom-ctFsgpec",
        "outputId": "40946fa2-4787-4551-a28c-ecfb00274ae3"
      },
      "execution_count": 19,
      "outputs": [
        {
          "output_type": "execute_result",
          "data": {
            "text/plain": [
              "array([[0.60177778, 0.60422222],\n",
              "       [0.60422222, 0.71655556]])"
            ]
          },
          "metadata": {},
          "execution_count": 19
        }
      ]
    },
    {
      "cell_type": "code",
      "source": [
        "autovalor, autovector = np.linalg.eig(A)"
      ],
      "metadata": {
        "id": "Me8PVFmHg-P2"
      },
      "execution_count": 6,
      "outputs": []
    },
    {
      "cell_type": "code",
      "source": [
        "autovalor"
      ],
      "metadata": {
        "colab": {
          "base_uri": "https://localhost:8080/"
        },
        "id": "SWq2_CnPhADl",
        "outputId": "a24c0eb2-fc4f-4319-99b1-5896e8b0dfb8"
      },
      "execution_count": 7,
      "outputs": [
        {
          "output_type": "execute_result",
          "data": {
            "text/plain": [
              "array([0.04702256, 1.13951381])"
            ]
          },
          "metadata": {},
          "execution_count": 7
        }
      ]
    },
    {
      "cell_type": "code",
      "source": [
        "autovector"
      ],
      "metadata": {
        "colab": {
          "base_uri": "https://localhost:8080/"
        },
        "id": "2n7sXxmUg_3t",
        "outputId": "de91e2bf-107b-457b-fba7-e7baa2b779b2"
      },
      "execution_count": 8,
      "outputs": [
        {
          "output_type": "execute_result",
          "data": {
            "text/plain": [
              "array([[-0.73977066, -0.67285911],\n",
              "       [ 0.67285911, -0.73977066]])"
            ]
          },
          "metadata": {},
          "execution_count": 8
        }
      ]
    }
  ]
}