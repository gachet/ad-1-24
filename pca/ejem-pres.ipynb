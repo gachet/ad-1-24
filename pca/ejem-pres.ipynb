{
  "nbformat": 4,
  "nbformat_minor": 0,
  "metadata": {
    "colab": {
      "provenance": [],
      "authorship_tag": "ABX9TyPF9stT1ueB+gO3oEaJ40D5",
      "include_colab_link": true
    },
    "kernelspec": {
      "name": "python3",
      "display_name": "Python 3"
    },
    "language_info": {
      "name": "python"
    }
  },
  "cells": [
    {
      "cell_type": "markdown",
      "metadata": {
        "id": "view-in-github",
        "colab_type": "text"
      },
      "source": [
        "<a href=\"https://colab.research.google.com/github/gachet/ad-1-24/blob/main/pca/ejem-pres.ipynb\" target=\"_parent\"><img src=\"https://colab.research.google.com/assets/colab-badge.svg\" alt=\"Open In Colab\"/></a>"
      ]
    },
    {
      "cell_type": "code",
      "source": [],
      "metadata": {
        "id": "DGQzLMu14jju"
      },
      "execution_count": null,
      "outputs": []
    },
    {
      "cell_type": "markdown",
      "source": [
        "Firstly, * is not dot product for numpy array. It is element-wise multiplication. To perform dot product, you need to use np.dot.\n",
        "\n",
        "Secondly, the shape of PCA.components_ is (n_components, n_features) while the shape of data to transform is (n_samples, n_features), so you need to transpose PCA.components_ to perform dot product.\n",
        "\n",
        "Moreover, the first step of transform is to subtract the mean, therefore if you do it manually, you also need to subtract the mean at first.\n",
        "\n",
        "The correct way to transform is\n",
        "\n",
        "data_reduced = np.dot(data - pca.mean_, pca.components_.T)\n",
        "2) inverse_transform is just the inverse process of transform\n",
        "\n",
        "data_original = np.dot(data_reduced, pca.components_) + pca.mean_\n",
        "If your data already has zero mean in each column, you can ignore the pca.mean_ above, for example\n",
        "\n",
        "import numpy as np\n",
        "from sklearn.decomposition import PCA\n",
        "\n",
        "pca = PCA(n_components=3)\n",
        "pca.fit(data)\n",
        "\n",
        "data_reduced = np.dot(data, pca.components_.T) # transform\n",
        "data_original = np.dot(data_reduced, pca.components_) # inverse_transform"
      ],
      "metadata": {
        "id": "eGAMoxUmTBmU"
      }
    },
    {
      "cell_type": "markdown",
      "source": [
        "https://stats.stackexchange.com/questions/229092/how-to-reverse-pca-and-reconstruct-original-variables-from-several-principal-com\n",
        "\n",
        "PCA computes eigenvectors of the covariance matrix (\"principal axes\") and sorts them by their eigenvalues (amount of explained variance). The centered data can then be projected onto these principal axes to yield principal components (\"scores\"). For the purposes of dimensionality reduction, one can keep only a subset of principal components and discard the rest. (See here for a layman's introduction to PCA.)\n",
        "\n",
        "Let Xraw\n",
        " be the n×p\n",
        " data matrix with n\n",
        " rows (data points) and p\n",
        " columns (variables, or features). After subtracting the mean vector μ\n",
        " from each row, we get the centered data matrix X\n",
        ". Let V\n",
        " be the p×k\n",
        " matrix of some k\n",
        " eigenvectors that we want to use; these would most often be the k\n",
        " eigenvectors with the largest eigenvalues. Then the n×k\n",
        " matrix of PCA projections (\"scores\") will be simply given by Z=XV\n",
        ".\n",
        "\n",
        "This is illustrated on the figure below: the first subplot shows some centered data (the same data that I use in my animations in the linked thread) and its projections on the first principal axis. The second subplot shows only the values of this projection; the dimensionality has been reduced from two to one:\n",
        "\n",
        "In order to be able to reconstruct the original two variables from this one principal component, we can map it back to p\n",
        " dimensions with V⊤\n",
        ". Indeed, the values of each PC should be placed on the same vector as was used for projection; compare subplots 1 and 3. The result is then given by X^=ZV⊤=XVV⊤\n",
        ". I am displaying it on the third subplot above. To get the final reconstruction X^raw\n",
        ", we need to add the mean vector μ\n",
        " to that:\n",
        "\n",
        "PCA reconstruction=PC scores⋅Eigenvectors⊤+Mean\n",
        "\n",
        "Note that one can go directly from the first subplot to the third one by multiplying X\n",
        " with the VV⊤\n",
        " matrix; it is called a projection matrix. If all p\n",
        " eigenvectors are used, then VV⊤\n",
        " is the identity matrix (no dimensionality reduction is performed, hence \"reconstruction\" is perfect). If only a subset of eigenvectors is used, it is not identity.\n",
        "\n",
        "This works for an arbitrary point z\n",
        " in the PC space; it can be mapped to the original space via x^=zV⊤\n",
        "."
      ],
      "metadata": {
        "id": "Fc5vu-NFOcyr"
      }
    },
    {
      "cell_type": "code",
      "source": [
        "import pandas as pd\n",
        "import numpy as np\n",
        "from sklearn import datasets\n",
        "from sklearn.decomposition import PCA\n",
        "import seaborn as sns; sns.set()\n",
        "\n",
        "x = [19,39,30,30,15,15,15,30]\n",
        "y= [63,74,87,23,35,43,32,73]\n",
        "media_x =  np.mean(x)\n",
        "media_y = np.mean(y)\n",
        "data1 =np.stack ((x, y), axis=1)\n",
        "mean_col = np.mean(data1, axis=0)\n",
        "data1 = data1 - mean_col\n",
        "print(data1.shape)\n",
        "print(\"originales\",data1)\n",
        "pca = PCA(n_components=2)\n",
        "pca.fit(data1)\n",
        "print(\"vectires\",pca.components_)\n",
        "pca_data1 = pca.transform(data1)\n",
        "print(pca.inverse_transform(pca_data1))"
      ],
      "metadata": {
        "colab": {
          "base_uri": "https://localhost:8080/"
        },
        "id": "scwOYo--0MYd",
        "outputId": "d82f73b2-6f88-473b-9741-b1bc1f21c181"
      },
      "execution_count": null,
      "outputs": [
        {
          "output_type": "stream",
          "name": "stdout",
          "text": [
            "(8, 2)\n",
            "originales [[ -5.125   9.25 ]\n",
            " [ 14.875  20.25 ]\n",
            " [  5.875  33.25 ]\n",
            " [  5.875 -30.75 ]\n",
            " [ -9.125 -18.75 ]\n",
            " [ -9.125 -10.75 ]\n",
            " [ -9.125 -21.75 ]\n",
            " [  5.875  19.25 ]]\n",
            "vectires [[ 0.23806218  0.97124992]\n",
            " [ 0.97124992 -0.23806218]]\n",
            "[[ -5.125   9.25 ]\n",
            " [ 14.875  20.25 ]\n",
            " [  5.875  33.25 ]\n",
            " [  5.875 -30.75 ]\n",
            " [ -9.125 -18.75 ]\n",
            " [ -9.125 -10.75 ]\n",
            " [ -9.125 -21.75 ]\n",
            " [  5.875  19.25 ]]\n"
          ]
        }
      ]
    },
    {
      "cell_type": "code",
      "source": [
        "data_reduced = np.dot(data1, pca.components_.T)\n",
        "data_reduced.shape"
      ],
      "metadata": {
        "colab": {
          "base_uri": "https://localhost:8080/"
        },
        "id": "Kc4-2Ppn0MU1",
        "outputId": "066f360e-6782-4b1b-8cc1-013c3b9a91f2"
      },
      "execution_count": null,
      "outputs": [
        {
          "output_type": "execute_result",
          "data": {
            "text/plain": [
              "(8, 2)"
            ]
          },
          "metadata": {},
          "execution_count": 156
        }
      ]
    },
    {
      "cell_type": "code",
      "source": [
        "pca.components_.shape"
      ],
      "metadata": {
        "colab": {
          "base_uri": "https://localhost:8080/"
        },
        "id": "U-N_poE95L2W",
        "outputId": "d4769cf1-5d42-48a9-b9cb-a22b1a7ec457"
      },
      "execution_count": null,
      "outputs": [
        {
          "output_type": "execute_result",
          "data": {
            "text/plain": [
              "(2, 2)"
            ]
          },
          "metadata": {},
          "execution_count": 157
        }
      ]
    },
    {
      "cell_type": "code",
      "source": [
        "data_original = np.dot(data_reduced, pca.components_)\n",
        "data_original"
      ],
      "metadata": {
        "colab": {
          "base_uri": "https://localhost:8080/"
        },
        "id": "EpfudEju5rlZ",
        "outputId": "eaa5c13f-d6f6-4a67-be2b-f45884406e5e"
      },
      "execution_count": null,
      "outputs": [
        {
          "output_type": "execute_result",
          "data": {
            "text/plain": [
              "array([[ -5.125,   9.25 ],\n",
              "       [ 14.875,  20.25 ],\n",
              "       [  5.875,  33.25 ],\n",
              "       [  5.875, -30.75 ],\n",
              "       [ -9.125, -18.75 ],\n",
              "       [ -9.125, -10.75 ],\n",
              "       [ -9.125, -21.75 ],\n",
              "       [  5.875,  19.25 ]])"
            ]
          },
          "metadata": {},
          "execution_count": 171
        }
      ]
    },
    {
      "cell_type": "code",
      "source": [
        "data_original[:,0] = data_original[:,0] + media_x\n",
        "data_original[:,1] = data_original[:,1] + media_y\n",
        "data_original"
      ],
      "metadata": {
        "colab": {
          "base_uri": "https://localhost:8080/"
        },
        "id": "ny-zAw_80MQ8",
        "outputId": "09023ef9-f078-4abd-b578-f8209c23e236"
      },
      "execution_count": null,
      "outputs": [
        {
          "output_type": "execute_result",
          "data": {
            "text/plain": [
              "array([[19., 63.],\n",
              "       [39., 74.],\n",
              "       [30., 87.],\n",
              "       [30., 23.],\n",
              "       [15., 35.],\n",
              "       [15., 43.],\n",
              "       [15., 32.],\n",
              "       [30., 73.]])"
            ]
          },
          "metadata": {},
          "execution_count": 172
        }
      ]
    },
    {
      "cell_type": "code",
      "source": [
        "data_orig = np.dot(data_reduced, pca.components_)+ mean_col\n",
        "data_orig"
      ],
      "metadata": {
        "colab": {
          "base_uri": "https://localhost:8080/"
        },
        "id": "FwIi0_B50L0f",
        "outputId": "ec2a05e5-69f5-4729-f802-e6eabd5e3ad9"
      },
      "execution_count": null,
      "outputs": [
        {
          "output_type": "execute_result",
          "data": {
            "text/plain": [
              "array([[19., 63.],\n",
              "       [39., 74.],\n",
              "       [30., 87.],\n",
              "       [30., 23.],\n",
              "       [15., 35.],\n",
              "       [15., 43.],\n",
              "       [15., 32.],\n",
              "       [30., 73.]])"
            ]
          },
          "metadata": {},
          "execution_count": 175
        }
      ]
    },
    {
      "cell_type": "code",
      "source": [
        "import numpy as np\n",
        "data_multi = np.array([[10, 15, 20, 25], [40, 45, 50, 55], [57, 58, 59, 60]])\n",
        "data_multi"
      ],
      "metadata": {
        "id": "4UdVjbGeEuy8",
        "outputId": "3526a53c-1257-4efe-d280-3e3973327a3e",
        "colab": {
          "base_uri": "https://localhost:8080/"
        }
      },
      "execution_count": null,
      "outputs": [
        {
          "output_type": "execute_result",
          "data": {
            "text/plain": [
              "array([[10, 15, 20, 25],\n",
              "       [40, 45, 50, 55],\n",
              "       [57, 58, 59, 60]])"
            ]
          },
          "metadata": {},
          "execution_count": 167
        }
      ]
    },
    {
      "cell_type": "code",
      "source": [
        "mean_col = np.mean(data_multi, axis=0)\n",
        "std_dev_col = np.std(data_multi, axis=0)\n",
        "z_scores_multi = (data_multi - mean_col) / std_dev_col\n",
        "print(z_scores_multi)"
      ],
      "metadata": {
        "id": "3q7QJG-SEut-",
        "outputId": "0f116326-692f-4062-86f5-276625d30f5b",
        "colab": {
          "base_uri": "https://localhost:8080/"
        }
      },
      "execution_count": null,
      "outputs": [
        {
          "output_type": "stream",
          "name": "stdout",
          "text": [
            "[[-1.32092767 -1.35138849 -1.37944833 -1.40182605]\n",
            " [ 0.22301376  0.31470691  0.4198321   0.53916387]\n",
            " [ 1.09791391  1.03668158  0.95961623  0.86266219]]\n"
          ]
        }
      ]
    },
    {
      "cell_type": "code",
      "source": [
        "mean_col"
      ],
      "metadata": {
        "id": "nabG8iI3FQ1i",
        "outputId": "7e492aad-1bdd-4061-8048-aa447fea9791",
        "colab": {
          "base_uri": "https://localhost:8080/"
        }
      },
      "execution_count": null,
      "outputs": [
        {
          "output_type": "execute_result",
          "data": {
            "text/plain": [
              "array([35.66666667, 39.33333333, 43.        , 46.66666667])"
            ]
          },
          "metadata": {},
          "execution_count": 169
        }
      ]
    },
    {
      "cell_type": "code",
      "source": [],
      "metadata": {
        "id": "7xoIgCRtEuga"
      },
      "execution_count": null,
      "outputs": []
    },
    {
      "cell_type": "code",
      "execution_count": null,
      "metadata": {
        "id": "wg8G_5xsVToz"
      },
      "outputs": [],
      "source": [
        "import numpy as np # importando numpy\n",
        "from scipy import stats # importando scipy.stats\n",
        "import pandas as pd # importando pandas\n",
        "\n"
      ]
    },
    {
      "cell_type": "code",
      "source": [
        "x = [19,39,30,30,15,15,15,30]\n",
        "y= [63,74,87,23,35,43,32,73]\n",
        "media_x =  np.mean(x)\n",
        "media_y = np.mean(y)\n",
        "datosorig =np.stack ((x, y), axis=0)\n",
        "datosorig"
      ],
      "metadata": {
        "colab": {
          "base_uri": "https://localhost:8080/"
        },
        "id": "5gFMu9hKVUbl",
        "outputId": "2f1a783a-3816-4675-b69b-c5ec049ae644"
      },
      "execution_count": null,
      "outputs": [
        {
          "output_type": "execute_result",
          "data": {
            "text/plain": [
              "array([[19, 39, 30, 30, 15, 15, 15, 30],\n",
              "       [63, 74, 87, 23, 35, 43, 32, 73]])"
            ]
          },
          "metadata": {},
          "execution_count": 2
        }
      ]
    },
    {
      "cell_type": "code",
      "source": [
        "datosorig.shape"
      ],
      "metadata": {
        "colab": {
          "base_uri": "https://localhost:8080/"
        },
        "id": "cKHKdog3dnUD",
        "outputId": "3b66e7f1-5bfd-4ca4-ad8b-11b7c32d3161"
      },
      "execution_count": null,
      "outputs": [
        {
          "output_type": "execute_result",
          "data": {
            "text/plain": [
              "(2, 8)"
            ]
          },
          "metadata": {},
          "execution_count": 3
        }
      ]
    },
    {
      "cell_type": "code",
      "source": [
        "datosorig.mean(axis=1)"
      ],
      "metadata": {
        "colab": {
          "base_uri": "https://localhost:8080/"
        },
        "id": "ysW3iPmFdeI1",
        "outputId": "b0e60029-2a33-4bc5-99b8-3dfb176a48c1"
      },
      "execution_count": null,
      "outputs": [
        {
          "output_type": "execute_result",
          "data": {
            "text/plain": [
              "array([24.125, 53.75 ])"
            ]
          },
          "metadata": {},
          "execution_count": 4
        }
      ]
    },
    {
      "cell_type": "code",
      "source": [
        "datos = datosorig - datosorig.mean(axis=1)[:, np.newaxis]\n",
        "datos"
      ],
      "metadata": {
        "colab": {
          "base_uri": "https://localhost:8080/"
        },
        "id": "XDuglYE6U2jg",
        "outputId": "66b90cf8-3c43-4780-fc86-6c7495912c58"
      },
      "execution_count": null,
      "outputs": [
        {
          "output_type": "execute_result",
          "data": {
            "text/plain": [
              "array([[ -5.125,  14.875,   5.875,   5.875,  -9.125,  -9.125,  -9.125,\n",
              "          5.875],\n",
              "       [  9.25 ,  20.25 ,  33.25 , -30.75 , -18.75 , -10.75 , -21.75 ,\n",
              "         19.25 ]])"
            ]
          },
          "metadata": {},
          "execution_count": 5
        }
      ]
    },
    {
      "cell_type": "code",
      "source": [
        "A=np.cov(datos)"
      ],
      "metadata": {
        "id": "Oe4s43SxVUmD"
      },
      "execution_count": null,
      "outputs": []
    },
    {
      "cell_type": "code",
      "source": [
        "autovalor, autovector = np.linalg.eig(A )\n",
        "autovalor"
      ],
      "metadata": {
        "colab": {
          "base_uri": "https://localhost:8080/"
        },
        "id": "FjZ3hnkZp53L",
        "outputId": "7e167fb8-a51d-4ef8-edba-25f7a68ba421"
      },
      "execution_count": null,
      "outputs": [
        {
          "output_type": "execute_result",
          "data": {
            "text/plain": [
              "array([ 56.10230167, 580.80841262])"
            ]
          },
          "metadata": {},
          "execution_count": 7
        }
      ]
    },
    {
      "cell_type": "code",
      "source": [
        "autovector"
      ],
      "metadata": {
        "colab": {
          "base_uri": "https://localhost:8080/"
        },
        "id": "KyNtfVrPqLn6",
        "outputId": "863069f1-1a99-49ed-8b95-e784ef3d66f1"
      },
      "execution_count": null,
      "outputs": [
        {
          "output_type": "execute_result",
          "data": {
            "text/plain": [
              "array([[-0.97124992, -0.23806218],\n",
              "       [ 0.23806218, -0.97124992]])"
            ]
          },
          "metadata": {},
          "execution_count": 8
        }
      ]
    },
    {
      "cell_type": "code",
      "source": [
        "autovector[1]"
      ],
      "metadata": {
        "colab": {
          "base_uri": "https://localhost:8080/"
        },
        "id": "7fFXMrIlrGXS",
        "outputId": "29a256ef-d034-426a-c9d4-c1addd4fa344"
      },
      "execution_count": null,
      "outputs": [
        {
          "output_type": "execute_result",
          "data": {
            "text/plain": [
              "array([ 0.23806218, -0.97124992])"
            ]
          },
          "metadata": {},
          "execution_count": 9
        }
      ]
    },
    {
      "cell_type": "code",
      "source": [
        "autovector[1].shape"
      ],
      "metadata": {
        "colab": {
          "base_uri": "https://localhost:8080/"
        },
        "id": "duS5EjVgE1X-",
        "outputId": "4e0a75aa-6698-4b29-b82c-ce99de7b0af3"
      },
      "execution_count": null,
      "outputs": [
        {
          "output_type": "execute_result",
          "data": {
            "text/plain": [
              "(2,)"
            ]
          },
          "metadata": {},
          "execution_count": 23
        }
      ]
    },
    {
      "cell_type": "code",
      "source": [
        "autovector[1].T.shape"
      ],
      "metadata": {
        "colab": {
          "base_uri": "https://localhost:8080/"
        },
        "id": "67YVqfd_FRaX",
        "outputId": "a302a674-0c8c-4442-dddb-39cd9a9bb671"
      },
      "execution_count": null,
      "outputs": [
        {
          "output_type": "execute_result",
          "data": {
            "text/plain": [
              "(2,)"
            ]
          },
          "metadata": {},
          "execution_count": 25
        }
      ]
    },
    {
      "cell_type": "code",
      "source": [
        "proj = np.dot(autovector[1].T,datos)\n",
        "proj"
      ],
      "metadata": {
        "colab": {
          "base_uri": "https://localhost:8080/"
        },
        "id": "KnMphRXuqgp0",
        "outputId": "47951b35-e6ac-4d51-98fc-c72a8293c73d"
      },
      "execution_count": null,
      "outputs": [
        {
          "output_type": "execute_result",
          "data": {
            "text/plain": [
              "array([-10.20413038, -16.12663594, -30.89544444,  31.26455022,\n",
              "        16.03861858,   8.26861925,  18.95236833, -17.29794561])"
            ]
          },
          "metadata": {},
          "execution_count": 10
        }
      ]
    },
    {
      "cell_type": "code",
      "source": [
        "proj.shape"
      ],
      "metadata": {
        "colab": {
          "base_uri": "https://localhost:8080/"
        },
        "id": "PGNfwObgDozd",
        "outputId": "4decde40-0579-4794-bc4b-94592f84eaf5"
      },
      "execution_count": null,
      "outputs": [
        {
          "output_type": "execute_result",
          "data": {
            "text/plain": [
              "(8,)"
            ]
          },
          "metadata": {},
          "execution_count": 21
        }
      ]
    },
    {
      "cell_type": "code",
      "source": [
        "import matplotlib.pyplot as plt\n",
        "import numpy as np\n",
        "\n",
        "plt.scatter(proj, [0,0,0,0,0,0,0,0])\n",
        "\n",
        "plt.show()"
      ],
      "metadata": {
        "colab": {
          "base_uri": "https://localhost:8080/",
          "height": 430
        },
        "id": "J_hPg3p9usad",
        "outputId": "cb0fc32b-2ab6-4380-85a7-a985294beebb"
      },
      "execution_count": null,
      "outputs": [
        {
          "output_type": "display_data",
          "data": {
            "text/plain": [
              "<Figure size 640x480 with 1 Axes>"
            ],
            "image/png": "[encoded data removed]"
          },
          "metadata": {}
        }
      ]
    },
    {
      "cell_type": "markdown",
      "source": [
        "RetrievedRowData=(RowFeatureVectorT x FinalData)+OriginalMean"
      ],
      "metadata": {
        "id": "Zb_d-uHlYAL3"
      }
    },
    {
      "cell_type": "code",
      "source": [
        "autovector"
      ],
      "metadata": {
        "id": "ZjPGsAf2hKYh",
        "outputId": "7f42683e-39e8-4fd3-fefa-5856dde2b1bb",
        "colab": {
          "base_uri": "https://localhost:8080/"
        }
      },
      "execution_count": null,
      "outputs": [
        {
          "output_type": "execute_result",
          "data": {
            "text/plain": [
              "array([[-0.97124992, -0.23806218],\n",
              "       [ 0.23806218, -0.97124992]])"
            ]
          },
          "metadata": {},
          "execution_count": 12
        }
      ]
    },
    {
      "cell_type": "code",
      "source": [
        "autovector.shape"
      ],
      "metadata": {
        "id": "5NxV2i_NhcH6",
        "outputId": "b76a51be-fbca-420f-c1ae-7f2bd784a553",
        "colab": {
          "base_uri": "https://localhost:8080/"
        }
      },
      "execution_count": null,
      "outputs": [
        {
          "output_type": "execute_result",
          "data": {
            "text/plain": [
              "(2, 2)"
            ]
          },
          "metadata": {},
          "execution_count": 13
        }
      ]
    },
    {
      "cell_type": "code",
      "source": [
        "proj1 = np.dot(autovector.T,datos)\n",
        "proj1"
      ],
      "metadata": {
        "id": "ZlAZFDA8Klg4",
        "outputId": "5307b2f7-b1dc-4c0c-b898-20e8c4d4b661",
        "colab": {
          "base_uri": "https://localhost:8080/"
        }
      },
      "execution_count": null,
      "outputs": [
        {
          "output_type": "execute_result",
          "data": {
            "text/plain": [
              "array([[  7.17973095,  -9.62658345,   2.20947409, -13.02650517,\n",
              "          4.39898969,   6.3034871 ,   3.68480316,  -1.12339637],\n",
              "       [ -7.76399308, -23.20898568, -33.69267501,  28.46731965,\n",
              "         20.38325329,  12.61325396,  23.29700304, -20.09517618]])"
            ]
          },
          "metadata": {},
          "execution_count": 36
        }
      ]
    },
    {
      "cell_type": "code",
      "source": [
        "datosor1 =  np.dot(autovector,proj1)\n",
        "datosor1"
      ],
      "metadata": {
        "id": "CBjxj_J2X7TR",
        "colab": {
          "base_uri": "https://localhost:8080/"
        },
        "outputId": "5d14abda-e98f-472f-f2d7-5e102152d63a"
      },
      "execution_count": null,
      "outputs": [
        {
          "output_type": "execute_result",
          "data": {
            "text/plain": [
              "array([[ -5.125,  14.875,   5.875,   5.875,  -9.125,  -9.125,  -9.125,\n",
              "          5.875],\n",
              "       [  9.25 ,  20.25 ,  33.25 , -30.75 , -18.75 , -10.75 , -21.75 ,\n",
              "         19.25 ]])"
            ]
          },
          "metadata": {},
          "execution_count": 48
        }
      ]
    },
    {
      "cell_type": "code",
      "source": [
        "24.125-8.82"
      ],
      "metadata": {
        "id": "jHXZiey3NAfK",
        "outputId": "209680dd-07ce-47eb-bd04-f87afb1c2110",
        "colab": {
          "base_uri": "https://localhost:8080/"
        }
      },
      "execution_count": null,
      "outputs": [
        {
          "output_type": "execute_result",
          "data": {
            "text/plain": [
              "15.305"
            ]
          },
          "metadata": {},
          "execution_count": 47
        }
      ]
    },
    {
      "cell_type": "code",
      "source": [
        "prueba = datosor1 + datosorig.mean(axis=1)[:, np.newaxis]"
      ],
      "metadata": {
        "id": "ExfA8YhNh_AJ"
      },
      "execution_count": null,
      "outputs": []
    },
    {
      "cell_type": "code",
      "source": [
        "prueba"
      ],
      "metadata": {
        "colab": {
          "base_uri": "https://localhost:8080/"
        },
        "id": "SUeFXIRoYSou",
        "outputId": "9bad76d2-472e-4096-e830-8db1f1b8ab40"
      },
      "execution_count": null,
      "outputs": [
        {
          "output_type": "execute_result",
          "data": {
            "text/plain": [
              "array([[19., 39., 30., 30., 15., 15., 15., 30.],\n",
              "       [63., 74., 87., 23., 35., 43., 32., 73.]])"
            ]
          },
          "metadata": {},
          "execution_count": 50
        }
      ]
    },
    {
      "cell_type": "code",
      "source": [
        "datosorig.mean(axis=1)"
      ],
      "metadata": {
        "colab": {
          "base_uri": "https://localhost:8080/"
        },
        "id": "5eSy5KiBZaql",
        "outputId": "f4a2bf11-e629-4521-d5ee-862b64238c75"
      },
      "execution_count": null,
      "outputs": [
        {
          "output_type": "execute_result",
          "data": {
            "text/plain": [
              "array([24.125, 53.75 ])"
            ]
          },
          "metadata": {},
          "execution_count": 126
        }
      ]
    },
    {
      "cell_type": "code",
      "source": [
        "datosorig"
      ],
      "metadata": {
        "colab": {
          "base_uri": "https://localhost:8080/"
        },
        "id": "FtfMtq3nf9yL",
        "outputId": "667aa66d-6976-40db-eb9c-ee6620c06e0e"
      },
      "execution_count": null,
      "outputs": [
        {
          "output_type": "execute_result",
          "data": {
            "text/plain": [
              "array([[19, 39, 30, 30, 15, 15, 15, 30],\n",
              "       [63, 74, 87, 23, 35, 43, 32, 73]])"
            ]
          },
          "metadata": {},
          "execution_count": 128
        }
      ]
    },
    {
      "cell_type": "code",
      "source": [],
      "metadata": {
        "id": "ha4z9beTqgWq"
      },
      "execution_count": null,
      "outputs": []
    },
    {
      "cell_type": "code",
      "source": [],
      "metadata": {
        "id": "BhtTPhWmp5jo"
      },
      "execution_count": null,
      "outputs": []
    },
    {
      "cell_type": "code",
      "source": [
        "x1 = [19.,39.,30.,30.,15.,15.,15.,30.]\n",
        "x2 =  [63.,74.,87.,23.,35.,43.,32.,73.]\n",
        "N=np.size(x1)\n",
        "X = np.column_stack([x1, x2])\n",
        "X -= X.mean(axis=0)\n",
        "fact = N-1\n",
        "by_hand = np.dot(X.T, X.conj()) / fact\n",
        "print(by_hand)"
      ],
      "metadata": {
        "id": "uLgDCtzxkuOW",
        "outputId": "8688db85-02ba-4908-b6b1-d64f8a977958",
        "colab": {
          "base_uri": "https://localhost:8080/"
        }
      },
      "execution_count": null,
      "outputs": [
        {
          "output_type": "stream",
          "name": "stdout",
          "text": [
            "[[ 85.83928571 121.32142857]\n",
            " [121.32142857 551.07142857]]\n"
          ]
        }
      ]
    },
    {
      "cell_type": "code",
      "source": [
        "autovalor, autovector = np.linalg.eig(by_hand )\n",
        "autovalor"
      ],
      "metadata": {
        "id": "XGN0fkzHmK4N",
        "outputId": "c5fe2ec4-f198-4653-9ef5-65211f0eb977",
        "colab": {
          "base_uri": "https://localhost:8080/"
        }
      },
      "execution_count": null,
      "outputs": [
        {
          "output_type": "execute_result",
          "data": {
            "text/plain": [
              "array([ 56.10230167, 580.80841262])"
            ]
          },
          "metadata": {},
          "execution_count": 23
        }
      ]
    },
    {
      "cell_type": "code",
      "source": [
        "autovector"
      ],
      "metadata": {
        "id": "-AYqQEBOmkAT",
        "outputId": "87d36d57-0201-431d-eaa4-b93882c72bd8",
        "colab": {
          "base_uri": "https://localhost:8080/"
        }
      },
      "execution_count": null,
      "outputs": [
        {
          "output_type": "execute_result",
          "data": {
            "text/plain": [
              "array([[-0.97124992, -0.23806218],\n",
              "       [ 0.23806218, -0.97124992]])"
            ]
          },
          "metadata": {},
          "execution_count": 24
        }
      ]
    },
    {
      "cell_type": "code",
      "source": [
        "W"
      ],
      "metadata": {
        "id": "yGcGRLVQoUkW"
      },
      "execution_count": null,
      "outputs": []
    },
    {
      "cell_type": "code",
      "source": [],
      "metadata": {
        "id": "bMwDjIR8oUTg"
      },
      "execution_count": null,
      "outputs": []
    },
    {
      "cell_type": "code",
      "source": [
        "autovalor, autovector = np.linalg.eig(A)"
      ],
      "metadata": {
        "id": "wkt3yrATVUo8"
      },
      "execution_count": null,
      "outputs": []
    },
    {
      "cell_type": "code",
      "source": [
        "autovalor"
      ],
      "metadata": {
        "colab": {
          "base_uri": "https://localhost:8080/"
        },
        "id": "uRA3Cpl2aJyS",
        "outputId": "b414787e-c028-40f4-d158-a3297f0f55c4"
      },
      "execution_count": null,
      "outputs": [
        {
          "output_type": "execute_result",
          "data": {
            "text/plain": [
              "array([ 56.10230167, 580.80841262])"
            ]
          },
          "metadata": {},
          "execution_count": 26
        }
      ]
    },
    {
      "cell_type": "code",
      "source": [
        "autovector"
      ],
      "metadata": {
        "colab": {
          "base_uri": "https://localhost:8080/"
        },
        "id": "dw1s_i4_aN1h",
        "outputId": "7b755985-328b-40d6-91f5-6c488c8b3037"
      },
      "execution_count": null,
      "outputs": [
        {
          "output_type": "execute_result",
          "data": {
            "text/plain": [
              "array([[-0.97124992, -0.23806218],\n",
              "       [ 0.23806218, -0.97124992]])"
            ]
          },
          "metadata": {},
          "execution_count": 16
        }
      ]
    },
    {
      "cell_type": "code",
      "source": [],
      "metadata": {
        "id": "361qRwiwgof2"
      },
      "execution_count": null,
      "outputs": []
    },
    {
      "cell_type": "code",
      "source": [
        "x = [2.5,0.5,2.2,1.9,3.1,2.3,2,1,1.5,1.2]\n",
        "y= [2.4,0.7,2.9,2.2,3.0,2.7,1.6,1.1,1.6,0.9]\n",
        "datos = np.stack((x, y), axis=0)\n",
        "datos"
      ],
      "metadata": {
        "id": "_p7jORDjVUrk",
        "colab": {
          "base_uri": "https://localhost:8080/"
        },
        "outputId": "26fabc41-9bf1-455a-8f59-65be3c746df2"
      },
      "execution_count": null,
      "outputs": [
        {
          "output_type": "execute_result",
          "data": {
            "text/plain": [
              "array([[2.5, 0.5, 2.2, 1.9, 3.1, 2.3, 2. , 1. , 1.5, 1.2],\n",
              "       [2.4, 0.7, 2.9, 2.2, 3. , 2.7, 1.6, 1.1, 1.6, 0.9]])"
            ]
          },
          "metadata": {},
          "execution_count": 17
        }
      ]
    },
    {
      "cell_type": "code",
      "source": [
        "b1 = [2.5,0.5,2.2,1.9,3.1,2.3,2,1,1.5,1.2]\n",
        "b2 =  [2.4,0.7,2.9,2.2,3.0,2.7,1.6,1.1,1.6,0.9]\n",
        "N=np.size(b1)\n",
        "X = np.column_stack([b1, b2])\n",
        "X -= X.mean(axis=0)\n",
        "fact = N-1\n",
        "by_hand = np.dot(X.T, X.conj()) / fact\n",
        "print(by_hand)"
      ],
      "metadata": {
        "id": "3-TPjXLmjPtF",
        "outputId": "d225f82a-ef31-4ddc-e4d5-a32ffc6cdc0f",
        "colab": {
          "base_uri": "https://localhost:8080/"
        }
      },
      "execution_count": null,
      "outputs": [
        {
          "output_type": "stream",
          "name": "stdout",
          "text": [
            "[[0.60177778 0.60422222]\n",
            " [0.60422222 0.71655556]]\n"
          ]
        }
      ]
    },
    {
      "cell_type": "code",
      "source": [
        "Z = np.cov(x,y)\n",
        "Z"
      ],
      "metadata": {
        "id": "OpouVIrojDW2",
        "outputId": "fa511ce9-6630-4d62-d3be-f181674c870b",
        "colab": {
          "base_uri": "https://localhost:8080/"
        }
      },
      "execution_count": null,
      "outputs": [
        {
          "output_type": "execute_result",
          "data": {
            "text/plain": [
              "array([[0.60177778, 0.60422222],\n",
              "       [0.60422222, 0.71655556]])"
            ]
          },
          "metadata": {},
          "execution_count": 18
        }
      ]
    },
    {
      "cell_type": "code",
      "source": [
        "A=np.cov(datos)\n",
        "A"
      ],
      "metadata": {
        "colab": {
          "base_uri": "https://localhost:8080/"
        },
        "id": "Uom-ctFsgpec",
        "outputId": "40946fa2-4787-4551-a28c-ecfb00274ae3"
      },
      "execution_count": null,
      "outputs": [
        {
          "output_type": "execute_result",
          "data": {
            "text/plain": [
              "array([[0.60177778, 0.60422222],\n",
              "       [0.60422222, 0.71655556]])"
            ]
          },
          "metadata": {},
          "execution_count": 19
        }
      ]
    },
    {
      "cell_type": "code",
      "source": [
        "autovalor, autovector = np.linalg.eig(A)"
      ],
      "metadata": {
        "id": "Me8PVFmHg-P2"
      },
      "execution_count": null,
      "outputs": []
    },
    {
      "cell_type": "code",
      "source": [
        "autovalor"
      ],
      "metadata": {
        "colab": {
          "base_uri": "https://localhost:8080/"
        },
        "id": "SWq2_CnPhADl",
        "outputId": "a24c0eb2-fc4f-4319-99b1-5896e8b0dfb8"
      },
      "execution_count": null,
      "outputs": [
        {
          "output_type": "execute_result",
          "data": {
            "text/plain": [
              "array([0.04702256, 1.13951381])"
            ]
          },
          "metadata": {},
          "execution_count": 7
        }
      ]
    },
    {
      "cell_type": "code",
      "source": [
        "data_reduced = np.dot(data - pca.mean_, pca.components_.T)"
      ],
      "metadata": {
        "id": "N37MNit51-Jw"
      },
      "execution_count": null,
      "outputs": []
    },
    {
      "cell_type": "code",
      "source": [
        "data_original = np.dot(data_reduced, pca.components_) + pca.mean_"
      ],
      "metadata": {
        "id": "S-8Y4Tjw19IW"
      },
      "execution_count": null,
      "outputs": []
    },
    {
      "cell_type": "markdown",
      "source": [
        "If your data already has zero mean in each column, you can ignore the pca.mean_ above, for example\n",
        "\n",
        "import numpy as np\n",
        "from sklearn.decomposition import PCA\n",
        "\n",
        "pca = PCA(n_components=3)\n",
        "pca.fit(data)\n",
        "\n",
        "data_reduced = np.dot(data, pca.components_.T) # transform\n",
        "data_original = np.dot(data_reduced, pca.components_) # inverse_transform"
      ],
      "metadata": {
        "id": "wnle_SZH2kOW"
      }
    },
    {
      "cell_type": "markdown",
      "source": [
        "For doing it manually, and truncating dimensions, data_reduced = np.dot(data, pca.components_.T[:,:dim]), and back data_original = np.dot(data_reduced, pca.components_[:dim, :])"
      ],
      "metadata": {
        "id": "j7tUZAMU2xJm"
      }
    },
    {
      "cell_type": "markdown",
      "source": [
        "https://github.com/scikit-learn/scikit-learn/blob/a95203b/sklearn/decomposition/pca.py#L99"
      ],
      "metadata": {
        "id": "SYar6lHu3JP9"
      }
    },
    {
      "cell_type": "markdown",
      "source": [
        "For doing it manually, and truncating dimensions, data_reduced = np.dot(data, pca.components_.T[:,:dim]), and back data_original = np.dot(data_reduced, pca.components_[:dim, :]) –\n",
        "Gulzar\n",
        " CommentedNov 30, 2019 at 20:38"
      ],
      "metadata": {
        "id": "l9MpanDHHX_s"
      }
    },
    {
      "cell_type": "markdown",
      "source": [
        "Secondly, the shape of PCA.components_ is (n_components, n_features) while the shape of data to transform is (n_samples, n_features), so you need to transpose PCA.components_ to perform dot product.\n",
        "\n",
        "Moreover, the first step of transform is to subtract the mean, therefore if you do it manually, you also need to subtract the mean at first.\n",
        "\n",
        "The correct way to transform is\n",
        "\n",
        "data_reduced = np.dot(data - pca.mean_, pca.components_.T)\n",
        "2) inverse_transform is just the inverse process of transform\n",
        "\n",
        "data_original = np.dot(data_reduced, pca.components_) + pca.mean_"
      ],
      "metadata": {
        "id": "5FE45Q_VHZkS"
      }
    },
    {
      "cell_type": "markdown",
      "source": [
        "For doing it manually, and truncating dimensions, data_reduced = np.dot(data, pca.components_.T[:,:dim]), and back data_original = np.dot(data_reduced, pca.components_[:dim, :]) –\n",
        "Gulzar\n",
        " CommentedNov 30, 2019 at 20:38"
      ],
      "metadata": {
        "id": "fpbupYV1Sk3Q"
      }
    },
    {
      "cell_type": "code",
      "source": [
        "from numpy.random import rand\n",
        "from sklearn.decomposition import PCA\n",
        "\n",
        "# PCA transform\n",
        "data = rand(100, 10)\n",
        "n_dim = data.shape[1]\n",
        "pca = PCA(n_dim)\n",
        "transformed = pca.fit_transform(data)\n",
        "\n",
        "# Inverse PCA\n",
        "def inverse_pca(pca_data, pca, remove_n):\n",
        "    transformed = pca_data.copy()\n",
        "    transformed[:, -remove_n:] = 0\n",
        "    return pca.inverse_transform(transformed)\n",
        "\n"
      ],
      "metadata": {
        "id": "4u50tMD6I28a"
      },
      "execution_count": null,
      "outputs": []
    },
    {
      "cell_type": "code",
      "source": [
        "new_data = inverse_pca(transformed, pca, 1)"
      ],
      "metadata": {
        "id": "pTC4otohJVOr"
      },
      "execution_count": null,
      "outputs": []
    },
    {
      "cell_type": "code",
      "source": [
        "new_data[:3]"
      ],
      "metadata": {
        "colab": {
          "base_uri": "https://localhost:8080/"
        },
        "id": "9UEJoSrzJIPy",
        "outputId": "ba18e525-5ecf-4f5f-bbba-b242c6785b03"
      },
      "execution_count": null,
      "outputs": [
        {
          "output_type": "execute_result",
          "data": {
            "text/plain": [
              "array([[0.3942601 , 0.33713574, 0.69003481, 0.56520431, 0.10216222,\n",
              "        0.92370359, 0.2015573 , 0.56920371, 0.56958712, 0.52273329],\n",
              "       [0.69151678, 0.79737433, 0.56579425, 0.75676493, 0.50322428,\n",
              "        0.7989385 , 0.41863082, 0.07946876, 0.53686306, 0.86224734],\n",
              "       [0.86731551, 0.29366595, 0.84019149, 0.18898075, 0.72960807,\n",
              "        0.8356996 , 0.3629377 , 0.67810949, 0.70128004, 0.79610863]])"
            ]
          },
          "metadata": {},
          "execution_count": 10
        }
      ]
    },
    {
      "cell_type": "code",
      "source": [
        "data[:3]"
      ],
      "metadata": {
        "colab": {
          "base_uri": "https://localhost:8080/"
        },
        "id": "QbG3Kl2BJCB5",
        "outputId": "5211b765-e02c-4333-f6b1-4636ffbe519e"
      },
      "execution_count": null,
      "outputs": [
        {
          "output_type": "execute_result",
          "data": {
            "text/plain": [
              "array([[0.39511145, 0.30805767, 0.61395804, 0.47224143, 0.06082482,\n",
              "        0.94154012, 0.20102868, 0.53002582, 0.50350177, 0.57885943],\n",
              "       [0.69047081, 0.83309982, 0.65926261, 0.87097967, 0.55401165,\n",
              "        0.77702443, 0.41928029, 0.12760294, 0.6180559 , 0.79329043],\n",
              "       [0.86844285, 0.25516158, 0.73945278, 0.06588194, 0.67487025,\n",
              "        0.85931823, 0.36223772, 0.62623124, 0.61377169, 0.87042928]])"
            ]
          },
          "metadata": {},
          "execution_count": 8
        }
      ]
    },
    {
      "cell_type": "markdown",
      "source": [],
      "metadata": {
        "id": "sdkF1fJI2zxN"
      }
    },
    {
      "cell_type": "code",
      "source": [
        "autovector"
      ],
      "metadata": {
        "colab": {
          "base_uri": "https://localhost:8080/"
        },
        "id": "2n7sXxmUg_3t",
        "outputId": "de91e2bf-107b-457b-fba7-e7baa2b779b2"
      },
      "execution_count": null,
      "outputs": [
        {
          "output_type": "execute_result",
          "data": {
            "text/plain": [
              "array([[-0.73977066, -0.67285911],\n",
              "       [ 0.67285911, -0.73977066]])"
            ]
          },
          "metadata": {},
          "execution_count": 8
        }
      ]
    },
    {
      "cell_type": "code",
      "source": [
        "import pandas as pd\n",
        "import numpy as np\n",
        "from sklearn import datasets\n",
        "from sklearn.decomposition import PCA\n",
        "import seaborn as sns; sns.set()\n",
        "\n",
        "iris = datasets.load_iris()\n",
        "data = iris.data\n",
        "pd.options.display.float_format = '{:,.4f}'.format\n",
        "data1 = pd.DataFrame(data= np.c_[iris['data'], iris['target']],\n",
        "columns= iris['feature_names'] + ['target'])\n",
        "data1 = data1.iloc[:,0:4]\n",
        "print(data1.shape)\n",
        "samples = pd.DataFrame(data1.loc[[0,1,2]], columns = data1.keys()).reset_index(drop = True)\n",
        "print(samples)\n",
        "pca = PCA(n_components=2)\n",
        "pca.fit(data1)\n",
        "pca_data1 = pca.transform(data1)\n",
        "pca_samples = pca.transform(samples)\n",
        "print(pca.inverse_transform(pca_samples))"
      ],
      "metadata": {
        "id": "J9eAT2888Q1M",
        "outputId": "12d86269-f8ee-4913-df79-489a7bc21816",
        "colab": {
          "base_uri": "https://localhost:8080/"
        }
      },
      "execution_count": null,
      "outputs": [
        {
          "output_type": "stream",
          "name": "stdout",
          "text": [
            "(150, 4)\n",
            "   sepal length (cm)  sepal width (cm)  petal length (cm)  petal width (cm)\n",
            "0             5.1000            3.5000             1.4000            0.2000\n",
            "1             4.9000            3.0000             1.4000            0.2000\n",
            "2             4.7000            3.2000             1.3000            0.2000\n",
            "[[5.08303897 3.51741393 1.40321372 0.21353169]\n",
            " [4.7462619  3.15749994 1.46356177 0.24024592]\n",
            " [4.70411871 3.1956816  1.30821697 0.17518015]]\n"
          ]
        }
      ]
    },
    {
      "cell_type": "code",
      "source": [
        "print(data1.shape)"
      ],
      "metadata": {
        "colab": {
          "base_uri": "https://localhost:8080/"
        },
        "id": "rsQ1fZwNGefH",
        "outputId": "fc514e11-6cb4-46b9-e0b6-c1d713ec5a0f"
      },
      "execution_count": null,
      "outputs": [
        {
          "output_type": "stream",
          "name": "stdout",
          "text": [
            "(150, 4)\n"
          ]
        }
      ]
    },
    {
      "cell_type": "code",
      "source": [
        "from sklearn.datasets import load_iris\n",
        "X=load_iris()\n",
        "X = iris.data\n",
        "X.shape\n",
        "print (X[0:5])"
      ],
      "metadata": {
        "colab": {
          "base_uri": "https://localhost:8080/"
        },
        "id": "6glxfMkeGezL",
        "outputId": "d1e6e9cf-35ad-47ba-db5b-da64d07f61ad"
      },
      "execution_count": 21,
      "outputs": [
        {
          "output_type": "stream",
          "name": "stdout",
          "text": [
            "[[5.1 3.5 1.4 0.2]\n",
            " [4.9 3.  1.4 0.2]\n",
            " [4.7 3.2 1.3 0.2]\n",
            " [4.6 3.1 1.5 0.2]\n",
            " [5.  3.6 1.4 0.2]]\n"
          ]
        }
      ]
    },
    {
      "cell_type": "code",
      "source": [
        "from sklearn.preprocessing import StandardScaler\n",
        "scaler = StandardScaler()\n",
        "X_std = scaler.fit_transform(X)\n",
        "print (X_std[0:5])\n",
        "print (\"The shape of Feature Matrix is -\",X_std.shape)"
      ],
      "metadata": {
        "colab": {
          "base_uri": "https://localhost:8080/"
        },
        "id": "982vMGsKIpGh",
        "outputId": "1d151ec8-d8a7-401b-c18b-9be402ee39be"
      },
      "execution_count": 31,
      "outputs": [
        {
          "output_type": "stream",
          "name": "stdout",
          "text": [
            "[[-0.90068117  1.01900435 -1.34022653 -1.3154443 ]\n",
            " [-1.14301691 -0.13197948 -1.34022653 -1.3154443 ]\n",
            " [-1.38535265  0.32841405 -1.39706395 -1.3154443 ]\n",
            " [-1.50652052  0.09821729 -1.2833891  -1.3154443 ]\n",
            " [-1.02184904  1.24920112 -1.34022653 -1.3154443 ]]\n",
            "The shape of Feature Matrix is - (150, 4)\n"
          ]
        }
      ]
    },
    {
      "cell_type": "code",
      "source": [
        "X_covariance_matrix = np.cov(X_std.T)\n",
        "X_covariance_matrix"
      ],
      "metadata": {
        "colab": {
          "base_uri": "https://localhost:8080/"
        },
        "id": "6uiceuuTIpWM",
        "outputId": "ff61de54-376e-4ffe-a65a-fe7ac7f07756"
      },
      "execution_count": 23,
      "outputs": [
        {
          "output_type": "execute_result",
          "data": {
            "text/plain": [
              "array([[ 1.00671141, -0.11835884,  0.87760447,  0.82343066],\n",
              "       [-0.11835884,  1.00671141, -0.43131554, -0.36858315],\n",
              "       [ 0.87760447, -0.43131554,  1.00671141,  0.96932762],\n",
              "       [ 0.82343066, -0.36858315,  0.96932762,  1.00671141]])"
            ]
          },
          "metadata": {},
          "execution_count": 23
        }
      ]
    },
    {
      "cell_type": "code",
      "source": [
        "eig_vals, eig_vecs = np.linalg.eig(X_covariance_matrix)\n",
        "\n",
        "print('Eigenvectors \\n%s' %eig_vecs)\n",
        "print('\\nEigenvalues \\n%s' %eig_vals)"
      ],
      "metadata": {
        "colab": {
          "base_uri": "https://localhost:8080/"
        },
        "id": "mu3CoEISIpjL",
        "outputId": "6653e2aa-cf8e-49df-be78-f80ac803c85e"
      },
      "execution_count": 24,
      "outputs": [
        {
          "output_type": "stream",
          "name": "stdout",
          "text": [
            "Eigenvectors \n",
            "[[ 0.52106591 -0.37741762 -0.71956635  0.26128628]\n",
            " [-0.26934744 -0.92329566  0.24438178 -0.12350962]\n",
            " [ 0.5804131  -0.02449161  0.14212637 -0.80144925]\n",
            " [ 0.56485654 -0.06694199  0.63427274  0.52359713]]\n",
            "\n",
            "Eigenvalues \n",
            "[2.93808505 0.9201649  0.14774182 0.02085386]\n"
          ]
        }
      ]
    },
    {
      "cell_type": "code",
      "source": [
        "# Make a list of (eigenvalue, eigenvector) tuples\n",
        "eig_pairs = [(np.abs(eig_vals[i]), eig_vecs[:,i]) for i in range(len(eig_vals))]\n",
        "\n",
        "# Sort the (eigenvalue, eigenvector) tuples from high to low\n",
        "eig_pairs.sort(key=lambda x: x[0], reverse=True)\n",
        "\n",
        "# Visually confirm that the list is correctly sorted by decreasing eigenvalues\n",
        "print('Eigenvalues in descending order:')\n",
        "for i in eig_pairs:\n",
        "    print(i[0])"
      ],
      "metadata": {
        "colab": {
          "base_uri": "https://localhost:8080/"
        },
        "id": "v47AuC9iGfA7",
        "outputId": "a8ebcb64-55e3-45c3-cf2e-b79c608228f4"
      },
      "execution_count": 25,
      "outputs": [
        {
          "output_type": "stream",
          "name": "stdout",
          "text": [
            "Eigenvalues in descending order:\n",
            "2.938085050199995\n",
            "0.9201649041624864\n",
            "0.1477418210449475\n",
            "0.020853862176462696\n"
          ]
        }
      ]
    },
    {
      "cell_type": "code",
      "source": [
        "tot = sum(eig_vals)\n",
        "var_exp = [(i / tot)*100 for i in sorted(eig_vals, reverse=True)]\n",
        "cum_var_exp = np.cumsum(var_exp)\n",
        "print(\"Variance captured by each component is \\n\",var_exp)\n",
        "print(40 * '-')\n",
        "print(\"Cumulative variance captured as we travel each component \\n\",cum_var_exp)"
      ],
      "metadata": {
        "id": "FW1pqRYCL0cj",
        "outputId": "98269d78-8876-4187-b036-10d04b1ab50c",
        "colab": {
          "base_uri": "https://localhost:8080/"
        }
      },
      "execution_count": 26,
      "outputs": [
        {
          "output_type": "stream",
          "name": "stdout",
          "text": [
            "Variance captured by each component is \n",
            " [np.float64(72.96244541329989), np.float64(22.850761786701753), np.float64(3.668921889282865), np.float64(0.5178709107154905)]\n",
            "----------------------------------------\n",
            "Cumulative variance captured as we travel each component \n",
            " [ 72.96244541  95.8132072   99.48212909 100.        ]\n"
          ]
        }
      ]
    },
    {
      "cell_type": "code",
      "source": [
        "Y = np.dot(X_std,eig_vecs.T)\n",
        "print(Y[0:5])"
      ],
      "metadata": {
        "id": "Ky7isWeqL0qG",
        "outputId": "73245ca7-2e8a-479d-cd2d-3518de50b0f1",
        "colab": {
          "base_uri": "https://localhost:8080/"
        }
      },
      "execution_count": 27,
      "outputs": [
        {
          "output_type": "stream",
          "name": "stdout",
          "text": [
            "[[-0.23323008 -0.86330304  0.31605611 -2.11580183]\n",
            " [ 0.0748986   0.26466784  0.20359071 -2.17563762]\n",
            " [-0.18423663 -0.10902903  0.043582   -2.37939263]\n",
            " [-0.24228936  0.16392697 -0.00495133 -2.3603244 ]\n",
            " [-0.38324685 -1.04320646  0.2400908  -2.19965413]]\n"
          ]
        }
      ]
    },
    {
      "cell_type": "code",
      "source": [
        "#####EXCEtENTE\n",
        "\n",
        "orig=np.dot(Y,eig_vecs)\n",
        "print(orig[0:5])"
      ],
      "metadata": {
        "id": "9JyVqZuQL02X",
        "outputId": "b142771e-b310-4298-894e-347749d981d2",
        "colab": {
          "base_uri": "https://localhost:8080/"
        }
      },
      "execution_count": 28,
      "outputs": [
        {
          "output_type": "stream",
          "name": "stdout",
          "text": [
            "[[-0.90068117  1.01900435 -1.34022653 -1.3154443 ]\n",
            " [-1.14301691 -0.13197948 -1.34022653 -1.3154443 ]\n",
            " [-1.38535265  0.32841405 -1.39706395 -1.3154443 ]\n",
            " [-1.50652052  0.09821729 -1.2833891  -1.3154443 ]\n",
            " [-1.02184904  1.24920112 -1.34022653 -1.3154443 ]]\n"
          ]
        }
      ]
    },
    {
      "cell_type": "code",
      "source": [
        "inversa = scaler.inverse_transform(X_std)\n",
        "print(inversa[0:5])"
      ],
      "metadata": {
        "id": "WqpW4g1nL042",
        "colab": {
          "base_uri": "https://localhost:8080/"
        },
        "outputId": "78188983-e9fc-485f-eeb0-1d39108a328d"
      },
      "execution_count": 33,
      "outputs": [
        {
          "output_type": "stream",
          "name": "stdout",
          "text": [
            "[[5.1 3.5 1.4 0.2]\n",
            " [4.9 3.  1.4 0.2]\n",
            " [4.7 3.2 1.3 0.2]\n",
            " [4.6 3.1 1.5 0.2]\n",
            " [5.  3.6 1.4 0.2]]\n"
          ]
        }
      ]
    },
    {
      "cell_type": "code",
      "source": [
        "y_new_inverse = scalery.inverse_transform(y_new)\n"
      ],
      "metadata": {
        "id": "GBD36p1FTYtp"
      },
      "execution_count": null,
      "outputs": []
    },
    {
      "cell_type": "code",
      "source": [],
      "metadata": {
        "id": "Lc8cGZsCGfNX"
      },
      "execution_count": null,
      "outputs": []
    },
    {
      "cell_type": "code",
      "source": [
        "import numpy as np\n",
        "#Original dataset X\n",
        "X=np.array([[11,2,25],[12,20, 31],[5,6,7],[200,10,22]])\n",
        "\n",
        "#Get covariance matrix from X, if using numpy.cov,\n",
        "#make sure set parameter rowvar to False\n",
        "\n",
        "covX=np.cov(X, rowvar=False)\n",
        "\n",
        "#Get eigenvalues and eigenvectors from covX\n",
        "eigenvals, eigenvecs = np.linalg.eig(covX)\n",
        "\n",
        "#pair the eigenvalue and corresponding eigenvector\n",
        "pair = [(i[0], i[1]) for i in zip(eigenvals, eigenvecs)]\n",
        "#Sort the eigenvectors by its eigenvalues in descending order\n",
        "sortedPair=[[i[0], i[1]] for i in sorted(pair, key=lambda x: abs(x[0]), reverse=True)]\n",
        "\n",
        "#Get sorted eigenvectors, keep the sort order.\n",
        "W=np.array([i[1] for i in sortedPair])\n",
        "\n",
        "def findTopPrincipalComponentNumber(eigenvals:list,threshold:int=0.80) -> (int, float):\n",
        "        ''' findTopPrincipalComponentNumber will return k number that will meet the threshold'''\n",
        "        total = sum(eigenvals)\n",
        "        #Sort the Eigenvalues in descending order,\n",
        "        #calculate each eiganvalue that contains percentage of information in raw dataset\n",
        "        eachPercentList = [(i / total) for i in sorted(eigenvals, reverse=True)]\n",
        "        cumulativePercept=0\n",
        "        cumulativePerceptList=[]\n",
        "        for i in eachPercentList:\n",
        "            cumulativePercept+=i\n",
        "            cumulativePerceptList.append(cumulativePercept)\n",
        "            if cumulativePercept >= threshold:\n",
        "                break\n",
        "        return (len(cumulativePerceptList), float(cumulativePerceptList[-1]))\n",
        "#get the k to have 95% of the original information from raw dataset\n",
        "bestK, coveredPercentage = findTopPrincipalComponentNumber(eigenvals, 0.95)\n",
        "\n",
        "#pca projected dataset is X times W\n",
        "Z=np.matmul(X, W)\n",
        "\n",
        "#Get bestK columns from Z, to created dimension reduced dataset pcaZ\n",
        "#that has 98% of the information from original X\n",
        "pcaZ=[]\n",
        "for i in Z.tolist():\n",
        "    subZ=[]\n",
        "    for j in range(bestK):\n",
        "        subZ.append(i[j])\n",
        "    pcaZ.append(subZ)\n",
        "\n",
        "#To reconstruct, can not use pcaZ, need to use Z\n",
        "#Since Z = X times W, then X = Z times inversed(W)\n",
        "restoredX = np.matmul(Z, np.linalg.inv(W))\n",
        "\n",
        "#Restored original dataset, that should match original raw dataset X\n",
        "restoredX\n",
        "\n",
        "'''\n",
        "array([[ 11.,   2.,  25.],\n",
        "       [ 12.,  20.,  31.],\n",
        "       [  5.,   6.,   7.],\n",
        "       [200.,  10.,  22.]])\n",
        "'''\n",
        "\n",
        "#Original raw dataset\n",
        "X\n",
        "\n",
        "'''\n",
        "array([[ 11,   2,  25],\n",
        "       [ 12,  20,  31],\n",
        "       [  5,   6,   7],\n",
        "       [200,  10,  22]])\n",
        "'''"
      ],
      "metadata": {
        "colab": {
          "base_uri": "https://localhost:8080/",
          "height": 42
        },
        "id": "ltR42NAEQKvI",
        "outputId": "1c73c761-7e6f-430a-833a-7d90dc26e384"
      },
      "execution_count": null,
      "outputs": [
        {
          "output_type": "execute_result",
          "data": {
            "text/plain": [
              "'\\narray([[ 11,   2,  25],\\n       [ 12,  20,  31],\\n       [  5,   6,   7],\\n       [200,  10,  22]])\\n'"
            ],
            "application/vnd.google.colaboratory.intrinsic+json": {
              "type": "string"
            }
          },
          "metadata": {},
          "execution_count": 11
        }
      ]
    },
    {
      "cell_type": "markdown",
      "source": [],
      "metadata": {
        "id": "4CFsr1kRRVIn"
      }
    },
    {
      "cell_type": "code",
      "source": [
        "import numpy as np\n",
        "import sklearn.datasets, sklearn.decomposition\n",
        "\n",
        "X = sklearn.datasets.load_iris().data\n",
        "mu = np.mean(X, axis=0)\n",
        "\n",
        "pca = sklearn.decomposition.PCA()\n",
        "pca.fit(X)\n",
        "\n",
        "nComp = 2\n",
        "Xhat = np.dot(pca.transform(X)[:,:nComp], pca.components_[:nComp,:])\n",
        "Xhat += mu\n",
        "\n",
        "print(Xhat[0,])"
      ],
      "metadata": {
        "colab": {
          "base_uri": "https://localhost:8080/"
        },
        "id": "Qp0S8r0dRTQH",
        "outputId": "49c659ab-a8f1-4c5e-acd2-eee8709b1cb6"
      },
      "execution_count": null,
      "outputs": [
        {
          "output_type": "stream",
          "name": "stdout",
          "text": [
            "[5.08303897 3.51741393 1.40321372 0.21353169]\n"
          ]
        }
      ]
    }
  ]
}