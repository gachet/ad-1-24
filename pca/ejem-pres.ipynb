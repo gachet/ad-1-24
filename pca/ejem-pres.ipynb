{
  "nbformat": 4,
  "nbformat_minor": 0,
  "metadata": {
    "colab": {
      "provenance": [],
      "authorship_tag": "ABX9TyPHoN50hyyaiIlmdZ3Ru3/R",
      "include_colab_link": true
    },
    "kernelspec": {
      "name": "python3",
      "display_name": "Python 3"
    },
    "language_info": {
      "name": "python"
    }
  },
  "cells": [
    {
      "cell_type": "markdown",
      "metadata": {
        "id": "view-in-github",
        "colab_type": "text"
      },
      "source": [
        "<a href=\"https://colab.research.google.com/github/gachet/ad-1-24/blob/main/pca/ejem-pres.ipynb\" target=\"_parent\"><img src=\"https://colab.research.google.com/assets/colab-badge.svg\" alt=\"Open In Colab\"/></a>"
      ]
    },
    {
      "cell_type": "code",
      "execution_count": 13,
      "metadata": {
        "id": "wg8G_5xsVToz"
      },
      "outputs": [],
      "source": [
        "import numpy as np # importando numpy\n",
        "from scipy import stats # importando scipy.stats\n",
        "import pandas as pd # importando pandas\n",
        "\n"
      ]
    },
    {
      "cell_type": "code",
      "source": [
        "x = [19,39,30,30,15,15,15,30]\n",
        "y= [63,74,87,23,35,43,32,73]\n",
        "x = x- np.mean(x)\n",
        "y = y-np.mean(y)\n",
        "datos =np.stack ((x, y), axis=0).T\n",
        "datos"
      ],
      "metadata": {
        "colab": {
          "base_uri": "https://localhost:8080/"
        },
        "id": "5gFMu9hKVUbl",
        "outputId": "9e7929c6-a103-4fee-bccc-8a0a5c7c77f9"
      },
      "execution_count": 19,
      "outputs": [
        {
          "output_type": "execute_result",
          "data": {
            "text/plain": [
              "array([[ -5.125,   9.25 ],\n",
              "       [ 14.875,  20.25 ],\n",
              "       [  5.875,  33.25 ],\n",
              "       [  5.875, -30.75 ],\n",
              "       [ -9.125, -18.75 ],\n",
              "       [ -9.125, -10.75 ],\n",
              "       [ -9.125, -21.75 ],\n",
              "       [  5.875,  19.25 ]])"
            ]
          },
          "metadata": {},
          "execution_count": 19
        }
      ]
    },
    {
      "cell_type": "code",
      "source": [
        "datos.shape"
      ],
      "metadata": {
        "id": "F13S7z_OU4b-",
        "outputId": "5d0468c7-a602-4b35-eade-db85be4aab08",
        "colab": {
          "base_uri": "https://localhost:8080/"
        }
      },
      "execution_count": 20,
      "outputs": [
        {
          "output_type": "execute_result",
          "data": {
            "text/plain": [
              "(8, 2)"
            ]
          },
          "metadata": {},
          "execution_count": 20
        }
      ]
    },
    {
      "cell_type": "code",
      "source": [],
      "metadata": {
        "id": "XDuglYE6U2jg"
      },
      "execution_count": null,
      "outputs": []
    },
    {
      "cell_type": "code",
      "source": [
        "A=np.cov(datos)\n",
        "A"
      ],
      "metadata": {
        "id": "Oe4s43SxVUmD",
        "colab": {
          "base_uri": "https://localhost:8080/"
        },
        "outputId": "338f0f1c-7501-4234-f0f1-c6822ba022f6"
      },
      "execution_count": 21,
      "outputs": [
        {
          "output_type": "execute_result",
          "data": {
            "text/plain": [
              "array([[ 103.3203125,   38.6328125,  196.7578125, -263.2421875,\n",
              "         -69.1796875,  -11.6796875,  -90.7421875,   96.1328125],\n",
              "       [  38.6328125,   14.4453125,   73.5703125,  -98.4296875,\n",
              "         -25.8671875,   -4.3671875,  -33.9296875,   35.9453125],\n",
              "       [ 196.7578125,   73.5703125,  374.6953125, -501.3046875,\n",
              "        -131.7421875,  -22.2421875, -172.8046875,  183.0703125],\n",
              "       [-263.2421875,  -98.4296875, -501.3046875,  670.6953125,\n",
              "         176.2578125,   29.7578125,  231.1953125, -244.9296875],\n",
              "       [ -69.1796875,  -25.8671875, -131.7421875,  176.2578125,\n",
              "          46.3203125,    7.8203125,   60.7578125,  -64.3671875],\n",
              "       [ -11.6796875,   -4.3671875,  -22.2421875,   29.7578125,\n",
              "           7.8203125,    1.3203125,   10.2578125,  -10.8671875],\n",
              "       [ -90.7421875,  -33.9296875, -172.8046875,  231.1953125,\n",
              "          60.7578125,   10.2578125,   79.6953125,  -84.4296875],\n",
              "       [  96.1328125,   35.9453125,  183.0703125, -244.9296875,\n",
              "         -64.3671875,  -10.8671875,  -84.4296875,   89.4453125]])"
            ]
          },
          "metadata": {},
          "execution_count": 21
        }
      ]
    },
    {
      "cell_type": "code",
      "source": [
        "autovalor, autovector = np.linalg.eig(A )\n",
        "autovalor"
      ],
      "metadata": {
        "colab": {
          "base_uri": "https://localhost:8080/"
        },
        "id": "FjZ3hnkZp53L",
        "outputId": "15fe1b24-1654-427e-afac-916607c82f7f"
      },
      "execution_count": 22,
      "outputs": [
        {
          "output_type": "execute_result",
          "data": {
            "text/plain": [
              "array([ 0.00000000e+00+0.00000000e+00j,  1.37993750e+03+0.00000000e+00j,\n",
              "        2.33914160e-14+1.59511323e-14j,  2.33914160e-14-1.59511323e-14j,\n",
              "        5.67377777e-17+0.00000000e+00j, -4.54148269e-17+0.00000000e+00j,\n",
              "       -1.12811284e-29+0.00000000e+00j, -8.57000396e-28+0.00000000e+00j])"
            ]
          },
          "metadata": {},
          "execution_count": 22
        }
      ]
    },
    {
      "cell_type": "code",
      "source": [
        "autovector"
      ],
      "metadata": {
        "colab": {
          "base_uri": "https://localhost:8080/"
        },
        "id": "KyNtfVrPqLn6",
        "outputId": "047b01f2-afe6-49ad-c897-b50f586db687"
      },
      "execution_count": null,
      "outputs": [
        {
          "output_type": "execute_result",
          "data": {
            "text/plain": [
              "array([[-0.97124992, -0.23806218],\n",
              "       [ 0.23806218, -0.97124992]])"
            ]
          },
          "metadata": {},
          "execution_count": 33
        }
      ]
    },
    {
      "cell_type": "code",
      "source": [
        "autovector[1]"
      ],
      "metadata": {
        "colab": {
          "base_uri": "https://localhost:8080/"
        },
        "id": "7fFXMrIlrGXS",
        "outputId": "af0d2701-c966-4b59-cbc4-13fe76a96698"
      },
      "execution_count": null,
      "outputs": [
        {
          "output_type": "execute_result",
          "data": {
            "text/plain": [
              "array([ 0.23806218, -0.97124992])"
            ]
          },
          "metadata": {},
          "execution_count": 44
        }
      ]
    },
    {
      "cell_type": "code",
      "source": [
        "proj = np.dot(autovector[1].T,datos)\n",
        "proj"
      ],
      "metadata": {
        "colab": {
          "base_uri": "https://localhost:8080/"
        },
        "id": "KnMphRXuqgp0",
        "outputId": "58a5933a-dc0a-4d55-8032-12d932441b24"
      },
      "execution_count": null,
      "outputs": [
        {
          "output_type": "execute_result",
          "data": {
            "text/plain": [
              "array([-10.20413038, -16.12663594, -30.89544444,  31.26455022,\n",
              "        16.03861858,   8.26861925,  18.95236833, -17.29794561])"
            ]
          },
          "metadata": {},
          "execution_count": 47
        }
      ]
    },
    {
      "cell_type": "code",
      "source": [
        "import matplotlib.pyplot as plt\n",
        "import numpy as np\n",
        "\n",
        "plt.scatter(proj, [0,0,0,0,0,0,0,0])\n",
        "\n",
        "plt.show()"
      ],
      "metadata": {
        "colab": {
          "base_uri": "https://localhost:8080/",
          "height": 430
        },
        "id": "J_hPg3p9usad",
        "outputId": "4d163fb2-ac4b-44b1-9d94-b5a1f812301d"
      },
      "execution_count": null,
      "outputs": [
        {
          "output_type": "display_data",
          "data": {
            "text/plain": [
              "<Figure size 640x480 with 1 Axes>"
            ],
            "image/png": "[encoded data removed]"
          },
          "metadata": {}
        }
      ]
    },
    {
      "cell_type": "code",
      "source": [],
      "metadata": {
        "id": "2yrymb2MtZho"
      },
      "execution_count": null,
      "outputs": []
    },
    {
      "cell_type": "code",
      "source": [],
      "metadata": {
        "id": "ha4z9beTqgWq"
      },
      "execution_count": null,
      "outputs": []
    },
    {
      "cell_type": "code",
      "source": [],
      "metadata": {
        "id": "BhtTPhWmp5jo"
      },
      "execution_count": null,
      "outputs": []
    },
    {
      "cell_type": "code",
      "source": [
        "x1 = [19.,39.,30.,30.,15.,15.,15.,30.]\n",
        "x2 =  [63.,74.,87.,23.,35.,43.,32.,73.]\n",
        "N=np.size(x1)\n",
        "X = np.column_stack([x1, x2])\n",
        "X -= X.mean(axis=0)\n",
        "fact = N-1\n",
        "by_hand = np.dot(X.T, X.conj()) / fact\n",
        "print(by_hand)"
      ],
      "metadata": {
        "id": "uLgDCtzxkuOW",
        "outputId": "8688db85-02ba-4908-b6b1-d64f8a977958",
        "colab": {
          "base_uri": "https://localhost:8080/"
        }
      },
      "execution_count": null,
      "outputs": [
        {
          "output_type": "stream",
          "name": "stdout",
          "text": [
            "[[ 85.83928571 121.32142857]\n",
            " [121.32142857 551.07142857]]\n"
          ]
        }
      ]
    },
    {
      "cell_type": "code",
      "source": [
        "autovalor, autovector = np.linalg.eig(by_hand )\n",
        "autovalor"
      ],
      "metadata": {
        "id": "XGN0fkzHmK4N",
        "outputId": "c5fe2ec4-f198-4653-9ef5-65211f0eb977",
        "colab": {
          "base_uri": "https://localhost:8080/"
        }
      },
      "execution_count": null,
      "outputs": [
        {
          "output_type": "execute_result",
          "data": {
            "text/plain": [
              "array([ 56.10230167, 580.80841262])"
            ]
          },
          "metadata": {},
          "execution_count": 23
        }
      ]
    },
    {
      "cell_type": "code",
      "source": [
        "autovector"
      ],
      "metadata": {
        "id": "-AYqQEBOmkAT",
        "outputId": "87d36d57-0201-431d-eaa4-b93882c72bd8",
        "colab": {
          "base_uri": "https://localhost:8080/"
        }
      },
      "execution_count": null,
      "outputs": [
        {
          "output_type": "execute_result",
          "data": {
            "text/plain": [
              "array([[-0.97124992, -0.23806218],\n",
              "       [ 0.23806218, -0.97124992]])"
            ]
          },
          "metadata": {},
          "execution_count": 24
        }
      ]
    },
    {
      "cell_type": "code",
      "source": [
        "W"
      ],
      "metadata": {
        "id": "yGcGRLVQoUkW"
      },
      "execution_count": null,
      "outputs": []
    },
    {
      "cell_type": "code",
      "source": [],
      "metadata": {
        "id": "bMwDjIR8oUTg"
      },
      "execution_count": null,
      "outputs": []
    },
    {
      "cell_type": "code",
      "source": [
        "autovalor, autovector = np.linalg.eig(A)"
      ],
      "metadata": {
        "id": "wkt3yrATVUo8"
      },
      "execution_count": null,
      "outputs": []
    },
    {
      "cell_type": "code",
      "source": [
        "autovalor"
      ],
      "metadata": {
        "colab": {
          "base_uri": "https://localhost:8080/"
        },
        "id": "uRA3Cpl2aJyS",
        "outputId": "b414787e-c028-40f4-d158-a3297f0f55c4"
      },
      "execution_count": null,
      "outputs": [
        {
          "output_type": "execute_result",
          "data": {
            "text/plain": [
              "array([ 56.10230167, 580.80841262])"
            ]
          },
          "metadata": {},
          "execution_count": 26
        }
      ]
    },
    {
      "cell_type": "code",
      "source": [
        "autovector"
      ],
      "metadata": {
        "colab": {
          "base_uri": "https://localhost:8080/"
        },
        "id": "dw1s_i4_aN1h",
        "outputId": "7b755985-328b-40d6-91f5-6c488c8b3037"
      },
      "execution_count": null,
      "outputs": [
        {
          "output_type": "execute_result",
          "data": {
            "text/plain": [
              "array([[-0.97124992, -0.23806218],\n",
              "       [ 0.23806218, -0.97124992]])"
            ]
          },
          "metadata": {},
          "execution_count": 16
        }
      ]
    },
    {
      "cell_type": "code",
      "source": [],
      "metadata": {
        "id": "361qRwiwgof2"
      },
      "execution_count": null,
      "outputs": []
    },
    {
      "cell_type": "code",
      "source": [
        "x = [2.5,0.5,2.2,1.9,3.1,2.3,2,1,1.5,1.2]\n",
        "y= [2.4,0.7,2.9,2.2,3.0,2.7,1.6,1.1,1.6,0.9]\n",
        "datos = np.stack((x, y), axis=0)\n",
        "datos"
      ],
      "metadata": {
        "id": "_p7jORDjVUrk",
        "colab": {
          "base_uri": "https://localhost:8080/"
        },
        "outputId": "26fabc41-9bf1-455a-8f59-65be3c746df2"
      },
      "execution_count": null,
      "outputs": [
        {
          "output_type": "execute_result",
          "data": {
            "text/plain": [
              "array([[2.5, 0.5, 2.2, 1.9, 3.1, 2.3, 2. , 1. , 1.5, 1.2],\n",
              "       [2.4, 0.7, 2.9, 2.2, 3. , 2.7, 1.6, 1.1, 1.6, 0.9]])"
            ]
          },
          "metadata": {},
          "execution_count": 17
        }
      ]
    },
    {
      "cell_type": "code",
      "source": [
        "b1 = [2.5,0.5,2.2,1.9,3.1,2.3,2,1,1.5,1.2]\n",
        "b2 =  [2.4,0.7,2.9,2.2,3.0,2.7,1.6,1.1,1.6,0.9]\n",
        "N=np.size(b1)\n",
        "X = np.column_stack([b1, b2])\n",
        "X -= X.mean(axis=0)\n",
        "fact = N-1\n",
        "by_hand = np.dot(X.T, X.conj()) / fact\n",
        "print(by_hand)"
      ],
      "metadata": {
        "id": "3-TPjXLmjPtF",
        "outputId": "d225f82a-ef31-4ddc-e4d5-a32ffc6cdc0f",
        "colab": {
          "base_uri": "https://localhost:8080/"
        }
      },
      "execution_count": null,
      "outputs": [
        {
          "output_type": "stream",
          "name": "stdout",
          "text": [
            "[[0.60177778 0.60422222]\n",
            " [0.60422222 0.71655556]]\n"
          ]
        }
      ]
    },
    {
      "cell_type": "code",
      "source": [
        "Z = np.cov(x,y)\n",
        "Z"
      ],
      "metadata": {
        "id": "OpouVIrojDW2",
        "outputId": "fa511ce9-6630-4d62-d3be-f181674c870b",
        "colab": {
          "base_uri": "https://localhost:8080/"
        }
      },
      "execution_count": null,
      "outputs": [
        {
          "output_type": "execute_result",
          "data": {
            "text/plain": [
              "array([[0.60177778, 0.60422222],\n",
              "       [0.60422222, 0.71655556]])"
            ]
          },
          "metadata": {},
          "execution_count": 18
        }
      ]
    },
    {
      "cell_type": "code",
      "source": [
        "A=np.cov(datos)\n",
        "A"
      ],
      "metadata": {
        "colab": {
          "base_uri": "https://localhost:8080/"
        },
        "id": "Uom-ctFsgpec",
        "outputId": "40946fa2-4787-4551-a28c-ecfb00274ae3"
      },
      "execution_count": null,
      "outputs": [
        {
          "output_type": "execute_result",
          "data": {
            "text/plain": [
              "array([[0.60177778, 0.60422222],\n",
              "       [0.60422222, 0.71655556]])"
            ]
          },
          "metadata": {},
          "execution_count": 19
        }
      ]
    },
    {
      "cell_type": "code",
      "source": [
        "autovalor, autovector = np.linalg.eig(A)"
      ],
      "metadata": {
        "id": "Me8PVFmHg-P2"
      },
      "execution_count": null,
      "outputs": []
    },
    {
      "cell_type": "code",
      "source": [
        "autovalor"
      ],
      "metadata": {
        "colab": {
          "base_uri": "https://localhost:8080/"
        },
        "id": "SWq2_CnPhADl",
        "outputId": "a24c0eb2-fc4f-4319-99b1-5896e8b0dfb8"
      },
      "execution_count": null,
      "outputs": [
        {
          "output_type": "execute_result",
          "data": {
            "text/plain": [
              "array([0.04702256, 1.13951381])"
            ]
          },
          "metadata": {},
          "execution_count": 7
        }
      ]
    },
    {
      "cell_type": "code",
      "source": [
        "data_reduced = np.dot(data - pca.mean_, pca.components_.T)"
      ],
      "metadata": {
        "id": "N37MNit51-Jw"
      },
      "execution_count": null,
      "outputs": []
    },
    {
      "cell_type": "code",
      "source": [
        "data_original = np.dot(data_reduced, pca.components_) + pca.mean_"
      ],
      "metadata": {
        "id": "S-8Y4Tjw19IW"
      },
      "execution_count": null,
      "outputs": []
    },
    {
      "cell_type": "markdown",
      "source": [
        "If your data already has zero mean in each column, you can ignore the pca.mean_ above, for example\n",
        "\n",
        "import numpy as np\n",
        "from sklearn.decomposition import PCA\n",
        "\n",
        "pca = PCA(n_components=3)\n",
        "pca.fit(data)\n",
        "\n",
        "data_reduced = np.dot(data, pca.components_.T) # transform\n",
        "data_original = np.dot(data_reduced, pca.components_) # inverse_transform"
      ],
      "metadata": {
        "id": "wnle_SZH2kOW"
      }
    },
    {
      "cell_type": "markdown",
      "source": [
        "For doing it manually, and truncating dimensions, data_reduced = np.dot(data, pca.components_.T[:,:dim]), and back data_original = np.dot(data_reduced, pca.components_[:dim, :])"
      ],
      "metadata": {
        "id": "j7tUZAMU2xJm"
      }
    },
    {
      "cell_type": "markdown",
      "source": [
        "https://github.com/scikit-learn/scikit-learn/blob/a95203b/sklearn/decomposition/pca.py#L99"
      ],
      "metadata": {
        "id": "SYar6lHu3JP9"
      }
    },
    {
      "cell_type": "markdown",
      "source": [
        "For doing it manually, and truncating dimensions, data_reduced = np.dot(data, pca.components_.T[:,:dim]), and back data_original = np.dot(data_reduced, pca.components_[:dim, :]) –\n",
        "Gulzar\n",
        " CommentedNov 30, 2019 at 20:38"
      ],
      "metadata": {
        "id": "l9MpanDHHX_s"
      }
    },
    {
      "cell_type": "markdown",
      "source": [
        "Secondly, the shape of PCA.components_ is (n_components, n_features) while the shape of data to transform is (n_samples, n_features), so you need to transpose PCA.components_ to perform dot product.\n",
        "\n",
        "Moreover, the first step of transform is to subtract the mean, therefore if you do it manually, you also need to subtract the mean at first.\n",
        "\n",
        "The correct way to transform is\n",
        "\n",
        "data_reduced = np.dot(data - pca.mean_, pca.components_.T)\n",
        "2) inverse_transform is just the inverse process of transform\n",
        "\n",
        "data_original = np.dot(data_reduced, pca.components_) + pca.mean_"
      ],
      "metadata": {
        "id": "5FE45Q_VHZkS"
      }
    },
    {
      "cell_type": "markdown",
      "source": [
        "For doing it manually, and truncating dimensions, data_reduced = np.dot(data, pca.components_.T[:,:dim]), and back data_original = np.dot(data_reduced, pca.components_[:dim, :]) –\n",
        "Gulzar\n",
        " CommentedNov 30, 2019 at 20:38"
      ],
      "metadata": {
        "id": "fpbupYV1Sk3Q"
      }
    },
    {
      "cell_type": "code",
      "source": [
        "from numpy.random import rand\n",
        "from sklearn.decomposition import PCA\n",
        "\n",
        "# PCA transform\n",
        "data = rand(100, 10)\n",
        "n_dim = data.shape[1]\n",
        "pca = PCA(n_dim)\n",
        "transformed = pca.fit_transform(data)\n",
        "\n",
        "# Inverse PCA\n",
        "def inverse_pca(pca_data, pca, remove_n):\n",
        "    transformed = pca_data.copy()\n",
        "    transformed[:, -remove_n:] = 0\n",
        "    return pca.inverse_transform(transformed)\n",
        "\n"
      ],
      "metadata": {
        "id": "4u50tMD6I28a"
      },
      "execution_count": 4,
      "outputs": []
    },
    {
      "cell_type": "code",
      "source": [
        "new_data = inverse_pca(transformed, pca, 1)"
      ],
      "metadata": {
        "id": "pTC4otohJVOr"
      },
      "execution_count": 9,
      "outputs": []
    },
    {
      "cell_type": "code",
      "source": [
        "new_data[:3]"
      ],
      "metadata": {
        "colab": {
          "base_uri": "https://localhost:8080/"
        },
        "id": "9UEJoSrzJIPy",
        "outputId": "ba18e525-5ecf-4f5f-bbba-b242c6785b03"
      },
      "execution_count": 10,
      "outputs": [
        {
          "output_type": "execute_result",
          "data": {
            "text/plain": [
              "array([[0.3942601 , 0.33713574, 0.69003481, 0.56520431, 0.10216222,\n",
              "        0.92370359, 0.2015573 , 0.56920371, 0.56958712, 0.52273329],\n",
              "       [0.69151678, 0.79737433, 0.56579425, 0.75676493, 0.50322428,\n",
              "        0.7989385 , 0.41863082, 0.07946876, 0.53686306, 0.86224734],\n",
              "       [0.86731551, 0.29366595, 0.84019149, 0.18898075, 0.72960807,\n",
              "        0.8356996 , 0.3629377 , 0.67810949, 0.70128004, 0.79610863]])"
            ]
          },
          "metadata": {},
          "execution_count": 10
        }
      ]
    },
    {
      "cell_type": "code",
      "source": [
        "data[:3]"
      ],
      "metadata": {
        "colab": {
          "base_uri": "https://localhost:8080/"
        },
        "id": "QbG3Kl2BJCB5",
        "outputId": "5211b765-e02c-4333-f6b1-4636ffbe519e"
      },
      "execution_count": 8,
      "outputs": [
        {
          "output_type": "execute_result",
          "data": {
            "text/plain": [
              "array([[0.39511145, 0.30805767, 0.61395804, 0.47224143, 0.06082482,\n",
              "        0.94154012, 0.20102868, 0.53002582, 0.50350177, 0.57885943],\n",
              "       [0.69047081, 0.83309982, 0.65926261, 0.87097967, 0.55401165,\n",
              "        0.77702443, 0.41928029, 0.12760294, 0.6180559 , 0.79329043],\n",
              "       [0.86844285, 0.25516158, 0.73945278, 0.06588194, 0.67487025,\n",
              "        0.85931823, 0.36223772, 0.62623124, 0.61377169, 0.87042928]])"
            ]
          },
          "metadata": {},
          "execution_count": 8
        }
      ]
    },
    {
      "cell_type": "markdown",
      "source": [],
      "metadata": {
        "id": "sdkF1fJI2zxN"
      }
    },
    {
      "cell_type": "code",
      "source": [
        "autovector"
      ],
      "metadata": {
        "colab": {
          "base_uri": "https://localhost:8080/"
        },
        "id": "2n7sXxmUg_3t",
        "outputId": "de91e2bf-107b-457b-fba7-e7baa2b779b2"
      },
      "execution_count": null,
      "outputs": [
        {
          "output_type": "execute_result",
          "data": {
            "text/plain": [
              "array([[-0.73977066, -0.67285911],\n",
              "       [ 0.67285911, -0.73977066]])"
            ]
          },
          "metadata": {},
          "execution_count": 8
        }
      ]
    },
    {
      "cell_type": "code",
      "source": [
        "import pandas as pd\n",
        "import numpy as np\n",
        "from sklearn import datasets\n",
        "from sklearn.decomposition import PCA\n",
        "import seaborn as sns; sns.set()\n",
        "\n",
        "iris = datasets.load_iris()\n",
        "data = iris.data\n",
        "pd.options.display.float_format = '{:,.4f}'.format\n",
        "data1 = pd.DataFrame(data= np.c_[iris['data'], iris['target']],\n",
        "columns= iris['feature_names'] + ['target'])\n",
        "data1 = data1.iloc[:,0:4]\n",
        "print(data1.shape)\n",
        "samples = pd.DataFrame(data1.loc[[0,1,2]], columns = data1.keys()).reset_index(drop = True)\n",
        "print(samples)\n",
        "pca = PCA(n_components=2)\n",
        "pca.fit(data1)\n",
        "pca_data1 = pca.transform(data1)\n",
        "pca_samples = pca.transform(samples)\n",
        "print(pca.inverse_transform(pca_samples))"
      ],
      "metadata": {
        "id": "J9eAT2888Q1M",
        "outputId": "c079b71b-cdaf-4f9b-ea12-36ab62721147",
        "colab": {
          "base_uri": "https://localhost:8080/"
        }
      },
      "execution_count": null,
      "outputs": [
        {
          "output_type": "stream",
          "name": "stdout",
          "text": [
            "(150, 4)\n",
            "   sepal length (cm)  sepal width (cm)  petal length (cm)  petal width (cm)\n",
            "0             5.1000            3.5000             1.4000            0.2000\n",
            "1             4.9000            3.0000             1.4000            0.2000\n",
            "2             4.7000            3.2000             1.3000            0.2000\n",
            "[[5.08303897 3.51741393 1.40321372 0.21353169]\n",
            " [4.7462619  3.15749994 1.46356177 0.24024592]\n",
            " [4.70411871 3.1956816  1.30821697 0.17518015]]\n"
          ]
        }
      ]
    },
    {
      "cell_type": "code",
      "source": [
        "import numpy as np\n",
        "#Original dataset X\n",
        "X=np.array([[11,2,25],[12,20, 31],[5,6,7],[200,10,22]])\n",
        "\n",
        "#Get covariance matrix from X, if using numpy.cov,\n",
        "#make sure set parameter rowvar to False\n",
        "\n",
        "covX=np.cov(X, rowvar=False)\n",
        "\n",
        "#Get eigenvalues and eigenvectors from covX\n",
        "eigenvals, eigenvecs = np.linalg.eig(covX)\n",
        "\n",
        "#pair the eigenvalue and corresponding eigenvector\n",
        "pair = [(i[0], i[1]) for i in zip(eigenvals, eigenvecs)]\n",
        "#Sort the eigenvectors by its eigenvalues in descending order\n",
        "sortedPair=[[i[0], i[1]] for i in sorted(pair, key=lambda x: abs(x[0]), reverse=True)]\n",
        "\n",
        "#Get sorted eigenvectors, keep the sort order.\n",
        "W=np.array([i[1] for i in sortedPair])\n",
        "\n",
        "def findTopPrincipalComponentNumber(eigenvals:list,threshold:int=0.80) -> (int, float):\n",
        "        ''' findTopPrincipalComponentNumber will return k number that will meet the threshold'''\n",
        "        total = sum(eigenvals)\n",
        "        #Sort the Eigenvalues in descending order,\n",
        "        #calculate each eiganvalue that contains percentage of information in raw dataset\n",
        "        eachPercentList = [(i / total) for i in sorted(eigenvals, reverse=True)]\n",
        "        cumulativePercept=0\n",
        "        cumulativePerceptList=[]\n",
        "        for i in eachPercentList:\n",
        "            cumulativePercept+=i\n",
        "            cumulativePerceptList.append(cumulativePercept)\n",
        "            if cumulativePercept >= threshold:\n",
        "                break\n",
        "        return (len(cumulativePerceptList), float(cumulativePerceptList[-1]))\n",
        "#get the k to have 95% of the original information from raw dataset\n",
        "bestK, coveredPercentage = findTopPrincipalComponentNumber(eigenvals, 0.95)\n",
        "\n",
        "#pca projected dataset is X times W\n",
        "Z=np.matmul(X, W)\n",
        "\n",
        "#Get bestK columns from Z, to created dimension reduced dataset pcaZ\n",
        "#that has 98% of the information from original X\n",
        "pcaZ=[]\n",
        "for i in Z.tolist():\n",
        "    subZ=[]\n",
        "    for j in range(bestK):\n",
        "        subZ.append(i[j])\n",
        "    pcaZ.append(subZ)\n",
        "\n",
        "#To reconstruct, can not use pcaZ, need to use Z\n",
        "#Since Z = X times W, then X = Z times inversed(W)\n",
        "restoredX = np.matmul(Z, np.linalg.inv(W))\n",
        "\n",
        "#Restored original dataset, that should match original raw dataset X\n",
        "restoredX\n",
        "\n",
        "'''\n",
        "array([[ 11.,   2.,  25.],\n",
        "       [ 12.,  20.,  31.],\n",
        "       [  5.,   6.,   7.],\n",
        "       [200.,  10.,  22.]])\n",
        "'''\n",
        "\n",
        "#Original raw dataset\n",
        "X\n",
        "\n",
        "'''\n",
        "array([[ 11,   2,  25],\n",
        "       [ 12,  20,  31],\n",
        "       [  5,   6,   7],\n",
        "       [200,  10,  22]])\n",
        "'''"
      ],
      "metadata": {
        "colab": {
          "base_uri": "https://localhost:8080/",
          "height": 42
        },
        "id": "ltR42NAEQKvI",
        "outputId": "1c73c761-7e6f-430a-833a-7d90dc26e384"
      },
      "execution_count": 11,
      "outputs": [
        {
          "output_type": "execute_result",
          "data": {
            "text/plain": [
              "'\\narray([[ 11,   2,  25],\\n       [ 12,  20,  31],\\n       [  5,   6,   7],\\n       [200,  10,  22]])\\n'"
            ],
            "application/vnd.google.colaboratory.intrinsic+json": {
              "type": "string"
            }
          },
          "metadata": {},
          "execution_count": 11
        }
      ]
    },
    {
      "cell_type": "markdown",
      "source": [],
      "metadata": {
        "id": "4CFsr1kRRVIn"
      }
    },
    {
      "cell_type": "code",
      "source": [
        "import numpy as np\n",
        "import sklearn.datasets, sklearn.decomposition\n",
        "\n",
        "X = sklearn.datasets.load_iris().data\n",
        "mu = np.mean(X, axis=0)\n",
        "\n",
        "pca = sklearn.decomposition.PCA()\n",
        "pca.fit(X)\n",
        "\n",
        "nComp = 2\n",
        "Xhat = np.dot(pca.transform(X)[:,:nComp], pca.components_[:nComp,:])\n",
        "Xhat += mu\n",
        "\n",
        "print(Xhat[0,])"
      ],
      "metadata": {
        "colab": {
          "base_uri": "https://localhost:8080/"
        },
        "id": "Qp0S8r0dRTQH",
        "outputId": "49c659ab-a8f1-4c5e-acd2-eee8709b1cb6"
      },
      "execution_count": 12,
      "outputs": [
        {
          "output_type": "stream",
          "name": "stdout",
          "text": [
            "[5.08303897 3.51741393 1.40321372 0.21353169]\n"
          ]
        }
      ]
    }
  ]
}