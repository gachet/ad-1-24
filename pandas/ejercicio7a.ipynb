{
  "cells": [
    {
      "cell_type": "markdown",
      "metadata": {
        "id": "view-in-github",
        "colab_type": "text"
      },
      "source": [
        "<a href=\"https://colab.research.google.com/github/gachet/ad-1-24/blob/main/pandas/ejercicio7a.ipynb\" target=\"_parent\"><img src=\"https://colab.research.google.com/assets/colab-badge.svg\" alt=\"Open In Colab\"/></a>"
      ]
    },
    {
      "cell_type": "markdown",
      "metadata": {
        "id": "TIPX0Q0w6Ag7"
      },
      "source": [
        "# Ejercicio\n",
        "\n",
        "El fichero [titanic.csv] (https://raw.githubusercontent.com/gachet/ad-1-24/refs/heads/main/pandas/titanic.csv) contiene información sobre los pasajeros del Titanic. Escribir un programa con los siguientes requisitos:\n",
        "\n",
        "1. Generar un DataFrame con los datos del fichero.\n",
        "2. Mostrar por pantalla las dimensiones del DataFrame, el número de datos que contiene, los nombres de sus columnas y filas, los tipos de datos de las columnas, las 10 primeras filas y las 10 últimas filas.\n",
        "3. Mostrar por pantalla los datos del pasajero con identificador 148.\n",
        "3. Mostrar por pantalla las filas pares del DataFrame.\n",
        "4. Mostrar por pantalla los nombres de las personas que iban en primera clase ordenadas alfabéticamente.\n",
        "5. Mostrar por pantalla el porcentaje de personas que sobrevivieron y murieron.\n",
        "5. Mostrar por pantalla el porcentaje de personas que sobrevivieron en cada clase.\n",
        "6. Eliminar del DataFrame los pasajeros con edad desconocida.\n",
        "7. Mostrar por pantalla la edad media de las mujeres que viajaban en cada clase.\n",
        "8.  Añadir una nueva columna booleana para ver si el pasajero era menor de edad o no.\n",
        "9.  Mostrar por pantalla el porcentaje de menores y mayores de edad que sobrevivieron en cada clase.\n",
        "\n"
      ]
    },
    {
      "cell_type": "markdown",
      "source": [
        "#Significado de las variables:\n",
        "PassengerId: Numeración de las Filas  \n",
        "Survived: Sobreviente  \n",
        "Pclass: Clase del Ticket(Primera Clase, Segunda Clase, Tercera Clase)  \n",
        "Name: Nombre del Pasajero  \n",
        "Sex: Sexo  \n",
        "Age: Edad  \n",
        "SibSp: # de Hermanos/Cónyuges a bordo del Titanic  \n",
        "Parch: # de Padres/Hijos a bordo del Titanic  \n",
        "Ticket: Número de ticket  \n",
        "Fare: Tarifa de pasajero  \n",
        "Cabin: # de cabina  \n",
        "Embarked: Puerto de embarque (C = Cherburgo, Q = Queenstown, S = Southampton)"
      ],
      "metadata": {
        "id": "uNMlJx4d8TnL"
      }
    },
    {
      "cell_type": "code",
      "source": [
        "import pandas as pd"
      ],
      "metadata": {
        "id": "g5YVjWtV6g7q"
      },
      "execution_count": null,
      "outputs": []
    },
    {
      "cell_type": "code",
      "execution_count": null,
      "metadata": {
        "collapsed": true,
        "id": "fZOcmSWl6Ag-"
      },
      "outputs": [],
      "source": [
        "\n",
        "# Generar un DataFrame con los datos del fichero.\n",
        "titanic = pd.read_csv('https://raw.githubusercontent.com/gachet/ad-1-24/refs/heads/main/pandas/titanic.csv', index_col=0)\n",
        "titanic.head()\n"
      ]
    },
    {
      "cell_type": "code",
      "execution_count": null,
      "metadata": {
        "id": "AgbVtrdw6Ag_"
      },
      "outputs": [],
      "source": [
        "# Mostrar por pantalla las dimensiones del DataFrame, el número de datos que contiene, los nombres de sus columnas y filas, los tipos de datos de las columnas, las 10 primeras filas y las 10 últimas filas.\n",
        "\n",
        "\n"
      ]
    },
    {
      "cell_type": "code",
      "execution_count": null,
      "metadata": {
        "id": "2OLS_aas6AhA"
      },
      "outputs": [],
      "source": [
        "# Mostrar por pantalla los datos del pasajero con identificador 148\n"
      ]
    },
    {
      "cell_type": "code",
      "execution_count": null,
      "metadata": {
        "id": "Y1nXZ_106AhA"
      },
      "outputs": [],
      "source": [
        "# Mostrar por pantalla las filas pares del DataFrame.\n"
      ]
    },
    {
      "cell_type": "code",
      "execution_count": null,
      "metadata": {
        "id": "l3U0O_5K6AhB"
      },
      "outputs": [],
      "source": [
        "# Mostrar los nombres de las personas que iban en primera clase ordenadas alfabéticamente.\n"
      ]
    },
    {
      "cell_type": "code",
      "execution_count": null,
      "metadata": {
        "id": "mYckdnD_6AhC"
      },
      "outputs": [],
      "source": [
        "# Mostrar por pantalla el porcentaje de personas que sobrevivieron y murieron\n",
        "\n",
        "\n",
        "# Alternativa\n",
        "\n"
      ]
    },
    {
      "cell_type": "code",
      "execution_count": null,
      "metadata": {
        "id": "QrDVfUyY6AhD"
      },
      "outputs": [],
      "source": [
        "#Mostrar por pantalla el porcentaje de personas que sobrevivieron en cada clase\n"
      ]
    },
    {
      "cell_type": "code",
      "execution_count": null,
      "metadata": {
        "id": "UxvcSj9p6AhD"
      },
      "outputs": [],
      "source": [
        "# Eliminar del DataFrame los pasajeros con edad desconocida.\n",
        "\n",
        "\n",
        "# Alternativa\n",
        "# titanic = titanic[titanic['Age'].notna()]\n",
        "\n"
      ]
    },
    {
      "cell_type": "code",
      "execution_count": null,
      "metadata": {
        "id": "a4ZZVjLM6AhE"
      },
      "outputs": [],
      "source": [
        "# Mostrar la edad media de las mujeres que viajaban en cada clase.\n"
      ]
    },
    {
      "cell_type": "code",
      "execution_count": null,
      "metadata": {
        "id": "IxnNPU2m6AhE"
      },
      "outputs": [],
      "source": [
        "# Añadir una nueva columna booleana para ver si el pasajero era menor de edad o no.\n"
      ]
    },
    {
      "cell_type": "code",
      "execution_count": null,
      "metadata": {
        "id": "FcQHnLYd6AhF"
      },
      "outputs": [],
      "source": [
        "# Mostrar el porcentaje de menores y mayores de edad que sobrevivieron en cada clase.\n"
      ]
    },
    {
      "cell_type": "code",
      "execution_count": null,
      "metadata": {
        "id": "kHsHzv-G6AhF"
      },
      "outputs": [],
      "source": []
    }
  ],
  "metadata": {
    "kernelspec": {
      "display_name": "Python 3",
      "language": "python",
      "name": "python3"
    },
    "language_info": {
      "codemirror_mode": {
        "name": "ipython",
        "version": 3
      },
      "file_extension": ".py",
      "mimetype": "text/x-python",
      "name": "python",
      "nbconvert_exporter": "python",
      "pygments_lexer": "ipython3",
      "version": "3.7.6-final"
    },
    "colab": {
      "provenance": [],
      "include_colab_link": true
    }
  },
  "nbformat": 4,
  "nbformat_minor": 0
}