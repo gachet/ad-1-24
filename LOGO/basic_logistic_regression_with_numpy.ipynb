{
  "cells": [
    {
      "cell_type": "markdown",
      "metadata": {
        "id": "view-in-github",
        "colab_type": "text"
      },
      "source": [
        "<a href=\"https://colab.research.google.com/github/gachet/ad-1-24/blob/main/LOGO/basic_logistic_regression_with_numpy.ipynb\" target=\"_parent\"><img src=\"https://colab.research.google.com/assets/colab-badge.svg\" alt=\"Open In Colab\"/></a>"
      ]
    },
    {
      "cell_type": "code",
      "execution_count": null,
      "metadata": {
        "_cell_guid": "1872fe09-8745-41d1-919c-79c657c0b6da",
        "_uuid": "cf554235846fd1690566780db10cfae131835440",
        "collapsed": true,
        "id": "0DVpctIhajgw"
      },
      "outputs": [],
      "source": [
        "%matplotlib inline\n",
        "import matplotlib.pyplot as plt\n",
        "import numpy as np\n",
        "import pandas as pd\n",
        "from sklearn.model_selection import train_test_split"
      ]
    },
    {
      "cell_type": "markdown",
      "metadata": {
        "id": "-2n809h-ajgz"
      },
      "source": [
        "Hypothesis from linear regression: $z_\\theta(x) = \\theta_0x_0 + \\theta_1x_1 \\dots + \\theta_nx_n = \\theta^Tx$\n",
        "\n",
        "Logistic hypothesis from composition of sigmoid/logistic function and linear hypothesis:\n",
        "$$h_\\theta(x) = \\frac{1}{1 + e^{-z_\\theta(x)}} = \\frac{1}{1 + e^{-\\theta^Tx}}$$\n",
        "\n",
        "The logistic hypothesis tells us the probability of an $x$ being $1$ for the given $\\theta$.\n",
        "$$h_\\theta(x) = P(y = 1 \\,|\\, x ; \\theta) = 1 - P(y = 0 \\,|\\, x ; \\theta)$$\n",
        "\n",
        "We choose to predict that $y = 1$ when $h_\\theta(x) \\ge 0.5$. `sigmoid(x)` returns $ \\ge 0.5$ for values $x \\ge 0$. Thus we can predict $y = 1$ when $\\theta^Tx \\ge 0$.\n",
        "\n",
        "We cannot use the cost function from linear regression with this hypothesis since it would produce local minima. Instead given `m` samples:\n",
        "\n",
        "\\begin{align*}\n",
        "J(\\theta) &= \\frac{1}{m} \\sum_{i=1}^{m} \\text{Cost}(h_\\theta(x^{(i)}), y^{(i)}) \\\\\n",
        "\\text{Cost}(h_\\theta(x^{(i)}), 1) &= -\\log(h_\\theta(x)) \\\\\n",
        "\\text{Cost}(h_\\theta(x^{(i)}), 0) &= -\\log(h_\\theta(1 - x))\n",
        "\\end{align*}\n",
        "\n",
        "This way we get a higher penalty the further the hypothesis is from `y` no matter if `y` is `1` or `0`.\n",
        "\n",
        "This can be simplified with a vectorized implementation and with the conditionals removed:\n",
        "\n",
        "$$\n",
        "J(\\theta) = \\frac{1}{m} \\dot (-y^{T}\\log(h_\\theta(x)) - (1 - y)^{T} \\log(1 - h_\\theta(x)))\n",
        "$$"
      ]
    },
    {
      "cell_type": "code",
      "execution_count": null,
      "metadata": {
        "collapsed": true,
        "id": "_fZi1J3-ajg2"
      },
      "outputs": [],
      "source": [
        "def sigmoid(z):\n",
        "    return 1. / (1 + np.exp(-z))\n",
        "\n",
        "\n",
        "def z(theta, x):\n",
        "    assert theta.shape[1] == 1\n",
        "    assert theta.shape[0] == x.shape[1]  # Theta should have as many rows as x has features.\n",
        "    return np.dot(x, theta)\n",
        "\n",
        "\n",
        "def hypothesis(theta, x):\n",
        "    return sigmoid(z(theta, x))\n",
        "\n",
        "\n",
        "def cost(theta, x, y):\n",
        "    assert x.shape[1] == theta.shape[0]  # x has a column for each feature, theta has a row for each feature.\n",
        "    assert x.shape[0] == y.shape[0]  # One row per sample.\n",
        "    assert y.shape[1] == 1\n",
        "    assert theta.shape[1] == 1\n",
        "    h = hypothesis(theta, x)\n",
        "    one_case = np.matmul(-y.T, np.log(h))\n",
        "    zero_case = np.matmul(-(1 - y).T, np.log(1 - h))\n",
        "    return (one_case + zero_case) / len(x)\n",
        "\n",
        "\n",
        "def gradient_descent(theta, x, y, learning_rate, regularization = 0):\n",
        "    regularization = theta * regularization\n",
        "    error = hypothesis(theta, x) - y\n",
        "    n = (learning_rate / len(x)) * (np.matmul(x.T, error) + regularization)\n",
        "    return theta - n\n",
        "\n",
        "\n",
        "def minimize(theta, x, y, iterations, learning_rate, regularization = 0):\n",
        "    costs = []\n",
        "    for _ in range(iterations):\n",
        "        theta = gradient_descent(theta, x, y, learning_rate, regularization)\n",
        "        costs.append(cost(theta, x, y)[0][0])\n",
        "    return theta, costs"
      ]
    },
    {
      "cell_type": "code",
      "execution_count": null,
      "metadata": {
        "id": "QcdcCyHzajg3",
        "outputId": "62aba559-7848-42d0-fe3b-c9ce82da55fb"
      },
      "outputs": [
        {
          "data": {
            "image/png": "[encoded data removed]",
            "text/plain": [
              "<matplotlib.figure.Figure at 0x7fe5899b0fd0>"
            ]
          },
          "metadata": {},
          "output_type": "display_data"
        },
        {
          "name": "stdout",
          "output_type": "stream",
          "text": [
            "0.00805093718867\n"
          ]
        },
        {
          "data": {
            "text/plain": [
              "0.9983593109105825"
            ]
          },
          "execution_count": 3,
          "metadata": {},
          "output_type": "execute_result"
        }
      ],
      "source": [
        "mushroom_data = pd.read_csv(\"../input/mushrooms.csv\").dropna()\n",
        "mushroom_x = pd.get_dummies(mushroom_data.drop('class', axis=1))\n",
        "mushroom_x['bias'] = 1\n",
        "mushroom_x = mushroom_x.values\n",
        "mushroom_y = (np.atleast_2d(mushroom_data['class']).T == 'p').astype(int)\n",
        "\n",
        "x_train, x_test, y_train, y_test = train_test_split(mushroom_x, mushroom_y, train_size=0.85, test_size=0.15)\n",
        "candidate = np.atleast_2d([ np.random.uniform(-1, 1, 118) ]).T\n",
        "theta, costs = minimize(candidate, x_train, y_train, 1200, 1.2, 0.5)\n",
        "plt.plot(range(len(costs)), costs)\n",
        "plt.show()\n",
        "print(costs[-1])\n",
        "\n",
        "predictions = x_test.dot(theta) > 0\n",
        "len(list(filter(lambda x: x[0] == x[1], np.dstack((predictions, y_test))[:,0]))) / len(predictions)"
      ]
    }
  ],
  "metadata": {
    "kernelspec": {
      "display_name": "Python 3",
      "language": "python",
      "name": "python3"
    },
    "language_info": {
      "codemirror_mode": {
        "name": "ipython",
        "version": 3
      },
      "file_extension": ".py",
      "mimetype": "text/x-python",
      "name": "python",
      "nbconvert_exporter": "python",
      "pygments_lexer": "ipython3",
      "version": "3.6.3"
    },
    "colab": {
      "provenance": [],
      "include_colab_link": true
    }
  },
  "nbformat": 4,
  "nbformat_minor": 0
}