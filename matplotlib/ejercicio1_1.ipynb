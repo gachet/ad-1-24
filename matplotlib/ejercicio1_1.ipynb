{
  "cells": [
    {
      "cell_type": "markdown",
      "metadata": {
        "id": "view-in-github",
        "colab_type": "text"
      },
      "source": [
        "<a href=\"https://colab.research.google.com/github/gachet/ad-1-24/blob/main/matplotlib/ejercicio1_1.ipynb\" target=\"_parent\"><img src=\"https://colab.research.google.com/assets/colab-badge.svg\" alt=\"Open In Colab\"/></a>"
      ]
    },
    {
      "cell_type": "markdown",
      "metadata": {
        "id": "kbosCIEwR5Rd"
      },
      "source": [
        "# Ejercicio\n",
        "\n",
        "Escribir un programa que pregunte al usuario por las ventas de un rango de años y muestre por pantalla un diagrama de líneas con la evolución de las ventas."
      ]
    },
    {
      "cell_type": "markdown",
      "metadata": {
        "id": "ubPSxGY3R5Rf"
      },
      "source": [
        "# Solución"
      ]
    },
    {
      "cell_type": "code",
      "execution_count": 6,
      "metadata": {
        "colab": {
          "base_uri": "https://localhost:8080/",
          "height": 608
        },
        "id": "jFCjnYu9R5Rf",
        "outputId": "6f9fbe86-d8c0-42d4-d071-35b1a3e03b97"
      },
      "outputs": [
        {
          "output_type": "stream",
          "name": "stdout",
          "text": [
            "Introduce el año inicial: 1990\n",
            "Introduce el año final: 1994\n",
            "Introduce las ventas del año 1990: 12\n",
            "Introduce las ventas del año 1991: 12\n",
            "Introduce las ventas del año 1992: 23\n",
            "Introduce las ventas del año 1993: 34\n",
            "Introduce las ventas del año 1994: 34\n",
            "{1990: 12.0, 1991: 12.0, 1992: 23.0, 1993: 34.0, 1994: 34.0}\n",
            "1990\n",
            "12.0\n"
          ]
        },
        {
          "output_type": "display_data",
          "data": {
            "text/plain": [
              "<Figure size 640x480 with 1 Axes>"
            ],
            "image/png": "[encoded data removed]"
          },
          "metadata": {}
        }
      ],
      "source": [
        "import matplotlib.pyplot as plt\n",
        "# Preguntamos por el año inicial\n",
        "inicio = int(input('Introduce el año inicial: '))\n",
        "# Preguntamos por el año final\n",
        "fin = int(input('Introduce el año final: '))\n",
        "# Definimos un diccionario vacío para guardar las ventas de cada año\n",
        "ventas = {}\n",
        "# Bucle iterativo para preguntar las ventas de cada año y guardarlas en el diccionario\n",
        "# i toma como valores los años desde el año de inicio hasta el año final\n",
        "for i in range(inicio, fin+1):\n",
        "    # Preguntamos por las ventas del año i y las guardamos en el diccionario con la clave el año y el valor las ventas\n",
        "    ventas[i] = float(input('Introduce las ventas del año ' + str(i) +': '))\n",
        "# Definimos la figura y los ejes del gráfico con Matplotlib\n",
        "print(ventas)\n",
        "print(list(ventas.keys())[0])\n",
        "print(list(ventas.values())[0])\n",
        "fig, ax = plt.subplots()\n",
        "# Dibujamos la línea con las ventas a partir del diccionario\n",
        "ax.plot(ventas.keys(), ventas.values())\n",
        "# Mostarmos el gráfico por pantalla\n",
        "plt.show()\n",
        "\n"
      ]
    }
  ],
  "metadata": {
    "kernelspec": {
      "display_name": "Python 3",
      "language": "python",
      "name": "python3"
    },
    "language_info": {
      "codemirror_mode": {
        "name": "ipython",
        "version": 3
      },
      "file_extension": ".py",
      "mimetype": "text/x-python",
      "name": "python",
      "nbconvert_exporter": "python",
      "pygments_lexer": "ipython3",
      "version": "3.9.3-final"
    },
    "colab": {
      "provenance": [],
      "include_colab_link": true
    }
  },
  "nbformat": 4,
  "nbformat_minor": 0
}