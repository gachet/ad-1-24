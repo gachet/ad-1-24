{
  "cells": [
    {
      "cell_type": "code",
      "execution_count": 1,
      "metadata": {
        "id": "HG1-HdQjzclh"
      },
      "outputs": [],
      "source": [
        "import numpy as np\n",
        "import matplotlib.pyplot as plt\n",
        "import pandas as pd\n",
        "import sklearn\n",
        "import seaborn as sns"
      ]
    },
    {
      "cell_type": "markdown",
      "metadata": {
        "id": "0FPi__TPzclh"
      },
      "source": [
        "# Implementing Gradient Descent"
      ]
    },
    {
      "cell_type": "code",
      "execution_count": 2,
      "metadata": {
        "id": "dVkJ8AOlzcli"
      },
      "outputs": [],
      "source": [
        "def generateXvector(X):\n",
        "    \"\"\" Taking the original independent variables matrix and add a row of 1 which corresponds to x_0\n",
        "        Parameters:\n",
        "          X:  independent variables matrix\n",
        "        Return value: the matrix that contains all the values in the dataset, not include the outcomes values\n",
        "    \"\"\"\n",
        "    vectorX = np.c_[np.ones((len(X), 1)), X]\n",
        "    return vectorX"
      ]
    },
    {
      "cell_type": "code",
      "execution_count": 3,
      "metadata": {
        "id": "-VHW6fjNzclj"
      },
      "outputs": [],
      "source": [
        "def theta_init(X):\n",
        "    \"\"\" Generate an initial value of vector θ from the original independent variables matrix\n",
        "         Parameters:\n",
        "          X:  independent variables matrix\n",
        "        Return value: a vector of theta filled with initial guess\n",
        "    \"\"\"\n",
        "    theta = np.random.randn(len(X[0])+1, 1)\n",
        "    return theta"
      ]
    },
    {
      "cell_type": "code",
      "execution_count": 4,
      "metadata": {
        "id": "UCUXoa0Zzclj"
      },
      "outputs": [],
      "source": [
        "def Multivariable_Linear_Regression(X,y,learningrate, iterations):\n",
        "    \"\"\" Find the multivarite regression model for the data set\n",
        "         Parameters:\n",
        "          X:  independent variables matrix\n",
        "          y: dependent variables matrix\n",
        "          learningrate: learningrate of Gradient Descent\n",
        "          iterations: the number of iterations\n",
        "        Return value: the final theta vector and the plot of cost function\n",
        "    \"\"\"\n",
        "    y_new = np.reshape(y, (len(y), 1))\n",
        "    cost_lst = []\n",
        "    vectorX = generateXvector(X)\n",
        "    theta = theta_init(X)\n",
        "    m = len(X)\n",
        "    for i in range(iterations):\n",
        "        gradients = 2/m * vectorX.T.dot(vectorX.dot(theta) - y_new)\n",
        "        theta = theta - learningrate * gradients\n",
        "        y_pred = vectorX.dot(theta)\n",
        "        cost_value = 1/(2*len(y))*((y_pred - y)**2) #Calculate the loss for each training instance\n",
        "        total = 0\n",
        "        for i in range(len(y)):\n",
        "            total += cost_value[i][0] #Calculate the cost function for each iteration\n",
        "        cost_lst.append(total)\n",
        "    plt.plot(np.arange(1,iterations),cost_lst[1:], color = 'red')\n",
        "    plt.title('Cost function Graph')\n",
        "    plt.xlabel('Number of iterations')\n",
        "    plt.ylabel('Cost')\n",
        "    return theta"
      ]
    },
    {
      "cell_type": "markdown",
      "metadata": {
        "id": "SzPd4DJkzclj"
      },
      "source": [
        "# Checking the code with built-in Linear Regression from sklearn"
      ]
    },
    {
      "cell_type": "code",
      "execution_count": 6,
      "metadata": {
        "id": "8oinBbiwzclk",
        "outputId": "d0ca32ac-9cc2-4ed7-cef7-a8a5cbb91c0c",
        "colab": {
          "base_uri": "https://localhost:8080/"
        }
      },
      "outputs": [
        {
          "output_type": "execute_result",
          "data": {
            "text/plain": [
              "(442, 10)"
            ]
          },
          "metadata": {},
          "execution_count": 6
        }
      ],
      "source": [
        "from sklearn.datasets import load_diabetes\n",
        "diabetes = load_diabetes()\n",
        "X = diabetes.data\n",
        "y = diabetes.target\n",
        "X.shape"
      ]
    },
    {
      "cell_type": "code",
      "execution_count": null,
      "metadata": {
        "id": "L13bLa3Vzclk"
      },
      "outputs": [],
      "source": [
        "from sklearn.preprocessing import StandardScaler\n",
        "sc=StandardScaler()\n",
        "X_transform=sc.fit_transform(X)"
      ]
    },
    {
      "cell_type": "code",
      "execution_count": null,
      "metadata": {
        "id": "1sy3XZJtzcll",
        "outputId": "745fbd74-70d8-4da3-ce21-62e73e8e3f70"
      },
      "outputs": [
        {
          "data": {
            "text/plain": [
              "(152.13348416289594,\n",
              " array([ -0.47623169, -11.40703082,  24.72625713,  15.42967916,\n",
              "        -37.68035801,  22.67648701,   4.80620008,   8.422084  ,\n",
              "         35.73471316,   3.21661161]))"
            ]
          },
          "execution_count": 7,
          "metadata": {},
          "output_type": "execute_result"
        }
      ],
      "source": [
        "from sklearn.linear_model import LinearRegression\n",
        "lin_reg = LinearRegression()\n",
        "lin_reg.fit(X_transform, y)\n",
        "lin_reg.intercept_, lin_reg.coef_"
      ]
    },
    {
      "cell_type": "code",
      "execution_count": null,
      "metadata": {
        "id": "5zuqP4BEzcll",
        "outputId": "75fc3f61-a8f1-4c4d-fcf7-77a9f7c05c57"
      },
      "outputs": [
        {
          "data": {
            "text/plain": [
              "array([[152.13348416],\n",
              "       [ -0.47623165],\n",
              "       [-11.40703078],\n",
              "       [ 24.72625722],\n",
              "       [ 15.42967913],\n",
              "       [-37.68035063],\n",
              "       [ 22.67648115],\n",
              "       [  4.80619678],\n",
              "       [  8.42208306],\n",
              "       [ 35.73471041],\n",
              "       [  3.21661164]])"
            ]
          },
          "execution_count": 19,
          "metadata": {},
          "output_type": "execute_result"
        },
        {
          "data": {
            "image/png": "[encoded data removed]",
            "text/plain": [
              "<Figure size 432x288 with 1 Axes>"
            ]
          },
          "metadata": {
            "needs_background": "light"
          },
          "output_type": "display_data"
        }
      ],
      "source": [
        "Multivariable_Linear_Regression(X_transform,y, 0.03, 30000)"
      ]
    },
    {
      "cell_type": "code",
      "execution_count": null,
      "metadata": {
        "id": "vXtnlWOqzclm"
      },
      "outputs": [],
      "source": []
    }
  ],
  "metadata": {
    "kernelspec": {
      "display_name": "Python 3",
      "language": "python",
      "name": "python3"
    },
    "language_info": {
      "codemirror_mode": {
        "name": "ipython",
        "version": 3
      },
      "file_extension": ".py",
      "mimetype": "text/x-python",
      "name": "python",
      "nbconvert_exporter": "python",
      "pygments_lexer": "ipython3",
      "version": "3.8.5"
    },
    "colab": {
      "provenance": []
    }
  },
  "nbformat": 4,
  "nbformat_minor": 0
}