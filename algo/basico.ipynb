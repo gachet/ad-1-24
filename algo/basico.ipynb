{
  "nbformat": 4,
  "nbformat_minor": 0,
  "metadata": {
    "colab": {
      "provenance": [],
      "authorship_tag": "ABX9TyO5XxNErkX/J7u0cGcZH0Hk",
      "include_colab_link": true
    },
    "kernelspec": {
      "name": "python3",
      "display_name": "Python 3"
    },
    "language_info": {
      "name": "python"
    }
  },
  "cells": [
    {
      "cell_type": "markdown",
      "metadata": {
        "id": "view-in-github",
        "colab_type": "text"
      },
      "source": [
        "<a href=\"https://colab.research.google.com/github/gachet/ad-1-24/blob/main/algo/basico.ipynb\" target=\"_parent\"><img src=\"https://colab.research.google.com/assets/colab-badge.svg\" alt=\"Open In Colab\"/></a>"
      ]
    },
    {
      "cell_type": "code",
      "source": [
        "import numpy as np\n",
        "learning_rate=0.001\n",
        "iter=10000\n",
        "weights=0\n",
        "bias=0"
      ],
      "metadata": {
        "id": "W9eFyWovqnBM"
      },
      "execution_count": 12,
      "outputs": []
    },
    {
      "cell_type": "code",
      "source": [
        "def regresion(X,y):\n",
        "    #set the initial value for weights and bias\n",
        "    weight=0\n",
        "    bias=0\n",
        "    #get number of samples features X\n",
        "    n_samples=len(X)\n",
        "    #start the iteration\n",
        "    for i in range(iter):\n",
        "        #predict the known label y\n",
        "        y_predict=weights*X + bias\n",
        "        #calculate the gradients of weights and bias\n",
        "        grad_w=(2/n_samples)*np.sum(X*(y_predict-y))\n",
        "        grad_b=(2/n_samples)*np.sum(y_predict-y)\n",
        "        #update the weights and bias\n",
        "        weight-=grad_w*learning_rate\n",
        "        bias-=grad_b*learning_rate\n",
        "    return weight,bias"
      ],
      "metadata": {
        "id": "9A8BkjuHq-jr"
      },
      "execution_count": 15,
      "outputs": []
    },
    {
      "cell_type": "code",
      "source": [
        "def predict(X,weight,bias):\n",
        "        return weight*X + bias\n",
        "\n",
        "def mean_squared_error(y_true, y_pred):\n",
        "    return np.mean((y_true - y_pred) ** 2)"
      ],
      "metadata": {
        "id": "ConqWHPCrc3L"
      },
      "execution_count": 20,
      "outputs": []
    },
    {
      "cell_type": "code",
      "source": [
        "X=np.array([1.,2.,3.,4.,5.,6.,7.,8.,9.])\n",
        "y=np.array([40,43,55,60,68,77,82,86,94])\n",
        "peso,inter=regresion(X,y)\n"
      ],
      "metadata": {
        "id": "HyIvTh8ls8TK"
      },
      "execution_count": 16,
      "outputs": []
    },
    {
      "cell_type": "code",
      "source": [
        "peso"
      ],
      "metadata": {
        "colab": {
          "base_uri": "https://localhost:8080/"
        },
        "id": "Nb-S8jErugKq",
        "outputId": "9442dd58-5ec9-41aa-8275-78166485c847"
      },
      "execution_count": 17,
      "outputs": [
        {
          "output_type": "execute_result",
          "data": {
            "text/plain": [
              "1260.5555548765178"
            ]
          },
          "metadata": {},
          "execution_count": 17
        }
      ]
    },
    {
      "cell_type": "code",
      "source": [
        "inter"
      ],
      "metadata": {
        "colab": {
          "base_uri": "https://localhost:8080/"
        },
        "id": "PYiHNURAujQ5",
        "outputId": "7b5c94ba-172c-478f-9391-44027de871ca"
      },
      "execution_count": 18,
      "outputs": [
        {
          "output_type": "execute_result",
          "data": {
            "text/plain": [
              "67.2222220864141"
            ]
          },
          "metadata": {},
          "execution_count": 18
        }
      ]
    },
    {
      "cell_type": "code",
      "source": [
        "y"
      ],
      "metadata": {
        "id": "--RTdsSTvv1a"
      },
      "execution_count": null,
      "outputs": []
    },
    {
      "cell_type": "code",
      "execution_count": 21,
      "metadata": {
        "colab": {
          "base_uri": "https://localhost:8080/",
          "height": 211
        },
        "id": "h1q7I-FGprMr",
        "outputId": "db09586c-6180-45e9-90a6-9b31d1aeb733"
      },
      "outputs": [
        {
          "output_type": "error",
          "ename": "NameError",
          "evalue": "name 'existing' is not defined",
          "traceback": [
            "\u001b[0;31m---------------------------------------------------------------------------\u001b[0m",
            "\u001b[0;31mNameError\u001b[0m                                 Traceback (most recent call last)",
            "\u001b[0;32m<ipython-input-21-e57cd66fd0a1>\u001b[0m in \u001b[0;36m<cell line: 4>\u001b[0;34m()\u001b[0m\n\u001b[1;32m      2\u001b[0m \u001b[0mpredict\u001b[0m\u001b[0;34m(\u001b[0m\u001b[0mnew_hours\u001b[0m\u001b[0;34m,\u001b[0m\u001b[0mpeso\u001b[0m\u001b[0;34m,\u001b[0m\u001b[0minter\u001b[0m\u001b[0;34m)\u001b[0m\u001b[0;34m\u001b[0m\u001b[0;34m\u001b[0m\u001b[0m\n\u001b[1;32m      3\u001b[0m \u001b[0;34m\u001b[0m\u001b[0m\n\u001b[0;32m----> 4\u001b[0;31m \u001b[0mmse\u001b[0m\u001b[0;34m=\u001b[0m\u001b[0mmean_squared_error\u001b[0m\u001b[0;34m(\u001b[0m\u001b[0my\u001b[0m\u001b[0;34m,\u001b[0m\u001b[0mexisting\u001b[0m\u001b[0;34m)\u001b[0m\u001b[0;34m\u001b[0m\u001b[0;34m\u001b[0m\u001b[0m\n\u001b[0m\u001b[1;32m      5\u001b[0m \u001b[0mprint\u001b[0m\u001b[0;34m(\u001b[0m\u001b[0mmse\u001b[0m\u001b[0;34m)\u001b[0m\u001b[0;34m\u001b[0m\u001b[0;34m\u001b[0m\u001b[0m\n\u001b[1;32m      6\u001b[0m \u001b[0;34m\u001b[0m\u001b[0m\n",
            "\u001b[0;31mNameError\u001b[0m: name 'existing' is not defined"
          ]
        }
      ],
      "source": [
        "\n",
        "new_hours=np.array([1.5,2.3,3.2,4.3,5.1,6.4,7.5,8.2])\n",
        "predict(new_hours,peso,inter)\n",
        "\n",
        "mse=mean_squared_error(y,existing)\n",
        "print(mse)\n",
        "\n",
        "import matplotlib.pyplot as plt\n",
        "plt.scatter(X,y)\n",
        "plt.scatter(new_hours,predict)\n",
        "plt.plot(X,existing)\n",
        "\n",
        "plt.show()\n"
      ]
    }
  ]
}