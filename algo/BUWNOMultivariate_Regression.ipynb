{
  "cells": [
    {
      "cell_type": "markdown",
      "metadata": {
        "id": "view-in-github",
        "colab_type": "text"
      },
      "source": [
        "<a href=\"https://colab.research.google.com/github/gachet/ad-1-24/blob/main/algo/BUWNOMultivariate_Regression.ipynb\" target=\"_parent\"><img src=\"https://colab.research.google.com/assets/colab-badge.svg\" alt=\"Open In Colab\"/></a>"
      ]
    },
    {
      "cell_type": "code",
      "execution_count": 1,
      "metadata": {
        "id": "ZUr-Lq3fZNlg"
      },
      "outputs": [],
      "source": [
        "import numpy as np\n",
        "import matplotlib.pyplot as plt\n",
        "import pandas as pd\n",
        "import sklearn\n",
        "import seaborn as sns"
      ]
    },
    {
      "cell_type": "markdown",
      "metadata": {
        "id": "r5F-JaBPZNlk"
      },
      "source": [
        "# Implementing Gradient Descent"
      ]
    },
    {
      "cell_type": "code",
      "execution_count": 2,
      "metadata": {
        "id": "kWKcTJVcZNll"
      },
      "outputs": [],
      "source": [
        "def generateXvector(X):\n",
        "    \"\"\" Taking the original independent variables matrix and add a row of 1 which corresponds to x_0\n",
        "        Parameters:\n",
        "          X:  independent variables matrix\n",
        "        Return value: the matrix that contains all the values in the dataset, not include the outcomes values\n",
        "    \"\"\"\n",
        "    vectorX = np.c_[np.ones((len(X), 1)), X]\n",
        "    return vectorX"
      ]
    },
    {
      "cell_type": "code",
      "execution_count": 3,
      "metadata": {
        "id": "lpqrtgVFZNlm"
      },
      "outputs": [],
      "source": [
        "def theta_init(X):\n",
        "    \"\"\" Generate an initial value of vector θ from the original independent variables matrix\n",
        "         Parameters:\n",
        "          X:  independent variables matrix\n",
        "        Return value: a vector of theta filled with initial guess\n",
        "    \"\"\"\n",
        "    theta = np.random.randn(len(X[0])+1, 1)\n",
        "    return theta"
      ]
    },
    {
      "cell_type": "code",
      "execution_count": 4,
      "metadata": {
        "id": "ST53PLnQZNln"
      },
      "outputs": [],
      "source": [
        "def Multivariable_Linear_Regression(X,y,learningrate, iterations):\n",
        "    \"\"\" Find the multivarite regression model for the data set\n",
        "         Parameters:\n",
        "          X:  independent variables matrix\n",
        "          y: dependent variables matrix\n",
        "          learningrate: learningrate of Gradient Descent\n",
        "          iterations: the number of iterations\n",
        "        Return value: the final theta vector and the plot of cost function\n",
        "    \"\"\"\n",
        "    y_new = np.reshape(y, (len(y), 1))\n",
        "    cost_lst = []\n",
        "    vectorX = generateXvector(X)\n",
        "    theta = theta_init(X)\n",
        "    m = len(X)\n",
        "    for i in range(iterations):\n",
        "        gradients = 2/m * vectorX.T.dot(vectorX.dot(theta) - y_new)\n",
        "        theta = theta - learningrate * gradients\n",
        "        y_pred = vectorX.dot(theta)\n",
        "        cost_value = 1/(2*len(y))*((y_pred - y)**2) #Calculate the loss for each training instance\n",
        "        total = 0\n",
        "        for i in range(len(y)):\n",
        "            total += cost_value[i][0] #Calculate the cost function for each iteration\n",
        "        cost_lst.append(total)\n",
        "    plt.plot(np.arange(1,iterations),cost_lst[1:], color = 'red')\n",
        "    plt.title('Cost function Graph')\n",
        "    plt.xlabel('Number of iterations')\n",
        "    plt.ylabel('Cost')\n",
        "    return theta"
      ]
    },
    {
      "cell_type": "markdown",
      "metadata": {
        "id": "KtFs27WdZNlo"
      },
      "source": [
        "# Checking the code with built-in Linear Regression from sklearn"
      ]
    },
    {
      "cell_type": "code",
      "execution_count": 5,
      "metadata": {
        "id": "msXFJjDlZNlo"
      },
      "outputs": [],
      "source": [
        "from sklearn.datasets import load_diabetes\n",
        "diabetes = load_diabetes()\n",
        "X = diabetes.data\n",
        "y = diabetes.target"
      ]
    },
    {
      "cell_type": "code",
      "execution_count": 6,
      "metadata": {
        "id": "-55MJ38qZNlo"
      },
      "outputs": [],
      "source": [
        "from sklearn.preprocessing import StandardScaler\n",
        "sc=StandardScaler()\n",
        "X_transform=sc.fit_transform(X)"
      ]
    },
    {
      "cell_type": "code",
      "execution_count": 7,
      "metadata": {
        "colab": {
          "base_uri": "https://localhost:8080/"
        },
        "id": "OUwwM8idZNlp",
        "outputId": "4f109d02-7e08-4c72-d5fc-9fbcf50c49bb"
      },
      "outputs": [
        {
          "output_type": "execute_result",
          "data": {
            "text/plain": [
              "(152.13348416289594,\n",
              " array([ -0.47612079, -11.40686692,  24.72654886,  15.42940413,\n",
              "        -37.67995261,  22.67616277,   4.80613814,   8.42203936,\n",
              "         35.73444577,   3.21667372]))"
            ]
          },
          "metadata": {},
          "execution_count": 7
        }
      ],
      "source": [
        "from sklearn.linear_model import LinearRegression\n",
        "lin_reg = LinearRegression()\n",
        "lin_reg.fit(X_transform, y)\n",
        "lin_reg.intercept_, lin_reg.coef_"
      ]
    },
    {
      "cell_type": "code",
      "execution_count": 8,
      "metadata": {
        "colab": {
          "base_uri": "https://localhost:8080/",
          "height": 663
        },
        "id": "IuKby15FZNlr",
        "outputId": "9a9cbddc-74ba-4a04-e1cb-21c4e4ef6bc0"
      },
      "outputs": [
        {
          "output_type": "execute_result",
          "data": {
            "text/plain": [
              "array([[152.13348416],\n",
              "       [ -0.47612075],\n",
              "       [-11.40686689],\n",
              "       [ 24.72654895],\n",
              "       [ 15.4294041 ],\n",
              "       [-37.67994528],\n",
              "       [ 22.67615695],\n",
              "       [  4.80613486],\n",
              "       [  8.42203842],\n",
              "       [ 35.73444304],\n",
              "       [  3.21667375]])"
            ]
          },
          "metadata": {},
          "execution_count": 8
        },
        {
          "output_type": "display_data",
          "data": {
            "text/plain": [
              "<Figure size 640x480 with 1 Axes>"
            ],
            "image/png": "[encoded data removed]"
          },
          "metadata": {}
        }
      ],
      "source": [
        "Multivariable_Linear_Regression(X_transform,y, 0.03, 30000)"
      ]
    },
    {
      "cell_type": "code",
      "execution_count": 8,
      "metadata": {
        "id": "TFAUXbygZNls"
      },
      "outputs": [],
      "source": []
    }
  ],
  "metadata": {
    "kernelspec": {
      "display_name": "Python 3",
      "language": "python",
      "name": "python3"
    },
    "language_info": {
      "codemirror_mode": {
        "name": "ipython",
        "version": 3
      },
      "file_extension": ".py",
      "mimetype": "text/x-python",
      "name": "python",
      "nbconvert_exporter": "python",
      "pygments_lexer": "ipython3",
      "version": "3.8.5"
    },
    "colab": {
      "provenance": [],
      "include_colab_link": true
    }
  },
  "nbformat": 4,
  "nbformat_minor": 0
}