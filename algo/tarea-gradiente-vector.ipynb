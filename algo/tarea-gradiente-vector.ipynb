{
  "nbformat": 4,
  "nbformat_minor": 0,
  "metadata": {
    "colab": {
      "provenance": [],
      "authorship_tag": "ABX9TyOycXJ77EzK+UVYlzk9K2Mq",
      "include_colab_link": true
    },
    "kernelspec": {
      "name": "python3",
      "display_name": "Python 3"
    },
    "language_info": {
      "name": "python"
    }
  },
  "cells": [
    {
      "cell_type": "markdown",
      "metadata": {
        "id": "view-in-github",
        "colab_type": "text"
      },
      "source": [
        "<a href=\"https://colab.research.google.com/github/gachet/ad-1-24/blob/main/algo/tarea-gradiente-vector.ipynb\" target=\"_parent\"><img src=\"https://colab.research.google.com/assets/colab-badge.svg\" alt=\"Open In Colab\"/></a>"
      ]
    },
    {
      "cell_type": "markdown",
      "source": [
        "## TAREA   \n",
        "Una implementación mas eficiente de La regresión lineal ya sea uni o multivariable se puede hacer mefiante operaciones vectoriales con numpy.\n",
        "\n"
      ],
      "metadata": {
        "id": "Erzqrl6XVwoE"
      }
    },
    {
      "cell_type": "markdown",
      "source": [
        "Para la recgresion lineal univariable, solo tenemos una característica de entrada x₁ y su correspondiente variable objetivo $y_i$. Introduciremos otra característica x₀=1 para todos los ejemplos de entrenamiento, simplemente para facilitar los cálculos. Por lo tanto, el modelo de regresión lineal se puede formular de la siguiente manera:  \n",
        "![0_WOYmDKHrLdBn6E3t.webp](data:image/webp;base64,UklGRq4LAABXRUJQVlA4WAoAAAAYAAAAuAEANgAAQUxQSGoKAAABkFXbdtBaiQOwAA5aC+CgtQAOqIXioFgAB2ChOAAL4OCcMSDZOQnpfe8zIiBIkhu3GVTuC1yABEiq8gDlNH29qQhGEkCKGLVRSeX2BDvyE1qKB5hUbkdrKzr/C2TLQ8A3+UFkegiY0/8Jsg2+PN7KsGZLfg+ZHoBna3r42tNIxI9Iy6iiE9yS7a0ABdHDdH+YPcSNQLtA4qZ7i5womZ+2Hv8P9JtjVRytkabc/TrDrhH5OmmgR+SktZv6r+JBhXSkL77/Nk8unbpiPVQ0dmWfEaPYwUeyrlps+xRulvgP/RpHl0Xu6D7FRLg+4y+i5FpOy/dfpqAK4tYjHBH0GVYV+/5FdJzLuXP7y3wog7j1iLDBUIJ6bvQZdh7R5yda+NDabYtCkZjXuYSO0ve6lIzB9lVDPZbv0QBgPSJEUM8dXjV0+3PIqAfkc653ThFfSn6XnAcN9VDbIQHWI1bWVe75Nv45VPQGrHd9UCJ6Kn6XmlsN9TgoFNYjikrnXc+1s57fAsT/egucgg1VNs/pLFucYpUu2zrF4GiDYvc4KpxAj4t4tRhhPZdz57cdqfcfwYceNq/ybJEmx07t9bMYetgROqa1QI9r6Gbty7YowM3oM5Ax+CVj/zfQH2BZ+OlaJ3+X/gCaQI8LPn287GnYep456zlYatLdcO8CsWPrwD+OwFS04ZG9uI3qAutyPaA19D5j2g3zynM4ar4HrufKWc+5RMv1Ky6e074PaXje1EC+9Ma0/AqJnx59cnC1Hk6nziOLaWbmLhhBNp0vrpFYWt0Iv3pzDTOrjIh83p86X9fwNDgUGZ1dwSe1GfgZcjvhp8eyHESgR2KB1u+G6BFs/fMf+kF3yOzTZ1DjOgaMZf27bZQZffQnSK0FuD19nzv9bNE2E+eBclYaBi89AkxMXeIp3LKhB/BqpMzOHEpCUVPli2R+OOs5zuCKmljINivjiZLQKFoQ4ylKXwF21pfi1CM0mlfExIYegI2AA4sKRLovKtQruA7vGr9yVImNskhY6GMPpArOSAl8VakGnuBw50s7++HUIzgTp/DVqQdcsT9g6f6EyuGG3F1CgHo+u4pxS42rLYujM+xpS2z64GvHi59oAJ9teSvAi+++CTGSFS2xDWx3/jsPwbclLzztun09oof1sFZKeoRiodxJgHrOZ33qUJ/haK8T2qLgQSALicbgpDy4ooWYV30xTwbdMPMUGEMPt1RYD/CVQBS0aCk+fca5wclRnZgoc2XgMwYWIpCAtARHd5xJuXN9NSuzNkmZ18AI77kEeuy8ykfi1rbTAcxZz8ldz53721FdbzXaROXMc4houEj3QZqS36+/4xP7JXWFKt+phycix5Otd44a62FmDnehWLkOgbOek7ueO1fXLQJ25jtaFKfw6JJLGQVlV7MR3SxOPQJjDrxwAfSweJ0bhXu37vtUepKye9XIh51nQ+52Pbw2cNbzs89wXAQ6SIiyyymYd7QU8eBB1m/0LQ6ASLZOe+4APPRxMQWhyXDqgRHo4Q6e9YiJKyZYD3PYnHbrM9fp7Hscc+SrdsVqa1I9nNN/Pj7f2gcwCfXyHJ5X51h2wb4h/Kd7og+ssm95eMv95RIJjeS9CHadyVb5SOFGONQBLqCnHgJt5XqAkcj1sGFep9Z+2jP3ouVZu14yZcz/dHidh0pnNgvuk9z13MlMn6tJiKjAPogpj+nsEgmO5NEL0vChriZlBjmZnnoIkOsBRiLWw6ZEJ6QpexbPgSdMst0Mx2eeZuM38Xxi1nMp8yzQnEYJLXvY5OZBLlNS0v2ovy6R7BQUF+PLeWK1Tj0EyPUIJ0WLCvadXSvJbVyWBp+NOxKvf9vNuLHMLsYuTtBnuOu5IAlXyUwuemiDw2o3b6Lvw7Lv4YM4vENrx5hrc4fw8iDgTmgkz3DOT8vmUw9kouA59AhmM1qXn0yVIxYPlVGDD44gGSWO7dvtc3oo6DOc9dxNZ5/EhQufmy8hZTaQs/W0rmubA3JOHXu6e/fSsTPD0O9Qm2SUBQ/rEYwUdsgd42bzY9SDDyWIN6R6g4L2lYjdrqmJq54LeDFfDSxb2eFDcpKue6l12qGCU7e2yuDGM3rgV3ImK3hJ8dloFAUP6hGOJ8zIlTc4FnNeV2jybwdCx2uB+OI+Q2INkX+CSA32QXAMozqZrbWr41IkkoDQF6uHics+GolbD8undZ/biSfRSB9EVWDxjS3XHZ134C06WUPpwSshA3MaTPyYwPIsSBd6nNQ82EKuIpEupsDlfmdH2Ue49YAb6s4NOO0MzoqKW8v8cNyJma9G+GkR5+JyJW/aLuZGIKFvVoz0DM+US4lIAbly4+/WY9XeEH2Di58QnMnwjuDO1jLXIoln0XGIucRfaR0tytcC8EGz5WHVqdJi5Q4jEEnWP2l9AQH0eDoQlTmiRkI6dT5URBUc47mulaYWM9g0wv2jhAE0w6/XJQw0ygqYh42ShG+czVmJis7kio5AJNw/XY6nHtqbgeyjkqaxSMtu58mH/nAVuXA7R/Qyu77WniyD9MSm+hQnDJZ4vl/CRB8JRe9hlXtxA7xtBWvm3MYWpe7OaSAQydE/XY2nHiJceoBCRTcDs3/yY0O1jczVckvMBaAAGQtbLoX3D6dcD7sqWHcP4QvXJjkjDW2zldk525O1QXNgPFVFIj3ZWL9skQx9LQcyWkKOPMCn4ZN8GVHlcYHWmD2vO3hKgUVBbhn6yuHCG7jcE7KbTXL4AAPF68H3a5FtWSgEtxJX8+LBCl6nBfRnPJBI82xgi2SEtQHTpYiMxgroSB/lwZeMPMXBCwb8ijJ6isw8CAfb0w9tjmkJy9Sca11/k81ooJPloUIhuAe8mpR3s3x0WsJ4gkSa0/38XadIIF8LdBwVGYmp6PsoQT709D0kqnDwfJB1CZZ/rS5Xs+aArm/nFnvZAcrTh3pNVEFjoirBrVko9Vse/VHeVh0SpQPsUivHB+gpjmoRiFQY65jdP8X06dOZ2q2HBlngDl56ODClut5B1xvgsYR6t/LBvj80X85OXnTBVOKNdGk8am5eQG79TV3EzI/rUeV8CADVKVBVsZc+VYyHNolApDO3AHtsaEsPEe7gmVfh+3DXAoKHMz/yxDW37Xmfhw+n//qqBFw/soToAY/j/ayJF2QyPOxKUJ21tpRb4nye03ukoeNfyZ7njGBkC+50PMV+GRMD9E/hbbRcDaaVVxb4EHxkZpFWX6fgCe2RsVASI+h08EaLCsf4r6CxrpIa58AarqPicYwrStRCmRXQwpcas11A1V9BHzvJ0huP8AscW9fLD4ZdjwJfVZx9hw7Ozwb/7NbwVG7m2SclI7L0vvJ+TwOI7S7DIcVP+mXpMyXgzm1EvLiMlXOruM5zlweIH/MTnYP/AAPzfhrTGB8hpKr5Hg05v3SkBLUV3zzF/soVreu5JFrdnoaNlmBIsArE8k8DrqU+Y4L7J6EUv5DT7uHYvygy8bs5EsZeRUvoN7m2+qc/iD46dNtGQfNWfwFm/3R2ElSpP4fkttB2S2ITPwqU+hMw+6fl+/1k6q+hJ9pOI+k3KFZQOCBcAAAAMAkAnQEquQE3AD51OptKpKMioaBIAJAOiWlu4XYBG0AT2vRVwgyCGqpNdtouEGQQ1VJrttFwgyCGqpNdtouEGQQ1VJrttFwgyCGqpNdtouECgAD+/7y2AAAAAABFWElGugAAAEV4aWYAAElJKgAIAAAABgASAQMAAQAAAAEAAAAaAQUAAQAAAFYAAAAbAQUAAQAAAF4AAAAoAQMAAQAAAAIAAAATAgMAAQAAAAEAAABphwQAAQAAAGYAAAAAAAAASAAAAAEAAABIAAAAAQAAAAYAAJAHAAQAAAAwMjEwAZEHAAQAAAABAgMAAKAHAAQAAAAwMTAwAaADAAEAAAD//wAAAqAEAAEAAAC5AQAAA6AEAAEAAAA3AAAAAAAAAA==)\n"
      ],
      "metadata": {
        "id": "bGFFIzdp66Wp"
      }
    },
    {
      "cell_type": "markdown",
      "source": [
        "La regresión lineal utiliza el error cuadrático medio como función de coste, que se escribe de la siguiente manera pra $m$ ejemplos:\n",
        "\n",
        "\n",
        "\n",
        "![0_5T8f_JpidfTMQUUK.webp](data:image/webp;base64,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)"
      ],
      "metadata": {
        "id": "Ynv3D1VZ7zd2"
      }
    },
    {
      "cell_type": "markdown",
      "source": [
        "En cada iteración, calculamos el gradiente de J(θ) con respecto a todos los parámetros $\\theta_0$ y $\\theta1$.\n",
        "![0_ISPc29yBG6pD0gGd.webp](data:image/webp;base64,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)"
      ],
      "metadata": {
        "id": "G3XSS8wn7y1E"
      }
    },
    {
      "cell_type": "markdown",
      "source": [
        "Los pasos anteriores se pueden realizar de una sola vez usando NumPy y la notación vectorizada de la siguiente manera:\n",
        "Nota: Si tomamos $\\theta$ como vector columna, entonces se escribe $θ^{T}X$\n",
        "\n",
        "![0_ZYVAlfvSUBOcl-Hl.webp](data:image/webp;base64,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)"
      ],
      "metadata": {
        "id": "bVR_pheR7zEX"
      }
    },
    {
      "cell_type": "markdown",
      "source": [
        "El vector de gradiente se calcula de la siguiente manera: DEMOSTRAR  \n",
        "![0_I8-XcCoYd-0ULdrN.webp](data:image/webp;base64,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)\n",
        "\n",
        "Finalmente actualizamos los parámetros del modo siguiente:  \n",
        "\n",
        "![0_5KqEf-pRT6egddQP.webp](data:image/webp;base64,UklGRnoGAABXRUJQVlA4WAoAAAAYAAAAAAEAKAAAQUxQSFIFAAABgBXbdtAqcQAWwEGx0DooFqgDsEAdFAvgoLVQHIAF4uCeGci9Nwmd934jQoLbRpIkKbAIYHIP21l5VO0PDC8bVyak4jQFCY4081NSZE3dM8J82/Ow/njaTx7FMNsIzHtMHFby6YmWkmbS01AQvWI8DC6PSi13ky6q/jg35WcR6uH3eRFREc4DldW4v70wWFXoFH/l7GpbrusZYYVIKb/b3RTLYgIrFUlkloDQAgRfSNpdhGCVMBq6ioorh9Jae8PwC1TOex6u9Pp1hnWHslDkaReC1cJYFonS4e6JOYwIcZ8VUbFR7QkC8rAVlGjTSrLEM7r3AIZA8w01ehhCsNzgQ/zRisF4bNScz0Iv6+Hw+G1ei8l2kAeRbUtAGEKwgkGHkjHB5ZzxdEbaMs70q/BuzPNoQbTUBoQhBCvQ4ekrvpOgk+gduDkkrBrorOAhbhJj/UVJ5N37rWxYdb+iFCdKDVYgh/NZiPgjS7SczQpYK3j4UYS+V7/zCuCG1YoEBctDqv1NSDhzCqJv2P6SMKzGyyHIQ/qbW5xBoRub82FNlHbwPfgW7YchMeDj7xGoGHei98lsRBdjBA+/itSt9YZ1Fu1PH8F6+GFI1HDekUybeKcbzanJ3AC3a4rzkPJd5zou2/buQtQJXRyWk8mBUvAgB3s8a8KJwAQeO7P0oC5E/blM/mMgeDiV60J9YczduUpH6MKwRg1YATlYb2t8ig4cHt7qvUkzgVtcyrFBnujBhNSA1Q/8Bld6PuT9dGAihKbwxKyEQf5l2xepXLxnDLaGVlbBX9wgXpDroxLi4UTecCUPx/f3UJZM7QvmrVeYlERqkFJG5IPPEexcs5qBWec27TXymuR6qAR4OJGRcBPNlDtrLfpbLUNoMjMmJQz63ll9ib4yE1bzZZcTdg51O+fV7hgdz2Pz/ARlm2QuHoBwD2S3p8tmQro1Qgu5b3Nm+NdRHobMAGfE1VgCyM/lGGEUx+NwGrkDLgIXOm7NY2vkzhD/EoVeBPBHeBgyHZAD4B7a4At4uvwycWV3wEfX2fjbl1rqBcLXvEq2ysNB5eRxdc0PgNI2WUVGBP4F0gtWpQRWzkJ0P5eCaOGsQK1z8bevkKpl/DNSIj82sfUhj4ccekpbZAqilXMEq1MBE+NCtASvjVRSDg+SBC0e3U2oKOng1ujm0C5+k+uDf1wBI594YNUE97TtDIxx7+czMCagPo8KQK7gXKl0kbDhL40KL8YI1PqMLTnQ+WT8aEp1/yCit8rhQVAw27Ng93gF1MHjJrCNXiJSGC2fHikMSaEFOvGcVyri/sGkNOof0zxEPLLRpT8BmbYj9EuYVOllNOAGKtD73661C9hgZzw9SuBx+mui5uFEzEZLxDxk1IRJHXaenBoQmdGzXViULL6DdJg83vTSM0r/xwQPHwwxr1cpaIkk7hufB/+pcmVZCFXyugrD/mqrAsMwKvmxQHI4zxC9zPkIHvZfpxB2fhbju+i9efhevaiUnZDEnZAPs8/AgWH46N8hGmpNNlKbPOUQKaKHuOlJMq/Zm/rMmKJ5f+/H++ee4/Cx/LpN4VDGmDCIthp0Np/Q2QCe8Nxcv9s2FuYHED2chRzWe9u2b3/xNOWTW5/WY4ukYdywyrZus3NTaUOYlTtCVN7pv6glk5L8M1XS6dyoEJ3GHHObMf8VLbVJaKj/v8hoS8JC2Zmbg0mex2/9p2zs9LDWJLB1p9b8Y5hlScA36SvnL0SaPr/zp7rCM1pn5380+r+wD1SRlOg0q5GkDytO54+u2SApry2LsWWyZfSt/meY1zeK92j+QUzfR9BySQZWUDggQAAAANAFAJ0BKgEBKQA+dTqbSiSjIqGgqACQDolpbuFz4ABja6m9xF5YBrqb3EXlgGupvcReWAa6YAAA/v95bAAAAABFWElGugAAAEV4aWYAAElJKgAIAAAABgASAQMAAQAAAAEAAAAaAQUAAQAAAFYAAAAbAQUAAQAAAF4AAAAoAQMAAQAAAAIAAAATAgMAAQAAAAEAAABphwQAAQAAAGYAAAAAAAAASAAAAAEAAABIAAAAAQAAAAYAAJAHAAQAAAAwMjEwAZEHAAQAAAABAgMAAKAHAAQAAAAwMTAwAaADAAEAAAD//wAAAqAEAAEAAAABAQAAA6AEAAEAAAApAAAAAAAAAA==)"
      ],
      "metadata": {
        "id": "V6zqxv1t-K5j"
      }
    },
    {
      "cell_type": "markdown",
      "source": [
        "##TAREA: Implementar una solución vectorizada utilizando el gradiente descendente para regresión lineal univariable, que luego servirá tambiñen para el caso multivariable. Utilizar el sifuiente conjunto de datos. Comprobar con sklearn o ecuaciones normales"
      ],
      "metadata": {
        "id": "kNUmqtn4deeF"
      }
    },
    {
      "cell_type": "code",
      "source": [
        "import numpy as np\n",
        "import pandas as pd\n",
        "import math\n",
        "import matplotlib.pyplot as plt\n",
        "%matplotlib inline\n",
        "\n",
        "data1 = pd.read_csv('https://drive.google.com/uc?id=16jQHaXQNBNIe-wYZvA52stkBwOP6kQta', names=['Poblacion', 'Ingresos'])\n",
        "print(data1.shape)"
      ],
      "metadata": {
        "id": "flnWoEhoHBNd",
        "colab": {
          "base_uri": "https://localhost:8080/"
        },
        "outputId": "4dda0b1a-91f3-4031-b136-badcc9105717"
      },
      "execution_count": 122,
      "outputs": [
        {
          "output_type": "stream",
          "name": "stdout",
          "text": [
            "(97, 2)\n"
          ]
        }
      ]
    },
    {
      "cell_type": "code",
      "source": [
        "data1.head()"
      ],
      "metadata": {
        "colab": {
          "base_uri": "https://localhost:8080/",
          "height": 206
        },
        "id": "tOFQgd-8_9q0",
        "outputId": "20df1690-7829-442d-b990-9635f9b0f1fd"
      },
      "execution_count": 123,
      "outputs": [
        {
          "output_type": "execute_result",
          "data": {
            "text/plain": [
              "   Poblacion  Ingresos\n",
              "0     6.1101   17.5920\n",
              "1     5.5277    9.1302\n",
              "2     8.5186   13.6620\n",
              "3     7.0032   11.8540\n",
              "4     5.8598    6.8233"
            ],
            "text/html": [
              "\n",
              "  <div id=\"df-86cfef4b-7c69-4aa2-85f9-ac1c9457b025\" class=\"colab-df-container\">\n",
              "    <div>\n",
              "<style scoped>\n",
              "    .dataframe tbody tr th:only-of-type {\n",
              "        vertical-align: middle;\n",
              "    }\n",
              "\n",
              "    .dataframe tbody tr th {\n",
              "        vertical-align: top;\n",
              "    }\n",
              "\n",
              "    .dataframe thead th {\n",
              "        text-align: right;\n",
              "    }\n",
              "</style>\n",
              "<table border=\"1\" class=\"dataframe\">\n",
              "  <thead>\n",
              "    <tr style=\"text-align: right;\">\n",
              "      <th></th>\n",
              "      <th>Poblacion</th>\n",
              "      <th>Ingresos</th>\n",
              "    </tr>\n",
              "  </thead>\n",
              "  <tbody>\n",
              "    <tr>\n",
              "      <th>0</th>\n",
              "      <td>6.1101</td>\n",
              "      <td>17.5920</td>\n",
              "    </tr>\n",
              "    <tr>\n",
              "      <th>1</th>\n",
              "      <td>5.5277</td>\n",
              "      <td>9.1302</td>\n",
              "    </tr>\n",
              "    <tr>\n",
              "      <th>2</th>\n",
              "      <td>8.5186</td>\n",
              "      <td>13.6620</td>\n",
              "    </tr>\n",
              "    <tr>\n",
              "      <th>3</th>\n",
              "      <td>7.0032</td>\n",
              "      <td>11.8540</td>\n",
              "    </tr>\n",
              "    <tr>\n",
              "      <th>4</th>\n",
              "      <td>5.8598</td>\n",
              "      <td>6.8233</td>\n",
              "    </tr>\n",
              "  </tbody>\n",
              "</table>\n",
              "</div>\n",
              "    <div class=\"colab-df-buttons\">\n",
              "\n",
              "  <div class=\"colab-df-container\">\n",
              "    <button class=\"colab-df-convert\" onclick=\"convertToInteractive('df-86cfef4b-7c69-4aa2-85f9-ac1c9457b025')\"\n",
              "            title=\"Convert this dataframe to an interactive table.\"\n",
              "            style=\"display:none;\">\n",
              "\n",
              "  <svg xmlns=\"http://www.w3.org/2000/svg\" height=\"24px\" viewBox=\"0 -960 960 960\">\n",
              "    <path d=\"M120-120v-720h720v720H120Zm60-500h600v-160H180v160Zm220 220h160v-160H400v160Zm0 220h160v-160H400v160ZM180-400h160v-160H180v160Zm440 0h160v-160H620v160ZM180-180h160v-160H180v160Zm440 0h160v-160H620v160Z\"/>\n",
              "  </svg>\n",
              "    </button>\n",
              "\n",
              "  <style>\n",
              "    .colab-df-container {\n",
              "      display:flex;\n",
              "      gap: 12px;\n",
              "    }\n",
              "\n",
              "    .colab-df-convert {\n",
              "      background-color: #E8F0FE;\n",
              "      border: none;\n",
              "      border-radius: 50%;\n",
              "      cursor: pointer;\n",
              "      display: none;\n",
              "      fill: #1967D2;\n",
              "      height: 32px;\n",
              "      padding: 0 0 0 0;\n",
              "      width: 32px;\n",
              "    }\n",
              "\n",
              "    .colab-df-convert:hover {\n",
              "      background-color: #E2EBFA;\n",
              "      box-shadow: 0px 1px 2px rgba(60, 64, 67, 0.3), 0px 1px 3px 1px rgba(60, 64, 67, 0.15);\n",
              "      fill: #174EA6;\n",
              "    }\n",
              "\n",
              "    .colab-df-buttons div {\n",
              "      margin-bottom: 4px;\n",
              "    }\n",
              "\n",
              "    [theme=dark] .colab-df-convert {\n",
              "      background-color: #3B4455;\n",
              "      fill: #D2E3FC;\n",
              "    }\n",
              "\n",
              "    [theme=dark] .colab-df-convert:hover {\n",
              "      background-color: #434B5C;\n",
              "      box-shadow: 0px 1px 3px 1px rgba(0, 0, 0, 0.15);\n",
              "      filter: drop-shadow(0px 1px 2px rgba(0, 0, 0, 0.3));\n",
              "      fill: #FFFFFF;\n",
              "    }\n",
              "  </style>\n",
              "\n",
              "    <script>\n",
              "      const buttonEl =\n",
              "        document.querySelector('#df-86cfef4b-7c69-4aa2-85f9-ac1c9457b025 button.colab-df-convert');\n",
              "      buttonEl.style.display =\n",
              "        google.colab.kernel.accessAllowed ? 'block' : 'none';\n",
              "\n",
              "      async function convertToInteractive(key) {\n",
              "        const element = document.querySelector('#df-86cfef4b-7c69-4aa2-85f9-ac1c9457b025');\n",
              "        const dataTable =\n",
              "          await google.colab.kernel.invokeFunction('convertToInteractive',\n",
              "                                                    [key], {});\n",
              "        if (!dataTable) return;\n",
              "\n",
              "        const docLinkHtml = 'Like what you see? Visit the ' +\n",
              "          '<a target=\"_blank\" href=https://colab.research.google.com/notebooks/data_table.ipynb>data table notebook</a>'\n",
              "          + ' to learn more about interactive tables.';\n",
              "        element.innerHTML = '';\n",
              "        dataTable['output_type'] = 'display_data';\n",
              "        await google.colab.output.renderOutput(dataTable, element);\n",
              "        const docLink = document.createElement('div');\n",
              "        docLink.innerHTML = docLinkHtml;\n",
              "        element.appendChild(docLink);\n",
              "      }\n",
              "    </script>\n",
              "  </div>\n",
              "\n",
              "\n",
              "    <div id=\"df-b492bcc9-ab3b-439c-b6c5-80531b60a2e5\">\n",
              "      <button class=\"colab-df-quickchart\" onclick=\"quickchart('df-b492bcc9-ab3b-439c-b6c5-80531b60a2e5')\"\n",
              "                title=\"Suggest charts\"\n",
              "                style=\"display:none;\">\n",
              "\n",
              "<svg xmlns=\"http://www.w3.org/2000/svg\" height=\"24px\"viewBox=\"0 0 24 24\"\n",
              "     width=\"24px\">\n",
              "    <g>\n",
              "        <path d=\"M19 3H5c-1.1 0-2 .9-2 2v14c0 1.1.9 2 2 2h14c1.1 0 2-.9 2-2V5c0-1.1-.9-2-2-2zM9 17H7v-7h2v7zm4 0h-2V7h2v10zm4 0h-2v-4h2v4z\"/>\n",
              "    </g>\n",
              "</svg>\n",
              "      </button>\n",
              "\n",
              "<style>\n",
              "  .colab-df-quickchart {\n",
              "      --bg-color: #E8F0FE;\n",
              "      --fill-color: #1967D2;\n",
              "      --hover-bg-color: #E2EBFA;\n",
              "      --hover-fill-color: #174EA6;\n",
              "      --disabled-fill-color: #AAA;\n",
              "      --disabled-bg-color: #DDD;\n",
              "  }\n",
              "\n",
              "  [theme=dark] .colab-df-quickchart {\n",
              "      --bg-color: #3B4455;\n",
              "      --fill-color: #D2E3FC;\n",
              "      --hover-bg-color: #434B5C;\n",
              "      --hover-fill-color: #FFFFFF;\n",
              "      --disabled-bg-color: #3B4455;\n",
              "      --disabled-fill-color: #666;\n",
              "  }\n",
              "\n",
              "  .colab-df-quickchart {\n",
              "    background-color: var(--bg-color);\n",
              "    border: none;\n",
              "    border-radius: 50%;\n",
              "    cursor: pointer;\n",
              "    display: none;\n",
              "    fill: var(--fill-color);\n",
              "    height: 32px;\n",
              "    padding: 0;\n",
              "    width: 32px;\n",
              "  }\n",
              "\n",
              "  .colab-df-quickchart:hover {\n",
              "    background-color: var(--hover-bg-color);\n",
              "    box-shadow: 0 1px 2px rgba(60, 64, 67, 0.3), 0 1px 3px 1px rgba(60, 64, 67, 0.15);\n",
              "    fill: var(--button-hover-fill-color);\n",
              "  }\n",
              "\n",
              "  .colab-df-quickchart-complete:disabled,\n",
              "  .colab-df-quickchart-complete:disabled:hover {\n",
              "    background-color: var(--disabled-bg-color);\n",
              "    fill: var(--disabled-fill-color);\n",
              "    box-shadow: none;\n",
              "  }\n",
              "\n",
              "  .colab-df-spinner {\n",
              "    border: 2px solid var(--fill-color);\n",
              "    border-color: transparent;\n",
              "    border-bottom-color: var(--fill-color);\n",
              "    animation:\n",
              "      spin 1s steps(1) infinite;\n",
              "  }\n",
              "\n",
              "  @keyframes spin {\n",
              "    0% {\n",
              "      border-color: transparent;\n",
              "      border-bottom-color: var(--fill-color);\n",
              "      border-left-color: var(--fill-color);\n",
              "    }\n",
              "    20% {\n",
              "      border-color: transparent;\n",
              "      border-left-color: var(--fill-color);\n",
              "      border-top-color: var(--fill-color);\n",
              "    }\n",
              "    30% {\n",
              "      border-color: transparent;\n",
              "      border-left-color: var(--fill-color);\n",
              "      border-top-color: var(--fill-color);\n",
              "      border-right-color: var(--fill-color);\n",
              "    }\n",
              "    40% {\n",
              "      border-color: transparent;\n",
              "      border-right-color: var(--fill-color);\n",
              "      border-top-color: var(--fill-color);\n",
              "    }\n",
              "    60% {\n",
              "      border-color: transparent;\n",
              "      border-right-color: var(--fill-color);\n",
              "    }\n",
              "    80% {\n",
              "      border-color: transparent;\n",
              "      border-right-color: var(--fill-color);\n",
              "      border-bottom-color: var(--fill-color);\n",
              "    }\n",
              "    90% {\n",
              "      border-color: transparent;\n",
              "      border-bottom-color: var(--fill-color);\n",
              "    }\n",
              "  }\n",
              "</style>\n",
              "\n",
              "      <script>\n",
              "        async function quickchart(key) {\n",
              "          const quickchartButtonEl =\n",
              "            document.querySelector('#' + key + ' button');\n",
              "          quickchartButtonEl.disabled = true;  // To prevent multiple clicks.\n",
              "          quickchartButtonEl.classList.add('colab-df-spinner');\n",
              "          try {\n",
              "            const charts = await google.colab.kernel.invokeFunction(\n",
              "                'suggestCharts', [key], {});\n",
              "          } catch (error) {\n",
              "            console.error('Error during call to suggestCharts:', error);\n",
              "          }\n",
              "          quickchartButtonEl.classList.remove('colab-df-spinner');\n",
              "          quickchartButtonEl.classList.add('colab-df-quickchart-complete');\n",
              "        }\n",
              "        (() => {\n",
              "          let quickchartButtonEl =\n",
              "            document.querySelector('#df-b492bcc9-ab3b-439c-b6c5-80531b60a2e5 button');\n",
              "          quickchartButtonEl.style.display =\n",
              "            google.colab.kernel.accessAllowed ? 'block' : 'none';\n",
              "        })();\n",
              "      </script>\n",
              "    </div>\n",
              "\n",
              "    </div>\n",
              "  </div>\n"
            ],
            "application/vnd.google.colaboratory.intrinsic+json": {
              "type": "dataframe",
              "variable_name": "data1",
              "summary": "{\n  \"name\": \"data1\",\n  \"rows\": 97,\n  \"fields\": [\n    {\n      \"column\": \"Poblacion\",\n      \"properties\": {\n        \"dtype\": \"number\",\n        \"std\": 3.869883527882332,\n        \"min\": 5.0269,\n        \"max\": 22.203,\n        \"num_unique_values\": 97,\n        \"samples\": [\n          21.279,\n          5.4069,\n          5.3054\n        ],\n        \"semantic_type\": \"\",\n        \"description\": \"\"\n      }\n    },\n    {\n      \"column\": \"Ingresos\",\n      \"properties\": {\n        \"dtype\": \"number\",\n        \"std\": 5.510262255231544,\n        \"min\": -2.6807,\n        \"max\": 24.147,\n        \"num_unique_values\": 97,\n        \"samples\": [\n          17.929,\n          0.55657,\n          1.9869\n        ],\n        \"semantic_type\": \"\",\n        \"description\": \"\"\n      }\n    }\n  ]\n}"
            }
          },
          "metadata": {},
          "execution_count": 123
        }
      ]
    },
    {
      "cell_type": "markdown",
      "source": [
        "Primero definamos nuestra funcion de coste"
      ],
      "metadata": {
        "id": "2K2TDT16g28p"
      }
    },
    {
      "cell_type": "code",
      "execution_count": 124,
      "metadata": {
        "colab": {
          "base_uri": "https://localhost:8080/",
          "height": 405
        },
        "id": "DGpcH8NUPb8S",
        "outputId": "a4503d00-6629-4a42-e297-4f37bfdeda84"
      },
      "outputs": [
        {
          "output_type": "execute_result",
          "data": {
            "text/plain": [
              "[<matplotlib.lines.Line2D at 0x7ac2c2f46060>]"
            ]
          },
          "metadata": {},
          "execution_count": 124
        },
        {
          "output_type": "display_data",
          "data": {
            "text/plain": [
              "<Figure size 1000x400 with 1 Axes>"
            ],
            "image/png": "[encoded data removed]"
          },
          "metadata": {}
        }
      ],
      "source": [
        "plt.figure(figsize=(10, 4))\n",
        "plt.xlabel('Poblacion en 10,000s')\n",
        "plt.ylabel('Ingresos en $10,000s')\n",
        "plt.grid()\n",
        "plt.plot(data1.Poblacion, data1.Ingresos, 'bo')"
      ]
    },
    {
      "cell_type": "code",
      "source": [
        "def prepareData(data, n):\n",
        "\n",
        "    data.insert(0, 'Ones', 1)\n",
        "\n",
        "    x = data.iloc[:, 0:n+1]\n",
        "    y = data.iloc[:, n+1:n+2]\n",
        "\n",
        "    x = np.matrix(x.values)\n",
        "    y = np.matrix(y.values)\n",
        "    theta = np.matrix(np.zeros((n+1, 1)))\n",
        "    return x, y, theta"
      ],
      "metadata": {
        "id": "j19Q5yz2Csy6"
      },
      "execution_count": 125,
      "outputs": []
    },
    {
      "cell_type": "code",
      "source": [
        "n = len(data1.columns)-1 # quitamos la columma objetivo (a predecir)\n",
        "x, y, theta = prepareData(data1, n)\n",
        "x.shape, y.shape, theta.shape"
      ],
      "metadata": {
        "colab": {
          "base_uri": "https://localhost:8080/"
        },
        "id": "aMreF2bHC613",
        "outputId": "3a0d7eed-bf99-4337-b97a-20806d43c174"
      },
      "execution_count": 126,
      "outputs": [
        {
          "output_type": "execute_result",
          "data": {
            "text/plain": [
              "((97, 2), (97, 1), (2, 1))"
            ]
          },
          "metadata": {},
          "execution_count": 126
        }
      ]
    },
    {
      "cell_type": "code",
      "source": [],
      "metadata": {
        "id": "WAj-rfpUDWJg"
      },
      "execution_count": null,
      "outputs": []
    },
    {
      "cell_type": "code",
      "source": [
        "def computeCost(X, y, theta):\n",
        "\n",
        "    m = len(y)\n",
        "\n",
        "    ## Calculate the cost with the given parameters\n",
        "    cost = np.sum(np.square((x * theta) - y)) / (2 * m)\n",
        "    return cost"
      ],
      "metadata": {
        "id": "dOm72bAmn0oA"
      },
      "execution_count": 127,
      "outputs": []
    },
    {
      "cell_type": "code",
      "source": [
        "#veamos el coste inicial ( theta = 0s)\n",
        "computeCost(x, y, theta)"
      ],
      "metadata": {
        "id": "jowKeTAJO7YM",
        "colab": {
          "base_uri": "https://localhost:8080/"
        },
        "outputId": "2c02145f-855d-41ea-d2ef-fe524c4052cd"
      },
      "execution_count": 128,
      "outputs": [
        {
          "output_type": "execute_result",
          "data": {
            "text/plain": [
              "np.float64(32.072733877455676)"
            ]
          },
          "metadata": {},
          "execution_count": 128
        }
      ]
    },
    {
      "cell_type": "code",
      "source": [
        "def vector_gradient_descent(X, y, theta, alpha, iterations):\n",
        "\n",
        "    cost_anterior = computeCost(X, y, theta)\n",
        "    convergencia = False\n",
        "    m= len(X)\n",
        "    for i in range(iterations):\n",
        "        hypothesis = X.dot(theta)\n",
        "        loss = hypothesis-y\n",
        "        gradient = X.T.dot(loss)/m\n",
        "        theta = theta - alpha*gradient\n",
        "        cost_actual = computeCost(X, y, theta)\n",
        "        if(abs(cost_actual -cost_anterior)< epsilon):\n",
        "          convergencia = True\n",
        "          break\n",
        "        cost_anterior = cost_actual\n",
        "    if(convergencia == True):\n",
        "      print(\"Convergencia alcanzada en %d\",i)\n",
        "      return theta\n",
        "    else:\n",
        "      print(\"Convergencia NO alcanzada en %d iteraciones\",i)\n",
        "    return theta"
      ],
      "metadata": {
        "id": "bUMCcfEOQLrp"
      },
      "execution_count": 129,
      "outputs": []
    },
    {
      "cell_type": "code",
      "source": [
        "iterations = 10000000\n",
        "alpha = 0.01\n",
        "epsilon = 0.000000001\n",
        "n = len(data1.columns)-1\n",
        "#theta = np.matrix(np.zeros((2, 1)))\n",
        "print(theta)"
      ],
      "metadata": {
        "colab": {
          "base_uri": "https://localhost:8080/"
        },
        "id": "f8YSRm_AQMEQ",
        "outputId": "096719bf-b28c-4894-d710-b07bf9aff7f1"
      },
      "execution_count": 130,
      "outputs": [
        {
          "output_type": "stream",
          "name": "stdout",
          "text": [
            "[[0.]\n",
            " [0.]]\n"
          ]
        }
      ]
    },
    {
      "cell_type": "code",
      "source": [
        "theta_actual =  vector_gradient_descent(x, y, theta, alpha, iterations)\n",
        "print(theta_actual)"
      ],
      "metadata": {
        "colab": {
          "base_uri": "https://localhost:8080/"
        },
        "id": "lBmvDpBERAO5",
        "outputId": "10e08f1c-c16c-4e47-c2d8-033e123bb469"
      },
      "execution_count": 131,
      "outputs": [
        {
          "output_type": "stream",
          "name": "stdout",
          "text": [
            "Convergencia alcanzada en %d 4285\n",
            "[[-3.89403892]\n",
            " [ 1.19285865]]\n"
          ]
        }
      ]
    },
    {
      "cell_type": "code",
      "source": [
        "##Ecuación normal\n",
        "betaHat = np.linalg.inv(x.T.dot(x)).dot(x.T).dot(y)\n",
        "print('coefficients: \\n')\n",
        "print(betaHat)"
      ],
      "metadata": {
        "colab": {
          "base_uri": "https://localhost:8080/"
        },
        "id": "g3Sxq-Z-BPNi",
        "outputId": "990b9457-2664-45c0-c72b-a883e2126179"
      },
      "execution_count": 132,
      "outputs": [
        {
          "output_type": "stream",
          "name": "stdout",
          "text": [
            "coefficients: \n",
            "\n",
            "[[-3.89578088]\n",
            " [ 1.19303364]]\n"
          ]
        }
      ]
    },
    {
      "cell_type": "code",
      "source": [
        "from sklearn.model_selection import train_test_split\n",
        "from sklearn.linear_model import LinearRegression\n",
        "from sklearn.metrics import mean_squared_error, mean_absolute_error\n",
        "from sklearn import preprocessing\n"
      ],
      "metadata": {
        "id": "P0JFGFio_Ki0"
      },
      "execution_count": 133,
      "outputs": []
    },
    {
      "cell_type": "code",
      "source": [
        "x1 = x[:,1:2]\n",
        "y1=y\n",
        "x1.shape, y1.shape"
      ],
      "metadata": {
        "id": "EBPXwmKulIsl",
        "colab": {
          "base_uri": "https://localhost:8080/"
        },
        "outputId": "88cfe394-b00b-4d53-d824-54bb1aec1e7b"
      },
      "execution_count": 134,
      "outputs": [
        {
          "output_type": "execute_result",
          "data": {
            "text/plain": [
              "((97, 1), (97, 1))"
            ]
          },
          "metadata": {},
          "execution_count": 134
        }
      ]
    },
    {
      "cell_type": "code",
      "source": [
        "X_train, X_test, y_train, y_test = train_test_split( x1, y1, train_size = 0.7, test_size = 0.3, random_state = 0 )"
      ],
      "metadata": {
        "id": "fcw_mJNjlGhn"
      },
      "execution_count": 135,
      "outputs": []
    },
    {
      "cell_type": "code",
      "source": [
        "print(x1.shape,y1.shape)\n",
        "print( X_train.shape )\n",
        "print( X_test.shape )\n",
        "print( y_train.shape )\n",
        "print( y_test.shape )"
      ],
      "metadata": {
        "colab": {
          "base_uri": "https://localhost:8080/"
        },
        "id": "d6THHziKmaTR",
        "outputId": "8d72a47a-4a54-472f-b205-57b093ce5133"
      },
      "execution_count": 148,
      "outputs": [
        {
          "output_type": "stream",
          "name": "stdout",
          "text": [
            "(97, 1) (97, 1)\n",
            "(67, 1)\n",
            "(30, 1)\n",
            "(67, 1)\n",
            "(30, 1)\n"
          ]
        }
      ]
    },
    {
      "cell_type": "code",
      "source": [
        "model = LinearRegression()\n",
        "model.fit(np.asarray(X_train),np.asarray(y_train))\n",
        "model.fit(np.asarray(X_train),np.asarray(y_train))"
      ],
      "metadata": {
        "colab": {
          "base_uri": "https://localhost:8080/",
          "height": 80
        },
        "collapsed": true,
        "id": "jEx1A2gzJzLA",
        "outputId": "4eaba6da-5c9f-4516-b73b-6f2f228aff4f"
      },
      "execution_count": 141,
      "outputs": [
        {
          "output_type": "execute_result",
          "data": {
            "text/plain": [
              "LinearRegression()"
            ],
            "text/html": [
              "<style>#sk-container-id-6 {\n",
              "  /* Definition of color scheme common for light and dark mode */\n",
              "  --sklearn-color-text: #000;\n",
              "  --sklearn-color-text-muted: #666;\n",
              "  --sklearn-color-line: gray;\n",
              "  /* Definition of color scheme for unfitted estimators */\n",
              "  --sklearn-color-unfitted-level-0: #fff5e6;\n",
              "  --sklearn-color-unfitted-level-1: #f6e4d2;\n",
              "  --sklearn-color-unfitted-level-2: #ffe0b3;\n",
              "  --sklearn-color-unfitted-level-3: chocolate;\n",
              "  /* Definition of color scheme for fitted estimators */\n",
              "  --sklearn-color-fitted-level-0: #f0f8ff;\n",
              "  --sklearn-color-fitted-level-1: #d4ebff;\n",
              "  --sklearn-color-fitted-level-2: #b3dbfd;\n",
              "  --sklearn-color-fitted-level-3: cornflowerblue;\n",
              "\n",
              "  /* Specific color for light theme */\n",
              "  --sklearn-color-text-on-default-background: var(--sg-text-color, var(--theme-code-foreground, var(--jp-content-font-color1, black)));\n",
              "  --sklearn-color-background: var(--sg-background-color, var(--theme-background, var(--jp-layout-color0, white)));\n",
              "  --sklearn-color-border-box: var(--sg-text-color, var(--theme-code-foreground, var(--jp-content-font-color1, black)));\n",
              "  --sklearn-color-icon: #696969;\n",
              "\n",
              "  @media (prefers-color-scheme: dark) {\n",
              "    /* Redefinition of color scheme for dark theme */\n",
              "    --sklearn-color-text-on-default-background: var(--sg-text-color, var(--theme-code-foreground, var(--jp-content-font-color1, white)));\n",
              "    --sklearn-color-background: var(--sg-background-color, var(--theme-background, var(--jp-layout-color0, #111)));\n",
              "    --sklearn-color-border-box: var(--sg-text-color, var(--theme-code-foreground, var(--jp-content-font-color1, white)));\n",
              "    --sklearn-color-icon: #878787;\n",
              "  }\n",
              "}\n",
              "\n",
              "#sk-container-id-6 {\n",
              "  color: var(--sklearn-color-text);\n",
              "}\n",
              "\n",
              "#sk-container-id-6 pre {\n",
              "  padding: 0;\n",
              "}\n",
              "\n",
              "#sk-container-id-6 input.sk-hidden--visually {\n",
              "  border: 0;\n",
              "  clip: rect(1px 1px 1px 1px);\n",
              "  clip: rect(1px, 1px, 1px, 1px);\n",
              "  height: 1px;\n",
              "  margin: -1px;\n",
              "  overflow: hidden;\n",
              "  padding: 0;\n",
              "  position: absolute;\n",
              "  width: 1px;\n",
              "}\n",
              "\n",
              "#sk-container-id-6 div.sk-dashed-wrapped {\n",
              "  border: 1px dashed var(--sklearn-color-line);\n",
              "  margin: 0 0.4em 0.5em 0.4em;\n",
              "  box-sizing: border-box;\n",
              "  padding-bottom: 0.4em;\n",
              "  background-color: var(--sklearn-color-background);\n",
              "}\n",
              "\n",
              "#sk-container-id-6 div.sk-container {\n",
              "  /* jupyter's `normalize.less` sets `[hidden] { display: none; }`\n",
              "     but bootstrap.min.css set `[hidden] { display: none !important; }`\n",
              "     so we also need the `!important` here to be able to override the\n",
              "     default hidden behavior on the sphinx rendered scikit-learn.org.\n",
              "     See: https://github.com/scikit-learn/scikit-learn/issues/21755 */\n",
              "  display: inline-block !important;\n",
              "  position: relative;\n",
              "}\n",
              "\n",
              "#sk-container-id-6 div.sk-text-repr-fallback {\n",
              "  display: none;\n",
              "}\n",
              "\n",
              "div.sk-parallel-item,\n",
              "div.sk-serial,\n",
              "div.sk-item {\n",
              "  /* draw centered vertical line to link estimators */\n",
              "  background-image: linear-gradient(var(--sklearn-color-text-on-default-background), var(--sklearn-color-text-on-default-background));\n",
              "  background-size: 2px 100%;\n",
              "  background-repeat: no-repeat;\n",
              "  background-position: center center;\n",
              "}\n",
              "\n",
              "/* Parallel-specific style estimator block */\n",
              "\n",
              "#sk-container-id-6 div.sk-parallel-item::after {\n",
              "  content: \"\";\n",
              "  width: 100%;\n",
              "  border-bottom: 2px solid var(--sklearn-color-text-on-default-background);\n",
              "  flex-grow: 1;\n",
              "}\n",
              "\n",
              "#sk-container-id-6 div.sk-parallel {\n",
              "  display: flex;\n",
              "  align-items: stretch;\n",
              "  justify-content: center;\n",
              "  background-color: var(--sklearn-color-background);\n",
              "  position: relative;\n",
              "}\n",
              "\n",
              "#sk-container-id-6 div.sk-parallel-item {\n",
              "  display: flex;\n",
              "  flex-direction: column;\n",
              "}\n",
              "\n",
              "#sk-container-id-6 div.sk-parallel-item:first-child::after {\n",
              "  align-self: flex-end;\n",
              "  width: 50%;\n",
              "}\n",
              "\n",
              "#sk-container-id-6 div.sk-parallel-item:last-child::after {\n",
              "  align-self: flex-start;\n",
              "  width: 50%;\n",
              "}\n",
              "\n",
              "#sk-container-id-6 div.sk-parallel-item:only-child::after {\n",
              "  width: 0;\n",
              "}\n",
              "\n",
              "/* Serial-specific style estimator block */\n",
              "\n",
              "#sk-container-id-6 div.sk-serial {\n",
              "  display: flex;\n",
              "  flex-direction: column;\n",
              "  align-items: center;\n",
              "  background-color: var(--sklearn-color-background);\n",
              "  padding-right: 1em;\n",
              "  padding-left: 1em;\n",
              "}\n",
              "\n",
              "\n",
              "/* Toggleable style: style used for estimator/Pipeline/ColumnTransformer box that is\n",
              "clickable and can be expanded/collapsed.\n",
              "- Pipeline and ColumnTransformer use this feature and define the default style\n",
              "- Estimators will overwrite some part of the style using the `sk-estimator` class\n",
              "*/\n",
              "\n",
              "/* Pipeline and ColumnTransformer style (default) */\n",
              "\n",
              "#sk-container-id-6 div.sk-toggleable {\n",
              "  /* Default theme specific background. It is overwritten whether we have a\n",
              "  specific estimator or a Pipeline/ColumnTransformer */\n",
              "  background-color: var(--sklearn-color-background);\n",
              "}\n",
              "\n",
              "/* Toggleable label */\n",
              "#sk-container-id-6 label.sk-toggleable__label {\n",
              "  cursor: pointer;\n",
              "  display: flex;\n",
              "  width: 100%;\n",
              "  margin-bottom: 0;\n",
              "  padding: 0.5em;\n",
              "  box-sizing: border-box;\n",
              "  text-align: center;\n",
              "  align-items: start;\n",
              "  justify-content: space-between;\n",
              "  gap: 0.5em;\n",
              "}\n",
              "\n",
              "#sk-container-id-6 label.sk-toggleable__label .caption {\n",
              "  font-size: 0.6rem;\n",
              "  font-weight: lighter;\n",
              "  color: var(--sklearn-color-text-muted);\n",
              "}\n",
              "\n",
              "#sk-container-id-6 label.sk-toggleable__label-arrow:before {\n",
              "  /* Arrow on the left of the label */\n",
              "  content: \"▸\";\n",
              "  float: left;\n",
              "  margin-right: 0.25em;\n",
              "  color: var(--sklearn-color-icon);\n",
              "}\n",
              "\n",
              "#sk-container-id-6 label.sk-toggleable__label-arrow:hover:before {\n",
              "  color: var(--sklearn-color-text);\n",
              "}\n",
              "\n",
              "/* Toggleable content - dropdown */\n",
              "\n",
              "#sk-container-id-6 div.sk-toggleable__content {\n",
              "  max-height: 0;\n",
              "  max-width: 0;\n",
              "  overflow: hidden;\n",
              "  text-align: left;\n",
              "  /* unfitted */\n",
              "  background-color: var(--sklearn-color-unfitted-level-0);\n",
              "}\n",
              "\n",
              "#sk-container-id-6 div.sk-toggleable__content.fitted {\n",
              "  /* fitted */\n",
              "  background-color: var(--sklearn-color-fitted-level-0);\n",
              "}\n",
              "\n",
              "#sk-container-id-6 div.sk-toggleable__content pre {\n",
              "  margin: 0.2em;\n",
              "  border-radius: 0.25em;\n",
              "  color: var(--sklearn-color-text);\n",
              "  /* unfitted */\n",
              "  background-color: var(--sklearn-color-unfitted-level-0);\n",
              "}\n",
              "\n",
              "#sk-container-id-6 div.sk-toggleable__content.fitted pre {\n",
              "  /* unfitted */\n",
              "  background-color: var(--sklearn-color-fitted-level-0);\n",
              "}\n",
              "\n",
              "#sk-container-id-6 input.sk-toggleable__control:checked~div.sk-toggleable__content {\n",
              "  /* Expand drop-down */\n",
              "  max-height: 200px;\n",
              "  max-width: 100%;\n",
              "  overflow: auto;\n",
              "}\n",
              "\n",
              "#sk-container-id-6 input.sk-toggleable__control:checked~label.sk-toggleable__label-arrow:before {\n",
              "  content: \"▾\";\n",
              "}\n",
              "\n",
              "/* Pipeline/ColumnTransformer-specific style */\n",
              "\n",
              "#sk-container-id-6 div.sk-label input.sk-toggleable__control:checked~label.sk-toggleable__label {\n",
              "  color: var(--sklearn-color-text);\n",
              "  background-color: var(--sklearn-color-unfitted-level-2);\n",
              "}\n",
              "\n",
              "#sk-container-id-6 div.sk-label.fitted input.sk-toggleable__control:checked~label.sk-toggleable__label {\n",
              "  background-color: var(--sklearn-color-fitted-level-2);\n",
              "}\n",
              "\n",
              "/* Estimator-specific style */\n",
              "\n",
              "/* Colorize estimator box */\n",
              "#sk-container-id-6 div.sk-estimator input.sk-toggleable__control:checked~label.sk-toggleable__label {\n",
              "  /* unfitted */\n",
              "  background-color: var(--sklearn-color-unfitted-level-2);\n",
              "}\n",
              "\n",
              "#sk-container-id-6 div.sk-estimator.fitted input.sk-toggleable__control:checked~label.sk-toggleable__label {\n",
              "  /* fitted */\n",
              "  background-color: var(--sklearn-color-fitted-level-2);\n",
              "}\n",
              "\n",
              "#sk-container-id-6 div.sk-label label.sk-toggleable__label,\n",
              "#sk-container-id-6 div.sk-label label {\n",
              "  /* The background is the default theme color */\n",
              "  color: var(--sklearn-color-text-on-default-background);\n",
              "}\n",
              "\n",
              "/* On hover, darken the color of the background */\n",
              "#sk-container-id-6 div.sk-label:hover label.sk-toggleable__label {\n",
              "  color: var(--sklearn-color-text);\n",
              "  background-color: var(--sklearn-color-unfitted-level-2);\n",
              "}\n",
              "\n",
              "/* Label box, darken color on hover, fitted */\n",
              "#sk-container-id-6 div.sk-label.fitted:hover label.sk-toggleable__label.fitted {\n",
              "  color: var(--sklearn-color-text);\n",
              "  background-color: var(--sklearn-color-fitted-level-2);\n",
              "}\n",
              "\n",
              "/* Estimator label */\n",
              "\n",
              "#sk-container-id-6 div.sk-label label {\n",
              "  font-family: monospace;\n",
              "  font-weight: bold;\n",
              "  display: inline-block;\n",
              "  line-height: 1.2em;\n",
              "}\n",
              "\n",
              "#sk-container-id-6 div.sk-label-container {\n",
              "  text-align: center;\n",
              "}\n",
              "\n",
              "/* Estimator-specific */\n",
              "#sk-container-id-6 div.sk-estimator {\n",
              "  font-family: monospace;\n",
              "  border: 1px dotted var(--sklearn-color-border-box);\n",
              "  border-radius: 0.25em;\n",
              "  box-sizing: border-box;\n",
              "  margin-bottom: 0.5em;\n",
              "  /* unfitted */\n",
              "  background-color: var(--sklearn-color-unfitted-level-0);\n",
              "}\n",
              "\n",
              "#sk-container-id-6 div.sk-estimator.fitted {\n",
              "  /* fitted */\n",
              "  background-color: var(--sklearn-color-fitted-level-0);\n",
              "}\n",
              "\n",
              "/* on hover */\n",
              "#sk-container-id-6 div.sk-estimator:hover {\n",
              "  /* unfitted */\n",
              "  background-color: var(--sklearn-color-unfitted-level-2);\n",
              "}\n",
              "\n",
              "#sk-container-id-6 div.sk-estimator.fitted:hover {\n",
              "  /* fitted */\n",
              "  background-color: var(--sklearn-color-fitted-level-2);\n",
              "}\n",
              "\n",
              "/* Specification for estimator info (e.g. \"i\" and \"?\") */\n",
              "\n",
              "/* Common style for \"i\" and \"?\" */\n",
              "\n",
              ".sk-estimator-doc-link,\n",
              "a:link.sk-estimator-doc-link,\n",
              "a:visited.sk-estimator-doc-link {\n",
              "  float: right;\n",
              "  font-size: smaller;\n",
              "  line-height: 1em;\n",
              "  font-family: monospace;\n",
              "  background-color: var(--sklearn-color-background);\n",
              "  border-radius: 1em;\n",
              "  height: 1em;\n",
              "  width: 1em;\n",
              "  text-decoration: none !important;\n",
              "  margin-left: 0.5em;\n",
              "  text-align: center;\n",
              "  /* unfitted */\n",
              "  border: var(--sklearn-color-unfitted-level-1) 1pt solid;\n",
              "  color: var(--sklearn-color-unfitted-level-1);\n",
              "}\n",
              "\n",
              ".sk-estimator-doc-link.fitted,\n",
              "a:link.sk-estimator-doc-link.fitted,\n",
              "a:visited.sk-estimator-doc-link.fitted {\n",
              "  /* fitted */\n",
              "  border: var(--sklearn-color-fitted-level-1) 1pt solid;\n",
              "  color: var(--sklearn-color-fitted-level-1);\n",
              "}\n",
              "\n",
              "/* On hover */\n",
              "div.sk-estimator:hover .sk-estimator-doc-link:hover,\n",
              ".sk-estimator-doc-link:hover,\n",
              "div.sk-label-container:hover .sk-estimator-doc-link:hover,\n",
              ".sk-estimator-doc-link:hover {\n",
              "  /* unfitted */\n",
              "  background-color: var(--sklearn-color-unfitted-level-3);\n",
              "  color: var(--sklearn-color-background);\n",
              "  text-decoration: none;\n",
              "}\n",
              "\n",
              "div.sk-estimator.fitted:hover .sk-estimator-doc-link.fitted:hover,\n",
              ".sk-estimator-doc-link.fitted:hover,\n",
              "div.sk-label-container:hover .sk-estimator-doc-link.fitted:hover,\n",
              ".sk-estimator-doc-link.fitted:hover {\n",
              "  /* fitted */\n",
              "  background-color: var(--sklearn-color-fitted-level-3);\n",
              "  color: var(--sklearn-color-background);\n",
              "  text-decoration: none;\n",
              "}\n",
              "\n",
              "/* Span, style for the box shown on hovering the info icon */\n",
              ".sk-estimator-doc-link span {\n",
              "  display: none;\n",
              "  z-index: 9999;\n",
              "  position: relative;\n",
              "  font-weight: normal;\n",
              "  right: .2ex;\n",
              "  padding: .5ex;\n",
              "  margin: .5ex;\n",
              "  width: min-content;\n",
              "  min-width: 20ex;\n",
              "  max-width: 50ex;\n",
              "  color: var(--sklearn-color-text);\n",
              "  box-shadow: 2pt 2pt 4pt #999;\n",
              "  /* unfitted */\n",
              "  background: var(--sklearn-color-unfitted-level-0);\n",
              "  border: .5pt solid var(--sklearn-color-unfitted-level-3);\n",
              "}\n",
              "\n",
              ".sk-estimator-doc-link.fitted span {\n",
              "  /* fitted */\n",
              "  background: var(--sklearn-color-fitted-level-0);\n",
              "  border: var(--sklearn-color-fitted-level-3);\n",
              "}\n",
              "\n",
              ".sk-estimator-doc-link:hover span {\n",
              "  display: block;\n",
              "}\n",
              "\n",
              "/* \"?\"-specific style due to the `<a>` HTML tag */\n",
              "\n",
              "#sk-container-id-6 a.estimator_doc_link {\n",
              "  float: right;\n",
              "  font-size: 1rem;\n",
              "  line-height: 1em;\n",
              "  font-family: monospace;\n",
              "  background-color: var(--sklearn-color-background);\n",
              "  border-radius: 1rem;\n",
              "  height: 1rem;\n",
              "  width: 1rem;\n",
              "  text-decoration: none;\n",
              "  /* unfitted */\n",
              "  color: var(--sklearn-color-unfitted-level-1);\n",
              "  border: var(--sklearn-color-unfitted-level-1) 1pt solid;\n",
              "}\n",
              "\n",
              "#sk-container-id-6 a.estimator_doc_link.fitted {\n",
              "  /* fitted */\n",
              "  border: var(--sklearn-color-fitted-level-1) 1pt solid;\n",
              "  color: var(--sklearn-color-fitted-level-1);\n",
              "}\n",
              "\n",
              "/* On hover */\n",
              "#sk-container-id-6 a.estimator_doc_link:hover {\n",
              "  /* unfitted */\n",
              "  background-color: var(--sklearn-color-unfitted-level-3);\n",
              "  color: var(--sklearn-color-background);\n",
              "  text-decoration: none;\n",
              "}\n",
              "\n",
              "#sk-container-id-6 a.estimator_doc_link.fitted:hover {\n",
              "  /* fitted */\n",
              "  background-color: var(--sklearn-color-fitted-level-3);\n",
              "}\n",
              "</style><div id=\"sk-container-id-6\" class=\"sk-top-container\"><div class=\"sk-text-repr-fallback\"><pre>LinearRegression()</pre><b>In a Jupyter environment, please rerun this cell to show the HTML representation or trust the notebook. <br />On GitHub, the HTML representation is unable to render, please try loading this page with nbviewer.org.</b></div><div class=\"sk-container\" hidden><div class=\"sk-item\"><div class=\"sk-estimator fitted sk-toggleable\"><input class=\"sk-toggleable__control sk-hidden--visually\" id=\"sk-estimator-id-6\" type=\"checkbox\" checked><label for=\"sk-estimator-id-6\" class=\"sk-toggleable__label fitted sk-toggleable__label-arrow\"><div><div>LinearRegression</div></div><div><a class=\"sk-estimator-doc-link fitted\" rel=\"noreferrer\" target=\"_blank\" href=\"https://scikit-learn.org/1.6/modules/generated/sklearn.linear_model.LinearRegression.html\">?<span>Documentation for LinearRegression</span></a><span class=\"sk-estimator-doc-link fitted\">i<span>Fitted</span></span></div></label><div class=\"sk-toggleable__content fitted\"><pre>LinearRegression()</pre></div> </div></div></div></div>"
            ]
          },
          "metadata": {},
          "execution_count": 141
        }
      ]
    },
    {
      "cell_type": "code",
      "source": [
        "print('model intercept :', model.intercept_)\n",
        "print('model coefficients : ', model.coef_)\n",
        "print('Model score : ', model.score(np.asarray(x1), np.asarray(y)))"
      ],
      "metadata": {
        "colab": {
          "base_uri": "https://localhost:8080/"
        },
        "id": "v7llmRdqKSsK",
        "outputId": "3c126f57-bf6c-4f60-c978-24dcee2afe80"
      },
      "execution_count": 142,
      "outputs": [
        {
          "output_type": "stream",
          "name": "stdout",
          "text": [
            "model intercept : [-3.86246206]\n",
            "model coefficients :  [[1.19869775]]\n",
            "Model score :  0.701805210510978\n"
          ]
        }
      ]
    },
    {
      "cell_type": "code",
      "source": [
        "predictions = model.predict(np.asarray(X_test))"
      ],
      "metadata": {
        "id": "GUINsv5hJD4t"
      },
      "execution_count": 91,
      "outputs": []
    },
    {
      "cell_type": "code",
      "source": [
        "# model evaluation\n",
        "print(  'mean_squared_error : ', mean_squared_error(np.asarray(y_test), predictions))\n",
        "print(  'mean_absolute_error : ',mean_absolute_error(np.asarray(y_test), predictions))"
      ],
      "metadata": {
        "colab": {
          "base_uri": "https://localhost:8080/"
        },
        "id": "LAG0MEpRI-LX",
        "outputId": "b1cc6c71-9733-476b-af52-347f9c2aea4e"
      },
      "execution_count": 143,
      "outputs": [
        {
          "output_type": "stream",
          "name": "stdout",
          "text": [
            "mean_squared_error :  9.097634202063352\n",
            "mean_absolute_error :  2.341654819981191\n"
          ]
        }
      ]
    },
    {
      "cell_type": "code",
      "source": [
        "y_pred= model.predict(np.asarray(x1))\n",
        "#dibujemos los datos y la recta\n",
        "plt.scatter(np.asarray(X_train),np.asarray(y_train))\n",
        "plt.plot(np.asarray(x1),np.asarray(y_pred),color='red')\n",
        "plt.show()"
      ],
      "metadata": {
        "id": "T2H30J7AvdCF",
        "colab": {
          "base_uri": "https://localhost:8080/",
          "height": 430
        },
        "outputId": "9976866f-7e39-4de9-fbe7-444884b6d2da"
      },
      "execution_count": 145,
      "outputs": [
        {
          "output_type": "display_data",
          "data": {
            "text/plain": [
              "<Figure size 640x480 with 1 Axes>"
            ],
            "image/png": "[encoded data removed]"
          },
          "metadata": {}
        }
      ]
    },
    {
      "cell_type": "code",
      "source": [
        "reales=y1.reshape(-1)\n",
        "teoricos=y_pred.reshape(97,)\n",
        "reales.shape"
      ],
      "metadata": {
        "id": "gCcAX-LCUcbJ",
        "outputId": "9b9d140c-4efa-4572-f8b5-7e28f23c7df5",
        "colab": {
          "base_uri": "https://localhost:8080/"
        }
      },
      "execution_count": 177,
      "outputs": [
        {
          "output_type": "execute_result",
          "data": {
            "text/plain": [
              "(1, 97)"
            ]
          },
          "metadata": {},
          "execution_count": 177
        }
      ]
    },
    {
      "cell_type": "code",
      "source": [
        "df=pd.DataFrame({'Actual':reales,'Pred':teoricos})\n",
        "df.head()"
      ],
      "metadata": {
        "colab": {
          "base_uri": "https://localhost:8080/",
          "height": 304
        },
        "id": "M_nv2Uzd1on9",
        "outputId": "30d4f270-23ba-46c5-dc6d-f06a2a8190d1"
      },
      "execution_count": 170,
      "outputs": [
        {
          "output_type": "error",
          "ename": "ValueError",
          "evalue": "Per-column arrays must each be 1-dimensional",
          "traceback": [
            "\u001b[0;31m---------------------------------------------------------------------------\u001b[0m",
            "\u001b[0;31mValueError\u001b[0m                                Traceback (most recent call last)",
            "\u001b[0;32m/tmp/ipython-input-3060126386.py\u001b[0m in \u001b[0;36m<cell line: 0>\u001b[0;34m()\u001b[0m\n\u001b[0;32m----> 1\u001b[0;31m \u001b[0mdf\u001b[0m\u001b[0;34m=\u001b[0m\u001b[0mpd\u001b[0m\u001b[0;34m.\u001b[0m\u001b[0mDataFrame\u001b[0m\u001b[0;34m(\u001b[0m\u001b[0;34m{\u001b[0m\u001b[0;34m'Actual'\u001b[0m\u001b[0;34m:\u001b[0m\u001b[0mreales\u001b[0m\u001b[0;34m,\u001b[0m\u001b[0;34m'Pred'\u001b[0m\u001b[0;34m:\u001b[0m\u001b[0mteoricos\u001b[0m\u001b[0;34m}\u001b[0m\u001b[0;34m)\u001b[0m\u001b[0;34m\u001b[0m\u001b[0;34m\u001b[0m\u001b[0m\n\u001b[0m\u001b[1;32m      2\u001b[0m \u001b[0mdf\u001b[0m\u001b[0;34m.\u001b[0m\u001b[0mhead\u001b[0m\u001b[0;34m(\u001b[0m\u001b[0;34m)\u001b[0m\u001b[0;34m\u001b[0m\u001b[0;34m\u001b[0m\u001b[0m\n",
            "\u001b[0;32m/usr/local/lib/python3.12/dist-packages/pandas/core/frame.py\u001b[0m in \u001b[0;36m__init__\u001b[0;34m(self, data, index, columns, dtype, copy)\u001b[0m\n\u001b[1;32m    776\u001b[0m         \u001b[0;32melif\u001b[0m \u001b[0misinstance\u001b[0m\u001b[0;34m(\u001b[0m\u001b[0mdata\u001b[0m\u001b[0;34m,\u001b[0m \u001b[0mdict\u001b[0m\u001b[0;34m)\u001b[0m\u001b[0;34m:\u001b[0m\u001b[0;34m\u001b[0m\u001b[0;34m\u001b[0m\u001b[0m\n\u001b[1;32m    777\u001b[0m             \u001b[0;31m# GH#38939 de facto copy defaults to False only in non-dict cases\u001b[0m\u001b[0;34m\u001b[0m\u001b[0;34m\u001b[0m\u001b[0m\n\u001b[0;32m--> 778\u001b[0;31m             \u001b[0mmgr\u001b[0m \u001b[0;34m=\u001b[0m \u001b[0mdict_to_mgr\u001b[0m\u001b[0;34m(\u001b[0m\u001b[0mdata\u001b[0m\u001b[0;34m,\u001b[0m \u001b[0mindex\u001b[0m\u001b[0;34m,\u001b[0m \u001b[0mcolumns\u001b[0m\u001b[0;34m,\u001b[0m \u001b[0mdtype\u001b[0m\u001b[0;34m=\u001b[0m\u001b[0mdtype\u001b[0m\u001b[0;34m,\u001b[0m \u001b[0mcopy\u001b[0m\u001b[0;34m=\u001b[0m\u001b[0mcopy\u001b[0m\u001b[0;34m,\u001b[0m \u001b[0mtyp\u001b[0m\u001b[0;34m=\u001b[0m\u001b[0mmanager\u001b[0m\u001b[0;34m)\u001b[0m\u001b[0;34m\u001b[0m\u001b[0;34m\u001b[0m\u001b[0m\n\u001b[0m\u001b[1;32m    779\u001b[0m         \u001b[0;32melif\u001b[0m \u001b[0misinstance\u001b[0m\u001b[0;34m(\u001b[0m\u001b[0mdata\u001b[0m\u001b[0;34m,\u001b[0m \u001b[0mma\u001b[0m\u001b[0;34m.\u001b[0m\u001b[0mMaskedArray\u001b[0m\u001b[0;34m)\u001b[0m\u001b[0;34m:\u001b[0m\u001b[0;34m\u001b[0m\u001b[0;34m\u001b[0m\u001b[0m\n\u001b[1;32m    780\u001b[0m             \u001b[0;32mfrom\u001b[0m \u001b[0mnumpy\u001b[0m\u001b[0;34m.\u001b[0m\u001b[0mma\u001b[0m \u001b[0;32mimport\u001b[0m \u001b[0mmrecords\u001b[0m\u001b[0;34m\u001b[0m\u001b[0;34m\u001b[0m\u001b[0m\n",
            "\u001b[0;32m/usr/local/lib/python3.12/dist-packages/pandas/core/internals/construction.py\u001b[0m in \u001b[0;36mdict_to_mgr\u001b[0;34m(data, index, columns, dtype, typ, copy)\u001b[0m\n\u001b[1;32m    501\u001b[0m             \u001b[0marrays\u001b[0m \u001b[0;34m=\u001b[0m \u001b[0;34m[\u001b[0m\u001b[0mx\u001b[0m\u001b[0;34m.\u001b[0m\u001b[0mcopy\u001b[0m\u001b[0;34m(\u001b[0m\u001b[0;34m)\u001b[0m \u001b[0;32mif\u001b[0m \u001b[0mhasattr\u001b[0m\u001b[0;34m(\u001b[0m\u001b[0mx\u001b[0m\u001b[0;34m,\u001b[0m \u001b[0;34m\"dtype\"\u001b[0m\u001b[0;34m)\u001b[0m \u001b[0;32melse\u001b[0m \u001b[0mx\u001b[0m \u001b[0;32mfor\u001b[0m \u001b[0mx\u001b[0m \u001b[0;32min\u001b[0m \u001b[0marrays\u001b[0m\u001b[0;34m]\u001b[0m\u001b[0;34m\u001b[0m\u001b[0;34m\u001b[0m\u001b[0m\n\u001b[1;32m    502\u001b[0m \u001b[0;34m\u001b[0m\u001b[0m\n\u001b[0;32m--> 503\u001b[0;31m     \u001b[0;32mreturn\u001b[0m \u001b[0marrays_to_mgr\u001b[0m\u001b[0;34m(\u001b[0m\u001b[0marrays\u001b[0m\u001b[0;34m,\u001b[0m \u001b[0mcolumns\u001b[0m\u001b[0;34m,\u001b[0m \u001b[0mindex\u001b[0m\u001b[0;34m,\u001b[0m \u001b[0mdtype\u001b[0m\u001b[0;34m=\u001b[0m\u001b[0mdtype\u001b[0m\u001b[0;34m,\u001b[0m \u001b[0mtyp\u001b[0m\u001b[0;34m=\u001b[0m\u001b[0mtyp\u001b[0m\u001b[0;34m,\u001b[0m \u001b[0mconsolidate\u001b[0m\u001b[0;34m=\u001b[0m\u001b[0mcopy\u001b[0m\u001b[0;34m)\u001b[0m\u001b[0;34m\u001b[0m\u001b[0;34m\u001b[0m\u001b[0m\n\u001b[0m\u001b[1;32m    504\u001b[0m \u001b[0;34m\u001b[0m\u001b[0m\n\u001b[1;32m    505\u001b[0m \u001b[0;34m\u001b[0m\u001b[0m\n",
            "\u001b[0;32m/usr/local/lib/python3.12/dist-packages/pandas/core/internals/construction.py\u001b[0m in \u001b[0;36marrays_to_mgr\u001b[0;34m(arrays, columns, index, dtype, verify_integrity, typ, consolidate)\u001b[0m\n\u001b[1;32m    112\u001b[0m         \u001b[0;31m# figure out the index, if necessary\u001b[0m\u001b[0;34m\u001b[0m\u001b[0;34m\u001b[0m\u001b[0m\n\u001b[1;32m    113\u001b[0m         \u001b[0;32mif\u001b[0m \u001b[0mindex\u001b[0m \u001b[0;32mis\u001b[0m \u001b[0;32mNone\u001b[0m\u001b[0;34m:\u001b[0m\u001b[0;34m\u001b[0m\u001b[0;34m\u001b[0m\u001b[0m\n\u001b[0;32m--> 114\u001b[0;31m             \u001b[0mindex\u001b[0m \u001b[0;34m=\u001b[0m \u001b[0m_extract_index\u001b[0m\u001b[0;34m(\u001b[0m\u001b[0marrays\u001b[0m\u001b[0;34m)\u001b[0m\u001b[0;34m\u001b[0m\u001b[0;34m\u001b[0m\u001b[0m\n\u001b[0m\u001b[1;32m    115\u001b[0m         \u001b[0;32melse\u001b[0m\u001b[0;34m:\u001b[0m\u001b[0;34m\u001b[0m\u001b[0;34m\u001b[0m\u001b[0m\n\u001b[1;32m    116\u001b[0m             \u001b[0mindex\u001b[0m \u001b[0;34m=\u001b[0m \u001b[0mensure_index\u001b[0m\u001b[0;34m(\u001b[0m\u001b[0mindex\u001b[0m\u001b[0;34m)\u001b[0m\u001b[0;34m\u001b[0m\u001b[0;34m\u001b[0m\u001b[0m\n",
            "\u001b[0;32m/usr/local/lib/python3.12/dist-packages/pandas/core/internals/construction.py\u001b[0m in \u001b[0;36m_extract_index\u001b[0;34m(data)\u001b[0m\n\u001b[1;32m    662\u001b[0m             \u001b[0mraw_lengths\u001b[0m\u001b[0;34m.\u001b[0m\u001b[0mappend\u001b[0m\u001b[0;34m(\u001b[0m\u001b[0mlen\u001b[0m\u001b[0;34m(\u001b[0m\u001b[0mval\u001b[0m\u001b[0;34m)\u001b[0m\u001b[0;34m)\u001b[0m\u001b[0;34m\u001b[0m\u001b[0;34m\u001b[0m\u001b[0m\n\u001b[1;32m    663\u001b[0m         \u001b[0;32melif\u001b[0m \u001b[0misinstance\u001b[0m\u001b[0;34m(\u001b[0m\u001b[0mval\u001b[0m\u001b[0;34m,\u001b[0m \u001b[0mnp\u001b[0m\u001b[0;34m.\u001b[0m\u001b[0mndarray\u001b[0m\u001b[0;34m)\u001b[0m \u001b[0;32mand\u001b[0m \u001b[0mval\u001b[0m\u001b[0;34m.\u001b[0m\u001b[0mndim\u001b[0m \u001b[0;34m>\u001b[0m \u001b[0;36m1\u001b[0m\u001b[0;34m:\u001b[0m\u001b[0;34m\u001b[0m\u001b[0;34m\u001b[0m\u001b[0m\n\u001b[0;32m--> 664\u001b[0;31m             \u001b[0;32mraise\u001b[0m \u001b[0mValueError\u001b[0m\u001b[0;34m(\u001b[0m\u001b[0;34m\"Per-column arrays must each be 1-dimensional\"\u001b[0m\u001b[0;34m)\u001b[0m\u001b[0;34m\u001b[0m\u001b[0;34m\u001b[0m\u001b[0m\n\u001b[0m\u001b[1;32m    665\u001b[0m \u001b[0;34m\u001b[0m\u001b[0m\n\u001b[1;32m    666\u001b[0m     \u001b[0;32mif\u001b[0m \u001b[0;32mnot\u001b[0m \u001b[0mindexes\u001b[0m \u001b[0;32mand\u001b[0m \u001b[0;32mnot\u001b[0m \u001b[0mraw_lengths\u001b[0m\u001b[0;34m:\u001b[0m\u001b[0;34m\u001b[0m\u001b[0;34m\u001b[0m\u001b[0m\n",
            "\u001b[0;31mValueError\u001b[0m: Per-column arrays must each be 1-dimensional"
          ]
        }
      ]
    },
    {
      "cell_type": "code",
      "source": [
        "print(\"Mean Absolute Error\", metrics.mean_absolute_error(y,y_pred))\n",
        "print(\"Mean Square Error\",metrics.mean_squared_error(y,y_pred))\n",
        "print(\"Root Mean Square Error\",np.sqrt(metrics.mean_squared_error(y,y_pred)))\n"
      ],
      "metadata": {
        "colab": {
          "base_uri": "https://localhost:8080/"
        },
        "id": "YvGan5n01oqO",
        "outputId": "1e78a0b8-1f30-4b9a-db1c-694a6e631714"
      },
      "execution_count": 15,
      "outputs": [
        {
          "output_type": "stream",
          "name": "stdout",
          "text": [
            "Mean Absolute Error 2.208300750980133\n",
            "Mean Square Error 8.960744360429102\n",
            "Root Mean Square Error 2.9934502435198587\n"
          ]
        }
      ]
    }
  ]
}