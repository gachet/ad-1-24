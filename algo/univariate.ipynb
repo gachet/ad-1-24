{
  "nbformat": 4,
  "nbformat_minor": 0,
  "metadata": {
    "colab": {
      "provenance": [],
      "authorship_tag": "ABX9TyNotWct2JaMjRBVy1wGWnWa",
      "include_colab_link": true
    },
    "kernelspec": {
      "name": "python3",
      "display_name": "Python 3"
    },
    "language_info": {
      "name": "python"
    }
  },
  "cells": [
    {
      "cell_type": "markdown",
      "metadata": {
        "id": "view-in-github",
        "colab_type": "text"
      },
      "source": [
        "<a href=\"https://colab.research.google.com/github/gachet/ad-1-24/blob/main/algo/univariate.ipynb\" target=\"_parent\"><img src=\"https://colab.research.google.com/assets/colab-badge.svg\" alt=\"Open In Colab\"/></a>"
      ]
    },
    {
      "cell_type": "code",
      "execution_count": null,
      "metadata": {
        "colab": {
          "base_uri": "https://localhost:8080/"
        },
        "id": "NW4nCpeitTse",
        "outputId": "65f8c28b-76b9-441b-cf2f-7ccb74e99827"
      },
      "outputs": [
        {
          "output_type": "stream",
          "name": "stdout",
          "text": [
            "[[0.30002139]\n",
            " [0.29996058]]\n"
          ]
        }
      ],
      "source": [
        "import numpy as np\n",
        "\n",
        "def gradient_descent_for_univariate_linear_regression (X, Y, theta_0, theta_1, alpha, iteration):\n",
        "\n",
        "\n",
        "    X = np.insert(X.transpose(), 0, 1, axis=1) # Transpose the matrix of X values and add a column of 1s for easier multiplication, the shape of the matrix is now N by 2\n",
        "\n",
        "    Thetas = np.array([[theta_0,theta_1]]).transpose() # Transpose value of Thetas to N by 1 Matrix\n",
        "\n",
        "    temp0 = theta_0\n",
        "    temp1 = theta_1\n",
        "\n",
        "    for _ in range(iteration): # Iterate by the number of iteration\n",
        "\n",
        "        predicted = np.dot(X,Thetas) # Calculate each of the predicted value from our X values using matrix multiplication\n",
        "\n",
        "        error = np.subtract(predicted,Y.transpose()) # Calculate the error by subtracting predicted value with actual (Y) value\n",
        "\n",
        "        temp0 = temp0 - (alpha /len(X) * float(sum(error))) # Calculate temp0 for current iteration\n",
        "        temp1 = temp1 - (alpha /len(X) * float(np.dot([row[1] for row in X], error))) # Calculate temp1 for current iteration\n",
        "\n",
        "        Thetas = np.array([[temp0, temp1]]).transpose() # Update thetas to be used for next iteration\n",
        "\n",
        "    print(Thetas) #print out the theta 0 and theta 1 after end of iterations\n",
        "\n",
        "\n",
        "X = np.array([[0, 0.1, 0.2, 0.3, 0.4, 0.5, 0.6, 0.7, 0.8, 0.9, 1]])\n",
        "Y = np.array([[0.3, 0.33, 0.36, 0.39, 0.42, 0.45, 0.48, 0.51, 0.54, 0.57, 0.6]])\n",
        "gradient_descent_for_univariate_linear_regression(X, Y, 0, 0, 0.1 ,1000)"
      ]
    },
    {
      "cell_type": "code",
      "source": [],
      "metadata": {
        "id": "mdukMJAMtU94"
      },
      "execution_count": null,
      "outputs": []
    },
    {
      "cell_type": "code",
      "source": [],
      "metadata": {
        "id": "fL9TpnamtVGk"
      },
      "execution_count": null,
      "outputs": []
    },
    {
      "cell_type": "code",
      "source": [],
      "metadata": {
        "id": "yaVoBp-DtVJb"
      },
      "execution_count": null,
      "outputs": []
    },
    {
      "cell_type": "code",
      "source": [],
      "metadata": {
        "id": "7rp3E6PdtVMT"
      },
      "execution_count": null,
      "outputs": []
    }
  ]
}