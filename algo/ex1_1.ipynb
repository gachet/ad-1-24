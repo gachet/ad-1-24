{
  "cells": [
    {
      "cell_type": "markdown",
      "metadata": {
        "id": "view-in-github",
        "colab_type": "text"
      },
      "source": [
        "<a href=\"https://colab.research.google.com/github/gachet/ad-1-24/blob/main/algo/ex1_1.ipynb\" target=\"_parent\"><img src=\"https://colab.research.google.com/assets/colab-badge.svg\" alt=\"Open In Colab\"/></a>"
      ]
    },
    {
      "cell_type": "markdown",
      "metadata": {
        "id": "XB3EPa3OPb8N"
      },
      "source": [
        "#  Regresión Lineal\n",
        "***\n",
        "## Empezamos con una variable\n"
      ]
    },
    {
      "cell_type": "markdown",
      "source": [
        "## Lectura de datos (Población en ciudades (x10.000) e Ingreso medio (x 10.000)"
      ],
      "metadata": {
        "id": "H_jj7ulfiotZ"
      }
    },
    {
      "cell_type": "code",
      "execution_count": 1,
      "metadata": {
        "colab": {
          "base_uri": "https://localhost:8080/",
          "height": 206
        },
        "id": "xmoA0ddsPb8Q",
        "outputId": "b15b83e2-6003-4c77-d686-78892d3ec1d6"
      },
      "outputs": [
        {
          "output_type": "execute_result",
          "data": {
            "text/plain": [
              "   Poblacion  Ingresos\n",
              "0     6.1101   17.5920\n",
              "1     5.5277    9.1302\n",
              "2     8.5186   13.6620\n",
              "3     7.0032   11.8540\n",
              "4     5.8598    6.8233"
            ],
            "text/html": [
              "\n",
              "  <div id=\"df-c7a7ebe0-a8a0-43b3-b647-6b9ba1adb00e\" class=\"colab-df-container\">\n",
              "    <div>\n",
              "<style scoped>\n",
              "    .dataframe tbody tr th:only-of-type {\n",
              "        vertical-align: middle;\n",
              "    }\n",
              "\n",
              "    .dataframe tbody tr th {\n",
              "        vertical-align: top;\n",
              "    }\n",
              "\n",
              "    .dataframe thead th {\n",
              "        text-align: right;\n",
              "    }\n",
              "</style>\n",
              "<table border=\"1\" class=\"dataframe\">\n",
              "  <thead>\n",
              "    <tr style=\"text-align: right;\">\n",
              "      <th></th>\n",
              "      <th>Poblacion</th>\n",
              "      <th>Ingresos</th>\n",
              "    </tr>\n",
              "  </thead>\n",
              "  <tbody>\n",
              "    <tr>\n",
              "      <th>0</th>\n",
              "      <td>6.1101</td>\n",
              "      <td>17.5920</td>\n",
              "    </tr>\n",
              "    <tr>\n",
              "      <th>1</th>\n",
              "      <td>5.5277</td>\n",
              "      <td>9.1302</td>\n",
              "    </tr>\n",
              "    <tr>\n",
              "      <th>2</th>\n",
              "      <td>8.5186</td>\n",
              "      <td>13.6620</td>\n",
              "    </tr>\n",
              "    <tr>\n",
              "      <th>3</th>\n",
              "      <td>7.0032</td>\n",
              "      <td>11.8540</td>\n",
              "    </tr>\n",
              "    <tr>\n",
              "      <th>4</th>\n",
              "      <td>5.8598</td>\n",
              "      <td>6.8233</td>\n",
              "    </tr>\n",
              "  </tbody>\n",
              "</table>\n",
              "</div>\n",
              "    <div class=\"colab-df-buttons\">\n",
              "\n",
              "  <div class=\"colab-df-container\">\n",
              "    <button class=\"colab-df-convert\" onclick=\"convertToInteractive('df-c7a7ebe0-a8a0-43b3-b647-6b9ba1adb00e')\"\n",
              "            title=\"Convert this dataframe to an interactive table.\"\n",
              "            style=\"display:none;\">\n",
              "\n",
              "  <svg xmlns=\"http://www.w3.org/2000/svg\" height=\"24px\" viewBox=\"0 -960 960 960\">\n",
              "    <path d=\"M120-120v-720h720v720H120Zm60-500h600v-160H180v160Zm220 220h160v-160H400v160Zm0 220h160v-160H400v160ZM180-400h160v-160H180v160Zm440 0h160v-160H620v160ZM180-180h160v-160H180v160Zm440 0h160v-160H620v160Z\"/>\n",
              "  </svg>\n",
              "    </button>\n",
              "\n",
              "  <style>\n",
              "    .colab-df-container {\n",
              "      display:flex;\n",
              "      gap: 12px;\n",
              "    }\n",
              "\n",
              "    .colab-df-convert {\n",
              "      background-color: #E8F0FE;\n",
              "      border: none;\n",
              "      border-radius: 50%;\n",
              "      cursor: pointer;\n",
              "      display: none;\n",
              "      fill: #1967D2;\n",
              "      height: 32px;\n",
              "      padding: 0 0 0 0;\n",
              "      width: 32px;\n",
              "    }\n",
              "\n",
              "    .colab-df-convert:hover {\n",
              "      background-color: #E2EBFA;\n",
              "      box-shadow: 0px 1px 2px rgba(60, 64, 67, 0.3), 0px 1px 3px 1px rgba(60, 64, 67, 0.15);\n",
              "      fill: #174EA6;\n",
              "    }\n",
              "\n",
              "    .colab-df-buttons div {\n",
              "      margin-bottom: 4px;\n",
              "    }\n",
              "\n",
              "    [theme=dark] .colab-df-convert {\n",
              "      background-color: #3B4455;\n",
              "      fill: #D2E3FC;\n",
              "    }\n",
              "\n",
              "    [theme=dark] .colab-df-convert:hover {\n",
              "      background-color: #434B5C;\n",
              "      box-shadow: 0px 1px 3px 1px rgba(0, 0, 0, 0.15);\n",
              "      filter: drop-shadow(0px 1px 2px rgba(0, 0, 0, 0.3));\n",
              "      fill: #FFFFFF;\n",
              "    }\n",
              "  </style>\n",
              "\n",
              "    <script>\n",
              "      const buttonEl =\n",
              "        document.querySelector('#df-c7a7ebe0-a8a0-43b3-b647-6b9ba1adb00e button.colab-df-convert');\n",
              "      buttonEl.style.display =\n",
              "        google.colab.kernel.accessAllowed ? 'block' : 'none';\n",
              "\n",
              "      async function convertToInteractive(key) {\n",
              "        const element = document.querySelector('#df-c7a7ebe0-a8a0-43b3-b647-6b9ba1adb00e');\n",
              "        const dataTable =\n",
              "          await google.colab.kernel.invokeFunction('convertToInteractive',\n",
              "                                                    [key], {});\n",
              "        if (!dataTable) return;\n",
              "\n",
              "        const docLinkHtml = 'Like what you see? Visit the ' +\n",
              "          '<a target=\"_blank\" href=https://colab.research.google.com/notebooks/data_table.ipynb>data table notebook</a>'\n",
              "          + ' to learn more about interactive tables.';\n",
              "        element.innerHTML = '';\n",
              "        dataTable['output_type'] = 'display_data';\n",
              "        await google.colab.output.renderOutput(dataTable, element);\n",
              "        const docLink = document.createElement('div');\n",
              "        docLink.innerHTML = docLinkHtml;\n",
              "        element.appendChild(docLink);\n",
              "      }\n",
              "    </script>\n",
              "  </div>\n",
              "\n",
              "\n",
              "<div id=\"df-28ce17e2-b41a-473c-a6ca-3d2d211b08e8\">\n",
              "  <button class=\"colab-df-quickchart\" onclick=\"quickchart('df-28ce17e2-b41a-473c-a6ca-3d2d211b08e8')\"\n",
              "            title=\"Suggest charts\"\n",
              "            style=\"display:none;\">\n",
              "\n",
              "<svg xmlns=\"http://www.w3.org/2000/svg\" height=\"24px\"viewBox=\"0 0 24 24\"\n",
              "     width=\"24px\">\n",
              "    <g>\n",
              "        <path d=\"M19 3H5c-1.1 0-2 .9-2 2v14c0 1.1.9 2 2 2h14c1.1 0 2-.9 2-2V5c0-1.1-.9-2-2-2zM9 17H7v-7h2v7zm4 0h-2V7h2v10zm4 0h-2v-4h2v4z\"/>\n",
              "    </g>\n",
              "</svg>\n",
              "  </button>\n",
              "\n",
              "<style>\n",
              "  .colab-df-quickchart {\n",
              "      --bg-color: #E8F0FE;\n",
              "      --fill-color: #1967D2;\n",
              "      --hover-bg-color: #E2EBFA;\n",
              "      --hover-fill-color: #174EA6;\n",
              "      --disabled-fill-color: #AAA;\n",
              "      --disabled-bg-color: #DDD;\n",
              "  }\n",
              "\n",
              "  [theme=dark] .colab-df-quickchart {\n",
              "      --bg-color: #3B4455;\n",
              "      --fill-color: #D2E3FC;\n",
              "      --hover-bg-color: #434B5C;\n",
              "      --hover-fill-color: #FFFFFF;\n",
              "      --disabled-bg-color: #3B4455;\n",
              "      --disabled-fill-color: #666;\n",
              "  }\n",
              "\n",
              "  .colab-df-quickchart {\n",
              "    background-color: var(--bg-color);\n",
              "    border: none;\n",
              "    border-radius: 50%;\n",
              "    cursor: pointer;\n",
              "    display: none;\n",
              "    fill: var(--fill-color);\n",
              "    height: 32px;\n",
              "    padding: 0;\n",
              "    width: 32px;\n",
              "  }\n",
              "\n",
              "  .colab-df-quickchart:hover {\n",
              "    background-color: var(--hover-bg-color);\n",
              "    box-shadow: 0 1px 2px rgba(60, 64, 67, 0.3), 0 1px 3px 1px rgba(60, 64, 67, 0.15);\n",
              "    fill: var(--button-hover-fill-color);\n",
              "  }\n",
              "\n",
              "  .colab-df-quickchart-complete:disabled,\n",
              "  .colab-df-quickchart-complete:disabled:hover {\n",
              "    background-color: var(--disabled-bg-color);\n",
              "    fill: var(--disabled-fill-color);\n",
              "    box-shadow: none;\n",
              "  }\n",
              "\n",
              "  .colab-df-spinner {\n",
              "    border: 2px solid var(--fill-color);\n",
              "    border-color: transparent;\n",
              "    border-bottom-color: var(--fill-color);\n",
              "    animation:\n",
              "      spin 1s steps(1) infinite;\n",
              "  }\n",
              "\n",
              "  @keyframes spin {\n",
              "    0% {\n",
              "      border-color: transparent;\n",
              "      border-bottom-color: var(--fill-color);\n",
              "      border-left-color: var(--fill-color);\n",
              "    }\n",
              "    20% {\n",
              "      border-color: transparent;\n",
              "      border-left-color: var(--fill-color);\n",
              "      border-top-color: var(--fill-color);\n",
              "    }\n",
              "    30% {\n",
              "      border-color: transparent;\n",
              "      border-left-color: var(--fill-color);\n",
              "      border-top-color: var(--fill-color);\n",
              "      border-right-color: var(--fill-color);\n",
              "    }\n",
              "    40% {\n",
              "      border-color: transparent;\n",
              "      border-right-color: var(--fill-color);\n",
              "      border-top-color: var(--fill-color);\n",
              "    }\n",
              "    60% {\n",
              "      border-color: transparent;\n",
              "      border-right-color: var(--fill-color);\n",
              "    }\n",
              "    80% {\n",
              "      border-color: transparent;\n",
              "      border-right-color: var(--fill-color);\n",
              "      border-bottom-color: var(--fill-color);\n",
              "    }\n",
              "    90% {\n",
              "      border-color: transparent;\n",
              "      border-bottom-color: var(--fill-color);\n",
              "    }\n",
              "  }\n",
              "</style>\n",
              "\n",
              "  <script>\n",
              "    async function quickchart(key) {\n",
              "      const quickchartButtonEl =\n",
              "        document.querySelector('#' + key + ' button');\n",
              "      quickchartButtonEl.disabled = true;  // To prevent multiple clicks.\n",
              "      quickchartButtonEl.classList.add('colab-df-spinner');\n",
              "      try {\n",
              "        const charts = await google.colab.kernel.invokeFunction(\n",
              "            'suggestCharts', [key], {});\n",
              "      } catch (error) {\n",
              "        console.error('Error during call to suggestCharts:', error);\n",
              "      }\n",
              "      quickchartButtonEl.classList.remove('colab-df-spinner');\n",
              "      quickchartButtonEl.classList.add('colab-df-quickchart-complete');\n",
              "    }\n",
              "    (() => {\n",
              "      let quickchartButtonEl =\n",
              "        document.querySelector('#df-28ce17e2-b41a-473c-a6ca-3d2d211b08e8 button');\n",
              "      quickchartButtonEl.style.display =\n",
              "        google.colab.kernel.accessAllowed ? 'block' : 'none';\n",
              "    })();\n",
              "  </script>\n",
              "</div>\n",
              "\n",
              "    </div>\n",
              "  </div>\n"
            ],
            "application/vnd.google.colaboratory.intrinsic+json": {
              "type": "dataframe",
              "variable_name": "data1",
              "summary": "{\n  \"name\": \"data1\",\n  \"rows\": 97,\n  \"fields\": [\n    {\n      \"column\": \"Poblacion\",\n      \"properties\": {\n        \"dtype\": \"number\",\n        \"std\": 3.869883527882332,\n        \"min\": 5.0269,\n        \"max\": 22.203,\n        \"num_unique_values\": 97,\n        \"samples\": [\n          21.279,\n          5.4069,\n          5.3054\n        ],\n        \"semantic_type\": \"\",\n        \"description\": \"\"\n      }\n    },\n    {\n      \"column\": \"Ingresos\",\n      \"properties\": {\n        \"dtype\": \"number\",\n        \"std\": 5.510262255231544,\n        \"min\": -2.6807,\n        \"max\": 24.147,\n        \"num_unique_values\": 97,\n        \"samples\": [\n          17.929,\n          0.55657,\n          1.9869\n        ],\n        \"semantic_type\": \"\",\n        \"description\": \"\"\n      }\n    }\n  ]\n}"
            }
          },
          "metadata": {},
          "execution_count": 1
        }
      ],
      "source": [
        "import numpy as np\n",
        "import math\n",
        "import pandas as pd\n",
        "import matplotlib.pyplot as plt\n",
        "%matplotlib inline\n",
        "\n",
        "data1 = pd.read_csv('https://drive.google.com/uc?id=16jQHaXQNBNIe-wYZvA52stkBwOP6kQta', names=['Poblacion', 'Ingresos'])\n",
        "data1.head()"
      ]
    },
    {
      "cell_type": "markdown",
      "metadata": {
        "id": "Sz7dRzyVPb8S"
      },
      "source": [
        "### Graficamos los datos a ver si vemos una posible relación lineal  entre población (var indep) e y (var objetivo o dep.)\n"
      ]
    },
    {
      "cell_type": "code",
      "execution_count": null,
      "metadata": {
        "colab": {
          "base_uri": "https://localhost:8080/",
          "height": 405
        },
        "id": "DGpcH8NUPb8S",
        "outputId": "92cf1570-d66c-44d1-9d4a-98ac6eae3fdf"
      },
      "outputs": [
        {
          "output_type": "execute_result",
          "data": {
            "text/plain": [
              "[<matplotlib.lines.Line2D at 0x7ed735774310>]"
            ]
          },
          "metadata": {},
          "execution_count": 52
        },
        {
          "output_type": "display_data",
          "data": {
            "text/plain": [
              "<Figure size 1000x400 with 1 Axes>"
            ],
            "image/png": "[encoded data removed]"
          },
          "metadata": {}
        }
      ],
      "source": [
        "plt.figure(figsize=(10, 4))\n",
        "plt.xlabel('Poblacion en 10,000s')\n",
        "plt.ylabel('Ingresos en $10,000s')\n",
        "plt.grid()\n",
        "plt.plot(data1.Poblacion, data1.Ingresos, 'bo')"
      ]
    },
    {
      "cell_type": "markdown",
      "metadata": {
        "id": "yz7GFZ0OPb8T"
      },
      "source": [
        "## Gradiente Descendente\n",
        "\n",
        "Nos planteamos un modelo (hipótesis)\n",
        "$h_{\\theta}(x)=\\theta^{T} x=\\theta_0+\\theta_1x_1$\n",
        "\n",
        "Debemos encontrar los parámetros  $\\theta$  a partir de nuestro conjunto de datos utilizando la técnica del gradiente descendente.\n",
        "\n",
        "#### 1.- Fundamentos\n",
        "\n",
        "El objetivo de la regresión lineal es minimizar la función de coste\n",
        "\n",
        "$J(\\theta)=\\frac{1}{2m} \\sum_{i=1}^m(h_\\theta(x^{(i)})-y^{(i)})^2$\n",
        "\n",
        "donde la hipótesis $h_{\\theta}(x)$ está dada por el modelo lineal\n",
        "\n",
        "$h_{\\theta}(x)=\\theta^{T} x=\\theta_0+\\theta_1x_1$\n",
        "\n",
        "Debemnos encontrar son los valores de $\\theta_j$ que son los parámetros de nuestro modelo y que minimicen la función de coste $J(\\theta)$. Utilizaremos el algoritmo iterativo del gradiente descendente visto en clase.\n",
        "\n",
        "En cada iteración del algoritmo debemos realizar la actualización de los valores  $\\theta_j$ de acuerdo a .\n",
        "\n",
        "$\\theta_j:=\\theta_j-\\alpha\\frac{1}{m} \\sum_{i=1}^m(h_\\theta(x^{(i)})-y^{(i)})x_j^{(i)}$ (actualización simultánea de $\\theta_j$ para todo $j$)\n",
        "\n",
        "En cada iteración, ols parámetros $\\theta_j$ se aproximan al valor óptimo que nos permite obrener el valor mínimo de $J(\\theta)$.\n",
        "\n",
        "#### 2.- Implementación\n",
        "\n",
        "Recordar que debemos añadir una columna de 1's al inicio de nuestro conjunto de datos para poder  calcular en el mismo paso  $\\theta_0$ y debemos inicializar  $\\theta_j$ a $0$."
      ]
    },
    {
      "cell_type": "code",
      "source": [
        "blood_pressure_data = np.array([\n",
        "    [52, 173, 132],\n",
        "    [59, 184, 143],\n",
        "    [67, 194, 153],\n",
        "    [73, 211, 162],\n",
        "    [64, 196, 154],\n",
        "    [74, 220, 168],\n",
        "    [54, 188, 137],\n",
        "    [61, 188, 149],\n",
        "    [65, 207, 159],\n",
        "    [46, 167, 128],\n",
        "    [72, 217, 166]\n",
        "])"
      ],
      "metadata": {
        "id": "XIg-ph0wakVn"
      },
      "execution_count": 8,
      "outputs": []
    },
    {
      "cell_type": "code",
      "source": [
        "data1 = pd.DataFrame(blood_pressure_data)\n",
        "data1.head()"
      ],
      "metadata": {
        "id": "K7aIwNVBaseY",
        "outputId": "7d8d2d0d-4023-4827-abc9-5e6946bf358c",
        "colab": {
          "base_uri": "https://localhost:8080/",
          "height": 206
        }
      },
      "execution_count": 9,
      "outputs": [
        {
          "output_type": "execute_result",
          "data": {
            "text/plain": [
              "    0    1    2\n",
              "0  52  173  132\n",
              "1  59  184  143\n",
              "2  67  194  153\n",
              "3  73  211  162\n",
              "4  64  196  154"
            ],
            "text/html": [
              "\n",
              "  <div id=\"df-30b34de6-3c5b-4e69-8266-adb03a3822d4\" class=\"colab-df-container\">\n",
              "    <div>\n",
              "<style scoped>\n",
              "    .dataframe tbody tr th:only-of-type {\n",
              "        vertical-align: middle;\n",
              "    }\n",
              "\n",
              "    .dataframe tbody tr th {\n",
              "        vertical-align: top;\n",
              "    }\n",
              "\n",
              "    .dataframe thead th {\n",
              "        text-align: right;\n",
              "    }\n",
              "</style>\n",
              "<table border=\"1\" class=\"dataframe\">\n",
              "  <thead>\n",
              "    <tr style=\"text-align: right;\">\n",
              "      <th></th>\n",
              "      <th>0</th>\n",
              "      <th>1</th>\n",
              "      <th>2</th>\n",
              "    </tr>\n",
              "  </thead>\n",
              "  <tbody>\n",
              "    <tr>\n",
              "      <th>0</th>\n",
              "      <td>52</td>\n",
              "      <td>173</td>\n",
              "      <td>132</td>\n",
              "    </tr>\n",
              "    <tr>\n",
              "      <th>1</th>\n",
              "      <td>59</td>\n",
              "      <td>184</td>\n",
              "      <td>143</td>\n",
              "    </tr>\n",
              "    <tr>\n",
              "      <th>2</th>\n",
              "      <td>67</td>\n",
              "      <td>194</td>\n",
              "      <td>153</td>\n",
              "    </tr>\n",
              "    <tr>\n",
              "      <th>3</th>\n",
              "      <td>73</td>\n",
              "      <td>211</td>\n",
              "      <td>162</td>\n",
              "    </tr>\n",
              "    <tr>\n",
              "      <th>4</th>\n",
              "      <td>64</td>\n",
              "      <td>196</td>\n",
              "      <td>154</td>\n",
              "    </tr>\n",
              "  </tbody>\n",
              "</table>\n",
              "</div>\n",
              "    <div class=\"colab-df-buttons\">\n",
              "\n",
              "  <div class=\"colab-df-container\">\n",
              "    <button class=\"colab-df-convert\" onclick=\"convertToInteractive('df-30b34de6-3c5b-4e69-8266-adb03a3822d4')\"\n",
              "            title=\"Convert this dataframe to an interactive table.\"\n",
              "            style=\"display:none;\">\n",
              "\n",
              "  <svg xmlns=\"http://www.w3.org/2000/svg\" height=\"24px\" viewBox=\"0 -960 960 960\">\n",
              "    <path d=\"M120-120v-720h720v720H120Zm60-500h600v-160H180v160Zm220 220h160v-160H400v160Zm0 220h160v-160H400v160ZM180-400h160v-160H180v160Zm440 0h160v-160H620v160ZM180-180h160v-160H180v160Zm440 0h160v-160H620v160Z\"/>\n",
              "  </svg>\n",
              "    </button>\n",
              "\n",
              "  <style>\n",
              "    .colab-df-container {\n",
              "      display:flex;\n",
              "      gap: 12px;\n",
              "    }\n",
              "\n",
              "    .colab-df-convert {\n",
              "      background-color: #E8F0FE;\n",
              "      border: none;\n",
              "      border-radius: 50%;\n",
              "      cursor: pointer;\n",
              "      display: none;\n",
              "      fill: #1967D2;\n",
              "      height: 32px;\n",
              "      padding: 0 0 0 0;\n",
              "      width: 32px;\n",
              "    }\n",
              "\n",
              "    .colab-df-convert:hover {\n",
              "      background-color: #E2EBFA;\n",
              "      box-shadow: 0px 1px 2px rgba(60, 64, 67, 0.3), 0px 1px 3px 1px rgba(60, 64, 67, 0.15);\n",
              "      fill: #174EA6;\n",
              "    }\n",
              "\n",
              "    .colab-df-buttons div {\n",
              "      margin-bottom: 4px;\n",
              "    }\n",
              "\n",
              "    [theme=dark] .colab-df-convert {\n",
              "      background-color: #3B4455;\n",
              "      fill: #D2E3FC;\n",
              "    }\n",
              "\n",
              "    [theme=dark] .colab-df-convert:hover {\n",
              "      background-color: #434B5C;\n",
              "      box-shadow: 0px 1px 3px 1px rgba(0, 0, 0, 0.15);\n",
              "      filter: drop-shadow(0px 1px 2px rgba(0, 0, 0, 0.3));\n",
              "      fill: #FFFFFF;\n",
              "    }\n",
              "  </style>\n",
              "\n",
              "    <script>\n",
              "      const buttonEl =\n",
              "        document.querySelector('#df-30b34de6-3c5b-4e69-8266-adb03a3822d4 button.colab-df-convert');\n",
              "      buttonEl.style.display =\n",
              "        google.colab.kernel.accessAllowed ? 'block' : 'none';\n",
              "\n",
              "      async function convertToInteractive(key) {\n",
              "        const element = document.querySelector('#df-30b34de6-3c5b-4e69-8266-adb03a3822d4');\n",
              "        const dataTable =\n",
              "          await google.colab.kernel.invokeFunction('convertToInteractive',\n",
              "                                                    [key], {});\n",
              "        if (!dataTable) return;\n",
              "\n",
              "        const docLinkHtml = 'Like what you see? Visit the ' +\n",
              "          '<a target=\"_blank\" href=https://colab.research.google.com/notebooks/data_table.ipynb>data table notebook</a>'\n",
              "          + ' to learn more about interactive tables.';\n",
              "        element.innerHTML = '';\n",
              "        dataTable['output_type'] = 'display_data';\n",
              "        await google.colab.output.renderOutput(dataTable, element);\n",
              "        const docLink = document.createElement('div');\n",
              "        docLink.innerHTML = docLinkHtml;\n",
              "        element.appendChild(docLink);\n",
              "      }\n",
              "    </script>\n",
              "  </div>\n",
              "\n",
              "\n",
              "<div id=\"df-d6cd00ad-54a1-46b8-8dd2-81885874cb42\">\n",
              "  <button class=\"colab-df-quickchart\" onclick=\"quickchart('df-d6cd00ad-54a1-46b8-8dd2-81885874cb42')\"\n",
              "            title=\"Suggest charts\"\n",
              "            style=\"display:none;\">\n",
              "\n",
              "<svg xmlns=\"http://www.w3.org/2000/svg\" height=\"24px\"viewBox=\"0 0 24 24\"\n",
              "     width=\"24px\">\n",
              "    <g>\n",
              "        <path d=\"M19 3H5c-1.1 0-2 .9-2 2v14c0 1.1.9 2 2 2h14c1.1 0 2-.9 2-2V5c0-1.1-.9-2-2-2zM9 17H7v-7h2v7zm4 0h-2V7h2v10zm4 0h-2v-4h2v4z\"/>\n",
              "    </g>\n",
              "</svg>\n",
              "  </button>\n",
              "\n",
              "<style>\n",
              "  .colab-df-quickchart {\n",
              "      --bg-color: #E8F0FE;\n",
              "      --fill-color: #1967D2;\n",
              "      --hover-bg-color: #E2EBFA;\n",
              "      --hover-fill-color: #174EA6;\n",
              "      --disabled-fill-color: #AAA;\n",
              "      --disabled-bg-color: #DDD;\n",
              "  }\n",
              "\n",
              "  [theme=dark] .colab-df-quickchart {\n",
              "      --bg-color: #3B4455;\n",
              "      --fill-color: #D2E3FC;\n",
              "      --hover-bg-color: #434B5C;\n",
              "      --hover-fill-color: #FFFFFF;\n",
              "      --disabled-bg-color: #3B4455;\n",
              "      --disabled-fill-color: #666;\n",
              "  }\n",
              "\n",
              "  .colab-df-quickchart {\n",
              "    background-color: var(--bg-color);\n",
              "    border: none;\n",
              "    border-radius: 50%;\n",
              "    cursor: pointer;\n",
              "    display: none;\n",
              "    fill: var(--fill-color);\n",
              "    height: 32px;\n",
              "    padding: 0;\n",
              "    width: 32px;\n",
              "  }\n",
              "\n",
              "  .colab-df-quickchart:hover {\n",
              "    background-color: var(--hover-bg-color);\n",
              "    box-shadow: 0 1px 2px rgba(60, 64, 67, 0.3), 0 1px 3px 1px rgba(60, 64, 67, 0.15);\n",
              "    fill: var(--button-hover-fill-color);\n",
              "  }\n",
              "\n",
              "  .colab-df-quickchart-complete:disabled,\n",
              "  .colab-df-quickchart-complete:disabled:hover {\n",
              "    background-color: var(--disabled-bg-color);\n",
              "    fill: var(--disabled-fill-color);\n",
              "    box-shadow: none;\n",
              "  }\n",
              "\n",
              "  .colab-df-spinner {\n",
              "    border: 2px solid var(--fill-color);\n",
              "    border-color: transparent;\n",
              "    border-bottom-color: var(--fill-color);\n",
              "    animation:\n",
              "      spin 1s steps(1) infinite;\n",
              "  }\n",
              "\n",
              "  @keyframes spin {\n",
              "    0% {\n",
              "      border-color: transparent;\n",
              "      border-bottom-color: var(--fill-color);\n",
              "      border-left-color: var(--fill-color);\n",
              "    }\n",
              "    20% {\n",
              "      border-color: transparent;\n",
              "      border-left-color: var(--fill-color);\n",
              "      border-top-color: var(--fill-color);\n",
              "    }\n",
              "    30% {\n",
              "      border-color: transparent;\n",
              "      border-left-color: var(--fill-color);\n",
              "      border-top-color: var(--fill-color);\n",
              "      border-right-color: var(--fill-color);\n",
              "    }\n",
              "    40% {\n",
              "      border-color: transparent;\n",
              "      border-right-color: var(--fill-color);\n",
              "      border-top-color: var(--fill-color);\n",
              "    }\n",
              "    60% {\n",
              "      border-color: transparent;\n",
              "      border-right-color: var(--fill-color);\n",
              "    }\n",
              "    80% {\n",
              "      border-color: transparent;\n",
              "      border-right-color: var(--fill-color);\n",
              "      border-bottom-color: var(--fill-color);\n",
              "    }\n",
              "    90% {\n",
              "      border-color: transparent;\n",
              "      border-bottom-color: var(--fill-color);\n",
              "    }\n",
              "  }\n",
              "</style>\n",
              "\n",
              "  <script>\n",
              "    async function quickchart(key) {\n",
              "      const quickchartButtonEl =\n",
              "        document.querySelector('#' + key + ' button');\n",
              "      quickchartButtonEl.disabled = true;  // To prevent multiple clicks.\n",
              "      quickchartButtonEl.classList.add('colab-df-spinner');\n",
              "      try {\n",
              "        const charts = await google.colab.kernel.invokeFunction(\n",
              "            'suggestCharts', [key], {});\n",
              "      } catch (error) {\n",
              "        console.error('Error during call to suggestCharts:', error);\n",
              "      }\n",
              "      quickchartButtonEl.classList.remove('colab-df-spinner');\n",
              "      quickchartButtonEl.classList.add('colab-df-quickchart-complete');\n",
              "    }\n",
              "    (() => {\n",
              "      let quickchartButtonEl =\n",
              "        document.querySelector('#df-d6cd00ad-54a1-46b8-8dd2-81885874cb42 button');\n",
              "      quickchartButtonEl.style.display =\n",
              "        google.colab.kernel.accessAllowed ? 'block' : 'none';\n",
              "    })();\n",
              "  </script>\n",
              "</div>\n",
              "\n",
              "    </div>\n",
              "  </div>\n"
            ],
            "application/vnd.google.colaboratory.intrinsic+json": {
              "type": "dataframe",
              "variable_name": "data1",
              "summary": "{\n  \"name\": \"data1\",\n  \"rows\": 11,\n  \"fields\": [\n    {\n      \"column\": 0,\n      \"properties\": {\n        \"dtype\": \"number\",\n        \"std\": 9,\n        \"min\": 46,\n        \"max\": 74,\n        \"num_unique_values\": 11,\n        \"samples\": [\n          74,\n          52,\n          46\n        ],\n        \"semantic_type\": \"\",\n        \"description\": \"\"\n      }\n    },\n    {\n      \"column\": 1,\n      \"properties\": {\n        \"dtype\": \"number\",\n        \"std\": 17,\n        \"min\": 167,\n        \"max\": 220,\n        \"num_unique_values\": 10,\n        \"samples\": [\n          167,\n          184,\n          220\n        ],\n        \"semantic_type\": \"\",\n        \"description\": \"\"\n      }\n    },\n    {\n      \"column\": 2,\n      \"properties\": {\n        \"dtype\": \"number\",\n        \"std\": 13,\n        \"min\": 128,\n        \"max\": 168,\n        \"num_unique_values\": 11,\n        \"samples\": [\n          168,\n          132,\n          128\n        ],\n        \"semantic_type\": \"\",\n        \"description\": \"\"\n      }\n    }\n  ]\n}"
            }
          },
          "metadata": {},
          "execution_count": 9
        }
      ]
    },
    {
      "cell_type": "code",
      "execution_count": 10,
      "metadata": {
        "id": "rvtDWhWcPb8T"
      },
      "outputs": [],
      "source": [
        "# Preparamos oos datos.\n",
        "def prepareData(data, n):\n",
        "    \"\"\"\n",
        "    Add 1s column, convert to matrices,\n",
        "    initialize theta.\n",
        "    Args:\n",
        "        data: dataframe\n",
        "        n: int\n",
        "    Returns:\n",
        "        x: a m by n+1 matrix\n",
        "        y: a m by 1 vector\n",
        "        theta: a n+1 by 1 vector\n",
        "    \"\"\"\n",
        "    # Insertamos la columna de 1's en el primer puesto.\n",
        "    data.insert(0, 'Ones', 1)\n",
        "\n",
        "    # Ya tenemos nuestros datos.\n",
        "    x = data.iloc[:, 0:n+1]\n",
        "    y = data.iloc[:, n+1:n+2]\n",
        "\n",
        "    # Convertimos a matrices e inicializamos theta con 0s.\n",
        "    # Theta is a vector [n + 1 x 1] y su traspuesto a vector [1 x n+1],\n",
        "    # n es el número de características (var. predictoras).\n",
        "    x = np.matrix(x.values)\n",
        "    y = np.matrix(y.values)\n",
        "    theta = np.matrix(np.zeros((n+1, 1)))\n",
        "    return x, y, theta\n",
        "\n"
      ]
    },
    {
      "cell_type": "markdown",
      "metadata": {
        "id": "KsyLjA7dPb8V"
      },
      "source": [
        "#### Cálculo de la función de  Coste $J(\\theta)$\n",
        "\n"
      ]
    },
    {
      "cell_type": "code",
      "execution_count": 11,
      "metadata": {
        "id": "iGYTnhqVPb8V"
      },
      "outputs": [],
      "source": [
        "# Cálculo de la función de coste.\n",
        "def computeCost(x, y, theta):\n",
        "    \"\"\"\n",
        "    Args:\n",
        "        x: a m by n+1 matrix\n",
        "        y: a m by 1 vector\n",
        "        theta: a n+1 by 1 vector\n",
        "    Returns:\n",
        "        cost: float\n",
        "    \"\"\"\n",
        "    m = len(x)\n",
        "    cost = np.sum(np.square((x * theta) - y)) / (2 * m)\n",
        "    return cost\n",
        "\n"
      ]
    },
    {
      "cell_type": "code",
      "source": [
        "# Número de variables.\n",
        "n = len(data1.columns)-1 # quitamos la columma objetivo (a predecir)"
      ],
      "metadata": {
        "id": "GSbTOFY87zBa"
      },
      "execution_count": 12,
      "outputs": []
    },
    {
      "cell_type": "code",
      "source": [
        "# Obtenemos la matriz X (con un 1 como primera columna, recordar)\n",
        "x, y, theta = prepareData(data1, n)"
      ],
      "metadata": {
        "id": "RdcvGW1nrGb5"
      },
      "execution_count": 13,
      "outputs": []
    },
    {
      "cell_type": "code",
      "execution_count": 14,
      "metadata": {
        "colab": {
          "base_uri": "https://localhost:8080/"
        },
        "id": "aaatyVpCPb8U",
        "outputId": "2401fe70-c8a0-4eda-bc1c-f93b7700196f"
      },
      "outputs": [
        {
          "output_type": "execute_result",
          "data": {
            "text/plain": [
              "((11, 3), (11, 1), (3, 1))"
            ]
          },
          "metadata": {},
          "execution_count": 14
        }
      ],
      "source": [
        "# Revisemos las matrices.\n",
        "x.shape, y.shape, theta.shape"
      ]
    },
    {
      "cell_type": "code",
      "source": [
        "#veamos el coste inicial ( theta = 0s)\n",
        "computeCost(x, y, theta)"
      ],
      "metadata": {
        "colab": {
          "base_uri": "https://localhost:8080/"
        },
        "id": "vuLKOCDdT2-X",
        "outputId": "e2dab48f-8f92-4e29-c3d8-d799cefd9a9b"
      },
      "execution_count": 15,
      "outputs": [
        {
          "output_type": "execute_result",
          "data": {
            "text/plain": [
              "11348.045454545454"
            ]
          },
          "metadata": {},
          "execution_count": 15
        }
      ]
    },
    {
      "cell_type": "markdown",
      "metadata": {
        "id": "wTrC1FUbPb8W"
      },
      "source": [
        "#### Gradiente Descendente\n",
        "\n",
        "Implementaremos el algoritmo mediante un bucle.  \n",
        "\n",
        "Una buena forma de verificar que el algoritmo funciona correctamente es observar el valor de $J(\\theta)$ y comprobar que disminuye con cada paso. Después de la implementación correcta del  gradiente descendente, el valor de $J(\\theta)$ nunca debería aumentar y debería converger a un valor estable al final del algoritmo. Los parámetros finales se utilizarán para dibujar la recta de ajuste y hacer predicciones sobre los ingresos en zonas de 35.000 y 70.000 habitantes.\n",
        "\n"
      ]
    },
    {
      "cell_type": "code",
      "execution_count": 16,
      "metadata": {
        "id": "1XjSp6v5Pb8W"
      },
      "outputs": [],
      "source": [
        "def gradientDescent(x, theta, max_iter,epsilon = 10e-5):\n",
        "    \"\"\"\n",
        "\n",
        "    Args:\n",
        "        x: a m by n+1 matrix\n",
        "        theta: a n+1 by 1 vector\n",
        "        max_iter:max number of iterations in the algorithm\n",
        "        epsilon: diference between two sucesive J (cost values)\n",
        "    Returns:\n",
        "        theta: a n+1 by 1 vector\n",
        "        J_vals: a #iterations by 1 vector\n",
        "        i: iteration at which convergence is obtained\n",
        "\n",
        "    \"\"\"\n",
        "    m = len(x)\n",
        "    J_vals = []\n",
        "    prev = math.inf\n",
        "    for i in range(max_iter):\n",
        "        error = (x * theta) - y\n",
        "        for j in range(len(theta.flat)):\n",
        "            theta.T[0, j] = theta.T[0, j] - (alpha/m) * np.sum(np.multiply(error, x[:, j]))\n",
        "        J_vals.append(computeCost(x, y, theta))\n",
        "        if(abs( J_vals[i]- prev) < epsilon) :\n",
        "            print(\"Convergencia Alcanzada !\", i ,\" iteraciones\")\n",
        "            break\n",
        "        prev = J_vals[i]\n",
        "    return (theta, J_vals,i)\n",
        "\n"
      ]
    },
    {
      "cell_type": "markdown",
      "metadata": {
        "id": "UUvcHWDzPb8T"
      },
      "source": [
        "Trabajaremos con un \"learning rate\" $\\alpha$ de 0.01 y 10000 iteraciones como máximo."
      ]
    },
    {
      "cell_type": "code",
      "source": [
        "iterations = 10000\n",
        "alpha = 0.01\n",
        "epsilon = 10e-20"
      ],
      "metadata": {
        "id": "ZBqJBWa_boXH"
      },
      "execution_count": 17,
      "outputs": []
    },
    {
      "cell_type": "code",
      "source": [
        "theta, J_vals, iter= gradientDescent(x, theta, iterations,epsilon)"
      ],
      "metadata": {
        "id": "3-NQtVRFbf0h",
        "colab": {
          "base_uri": "https://localhost:8080/"
        },
        "outputId": "dc00079c-785f-430e-8121-72463eebd3c1"
      },
      "execution_count": 18,
      "outputs": [
        {
          "output_type": "stream",
          "name": "stderr",
          "text": [
            "<ipython-input-11-bacc14e76c91>:12: RuntimeWarning: overflow encountered in square\n",
            "  cost = np.sum(np.square((x * theta) - y)) / (2 * m)\n",
            "<ipython-input-16-cc712f639fa2>:23: RuntimeWarning: invalid value encountered in scalar subtract\n",
            "  if(abs( J_vals[i]- prev) < epsilon) :\n",
            "<ipython-input-16-cc712f639fa2>:21: RuntimeWarning: overflow encountered in multiply\n",
            "  theta.T[0, j] = theta.T[0, j] - (alpha/m) * np.sum(np.multiply(error, x[:, j]))\n",
            "<ipython-input-16-cc712f639fa2>:21: RuntimeWarning: invalid value encountered in scalar subtract\n",
            "  theta.T[0, j] = theta.T[0, j] - (alpha/m) * np.sum(np.multiply(error, x[:, j]))\n"
          ]
        }
      ]
    },
    {
      "cell_type": "code",
      "source": [
        "betaHat = np.linalg.inv(x.T.dot(x)).dot(x.T).dot(y)\n",
        "print('coefficients: \\n')\n",
        "print(betaHat)"
      ],
      "metadata": {
        "id": "mw-cY5ardDrf",
        "outputId": "fb5bab06-0d0a-4757-d484-5f7383d55a20",
        "colab": {
          "base_uri": "https://localhost:8080/"
        }
      },
      "execution_count": 22,
      "outputs": [
        {
          "output_type": "stream",
          "name": "stdout",
          "text": [
            "coefficients: \n",
            "\n",
            "[[30.99410295]\n",
            " [ 0.86141469]\n",
            " [ 0.3348592 ]]\n"
          ]
        }
      ]
    },
    {
      "cell_type": "code",
      "source": [
        "X_train, X_test, y_train, y_test = train_test_split(\n",
        "    X, y, test_size=0.3, random_state=101)"
      ],
      "metadata": {
        "id": "T75OfDrMdn7_"
      },
      "execution_count": null,
      "outputs": []
    },
    {
      "cell_type": "code",
      "source": [
        "plt.figure(figsize=(10, 4))\n",
        "plt.xlabel('Iteraciones')\n",
        "plt.ylabel('Coste J')\n",
        "plt.title('Mínimo de la función de coste')\n",
        "plt.grid()\n",
        "ejex = np.arange(iter+1)\n",
        "plt.plot(ejex, J_vals, 'r')"
      ],
      "metadata": {
        "colab": {
          "base_uri": "https://localhost:8080/",
          "height": 427
        },
        "id": "FtLT_Kr4bHKo",
        "outputId": "d62663ea-7b2f-4814-ded8-8d558c10fabf"
      },
      "execution_count": 19,
      "outputs": [
        {
          "output_type": "execute_result",
          "data": {
            "text/plain": [
              "[<matplotlib.lines.Line2D at 0x79f2dab47e50>]"
            ]
          },
          "metadata": {},
          "execution_count": 19
        },
        {
          "output_type": "display_data",
          "data": {
            "text/plain": [
              "<Figure size 1000x400 with 1 Axes>"
            ],
            "image/png": "[encoded data removed]"
          },
          "metadata": {}
        }
      ]
    },
    {
      "cell_type": "code",
      "source": [
        "computeCost(x, y, theta)"
      ],
      "metadata": {
        "colab": {
          "base_uri": "https://localhost:8080/"
        },
        "id": "vzAnGQn06Vi4",
        "outputId": "b976b1c9-bd51-4a45-aeae-8556fea94568"
      },
      "execution_count": 20,
      "outputs": [
        {
          "output_type": "execute_result",
          "data": {
            "text/plain": [
              "nan"
            ]
          },
          "metadata": {},
          "execution_count": 20
        }
      ]
    },
    {
      "cell_type": "code",
      "source": [
        "theta"
      ],
      "metadata": {
        "colab": {
          "base_uri": "https://localhost:8080/"
        },
        "id": "b139JTfKZ1IJ",
        "outputId": "171fed47-4acf-4164-b3c4-15660e2bd49f"
      },
      "execution_count": 21,
      "outputs": [
        {
          "output_type": "execute_result",
          "data": {
            "text/plain": [
              "matrix([[nan],\n",
              "        [nan],\n",
              "        [nan]])"
            ]
          },
          "metadata": {},
          "execution_count": 21
        }
      ]
    },
    {
      "cell_type": "markdown",
      "metadata": {
        "id": "nZodWbknPb8X"
      },
      "source": [
        "#### Dibujar la recta de ajuste"
      ]
    },
    {
      "cell_type": "code",
      "source": [
        "theta_f = list(theta.flat)\n",
        "theta_f"
      ],
      "metadata": {
        "colab": {
          "base_uri": "https://localhost:8080/"
        },
        "id": "NRTVBXFBbFeM",
        "outputId": "dc2485b2-341f-4f83-a09a-ccb93fb3c82b"
      },
      "execution_count": null,
      "outputs": [
        {
          "output_type": "execute_result",
          "data": {
            "text/plain": [
              "[-3.895778645232485, 1.1930334198525492]"
            ]
          },
          "metadata": {},
          "execution_count": 65
        }
      ]
    },
    {
      "cell_type": "code",
      "execution_count": null,
      "metadata": {
        "colab": {
          "base_uri": "https://localhost:8080/",
          "height": 405
        },
        "id": "9qzA8vGxPb8X",
        "outputId": "ae82f669-893d-47b2-d743-76c91353cae8"
      },
      "outputs": [
        {
          "output_type": "execute_result",
          "data": {
            "text/plain": [
              "<matplotlib.legend.Legend at 0x7ed73567c5e0>"
            ]
          },
          "metadata": {},
          "execution_count": 66
        },
        {
          "output_type": "display_data",
          "data": {
            "text/plain": [
              "<Figure size 800x400 with 1 Axes>"
            ],
            "image/png": "[encoded data removed]"
          },
          "metadata": {}
        }
      ],
      "source": [
        "xs = np.arange(5, 23)\n",
        "ys = theta_f[0] + theta_f[1] * xs\n",
        "plt.figure(figsize=(8, 4))\n",
        "plt.xlabel('Población en 10,000s')\n",
        "plt.ylabel('Ingresos en $10,000s')\n",
        "plt.grid()\n",
        "plt.plot(data1.Poblacion, data1.Ingresos, 'bo', label='Datos')\n",
        "plt.plot(xs, ys, 'r-', label='Regresión Lineal: h(x) = %0.2f + %0.2fx'%(theta[0], theta[1]))\n",
        "plt.legend(loc=4)"
      ]
    },
    {
      "cell_type": "markdown",
      "source": [
        "### El coeficiente de determinación se puede calcular como:\n",
        "$$\n",
        "R^{2}=1-\\left( \\frac{m-1}{m-n-1} \\right) \\frac{\\parallel r \\parallel_{2}^{2}}{\\displaystyle\\sum_{i=1}^{m}\\left(y_{i}-\\bar{y}\\right)^{2}}\n",
        "$$"
      ],
      "metadata": {
        "id": "216xPVWLVEUF"
      }
    },
    {
      "cell_type": "code",
      "source": [
        "y_calc = np.array(theta_f[0] + theta_f[1] * x[:,1].flat)\n",
        "y_calc = y_calc.reshape(len(y_calc),1)"
      ],
      "metadata": {
        "id": "oipfeFqY73SG"
      },
      "execution_count": null,
      "outputs": []
    },
    {
      "cell_type": "code",
      "source": [
        "print(\"Ingresos Reales   y    Calculados\")\n",
        "print(np.c_[y[0:5],y_calc[0:5]])"
      ],
      "metadata": {
        "colab": {
          "base_uri": "https://localhost:8080/"
        },
        "id": "hWeigVARAYJ-",
        "outputId": "e09f4c94-7e16-4ee1-9dc1-ba9387246dc5"
      },
      "execution_count": null,
      "outputs": [
        {
          "output_type": "stream",
          "name": "stdout",
          "text": [
            "Ingresos Reales   y    Calculados\n",
            "[[17.592       3.39377485]\n",
            " [ 9.1302      2.69895219]\n",
            " [13.662       6.26719585]\n",
            " [11.854       4.459273  ]\n",
            " [ 6.8233      3.09515859]]\n"
          ]
        }
      ]
    },
    {
      "cell_type": "code",
      "source": [
        "suma_errores = np.sum(np.power((y-y_calc),2))\n",
        "suma_errores"
      ],
      "metadata": {
        "colab": {
          "base_uri": "https://localhost:8080/"
        },
        "id": "PdsT_U7GVWky",
        "outputId": "6eb1ce44-7579-4b6d-8666-5f716f175144"
      },
      "execution_count": null,
      "outputs": [
        {
          "output_type": "execute_result",
          "data": {
            "text/plain": [
              "868.5324469392729"
            ]
          },
          "metadata": {},
          "execution_count": 69
        }
      ]
    },
    {
      "cell_type": "code",
      "source": [
        "# Error cuadrático medio\n",
        "MSE = suma_errores/x.shape[0]\n",
        "MSE"
      ],
      "metadata": {
        "colab": {
          "base_uri": "https://localhost:8080/"
        },
        "id": "AGMEQkkLGQTN",
        "outputId": "9d897bac-00f1-4aab-e975-aa6ece325b59"
      },
      "execution_count": null,
      "outputs": [
        {
          "output_type": "execute_result",
          "data": {
            "text/plain": [
              "8.953942751951267"
            ]
          },
          "metadata": {},
          "execution_count": 70
        }
      ]
    },
    {
      "cell_type": "markdown",
      "source": [
        "## El coeficiente de determinación se puede calcular como:\n",
        "$$\n",
        "R^{2}=1-\\left( \\frac{m-1}{m-n-1} \\right) \\frac{\\parallel r \\parallel_{2}^{2}}{\\displaystyle\\sum_{i=1}^{m}\\left(y_{i}-\\bar{y}\\right)^{2}}\n",
        "$$"
      ],
      "metadata": {
        "id": "1wr2NRGUHNAn"
      }
    },
    {
      "cell_type": "code",
      "source": [
        "r = y - y_calc\n",
        "m,n = x.shape[0],x.shape[1]\n",
        "\n",
        "R2=1 - ((m-1)/(m-n-1))*np.linalg.norm(r)**2 / np.sum (np.power((y - np.mean(y)),2))\n",
        "print('Coeficiente de determinación es: ',R2)"
      ],
      "metadata": {
        "id": "gP0jBEtZVCF8",
        "colab": {
          "base_uri": "https://localhost:8080/"
        },
        "outputId": "55bab626-9d06-4fa6-870a-c9e0d33d75ba"
      },
      "execution_count": null,
      "outputs": [
        {
          "output_type": "stream",
          "name": "stdout",
          "text": [
            "Coeficiente de determinación es:  0.6956917996093033\n"
          ]
        }
      ]
    },
    {
      "cell_type": "markdown",
      "metadata": {
        "id": "cGRD8o2DPb8X"
      },
      "source": [
        "#### Predicciones\n",
        "población de 35000 y 70000"
      ]
    },
    {
      "cell_type": "code",
      "execution_count": null,
      "metadata": {
        "colab": {
          "base_uri": "https://localhost:8080/"
        },
        "id": "qIxM5ScrPb8X",
        "outputId": "bbd79dfb-e1cb-4e7f-9039-8bbde7b7251c"
      },
      "outputs": [
        {
          "output_type": "stream",
          "name": "stdout",
          "text": [
            "2798.3832425143705\n",
            "44554.55293735359\n"
          ]
        }
      ],
      "source": [
        "print((theta_f[0] + theta_f[1] * 3.5) * 10000)\n",
        "print((theta_f[0] + theta_f[1] * 7) * 10000)"
      ]
    }
  ],
  "metadata": {
    "kernelspec": {
      "display_name": "Python 3",
      "language": "python",
      "name": "python3"
    },
    "language_info": {
      "codemirror_mode": {
        "name": "ipython",
        "version": 3
      },
      "file_extension": ".py",
      "mimetype": "text/x-python",
      "name": "python",
      "nbconvert_exporter": "python",
      "pygments_lexer": "ipython3",
      "version": "3.7.9"
    },
    "colab": {
      "provenance": [],
      "include_colab_link": true
    }
  },
  "nbformat": 4,
  "nbformat_minor": 0
}