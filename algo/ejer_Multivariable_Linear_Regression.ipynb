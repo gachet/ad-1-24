{
  "cells": [
    {
      "cell_type": "markdown",
      "metadata": {
        "id": "view-in-github",
        "colab_type": "text"
      },
      "source": [
        "<a href=\"https://colab.research.google.com/github/gachet/ad-1-24/blob/main/algo/ejer_Multivariable_Linear_Regression.ipynb\" target=\"_parent\"><img src=\"https://colab.research.google.com/assets/colab-badge.svg\" alt=\"Open In Colab\"/></a>"
      ]
    },
    {
      "cell_type": "markdown",
      "metadata": {
        "id": "nJcmGhhUvt-n"
      },
      "source": [
        "### Ejercicio Regresión Lineal Multivariable\n",
        "\n"
      ]
    },
    {
      "cell_type": "markdown",
      "metadata": {
        "id": "HOSD98EKvt-p"
      },
      "source": [
        "#### Librerías"
      ]
    },
    {
      "cell_type": "code",
      "execution_count": null,
      "metadata": {
        "id": "7oKKfcuIvt-q"
      },
      "outputs": [],
      "source": [
        "import numpy as np\n",
        "import matplotlib.pyplot as plt\n",
        "from mpl_toolkits.mplot3d.axes3d import Axes3D\n",
        "%matplotlib inline"
      ]
    },
    {
      "cell_type": "markdown",
      "metadata": {
        "id": "4qWBXWRLvt-r"
      },
      "source": [
        "#### Datos\n",
        "El siguiente conjunto de datos contiene la tensión arterial sistólica (mmHg) (variable dependiente a predecir), la edad (años) y el peso (libras, 1 libra = 0.39 Kg) (mmHg) (variables independientes o predictoras)\n"
      ]
    },
    {
      "cell_type": "code",
      "execution_count": null,
      "metadata": {
        "colab": {
          "base_uri": "https://localhost:8080/"
        },
        "id": "kn2LF1Kivt-r",
        "outputId": "29718bee-a9a5-4445-a631-43efaf526e37",
        "collapsed": true
      },
      "outputs": [
        {
          "output_type": "stream",
          "name": "stdout",
          "text": [
            "X: \n",
            "\n",
            "[[  1.  52. 173.]\n",
            " [  1.  59. 184.]\n",
            " [  1.  67. 194.]\n",
            " [  1.  73. 211.]\n",
            " [  1.  64. 196.]\n",
            " [  1.  74. 220.]\n",
            " [  1.  54. 188.]\n",
            " [  1.  61. 188.]\n",
            " [  1.  65. 207.]\n",
            " [  1.  46. 167.]\n",
            " [  1.  72. 217.]]\n"
          ]
        }
      ],
      "source": [
        "# X1 = systolic blood pressure; X2 = age in years, X3 = weight in pounds\n",
        "blood_pressure_data = np.array([\n",
        "    [132, 52, 173],\n",
        "    [143, 59, 184],\n",
        "    [153, 67, 194],\n",
        "    [162, 73, 211],\n",
        "    [154, 64, 196],\n",
        "    [168, 74, 220],\n",
        "    [137, 54, 188],\n",
        "    [149, 61, 188],\n",
        "    [159, 65, 207],\n",
        "    [128, 46, 167],\n",
        "    [166, 72, 217]\n",
        "])\n"
      ]
    }
  ],
  "metadata": {
    "kernelspec": {
      "display_name": "Python 3",
      "language": "python",
      "name": "python3"
    },
    "language_info": {
      "codemirror_mode": {
        "name": "ipython",
        "version": 3
      },
      "file_extension": ".py",
      "mimetype": "text/x-python",
      "name": "python",
      "nbconvert_exporter": "python",
      "pygments_lexer": "ipython3",
      "version": "3.5.1"
    },
    "colab": {
      "provenance": [],
      "include_colab_link": true
    }
  },
  "nbformat": 4,
  "nbformat_minor": 0
}