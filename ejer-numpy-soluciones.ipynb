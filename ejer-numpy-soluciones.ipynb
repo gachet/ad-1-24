{
  "nbformat": 4,
  "nbformat_minor": 0,
  "metadata": {
    "colab": {
      "provenance": []
    },
    "kernelspec": {
      "display_name": "Python 3",
      "language": "python",
      "name": "python3"
    },
    "language_info": {
      "codemirror_mode": {
        "name": "ipython",
        "version": 3
      },
      "file_extension": ".py",
      "mimetype": "text/x-python",
      "name": "python",
      "nbconvert_exporter": "python",
      "pygments_lexer": "ipython3",
      "version": "3.6.5"
    }
  },
  "cells": [
    {
      "cell_type": "markdown",
      "metadata": {
        "id": "BQGfv7yxnSQh"
      },
      "source": [
        "#### 1. Importar numpy bajo el nombre `np` (★☆☆)"
      ]
    },
    {
      "cell_type": "code",
      "metadata": {
        "id": "Uhf4Lm3snSQq"
      },
      "source": [
        "import numpy as np"
      ],
      "execution_count": null,
      "outputs": []
    },
    {
      "cell_type": "markdown",
      "metadata": {
        "id": "gqv-jcKBnSRE"
      },
      "source": [
        "#### 2. Imprimir la versión y configuración de nunpy (★☆☆)"
      ]
    },
    {
      "cell_type": "code",
      "metadata": {
        "id": "8BZo3maUnSRJ"
      },
      "source": [
        "print(np.__version__)\n",
        "np.show_config()"
      ],
      "execution_count": null,
      "outputs": []
    },
    {
      "cell_type": "markdown",
      "metadata": {
        "id": "CaOvSInKnSRb"
      },
      "source": [
        "#### 3. Crear un vector de ceros de  tamaño 10 (★☆☆)"
      ]
    },
    {
      "cell_type": "code",
      "metadata": {
        "id": "Smg01YjxnSRg"
      },
      "source": [
        "Z = np.zeros(10)\n",
        "print(Z)"
      ],
      "execution_count": null,
      "outputs": []
    },
    {
      "cell_type": "markdown",
      "metadata": {
        "id": "Cdgu-eQ5nSRw"
      },
      "source": [
        "#### 4.  Saber el tamaño en memoria de un  array (★☆☆)"
      ]
    },
    {
      "cell_type": "code",
      "metadata": {
        "id": "VE-wGRPBnSR1"
      },
      "source": [
        "Z = np.zeros((10,10))\n",
        "print(\"%d bytes\" % (Z.size * Z.itemsize))"
      ],
      "execution_count": null,
      "outputs": []
    },
    {
      "cell_type": "markdown",
      "metadata": {
        "id": "MMrTAKzknSSE"
      },
      "source": [
        "#### 5.  Cómo encontrar la documentación de la función  add de nunmpy desde línea de comados? (★☆☆)"
      ]
    },
    {
      "cell_type": "code",
      "metadata": {
        "id": "gXrJEotenSSH"
      },
      "source": [
        "! python -c \"import numpy; numpy.info(numpy.add)\"\n",
        "## Si fuese Windows $run \"python -c .........\""
      ],
      "execution_count": null,
      "outputs": []
    },
    {
      "cell_type": "markdown",
      "metadata": {
        "id": "maJzQVWznSSi"
      },
      "source": [
        "#### 6.  Create un vector de ceros de tamaño 10 y que el 5yo valor sea  1 (★☆☆)"
      ]
    },
    {
      "cell_type": "code",
      "metadata": {
        "id": "GiHtfUkanSSm"
      },
      "source": [
        "Z = np.zeros(10)\n",
        "Z[4] = 1\n",
        "print(Z)"
      ],
      "execution_count": null,
      "outputs": []
    },
    {
      "cell_type": "markdown",
      "metadata": {
        "id": "TplPnukHnSS1"
      },
      "source": [
        "#### 7.  Crear un vector con valores de 10 a 49 (★☆☆)"
      ]
    },
    {
      "cell_type": "code",
      "metadata": {
        "id": "rwAhRkTonSS4"
      },
      "source": [
        "Z = np.arange(10,50)\n",
        "print(Z)"
      ],
      "execution_count": null,
      "outputs": []
    },
    {
      "cell_type": "markdown",
      "metadata": {
        "id": "lev9I1ISnSTE"
      },
      "source": [
        "#### 8.  Invertir el orden de un vector (★☆☆)"
      ]
    },
    {
      "cell_type": "code",
      "metadata": {
        "id": "pq_HevNynSTH"
      },
      "source": [
        "Z = np.arange(50)\n",
        "Z = Z[::-1]\n",
        "print(Z)"
      ],
      "execution_count": null,
      "outputs": []
    },
    {
      "cell_type": "markdown",
      "metadata": {
        "id": "Wk-s20O1nSTW"
      },
      "source": [
        "#### 9.  Crear una matriz 3x3 de  0 a 8 (★☆☆)"
      ]
    },
    {
      "cell_type": "code",
      "metadata": {
        "id": "1E1FuMl1nSTa"
      },
      "source": [
        "Z = np.arange(9).reshape(3,3)\n",
        "print(Z)"
      ],
      "execution_count": null,
      "outputs": []
    },
    {
      "cell_type": "markdown",
      "metadata": {
        "id": "hpBKsamjnSTm"
      },
      "source": [
        "#### 10. Encontrar los índices de los elemenentos no cero de  \\[1,2,0,0,4,0\\] (★☆☆)"
      ]
    },
    {
      "cell_type": "code",
      "metadata": {
        "id": "j5HO59krnSTp"
      },
      "source": [
        "nz = np.nonzero([1,2,0,0,4,0])\n",
        "print(nz)"
      ],
      "execution_count": null,
      "outputs": []
    },
    {
      "cell_type": "markdown",
      "metadata": {
        "id": "-pILGS8SnST1"
      },
      "source": [
        "#### 11. Crear una matriz identidad de 3x3 (★☆☆)"
      ]
    },
    {
      "cell_type": "code",
      "metadata": {
        "id": "qSD5gsRQnST6"
      },
      "source": [
        "Z = np.eye(3)\n",
        "print(Z)"
      ],
      "execution_count": null,
      "outputs": []
    },
    {
      "cell_type": "markdown",
      "metadata": {
        "id": "w6VBGaw9nSUF"
      },
      "source": [
        "#### 12. Crear una matriz de 3x3x3 de valores aleatorios (★☆☆)"
      ]
    },
    {
      "cell_type": "code",
      "metadata": {
        "id": "PjKmhCcTnSUJ"
      },
      "source": [
        "Z = np.random.random((3,3,3))\n",
        "print(Z)"
      ],
      "execution_count": null,
      "outputs": []
    },
    {
      "cell_type": "markdown",
      "metadata": {
        "id": "wfKm_CodnSUU"
      },
      "source": [
        "#### 13. Crear una matriz de  10x10 array con valores aleatorios y encontrar el mínimo y el máximo (★☆☆)"
      ]
    },
    {
      "cell_type": "code",
      "metadata": {
        "id": "VzcjKpPcnSUY"
      },
      "source": [
        "Z = np.random.random((10,10))\n",
        "Zmin, Zmax = Z.min(), Z.max()\n",
        "print(Zmin, Zmax)"
      ],
      "execution_count": null,
      "outputs": []
    },
    {
      "cell_type": "markdown",
      "metadata": {
        "id": "51ClIIT_nSUh"
      },
      "source": [
        "#### 14. Crear un vector de números aleatorios de tamaño 30 y encontrar la media (★☆☆)"
      ]
    },
    {
      "cell_type": "code",
      "metadata": {
        "id": "f20ILaFonSUk"
      },
      "source": [
        "Z = np.random.random(30)\n",
        "m = Z.mean()\n",
        "print(m)"
      ],
      "execution_count": null,
      "outputs": []
    },
    {
      "cell_type": "markdown",
      "metadata": {
        "id": "AeHbYx-4nSUt"
      },
      "source": [
        "#### 15. Crear una matriz 10x10 con 1s en los bordes y en el interior  ceros inside (★☆☆)"
      ]
    },
    {
      "cell_type": "code",
      "metadata": {
        "id": "Tg-MvF30nSUx"
      },
      "source": [
        "Z = np.ones((10,10))\n",
        "Z[1:-1,1:-1] = 0\n",
        "print(Z)"
      ],
      "execution_count": null,
      "outputs": []
    },
    {
      "cell_type": "markdown",
      "metadata": {
        "id": "E5U52JbqnSVT"
      },
      "source": [
        "#### 16. Crear una matriz  5x5 con valores 1,2,3,4 justo debajo de la diagonal (★☆☆)"
      ]
    },
    {
      "cell_type": "code",
      "metadata": {
        "id": "1HtmFGmWnSVW"
      },
      "source": [
        "Z = np.diag(1+np.arange(4),k=-1)\n",
        "print(Z)"
      ],
      "execution_count": null,
      "outputs": []
    },
    {
      "cell_type": "markdown",
      "metadata": {
        "id": "OJeM-O9hnSWa"
      },
      "source": [
        "#### 17. Multiplicar una matriz de  5x3 matrix por una de 3x2  (★☆☆)"
      ]
    },
    {
      "cell_type": "code",
      "metadata": {
        "id": "9k_DJNAFnSWd"
      },
      "source": [
        "Z = np.dot(np.ones((5,3)), np.ones((3,2)))\n",
        "print(Z)\n",
        "\n",
        "# Alternative solution, in Python 3.5 and above\n",
        "Z = np.ones((5,3)) @ np.ones((3,2))"
      ],
      "execution_count": null,
      "outputs": []
    },
    {
      "cell_type": "markdown",
      "metadata": {
        "id": "qprFLamAnSXX"
      },
      "source": [
        "#### 18. Cómo se pueden encontrar elementos comunes entre dos arrays? (★☆☆)"
      ]
    },
    {
      "cell_type": "code",
      "metadata": {
        "id": "NBm85b50nSXZ"
      },
      "source": [
        "Z1 = np.random.randint(0,10,10)\n",
        "Z2 = np.random.randint(0,10,10)\n",
        "print(np.intersect1d(Z1,Z2))"
      ],
      "execution_count": null,
      "outputs": []
    },
    {
      "cell_type": "markdown",
      "metadata": {
        "id": "0-ux1MA2nSY_"
      },
      "source": [
        "#### 19. Crear un vector de aleatorios de tamaño 10 10 y ordenarlos (★★☆)"
      ]
    },
    {
      "cell_type": "code",
      "metadata": {
        "id": "2CTto1PnnSZB"
      },
      "source": [
        "Z = np.random.random(10)\n",
        "Z.sort()\n",
        "print(Z)"
      ],
      "execution_count": null,
      "outputs": []
    },
    {
      "cell_type": "markdown",
      "metadata": {
        "id": "e5CsMLymnSZ8"
      },
      "source": [
        "#### 20. Considerar una matriz de aleatorios de  10x2 matrix representando coordenadas cartesianas, convertirlas a coordenadas polares (★★☆)"
      ]
    },
    {
      "cell_type": "code",
      "metadata": {
        "id": "htu2q-dqnSZ9"
      },
      "source": [
        "Z = np.random.random((10,2))\n",
        "X,Y = Z[:,0], Z[:,1]\n",
        "R = np.sqrt(X**2+Y**2)\n",
        "T = np.arctan2(Y,X)\n",
        "print(R)\n",
        "print(T)"
      ],
      "execution_count": null,
      "outputs": []
    },
    {
      "cell_type": "markdown",
      "metadata": {
        "id": "xJX7R-S1nSbr"
      },
      "source": [
        "#### 21. Restar la media de cada fila en una matriz (★★☆)"
      ]
    },
    {
      "cell_type": "code",
      "metadata": {
        "id": "re_v9qcEnSbt"
      },
      "source": [
        "\n",
        "X = np.random.rand(5, 10)\n",
        "\n",
        "# Recent versions of numpy\n",
        "Y = X - X.mean(axis=1, keepdims=True)\n",
        "\n",
        "# Older versions of numpy\n",
        "Y = X - X.mean(axis=1).reshape(-1, 1)\n",
        "\n",
        "print(Y)"
      ],
      "execution_count": null,
      "outputs": []
    },
    {
      "cell_type": "markdown",
      "metadata": {
        "id": "EBWphxwwnSe8"
      },
      "source": [
        "#### 22. Cómo encontrar el valor mas frecuente de un  array?"
      ]
    },
    {
      "cell_type": "code",
      "metadata": {
        "id": "illREPotnSe9"
      },
      "source": [
        "Z = np.random.randint(0,10,50)\n",
        "\n",
        "print (Z)\n",
        "print(np.bincount(Z).argmax())"
      ],
      "execution_count": null,
      "outputs": []
    },
    {
      "cell_type": "markdown",
      "metadata": {
        "id": "yWjc8pc5ybiV"
      },
      "source": [
        "#### 23 Crear una matriz 3x3x3 con valores al azar y Encontrar los indices de los valores minimos y maximos"
      ]
    },
    {
      "cell_type": "code",
      "metadata": {
        "id": "01d7BrEmybiW"
      },
      "source": [
        "r = np.random.randint(20, size=(3, 3))\n",
        "r"
      ],
      "execution_count": null,
      "outputs": []
    },
    {
      "cell_type": "code",
      "metadata": {
        "id": "5oxTGmBQybiX"
      },
      "source": [
        "ind_max = np.unravel_index(np.argmax(r, axis=None), r.shape)\n",
        "ind_min = np.unravel_index(np.argmin(r, axis=None), r.shape)\n",
        "\n",
        "print(\"indice del máximo\",ind_max)\n",
        "print(\"indice del mínimo\",ind_min)\n",
        "\n",
        "print('Elemento máximo',r[ind_max])\n",
        "print('Elemento mínimo',r[ind_min])\n",
        ""
      ],
      "execution_count": null,
      "outputs": []
    },
    {
      "cell_type": "code",
      "metadata": {
        "id": "p44f8Lk4ybiY"
      },
      "source": [],
      "execution_count": null,
      "outputs": []
    }
  ]
}