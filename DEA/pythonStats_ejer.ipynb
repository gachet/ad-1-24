{
  "cells": [
    {
      "cell_type": "markdown",
      "metadata": {
        "id": "jb_M80yxs3EU"
      },
      "source": [
        "# Estadística Básica con Python"
      ]
    },
    {
      "cell_type": "markdown",
      "metadata": {
        "id": "74117AX1s3Ea"
      },
      "source": [
        "## ¿Qué es la Estadística?\n",
        "\n",
        "La *[estadística](https://es.wikipedia.org/wiki/Estad%C3%ADstica)* suele ser definida como la ciencia de aprender de los *[datos](https://es.wikipedia.org/wiki/Dato)* o como la ciencia de obtener conclusiones en la presencia de incertidumbre. Se relaciona principalmente con la recolección, análisis e interpretación de *[datos](https://es.wikipedia.org/wiki/Dato)*, así como también con la efectiva comunicación y presentación de los resultados basados en esos *[datos](https://es.wikipedia.org/wiki/Dato)*. Como por *[datos](https://es.wikipedia.org/wiki/Dato)* entendemos a cualquier clase de información grabada, la *[estadística](https://es.wikipedia.org/wiki/Estad%C3%ADstica)* juego un rol importante en muchas disciplinas científicas.\n",
        "\n",
        "La *[estadística](https://es.wikipedia.org/wiki/Estad%C3%ADstica)* puede ser muy importante para una efectiva toma de decisiones. Existe una gran cantidad de valiosa información escondida entre los *[datos](https://es.wikipedia.org/wiki/Dato)*, pero esta información no suele ser fácilmente accesible, la *[estadística](https://es.wikipedia.org/wiki/Estad%C3%ADstica)* nos brinda los principios fundamentales que nos permiten extraer y entender esa información; tambien nos proporciona las herramientas necesarias para verificar la calidad de nuestros *[datos](https://es.wikipedia.org/wiki/Dato)* y nuestra información.\n",
        "\n",
        "La *[estadística](https://es.wikipedia.org/wiki/Estad%C3%ADstica)* suele ser dividida en dos grandes ramas:\n",
        "\n",
        "1. La *[estadística descriptiva](https://es.wikipedia.org/wiki/Estad%C3%ADstica_descriptiva)*: La cual se dedica a recolectar, ordenar, analizar y representar a un [conjunto de datos](https://es.wikipedia.org/wiki/Conjunto_de_datos), con el fin de describir apropiadamente las características de este. Calcula los parámetros estadísticos que describen el conjunto estudiado. Algunas de las herramientas que utiliza son gráficos, medidas de frecuencias, medidas de centralización, medidas de posición, medidas de dispersión, entre otras.\n",
        "\n",
        "2. La *[estadistica inferencial](https://es.wikipedia.org/wiki/Estad%C3%ADstica_inferencial)*: La cual estudia cómo sacar conclusiones generales para toda la [población](https://es.wikipedia.org/wiki/Poblaci%C3%B3n_estad%C3%ADstica) a partir del estudio de una <a href=\"https://es.wikipedia.org/wiki/Muestreo_(estad%C3%ADstica)\">muestra</a>, y el grado de fiabilidad o significación de los resultados obtenidos. Sus principales herramientas son el <a href=\"https://es.wikipedia.org/wiki/Muestreo_(estad%C3%ADstica)\">muestreo</a>, la estimación de parámetros y el contraste de hipótesis."
      ]
    },
    {
      "cell_type": "markdown",
      "metadata": {
        "id": "gEUrdFQ0s3Eb"
      },
      "source": [
        "## Conceptos básicos de la estadística descriptiva\n",
        "\n",
        "En *[estadística descriptiva](https://es.wikipedia.org/wiki/Estad%C3%ADstica_descriptiva)* se utilizan distintas medidas para intentar describir las propiedades de nuestros datos, algunos de los conceptos básicos, son:\n",
        "\n",
        "* **Media aritmética**: La [media aritmética](https://es.wikipedia.org/wiki/Media_aritm%C3%A9tica) es el valor obtenido al sumar todos los *[datos](https://es.wikipedia.org/wiki/Dato)* y dividir el resultado entre el número total elementos. Se suele representar con la letra griega $\\mu$. Si tenemos una [muestra](https://es.wikipedia.org/wiki/Muestra_estad%C3%ADstica) de $n$ valores, $x_i$, la *media aritmética*, $\\mu$, es la suma de los valores divididos por el numero de elementos; en otras palabras:\n",
        "$$\\mu = \\frac{1}{n} \\sum_{i}x_i$$\n",
        "\n",
        "\n",
        "* **Desviación respecto a la media**: La desviación respecto a la media es la diferencia en valor absoluto entre cada valor de la variable estadística y la media aritmética.\n",
        "$$D_i = |x_i - \\mu|$$\n",
        "\n",
        "\n",
        "* **Varianza**: La [varianza](https://es.wikipedia.org/wiki/Varianza) es la media aritmética del cuadrado de las desviaciones respecto a la media de una distribución estadística. La varianza intenta describir la dispersión de los *[datos](https://es.wikipedia.org/wiki/Dato)*. Se representa como $\\sigma^2$.\n",
        "$$\\sigma^2 = \\frac{\\sum\\limits_{i=1}^n(x_i - \\mu)^2}{n} $$\n",
        "\n",
        "\n",
        "* **Desviación típica**: La [desviación típica](https://es.wikipedia.org/wiki/Desviaci%C3%B3n_t%C3%ADpica) es la raíz cuadrada de la varianza. Se representa con la letra griega $\\sigma$.\n",
        "$$\\sigma = \\sqrt{\\frac{\\sum\\limits_{i=1}^n(x_i - \\mu)^2}{n}} $$\n",
        "\n",
        "\n",
        "* **Moda**: La <a href=\"https://es.wikipedia.org/wiki/Moda_(estad%C3%ADstica)\">moda</a> es el valor que tiene mayor frecuencia absoluta. Se representa con $M_0$\n",
        "\n",
        "\n",
        "* **Mediana**: La <a href=\"https://es.wikipedia.org/wiki/Mediana_(estad%C3%ADstica)\">mediana</a> es el valor que ocupa el lugar central de todos los datos cuando éstos están ordenados de menor a mayor. Se representa con $\\widetilde{x}$.\n",
        "\n",
        "\n",
        "* **Correlación**: La [correlación](https://es.wikipedia.org/wiki/Correlaci%C3%B3n) trata de establecer la relación o dependencia que existe entre las dos variables que intervienen en una distribución bidimensional. Es decir, determinar si los cambios en una de las variables influyen en los cambios de la otra. En caso de que suceda, diremos que las variables están correlacionadas o que hay correlación entre ellas. La correlación es positiva cuando los valores de las variables aumenta juntos; y es negativa cuando un valor de una variable se reduce cuando el valor de la otra variable aumenta.\n",
        "\n",
        "\n",
        "* **Covarianza**: La [covarianza](https://es.wikipedia.org/wiki/Covarianza) es el equivalente de la varianza aplicado a una variable bidimensional. Es la media aritmética de los productos de las desviaciones de cada una de las variables respecto a sus medias respectivas.La covarianza indica el sentido de la correlación entre las variables; Si $\\sigma_{xy} > 0$ la correlación es directa; Si $\\sigma_{xy} < 0$ la correlación es inversa.\n",
        "\n",
        "$$\\sigma_{xy} = \\frac{\\sum\\limits_{i=1}^n(x_i - \\mu_x)(y_i -\\mu_y)}{n}$$\n",
        "\n",
        "\n",
        "* **Valor atípico**: Un [valor atípico](https://es.wikipedia.org/wiki/Valor_at%C3%ADpico) es una observación que se aleja demasiado de la moda; esta muy lejos de la tendencia principal del resto de los *[datos](https://es.wikipedia.org/wiki/Dato)*. Pueden ser causados por errores en la recolección de *[datos](https://es.wikipedia.org/wiki/Dato)* o medidas inusuales. Generalmente se recomienda eliminarlos del [conjunto de datos](https://es.wikipedia.org/wiki/Conjunto_de_datos).\n"
      ]
    },
    {
      "cell_type": "markdown",
      "metadata": {
        "id": "PU01uTJbs3Ec"
      },
      "source": [
        "### Ejemplos en Python\n",
        "\n",
        "Calcular los principales indicadores de la *[estadística descriptiva](https://es.wikipedia.org/wiki/Estad%C3%ADstica_descriptiva)* con [Python](https://python.org/) es muy fácil!."
      ]
    },
    {
      "cell_type": "code",
      "execution_count": null,
      "metadata": {
        "collapsed": true,
        "id": "IqLyBM4ws3Ed"
      },
      "outputs": [],
      "source": [
        "# Ejemplos de estadistica descriptiva con python\n",
        "\n",
        "import numpy as np # importando numpy\n",
        "from scipy import stats # importando scipy.stats\n",
        "import pandas as pd # importando pandas\n",
        "\n",
        "np.random.seed(2131982) # para poder replicar el random"
      ]
    },
    {
      "cell_type": "code",
      "execution_count": null,
      "metadata": {
        "colab": {
          "base_uri": "https://localhost:8080/"
        },
        "id": "gFCc_TE6s3Ee",
        "outputId": "607ead2f-d7c5-4d0a-9c58-0632bf852ab5"
      },
      "outputs": [
        {
          "output_type": "execute_result",
          "data": {
            "text/plain": [
              "array([[ 0.46038022, -1.08942528, -0.62681496, -0.63329028],\n",
              "       [-0.1074033 , -0.88138082, -0.34466623, -0.28320214],\n",
              "       [ 0.94051171,  0.86693793,  1.20947882, -0.16894118],\n",
              "       [-0.12790177, -0.58099931, -0.46188426, -0.18148302],\n",
              "       [-0.76959435, -1.37414587,  1.37696874, -0.18040537]])"
            ]
          },
          "metadata": {},
          "execution_count": 16
        }
      ],
      "source": [
        "datos = np.random.randn(5, 4) # datos normalmente distribuidos\n",
        "datos"
      ]
    },
    {
      "cell_type": "markdown",
      "source": [
        "##Para los datos de partida anteriores calcular utilizando Numpy:"
      ],
      "metadata": {
        "id": "XNAYTpydE0M8"
      }
    },
    {
      "cell_type": "code",
      "execution_count": null,
      "metadata": {
        "id": "QXKTGBU2s3Ef"
      },
      "outputs": [],
      "source": [
        "# 1.- media aritmética del array\n"
      ]
    },
    {
      "cell_type": "code",
      "execution_count": null,
      "metadata": {
        "id": "jeh7QQ7xs3Eg"
      },
      "outputs": [],
      "source": [
        "# 2.- media aritmetica de cada fila"
      ]
    },
    {
      "cell_type": "code",
      "execution_count": null,
      "metadata": {
        "id": "B9xuZZt7s3Eh"
      },
      "outputs": [],
      "source": [
        " # 3.-  media aritmetica de cada columna"
      ]
    },
    {
      "cell_type": "code",
      "execution_count": null,
      "metadata": {
        "id": "BhfhC-oCs3Eh"
      },
      "outputs": [],
      "source": [
        "# 4.- mediana de todo el array\n"
      ]
    },
    {
      "cell_type": "code",
      "execution_count": null,
      "metadata": {
        "id": "J1cMcL0fs3Eh"
      },
      "outputs": [],
      "source": [
        "# 5.- mediana de cada columna"
      ]
    },
    {
      "cell_type": "code",
      "execution_count": null,
      "metadata": {
        "id": "PNvd0Xkvs3Ei"
      },
      "outputs": [],
      "source": [
        " # 6.- Desviación típica de todo el array\n"
      ]
    },
    {
      "cell_type": "code",
      "execution_count": null,
      "metadata": {
        "id": "01F2XuXNs3Ei"
      },
      "outputs": [],
      "source": [
        "# 7.- Desviación típica de cada columna"
      ]
    },
    {
      "cell_type": "code",
      "execution_count": null,
      "metadata": {
        "id": "hh9Ui_FQs3Ej"
      },
      "outputs": [],
      "source": [
        "# 8.- varianza del array\n"
      ]
    },
    {
      "cell_type": "code",
      "execution_count": null,
      "metadata": {
        "id": "QfwFPSpXs3Ej"
      },
      "outputs": [],
      "source": [
        "# 9.- varianza de cada columna"
      ]
    },
    {
      "cell_type": "code",
      "execution_count": null,
      "metadata": {
        "colab": {
          "base_uri": "https://localhost:8080/"
        },
        "id": "xj7uSqcfs3Ej",
        "outputId": "57c9bafc-18bc-4b8f-d3ea-5ba6e55c1671"
      },
      "outputs": [
        {
          "output_type": "execute_result",
          "data": {
            "text/plain": [
              "ModeResult(mode=array([-0.76959435, -1.37414587, -0.62681496, -0.63329028]), count=array([1., 1., 1., 1.]))"
            ]
          },
          "metadata": {},
          "execution_count": 26
        }
      ],
      "source": [
        "#10.-  moda\n",
        "stats.mode(datos) # Calcula la moda de cada columna\n",
        "# el 2do array devuelve la frecuencia."
      ]
    },
    {
      "cell_type": "code",
      "execution_count": null,
      "metadata": {
        "id": "WqddXcwys3Ek"
      },
      "outputs": [],
      "source": [
        "# 11.- Calcula la moda del vector\n",
        "datos2 = np.array([1, 2, 3, 6, 6, 1, 2, 4, 2, 2, 6, 6, 8, 10, 6])"
      ]
    },
    {
      "cell_type": "markdown",
      "source": [
        "##Matriz de Covarianza\n",
        "\n",
        "![Captura.JPG](data:image/jpeg;base64,/9j/4AAQSkZJRgABAQEAeAB4AAD/4RDgRXhpZgAATU0AKgAAAAgABAE7AAIAAAAHAAAISodpAAQAAAABAAAIUpydAAEAAAAOAAAQyuocAAcAAAgMAAAAPgAAAAAc6gAAAAgAAAAAAAAAAAAAAAAAAAAAAAAAAAAAAAAAAAAAAAAAAAAAAAAAAAAAAAAAAAAAAAAAAAAAAAAAAAAAAAAAAAAAAAAAAAAAAAAAAAAAAAAAAAAAAAAAAAAAAAAAAAAAAAAAAAAAAAAAAAAAAAAAAAAAAAAAAAAAAAAAAAAAAAAAAAAAAAAAAAAAAAAAAAAAAAAAAAAAAAAAAAAAAAAAAAAAAAAAAAAAAAAAAAAAAAAAAAAAAAAAAAAAAAAAAAAAAAAAAAAAAAAAAAAAAAAAAAAAAAAAAAAAAAAAAAAAAAAAAAAAAAAAAAAAAAAAAAAAAAAAAAAAAAAAAAAAAAAAAAAAAAAAAAAAAAAAAAAAAAAAAAAAAAAAAAAAAAAAAAAAAAAAAAAAAAAAAAAAAAAAAAAAAAAAAAAAAAAAAAAAAAAAAAAAAAAAAAAAAAAAAAAAAAAAAAAAAAAAAAAAAAAAAAAAAAAAAAAAAAAAAAAAAAAAAAAAAAAAAAAAAAAAAAAAAAAAAAAAAAAAAAAAAAAAAAAAAAAAAAAAAAAAAAAAAAAAAAAAAAAAAAAAAAAAAAAAAAAAAAAAAAAAAAAAAAAAAAAAAAAAAAAAAAAAAAAAAAAAAAAAAAAAAAAAAAAAAAAAAAAAAAAAAAAAAAAAAAAAAAAAAAAAAAAAAAAAAAAAAAAAAAAAAAAAAAAAAAAAAAAAAAAAAAAAAAAAAAAAAAAAAAAAAAAAAAAAAAAAAAAAAAAAAAAAAAAAAAAAAAAAAAAAAAAAAAAAAAAAAAAAAAAAAAAAAAAAAAAAAAAAAAAAAAAAAAAAAAAAAAAAAAAAAAAAAAAAAAAAAAAAAAAAAAAAAAAAAAAAAAAAAAAAAAAAAAAAAAAAAAAAAAAAAAAAAAAAAAAAAAAAAAAAAAAAAAAAAAAAAAAAAAAAAAAAAAAAAAAAAAAAAAAAAAAAAAAAAAAAAAAAAAAAAAAAAAAAAAAAAAAAAAAAAAAAAAAAAAAAAAAAAAAAAAAAAAAAAAAAAAAAAAAAAAAAAAAAAAAAAAAAAAAAAAAAAAAAAAAAAAAAAAAAAAAAAAAAAAAAAAAAAAAAAAAAAAAAAAAAAAAAAAAAAAAAAAAAAAAAAAAAAAAAAAAAAAAAAAAAAAAAAAAAAAAAAAAAAAAAAAAAAAAAAAAAAAAAAAAAAAAAAAAAAAAAAAAAAAAAAAAAAAAAAAAAAAAAAAAAAAAAAAAAAAAAAAAAAAAAAAAAAAAAAAAAAAAAAAAAAAAAAAAAAAAAAAAAAAAAAAAAAAAAAAAAAAAAAAAAAAAAAAAAAAAAAAAAAAAAAAAAAAAAAAAAAAAAAAAAAAAAAAAAAAAAAAAAAAAAAAAAAAAAAAAAAAAAAAAAAAAAAAAAAAAAAAAAAAAAAAAAAAAAAAAAAAAAAAAAAAAAAAAAAAAAAAAAAAAAAAAAAAAAAAAAAAAAAAAAAAAAAAAAAAAAAAAAAAAAAAAAAAAAAAAAAAAAAAAAAAAAAAAAAAAAAAAAAAAAAAAAAAAAAAAAAAAAAAAAAAAAAAAAAAAAAAAAAAAAAAAAAAAAAAAAAAAAAAAAAAAAAAAAAAAAAAAAAAAAAAAAAAAAAAAAAAAAAAAAAAAAAAAAAAAAAAAAAAAAAAAAAAAAAAAAAAAAAAAAAAAAAAAAAAAAAAAAAAAAAAAAAAAAAAAAAAAAAAAAAAAAAAAAAAAAAAAAAAAAAAAAAAAAAAAAAAAAAAAAAAAAAAAAAAAAAAAAAAAAAAAAAAAAAAAAAAAAAAAAAAAAAAAAAAAAAAAAAAAAAAAAAAAAAAAAAAAAAAAAAAAAAAAAAAAAAAAAAAAAAAAAAAAAAAAAAAAAAAAAAAAAAAAAAAAAAAAAAAAAAAAAAAAAAAAAAAAAAAAAAAAAAAAAAAAAAAAAAAAAAAAAAAAAAAAAAAAAAAAAAAAAAAAAAAAAAAAAAAAAAAAAAAAAAAAAAAAAAAAAAAAAAAAAAAAAAAAAAAAAAAAAAAAAAAAAAAAAAAAAAAAAAAAAAAAAAAAAAAAAAAAAAAAAAAAAAAAAAAAAAAAAAAAAAAAAAAAAAAAAAAAAAAAAAAAAAAAAAAAAAAAAAAAAAAAAAAAAAAAAAAAAAAAAAAAAAAAAAAAAAAAAAAAAAAAAAAAAAAAAAAAAAAAAAAAAAAAAAAAAAAAAAAAAAAAAAAAAAAAAAAAAAAAAAAAAAAAAAAAAAAAAAAAAAAAAAAAAAAAAAAAAAAAAAAAAAAAAAAAAAAAAAAAAAAAAAAAAAAAAAAAAAAAAAAAAAAAAAAAAAAAAAAAAAAAAAAAAAAAAAAAAAAAAAAAAAAAAAAAAAAAAAAAAAAAAAAAAAAAAAAAAAAAAAAAAAAAAAAAAAAAAAAAAAAAAAAAAAAAAAAAAAAAAAAAAAAAAAAAAAAAAAAAAAAAAAAAAAAAAAAAAAAAAAAAAAAAAAAAAAAAAAAAAAAAAAAAAAAAAAAAAAAAAAAAAAAAAAAAAAAAAAAAAAAAAAAAAAAAAAAAAAAAAAAAAAAAAAAAAAAAAAAAAAAAAAAAAAAAAAAAAAAAAAAAAAAAAAAAAAAAAAAAAAAAAAAAAAAAAAAAAAAAAAAAAAAAAAAAAAAAAAAAAAAAAAAAAAAAAAAAAAAAAAAAAAAAAAAAAAAAAAAAAAAAAAAAAAAAAAAAAAAAAAAAAAAAAAAAAAAAAAAAAAAAAAAAAAAAAAAAAAAAAAAAAAAAAAAAAAGdhY2hldAAAAAWQAwACAAAAFAAAEKCQBAACAAAAFAAAELSSkQACAAAAAzA3AACSkgACAAAAAzA3AADqHAAHAAAIDAAACJQAAAAAHOoAAAAIAAAAAAAAAAAAAAAAAAAAAAAAAAAAAAAAAAAAAAAAAAAAAAAAAAAAAAAAAAAAAAAAAAAAAAAAAAAAAAAAAAAAAAAAAAAAAAAAAAAAAAAAAAAAAAAAAAAAAAAAAAAAAAAAAAAAAAAAAAAAAAAAAAAAAAAAAAAAAAAAAAAAAAAAAAAAAAAAAAAAAAAAAAAAAAAAAAAAAAAAAAAAAAAAAAAAAAAAAAAAAAAAAAAAAAAAAAAAAAAAAAAAAAAAAAAAAAAAAAAAAAAAAAAAAAAAAAAAAAAAAAAAAAAAAAAAAAAAAAAAAAAAAAAAAAAAAAAAAAAAAAAAAAAAAAAAAAAAAAAAAAAAAAAAAAAAAAAAAAAAAAAAAAAAAAAAAAAAAAAAAAAAAAAAAAAAAAAAAAAAAAAAAAAAAAAAAAAAAAAAAAAAAAAAAAAAAAAAAAAAAAAAAAAAAAAAAAAAAAAAAAAAAAAAAAAAAAAAAAAAAAAAAAAAAAAAAAAAAAAAAAAAAAAAAAAAAAAAAAAAAAAAAAAAAAAAAAAAAAAAAAAAAAAAAAAAAAAAAAAAAAAAAAAAAAAAAAAAAAAAAAAAAAAAAAAAAAAAAAAAAAAAAAAAAAAAAAAAAAAAAAAAAAAAAAAAAAAAAAAAAAAAAAAAAAAAAAAAAAAAAAAAAAAAAAAAAAAAAAAAAAAAAAAAAAAAAAAAAAAAAAAAAAAAAAAAAAAAAAAAAAAAAAAAAAAAAAAAAAAAAAAAAAAAAAAAAAAAAAAAAAAAAAAAAAAAAAAAAAAAAAAAAAAAAAAAAAAAAAAAAAAAAAAAAAAAAAAAAAAAAAAAAAAAAAAAAAAAAAAAAAAAAAAAAAAAAAAAAAAAAAAAAAAAAAAAAAAAAAAAAAAAAAAAAAAAAAAAAAAAAAAAAAAAAAAAAAAAAAAAAAAAAAAAAAAAAAAAAAAAAAAAAAAAAAAAAAAAAAAAAAAAAAAAAAAAAAAAAAAAAAAAAAAAAAAAAAAAAAAAAAAAAAAAAAAAAAAAAAAAAAAAAAAAAAAAAAAAAAAAAAAAAAAAAAAAAAAAAAAAAAAAAAAAAAAAAAAAAAAAAAAAAAAAAAAAAAAAAAAAAAAAAAAAAAAAAAAAAAAAAAAAAAAAAAAAAAAAAAAAAAAAAAAAAAAAAAAAAAAAAAAAAAAAAAAAAAAAAAAAAAAAAAAAAAAAAAAAAAAAAAAAAAAAAAAAAAAAAAAAAAAAAAAAAAAAAAAAAAAAAAAAAAAAAAAAAAAAAAAAAAAAAAAAAAAAAAAAAAAAAAAAAAAAAAAAAAAAAAAAAAAAAAAAAAAAAAAAAAAAAAAAAAAAAAAAAAAAAAAAAAAAAAAAAAAAAAAAAAAAAAAAAAAAAAAAAAAAAAAAAAAAAAAAAAAAAAAAAAAAAAAAAAAAAAAAAAAAAAAAAAAAAAAAAAAAAAAAAAAAAAAAAAAAAAAAAAAAAAAAAAAAAAAAAAAAAAAAAAAAAAAAAAAAAAAAAAAAAAAAAAAAAAAAAAAAAAAAAAAAAAAAAAAAAAAAAAAAAAAAAAAAAAAAAAAAAAAAAAAAAAAAAAAAAAAAAAAAAAAAAAAAAAAAAAAAAAAAAAAAAAAAAAAAAAAAAAAAAAAAAAAAAAAAAAAAAAAAAAAAAAAAAAAAAAAAAAAAAAAAAAAAAAAAAAAAAAAAAAAAAAAAAAAAAAAAAAAAAAAAAAAAAAAAAAAAAAAAAAAAAAAAAAAAAAAAAAAAAAAAAAAAAAAAAAAAAAAAAAAAAAAAAAAAAAAAAAAAAAAAAAAAAAAAAAAAAAAAAAAAAAAAAAAAAAAAAAAAAAAAAAAAAAAAAAAAAAAAAAAAAAAAAAAAAAAAAAAAAAAAAAAAAAAAAAAAAAAAAAAAAAAAAAAAAAAAAAAAAAAAAAAAAAAAAAAAAAAAAAAAAAAAAAAAAAAAAAAAAAAAAAAAAAAAAAAAAAAAAAAAAAAAAAAAAAAAAAAAAAAAAAAAAAAAAAAAAAAAAAAAAAAAAAAAAAAAAAAAAAAAAAAAAAAAAAAAAAAAAAAAAAAAAAAAAAAAAAAAAAAAAAAAAAAAAAAAAAAAAAAAAAAAAAAAAAAAAAAAAAAAAAAAAAAAAAAAAAAAAAAAAAAAAAAAAAAAAAAAAAAAAAAAAAAAAAAAAAAAAAAAAAAAAAAAAAAAAAAAAAAAAAAAAAAAAAAAAAAAAAAAAAAAAAAAAAAAAAAAAAAAAAAAAAAAAAAAAAAAAAAAAAAAAAAAAAAAAAAAAAAAAAAAAAAAAAAAAAAAAAAAAAAAAAAAAAAAAAAAAAAAAAAAAAAAAAAAAAAAAAAAAAAAAAAAAAAAAAAAAAAAAAAAAAAAAAAAAAAAAAAAAAAAAAAAAAAAAAAAAAAAAAAAAAAAAAAAAAAAAAAAAAAAAAAAAAAAAAAAAAAAAAAAAAAAAAAAAAAAAAAAAAAAAAAAAAAAAAAAAAAAAAAAAAAAAAAAAAAAAAAAAAAAAAAAAAAAAAAAAAAAAAAAAAAAAAAAAAAAAAAAAAAAAAAAAAAAAAAAAAAAAAAAAAAAAAAAAAAAAAAAAAAAAAAAAAAAAAAAAAAAAAAAAAAAAAAAAAAAAAAAAAAAAAAAAAAAAAAAAAAAAAAAAAAAAAAAAAAAAAAAAAAAAAAAAAAAAAAAAAAAAAAAAAAAAAAAAAAAAAAAAAAAAAAAAAAAAAAAAAAAAAAAAAAAAAAAAAAAAAAAAAAAAAAAAAAAAAAAAAAyMDIzOjEwOjE1IDAwOjA2OjI0ADIwMjM6MTA6MTUgMDA6MDY6MjQAAABnAGEAYwBoAGUAdAAAAP/hCxlodHRwOi8vbnMuYWRvYmUuY29tL3hhcC8xLjAvADw/eHBhY2tldCBiZWdpbj0n77u/JyBpZD0nVzVNME1wQ2VoaUh6cmVTek5UY3prYzlkJz8+DQo8eDp4bXBtZXRhIHhtbG5zOng9ImFkb2JlOm5zOm1ldGEvIj48cmRmOlJERiB4bWxuczpyZGY9Imh0dHA6Ly93d3cudzMub3JnLzE5OTkvMDIvMjItcmRmLXN5bnRheC1ucyMiPjxyZGY6RGVzY3JpcHRpb24gcmRmOmFib3V0PSJ1dWlkOmZhZjViZGQ1LWJhM2QtMTFkYS1hZDMxLWQzM2Q3NTE4MmYxYiIgeG1sbnM6ZGM9Imh0dHA6Ly9wdXJsLm9yZy9kYy9lbGVtZW50cy8xLjEvIi8+PHJkZjpEZXNjcmlwdGlvbiByZGY6YWJvdXQ9InV1aWQ6ZmFmNWJkZDUtYmEzZC0xMWRhLWFkMzEtZDMzZDc1MTgyZjFiIiB4bWxuczp4bXA9Imh0dHA6Ly9ucy5hZG9iZS5jb20veGFwLzEuMC8iPjx4bXA6Q3JlYXRlRGF0ZT4yMDIzLTEwLTE1VDAwOjA2OjI0LjA2NTwveG1wOkNyZWF0ZURhdGU+PC9yZGY6RGVzY3JpcHRpb24+PHJkZjpEZXNjcmlwdGlvbiByZGY6YWJvdXQ9InV1aWQ6ZmFmNWJkZDUtYmEzZC0xMWRhLWFkMzEtZDMzZDc1MTgyZjFiIiB4bWxuczpkYz0iaHR0cDovL3B1cmwub3JnL2RjL2VsZW1lbnRzLzEuMS8iPjxkYzpjcmVhdG9yPjxyZGY6U2VxIHhtbG5zOnJkZj0iaHR0cDovL3d3dy53My5vcmcvMTk5OS8wMi8yMi1yZGYtc3ludGF4LW5zIyI+PHJkZjpsaT5nYWNoZXQ8L3JkZjpsaT48L3JkZjpTZXE+DQoJCQk8L2RjOmNyZWF0b3I+PC9yZGY6RGVzY3JpcHRpb24+PC9yZGY6UkRGPjwveDp4bXBtZXRhPg0KICAgICAgICAgICAgICAgICAgICAgICAgICAgICAgICAgICAgICAgICAgICAgICAgICAgICAgICAgICAgICAgICAgICAgICAgICAgICAgICAgICAgICAgICAgICAgICAgICAgIAogICAgICAgICAgICAgICAgICAgICAgICAgICAgICAgICAgICAgICAgICAgICAgICAgICAgICAgICAgICAgICAgICAgICAgICAgICAgICAgICAgICAgICAgICAgICAgICAgICAgCiAgICAgICAgICAgICAgICAgICAgICAgICAgICAgICAgICAgICAgICAgICAgICAgICAgICAgICAgICAgICAgICAgICAgICAgICAgICAgICAgICAgICAgICAgICAgICAgICAgICAKICAgICAgICAgICAgICAgICAgICAgICAgICAgICAgICAgICAgICAgICAgICAgICAgICAgICAgICAgICAgICAgICAgICAgICAgICAgICAgICAgICAgICAgICAgICAgICAgICAgIAogICAgICAgICAgICAgICAgICAgICAgICAgICAgICAgICAgICAgICAgICAgICAgICAgICAgICAgICAgICAgICAgICAgICAgICAgICAgICAgICAgICAgICAgICAgICAgICAgICAgCiAgICAgICAgICAgICAgICAgICAgICAgICAgICAgICAgICAgICAgICAgICAgICAgICAgICAgICAgICAgICAgICAgICAgICAgICAgICAgICAgICAgICAgICAgICAgICAgICAgICAKICAgICAgICAgICAgICAgICAgICAgICAgICAgICAgICAgICAgICAgICAgICAgICAgICAgICAgICAgICAgICAgICAgICAgICAgICAgICAgICAgICAgICAgICAgICAgICAgICAgIAogICAgICAgICAgICAgICAgICAgICAgICAgICAgICAgICAgICAgICAgICAgICAgICAgICAgICAgICAgICAgICAgICAgICAgICAgICAgICAgICAgICAgICAgICAgICAgICAgICAgCiAgICAgICAgICAgICAgICAgICAgICAgICAgICAgICAgICAgICAgICAgICAgICAgICAgICAgICAgICAgICAgICAgICAgICAgICAgICAgICAgICAgICAgICAgICAgICAgICAgICAKICAgICAgICAgICAgICAgICAgICAgICAgICAgICAgICAgICAgICAgICAgICAgICAgICAgICAgICAgICAgICAgICAgICAgICAgICAgICAgICAgICAgICAgICAgICAgICAgICAgIAogICAgICAgICAgICAgICAgICAgICAgICAgICAgICAgICAgICAgICAgICAgICAgICAgICAgICAgICAgICAgICAgICAgICAgICAgICAgICAgICAgICAgICAgICAgICAgICAgICAgCiAgICAgICAgICAgICAgICAgICAgICAgICAgICAgICAgICAgICAgICAgICAgICAgICAgICAgICAgICAgICAgICAgICAgICAgICAgICAgICAgICAgICAgICAgICAgICAgICAgICAKICAgICAgICAgICAgICAgICAgICAgICAgICAgICAgICAgICAgICAgICAgICAgICAgICAgICAgICAgICAgICAgICAgICAgICAgICAgICAgICAgICAgICAgICAgICAgICAgICAgIAogICAgICAgICAgICAgICAgICAgICAgICAgICAgICAgICAgICAgICAgICAgICAgICAgICAgICAgICAgICAgICAgICAgICAgICAgICAgICAgICAgICAgICAgICAgICAgICAgICAgCiAgICAgICAgICAgICAgICAgICAgICAgICAgICAgICAgICAgICAgICAgICAgICAgICAgICAgICAgICAgICAgICAgICAgICAgICAgICAgICAgICAgICAgICAgICAgICAgICAgICAKICAgICAgICAgICAgICAgICAgICAgICAgICAgICAgICAgICAgICAgICAgICAgICAgICAgICAgICAgICAgICAgICAgICAgICAgICAgICAgICAgICAgICAgICAgICAgICAgICAgIAogICAgICAgICAgICAgICAgICAgICAgICAgICAgICAgICAgICAgICAgICAgICAgICAgICAgICAgICAgICAgICAgICAgICAgICAgICAgICAgICAgICAgICAgICAgICAgICAgICAgCiAgICAgICAgICAgICAgICAgICAgICAgICAgICAgICAgICAgICAgICAgICAgICAgICAgICAgICAgICAgICAgICAgICAgICAgICAgICAgICAgICAgICAgICAgICAgICAgICAgICAKICAgICAgICAgICAgICAgICAgICAgICAgICAgICAgICAgICAgICAgICAgICAgICAgICAgICAgICAgICAgICAgICAgICAgICAgICAgICAgICAgICAgICAgICAgICAgICAgICAgIAogICAgICAgICAgICAgICAgICAgICAgICAgICAgICAgICAgICAgICAgICAgICAgICAgICAgICAgICAgICAgICAgICAgICAgICAgICAgICAgICAgICAgICAgICAgICAgICAgICAgCiAgICAgICAgICAgICAgICAgICAgICAgICAgICA8P3hwYWNrZXQgZW5kPSd3Jz8+/9sAQwAHBQUGBQQHBgUGCAcHCAoRCwoJCQoVDxAMERgVGhkYFRgXGx4nIRsdJR0XGCIuIiUoKSssKxogLzMvKjInKisq/9sAQwEHCAgKCQoUCwsUKhwYHCoqKioqKioqKioqKioqKioqKioqKioqKioqKioqKioqKioqKioqKioqKioqKioqKioq/8AAEQgApAJOAwEiAAIRAQMRAf/EAB8AAAEFAQEBAQEBAAAAAAAAAAABAgMEBQYHCAkKC//EALUQAAIBAwMCBAMFBQQEAAABfQECAwAEEQUSITFBBhNRYQcicRQygZGhCCNCscEVUtHwJDNicoIJChYXGBkaJSYnKCkqNDU2Nzg5OkNERUZHSElKU1RVVldYWVpjZGVmZ2hpanN0dXZ3eHl6g4SFhoeIiYqSk5SVlpeYmZqio6Slpqeoqaqys7S1tre4ubrCw8TFxsfIycrS09TV1tfY2drh4uPk5ebn6Onq8fLz9PX29/j5+v/EAB8BAAMBAQEBAQEBAQEAAAAAAAABAgMEBQYHCAkKC//EALURAAIBAgQEAwQHBQQEAAECdwABAgMRBAUhMQYSQVEHYXETIjKBCBRCkaGxwQkjM1LwFWJy0QoWJDThJfEXGBkaJicoKSo1Njc4OTpDREVGR0hJSlNUVVZXWFlaY2RlZmdoaWpzdHV2d3h5eoKDhIWGh4iJipKTlJWWl5iZmqKjpKWmp6ipqrKztLW2t7i5usLDxMXGx8jJytLT1NXW19jZ2uLj5OXm5+jp6vLz9PX29/j5+v/aAAwDAQACEQMRAD8A+kaKKKACiiigAooooAKKKKACiivK9N+LXifW7eS60L4bXt/ZrPJCtwmpRKHKMVPDAHqKAPVKKRSSgLDaSOR6UtABRRWFP458J22oPYXPijRobxJPKe3k1CJZFfONpUtkHPGKAN2is3V/Emh+H/J/t7WdP0zz93lfbbpIfM24zt3EZxkZx6ir1tcwXlrFdWc0c9vMgkilicMkikZDKRwQQcgigCSiiigAoqnBqtrdapdWFs5lmtAv2gqMrEzDIQn+9jnHUAgnGRmlqfjHwzot6bPWfEWk6fchQxgur6OJwD0O1mBxQBs0Vjah4w8M6SYBqviLSbI3EQmh+030cfmxno67mGVPqOK1YJ4rq3juLaVJoZUDxyRsGV1IyCCOCCO9AElFUrrVrWy1GzsrpzFJellgZh8juozs3f3iMkDuFbHQ1doAKKKKACiiigAoorN1rxFo3h23SfXdUtNPjkO2M3EwQyH0UHlj7CgDSorLtfE2iX32YWmqWsrXUnlQosg3M+wvt29QdqlsHsK1KACiiigAoqn/AGpanWRpaOZLsQ+fIiDPlJnALHtk5AHU4bHQ4rat4p8P6BNHDruu6bpssi7kS8u44WZc4yAxGRQBq0VjXXjDwzZWNre3viLSbe0vATbTy30aRzgdSjFsNjI6Vo2N/Z6pYx3mm3cF5azDMc9vIJEcZxkMODyKALFFFFABRWHfeN/CmmX0llqXibR7O7iIElvcX8UciEjIBUtkcEU/U/GPhnRbw2mseItJ0+5ChjDdX0cTgHodrMDigDZooByMjkVSk1a0i1qLSpnMdzPCZYQy4WUKcMFPQsuQSOuCD64ALtFFFABRRRQAUUUUAFFFFABRRRQAUVgzeOPC9vqkmmy6/p4vIs+bEJ1Jhx/fxwn/AALFatpqNnftcLZXMVwbaXyZvLYNsfarbT74ZT+NAFmiiigAopGZUQs7BVUZJJwAKq6ZqVvq+nx31iWe2myYpCuBIucB19VPUHuMHoaALdFYdp438KX+oJY2PifRrm7kbYlvDfxPIzegUNkn2p8fjLwxLq39lReI9JfUfNMP2Nb6IzeYDgps3Z3AgjGM0AbNFFFABRUN5eWun2ct3f3MNrbQrulmncIiD1LHgCszT/GHhnVmmXSvEWk3pt4jNMLa+jk8uMdXbaxwo9TxQBs0Vk6T4s8O69dNbaHr+l6lOieY0VneRzMq5A3EKScZIGfcVrUAFFUrTVrW91C8sYnZbqyZRNE67WAYZVx6qecEcZDDqCBm+Ldd1nQrO3l0DwzP4glkkKyRQ3KQmIY+8S3X0oA36K4nwV4+vvE/iLVdF1jw1PoN7psMUrxzXSzFhJnH3Rgfd9a7agAooooAKKKKACiiigAooooAKKKKACvO/gd/yTUf9hK9/wDR716JXnfwO/5JqP8AsJXv/o96APRKKKKACvKPjTAdA1Dwx8QraPc2gX6xXuFyWtZTtb8icD3evV6y/E2hW/ifwtqWiXn+qvrZ4S2M7CRw31BwfwoAxdejtvEvjDQtJKRXFpZqdYuCQGU4BSAf8CZmcf8AXGp9Z8TavaeJk0PQvDkmoS/YjePczzNb2+A+3ylkEbgyd9p2jHesX4O+Hdb0Pwcsvi0EaxMEt2VjkxQQDy4kz34DPn/poabrWh6tc/Ei7vdc0u51/wAPNYomn2UMyeTFMD8/mxO6qzN2YggDjigC1N8S43+GEnjPS9HuLuK3En2qzeVIpIPLLCTJOQcFe3UHPtVnQ/Hc+rWt1eXXh2/0+xj05NRgupiCk8bKW25HRsDO3nAIzg8V5/pvhbxrpnwm8ReFG8Nb2uhcxW0drcQbS0zOwcM0igRKu0cgNkjC8HHpuhWl1f8Aw/i0rVNNuNKmFiLKSK4eJzxGELAxuw29ccg8dBQBT+FkMn/Ct9Kv7pt95q0Z1K6k7vJOfMJ/AMAPQACsf466FHqvwvvL5Hjgv9GdL+znfAKuh+6Ce7AkAd221qfDq+mi+EWj7bOW5u9OshZS2kTIJDLB+6ZPnZVB3IepFRaHDr3ifxJNqPjPw9PpNrpxB0uxkuYJ43Yg5mfY5zIOgBACg8EkkgAi8B+X480zT/HGuR2tzNPCRp9sq747Bc4fBYf6xmX5m7ABR0JbtzeWy3q2bXEQunjMiwFxvZAQCwXrgEgZ9xXmPwl0vxJ4RudW0O/8L31noVxqMlzpkz3Nq/2WJsny5FSYkdBjaG5Y5xW5c2tvb/HTS5IIIopJ9CvGldEAMh8635YjqfrQBofEmze7+HOsvbt5d3ZW5vrWUDmOaD97Gw/4Egra0PU11rw9p2qRrtW+tYrhR6B0DY/Wsj4i366b8NfEFw2SxsJYo1UZLSOpRFHuWZR+NaPhjTH0Xwjo+ly/fsbGC3bHqkYU/wAqANSiiigAooooAK8i+FDHxf478Y+LtZQT3VrqTaZp4l5+yQx/woD90nIyR1OfU167XnFhoGrfD3xprWo6Nps2s6Dr9x9rnt7Z0FxZXBzvcK7KHRs9AdwwMA45AOg1/wAHxat418M+I4FhS60eeXzZGyGkgeGRNowOSHZSAeAC30NP/hPLm8s77VdA0T+09F0+SSOW6F2EkmMZxIYYypDgEEZZkyQcZ4J0Yvt+v6zp95NY3Gm2FgzzqtyVEs8rI0Y+VScIFdz82CW28DGTyXh3QfEHgvwPqHg2y0abUQGuV03UEniEJSUsy+duYOpUv82FbOOM9KANXW/ibHptroF/p2kyalpWvSww2t6lwkarJLnarhuV6dT34rZtfEl5deN73QU0WUW1lGjy6j9oTZ86kqu372eDx2GD3Fc5dfDQj4Er4JjuPOvLazHkXAO3Fyp8xWB6gb+PpXQeBdO1Oz8NrdeI0Vdb1J/teoBcYWRgFCccfIionHHy0AZnwumOraJqfiSY7ptZ1W5kDHqsUUhhiT6BYx+JJ71c+J3hu08VfDfWdNvWijzbNLFNKQqwyINysWPQZHJ9M1S+F6HSvCF9opjZ59F1O9t2jGAzAzNLHjJAG5JUIzjqKjtx4h8X+KRB4o8MXWj+HrNRPBFJd28ovJg3HnCN2IC/eVACCRljwBQBh/Cm4f4leFNK1rxMLa5i0lRaQWJXeBcxqFe4lBGPMIPyr0UMT1b5fUpLq1tp7e2lnhiluCUgiZwrSEKWIUd8AE8dhXmHg/SvEnhb4peKJIfC18PDWt3aTxSC5tf3E3SSXZ52djZLcDdgKNueK3fFlrbp8TvAlykES3El9dK8oQB2AspsAnqRQB3FFc34817WPDXheTVdB0mPVXtpBJdQvOItluATI4J6sAOB79D0Ozql3cWOmy3Flp0+pToBstbd40eQk44MjKox1OT0HGTxQB5p8fbJbPwrpvjC08pNT8N6hFcwFyAZULAPH754bHoprqPB+nwa3Db+MtTFteahqUCS2zqu5bKAjckUZIz3yzcFmz0AUCho+n6t4kbU9X8eeG5reeOOS3sNJNxBMiwsmGKsr4Mr5Klm24GAMDcTR+DNj4o8M+Gh4a8S6BeWsFpNKbK8kubeRfILblRwkpYNkt0BGO9AHexa3pU+qPpsOp2cl/GCXtUuFMqj3TOR+Vcx8WHaw8CSa9b8XehXMOowMBz8jgOP+BRtIp/3qzbzw/Y/294ds9PuWisdD1aS8lvbicvI88pcfZoyeSC0vzdgAByc40fi/vm+GGp6fb/Ndao0VhboOrySyKgA/Ak/QGgDtUdZI1dDlWAIPqKWmQxLDCkSfdRQoz6AYp9ABUM95bWrwpc3EULTv5cSyOFMjf3Vz1PsKmrN1bw7pOuXOn3GrWMd1LptwLm0d85hlHRhj8OvoKAL1xcQ2lu9xdTRwQxjc8kjBVUepJ4FOjkSWNZImV0cBlZTkMD0INVdW0mx13SbjTNXtkurK5TZNC+cOPw5qazs7fT7C3srKJYba2iWKGNeiIowoHsAAKAC2vLa9jaSzuIrhFYozROGAYdRkdx6VNWboXh3SfDVnLaaFYx2UE07XDxx5w0jYy3P0H5VpUAFeefHPxLfeFvhNqV5pMjw3c7JbJOhwYg7YZgex25APYkGvQ65/wAc+ErXxz4L1Dw/eyNCl2g2SqMmN1IZGx3wwGR3GRQBL4R8NWPhXwrY6Rp9vHEkMKiUqBmWTA3Ox7knJJrnNOstP+E2j63K6IbXVNc87TrK1++7zpEiwqDgA71bAzgLg5GCBb0DXfEmm6ZBpfiTw1f3Oo2qCH7ZYPFJb3e0YEgZnUoTjJDhcHpms3xP4H1fW9Atb5GhOuWmuw68lsZSImaLCrBvx/zzUDdjBYZ4B4ANyLxfd2ev2Oj+JdKj0651NZDYPBdieKZkG5o2YqpV8c4wQecMaz9M+ItxfXXie0ufD8lndeHIRJcRS3kfz7lLrg9ACoJ3HiotT0XVfGfjTwzqVzplxo1hoM0t1KLuSIyzyldqIgjdgFHJJJ54AB6ip4w8D6nqXxI0/UtICjTdWtDp+vgkAGBHEi8Z5LgNFnsG/IAPGGv3+tfDfTIrjT59Gk8S6jaacYXlDSJBM43klehMYcY6jNejxxpFGscSqiIAqqowAB0ArjPilDt8O6ZqxGY9F1mz1CbHaJZQsh/BHY/QGt3xJquraVp4k0Hw9ca7dNkLDFcwwKvHBZpGGAfYMaAPLfipcf8ACCfFjwz4x0r7GLjUo5NLu4p32KwONkrYBO1WYbiB0VR3r1Dw94attDjknk2Xeq3TeZe6i0QWS4kP8lHAVeigAe9cJr3gzUfEnwk1g63otzdeKtZhHmwCWDdbSI2YkjYybFhQjPDZIJJG5iK63wLPrt34QtbLxnok9jqFvbJBctPLDNHdHBUsvlu3UAEhgOW4zQB0VveW12ZRaXEU5hkMUvluG8twASrY6HBBwfUVNXEfDWCK2l8Xw20SRRJ4jnCpGoVVHlQ8ADpWnaa9rDfEa+0K/wBJjh0wWYubC/ScM0+0oJAydVw0gAzjO0nnsAdJXhUAuvCvx61zwf4evLaxtvFkaXyzBgXsnCsZQi4x5jAMQDgAFTzjB9J8Z614ssYTa+D/AAvPqU8ij/Tjc26RQZOCQjyKzsBzggA8c9a4/wCIXgbU4dF8MzeBtFutQ1zStSF+bqW4hVnY4Mvnu7ruaQ4+6CPkxwMCgD03RtD03w/psdho1nDaW8YACxrjd7serE9yeSav1xvi7xJrenfD+XWbCwOl3yMF+y3/AJcjl2OyNf3bsp3SNGPvZ2k9DjFjRNb1CTxxqmjX95b3EVpbW5LLH5ZFy/mM0aDJJURiNuckbuvPABS8XzHRfiB4P1eI7VvbmXR7kAf6xJY2kjz/ALrxAj/eb1rt64bx3GdT8Y+BtIi5ddVbU5MfwRwQuCT7bpUH1IruaAPO/Dn/ACX/AMZ/9g6w/k9eiV534c/5L/4z/wCwdYfyevRKACiiigAooooAKKKKACiiigAooooAK87+B3/JNR/2Er3/ANHvXoled/A7/kmo/wCwle/+j3oA9EoorBu/HPhaw1J9Pu9f0+K7i/1sRuFzD/v/ANz/AIFigDeoqta6jZ30k6WdzFO1uwSURuG2MVDAHHqrKfoRVmgAooooAKKpaTq9prdgL3TXMtqzssc23CygHG5fVSQcHoeoyCDVCHxv4UudRXT7fxPo0t68nlLbR6hE0jPnG0KGznPGKALdhosOmapf3dm7Rx37iaa3x8nnYwZB6FgBkdCVB4Oc6NYx8Y+GRq/9lHxHpP8AaPm+T9j+3Red5mcbNm7O7PGMZrZoAKzZvDukT6xHq01hC+oRcR3JHzoODgHsOBx7VpVFdXVvY2kt1ezx29vChklmlcIkagZLEngADuaAKOqaHDrF9p8t7I7W9jL9oW1HCSTDGx29dvJA6ZweoFadY2m+MfDOsTyQ6R4i0m/ljjMrx2t9HKyoMZYhWOAMjnpzS6X4u8N65dm10TxBpWo3AQuYbS9jlcKMAnapJxyOfegDYooqlperWusWjT2Tk+XI0Msbja8UinDIw7EfqMEZBBoAu0UUUAFFFFABRRWbq/iPRPD4iOvaxp+mCfPlG9ukh8zGM7dxGcZHT1FAGlRWfbeINGvNHk1az1axn02IM0l5Fco0KBfvEuDtGO/PFN0jxHoniATHQdY0/UxBjzfsV0k3l5zjdtJxnBxn0NACx6LDB4im1e2ZopbmFYrqMD5Z9v3GPoygkZ7g4OcLjRoooAKzNR8OaRq15Dd6lYQ3NxbnMMkgy0ZxjK+hxxkVNqer2mkRwG8ch7mdbeCJBueWRuiqO/AJPoAScAE0up6vpuiWf2vWdQtdPttwXzrudYkyeg3MQM0APv8AT7bU7dYL1DJEsiSbNxAYqwYZx1GQODwe9WaxoPGHhm60251G18RaTNZWhAuLmO+jaOEk4G9g2FyemasaR4h0XX0lfQdXsNTWEgSNZXKTBCegO0nGcGgDRoqG8uVsrKa5eOSRYULskSF3IAycKOSfYcmizvLfULGG8sZkntp0EkUsZyrqRkEGgDEtfAPhOx1hdVs/DunQ6gshlF0luokDnOW3dc8nmr13ocN/r9lqd5I8osFY2tueEjlYFTKfVtpKjPQFvXjTooAKKKKACiiigAooooAKKKKACiiigAorAuPHfhW01OTT7jxBpyXURxLH9oUmE+jnOE/4Fite1v7S+a4WzuI5zbSeVN5bA7H2q20++1lP4igCxRRRQBFc20N5aS213Es0EyGOSNxlXUjBBHcEGq+kad/ZOlQWC3ElxHbrsieU5cIPuqT/ABYGBk8nGTk5NXGYIpZiFUDJJPSqek6ra63psd/p7NJayk+VKVwJVBxvX1U4yD3GCOCKALtIyh0KsMhhgisS18b+FL7UEsbHxPo1zdyNsS3h1CJ5Gb0Chsk+1PTxj4Yl1c6VH4j0l9REphNmt9EZvMBwU2bs7gQRjGaAJ9M8PaTo1xPPpdhDay3DFpnjGDIx6lvU8detWYtPtotSnv0Q/abhEjeRmJ+Vc7VAPAGWJ47k1ZooAKKhvLy20+zlu7+4itbaFS8s0zhERfUseAKzNP8AGPhnVmmXSvEWk3zQRGaYW19HIY4x1dtrHCjI5PFAGjeWFrqEccd9BHOkcqTIsgyFdGDK31BAI9xUcWk6fBqk2pRWcKXs4xLOF+ZuAOT9FUe4VfQYq6T4s8O69dNbaHr+l6lOieY0VneRzMq5A3EKSQMkDPuK1qAMy00OG31+81maR7i8uUWFWfpBCvIjQdhuyxPUk+gAGnVK01a1vdQvLGJ2W6smUTROu1gGGVceqnnBHGQw6ggXaAPO/Dn/ACX/AMZ/9g6w/k9eiV534c/5L/4z/wCwdYfyevRKACiiigAooooAKKKKACiiigAooooAK84+BO//AIVn+8Kk/wBpXn3Rj/ls39c16PXnPwM/5Jr/ANxK8/8AR7UAXPjP4kvfCnwm1jUtKdorzakEUqcGIyOELA9iATg+uK0/h94YsvC3gTTdPtII1drdJLqQAFp5mUF3Y/xEknr2wOgq54x8MWvjPwfqPh+/do4b6Lb5ijJRgQytjvhlBx7Vh+HdX8Q6BoNtpHiXw9fXt7Yxrbpeab5csV4qjCuMuCjEDkMBz0OKAK+nadpXwksPEmoTbI9M1DVFuLO0tVy++RI08pVOBkyBsAHAXHIwcbn/AAlbWOuafpfiCw/s6XVCy2UiTiWN3UbjGxwNr45AwQcHDZ4rmfFXgvXfEnhF7o+WmtrrEOswWLT/ALtPKCosG/pyi5J6b2Pbmpdb0rWfHPijwrNLpF1o1hot5/aN1JeSRF3kVcJEgjds8k5Y4GOmelAF/SviDc6jq3iDS5/DtxZ3ug2wnnjluosSllLIqNnGCAfmOAOhrM8V+Kr/AFb4Uw3MVhcaNN4gubWwt1mkUyrHcOil/lJ2nYzYHUHFL448H6pqPj7StR0RMWuqWr6RrjZxi1yJA3+8QJEB7bxWh8VoPL8Ew6jGny6LqNnqLKo6RxToXPsAm4/hQB2dvbw2lrFbWsaxQwoI440GAigYAHsBXj3xbuU8DfEXwt46sUtmnlMmmXcEkgj85GX5HJwSArHlsHGVHtXqOt6rd6ZZpLpui3mszSEhYrR4UxxkFmkdQF7ZGTz0rhtb8Kah4r+F+tyeIdCuX8R6tbmP7GssDNalXzEkbGQJsVgHJ3AtySM4UAHZaB4bg0l57+78q61m9YSXt95YDSNgAKvdUUAKq56DnJJJvafrOmaq0y6XqNpetAQJRbTrIYyegbaTj8a5jwTHr2pfD6LQ/G+kXmnXyWP2S5uPtELifKlNyNHIxDbcEkgcnjNVdF0yGTx/p2qWVy66fY6Q2l2s0r75dTwVJct/EibRhj95mYjjBYA76iuci1/VR8R5dAu9IWLTJLFrqz1BbgMZmRo1kUp1XBlXn/Hhni3XfEWmxtbeFfC11rF28W5bjz4IoIiSRzvkVmIxnaBg8fMOwB5sXuPB37QWqeHvD81pbJ4xtkulkYg/Ypl3eYwXHLFQ7AHgsy54BFeu6JoWmeGtLWz0q2S3hQbnb+KRupd26sxOSSfWvNviL4H1WXwvolx4P0u8vvEtjqSakLqWaBXaXjzPOZpFB3AAYTcBsCjCgV6Ran+39F265ob2gkOJLG/8mboQQfkZ1IyMjnPHQUAX7e4hu4FntZo54m+7JGwZT24IrjIZjpPxvuLKM7bfXNHF26Y4NxBIIy31MboD/wBcxUnwg/5JD4cx/wA+g/8AQjUMkZ1H48QPFlotH0J/OYdFkuJhsU++2Jj+VAHc0UUUAFFFFABWP4t8PQeLPCGp6HdYCX1u8QYjOxsfK34Ng/hWxRQB5R8OvGksXwKeW8gDar4fV9KltCOXuIyI4oz7tujH1Jrp/wBx8LvhjF9n0241JtPhjWSHT4MyXErMAz4A7sxYnsM/SuXt/AGq2vx1vrqBdvhW/aLWJx/C15GGRU+u5vNPqVXnjFdV8TLTxFfeDzD4UacTm5iN0lrKIp5Lbd+9WJyQFcjocjv3oAs6d4uaXxc/hnWNPNhqZtPtkHly+dDcRBtpKvhSGBxlWUdeM1g2nxUubrUNQsR4P1WS70y+is7yO1ZJ/KEnR8r1Hc46AZOOM4kHhnVrD4l6VrvhPwo1lpy6e1i73kqeZuaRGaSQGTeRsDAEktuHIxgnX8AQ61Z+NvE93qnhjUtPttdvFureeaS3YRqkQXbIElYhiQcAAjnrQBpWk7ax8adSSU7oPD2mQpCh7TXLOzv9dkSr7At6muymhjuIXhnjWSKRSro4yGB6giuM0uP+zfjbr8b9NY0m0uoj2JgeSJx9R5kZ/wCBCpfEGreJ7zVI9H0bw3qUNhLOIbvWVubZDFEfvPEhk3E9txAI5IDEAEA85+HFrIdW8TfCkXEI0fTb6WaSSOTMk9pIR/o4x05JDtnIyVHJyvs8s+jeGdLQTzWOkWMeETe6QRLx0GcDoK838S+FtX0P4peGNe8DeGbi4tNPtGstQWCe3jSW3J+VV8yVWLqSW5ABO35utdtrC2vmaV4gvob+K9tUkjttNSVd08kyDMLKrFHYbf721cFs4GaAN+KWOeFJYJFkjkUMjo2VYHoQR1FcX4CmNl4i8X+Gh/qdM1Jbi2HZIrmMTbB7BzJ+dXvhzoz+H/BVvps1zFPNDNMZVgOY4HaVmMSf7KFtv4dulZ/geM3njzx1rSf8e9xqEFlE39428IVyPbezD6g0AdzRRRQAUUUUAFRy3MEDRLPNHE0z7Iw7gF2xnAz1OAePapKzNW8O6Trt1p9xq1lHcy6ZcC6tHckGKUdGGDz9DxwPSgDQmnitoHmuJUiijUs8kjBVUDqST0FOVldQyEMrDIIOQRVTV9Isde0i50vV7dbmyukMc0LEgMv1HI+oqazs7fT7GCzsolhtreNYoo16IijAA+gFADoLmC6jL200cyKxQtG4YBgcEcdweMVJWZoXh3SfDNlLaaFZR2UE073DohJDSN95uSfQewxxWnQAV558c/E194W+E2pXmkyPDdzslsk6HBiDthmB7HbkA9iQa9Drn/HPhK18c+C9Q8P3sjQpdoNkqjJjdSGRsd8MBkdxkUAL4N8K2HhPwfZaNZ28SrHCouCFB8+QqN7sf4iTnn+lc/pNhpnwi0XWnkCiy1LW/N06ztRl2aZI0WBVOADvVsDOAuDkYOLeh694i0nRoNP8S+G7+61G1UQm504xyw3e0YEilnUpnuHC4PtWT4p8Ga9rfhqz1BRHJrtnr0OvLYmf92THhVtw54BEYA3YwXBPANAHTjxW9pr1lo+u2AsbvUkkaxKTiWOZkGWjLYBV8HOMYPOCcVl6d8RZ76bxLbzeHbm0uvDkIkuoZbqL5yVLqFIOMFQSGOBVTVdI1fxp448LahLpVzo+naFLJeTNePF5k0pUKsaLG7cDksTgEdM1D4v8HanffEqwvtJjH9mazZnT9eyeBDG4kUkdy674s9g9ADvGHiC+1f4d6bG9hcaQ/iTUbXTvLlkUypBM43k7TwTHvGM5GfWvRIokhhSKFFjjRQqIowFA4AAri/ipH5fh3S9WYEx6NrVlfzYHSNZQrn8Fcn6Ct/xDq+o6TaI2kaBd63cSZCw280USqQOC7yMoAPtk+1AHl/xPuB4E+LfhnxhpiWpn1SOTSruGaQRh848uRjgkKGZdzYOAAO4r03QfDlroiz3c3l3Gq3jebfag0YV5nwB/wFAAAq54AHU5J4fxL4O1DxX8JdWOs6JdTeJ9WhXdbLLButpEbMUaMZAgiUjPDZIZiRuJWuh8Mxa1r/w9Oi+ONKvdLvWsPsd3P9ohbzyyFGeNo3Yg45O4DluM0AdLp+saZq4lOlajaXwhbbJ9mnWTYfQ7ScGrlcJoNhHcfEaPW7W4ZLKPRv7OtDK+6TUlSRWacnui5VVY8sXYj5SC2xa+INVb4iXugX2kLBp4tBc2OoLcBjcbSgkDIOVw0gAz1wevYA6OvD7Nrnwn8eNe8IeH7i2tYPFUcd/HMCC1k4VjNtXGC5AZlB4GVOCBg+j+Ldd8S2CtaeFPC13qtyyAi78+COGLJwTh5FZ2A524APHzDnHHfEXwRqqaZ4avPBGkXV/r2laj9uNzJPAjSE480TMzrkvhfugjCY4GKAPStF0LTfDumR2GjWkdrbxjG1Byx/vMerE9STya0K43xh4j1zT/AIfzazplgdLvo3Ci11ERyOWY7I1HlOyndI0Y+990nocVNoGt6pJ401TRdWu7S5S1trd98UXlbbiTzGaJQWO4CNEbnn5sng8AFTxfMdF+IHg/V4jtW9uZdHuQB/rEljaSPP8AuvECP95vWu3rhvHcZ1Pxj4H0mLl11VtTkx/BHBC4JPtulQfUiu5oA848N7/+GhPGmSu3+zrDAxz91v8A6/6V6PXnPhz/AJOB8Z/9g6w/k1ejUAFFFFABRRRQBi+KfF2ieC9JXU/Et21nZtKIhKIJJQGIJAIRSR0PJ4/OqLfEPQ0gMz2+urEF3GQ+Hb8KB658npWxruh2HiTQbzR9XgE9neRmOVD6HuD2IOCD2IBrh/hE+vaZDrHhHW83tt4duFtrHVVYFZ4iNwjPP30BUEdsgduQDt9A1/TPFGh2+saFc/arC53eVNsZN21ip4YAjBUjkdq0azdD0q00e1ubfT5N0Ul3NcFQRiN5HLsox0+Zice9LqOpXVlMqW2iX2oKy5Mls8Cqp9D5kinP0GKANGisP+39S/6FLWP+/tn/APH61rSeS5tElmtZbR2HMExQunPcozL78E0ATV5z8DP+Sa/9xK8/9HtXo1ec/Az/AJJr/wBxK8/9HtQB6NRRRQAUUUUAFRzwRXVvJb3MaywyoUkjcZVlIwQR3BFSUUAZ+h6UdE0mPThdSXMNuSlu0vLpF/Chb+LaONx5IAzk5J0KKKAI7i3iu7WW2uE3wzIY5FzjcpGCPyrA0D4f+FPC2oPfeHtDtbC6eMxNLEpyUJBI5Pqo/KujooAqJptsmry6ntZrqSFYdzMSFQEnCjoMk5OOuBnoKt0UUAFQ3lpDf2j21yrNFJjcFcoeDnqCCOlTUUAZ2i6Bpnh2x+x6Nai1th0iV2Kr9AScfhUWgaDHokN0zTvd3t9Obi7upAA0rkADjsqqFVV7ADqck61FABRRRQAUUUUAFFFFABRRRQAUUUUAZesaHHqlxY3kcptr7T5vMt7hVzgHh0Yd0ZeCPoRggEalFFABWN4i8IaB4tjgj8SaXDqKW5ZolmzhCcZPB9hWzRQBlWugWuj+GTovhpY9IhSN1tzDHuEBYklgp4JyxPPep9F0i00HRrbTNOVlt7dNql23MxJyWY92JJJPckmr1FABRRRQAUUUUAFFFFABRRRQAUUUUAFFFFABRRRQAUUUUARXdrBfWU9peRLNb3EbRSxOMq6MMFSPQg4qrounSaRpMNhJdyXa24KRSyj5/LB+VWP8RAwN3U4yeav0UAFQ3lpBf2M9neRiW3uI2iljJ4ZWGCPxBqaigDnvD3gLwt4UvZLzw7olrp9xLH5TyQqQWTIOOT0yB+Va0Wm20Oq3GoqrNdXEaRM7OTtRc4VR0UZYk46k89qt0UAFFFFAFe90+11KGOK+gWdI5o50V+gdGDo31DAH8Khh0bT7fV7jVIbVEvbkASygnLYAXOOmcKoJ6kKoPQVeooAybLQY7bxDfa1cTvc3l0qwxlgAtvAvIjQe7EsT1JPoABrUUUAec+HP+TgfGf8A2DrD+TV6NXnPhz/k4Hxn/wBg6w/k1ejUAFFFFABRRRQBieLofEVz4dmt/CElnDqMxCCa7laMRIfvMpVH+fHAyMAnJzjB5/TrXx7o2jxafpOheFYIoVxHu1a5fknJZv8AR8sSSSSTkkkk13dFAHPeBtH1bRfCyW/iSe2uNWmuJ7m7ltSxiZ5JWf5dwBwAwHTtWhqOiWupzLLcy3yMq7QLbUJ7dce4jdQT7nmtGigDD/4RHTv+fnWP/B3ef/Ha1rS1jsrVLeFpmRBgGaZ5XPOeXclj+JqaigArzn4Gf8k1/wC4lef+j2r0avOfgZ/yTX/uJXn/AKPagD0aiiigAooooAKKKKACiiigAorI8PQa/Al//wAJNd2dyz3kjWf2SMoEtzjYrZ6sOc/zNa9ABRRRQAUUUUAFFFFABRRRQAUUUUAFFFFABRRRQAUUUUAFFZF9B4gfxRpkun3dlHoqJKL+CWMmaRiP3ZRugweuf17a9ABRRRQAUUUUAFFFFABRRRQAUUVka3q9/pl5pUNholxqcd7diC4lhkVRZoRzK2eoHoP54BANeiiigAooooAKKKKACiiigAooooAKKKKACiisjRYPEEWpas2u3dlPZyXO7TUtoyrxQ4+7IT1OfT39cAA16KKKACiiigAooooAKKKKAPOfDn/JwPjP/sHWH8mr0avOfDn/ACcD4z/7B1h/Jq9GoAKKKKACiiigAooooAKKKKACiiigArzn4Gf8k1/7iV5/6PavRq84+BKuvwz/AHjKx/tK85Vcf8t29z3zQB6PRRRQAUUUUAFFFFABRRRQBjeHbrxBdR358Tafa2LR3kiWgtpvM823GNjt6E88foK2axvDutXmtR37X+iXekG1vJLaNbkg/aEXGJVx/Cc/p1NbNABRRRQAUUUUAFFFFABRRRQAUUUUAFFFFABRRRQAUUUUAY1/deII/FWl2+n6fazaLKkhv7p5tssLAfIFXvk8d/w77NY1/rd5aeKtL0qHRLu6tb1JGm1GMjyrUqMgP/vdB/WtmgAooooAKKKKACiiigAooooAKKKKAM/Xv7X/ALBvP+Eb+yf2r5Z+zfbN3lb/APa281Y0/wC2f2Za/wBqeSL3yU+0/Z8+X5mBu25525zjPOKsUUAFFY/hrSNQ0XTprfVtbn1qWS5kmSeeNUaNGORHgdh6+/YYA2KACiiigAooooAKKKKACiiigArG0S68QT6lq6a7p9raWkNzt06WCbe08WPvOP4T04+vpk7NY2ia3e6pqWr215ol3psdhc+TBPORtvFx/rEx2/xHfIABs0UUUAFFFFABRRRQAUUUUAec+HP+TgfGf/YOsP5NXo1eceG1f/hoPxoSylf7OsMDbz91u+fr+Y9OfR6ACiiigAooooAKKKKACiiigAooooAK87+B3/JNR/2Er3/0e9eiV538Dv8Akmo/7CV7/wCj3oA9EopssqQwvLM6xxopZ3c4CgdST2FcpafEzw7qCSXGnnULrT4iRJqUOnzNbLg4P7zbggd2GQOpIFAHW0Vm6H4g0zxJYyXuiXSXdqkzwedGcozIcHae4z3HBrSoAKKKrajqFrpWm3OoahMsFraxNLNI3RVUZJoAs0VU0++e80mG9uLSazMqeZ9nlGZEHUBgM/NjGQM4PFYWj/Efw1r3iKTQdMubx9ThGZraXTLmEwjGfnLxgJkdNxGcgDkigDqKK5zSPHvh/XtZn0rSri6nvLeZoZ0/s+4RYXUZId2jCr04yRngDOa6OgAoopHcJGztkhRk7VJP4AcmgBaK5fRviP4a1/xFJoWl3V4+pwjM1vLplzCYRjPzl4wEyOm4jOQB1FS6P4+8Pa/rE+l6TcXU93byvDOv9n3CLC6jJDu0YVencjJ4GSaAOjoorK0rX4NT1LUdNaJ7a+06ULLBJjLRtkxyqR1RgDg9iGB5FAGrRRRQAUUVzur+OtE0fWl0Z5bi91Zo/M+wWFs9xKqf3mCAhB7sRQB0VFYFh420LUtbi0e2umGpyI8jWUsLxzRKm3JdGAKj5hgnhu2RW/QAUUUUAFFZllrcWoa5fafaRSSJp+1Li56IJSA3lD1YKQT2G5R1zjM8S/ELw34Qu4bfxFdXVo87BYmGnXEiSMeiq6RlS3H3Qc+1AHTUVzmsePfD2g3OnW+rXN1bz6nHvtIv7PuGaXjJXCoSGA6qcMPSt+3nW5tYp4xIqSoHUSRtGwBGeVYAqfYgEd6AJKKKKACiuZ8S/EPw34QvIbbxDdXVo87BYmGnXEiSMeiq6RlS3+yDmn6x498PaDdada6tc3UFxqcfmWkX9n3DNKAMkYVCQwHVThh3FAHR0VHbzrc20U8YkVJUDqJI2jYAjPKsAVPsQCO9Z2ra/Bo2oadBfROlvqEv2dLoY2RzHGxG7jfyAemQB1IoA1aKKKACiiigAooooAKKKKACiiigAooooAKK5iX4i+GoPEi6BLdXa6q7lUtDptzvcAkbh+75TIPzj5cDOcc1c8QeL9F8LSWqa3cTQG7fZAUtJpRI/wDcBRSNx7L1PYUAbdFMgmW4t45ow4WRQ6iRCjAEZ5VgCD7EAin0AFFFZmm65Dqup6hbWcUjQ2EggkuTwjzdWRfXbxk9MnHUHABp0Vy/iH4jeGvC2qQ6drt1d21zOwSBRptzIszHGFRkjKueRwpJzxUur+PfD+g6rZ6bqlxdRXt9D51tAmn3EjSqOuNiH5h3X7wyMjkUAdHRTYpBLCkiBgrqGAdSpwfUHkH2PNZviDXIvDumf2leQyPZRyKLqWPn7PGeDKR1KqcbscgZPagDUopFZXUMhDKwyCDkEUtABRRRQB534c/5L/4z/wCwdYfyevRK878Of8l/8Z/9g6w/k9eiUAFFFFABRRRQAUUUUAFFFFABRRRQAV538Dv+Saj/ALCV7/6PevRK87+B3/JNR/2Er3/0e9AGZ+0Vd3kfw3tNPs5Whj1XVYLK5kU/djYMx/DKr+HHevULGxttM0+3sbCFYLa2jWKGJBgIqjAA/AVkeNPCOn+OPCt1oeq7limAaOWP70Mg5V19wfzGR3rO0678c2Fimn6hpNjqd3GuxNUjvPKimxwHkjKlkY9SF3DOcGgDOSax+GWm2+jaR5d7c63rcqWNsP3aQtK5dgxGcLGPQZPAxzWm/im/0zxZaeGtXjs5L3U7WafTbmHdHHLJEAXidTuK4BB3AnIzwCMHP1f4e3Nxpmh3Nldwy67o2otqfmzgpFdSSMWmQ4yUVt3GN20Ko5qwvhjUtf8AiBo/ijX4IbBNEt5ks7OKfzmeWUbXd22gBQowAMnJycYxQBnWXxD12XTPGJvtH06DUvDUojW0W8dvtBK7lOfLBAcEbOMk8EDrT/GF1qd5b+DdI1uC3t7nVNbiN5b20xliMcIebZuKqSMxx54x1HIqxqvgS6u/ixZ+IbWdI9LmtkGqW/eeWBw9u34Mc59EA71N8SITAPDmvdItG1mGa5Y9EgkDQux9l8wMfYGgDta8S+JF63hb416HrGi3yWcmrwLpGqzeUXW2EjfuZW/h38Njd2j6EZr1DxTceKYrMR+DrDTrm5kVgZtQumjSE9jtVCX78ZWuR8XeAtR134PS6BDY2sut3zJPdTTXhG24yGabzPLyxyoAG1Rt+UYAAoA7/StKtNF02OxsIykUeSSx3NIxOWdmPLMSSSTySc1crjPtfiLT/hjdT+Knh0++06zD3F3Z3HmmZY1DSOMoNjMFYDrgnPasrw7qWuWXibw9Y67rNxdXNxo32nVI5Y1Cec7RrCiKqjByJiT6KxPAGAD0iiuY1TUtfs/iJolpAbB9BvoZY5kIb7Ssqoz7x/Ds4Rfq/uKs+KrjxVFZCPwbYabcXMisDPqF00aQnsdioS/0ytAHmHxGvW8L/G7RdV0S/Wzk1qBdI1Wbyi6229v3Mjfw7zhtue0eSCM167Y2WneG9FEMTJbWdsrPJLNJ+LSO56knJLHqSSa4Txh4B1HXfg/JoFvZWsutXrxz3M814RtuMhmm8zy8scgLjao2nAwABXYeFpNej8OwJ4uhtYb63iVJZoLkyrMVUbpDlV25OTjn60AXtJ1nT9dsjeaRdx3duJGi82M5Uspwwz3wRiuT8RyHTPjB4OuoRt/tOG8065I/jVYxNHn6MjY/3zTvhXPFL4e1QRSo5Gu6iSFYHg3UmDRrsLat8X/C9vAu9dFt7rULo9o/MTyYgfdiZSP9w0AdvRRRQA2RisbMq72AJCg9T6V5J+zpG174J1PxJfES6rrWqTS3cxHzHbgBPoDuIHbdXrtcBpXhXWPAGrak3hK2g1PQdSna7bTJJvJltJmA3GJiCrI2PusVxgYPWgDc1bQ9Oi8ZWXi65uY7abTrC5glBTJliO18k5zhNrHofvmsRfHuqSeAm8cxafbnRlia5+xFmFybcE5k3/d3bRu2Y9t1a0eh3uv31ze+J4IraGSylsbexil8wxxy481nfABZtqAAcKAeTuOOaj8GeJ4vhpJ8P1FibU27WSawZ2yLcnqYdufM2HGN23POR0oA09W8dalYeJ/DMNrY6fPoXiKZY7fUXuXVkzGHAKbMbmGQgzyRzitDTvEesXGoeIZL7T7GPSNJkljhuYbl3kuGRVY/KUAAAJU8nDKQMjmqnjDwMdR+GEXh/QHEV5pUcD6TLIcGOW3x5Zz2yF25/wBo1v6Voa2HhWPSJ5PNdoWW5mAx5skmTK//AAJ2ZvxoAxvhUj/8Kv0W7uG33OoQm/uJD1kkmYysT+L/AMqp/GbSLbWvhbqVrM5S7XZJp5QEyNdKcxqgHJZj8vH941L8N5by2+FlnYxwJNqejxvp0tu8nljzYWKYLYOAQFYHB4YGpvDmn+Jr3xJc6r42s9Oh8hQulxWV08y24YEOSGRcuem/04AALZAKPwqv/wDhL/DFn4y1K4S71O7hMB2rtW0VW2tGi9iWXcx6scdgoHfV5j8NvC/izwhr2uRXWm6fFoWq37XsMMWoM7WRbO4AeWNwOFGOMY71V1/U/EEB8bXFvr94Y9LMVvYxQJGoN9MMxpkqTtXzrdSucE5J6kUAesUVzuv3+rN4Cub7wxeaeNQSDzI7q+VhbkKfnc4GcbQxB6dD0q9Y3+oXfhO1vxZRnUZrOOY2ryGNRIyAlC2CVGTjODQBy/xo0m31n4XajbySFLxGSXTiilpGulOY0QDks3K8f3ie2aPhZfDxf4Zs/Gmo3Ed3qd7CYTsXatoqthokXtll3MerHHYKBc8Oaf4mvPEd1q3jaz06JoVC6XFZ3TyrbqwO/IZFy56F/TgADO7B+GvhfxZ4P1vW4LvTtPi0LVL972CKLUGdrItncoHljcDhQBxjHegDt7nxTo9nqsOn3V00U88ogjZoXETSkZEfm7dm89l3ZPpVL4iWC6n8NvEFuc7/ALBLLEw6pKil42HuHVT+Fcf4pu/B0+ryeGodV0+w/wCJtDqOqRrdL9ouLncjJFGhbcXZlTcQMAcDknb2HxDvmsPh3rbxIZLia0e2tol6yTSjy41HuXZRQBf8Lao+t+D9G1WQYe+sILlh6F41Y/zrVrN8N6X/AGH4V0rSSQTYWUNtkd9iBf6VpUAFZ+p69pejXFjBql9Day6hOLe1SRsGaQ9FHv8A4j1rQqC5sbS8kgku7WGd7eTzYWljDGJ+m5Seh56igCPVNUstF0u41LVbmO1s7ZN8s0hwqCprW6gvbOG6tJUmt541kilQ5V1YZBB7gg5ourW3vrWS2vYIri3lUrJFMgdHB7EHginxxpDEkUKLHGihVRRgKB0AHYUAUdG17S/ENnJdaJfQ30EUzQPJC2Qrr95f8+oNaFQWdhaafC0VhawWsbO0jJBGEBZjksQO5PU1PQAUUUUAFFFFAHlPxnifw9f+GfiFaKd2g3wivto5a0mOx/yJwPd66u5dNf8AiFp0ETLLZ6Lbf2hIynKtPMGjh/JBM3/AkPpWv4m0K38T+FtS0S84ivrd4S2M7CRw31BwfwrnvhT4V1Lwn4Ht7XxDIJdXlIa6cOGACKsUaA9wscaD65PegCbxB4i13T/EUtpbwabp+mR2Qnj1PU5gIribdjyBhwU453Yb6Vi3nxOv7n4MJ480DTrU+WjSXNpdzN8oRyjhGUfMdw4JwCKsXXhTWbf4paj4lSxsNbhurWGKw+23BQ6WyAhwo2N8rnDEr82eMVzVt8OPG1p8J9T8FiXSp1uQ8EEjXDRooeeSVpziMtkh0XZk42k555AOyt/FfiEaBrWr6voMVhZW2mC/sp1ulkMv7ou0bp1VlwMnoc8Zxk3vhxafYvhp4fRmLSyWEVxM56vLIvmSMfcu7H8asR6bf6p4Gn0jWLeCzuJ7N7R1gnMyAFNm4MVU9+mKzfA9/ev8KdK+yWkc+p2NmtlLazTeUBPD+6kVm2tt+ZD2NAGT8c9Oiv8A4aTPHK0WqWdzFdaWY1LSG4Q5AQAZJ27/AKDk8A1p/Da5j8SeG7XxlczJdajq0A3ui4W2QEgwIDnAVgcnqzAk8YAk8Nad4ln1XUNX8aWeni9UeXpsdndNJHDER8yYZBhiwG5+c8DAC84Xwq8L+KvBT6jpeoWFhHodzfS3VosN+0j2aNn92AYxuGQvcdSaAPTKjubeG8tZba5jWWGZDHJGwyGUjBB+oryjVNT8Rx23ia5tvEV0zWuqQadpiJHGqNdyeUGzlSTGrShdpOMIxJJ5Hp8mq2UWiPq7zhbFLc3LTEEARhd27ntjmgDlvhHezXfwy06K6dnmsXmsGZjkkQytGuf+AqtdrXH/AAq0y60v4b6auoQtBd3ZlvZom6o00rS7T7gOB+FdhQAUUUUAed+HP+S/+M/+wdYfyevRK878Of8AJf8Axn/2DrD+T16JQAUUUUAFFFFABRRRQAUUUUAFFFFABXmafAzQ4Gk+x+IfFFnHJI0pittUMaBmJJwoXA5NemUUAIq7UCgk4GMmloooAKKKKACo7i3hu7WW2uokmgmQpJHIuVdSMEEHqCKkooAq6ZYR6VpkFjBJNLFbrsjaZ97BR0BbqcDAyeeOSTzVqiigBk0MVxC8NxGksUgKujqGVh6EHrTWtbd7tLp4ImuI1KJMUBdVPUA9QDjpUtFAEJtLc3wvDChuVjMSykfMEJBKg9gSAT64HpU1FFABTZYo54XimRZI3UqyOMhgeoI7inUUAVbTTLDTyxsLK2tS+NxhiVN31wOaj0/SLXTbi9uIAz3F9N5080jbmc4wq57KqgADsPckm9RQAUUUUAFFFFABRRRQAUUUUAUYNHtbXWrrU7bfFNdoq3CKfklK8K5H94D5cjqMA5wMXqKKACoJbG0mgmhmtYZIrg5mjeMFZDgDLDvwB19KnooAgurK2vbNrS7gjmtnADROuVYDsR3HHSp6KKACiiigCkdF0trr7U2m2ZuN+/zjAu/dnO7OM5z3pL3SLXUNQsbu7DyGxdpIYi37sSEYDkd2AJA9Nx74IvUUAFFFFABRRRQAUUUUAFFFFABRRRQAUUUUAFFFFABRRRQAVRtNHtbHVL2+tN8TXxVp4lP7tnAx5mOzEYBPcKPSr1FABRRRQBXl0+zntpLea0gkglbfJE8QKu2c5IxgnPOfWodW0e11q0S0vwz2yyrI8IbCy7TkK/qucEjvjByMg3qKACiiigArA8W+ELfxfZ29vdanqunrBIXD6bdmBmyMYYgcj2rfooA5Lwd8OdL8FalfX9hfapfXV+iRzS6jdee2EztwcA9zXW0UUAFFFFABRRRQAUUUUAFFFFABRRRQAUUUUAFFFFABRRRQAUUUUAFFFFABRRRQAUUUUAFFFFABRRRQAUUUUAFFFFABRRRQAUUUUAFFFFABRRRQAUUUUAFFFFABRRRQAUUUUAFFFFABRRRQAUUUUAFFFFABRRRQAUUUUAFFFFABRRRQAUUUUAFFFFABRRRQAUUUUAFFFFABRRRQB//Z)"
      ],
      "metadata": {
        "id": "3JmoY0ZOOsV4"
      }
    },
    {
      "cell_type": "code",
      "execution_count": null,
      "metadata": {
        "id": "mKmcin6-s3El"
      },
      "outputs": [],
      "source": [
        "# 12.- matriz de covarianza"
      ]
    },
    {
      "cell_type": "code",
      "execution_count": null,
      "metadata": {
        "id": "J2n-bllts3El"
      },
      "outputs": [],
      "source": [
        "# 13.- covarianza de dos vectores\n"
      ]
    },
    {
      "cell_type": "markdown",
      "source": [],
      "metadata": {
        "id": "auIFOMvRNUC9"
      }
    },
    {
      "cell_type": "markdown",
      "source": [
        "##Coeficiente de correlación\n",
        "![corr.jpg](data:image/jpeg;base64,/9j/4AAQSkZJRgABAQEAeAB4AAD/4RDgRXhpZgAATU0AKgAAAAgABAE7AAIAAAAHAAAISodpAAQAAAABAAAIUpydAAEAAAAOAAAQyuocAAcAAAgMAAAAPgAAAAAc6gAAAAgAAAAAAAAAAAAAAAAAAAAAAAAAAAAAAAAAAAAAAAAAAAAAAAAAAAAAAAAAAAAAAAAAAAAAAAAAAAAAAAAAAAAAAAAAAAAAAAAAAAAAAAAAAAAAAAAAAAAAAAAAAAAAAAAAAAAAAAAAAAAAAAAAAAAAAAAAAAAAAAAAAAAAAAAAAAAAAAAAAAAAAAAAAAAAAAAAAAAAAAAAAAAAAAAAAAAAAAAAAAAAAAAAAAAAAAAAAAAAAAAAAAAAAAAAAAAAAAAAAAAAAAAAAAAAAAAAAAAAAAAAAAAAAAAAAAAAAAAAAAAAAAAAAAAAAAAAAAAAAAAAAAAAAAAAAAAAAAAAAAAAAAAAAAAAAAAAAAAAAAAAAAAAAAAAAAAAAAAAAAAAAAAAAAAAAAAAAAAAAAAAAAAAAAAAAAAAAAAAAAAAAAAAAAAAAAAAAAAAAAAAAAAAAAAAAAAAAAAAAAAAAAAAAAAAAAAAAAAAAAAAAAAAAAAAAAAAAAAAAAAAAAAAAAAAAAAAAAAAAAAAAAAAAAAAAAAAAAAAAAAAAAAAAAAAAAAAAAAAAAAAAAAAAAAAAAAAAAAAAAAAAAAAAAAAAAAAAAAAAAAAAAAAAAAAAAAAAAAAAAAAAAAAAAAAAAAAAAAAAAAAAAAAAAAAAAAAAAAAAAAAAAAAAAAAAAAAAAAAAAAAAAAAAAAAAAAAAAAAAAAAAAAAAAAAAAAAAAAAAAAAAAAAAAAAAAAAAAAAAAAAAAAAAAAAAAAAAAAAAAAAAAAAAAAAAAAAAAAAAAAAAAAAAAAAAAAAAAAAAAAAAAAAAAAAAAAAAAAAAAAAAAAAAAAAAAAAAAAAAAAAAAAAAAAAAAAAAAAAAAAAAAAAAAAAAAAAAAAAAAAAAAAAAAAAAAAAAAAAAAAAAAAAAAAAAAAAAAAAAAAAAAAAAAAAAAAAAAAAAAAAAAAAAAAAAAAAAAAAAAAAAAAAAAAAAAAAAAAAAAAAAAAAAAAAAAAAAAAAAAAAAAAAAAAAAAAAAAAAAAAAAAAAAAAAAAAAAAAAAAAAAAAAAAAAAAAAAAAAAAAAAAAAAAAAAAAAAAAAAAAAAAAAAAAAAAAAAAAAAAAAAAAAAAAAAAAAAAAAAAAAAAAAAAAAAAAAAAAAAAAAAAAAAAAAAAAAAAAAAAAAAAAAAAAAAAAAAAAAAAAAAAAAAAAAAAAAAAAAAAAAAAAAAAAAAAAAAAAAAAAAAAAAAAAAAAAAAAAAAAAAAAAAAAAAAAAAAAAAAAAAAAAAAAAAAAAAAAAAAAAAAAAAAAAAAAAAAAAAAAAAAAAAAAAAAAAAAAAAAAAAAAAAAAAAAAAAAAAAAAAAAAAAAAAAAAAAAAAAAAAAAAAAAAAAAAAAAAAAAAAAAAAAAAAAAAAAAAAAAAAAAAAAAAAAAAAAAAAAAAAAAAAAAAAAAAAAAAAAAAAAAAAAAAAAAAAAAAAAAAAAAAAAAAAAAAAAAAAAAAAAAAAAAAAAAAAAAAAAAAAAAAAAAAAAAAAAAAAAAAAAAAAAAAAAAAAAAAAAAAAAAAAAAAAAAAAAAAAAAAAAAAAAAAAAAAAAAAAAAAAAAAAAAAAAAAAAAAAAAAAAAAAAAAAAAAAAAAAAAAAAAAAAAAAAAAAAAAAAAAAAAAAAAAAAAAAAAAAAAAAAAAAAAAAAAAAAAAAAAAAAAAAAAAAAAAAAAAAAAAAAAAAAAAAAAAAAAAAAAAAAAAAAAAAAAAAAAAAAAAAAAAAAAAAAAAAAAAAAAAAAAAAAAAAAAAAAAAAAAAAAAAAAAAAAAAAAAAAAAAAAAAAAAAAAAAAAAAAAAAAAAAAAAAAAAAAAAAAAAAAAAAAAAAAAAAAAAAAAAAAAAAAAAAAAAAAAAAAAAAAAAAAAAAAAAAAAAAAAAAAAAAAAAAAAAAAAAAAAAAAAAAAAAAAAAAAAAAAAAAAAAAAAAAAAAAAAAAAAAAAAAAAAAAAAAAAAAAAAAAAAAAAAAAAAAAAAAAAAAAAAAAAAAAAAAAAAAAAAAAAAAAAAAAAAAAAAAAAAAAAAAAAAAAAAAAAAAAAAAAAAAAAAAAAAAAAAAAAAAAAAAAAAAAAAAAAAAAAAAAAAAAAAAAAAAAAAAAAAAAAAAAAAAAAAAAAAAAAAAAAAAAAAAAAAAAAAAAAAAAAAAAAAAAAAAAAAAAAAAAAAAAAAAAAAAAAAAAAAAAAAAAAAAAAAAAAAAAAAAAAAAAAAAAAAAAAAAAAAAAAAAAAAAAAAAAAAAAAAAAAAAAAAAAAAAAAAAAAAAAAAAAAAAAAAAAAAAAAAAAAAAAAAAAAAAAAAAAAAAAAAAAAAAAAAAAAAAAAAAAAAAAAAAAAAAAAAAAAAAAAAAAAAAAAAAAAAAAAAAAAAAAAAAAAAAAAAAAAAAAAAAAAAAAAAAAAAAAAAAAAAAAAAAAAAAAAAAAAAAAAAAAAAAAAAAAAAAAAAAAAAAAAAAAAAAAAAAAAAAAAAAAAAAAAAAAAAAAAAAAAAAAAAAAAAAAAAAAAAAAAAAAAAAAAAAAAAAAAAAAAAAAAAAAAAAAAAAAAAAAAAAAAAAAAAAAAAAAAAAAAAAAAAAAAAAAAAAAAAAAAAAAAAAAAAAAAAAAAAAAAAAAAAAAAAAAAAAAAAAAAAAAAAAAAAAAAAAAAAAAAAAAAAAAAAAAAAAAAAAAAAAAAAAAAAAAAAAAAAAAAAAAAAAAAAAAAAAAAAAAAAAAAAAAAAAAAAAAAAAGdhY2hldAAAAAWQAwACAAAAFAAAEKCQBAACAAAAFAAAELSSkQACAAAAAzE3AACSkgACAAAAAzE3AADqHAAHAAAIDAAACJQAAAAAHOoAAAAIAAAAAAAAAAAAAAAAAAAAAAAAAAAAAAAAAAAAAAAAAAAAAAAAAAAAAAAAAAAAAAAAAAAAAAAAAAAAAAAAAAAAAAAAAAAAAAAAAAAAAAAAAAAAAAAAAAAAAAAAAAAAAAAAAAAAAAAAAAAAAAAAAAAAAAAAAAAAAAAAAAAAAAAAAAAAAAAAAAAAAAAAAAAAAAAAAAAAAAAAAAAAAAAAAAAAAAAAAAAAAAAAAAAAAAAAAAAAAAAAAAAAAAAAAAAAAAAAAAAAAAAAAAAAAAAAAAAAAAAAAAAAAAAAAAAAAAAAAAAAAAAAAAAAAAAAAAAAAAAAAAAAAAAAAAAAAAAAAAAAAAAAAAAAAAAAAAAAAAAAAAAAAAAAAAAAAAAAAAAAAAAAAAAAAAAAAAAAAAAAAAAAAAAAAAAAAAAAAAAAAAAAAAAAAAAAAAAAAAAAAAAAAAAAAAAAAAAAAAAAAAAAAAAAAAAAAAAAAAAAAAAAAAAAAAAAAAAAAAAAAAAAAAAAAAAAAAAAAAAAAAAAAAAAAAAAAAAAAAAAAAAAAAAAAAAAAAAAAAAAAAAAAAAAAAAAAAAAAAAAAAAAAAAAAAAAAAAAAAAAAAAAAAAAAAAAAAAAAAAAAAAAAAAAAAAAAAAAAAAAAAAAAAAAAAAAAAAAAAAAAAAAAAAAAAAAAAAAAAAAAAAAAAAAAAAAAAAAAAAAAAAAAAAAAAAAAAAAAAAAAAAAAAAAAAAAAAAAAAAAAAAAAAAAAAAAAAAAAAAAAAAAAAAAAAAAAAAAAAAAAAAAAAAAAAAAAAAAAAAAAAAAAAAAAAAAAAAAAAAAAAAAAAAAAAAAAAAAAAAAAAAAAAAAAAAAAAAAAAAAAAAAAAAAAAAAAAAAAAAAAAAAAAAAAAAAAAAAAAAAAAAAAAAAAAAAAAAAAAAAAAAAAAAAAAAAAAAAAAAAAAAAAAAAAAAAAAAAAAAAAAAAAAAAAAAAAAAAAAAAAAAAAAAAAAAAAAAAAAAAAAAAAAAAAAAAAAAAAAAAAAAAAAAAAAAAAAAAAAAAAAAAAAAAAAAAAAAAAAAAAAAAAAAAAAAAAAAAAAAAAAAAAAAAAAAAAAAAAAAAAAAAAAAAAAAAAAAAAAAAAAAAAAAAAAAAAAAAAAAAAAAAAAAAAAAAAAAAAAAAAAAAAAAAAAAAAAAAAAAAAAAAAAAAAAAAAAAAAAAAAAAAAAAAAAAAAAAAAAAAAAAAAAAAAAAAAAAAAAAAAAAAAAAAAAAAAAAAAAAAAAAAAAAAAAAAAAAAAAAAAAAAAAAAAAAAAAAAAAAAAAAAAAAAAAAAAAAAAAAAAAAAAAAAAAAAAAAAAAAAAAAAAAAAAAAAAAAAAAAAAAAAAAAAAAAAAAAAAAAAAAAAAAAAAAAAAAAAAAAAAAAAAAAAAAAAAAAAAAAAAAAAAAAAAAAAAAAAAAAAAAAAAAAAAAAAAAAAAAAAAAAAAAAAAAAAAAAAAAAAAAAAAAAAAAAAAAAAAAAAAAAAAAAAAAAAAAAAAAAAAAAAAAAAAAAAAAAAAAAAAAAAAAAAAAAAAAAAAAAAAAAAAAAAAAAAAAAAAAAAAAAAAAAAAAAAAAAAAAAAAAAAAAAAAAAAAAAAAAAAAAAAAAAAAAAAAAAAAAAAAAAAAAAAAAAAAAAAAAAAAAAAAAAAAAAAAAAAAAAAAAAAAAAAAAAAAAAAAAAAAAAAAAAAAAAAAAAAAAAAAAAAAAAAAAAAAAAAAAAAAAAAAAAAAAAAAAAAAAAAAAAAAAAAAAAAAAAAAAAAAAAAAAAAAAAAAAAAAAAAAAAAAAAAAAAAAAAAAAAAAAAAAAAAAAAAAAAAAAAAAAAAAAAAAAAAAAAAAAAAAAAAAAAAAAAAAAAAAAAAAAAAAAAAAAAAAAAAAAAAAAAAAAAAAAAAAAAAAAAAAAAAAAAAAAAAAAAAAAAAAAAAAAAAAAAAAAAAAAAAAAAAAAAAAAAAAAAAAAAAAAAAAAAAAAAAAAAAAAAAAAAAAAAAAAAAAAAAAAAAAAAAAAAAAAAAAAAAAAAAAAAAAAAAAAAAAAAAAAAAAAAAAAAAAAAAAAAAAAAAAAAAAAAAAAAAAAAAAAAAAAAAAAAAAAAAAAAAAAAAAAAAAAAAAAAAAAAAAAAAAAAAAAAAAAAAAAAAAAAAAAAAAAAAAAAAAAAAAAAAAAAAAAAAAAAAAAAAAAAAAAAAAAAAAAAAAAAAAAAAAAAAAAAAAAAAAAAAAAAAAAAAAAAAAAAAAAAAAAAAAAAAAAAAAAAAAAAAAAAAAAAAAAAAAAAAAAAAAAAAAAAAAAAAAAAAAAAAAAAAAAAAAAAAAAAAAAAAAAAAAAAAAAAAAAAAAAAAAAAAAAAAAAAAAAAAAAAAAAAAAAAAAAAAAAAAAAAAAAAAAAAAAAAAAAAAAAAAAAAAAAAAAAAAAAAAAAAAAAAAAAAAAAAAAAAAAAAAAAAAAAAAAAAAAAAAAAAAAAAAAAAAAAAAAAAAAAAAAAAAAAAAAAAAAAAAAAAAAAAAAAAAAAAAAAAAAAAAAAAAAAAAAAAAAAAAAAAAAAAAAAAAAAAAAAAAAAAAAAAAAAAAAAAAAAAAAAAAAAAAAAAAAAAAAAAAAAAAAAAAAAAAAAAAAAAAAAAAAAAAAAAAAAAAAAAAAAAAAAAAAAAAAAAAAAAAAAAAAAAAAAAAAAAAAAAAAAAAAAAAAAAAAAAAAAAAAAAAAAAAAAAAAAAAAAAAAAAAAAAyMDIzOjEwOjE0IDIxOjM4OjI2ADIwMjM6MTA6MTQgMjE6Mzg6MjYAAABnAGEAYwBoAGUAdAAAAP/hCxlodHRwOi8vbnMuYWRvYmUuY29tL3hhcC8xLjAvADw/eHBhY2tldCBiZWdpbj0n77u/JyBpZD0nVzVNME1wQ2VoaUh6cmVTek5UY3prYzlkJz8+DQo8eDp4bXBtZXRhIHhtbG5zOng9ImFkb2JlOm5zOm1ldGEvIj48cmRmOlJERiB4bWxuczpyZGY9Imh0dHA6Ly93d3cudzMub3JnLzE5OTkvMDIvMjItcmRmLXN5bnRheC1ucyMiPjxyZGY6RGVzY3JpcHRpb24gcmRmOmFib3V0PSJ1dWlkOmZhZjViZGQ1LWJhM2QtMTFkYS1hZDMxLWQzM2Q3NTE4MmYxYiIgeG1sbnM6ZGM9Imh0dHA6Ly9wdXJsLm9yZy9kYy9lbGVtZW50cy8xLjEvIi8+PHJkZjpEZXNjcmlwdGlvbiByZGY6YWJvdXQ9InV1aWQ6ZmFmNWJkZDUtYmEzZC0xMWRhLWFkMzEtZDMzZDc1MTgyZjFiIiB4bWxuczp4bXA9Imh0dHA6Ly9ucy5hZG9iZS5jb20veGFwLzEuMC8iPjx4bXA6Q3JlYXRlRGF0ZT4yMDIzLTEwLTE0VDIxOjM4OjI2LjE3MzwveG1wOkNyZWF0ZURhdGU+PC9yZGY6RGVzY3JpcHRpb24+PHJkZjpEZXNjcmlwdGlvbiByZGY6YWJvdXQ9InV1aWQ6ZmFmNWJkZDUtYmEzZC0xMWRhLWFkMzEtZDMzZDc1MTgyZjFiIiB4bWxuczpkYz0iaHR0cDovL3B1cmwub3JnL2RjL2VsZW1lbnRzLzEuMS8iPjxkYzpjcmVhdG9yPjxyZGY6U2VxIHhtbG5zOnJkZj0iaHR0cDovL3d3dy53My5vcmcvMTk5OS8wMi8yMi1yZGYtc3ludGF4LW5zIyI+PHJkZjpsaT5nYWNoZXQ8L3JkZjpsaT48L3JkZjpTZXE+DQoJCQk8L2RjOmNyZWF0b3I+PC9yZGY6RGVzY3JpcHRpb24+PC9yZGY6UkRGPjwveDp4bXBtZXRhPg0KICAgICAgICAgICAgICAgICAgICAgICAgICAgICAgICAgICAgICAgICAgICAgICAgICAgICAgICAgICAgICAgICAgICAgICAgICAgICAgICAgICAgICAgICAgICAgICAgICAgIAogICAgICAgICAgICAgICAgICAgICAgICAgICAgICAgICAgICAgICAgICAgICAgICAgICAgICAgICAgICAgICAgICAgICAgICAgICAgICAgICAgICAgICAgICAgICAgICAgICAgCiAgICAgICAgICAgICAgICAgICAgICAgICAgICAgICAgICAgICAgICAgICAgICAgICAgICAgICAgICAgICAgICAgICAgICAgICAgICAgICAgICAgICAgICAgICAgICAgICAgICAKICAgICAgICAgICAgICAgICAgICAgICAgICAgICAgICAgICAgICAgICAgICAgICAgICAgICAgICAgICAgICAgICAgICAgICAgICAgICAgICAgICAgICAgICAgICAgICAgICAgIAogICAgICAgICAgICAgICAgICAgICAgICAgICAgICAgICAgICAgICAgICAgICAgICAgICAgICAgICAgICAgICAgICAgICAgICAgICAgICAgICAgICAgICAgICAgICAgICAgICAgCiAgICAgICAgICAgICAgICAgICAgICAgICAgICAgICAgICAgICAgICAgICAgICAgICAgICAgICAgICAgICAgICAgICAgICAgICAgICAgICAgICAgICAgICAgICAgICAgICAgICAKICAgICAgICAgICAgICAgICAgICAgICAgICAgICAgICAgICAgICAgICAgICAgICAgICAgICAgICAgICAgICAgICAgICAgICAgICAgICAgICAgICAgICAgICAgICAgICAgICAgIAogICAgICAgICAgICAgICAgICAgICAgICAgICAgICAgICAgICAgICAgICAgICAgICAgICAgICAgICAgICAgICAgICAgICAgICAgICAgICAgICAgICAgICAgICAgICAgICAgICAgCiAgICAgICAgICAgICAgICAgICAgICAgICAgICAgICAgICAgICAgICAgICAgICAgICAgICAgICAgICAgICAgICAgICAgICAgICAgICAgICAgICAgICAgICAgICAgICAgICAgICAKICAgICAgICAgICAgICAgICAgICAgICAgICAgICAgICAgICAgICAgICAgICAgICAgICAgICAgICAgICAgICAgICAgICAgICAgICAgICAgICAgICAgICAgICAgICAgICAgICAgIAogICAgICAgICAgICAgICAgICAgICAgICAgICAgICAgICAgICAgICAgICAgICAgICAgICAgICAgICAgICAgICAgICAgICAgICAgICAgICAgICAgICAgICAgICAgICAgICAgICAgCiAgICAgICAgICAgICAgICAgICAgICAgICAgICAgICAgICAgICAgICAgICAgICAgICAgICAgICAgICAgICAgICAgICAgICAgICAgICAgICAgICAgICAgICAgICAgICAgICAgICAKICAgICAgICAgICAgICAgICAgICAgICAgICAgICAgICAgICAgICAgICAgICAgICAgICAgICAgICAgICAgICAgICAgICAgICAgICAgICAgICAgICAgICAgICAgICAgICAgICAgIAogICAgICAgICAgICAgICAgICAgICAgICAgICAgICAgICAgICAgICAgICAgICAgICAgICAgICAgICAgICAgICAgICAgICAgICAgICAgICAgICAgICAgICAgICAgICAgICAgICAgCiAgICAgICAgICAgICAgICAgICAgICAgICAgICAgICAgICAgICAgICAgICAgICAgICAgICAgICAgICAgICAgICAgICAgICAgICAgICAgICAgICAgICAgICAgICAgICAgICAgICAKICAgICAgICAgICAgICAgICAgICAgICAgICAgICAgICAgICAgICAgICAgICAgICAgICAgICAgICAgICAgICAgICAgICAgICAgICAgICAgICAgICAgICAgICAgICAgICAgICAgIAogICAgICAgICAgICAgICAgICAgICAgICAgICAgICAgICAgICAgICAgICAgICAgICAgICAgICAgICAgICAgICAgICAgICAgICAgICAgICAgICAgICAgICAgICAgICAgICAgICAgCiAgICAgICAgICAgICAgICAgICAgICAgICAgICAgICAgICAgICAgICAgICAgICAgICAgICAgICAgICAgICAgICAgICAgICAgICAgICAgICAgICAgICAgICAgICAgICAgICAgICAKICAgICAgICAgICAgICAgICAgICAgICAgICAgICAgICAgICAgICAgICAgICAgICAgICAgICAgICAgICAgICAgICAgICAgICAgICAgICAgICAgICAgICAgICAgICAgICAgICAgIAogICAgICAgICAgICAgICAgICAgICAgICAgICAgICAgICAgICAgICAgICAgICAgICAgICAgICAgICAgICAgICAgICAgICAgICAgICAgICAgICAgICAgICAgICAgICAgICAgICAgCiAgICAgICAgICAgICAgICAgICAgICAgICAgICA8P3hwYWNrZXQgZW5kPSd3Jz8+/9sAQwAHBQUGBQQHBgUGCAcHCAoRCwoJCQoVDxAMERgVGhkYFRgXGx4nIRsdJR0XGCIuIiUoKSssKxogLzMvKjInKisq/9sAQwEHCAgKCQoUCwsUKhwYHCoqKioqKioqKioqKioqKioqKioqKioqKioqKioqKioqKioqKioqKioqKioqKioqKioq/8AAEQgAxAHeAwEiAAIRAQMRAf/EAB8AAAEFAQEBAQEBAAAAAAAAAAABAgMEBQYHCAkKC//EALUQAAIBAwMCBAMFBQQEAAABfQECAwAEEQUSITFBBhNRYQcicRQygZGhCCNCscEVUtHwJDNicoIJChYXGBkaJSYnKCkqNDU2Nzg5OkNERUZHSElKU1RVVldYWVpjZGVmZ2hpanN0dXZ3eHl6g4SFhoeIiYqSk5SVlpeYmZqio6Slpqeoqaqys7S1tre4ubrCw8TFxsfIycrS09TV1tfY2drh4uPk5ebn6Onq8fLz9PX29/j5+v/EAB8BAAMBAQEBAQEBAQEAAAAAAAABAgMEBQYHCAkKC//EALURAAIBAgQEAwQHBQQEAAECdwABAgMRBAUhMQYSQVEHYXETIjKBCBRCkaGxwQkjM1LwFWJy0QoWJDThJfEXGBkaJicoKSo1Njc4OTpDREVGR0hJSlNUVVZXWFlaY2RlZmdoaWpzdHV2d3h5eoKDhIWGh4iJipKTlJWWl5iZmqKjpKWmp6ipqrKztLW2t7i5usLDxMXGx8jJytLT1NXW19jZ2uLj5OXm5+jp6vLz9PX29/j5+v/aAAwDAQACEQMRAD8A+kaKiQyvGrbkG4A42H/GnYl/vp/3wf8AGgB9FMxL/fT/AL4P+NGJf76f98H/ABoAfRTMS/30/wC+D/jRiX++n/fB/wAaAH0UzEv99P8Avg/40Yl/vp/3wf8AGgB9FMxL/fT/AL4P+NGJf76f98H/ABoAfRTMS/30/wC+D/jRiX++n/fB/wAaAH0UzEv99P8Avg/40Yl/vp/3wf8AGgB9FMxL/fT/AL4P+NGJf76f98H/ABoAfRTMS/30/wC+D/jRiX++n/fB/wAaAH0UzEv99P8Avg/40Yl/vp/3wf8AGgB9FMxL/fT/AL4P+NGJf76f98H/ABoAfRTMS/30/wC+D/jRiX++n/fB/wAaAH0UzEv99P8Avg/40Yl/vp/3wf8AGgB9FMxL/fT/AL4P+NGJf76f98H/ABoAfRTMS/30/wC+D/jRiX++n/fB/wAaAH0UzEv99P8Avg/40Yl/vp/3wf8AGgB9FMxL/fT/AL4P+NGJf76f98H/ABoAfRTMS/30/wC+D/jRiX++n/fB/wAaAH0UzEv99P8Avg/40Yl/vp/3wf8AGgB9FMxL/fT/AL4P+NGJf76f98H/ABoAfRTMS/30/wC+D/jRiX++n/fB/wAaAH0UzEv99P8Avg/40Yl/vp/3wf8AGgB9FMxL/fT/AL4P+NGJf76f98H/ABoAfRTMS/30/wC+D/jRiX++n/fB/wAaAH0UzEv99P8Avg/40Yl/vp/3wf8AGgB9FMxL/fT/AL4P+NGJf76f98H/ABoAfRTMS/30/wC+D/jRiX++n/fB/wAaAH0UzEv99P8Avg/40Yl/vp/3wf8AGgB9FMxL/fT/AL4P+NGJf76f98H/ABoAfRTMS/30/wC+D/jSxsWTLYzkjgehxQAkH/HvH/uj+VPpkH/HvH/uj+VPoAKKKKACiiigAooooAKKKKACiiigAooooAKKKKAPPdY+N3gzQNWn03Vb6W3uoG2vG0D8fpVL/hoX4fYz/ar4/wCuD/4Vh/tAfC1fE2inxBo0H/Ezs1JlVF5mj/xH9a8e+BvinQdP8Q/2J4s060ubO+OIZ50BMUnbn0PI+uKAPfP+Ghvh7/0FW/78P/hR/wANDfD3/oKt/wB+H/wrrG+H3hCZBnw/YMp5BEQrgPH/AOz14d1/TJ5/DkA0zUlG6PyzlHP90g/0xQB6B4T8eeH/ABtDJJ4ev0uTFy6YIZR64NdHXyX+zkbvQvjDe6NcgxymOWCZP9qPcT+q19aUAFFc74u8Ww+GYbWKOP7VqN/MIbS1BwZG6k/QAE/hW/C0jW8bTKEkKguoPAOORQA+iiigAooooAKKKKACiiigAooooAKK5jxF4ufwzrunx6jahdJvW8k3u7/VSn7ob2PPPriunBBAI5B6UAFFFc1c+LC3jeDw3pVsLqZE82+k3YFtHjjPuSRx70AdLRRRQAUUUUAFFFFABRRRQAUUUUAFFIc7Tjrjiub8N+LDq+r6jo2o24s9V09yXh3ZEkecLIvsePzoA6WiiigAooooAKKKKACiiigApkP3D/vN/M0+mQ/cP+838zQAQf8AHvH/ALo/lT6ZB/x7x/7o/lT6ACiiigAooooAKKKKACiiigAooooAKKKKACiiigBGUMpVhkEYIPevkf8AaB+F58K65/wkWjRkadfSkuiLxBIcn8jzX1zVDXNFs/EOiXWl6lEJba5jKOpH6/UHmgDyT9n/AOKn/CU6Kvh/WZEXUrFQkLFuZ4wOD9R0/Cvaq+GfFOga18HfiQrWpdDby+dZ3GPlkTPA/oRX138OvHNn4+8J2+qWpVZ8BbiEHmN8dKAMC8+F0o+NFt420yeOGLZtuYSOXOzbkV6SxCqSeABk0tYXjXVP7G8F6pf52+TbsQQelAHD+CZl8a/FXX/Ek432ukubDT+68H5nH1x+teq15T+zrbPF8K4biQ5e6meUn1JJr1agAorzz4k/EbVPANjHqP8AYXn2H2oQPM0g6HPzAA5xx3q7r/j26ttEtZ/C+jy6ze3Vsl0IEOBHGyhgWJx69OtAHbUVmeHdQvNV8O2d9qdi1hdTR7pbZjkxnPStOgAooooAK4DW/Fvjyx1q6ttK8EW99ZxviG5bUShkX12+WcfnXf1m63fX9jZtJplgb2Xazbd4UDHrkigDg/8AhN/iV/0Tu2/8Gh/+NVZ0/wAZfEG41G3hvvAVvbW7yBZJl1IsUXuceWM03wL8WYvFGg6reapZfYbrTJ/Ilt0ySzZwAPUk4Favg7xX4g1/Wb+21vw1LpFtAFa3lkYHzQc+hPP+NAGz4r0SHxH4Uv8ATLlNyzwnHGcMOQfzArmvhB4ok8QeDRa3rA32kytZT88kxsVBP4AV31eD/Cm5/sf48+M9BHEU8huEUf3z8xP5GgD2TxNrUXh7w1farcMFS2hZ+T37Vx/wZ0yRfCLeIL/5tQ12VryZyOcMSVH0AIrF/aQ1VrT4dwadE2H1C8jjb3TnI/UV6V4Xsxp/hLSbMDAt7OKLH+6gH9KANSiqmpXN1a2hksbJryUdIldVz+JIFcN8PvijJ4x8UaxoOpaWdLv9N5MDtliAcN0OOCR0oA9EoriNe8e3uh/EbSvD0mjySWOojC3wBwr5xiu3oAKKKKACs3X73UdP0We50bT11G8Rcx2zSeWHPpuwcflWlTJWdImaNPMYDhQcZoA80/4Tf4lf9E7tv/Bof/jVH/Cb/Er/AKJ3bf8Ag0P/AMapbz4rXul/Euw8MazoTWMF9kRXLyBtx9sEitv4meNb/wACeHI9WsNHk1RBKFuAn/LJO7HFAFvwhrfiXWPtH/CTeHYtG8vHleXdGbzOuf4Vx2rlPi0ZPDGr6D42sVwbO6FvfEcZgcEEn6Ntr0nTb0ajpdteKhQTxLIFPUZGa5H4x2A1H4S67CwyBAH/AO+WB/pQB2VtcJd2kNxCd0cyB1I7gjIqWuG+DesnW/hTo1w7bpI4jEx/3WIH6AV3NABRRRQAUUUUAFFFFABTIfuH/eb+Zp9Mh+4f95v5mgAg/wCPeP8A3R/Kn0yD/j3j/wB0fyp9ABRRRQAUUUUAFFFFABRRRQAUUUUAFFFFABRRRQAUUUE4GTwKAOE+LXw9tPH/AIQlt3Kw31upktpz/C3ofY18+fs9jxPY/EmW10hDLYKCl/n/AFYAPBz6+n416T8TfHWo+MvEg+HfgJvMlm+S/vEPyxg9Rn6da9P8BeB9O8B+G4tM05dz4DTzEfNK/cmgDpq4T41Ej4PeIMcf6Ma7uub+IOl/2z4A1exHJlt2AGKAOd+Aox8HNHx/db+dejV5b+zxd/aPhLZxHg28jxkehzXWePvEereFvDD6loOinWblJFU2wfb8pPJzg9KAMr4zw2dz8KtXgvpNgeMeXxkl85AHvWf8Bnt7n4YWVzG7S3JBjndzk5U7Qv0AAFa2j2F74whTWfEtk1jmFktrB23eVuHLt/tfy5rgPhXZ+LvDep634VOlyw2v255IL9yNiRls8epI5FAHulec/EG7+JVvrMK+A7OznsjH+8M+chvbmvRUBWNQx3EDBPrS0AeG/wBpfHn/AKBWl/mf8a0NAv8A4zyeILNdd07To9OMn+kNGTuC47c17FRQAUjEBSWwFxzmgnCnAyfSvNNH8UeKfG15e6Lf+HJdDt45Skt20m4PGOy+5oA4P4dQ6aP2jPEtqJmmtJZZbq2QnCNNv+bjvgFsV9EV4f8AEHw7qfhT4keGPEfhPSJbu2to/sslvbgZC7So/SvXdCOoy2P2nV/3c853iAHIhHZc9zQBp18+eHMr+2JrSpwph5A/691r6DrwT4aWx1b9o/xfq6j91ajyw2OC2AhFADv2myfs/hlf4TeHP5pXulqALOEDpsH8q8f/AGldNabwNp+pICfsV/HuAHRT1P8A47Xqvh+6F94b027Q5We1jkB+qg0AaFeGeKIf+ES/aU0XV4FKxa1G0Ex6AnGf5ivc68i+POlXl8nhafRU36ourJHCAOgKOST7DaKAO2uo49d8bWqDa0OjAyOeuZWHA/AYP410k5kFvIYRmTadmfXHFZvhzSDo+jxwzyGa6k/eXMp6vIeT+HYewFatAHiNxqXx0F1KLfTNMaLefLJJyVzx39Kj/tL48/8AQK0v8z/jXuVFAHEfDi48dXEd8fiBbWtu4Zfswt+4755rt6KKAPG/2jNLdfC2meI7MH7TpN8jFl6iMglj+aj867DUdUTxJ4Q0e0twry67BExQjO2JlDPn/gOR9aufEjTotW+HWs2dxjZJbnr3I6Vh/B3QdSsPBem3viD/AI/WtEiijx/qoeqj64waAPQLeFbe2jhjGFjQKPoBiuf+IgB+HGug9Psb/wAq6SuN+Ld4tj8Kddmc4H2fbz7sB/WgDmf2cCT8I7XPaaTH516xXn3wP0htI+EmkRvkNMjSkEdMsf6V6DQAUUUUAFFFFABRRRQAUyH7h/3m/mafTIfuH/eb+ZoAIP8Aj3j/AN0fyp9Mg/494/8AdH8q53VfiD4Y0a9Szv8AVYo7mR9ixc7i3pQB0tFc7qnjzw3o2r22majqkMN5dECOInnJ9a6IHIyOlABRRRQAUUUUAFFFFABRRRQAUUUUAFFFFABXj/xc+JN7b3kXgvwSBc67fN5crIN32dO/Tofr2zWh8Zfivb+AdCa1090l1m5G2KPP+qH98/4V5P8ACjx/4I8JRz614ju7i98RXxLTzMgby88kCgD2z4W/DWz8AaHmTFxq93+8vLpuWZj2B9P/AK9d5Xkn/DSPgb/ntc/9+/8A69YmvftSeHbW0kGhafc3lznC+b+7Qe+ec0Ad18Q/ifa+BdQ0nTxaG9vNTnWJIlYDYCcAn8a7dR9ptAJVx5ifMvXGRXyD8PdR1f4p/HSx1PWm8/ynMxQD5IlUEgD06CvsMDAAHQUAeUfC2M+FPHHibwbcfIgna9scjG+Fm7HuRuHSvV65Hxn4TuNUu7HXNCkWDWtNkDRMfuzIeGjb2IJ/HFdXA0jW8bTqEkKguoOcHHIoAfRRRQAUUUUAFFFFABRRRQAUUUUAUNc1OHRtCvNRuHCR20LSEn2HFcF8E/Db6Z4bu9cukZbrXrmS9YN1CsxK/pg1u+MfD+peKtRsdLYrDoat514wb5pyv3Y8emefwrrIYY7eBIYVCRxqFVR0AHAFAGF468Op4q8E6lpEgz9ohIX/AHu1Yfwd1g6l8PLOynwt3pQ+wTx9CjRHZyP+A13lccvhe70T4gf21oIX7FqQK6jbE4AbHEq++QAfqaAIvGvjy+8J63ptpbeG9Q1W3u8+ZNaRF/L59q1NH0+71DURrmuQ+TPtK2tqTn7Oh9f9s4GT9a6EqCQSAcdMjpS0AFFFFABRRRQAVznjvxNd+EvC8uqWGk3GrSo6r9nt0LNgnGcDsK6OkIDDDAEehoA4vS7rUfHkFrc3+nT6VpSgSPbXK7ZZn7Ag9FHP14rtQAAABgDoBQBjpRQAV5d8a5JNZsdI8G2Xzz61eos6jkrCuXZuOn3R+deoEkKcDJxwK5Dw74YvG8VX/ifxFta+mLQ2kKnK20OeAD3JAGTQB0+m2MWmaXa2MAxHbxLEo9gMVZoooAKKKKACiiigAooooAKZD9w/7zfzNPpkP3D/ALzfzNABB/x7x/7o/lXgvxf1BdQ+M/hfSbSHz7q0AmVQM/OW4z7cV7xGwS0RnOFVAST2GK8I+FtsfGnxw8S+MblS9tZP9mtSeVDAYIH0wD+NAHoUnwl8N6jLZX2tWv2zUreUTvdNw0sn+16jPau5ACqAOABgUtFAHD+NZfH6alCPBZ077Ls/efazzu9uDXN/aPjR66F/31/9jXR+N/hfb+N9Shu5vEOtaYYk2CPT7gRq3uRg81zH/DPNl/0O/iv/AMDl/wDiaALumXHxdOrWo1M6N9jMg8/yj823vjjrXqY6V5VpPwJtNK1e1v18YeJrg28gkEU14Cj47EbeRXqvSgDLv/E2h6Xc/Z9S1aztZsZ8uaZVbH0Jqt/wnHhb/oYdN/8AAlf8aXVPBfhzW7w3eraPa3dwRgySrk4ql/wrTwZ/0Llj/wB+6ALn/CceFv8AoYdN/wDAlf8AGj/hOPC3/Qw6b/4Er/jVP/hWngz/AKFyx/791S1jwL4J0jRrq/k8N2BW3jLkFMZxQBs/8Jx4W/6GHTf/AAJX/Gj/AITjwt/0MOm/+BK/415Ho0J17SLfU9M+EtjLaXKCSJzOo3Kehxmrv9hXv/RIbD/wIX/GgD0//hOPC3/Qw6b/AOBK/wCNNbxv4YKEL4i01SRwftKHH615l/YV7/0SGw/8CF/xo/sK9/6JDYf+BC/40AYOv/CXwV4l1y41XV/iUs11cNuZi8XA7AfN0FZv/Ch/h1/0USP/AL6i/wDiq7D+wr3/AKJDYf8AgQv+NH9hXv8A0SGw/wDAhf8AGgDj/wDhQ/w6/wCiiR/99Rf/ABVL/wAKH+HX/RQ4/wDvqL/4quv/ALCvf+iQ2H/gQv8AjR/YV7/0SGw/8CF/xoA3Ph/o/wAOPh3bSDR9d0+S5mG2W5kuU3uPTrwPauz/AOE48Lf9DDpv/gSv+NeYf2Fe/wDRIbD/AMCF/wAaP7Cvf+iQ2H/gQv8AjQB6f/wnHhb/AKGHTf8AwJX/ABo/4Tjwt/0MOm/+BK/415h/YV7/ANEhsP8AwIX/ABo/sK9/6JDYf+BC/wCNAHp//CceFv8AoYdN/wDAlf8AGj/hOPC3/Qw6b/4Er/jXmH9hXv8A0SGw/wDAhf8AGj+wr3/okNh/4EL/AI0Aen/8Jx4W/wChh03/AMCV/wAaP+E48Lf9DDpv/gSv+NeYf2Fe/wDRIbD/AMCF/wAaP7Cvf+iQ2H/gQv8AjQB6f/wnHhb/AKGHTf8AwJX/ABo/4Tjwt/0MOm/+BK/415h/YV7/ANEhsP8AwIX/ABo/sK9/6JDYf+BC/wCNAHp//CceFv8AoYdN/wDAlf8AGj/hOPC3/Qw6b/4Er/jXmH9hXv8A0SGw/wDAhf8AGj+wr3/okNh/4EL/AI0Aen/8Jx4W/wChh03/AMCV/wAaP+E48Lf9DDpv/gSv+NeYf2Fe/wDRIbD/AMCF/wAaP7Cvf+iQ2H/gQv8AjQB6f/wnHhb/AKGHTf8AwJX/ABo/4Tjwt/0MOm/+BK/415h/YV7/ANEhsP8AwIX/ABo/sK9/6JDYf+BC/wCNAHp//CceFv8AoYdN/wDAlf8AGj/hOPC3/Qw6b/4Er/jXmH9hXv8A0SGw/wDAhf8AGj+wr3/okNh/4EL/AI0Aen/8Jx4W/wChh03/AMCV/wAaP+E48Lf9DDpv/gSv+NeYf2Fe/wDRIbD/AMCF/wAaP7Cvf+iQ2H/gQv8AjQB6f/wnHhb/AKGHTf8AwJX/ABo/4Tjwt/0MOm/+BK/415h/YV7/ANEhsP8AwIX/ABo/sK9/6JDYf+BC/wCNAHp//CceFv8AoYdN/wDAlf8AGj/hOPC3/Qw6b/4Er/jXmH9hXv8A0SGw/wDAhf8AGj+wr3/okNh/4EL/AI0Aen/8Jx4W/wChh03/AMCV/wAaP+E48Lf9DDpv/gSv+NeYf2Fe/wDRIbD/AMCF/wAaP7Cvf+iQ2H/gQv8AjQB6f/wnHhb/AKGHTf8AwJX/ABo/4Tjwt/0MOm/+BK/415h/YV7/ANEhsP8AwIX/ABo/sK9/6JDYf+BC/wCNAHp//CceFv8AoYdN/wDAlf8AGj/hOPC3/Qw6b/4Er/jXmH9hXv8A0SGw/wDAhf8AGj+wr3/okNh/4EL/AI0Aen/8Jx4W/wChh03/AMCV/wAaP+E48Lf9DDpv/gSv+NeYf2Fe/wDRIbD/AMCF/wAaP7Cvf+iQ2H/gQv8AjQB6f/wnHhb/AKGHTf8AwJX/ABo/4Tjwt/0MOm/+BK/415h/YV7/ANEhsP8AwIX/ABo/sK9/6JDYf+BC/wCNAHp//CceFv8AoYdN/wDAlf8AGj/hOPC3/Qw6b/4Er/jXmH9hXv8A0SGw/wDAhf8AGj+wr3/okNh/4EL/AI0Aen/8Jx4W/wChh03/AMCV/wAacnjTwzLIscev6czscKouVJJ9OteXf2Fe/wDRIbD/AMCF/wAa6Dwl4Ss77UJDrnw8sdHWFQ8MyyB9zZ6cHj1oA9MBDKCDkHoaZD9w/wC838zTlUKoVRgAYApsP3D/ALzfzNADY1D2iK4yrIAQe4xUGn6TYaUjrptpFbLI25xGuNx9TVmD/j3j/wB0fyp9ABRRRQAUUUUAFFFFABRRRQAVwnxnvvsHwn1hw215Y/KQ/wC03Su7rzD447L3QtE0R/8AmJapEv1Cnn+dAHZeC9O/sTwNo2muQDa2ccRyfRcVt+Yn95fzrhvif4Q1DxJ4MZNB1O80/UrNfMha2maPzMDlDg9/6Cvkax8S+JB4iTTtc8VazYRrL5U8hu5CY+cHjNAH3l5if3l/OjzE/vL+deFWvwP8QXtpFc23xL1eSGVQyOty5BB/Gs/V/gb8Qbe2Z9I8e311IOkcl5KufxzQB9DB1PRgfxpa+GW8VePvAvjFYNW1bVEubaUB4ri5d0cZ68kgj3r7c0u+TU9Jtb6LlLiJZF+hGaALVFFVoNRtLq6ntre4jlmtyBKiNkoT0B9OlAFmiiigAooooAKKKKACiiigAooooAKKhu7uCws5bq7kWKGJSzu3RQOpp0E8VzAk1vIssUg3K6HIYfWgB7MqKWchVHUk4xUUN3bXJIt7iKUr1EbhsflWd4h0RtetYbN7h4bQybrlEYqZVH8OR2zjPtXnsvg6z8KfF/QZPCET2aXiSC/toWIjZBjDMvTPJ5oA9ZpCyjqwH1NLXlvxv8Ja5rHhs6r4V1S+s7+xUs0NtcOgnTqRgHrQB6h5if3l/OjzE/vL+dfC3hXXtd1nxVb6VrPjLV9NimfyzObuQ7G7A817wvwH8SuoZPiTrBBGQRcvz+tAHuPmJ/eX86UMp6MD9DXzlrvwS+I9lZvNo3je/vnXJ8pr2RSfzOK808I+O/GPhb4jWVrrWqak226WG4trqZ3zk46MfU0AfbNFNjfzI1f+8AadQAUVWttRtLyeeG1uI5ZLdtkqo2dh9D71ZoAKKKKACiiigAooooAKKKKACiiqt3qdnYTW8V5cRwvcvshDnG9vQe9AFqo5riG2TdcTRxL6uwUfrUlc3rfguw8TaiZfEK/bbNE2xWj/AOrU92I6E/4UAdDFNHPGHhkWRD0ZGBBp9ea/CzSJvD/iDxRpNnNLJodtcotijtuER+bei+w4r0qgApkP3D/vN/M0+mQ/cP8AvN/M0AEH/HvH/uj+VPpkH/HvH/uj+VPoAKKKKACiiigAooooAKKKKACvMPHpOo/FvwXpbjMUby3JHuNv+Fen15XFu1P9pZ2B3RaXpWCPRpGb/wCJoA9Ur5u/aM+FaiNvGGgwHI/4/oo1/wDIn+P0r6RqO4t4rq3eC4jWSKRSrowyCD2oA+cv2dvit9zwfrs3Qf6FK5/8c/w/GvpGviz4u/D29+GnjQX+lF106eXzbSZf+WTZztNfRXwZ+JkXj/wukd26rq1moS4TPL443j69aAML9ozwKmv+DRrdhb7tR09skoOXjPUe+P613Xwtmkm+Fnh3zlZZU0+FHD9dwQA11ZAYYYAj0NAAUYUAD0FAHK/EbxY3hDwnLd2qebfzsILOLGd8rcL+pFT+BfDX/CN+G4orh/P1C4/fXlw33pZD1NeeePr1Ne+PfhLw7JloLP8A0t1B43Z4/wDQRXs4GAAKACiobm7t7KEy3cyQoP4nbFVNJ1/Stdhkl0i+hu0iba5jP3T70AaNFZtl4i0jUtSn0+w1CC4u7cZlijbJQZxWlQAUUUUAFZ2s6/pPh63jn1zULexikfYjzuFDNjOB+ANaNUNW0bTdat0i1e0huoo23qsq5CnGM/kaAMb/AIWZ4K/6GfTf+/4o/wCFmeCv+hn03/v+Kzm0f4crq0emG20v7bJ9yEICWqTU9A+H2iyQx6pZaZavMwWNZEGWP0oA6Sx1LSfEultLp9zb6jZSZRmjIdG7EVwvg2+m8JePb7wPfSM1nKpu9Jd+0ecNHnvg4P413+l6XYaTZi30q3jt7fO4JGMDnvXlXxvuf+Ee1zwn4lhG2S2vTC7DqVbHH6UAei+K/Fmm+ENJ+3arLsDNsjXGSzen9a5Lw98RPC11qai3vHv9YvWC/LHjHoo9AK9EQx3UCSYV1YBhkZpwhiU5WNAfUKKAHjkCggEYIyD2NFFAHyh+0H8LG8P6q3inRYdun3T/AL9EH+qk9fof6V337PnxUHiPSk8MazJ/xMbKICCRjzNGO31A/lXsmsaTaa5pNxp2oxLLb3CFHVhmvijxr4X1j4QfERXs5GRYpfOsrgdGTPAP4cEUAfclfP8A+0Z4K23GleLtKtWe5hukS5ES5JHUMcf7uPxr0/4ZePrPx/4Rt9QgdVu0AS6hzyjj+h612DKGGGAI9CKAKOhTtdeHdOuHBDS2sTkEcglAa574leKJfDXhgLYfNqWoSi0tFAyd7Z+b6ACuwAwMCvFvE1+PEX7SGhaG5LQaXA1yy543HAzQB6T4K8NJ4X8M29mzebeOvmXlw33ppm5dj+JNdBRWXqPiXRdIIGpanbW5JwA8gzn6UAalFRTXUFvaPdTSqkCLvaQngD1qHTdUstXs1u9MuY7m3b7skZyDQBbooooAKKKKAMTVvGXhzQrwWms61Z2VwV3iKaUK231x+FUv+FmeCv8AoZ9N/wC/4qbxDpHhSWX7d4kgsS4XHmXOM4/GqmneEvBGr2S3em6Xp9zbv92RIwQaAJf+FmeCj/zM+m/9/wAVZ8WaDb+K/DEtsG+cr5ttOnVHAyrKay7Dw94A1S+uLTT7HTbi4tWxNGiAmM+9diiLFGqRqFVRgAdhQBx/wz8UT+IvDTQ6oR/aumym0vRjH7xTgnHvio/GnxD0bw9dppN1qH2W6mXczhd3lL6/X0rj9CvD4b/aW1nS1AS01m2EyoOMy8MW/n+dextFG5y8asfUrmgDkfBfi7w7rMzaZ4XLzJCnmTy7cAHIxuPcnn8q7GmrGiZ2Iq564GKdQAUyH7h/3m/mafTIfuH/AHm/maACD/j3j/3R/Kn0yD/j3j/3R/Kn0AFFFFABRRRQAUUUUAFFVNU1Oz0bTZr/AFKdYLaBSzyN0Ary7wb8ZpPE/wAVrzw5c6e1haeRvtPOGJHIPJP1yMD2oA9cryn4ZRnUPih461sOWjkuo7WPPYIuf5tXqN1MLazmnPSKNnP4DNebfAq1A8JahqRzv1DUZpWz9QP6UAenUUUUAc/438I2Pjbwtc6PqKKRIMxuRzG46EV8bWN3r3wZ+JjGSN0mtJSjochZ4s9ffI5r7hv7+20ywmvL6VYYIVLO7HAAr50bTm/aC+Jf2z7N9l8NaWxTzwvzXGD0z7/yoA998L+IbTxV4as9Z085huoww9j3H51rVW07TrXSdOhsbCFYbeBAiIowAKs0AfPmiztefti6kk3ItoSqew8hT/M19B18/aXbHTv2wr6SbgXkBdM9/wByF/pX0DQBXu7C0v1Vb62huFU5VZUDAH6GvnfwRYXuhfGzxV4L07NvbagRMsm7b5cS53FR6ndj8K9tu/HGipDcpp19BfXsMhgFtC+WMucbT6c9a8d1yzm8C/G/w74j1i6aSTVleO6kbhIySPlHoAMfrQB7NongjQPDupSX+kafHb3UsXlSSKOWGQeffI61c8Q6/ZeGNDuNW1RylrbrukZQSQPpUum6vb6q9x9jy8cD+X5o+6xHXB9qsXdnb39q9tewpPC4wyOMg0AeZf8ADRHgP/n+l/78t/hR/wANEeA/+f6X/v03+Fdt/wAIT4Z/6All/wB+hR/whPhn/oCWX/foUATeGPE2n+LtDj1bR3aS1kYqrMpBOPY1rModSrDKsMEHvUFjYWmm2ot7C3jt4QchIxgCq2p+IdI0aeCHVdRt7SS4JESyvtL49KAPGPj5pdt4ZvfDfi7TLNImsLsCZYECbxkEZx6kmvQLPwHpviK1i1XxbaRXuozMswJORB3CIfQfrXJfFrTrnx74F1W+t3kXTtOjaSzVR/x8yLyWPsMAD3Brovhh43ttW8A+Ho3k+0ahLCsUsaHJVlX5mPoP8aAPQkQRoqIMKowB6CvHP2nU2/C23uB96LUosfk3+FeyV41+04+74Y2tqPvTalFj8A3+NAHovgG5e9+HXh66l+/Np0Dt9SgNdBWD4Gs20/4f6DZyZD2+nwxtn1CAVvUAFFFFABXE/FP4e2vxD8Iy2D4jvYf3lrNjlXHb6Hp+NdtWbr+vWHhrRbjVNWnWG2t0LMScZ9APc0AfF/gLxdqnwl+Ickd4jpEkvkX1uwIyoPXHrg5H1r7Y0zUbfVtLttQsn8y3uYxJG3qpGRXzt4T8IXHxm+JU/jbXLBbPQonC28QXm529CT39z+HavpCGGO3hSGBFjjQbVVRgAUAPr548FTte/tfeJPN58i3nRfoGj/xr6Hr568IW5079r7xB5uR9ptpnTPfcyf4UAfQteZfGvwLY+IPh/f3VrZQpqVoPtEU0cSh2I7E4zzXptQXtsl5YT28gyssZUj1yKAOE+GWrweLvgzZNrDCZfsnkXZZvvbRhiatfCfw5F4b8HmG2DrbzXMskKOTlU3kL+gB/GvNPhNJdxPrvgK2jYNb6k4uJBwIYQxz+JOBj3r6AhhS3t44YhtSNQqj0AGKAOc8ZePtE8C29vNr8zxJcMVQqhbJH0rkv+GiPAf8Az/S/9+m/wr0bUdG07V1RdTs4bpUOVEq5xWf/AMIT4Z/6All/36FAHFD9ofwGzAC+lJJwP3Lf4V6dbXCXVrHPEcpIoZT7GsceCvDQORolnn/rkK2kRY41SMBVUYAHYUAZfiDw1pXiXTZrPVrKCdZEKB3jDMmfQnpXlX7P1/Lps3iHwZeNiXSLr92GPJUk549sD869rrwDVWk8GftNT3lrCzHW7B0iRf4pSykn9KAO98L+D9M0r4sa9rOjxmJZoFjuFUna0zEOT+v516FWX4e0gaPpKQuxkuJCZbiQnO6RjlvwyTj2rUoA8C+IbNaftMeFZI2x5sZDY78V77Xgfj2NtQ/ac8MQx8+RGWbA6fLmvfKACiiigApkP3D/ALzfzNPpkP3D/vN/M0AEH/HvH/uj+VPpkH/HvH/uj+VPoAKKKKACiiigAooooAhurS3vYDDdwpNHkHY65GR0r59+OlhJ4N+ImgeOtOQgFxDPgkDjpn8Cfyr6Irjfit4VXxf8OtR07bumVfOhOMkOv/1iaALXiXXon+F9/rVo4aKXTWmjYdwyZH86q/Cax+wfC/RkKlXkhMjA+rMTXiOk+MJ9S/ZrvdDeTbqNrcxaeEOc4aVVA/BTX0joVsLPw9p9uBt8q2jXA9QooAv02SRIY2kldURRlmY4AFO6V4N8SfG9/wCP/Ea/D7wFPncxXUL2M5VAOq5Hp3oAp+K9c1T41eNT4O8NSSQ+HbV919eqDtlwegPfr0r3Hw54d0/wtoVtpOkQrDb26BRgYLHux9z1rM8C+D9L8C+GYNK04qzKoM07Y3Sv3Jro3uIY1LSSoqgZJLYxQA9mVFLOQqgZJPaqWl63putRyPpV5FdpG212iOQD6V5H8ZvjTpOi+HbnR/Dl9DeapcqY2aFw4gHckjv7Vsfs9aN/ZXwps52zvvmM5LDqDyP50AZ3xEsk0P42eEPEzqRDO/2OWTHCknjP/fVexAhlz1BFc5488JReNPCdzpbuYpjh7eZTgxSDlWH44qHwB4im1rQfsuqp5GsaeRBewEYIcfxAehxwfagCTR/h74a0LxFda5pumxRahdMzySgDOW+9j0zk1a8UeD9E8Y2cNt4gskuooH8xAw6GtyigCtp2n2mk6fBY6dAlva26BIoo1wqKOgAqzRRQAUUUUAFc74n8CeHvGE1rL4gsI7trVsx7x+h9q6KigCAWNsNPFiIUFsI/LEQHyhcYxisXwv4G8PeDvP8A+Ef06K1a4OZHVRub2z6V0NFABXj/AMZbUeJfF3hHwxEN7S3TXEwHZF28/rXrN7e2+nWM13eyrDBCheSRjgKAMk1wPgbSp9e8VX3jvVYmjNyv2fTYZAQY4Ac7sHuxP6CgD0ONBHGqL0UYFOoooAKKKbJIkMbSSsERRlmY4AHrQBDf39tpljLeX0yQW8Klnkc4AFfPry6j+0F44NuI5bXwdpcpbeeBcsDj9f5VJ4t8R6h8aPGZ8G+FpGj0C0bdf3yA7X56Z6euB359K9v8OaFpfhbQrbSdJjSK3t0CjGMse5PuaAL2nafbaVpsFjYxLFbwIERFGAAKluLiK1t3nuZFjijXc7scBR602a8traJpbieOKNBlmdgABXz58dfjRp82iyeGfCV3HdyXJ23NzC25VT+6pHBJOKAPftM1Wx1mzF1pd1HdQEkCSM5BIryTxfYL4e/aD8O+ImG2DUY2tJHxxuGCB/Ou1+FGiDQfhfoloUCu1sJnx3L/ADfyNWfiD4UHi3wu9rExjvLeRbm0kBwVlXOP5kUAdO7rHGzuwVVGSxPAFYlz4u0ldNa5sLyG9ct5cUUDhmd/7oFUvBuvL4q8MNb6nF5WoQKbXUbZuCsgG1uOuDyR7Gm+Fvht4a8H3U1zo1lsmlYsWd2baT6AnA/CgCfwd4Yj0GC9vJo0GpatcNd3rL03sc7QfQZrpKKKACiiigAooooAzZPEWjQ3VxbS6napPbLumjMo3IOvIrB0fR4df8VjxhdwMpiiaDT1dcERkglyOxO0Y79aV/hf4Wk8YT+JJbDffz4MhaRirEADJXODwBXXABVAUYA4AFAC0UVzvjfxEfD3h93tozPf3J8mzt1+9JIfQegoA8+8L2X/AAkn7RXiDXR81ppMItI2x/y2GAw/LNex1yvw88KN4U8LpBdsJdQuWNxeS/35W5b9Sa6qgAooooAKZD9w/wC838zT6ZD9w/7zfzNABB/x7x/7o/lT6ZB/x7x/7o/lT6ACiiigAooooAKKKKACkYBlKsMgjBFLRQB8k+JPBlzoX7QsOj27yLp+qX6XqIDgH5hIR+BGPwr60jXZGq+gArPvPD+lahqttqV5ZQy3lr/qZmUFk+hrSoA82+MOq+MItB/srwPo1zd3F2CJbqMcRJ3A56n/ABr5ntfhd8T7KeSa00HUoZZfvumAW+vNfcNFAHxT/wAIF8Xf+gZrH/ff/wBeoLn4a/FW7AFzo+rSY6bn/wDr19u0UAfF/hn4A+Ntb1aNNU099Mtt482a46474HevsPR9KttD0Wz0uwXbbWcKwxA9lUYFXaKACo0t4o5nlSNVkkxvYDlsetSUUAFFFFABRRRQAUUUUAFFFFABRRRQAyaGO4haKZFeNxhlYZBFORFRAqAKqjAAHSlooAKKKKACvHPjjd+ONVsf+Ee8GaJey28y/wClXcYGGH91efzr2OigD4fs/hh8UdPDCx0PU4A5y3lkDP61a/4QL4u/9AzWP++//r19rUUAfEFz8Mfildtm50XVZTjHzP8A/XrofAH7P/inUfEVrceJLJtOsIZBJIJT874OcAV9fUUAMghS3t44YhhI0CKPQAYFPoooAjjgiikeSONVeQ5dgMFvrUlFFABRRRQAUUUUAFFFFABRRRQAVHJbwzSRvLGrtGcoWGdp9qkooAKKKKACiiigApkP3D/vN/M0+mQ/cP8AvN/M0ANVJURVDphRgfIf8adiX++n/fB/xp9FADMS/wB9P++D/jRiX++n/fB/xp9FADMS/wB9P++D/jRiX++n/fB/xp9FADMS/wB9P++D/jRiX++n/fB/xp9FADMS/wB9P++D/jRiX++n/fB/xp9FADMS/wB9P++D/jRiX++n/fB/xp9FADMS/wB9P++D/jRiX++n/fB/xp9FADMS/wB9P++D/jRiX++n/fB/xp9FADMS/wB9P++D/jRiX++n/fB/xp9FADMS/wB9P++D/jRiX++n/fB/xp9FADMS/wB9P++D/jRiX++n/fB/xp9FADMS/wB9P++D/jRiX++n/fB/xp9FADMS/wB9P++D/jRiX++n/fB/xp9FADMS/wB9P++D/jRiX++n/fB/xp9FADMS/wB9P++D/jRiX++n/fB/xp9FADMS/wB9P++D/jRiX++n/fB/xp9FADMS/wB9P++D/jRiX++n/fB/xp9FADMS/wB9P++D/jRiX++n/fB/xp9FADMS/wB9P++D/jRiX++n/fB/xp9FADMS/wB9P++D/jRiX++n/fB/xp9FADMS/wB9P++D/jRiX++n/fB/xp9FADMS/wB9P++D/jRiX++n/fB/xp9FADMS/wB9P++D/jRiX++n/fB/xp9FADMS/wB9P++D/jRiX++n/fB/xp9FADMS/wB9P++D/jRiX++n/fB/xp9FADMS/wB9P++D/jRiX++n/fB/xp9FADMS/wB9P++D/jRiX++n/fB/xp9FADMS/wB9P++D/jRiX++n/fB/xp9FADMS/wB9P++D/jRiX++n/fB/xp9FADMS/wB9P++D/jSxqUXBOTkknGOpzTqKACiiigAooooAKKKKACiiigAooooAKKKKACiiigAooooAKKKKACiiigAooooAKKKKACiiigAooooAKKKKACiiigAooooAKKKKACiiigAooooAKKKKACiiigAooooAKKKKACiiigAooooAKKKKACiiigAooooAKKKKAP/Z)"
      ],
      "metadata": {
        "id": "Pcw4mSLAtGNV"
      }
    },
    {
      "cell_type": "code",
      "execution_count": null,
      "metadata": {
        "id": "xcvNXAwxs3Ek"
      },
      "outputs": [],
      "source": [
        "# 14.- matriz de correlacion"
      ]
    },
    {
      "cell_type": "code",
      "execution_count": null,
      "metadata": {
        "id": "W4Skb1mXs3Ek"
      },
      "outputs": [],
      "source": [
        "# 15.- calculando la correlación entre dos vectores.\n"
      ]
    },
    {
      "cell_type": "code",
      "execution_count": null,
      "metadata": {
        "id": "vO3nrbzSs3El",
        "outputId": "0ec938d7-96c3-47ea-f9c6-c515c892d1be",
        "colab": {
          "base_uri": "https://localhost:8080/",
          "height": 206
        }
      },
      "outputs": [
        {
          "output_type": "execute_result",
          "data": {
            "text/plain": [
              "       col1      col2      col3      col4\n",
              "a  0.460380 -1.089425 -0.626815 -0.633290\n",
              "b -0.107403 -0.881381 -0.344666 -0.283202\n",
              "c  0.940512  0.866938  1.209479 -0.168941\n",
              "d -0.127902 -0.580999 -0.461884 -0.181483\n",
              "e -0.769594 -1.374146  1.376969 -0.180405"
            ],
            "text/html": [
              "\n",
              "  <div id=\"df-956a06f8-e94d-4b1a-b383-315ec86dddcd\" class=\"colab-df-container\">\n",
              "    <div>\n",
              "<style scoped>\n",
              "    .dataframe tbody tr th:only-of-type {\n",
              "        vertical-align: middle;\n",
              "    }\n",
              "\n",
              "    .dataframe tbody tr th {\n",
              "        vertical-align: top;\n",
              "    }\n",
              "\n",
              "    .dataframe thead th {\n",
              "        text-align: right;\n",
              "    }\n",
              "</style>\n",
              "<table border=\"1\" class=\"dataframe\">\n",
              "  <thead>\n",
              "    <tr style=\"text-align: right;\">\n",
              "      <th></th>\n",
              "      <th>col1</th>\n",
              "      <th>col2</th>\n",
              "      <th>col3</th>\n",
              "      <th>col4</th>\n",
              "    </tr>\n",
              "  </thead>\n",
              "  <tbody>\n",
              "    <tr>\n",
              "      <th>a</th>\n",
              "      <td>0.460380</td>\n",
              "      <td>-1.089425</td>\n",
              "      <td>-0.626815</td>\n",
              "      <td>-0.633290</td>\n",
              "    </tr>\n",
              "    <tr>\n",
              "      <th>b</th>\n",
              "      <td>-0.107403</td>\n",
              "      <td>-0.881381</td>\n",
              "      <td>-0.344666</td>\n",
              "      <td>-0.283202</td>\n",
              "    </tr>\n",
              "    <tr>\n",
              "      <th>c</th>\n",
              "      <td>0.940512</td>\n",
              "      <td>0.866938</td>\n",
              "      <td>1.209479</td>\n",
              "      <td>-0.168941</td>\n",
              "    </tr>\n",
              "    <tr>\n",
              "      <th>d</th>\n",
              "      <td>-0.127902</td>\n",
              "      <td>-0.580999</td>\n",
              "      <td>-0.461884</td>\n",
              "      <td>-0.181483</td>\n",
              "    </tr>\n",
              "    <tr>\n",
              "      <th>e</th>\n",
              "      <td>-0.769594</td>\n",
              "      <td>-1.374146</td>\n",
              "      <td>1.376969</td>\n",
              "      <td>-0.180405</td>\n",
              "    </tr>\n",
              "  </tbody>\n",
              "</table>\n",
              "</div>\n",
              "    <div class=\"colab-df-buttons\">\n",
              "\n",
              "  <div class=\"colab-df-container\">\n",
              "    <button class=\"colab-df-convert\" onclick=\"convertToInteractive('df-956a06f8-e94d-4b1a-b383-315ec86dddcd')\"\n",
              "            title=\"Convert this dataframe to an interactive table.\"\n",
              "            style=\"display:none;\">\n",
              "\n",
              "  <svg xmlns=\"http://www.w3.org/2000/svg\" height=\"24px\" viewBox=\"0 -960 960 960\">\n",
              "    <path d=\"M120-120v-720h720v720H120Zm60-500h600v-160H180v160Zm220 220h160v-160H400v160Zm0 220h160v-160H400v160ZM180-400h160v-160H180v160Zm440 0h160v-160H620v160ZM180-180h160v-160H180v160Zm440 0h160v-160H620v160Z\"/>\n",
              "  </svg>\n",
              "    </button>\n",
              "\n",
              "  <style>\n",
              "    .colab-df-container {\n",
              "      display:flex;\n",
              "      gap: 12px;\n",
              "    }\n",
              "\n",
              "    .colab-df-convert {\n",
              "      background-color: #E8F0FE;\n",
              "      border: none;\n",
              "      border-radius: 50%;\n",
              "      cursor: pointer;\n",
              "      display: none;\n",
              "      fill: #1967D2;\n",
              "      height: 32px;\n",
              "      padding: 0 0 0 0;\n",
              "      width: 32px;\n",
              "    }\n",
              "\n",
              "    .colab-df-convert:hover {\n",
              "      background-color: #E2EBFA;\n",
              "      box-shadow: 0px 1px 2px rgba(60, 64, 67, 0.3), 0px 1px 3px 1px rgba(60, 64, 67, 0.15);\n",
              "      fill: #174EA6;\n",
              "    }\n",
              "\n",
              "    .colab-df-buttons div {\n",
              "      margin-bottom: 4px;\n",
              "    }\n",
              "\n",
              "    [theme=dark] .colab-df-convert {\n",
              "      background-color: #3B4455;\n",
              "      fill: #D2E3FC;\n",
              "    }\n",
              "\n",
              "    [theme=dark] .colab-df-convert:hover {\n",
              "      background-color: #434B5C;\n",
              "      box-shadow: 0px 1px 3px 1px rgba(0, 0, 0, 0.15);\n",
              "      filter: drop-shadow(0px 1px 2px rgba(0, 0, 0, 0.3));\n",
              "      fill: #FFFFFF;\n",
              "    }\n",
              "  </style>\n",
              "\n",
              "    <script>\n",
              "      const buttonEl =\n",
              "        document.querySelector('#df-956a06f8-e94d-4b1a-b383-315ec86dddcd button.colab-df-convert');\n",
              "      buttonEl.style.display =\n",
              "        google.colab.kernel.accessAllowed ? 'block' : 'none';\n",
              "\n",
              "      async function convertToInteractive(key) {\n",
              "        const element = document.querySelector('#df-956a06f8-e94d-4b1a-b383-315ec86dddcd');\n",
              "        const dataTable =\n",
              "          await google.colab.kernel.invokeFunction('convertToInteractive',\n",
              "                                                    [key], {});\n",
              "        if (!dataTable) return;\n",
              "\n",
              "        const docLinkHtml = 'Like what you see? Visit the ' +\n",
              "          '<a target=\"_blank\" href=https://colab.research.google.com/notebooks/data_table.ipynb>data table notebook</a>'\n",
              "          + ' to learn more about interactive tables.';\n",
              "        element.innerHTML = '';\n",
              "        dataTable['output_type'] = 'display_data';\n",
              "        await google.colab.output.renderOutput(dataTable, element);\n",
              "        const docLink = document.createElement('div');\n",
              "        docLink.innerHTML = docLinkHtml;\n",
              "        element.appendChild(docLink);\n",
              "      }\n",
              "    </script>\n",
              "  </div>\n",
              "\n",
              "\n",
              "<div id=\"df-ab7725dd-45c6-499b-9001-81cc8cbea74e\">\n",
              "  <button class=\"colab-df-quickchart\" onclick=\"quickchart('df-ab7725dd-45c6-499b-9001-81cc8cbea74e')\"\n",
              "            title=\"Suggest charts.\"\n",
              "            style=\"display:none;\">\n",
              "\n",
              "<svg xmlns=\"http://www.w3.org/2000/svg\" height=\"24px\"viewBox=\"0 0 24 24\"\n",
              "     width=\"24px\">\n",
              "    <g>\n",
              "        <path d=\"M19 3H5c-1.1 0-2 .9-2 2v14c0 1.1.9 2 2 2h14c1.1 0 2-.9 2-2V5c0-1.1-.9-2-2-2zM9 17H7v-7h2v7zm4 0h-2V7h2v10zm4 0h-2v-4h2v4z\"/>\n",
              "    </g>\n",
              "</svg>\n",
              "  </button>\n",
              "\n",
              "<style>\n",
              "  .colab-df-quickchart {\n",
              "      --bg-color: #E8F0FE;\n",
              "      --fill-color: #1967D2;\n",
              "      --hover-bg-color: #E2EBFA;\n",
              "      --hover-fill-color: #174EA6;\n",
              "      --disabled-fill-color: #AAA;\n",
              "      --disabled-bg-color: #DDD;\n",
              "  }\n",
              "\n",
              "  [theme=dark] .colab-df-quickchart {\n",
              "      --bg-color: #3B4455;\n",
              "      --fill-color: #D2E3FC;\n",
              "      --hover-bg-color: #434B5C;\n",
              "      --hover-fill-color: #FFFFFF;\n",
              "      --disabled-bg-color: #3B4455;\n",
              "      --disabled-fill-color: #666;\n",
              "  }\n",
              "\n",
              "  .colab-df-quickchart {\n",
              "    background-color: var(--bg-color);\n",
              "    border: none;\n",
              "    border-radius: 50%;\n",
              "    cursor: pointer;\n",
              "    display: none;\n",
              "    fill: var(--fill-color);\n",
              "    height: 32px;\n",
              "    padding: 0;\n",
              "    width: 32px;\n",
              "  }\n",
              "\n",
              "  .colab-df-quickchart:hover {\n",
              "    background-color: var(--hover-bg-color);\n",
              "    box-shadow: 0 1px 2px rgba(60, 64, 67, 0.3), 0 1px 3px 1px rgba(60, 64, 67, 0.15);\n",
              "    fill: var(--button-hover-fill-color);\n",
              "  }\n",
              "\n",
              "  .colab-df-quickchart-complete:disabled,\n",
              "  .colab-df-quickchart-complete:disabled:hover {\n",
              "    background-color: var(--disabled-bg-color);\n",
              "    fill: var(--disabled-fill-color);\n",
              "    box-shadow: none;\n",
              "  }\n",
              "\n",
              "  .colab-df-spinner {\n",
              "    border: 2px solid var(--fill-color);\n",
              "    border-color: transparent;\n",
              "    border-bottom-color: var(--fill-color);\n",
              "    animation:\n",
              "      spin 1s steps(1) infinite;\n",
              "  }\n",
              "\n",
              "  @keyframes spin {\n",
              "    0% {\n",
              "      border-color: transparent;\n",
              "      border-bottom-color: var(--fill-color);\n",
              "      border-left-color: var(--fill-color);\n",
              "    }\n",
              "    20% {\n",
              "      border-color: transparent;\n",
              "      border-left-color: var(--fill-color);\n",
              "      border-top-color: var(--fill-color);\n",
              "    }\n",
              "    30% {\n",
              "      border-color: transparent;\n",
              "      border-left-color: var(--fill-color);\n",
              "      border-top-color: var(--fill-color);\n",
              "      border-right-color: var(--fill-color);\n",
              "    }\n",
              "    40% {\n",
              "      border-color: transparent;\n",
              "      border-right-color: var(--fill-color);\n",
              "      border-top-color: var(--fill-color);\n",
              "    }\n",
              "    60% {\n",
              "      border-color: transparent;\n",
              "      border-right-color: var(--fill-color);\n",
              "    }\n",
              "    80% {\n",
              "      border-color: transparent;\n",
              "      border-right-color: var(--fill-color);\n",
              "      border-bottom-color: var(--fill-color);\n",
              "    }\n",
              "    90% {\n",
              "      border-color: transparent;\n",
              "      border-bottom-color: var(--fill-color);\n",
              "    }\n",
              "  }\n",
              "</style>\n",
              "\n",
              "  <script>\n",
              "    async function quickchart(key) {\n",
              "      const quickchartButtonEl =\n",
              "        document.querySelector('#' + key + ' button');\n",
              "      quickchartButtonEl.disabled = true;  // To prevent multiple clicks.\n",
              "      quickchartButtonEl.classList.add('colab-df-spinner');\n",
              "      try {\n",
              "        const charts = await google.colab.kernel.invokeFunction(\n",
              "            'suggestCharts', [key], {});\n",
              "      } catch (error) {\n",
              "        console.error('Error during call to suggestCharts:', error);\n",
              "      }\n",
              "      quickchartButtonEl.classList.remove('colab-df-spinner');\n",
              "      quickchartButtonEl.classList.add('colab-df-quickchart-complete');\n",
              "    }\n",
              "    (() => {\n",
              "      let quickchartButtonEl =\n",
              "        document.querySelector('#df-ab7725dd-45c6-499b-9001-81cc8cbea74e button');\n",
              "      quickchartButtonEl.style.display =\n",
              "        google.colab.kernel.accessAllowed ? 'block' : 'none';\n",
              "    })();\n",
              "  </script>\n",
              "</div>\n",
              "    </div>\n",
              "  </div>\n"
            ]
          },
          "metadata": {},
          "execution_count": 32
        }
      ],
      "source": [
        "# 16.- usando pandas\n",
        "dataframe = pd.DataFrame(datos, index=['a', 'b', 'c', 'd', 'e'],\n",
        "                        columns=['col1', 'col2', 'col3', 'col4'])\n",
        "dataframe"
      ]
    },
    {
      "cell_type": "code",
      "execution_count": null,
      "metadata": {
        "id": "ScAFhi1ds3Em"
      },
      "outputs": [],
      "source": [
        "# 17.- resumen estadistadistico con pandas\n"
      ]
    },
    {
      "cell_type": "code",
      "execution_count": null,
      "metadata": {
        "id": "wgjaW_T_s3Em"
      },
      "outputs": [],
      "source": [
        "# 18.- sumando las columnas"
      ]
    },
    {
      "cell_type": "code",
      "execution_count": null,
      "metadata": {
        "id": "5kP9J05Ws3Em"
      },
      "outputs": [],
      "source": [
        "# 19.- sumando filas\n"
      ]
    },
    {
      "cell_type": "code",
      "execution_count": null,
      "metadata": {
        "id": "JWYGp5oZs3En"
      },
      "outputs": [],
      "source": [
        " # 20.- acumulados\n"
      ]
    },
    {
      "cell_type": "code",
      "execution_count": null,
      "metadata": {
        "id": "MSz8YX2js3En"
      },
      "outputs": [],
      "source": [
        "# 21.- media aritmetica de cada columna con pandas\n"
      ]
    },
    {
      "cell_type": "code",
      "execution_count": null,
      "metadata": {
        "id": "TWrSfO63s3En"
      },
      "outputs": [],
      "source": [
        "# 22.- media aritmetica de cada fila con pandas"
      ]
    },
    {
      "cell_type": "markdown",
      "metadata": {
        "id": "kfzojrCps3Eo"
      },
      "source": [
        "## Histogramas y Distribuciones\n",
        "\n",
        "Muchas veces los indicadores de la *[estadística descriptiva](https://es.wikipedia.org/wiki/Estad%C3%ADstica_descriptiva)* no nos proporcionan una imagen clara de nuestros *[datos](https://es.wikipedia.org/wiki/Dato)*.  Por esta razón, siempre es útil complementarlos con gráficos de las distribuciones de los *[datos](https://es.wikipedia.org/wiki/Dato)*, que describan con qué frecuencia aparece cada valor. La representación más común de una distribución es un [histograma](https://es.wikipedia.org/wiki/Histograma), que es un gráfico que muestra la frecuencia o probabilidad de cada valor. El [histograma](https://es.wikipedia.org/wiki/Histograma) muestra las frecuencias como un gráfico de barras que indica cuan frecuente un determinado valor ocurre en el [conjunto de datos](https://es.wikipedia.org/wiki/Conjunto_de_datos). El eje horizontal representa los valores del [conjunto de datos](https://es.wikipedia.org/wiki/Conjunto_de_datos) y el eje vertical representa la frecuencia con que esos valores ocurren.\n",
        "\n",
        "Las distribuciones se pueden clasificar en dos grandes grupos:\n",
        "\n",
        "1. Las **[distribuciones continuas](https://es.wikipedia.org/wiki/Distribuci%C3%B3n_de_probabilidad_continua)**, que son aquellas que presentan un número infinito de posibles soluciones. Dentro de este grupo vamos a encontrar a las distribuciones:\n",
        "    * [normal](https://es.wikipedia.org/wiki/Distribuci%C3%B3n_normal),\n",
        "    * [gamma](https://es.wikipedia.org/wiki/Distribuci%C3%B3n_gamma),\n",
        "    * [chi cuadrado](https://es.wikipedia.org/wiki/Distribuci%C3%B3n_%CF%87%C2%B2),\n",
        "    * [t de Student](https://es.wikipedia.org/wiki/Distribuci%C3%B3n_t_de_Student),\n",
        "    * [pareto](https://es.wikipedia.org/wiki/Distribuci%C3%B3n_de_Pareto),\n",
        "    * entre otras\n",
        "\n",
        "2. Las **distribuciones discretas**, que son aquellas en las que la variable puede tomar un número determinado de valores. Los principales exponentes de este grupo son las distribuciones:\n",
        "    * [poisson](https://es.wikipedia.org/wiki/Distribuci%C3%B3n_de_Poisson),\n",
        "    * [binomial](https://es.wikipedia.org/wiki/Distribuci%C3%B3n_binomial),\n",
        "    * [hipergeométrica](https://es.wikipedia.org/wiki/Distribuci%C3%B3n_hipergeom%C3%A9trica),\n",
        "    * [bernoulli](https://es.wikipedia.org/wiki/Distribuci%C3%B3n_de_Bernoulli)\n",
        "    * entre otras\n",
        "\n",
        "Veamos algunos ejemplos graficados con la ayuda de [Python](https://python.org/)."
      ]
    },
    {
      "cell_type": "markdown",
      "metadata": {
        "id": "fv_aL9_as3Eo"
      },
      "source": [
        "### Distribución normal\n",
        "\n",
        "La [distribución normal](https://es.wikipedia.org/wiki/Distribuci%C3%B3n_normal) es una de las principales distribuciones, ya que es la que con más frecuencia aparece aproximada en los fenómenos reales. Tiene una forma acampanada y es simétrica respecto de un determinado parámetro estadístico. Con la ayuda de [Python](https://python.org/) la podemos graficar de la siguiente manera:"
      ]
    },
    {
      "cell_type": "code",
      "execution_count": null,
      "metadata": {
        "id": "qUsjIxPSs3Eo"
      },
      "outputs": [],
      "source": [
        "# Graficos embebidos.\n",
        "%matplotlib inline"
      ]
    },
    {
      "cell_type": "code",
      "execution_count": null,
      "metadata": {
        "id": "-Q1llEi_s3Eo"
      },
      "outputs": [],
      "source": [
        "import matplotlib.pyplot as plt # importando matplotlib\n",
        "import seaborn as sns # importando seaborn\n",
        "\n",
        "# parametros esteticos de seaborn\n",
        "sns.set_palette(\"deep\", desat=.6)\n",
        "sns.set_context(rc={\"figure.figsize\": (8, 4)})"
      ]
    },
    {
      "cell_type": "code",
      "execution_count": null,
      "metadata": {
        "id": "QSy5MgeNs3Et"
      },
      "outputs": [],
      "source": [
        "mu, sigma = 0, 0.1 # media y desvio estandar\n",
        "s = np.random.normal(mu, sigma, 1000) #creando muestra de datos"
      ]
    },
    {
      "cell_type": "code",
      "execution_count": null,
      "metadata": {
        "id": "USvyv733s3Eu",
        "outputId": "225db629-4de2-4398-de56-add99c51e00c",
        "colab": {
          "base_uri": "https://localhost:8080/",
          "height": 430
        }
      },
      "outputs": [
        {
          "output_type": "display_data",
          "data": {
            "text/plain": [
              "<Figure size 640x480 with 1 Axes>"
            ],
            "image/png": "[encoded data removed]"
          },
          "metadata": {}
        }
      ],
      "source": [
        "# histograma de distribución normal.\n",
        "cuenta, cajas, ignorar = plt.hist(s, 30)\n",
        "normal = plt.plot(cajas, 1/(sigma * np.sqrt(2 * np.pi)) *\n",
        "         np.exp( - (cajas - mu)**2 / (2 * sigma**2) ),\n",
        "         linewidth=2, color='r')"
      ]
    },
    {
      "cell_type": "markdown",
      "metadata": {
        "id": "hFrPCBnAs3Ev"
      },
      "source": [
        "## Cuartiles y diagramas de cajas\n",
        "\n",
        "Los **[cuartiles](https://es.wikipedia.org/wiki/Cuartil)** son los tres valores de la variable estadística que dividen a un [conjunto de datos](https://es.wikipedia.org/wiki/Conjunto_de_datos) ordenados en cuatro partes iguales. Q1, Q2 y Q3 determinan los valores correspondientes al 25%, al 50% y al 75% de los datos. Q2 coincide con la <a href=\"https://es.wikipedia.org/wiki/Mediana_(estad%C3%ADstica)\">mediana</a>.\n",
        "\n",
        "Los [diagramas de cajas](https://es.wikipedia.org/wiki/Diagrama_de_caja) son una presentación visual que describe varias características importantes al mismo tiempo, tales como la dispersión y simetría. Para su realización se representan los tres cuartiles y los valores mínimo y máximo de los datos, sobre un rectángulo, alineado horizontal o verticalmente. Estos gráficos nos proporcionan abundante información y son sumamente útiles para encontrar [valores atípicos](https://es.wikipedia.org/wiki/Valor_at%C3%ADpico) y comparar dos [conjunto de datos](https://es.wikipedia.org/wiki/Conjunto_de_datos).\n",
        "\n",
        "\n",
        "<img alt=\"diagrama de cajas\" title=\"Diagrama de cajas\" src=\"https://relopezbriega.github.io/images/diagCajas.png\" width=\"600\">"
      ]
    },
    {
      "cell_type": "code",
      "execution_count": null,
      "metadata": {
        "id": "6wsIE-eUs3Ew",
        "outputId": "4547851b-aef3-4a5d-de1c-3a0e038968cd",
        "colab": {
          "base_uri": "https://localhost:8080/",
          "height": 522
        }
      },
      "outputs": [
        {
          "output_type": "display_data",
          "data": {
            "text/plain": [
              "<Figure size 900x600 with 1 Axes>"
            ],
            "image/png": "[encoded data removed]"
          },
          "metadata": {}
        }
      ],
      "source": [
        "# Ejemplo de grafico de cajas en python\n",
        "\n",
        "datos_1 = np.random.normal(100, 10, 200)\n",
        "datos_2 = np.random.normal(80, 30, 200)\n",
        "datos_3 = np.random.normal(90, 20, 200)\n",
        "datos_4 = np.random.normal(70, 25, 200)\n",
        "\n",
        "datos_graf = [datos_1, datos_2, datos_3, datos_4]\n",
        "\n",
        "# Creando el objeto figura\n",
        "fig = plt.figure(1, figsize=(9, 6))\n",
        "\n",
        "# Creando el subgrafico\n",
        "ax = fig.add_subplot(111)\n",
        "\n",
        "# creando el grafico de cajas\n",
        "bp = ax.boxplot(datos_graf)\n",
        "\n",
        "# visualizar mas facile los atípicos\n",
        "for flier in bp['fliers']:\n",
        "    flier.set(marker='o', color='red', alpha=0.5)\n",
        "# los puntos aislados son valores atípicos"
      ]
    }
  ],
  "metadata": {
    "kernelspec": {
      "display_name": "Python 3 (ipykernel)",
      "language": "python",
      "name": "python3"
    },
    "language_info": {
      "codemirror_mode": {
        "name": "ipython",
        "version": 3
      },
      "file_extension": ".py",
      "mimetype": "text/x-python",
      "name": "python",
      "nbconvert_exporter": "python",
      "pygments_lexer": "ipython3",
      "version": "3.7.12"
    },
    "colab": {
      "provenance": []
    }
  },
  "nbformat": 4,
  "nbformat_minor": 0
}