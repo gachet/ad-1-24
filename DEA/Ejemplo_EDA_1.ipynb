{
  "cells": [
    {
      "cell_type": "markdown",
      "metadata": {
        "id": "TOvht7vqQGdR"
      },
      "source": [
        "# Análisis Exploratorio"
      ]
    },
    {
      "cell_type": "code",
      "source": [],
      "metadata": {
        "id": "OzbvCmhbGVdK"
      },
      "execution_count": null,
      "outputs": []
    },
    {
      "cell_type": "markdown",
      "metadata": {
        "id": "8hg00soETQ3z"
      },
      "source": [
        "**¿Qué es el análisis exploratorio de datos?**\n",
        "\n",
        "El análisis exploratorio de datos (*EDA, Exploratory Data Analysis*) es entender los datos resumiendo sus principales características, generalmente utilizando algún tipo de representación gráfica. Este es un paso muy importante para llegar a la modelización de los datos que luego se puede utilizar para aplicar Machine learning para algún tipo de análisis predictivo. Explorar los datos no es tarea sencilla, suele llevar una cantidad de tiempo considerable. A través del análisis exploratorio podemos definir claramente el problema."
      ]
    },
    {
      "cell_type": "markdown",
      "metadata": {
        "id": "ZfelutoyTS25"
      },
      "source": [
        "**¿Cómo realizamos el análisis exploratorio?**\n",
        "\n",
        "Bueno, esta es LA pregunta. Y lamentablemente como suele suceder en estos casos la respuesta es: Depende. Básicamente porque depende del conjunto de datos que se está analizando. No existe una receta que se aplique para todos los casos. La idea fundamental es aplicar diferentes herramientas y estrategias que permitan tener una mejor idea. Puede ser un proceso iterativo en donde cada ciclo hace que uno tenga mejor entendimiento sobre los datos."
      ]
    },
    {
      "cell_type": "markdown",
      "metadata": {
        "id": "n3VfNkBBw15s"
      },
      "source": [
        "**¿Qué datos vamos a explorar?**\n",
        "\n",
        "Vamos a analizar datos sobre autos. El dataset tiene más de 10k registros con más de 10 columnas que detallan características de los autos como por ejemplo: el tipo de combustible que usan, la potencia del motor, la caja de trasmisión que usan, el consumo en ciudad y en ruta y mucho más. En este ejercicio vamos a explorar los datos y entenderlos."
      ]
    },
    {
      "cell_type": "markdown",
      "metadata": {
        "id": "FPSqz1wzTXvz"
      },
      "source": [
        "## 1. Importamos los paquetes necesarios"
      ]
    },
    {
      "cell_type": "markdown",
      "metadata": {
        "id": "9eLMx1Ebwa92"
      },
      "source": [
        "A continuación tenemos los paquetes que vamos a utilizar en este ejercicio. Esto lo hacemos siempre al principio."
      ]
    },
    {
      "cell_type": "code",
      "execution_count": null,
      "metadata": {
        "id": "GGyDovL2QDLa"
      },
      "outputs": [],
      "source": [
        "import pandas as pd\n",
        "import numpy as np\n",
        "import seaborn as sns                       #visualización\n",
        "import matplotlib.pyplot as plt             #visualización\n",
        "%matplotlib inline\n"
      ]
    },
    {
      "cell_type": "markdown",
      "metadata": {
        "id": "8Y3Z2DbKTfJt"
      },
      "source": [
        "## 2. Cargamos los \"datos\" en un \"dataframe\""
      ]
    },
    {
      "cell_type": "markdown",
      "metadata": {
        "id": "ko5zGJFCySaz"
      },
      "source": [
        "El dataset que usaremos viene en un formato de archivo q CSV (*comma separated values*)."
      ]
    },
    {
      "cell_type": "markdown",
      "metadata": {
        "id": "A3GomLMzDL2Q"
      },
      "source": [
        "Para leer el archivo tenemos que usar el método `read_csv` que viene con Pandas. Como argumento le tenemos que pasar el nombre del CSV (incluyendo su ubicación), en este caso, le pasamos el enlace de un fichero residente en Google Drive  se llama( `car-data.csv`). Como a Pandas lo importamos con el nombre `pd` tenemos que usar la siguiente sintaxis:"
      ]
    },
    {
      "cell_type": "code",
      "execution_count": null,
      "metadata": {
        "id": "0oVZnezwQ159"
      },
      "outputs": [],
      "source": [
        "df = pd.read_csv(\"https://drive.google.com/uc?id=1ZxgvOaZPwOrYSJG10qDveRRIDB0BisTm\")"
      ]
    },
    {
      "cell_type": "code",
      "execution_count": null,
      "metadata": {
        "id": "dw0vLaCcDL2R",
        "outputId": "580f216e-8411-41aa-c9bb-da6144e5e6e8",
        "colab": {
          "base_uri": "https://localhost:8080/",
          "height": 397
        }
      },
      "outputs": [
        {
          "output_type": "execute_result",
          "data": {
            "text/plain": [
              "  Make       Model  Year             Engine Fuel Type  Engine HP  \\\n",
              "0  BMW  1 Series M  2011  premium unleaded (required)      335.0   \n",
              "1  BMW    1 Series  2011  premium unleaded (required)      300.0   \n",
              "2  BMW    1 Series  2011  premium unleaded (required)      300.0   \n",
              "3  BMW    1 Series  2011  premium unleaded (required)      230.0   \n",
              "4  BMW    1 Series  2011  premium unleaded (required)      230.0   \n",
              "\n",
              "   Engine Cylinders Transmission Type     Driven_Wheels  Number of Doors  \\\n",
              "0               6.0            MANUAL  rear wheel drive              2.0   \n",
              "1               6.0            MANUAL  rear wheel drive              2.0   \n",
              "2               6.0            MANUAL  rear wheel drive              2.0   \n",
              "3               6.0            MANUAL  rear wheel drive              2.0   \n",
              "4               6.0            MANUAL  rear wheel drive              2.0   \n",
              "\n",
              "                         Market Category Vehicle Size Vehicle Style  \\\n",
              "0  Factory Tuner,Luxury,High-Performance      Compact         Coupe   \n",
              "1                     Luxury,Performance      Compact   Convertible   \n",
              "2                Luxury,High-Performance      Compact         Coupe   \n",
              "3                     Luxury,Performance      Compact         Coupe   \n",
              "4                                 Luxury      Compact   Convertible   \n",
              "\n",
              "   highway MPG  city mpg  Popularity   MSRP  \n",
              "0           26        19        3916  46135  \n",
              "1           28        19        3916  40650  \n",
              "2           28        20        3916  36350  \n",
              "3           28        18        3916  29450  \n",
              "4           28        18        3916  34500  "
            ],
            "text/html": [
              "\n",
              "  <div id=\"df-70b87a4c-043a-44b6-b599-a8b636c05c21\" class=\"colab-df-container\">\n",
              "    <div>\n",
              "<style scoped>\n",
              "    .dataframe tbody tr th:only-of-type {\n",
              "        vertical-align: middle;\n",
              "    }\n",
              "\n",
              "    .dataframe tbody tr th {\n",
              "        vertical-align: top;\n",
              "    }\n",
              "\n",
              "    .dataframe thead th {\n",
              "        text-align: right;\n",
              "    }\n",
              "</style>\n",
              "<table border=\"1\" class=\"dataframe\">\n",
              "  <thead>\n",
              "    <tr style=\"text-align: right;\">\n",
              "      <th></th>\n",
              "      <th>Make</th>\n",
              "      <th>Model</th>\n",
              "      <th>Year</th>\n",
              "      <th>Engine Fuel Type</th>\n",
              "      <th>Engine HP</th>\n",
              "      <th>Engine Cylinders</th>\n",
              "      <th>Transmission Type</th>\n",
              "      <th>Driven_Wheels</th>\n",
              "      <th>Number of Doors</th>\n",
              "      <th>Market Category</th>\n",
              "      <th>Vehicle Size</th>\n",
              "      <th>Vehicle Style</th>\n",
              "      <th>highway MPG</th>\n",
              "      <th>city mpg</th>\n",
              "      <th>Popularity</th>\n",
              "      <th>MSRP</th>\n",
              "    </tr>\n",
              "  </thead>\n",
              "  <tbody>\n",
              "    <tr>\n",
              "      <th>0</th>\n",
              "      <td>BMW</td>\n",
              "      <td>1 Series M</td>\n",
              "      <td>2011</td>\n",
              "      <td>premium unleaded (required)</td>\n",
              "      <td>335.0</td>\n",
              "      <td>6.0</td>\n",
              "      <td>MANUAL</td>\n",
              "      <td>rear wheel drive</td>\n",
              "      <td>2.0</td>\n",
              "      <td>Factory Tuner,Luxury,High-Performance</td>\n",
              "      <td>Compact</td>\n",
              "      <td>Coupe</td>\n",
              "      <td>26</td>\n",
              "      <td>19</td>\n",
              "      <td>3916</td>\n",
              "      <td>46135</td>\n",
              "    </tr>\n",
              "    <tr>\n",
              "      <th>1</th>\n",
              "      <td>BMW</td>\n",
              "      <td>1 Series</td>\n",
              "      <td>2011</td>\n",
              "      <td>premium unleaded (required)</td>\n",
              "      <td>300.0</td>\n",
              "      <td>6.0</td>\n",
              "      <td>MANUAL</td>\n",
              "      <td>rear wheel drive</td>\n",
              "      <td>2.0</td>\n",
              "      <td>Luxury,Performance</td>\n",
              "      <td>Compact</td>\n",
              "      <td>Convertible</td>\n",
              "      <td>28</td>\n",
              "      <td>19</td>\n",
              "      <td>3916</td>\n",
              "      <td>40650</td>\n",
              "    </tr>\n",
              "    <tr>\n",
              "      <th>2</th>\n",
              "      <td>BMW</td>\n",
              "      <td>1 Series</td>\n",
              "      <td>2011</td>\n",
              "      <td>premium unleaded (required)</td>\n",
              "      <td>300.0</td>\n",
              "      <td>6.0</td>\n",
              "      <td>MANUAL</td>\n",
              "      <td>rear wheel drive</td>\n",
              "      <td>2.0</td>\n",
              "      <td>Luxury,High-Performance</td>\n",
              "      <td>Compact</td>\n",
              "      <td>Coupe</td>\n",
              "      <td>28</td>\n",
              "      <td>20</td>\n",
              "      <td>3916</td>\n",
              "      <td>36350</td>\n",
              "    </tr>\n",
              "    <tr>\n",
              "      <th>3</th>\n",
              "      <td>BMW</td>\n",
              "      <td>1 Series</td>\n",
              "      <td>2011</td>\n",
              "      <td>premium unleaded (required)</td>\n",
              "      <td>230.0</td>\n",
              "      <td>6.0</td>\n",
              "      <td>MANUAL</td>\n",
              "      <td>rear wheel drive</td>\n",
              "      <td>2.0</td>\n",
              "      <td>Luxury,Performance</td>\n",
              "      <td>Compact</td>\n",
              "      <td>Coupe</td>\n",
              "      <td>28</td>\n",
              "      <td>18</td>\n",
              "      <td>3916</td>\n",
              "      <td>29450</td>\n",
              "    </tr>\n",
              "    <tr>\n",
              "      <th>4</th>\n",
              "      <td>BMW</td>\n",
              "      <td>1 Series</td>\n",
              "      <td>2011</td>\n",
              "      <td>premium unleaded (required)</td>\n",
              "      <td>230.0</td>\n",
              "      <td>6.0</td>\n",
              "      <td>MANUAL</td>\n",
              "      <td>rear wheel drive</td>\n",
              "      <td>2.0</td>\n",
              "      <td>Luxury</td>\n",
              "      <td>Compact</td>\n",
              "      <td>Convertible</td>\n",
              "      <td>28</td>\n",
              "      <td>18</td>\n",
              "      <td>3916</td>\n",
              "      <td>34500</td>\n",
              "    </tr>\n",
              "  </tbody>\n",
              "</table>\n",
              "</div>\n",
              "    <div class=\"colab-df-buttons\">\n",
              "\n",
              "  <div class=\"colab-df-container\">\n",
              "    <button class=\"colab-df-convert\" onclick=\"convertToInteractive('df-70b87a4c-043a-44b6-b599-a8b636c05c21')\"\n",
              "            title=\"Convert this dataframe to an interactive table.\"\n",
              "            style=\"display:none;\">\n",
              "\n",
              "  <svg xmlns=\"http://www.w3.org/2000/svg\" height=\"24px\" viewBox=\"0 -960 960 960\">\n",
              "    <path d=\"M120-120v-720h720v720H120Zm60-500h600v-160H180v160Zm220 220h160v-160H400v160Zm0 220h160v-160H400v160ZM180-400h160v-160H180v160Zm440 0h160v-160H620v160ZM180-180h160v-160H180v160Zm440 0h160v-160H620v160Z\"/>\n",
              "  </svg>\n",
              "    </button>\n",
              "\n",
              "  <style>\n",
              "    .colab-df-container {\n",
              "      display:flex;\n",
              "      gap: 12px;\n",
              "    }\n",
              "\n",
              "    .colab-df-convert {\n",
              "      background-color: #E8F0FE;\n",
              "      border: none;\n",
              "      border-radius: 50%;\n",
              "      cursor: pointer;\n",
              "      display: none;\n",
              "      fill: #1967D2;\n",
              "      height: 32px;\n",
              "      padding: 0 0 0 0;\n",
              "      width: 32px;\n",
              "    }\n",
              "\n",
              "    .colab-df-convert:hover {\n",
              "      background-color: #E2EBFA;\n",
              "      box-shadow: 0px 1px 2px rgba(60, 64, 67, 0.3), 0px 1px 3px 1px rgba(60, 64, 67, 0.15);\n",
              "      fill: #174EA6;\n",
              "    }\n",
              "\n",
              "    .colab-df-buttons div {\n",
              "      margin-bottom: 4px;\n",
              "    }\n",
              "\n",
              "    [theme=dark] .colab-df-convert {\n",
              "      background-color: #3B4455;\n",
              "      fill: #D2E3FC;\n",
              "    }\n",
              "\n",
              "    [theme=dark] .colab-df-convert:hover {\n",
              "      background-color: #434B5C;\n",
              "      box-shadow: 0px 1px 3px 1px rgba(0, 0, 0, 0.15);\n",
              "      filter: drop-shadow(0px 1px 2px rgba(0, 0, 0, 0.3));\n",
              "      fill: #FFFFFF;\n",
              "    }\n",
              "  </style>\n",
              "\n",
              "    <script>\n",
              "      const buttonEl =\n",
              "        document.querySelector('#df-70b87a4c-043a-44b6-b599-a8b636c05c21 button.colab-df-convert');\n",
              "      buttonEl.style.display =\n",
              "        google.colab.kernel.accessAllowed ? 'block' : 'none';\n",
              "\n",
              "      async function convertToInteractive(key) {\n",
              "        const element = document.querySelector('#df-70b87a4c-043a-44b6-b599-a8b636c05c21');\n",
              "        const dataTable =\n",
              "          await google.colab.kernel.invokeFunction('convertToInteractive',\n",
              "                                                    [key], {});\n",
              "        if (!dataTable) return;\n",
              "\n",
              "        const docLinkHtml = 'Like what you see? Visit the ' +\n",
              "          '<a target=\"_blank\" href=https://colab.research.google.com/notebooks/data_table.ipynb>data table notebook</a>'\n",
              "          + ' to learn more about interactive tables.';\n",
              "        element.innerHTML = '';\n",
              "        dataTable['output_type'] = 'display_data';\n",
              "        await google.colab.output.renderOutput(dataTable, element);\n",
              "        const docLink = document.createElement('div');\n",
              "        docLink.innerHTML = docLinkHtml;\n",
              "        element.appendChild(docLink);\n",
              "      }\n",
              "    </script>\n",
              "  </div>\n",
              "\n",
              "\n",
              "<div id=\"df-edd9473f-9455-445a-bde2-d653dab8d89c\">\n",
              "  <button class=\"colab-df-quickchart\" onclick=\"quickchart('df-edd9473f-9455-445a-bde2-d653dab8d89c')\"\n",
              "            title=\"Suggest charts.\"\n",
              "            style=\"display:none;\">\n",
              "\n",
              "<svg xmlns=\"http://www.w3.org/2000/svg\" height=\"24px\"viewBox=\"0 0 24 24\"\n",
              "     width=\"24px\">\n",
              "    <g>\n",
              "        <path d=\"M19 3H5c-1.1 0-2 .9-2 2v14c0 1.1.9 2 2 2h14c1.1 0 2-.9 2-2V5c0-1.1-.9-2-2-2zM9 17H7v-7h2v7zm4 0h-2V7h2v10zm4 0h-2v-4h2v4z\"/>\n",
              "    </g>\n",
              "</svg>\n",
              "  </button>\n",
              "\n",
              "<style>\n",
              "  .colab-df-quickchart {\n",
              "      --bg-color: #E8F0FE;\n",
              "      --fill-color: #1967D2;\n",
              "      --hover-bg-color: #E2EBFA;\n",
              "      --hover-fill-color: #174EA6;\n",
              "      --disabled-fill-color: #AAA;\n",
              "      --disabled-bg-color: #DDD;\n",
              "  }\n",
              "\n",
              "  [theme=dark] .colab-df-quickchart {\n",
              "      --bg-color: #3B4455;\n",
              "      --fill-color: #D2E3FC;\n",
              "      --hover-bg-color: #434B5C;\n",
              "      --hover-fill-color: #FFFFFF;\n",
              "      --disabled-bg-color: #3B4455;\n",
              "      --disabled-fill-color: #666;\n",
              "  }\n",
              "\n",
              "  .colab-df-quickchart {\n",
              "    background-color: var(--bg-color);\n",
              "    border: none;\n",
              "    border-radius: 50%;\n",
              "    cursor: pointer;\n",
              "    display: none;\n",
              "    fill: var(--fill-color);\n",
              "    height: 32px;\n",
              "    padding: 0;\n",
              "    width: 32px;\n",
              "  }\n",
              "\n",
              "  .colab-df-quickchart:hover {\n",
              "    background-color: var(--hover-bg-color);\n",
              "    box-shadow: 0 1px 2px rgba(60, 64, 67, 0.3), 0 1px 3px 1px rgba(60, 64, 67, 0.15);\n",
              "    fill: var(--button-hover-fill-color);\n",
              "  }\n",
              "\n",
              "  .colab-df-quickchart-complete:disabled,\n",
              "  .colab-df-quickchart-complete:disabled:hover {\n",
              "    background-color: var(--disabled-bg-color);\n",
              "    fill: var(--disabled-fill-color);\n",
              "    box-shadow: none;\n",
              "  }\n",
              "\n",
              "  .colab-df-spinner {\n",
              "    border: 2px solid var(--fill-color);\n",
              "    border-color: transparent;\n",
              "    border-bottom-color: var(--fill-color);\n",
              "    animation:\n",
              "      spin 1s steps(1) infinite;\n",
              "  }\n",
              "\n",
              "  @keyframes spin {\n",
              "    0% {\n",
              "      border-color: transparent;\n",
              "      border-bottom-color: var(--fill-color);\n",
              "      border-left-color: var(--fill-color);\n",
              "    }\n",
              "    20% {\n",
              "      border-color: transparent;\n",
              "      border-left-color: var(--fill-color);\n",
              "      border-top-color: var(--fill-color);\n",
              "    }\n",
              "    30% {\n",
              "      border-color: transparent;\n",
              "      border-left-color: var(--fill-color);\n",
              "      border-top-color: var(--fill-color);\n",
              "      border-right-color: var(--fill-color);\n",
              "    }\n",
              "    40% {\n",
              "      border-color: transparent;\n",
              "      border-right-color: var(--fill-color);\n",
              "      border-top-color: var(--fill-color);\n",
              "    }\n",
              "    60% {\n",
              "      border-color: transparent;\n",
              "      border-right-color: var(--fill-color);\n",
              "    }\n",
              "    80% {\n",
              "      border-color: transparent;\n",
              "      border-right-color: var(--fill-color);\n",
              "      border-bottom-color: var(--fill-color);\n",
              "    }\n",
              "    90% {\n",
              "      border-color: transparent;\n",
              "      border-bottom-color: var(--fill-color);\n",
              "    }\n",
              "  }\n",
              "</style>\n",
              "\n",
              "  <script>\n",
              "    async function quickchart(key) {\n",
              "      const quickchartButtonEl =\n",
              "        document.querySelector('#' + key + ' button');\n",
              "      quickchartButtonEl.disabled = true;  // To prevent multiple clicks.\n",
              "      quickchartButtonEl.classList.add('colab-df-spinner');\n",
              "      try {\n",
              "        const charts = await google.colab.kernel.invokeFunction(\n",
              "            'suggestCharts', [key], {});\n",
              "      } catch (error) {\n",
              "        console.error('Error during call to suggestCharts:', error);\n",
              "      }\n",
              "      quickchartButtonEl.classList.remove('colab-df-spinner');\n",
              "      quickchartButtonEl.classList.add('colab-df-quickchart-complete');\n",
              "    }\n",
              "    (() => {\n",
              "      let quickchartButtonEl =\n",
              "        document.querySelector('#df-edd9473f-9455-445a-bde2-d653dab8d89c button');\n",
              "      quickchartButtonEl.style.display =\n",
              "        google.colab.kernel.accessAllowed ? 'block' : 'none';\n",
              "    })();\n",
              "  </script>\n",
              "</div>\n",
              "    </div>\n",
              "  </div>\n"
            ]
          },
          "metadata": {},
          "execution_count": 84
        }
      ],
      "source": [
        "## Veamos las 5 primeras filas\n",
        "df.head(5)"
      ]
    },
    {
      "cell_type": "markdown",
      "metadata": {
        "id": "GtXk4yTlDL2T"
      },
      "source": [
        "Si queremos ver los últimos 5 registros, usamos `tail` (cola):"
      ]
    },
    {
      "cell_type": "code",
      "execution_count": null,
      "metadata": {
        "colab": {
          "base_uri": "https://localhost:8080/",
          "height": 327
        },
        "id": "Fm-9dzdTRKpe",
        "outputId": "a4ba08c3-088f-488a-9c18-b70f49e90471"
      },
      "outputs": [
        {
          "output_type": "execute_result",
          "data": {
            "text/plain": [
              "          Make   Model  Year                Engine Fuel Type  Engine HP  \\\n",
              "11909    Acura     ZDX  2012     premium unleaded (required)      300.0   \n",
              "11910    Acura     ZDX  2012     premium unleaded (required)      300.0   \n",
              "11911    Acura     ZDX  2012     premium unleaded (required)      300.0   \n",
              "11912    Acura     ZDX  2013  premium unleaded (recommended)      300.0   \n",
              "11913  Lincoln  Zephyr  2006                regular unleaded      221.0   \n",
              "\n",
              "       Engine Cylinders Transmission Type      Driven_Wheels  Number of Doors  \\\n",
              "11909               6.0         AUTOMATIC    all wheel drive              4.0   \n",
              "11910               6.0         AUTOMATIC    all wheel drive              4.0   \n",
              "11911               6.0         AUTOMATIC    all wheel drive              4.0   \n",
              "11912               6.0         AUTOMATIC    all wheel drive              4.0   \n",
              "11913               6.0         AUTOMATIC  front wheel drive              4.0   \n",
              "\n",
              "                  Market Category Vehicle Size  Vehicle Style  highway MPG  \\\n",
              "11909  Crossover,Hatchback,Luxury      Midsize  4dr Hatchback           23   \n",
              "11910  Crossover,Hatchback,Luxury      Midsize  4dr Hatchback           23   \n",
              "11911  Crossover,Hatchback,Luxury      Midsize  4dr Hatchback           23   \n",
              "11912  Crossover,Hatchback,Luxury      Midsize  4dr Hatchback           23   \n",
              "11913                      Luxury      Midsize          Sedan           26   \n",
              "\n",
              "       city mpg  Popularity   MSRP  \n",
              "11909        16         204  46120  \n",
              "11910        16         204  56670  \n",
              "11911        16         204  50620  \n",
              "11912        16         204  50920  \n",
              "11913        17          61  28995  "
            ],
            "text/html": [
              "\n",
              "  <div id=\"df-f8fec0bf-17f0-447c-a1d1-9966de6bd3dc\" class=\"colab-df-container\">\n",
              "    <div>\n",
              "<style scoped>\n",
              "    .dataframe tbody tr th:only-of-type {\n",
              "        vertical-align: middle;\n",
              "    }\n",
              "\n",
              "    .dataframe tbody tr th {\n",
              "        vertical-align: top;\n",
              "    }\n",
              "\n",
              "    .dataframe thead th {\n",
              "        text-align: right;\n",
              "    }\n",
              "</style>\n",
              "<table border=\"1\" class=\"dataframe\">\n",
              "  <thead>\n",
              "    <tr style=\"text-align: right;\">\n",
              "      <th></th>\n",
              "      <th>Make</th>\n",
              "      <th>Model</th>\n",
              "      <th>Year</th>\n",
              "      <th>Engine Fuel Type</th>\n",
              "      <th>Engine HP</th>\n",
              "      <th>Engine Cylinders</th>\n",
              "      <th>Transmission Type</th>\n",
              "      <th>Driven_Wheels</th>\n",
              "      <th>Number of Doors</th>\n",
              "      <th>Market Category</th>\n",
              "      <th>Vehicle Size</th>\n",
              "      <th>Vehicle Style</th>\n",
              "      <th>highway MPG</th>\n",
              "      <th>city mpg</th>\n",
              "      <th>Popularity</th>\n",
              "      <th>MSRP</th>\n",
              "    </tr>\n",
              "  </thead>\n",
              "  <tbody>\n",
              "    <tr>\n",
              "      <th>11909</th>\n",
              "      <td>Acura</td>\n",
              "      <td>ZDX</td>\n",
              "      <td>2012</td>\n",
              "      <td>premium unleaded (required)</td>\n",
              "      <td>300.0</td>\n",
              "      <td>6.0</td>\n",
              "      <td>AUTOMATIC</td>\n",
              "      <td>all wheel drive</td>\n",
              "      <td>4.0</td>\n",
              "      <td>Crossover,Hatchback,Luxury</td>\n",
              "      <td>Midsize</td>\n",
              "      <td>4dr Hatchback</td>\n",
              "      <td>23</td>\n",
              "      <td>16</td>\n",
              "      <td>204</td>\n",
              "      <td>46120</td>\n",
              "    </tr>\n",
              "    <tr>\n",
              "      <th>11910</th>\n",
              "      <td>Acura</td>\n",
              "      <td>ZDX</td>\n",
              "      <td>2012</td>\n",
              "      <td>premium unleaded (required)</td>\n",
              "      <td>300.0</td>\n",
              "      <td>6.0</td>\n",
              "      <td>AUTOMATIC</td>\n",
              "      <td>all wheel drive</td>\n",
              "      <td>4.0</td>\n",
              "      <td>Crossover,Hatchback,Luxury</td>\n",
              "      <td>Midsize</td>\n",
              "      <td>4dr Hatchback</td>\n",
              "      <td>23</td>\n",
              "      <td>16</td>\n",
              "      <td>204</td>\n",
              "      <td>56670</td>\n",
              "    </tr>\n",
              "    <tr>\n",
              "      <th>11911</th>\n",
              "      <td>Acura</td>\n",
              "      <td>ZDX</td>\n",
              "      <td>2012</td>\n",
              "      <td>premium unleaded (required)</td>\n",
              "      <td>300.0</td>\n",
              "      <td>6.0</td>\n",
              "      <td>AUTOMATIC</td>\n",
              "      <td>all wheel drive</td>\n",
              "      <td>4.0</td>\n",
              "      <td>Crossover,Hatchback,Luxury</td>\n",
              "      <td>Midsize</td>\n",
              "      <td>4dr Hatchback</td>\n",
              "      <td>23</td>\n",
              "      <td>16</td>\n",
              "      <td>204</td>\n",
              "      <td>50620</td>\n",
              "    </tr>\n",
              "    <tr>\n",
              "      <th>11912</th>\n",
              "      <td>Acura</td>\n",
              "      <td>ZDX</td>\n",
              "      <td>2013</td>\n",
              "      <td>premium unleaded (recommended)</td>\n",
              "      <td>300.0</td>\n",
              "      <td>6.0</td>\n",
              "      <td>AUTOMATIC</td>\n",
              "      <td>all wheel drive</td>\n",
              "      <td>4.0</td>\n",
              "      <td>Crossover,Hatchback,Luxury</td>\n",
              "      <td>Midsize</td>\n",
              "      <td>4dr Hatchback</td>\n",
              "      <td>23</td>\n",
              "      <td>16</td>\n",
              "      <td>204</td>\n",
              "      <td>50920</td>\n",
              "    </tr>\n",
              "    <tr>\n",
              "      <th>11913</th>\n",
              "      <td>Lincoln</td>\n",
              "      <td>Zephyr</td>\n",
              "      <td>2006</td>\n",
              "      <td>regular unleaded</td>\n",
              "      <td>221.0</td>\n",
              "      <td>6.0</td>\n",
              "      <td>AUTOMATIC</td>\n",
              "      <td>front wheel drive</td>\n",
              "      <td>4.0</td>\n",
              "      <td>Luxury</td>\n",
              "      <td>Midsize</td>\n",
              "      <td>Sedan</td>\n",
              "      <td>26</td>\n",
              "      <td>17</td>\n",
              "      <td>61</td>\n",
              "      <td>28995</td>\n",
              "    </tr>\n",
              "  </tbody>\n",
              "</table>\n",
              "</div>\n",
              "    <div class=\"colab-df-buttons\">\n",
              "\n",
              "  <div class=\"colab-df-container\">\n",
              "    <button class=\"colab-df-convert\" onclick=\"convertToInteractive('df-f8fec0bf-17f0-447c-a1d1-9966de6bd3dc')\"\n",
              "            title=\"Convert this dataframe to an interactive table.\"\n",
              "            style=\"display:none;\">\n",
              "\n",
              "  <svg xmlns=\"http://www.w3.org/2000/svg\" height=\"24px\" viewBox=\"0 -960 960 960\">\n",
              "    <path d=\"M120-120v-720h720v720H120Zm60-500h600v-160H180v160Zm220 220h160v-160H400v160Zm0 220h160v-160H400v160ZM180-400h160v-160H180v160Zm440 0h160v-160H620v160ZM180-180h160v-160H180v160Zm440 0h160v-160H620v160Z\"/>\n",
              "  </svg>\n",
              "    </button>\n",
              "\n",
              "  <style>\n",
              "    .colab-df-container {\n",
              "      display:flex;\n",
              "      gap: 12px;\n",
              "    }\n",
              "\n",
              "    .colab-df-convert {\n",
              "      background-color: #E8F0FE;\n",
              "      border: none;\n",
              "      border-radius: 50%;\n",
              "      cursor: pointer;\n",
              "      display: none;\n",
              "      fill: #1967D2;\n",
              "      height: 32px;\n",
              "      padding: 0 0 0 0;\n",
              "      width: 32px;\n",
              "    }\n",
              "\n",
              "    .colab-df-convert:hover {\n",
              "      background-color: #E2EBFA;\n",
              "      box-shadow: 0px 1px 2px rgba(60, 64, 67, 0.3), 0px 1px 3px 1px rgba(60, 64, 67, 0.15);\n",
              "      fill: #174EA6;\n",
              "    }\n",
              "\n",
              "    .colab-df-buttons div {\n",
              "      margin-bottom: 4px;\n",
              "    }\n",
              "\n",
              "    [theme=dark] .colab-df-convert {\n",
              "      background-color: #3B4455;\n",
              "      fill: #D2E3FC;\n",
              "    }\n",
              "\n",
              "    [theme=dark] .colab-df-convert:hover {\n",
              "      background-color: #434B5C;\n",
              "      box-shadow: 0px 1px 3px 1px rgba(0, 0, 0, 0.15);\n",
              "      filter: drop-shadow(0px 1px 2px rgba(0, 0, 0, 0.3));\n",
              "      fill: #FFFFFF;\n",
              "    }\n",
              "  </style>\n",
              "\n",
              "    <script>\n",
              "      const buttonEl =\n",
              "        document.querySelector('#df-f8fec0bf-17f0-447c-a1d1-9966de6bd3dc button.colab-df-convert');\n",
              "      buttonEl.style.display =\n",
              "        google.colab.kernel.accessAllowed ? 'block' : 'none';\n",
              "\n",
              "      async function convertToInteractive(key) {\n",
              "        const element = document.querySelector('#df-f8fec0bf-17f0-447c-a1d1-9966de6bd3dc');\n",
              "        const dataTable =\n",
              "          await google.colab.kernel.invokeFunction('convertToInteractive',\n",
              "                                                    [key], {});\n",
              "        if (!dataTable) return;\n",
              "\n",
              "        const docLinkHtml = 'Like what you see? Visit the ' +\n",
              "          '<a target=\"_blank\" href=https://colab.research.google.com/notebooks/data_table.ipynb>data table notebook</a>'\n",
              "          + ' to learn more about interactive tables.';\n",
              "        element.innerHTML = '';\n",
              "        dataTable['output_type'] = 'display_data';\n",
              "        await google.colab.output.renderOutput(dataTable, element);\n",
              "        const docLink = document.createElement('div');\n",
              "        docLink.innerHTML = docLinkHtml;\n",
              "        element.appendChild(docLink);\n",
              "      }\n",
              "    </script>\n",
              "  </div>\n",
              "\n",
              "\n",
              "<div id=\"df-07a887cd-4736-4cf8-a054-bcba96e354b0\">\n",
              "  <button class=\"colab-df-quickchart\" onclick=\"quickchart('df-07a887cd-4736-4cf8-a054-bcba96e354b0')\"\n",
              "            title=\"Suggest charts.\"\n",
              "            style=\"display:none;\">\n",
              "\n",
              "<svg xmlns=\"http://www.w3.org/2000/svg\" height=\"24px\"viewBox=\"0 0 24 24\"\n",
              "     width=\"24px\">\n",
              "    <g>\n",
              "        <path d=\"M19 3H5c-1.1 0-2 .9-2 2v14c0 1.1.9 2 2 2h14c1.1 0 2-.9 2-2V5c0-1.1-.9-2-2-2zM9 17H7v-7h2v7zm4 0h-2V7h2v10zm4 0h-2v-4h2v4z\"/>\n",
              "    </g>\n",
              "</svg>\n",
              "  </button>\n",
              "\n",
              "<style>\n",
              "  .colab-df-quickchart {\n",
              "      --bg-color: #E8F0FE;\n",
              "      --fill-color: #1967D2;\n",
              "      --hover-bg-color: #E2EBFA;\n",
              "      --hover-fill-color: #174EA6;\n",
              "      --disabled-fill-color: #AAA;\n",
              "      --disabled-bg-color: #DDD;\n",
              "  }\n",
              "\n",
              "  [theme=dark] .colab-df-quickchart {\n",
              "      --bg-color: #3B4455;\n",
              "      --fill-color: #D2E3FC;\n",
              "      --hover-bg-color: #434B5C;\n",
              "      --hover-fill-color: #FFFFFF;\n",
              "      --disabled-bg-color: #3B4455;\n",
              "      --disabled-fill-color: #666;\n",
              "  }\n",
              "\n",
              "  .colab-df-quickchart {\n",
              "    background-color: var(--bg-color);\n",
              "    border: none;\n",
              "    border-radius: 50%;\n",
              "    cursor: pointer;\n",
              "    display: none;\n",
              "    fill: var(--fill-color);\n",
              "    height: 32px;\n",
              "    padding: 0;\n",
              "    width: 32px;\n",
              "  }\n",
              "\n",
              "  .colab-df-quickchart:hover {\n",
              "    background-color: var(--hover-bg-color);\n",
              "    box-shadow: 0 1px 2px rgba(60, 64, 67, 0.3), 0 1px 3px 1px rgba(60, 64, 67, 0.15);\n",
              "    fill: var(--button-hover-fill-color);\n",
              "  }\n",
              "\n",
              "  .colab-df-quickchart-complete:disabled,\n",
              "  .colab-df-quickchart-complete:disabled:hover {\n",
              "    background-color: var(--disabled-bg-color);\n",
              "    fill: var(--disabled-fill-color);\n",
              "    box-shadow: none;\n",
              "  }\n",
              "\n",
              "  .colab-df-spinner {\n",
              "    border: 2px solid var(--fill-color);\n",
              "    border-color: transparent;\n",
              "    border-bottom-color: var(--fill-color);\n",
              "    animation:\n",
              "      spin 1s steps(1) infinite;\n",
              "  }\n",
              "\n",
              "  @keyframes spin {\n",
              "    0% {\n",
              "      border-color: transparent;\n",
              "      border-bottom-color: var(--fill-color);\n",
              "      border-left-color: var(--fill-color);\n",
              "    }\n",
              "    20% {\n",
              "      border-color: transparent;\n",
              "      border-left-color: var(--fill-color);\n",
              "      border-top-color: var(--fill-color);\n",
              "    }\n",
              "    30% {\n",
              "      border-color: transparent;\n",
              "      border-left-color: var(--fill-color);\n",
              "      border-top-color: var(--fill-color);\n",
              "      border-right-color: var(--fill-color);\n",
              "    }\n",
              "    40% {\n",
              "      border-color: transparent;\n",
              "      border-right-color: var(--fill-color);\n",
              "      border-top-color: var(--fill-color);\n",
              "    }\n",
              "    60% {\n",
              "      border-color: transparent;\n",
              "      border-right-color: var(--fill-color);\n",
              "    }\n",
              "    80% {\n",
              "      border-color: transparent;\n",
              "      border-right-color: var(--fill-color);\n",
              "      border-bottom-color: var(--fill-color);\n",
              "    }\n",
              "    90% {\n",
              "      border-color: transparent;\n",
              "      border-bottom-color: var(--fill-color);\n",
              "    }\n",
              "  }\n",
              "</style>\n",
              "\n",
              "  <script>\n",
              "    async function quickchart(key) {\n",
              "      const quickchartButtonEl =\n",
              "        document.querySelector('#' + key + ' button');\n",
              "      quickchartButtonEl.disabled = true;  // To prevent multiple clicks.\n",
              "      quickchartButtonEl.classList.add('colab-df-spinner');\n",
              "      try {\n",
              "        const charts = await google.colab.kernel.invokeFunction(\n",
              "            'suggestCharts', [key], {});\n",
              "      } catch (error) {\n",
              "        console.error('Error during call to suggestCharts:', error);\n",
              "      }\n",
              "      quickchartButtonEl.classList.remove('colab-df-spinner');\n",
              "      quickchartButtonEl.classList.add('colab-df-quickchart-complete');\n",
              "    }\n",
              "    (() => {\n",
              "      let quickchartButtonEl =\n",
              "        document.querySelector('#df-07a887cd-4736-4cf8-a054-bcba96e354b0 button');\n",
              "      quickchartButtonEl.style.display =\n",
              "        google.colab.kernel.accessAllowed ? 'block' : 'none';\n",
              "    })();\n",
              "  </script>\n",
              "</div>\n",
              "    </div>\n",
              "  </div>\n"
            ]
          },
          "metadata": {},
          "execution_count": 85
        }
      ],
      "source": [
        "## Miremos ahora las últimas 5 filas\n",
        "df.tail(5)"
      ]
    },
    {
      "cell_type": "markdown",
      "metadata": {
        "id": "3WrhKR5YDL2U"
      },
      "source": [
        "Usemos el atributo `shape` del *dataframe* que nos va a devolver una tupla con la cantidad de registros y la cantidad de columnas por registro:"
      ]
    },
    {
      "cell_type": "code",
      "execution_count": null,
      "metadata": {
        "id": "jE3vOGBFDL2U",
        "outputId": "f82f5add-9c84-4d63-b785-a5d91365b181",
        "colab": {
          "base_uri": "https://localhost:8080/"
        }
      },
      "outputs": [
        {
          "output_type": "execute_result",
          "data": {
            "text/plain": [
              "(11914, 16)"
            ]
          },
          "metadata": {},
          "execution_count": 86
        }
      ],
      "source": [
        "df.shape"
      ]
    },
    {
      "cell_type": "markdown",
      "metadata": {
        "id": "9PrdVyivDL2U"
      },
      "source": [
        "Y por último podemos usar el atributo `describe` del *dataframe* para conocer los estadísticos descriptivos básicos del dataframe como:\n",
        "\n",
        "* count: Cantidad de valores no nulos\n",
        "* mean: Media\n",
        "* std: Desviación estandar\n",
        "* min/25%/50%/75%/max: Valores mínimo, de percentiles 25, 50 y 75 y máximo.\n"
      ]
    },
    {
      "cell_type": "code",
      "execution_count": null,
      "metadata": {
        "id": "FIDHQIMnDL2V",
        "outputId": "2bb4c7de-1d9c-4939-90f4-2a860126db6c",
        "colab": {
          "base_uri": "https://localhost:8080/",
          "height": 300
        }
      },
      "outputs": [
        {
          "output_type": "execute_result",
          "data": {
            "text/plain": [
              "               Year    Engine HP  Engine Cylinders  Number of Doors  \\\n",
              "count  11914.000000  11845.00000      11884.000000     11908.000000   \n",
              "mean    2010.384338    249.38607          5.628829         3.436093   \n",
              "std        7.579740    109.19187          1.780559         0.881315   \n",
              "min     1990.000000     55.00000          0.000000         2.000000   \n",
              "25%     2007.000000    170.00000          4.000000         2.000000   \n",
              "50%     2015.000000    227.00000          6.000000         4.000000   \n",
              "75%     2016.000000    300.00000          6.000000         4.000000   \n",
              "max     2017.000000   1001.00000         16.000000         4.000000   \n",
              "\n",
              "        highway MPG      city mpg    Popularity          MSRP  \n",
              "count  11914.000000  11914.000000  11914.000000  1.191400e+04  \n",
              "mean      26.637485     19.733255   1554.911197  4.059474e+04  \n",
              "std        8.863001      8.987798   1441.855347  6.010910e+04  \n",
              "min       12.000000      7.000000      2.000000  2.000000e+03  \n",
              "25%       22.000000     16.000000    549.000000  2.100000e+04  \n",
              "50%       26.000000     18.000000   1385.000000  2.999500e+04  \n",
              "75%       30.000000     22.000000   2009.000000  4.223125e+04  \n",
              "max      354.000000    137.000000   5657.000000  2.065902e+06  "
            ],
            "text/html": [
              "\n",
              "  <div id=\"df-7a881527-f10c-46cc-a61b-08cde5541190\" class=\"colab-df-container\">\n",
              "    <div>\n",
              "<style scoped>\n",
              "    .dataframe tbody tr th:only-of-type {\n",
              "        vertical-align: middle;\n",
              "    }\n",
              "\n",
              "    .dataframe tbody tr th {\n",
              "        vertical-align: top;\n",
              "    }\n",
              "\n",
              "    .dataframe thead th {\n",
              "        text-align: right;\n",
              "    }\n",
              "</style>\n",
              "<table border=\"1\" class=\"dataframe\">\n",
              "  <thead>\n",
              "    <tr style=\"text-align: right;\">\n",
              "      <th></th>\n",
              "      <th>Year</th>\n",
              "      <th>Engine HP</th>\n",
              "      <th>Engine Cylinders</th>\n",
              "      <th>Number of Doors</th>\n",
              "      <th>highway MPG</th>\n",
              "      <th>city mpg</th>\n",
              "      <th>Popularity</th>\n",
              "      <th>MSRP</th>\n",
              "    </tr>\n",
              "  </thead>\n",
              "  <tbody>\n",
              "    <tr>\n",
              "      <th>count</th>\n",
              "      <td>11914.000000</td>\n",
              "      <td>11845.00000</td>\n",
              "      <td>11884.000000</td>\n",
              "      <td>11908.000000</td>\n",
              "      <td>11914.000000</td>\n",
              "      <td>11914.000000</td>\n",
              "      <td>11914.000000</td>\n",
              "      <td>1.191400e+04</td>\n",
              "    </tr>\n",
              "    <tr>\n",
              "      <th>mean</th>\n",
              "      <td>2010.384338</td>\n",
              "      <td>249.38607</td>\n",
              "      <td>5.628829</td>\n",
              "      <td>3.436093</td>\n",
              "      <td>26.637485</td>\n",
              "      <td>19.733255</td>\n",
              "      <td>1554.911197</td>\n",
              "      <td>4.059474e+04</td>\n",
              "    </tr>\n",
              "    <tr>\n",
              "      <th>std</th>\n",
              "      <td>7.579740</td>\n",
              "      <td>109.19187</td>\n",
              "      <td>1.780559</td>\n",
              "      <td>0.881315</td>\n",
              "      <td>8.863001</td>\n",
              "      <td>8.987798</td>\n",
              "      <td>1441.855347</td>\n",
              "      <td>6.010910e+04</td>\n",
              "    </tr>\n",
              "    <tr>\n",
              "      <th>min</th>\n",
              "      <td>1990.000000</td>\n",
              "      <td>55.00000</td>\n",
              "      <td>0.000000</td>\n",
              "      <td>2.000000</td>\n",
              "      <td>12.000000</td>\n",
              "      <td>7.000000</td>\n",
              "      <td>2.000000</td>\n",
              "      <td>2.000000e+03</td>\n",
              "    </tr>\n",
              "    <tr>\n",
              "      <th>25%</th>\n",
              "      <td>2007.000000</td>\n",
              "      <td>170.00000</td>\n",
              "      <td>4.000000</td>\n",
              "      <td>2.000000</td>\n",
              "      <td>22.000000</td>\n",
              "      <td>16.000000</td>\n",
              "      <td>549.000000</td>\n",
              "      <td>2.100000e+04</td>\n",
              "    </tr>\n",
              "    <tr>\n",
              "      <th>50%</th>\n",
              "      <td>2015.000000</td>\n",
              "      <td>227.00000</td>\n",
              "      <td>6.000000</td>\n",
              "      <td>4.000000</td>\n",
              "      <td>26.000000</td>\n",
              "      <td>18.000000</td>\n",
              "      <td>1385.000000</td>\n",
              "      <td>2.999500e+04</td>\n",
              "    </tr>\n",
              "    <tr>\n",
              "      <th>75%</th>\n",
              "      <td>2016.000000</td>\n",
              "      <td>300.00000</td>\n",
              "      <td>6.000000</td>\n",
              "      <td>4.000000</td>\n",
              "      <td>30.000000</td>\n",
              "      <td>22.000000</td>\n",
              "      <td>2009.000000</td>\n",
              "      <td>4.223125e+04</td>\n",
              "    </tr>\n",
              "    <tr>\n",
              "      <th>max</th>\n",
              "      <td>2017.000000</td>\n",
              "      <td>1001.00000</td>\n",
              "      <td>16.000000</td>\n",
              "      <td>4.000000</td>\n",
              "      <td>354.000000</td>\n",
              "      <td>137.000000</td>\n",
              "      <td>5657.000000</td>\n",
              "      <td>2.065902e+06</td>\n",
              "    </tr>\n",
              "  </tbody>\n",
              "</table>\n",
              "</div>\n",
              "    <div class=\"colab-df-buttons\">\n",
              "\n",
              "  <div class=\"colab-df-container\">\n",
              "    <button class=\"colab-df-convert\" onclick=\"convertToInteractive('df-7a881527-f10c-46cc-a61b-08cde5541190')\"\n",
              "            title=\"Convert this dataframe to an interactive table.\"\n",
              "            style=\"display:none;\">\n",
              "\n",
              "  <svg xmlns=\"http://www.w3.org/2000/svg\" height=\"24px\" viewBox=\"0 -960 960 960\">\n",
              "    <path d=\"M120-120v-720h720v720H120Zm60-500h600v-160H180v160Zm220 220h160v-160H400v160Zm0 220h160v-160H400v160ZM180-400h160v-160H180v160Zm440 0h160v-160H620v160ZM180-180h160v-160H180v160Zm440 0h160v-160H620v160Z\"/>\n",
              "  </svg>\n",
              "    </button>\n",
              "\n",
              "  <style>\n",
              "    .colab-df-container {\n",
              "      display:flex;\n",
              "      gap: 12px;\n",
              "    }\n",
              "\n",
              "    .colab-df-convert {\n",
              "      background-color: #E8F0FE;\n",
              "      border: none;\n",
              "      border-radius: 50%;\n",
              "      cursor: pointer;\n",
              "      display: none;\n",
              "      fill: #1967D2;\n",
              "      height: 32px;\n",
              "      padding: 0 0 0 0;\n",
              "      width: 32px;\n",
              "    }\n",
              "\n",
              "    .colab-df-convert:hover {\n",
              "      background-color: #E2EBFA;\n",
              "      box-shadow: 0px 1px 2px rgba(60, 64, 67, 0.3), 0px 1px 3px 1px rgba(60, 64, 67, 0.15);\n",
              "      fill: #174EA6;\n",
              "    }\n",
              "\n",
              "    .colab-df-buttons div {\n",
              "      margin-bottom: 4px;\n",
              "    }\n",
              "\n",
              "    [theme=dark] .colab-df-convert {\n",
              "      background-color: #3B4455;\n",
              "      fill: #D2E3FC;\n",
              "    }\n",
              "\n",
              "    [theme=dark] .colab-df-convert:hover {\n",
              "      background-color: #434B5C;\n",
              "      box-shadow: 0px 1px 3px 1px rgba(0, 0, 0, 0.15);\n",
              "      filter: drop-shadow(0px 1px 2px rgba(0, 0, 0, 0.3));\n",
              "      fill: #FFFFFF;\n",
              "    }\n",
              "  </style>\n",
              "\n",
              "    <script>\n",
              "      const buttonEl =\n",
              "        document.querySelector('#df-7a881527-f10c-46cc-a61b-08cde5541190 button.colab-df-convert');\n",
              "      buttonEl.style.display =\n",
              "        google.colab.kernel.accessAllowed ? 'block' : 'none';\n",
              "\n",
              "      async function convertToInteractive(key) {\n",
              "        const element = document.querySelector('#df-7a881527-f10c-46cc-a61b-08cde5541190');\n",
              "        const dataTable =\n",
              "          await google.colab.kernel.invokeFunction('convertToInteractive',\n",
              "                                                    [key], {});\n",
              "        if (!dataTable) return;\n",
              "\n",
              "        const docLinkHtml = 'Like what you see? Visit the ' +\n",
              "          '<a target=\"_blank\" href=https://colab.research.google.com/notebooks/data_table.ipynb>data table notebook</a>'\n",
              "          + ' to learn more about interactive tables.';\n",
              "        element.innerHTML = '';\n",
              "        dataTable['output_type'] = 'display_data';\n",
              "        await google.colab.output.renderOutput(dataTable, element);\n",
              "        const docLink = document.createElement('div');\n",
              "        docLink.innerHTML = docLinkHtml;\n",
              "        element.appendChild(docLink);\n",
              "      }\n",
              "    </script>\n",
              "  </div>\n",
              "\n",
              "\n",
              "<div id=\"df-b7d3887b-31c9-49c1-829a-820ae8436005\">\n",
              "  <button class=\"colab-df-quickchart\" onclick=\"quickchart('df-b7d3887b-31c9-49c1-829a-820ae8436005')\"\n",
              "            title=\"Suggest charts.\"\n",
              "            style=\"display:none;\">\n",
              "\n",
              "<svg xmlns=\"http://www.w3.org/2000/svg\" height=\"24px\"viewBox=\"0 0 24 24\"\n",
              "     width=\"24px\">\n",
              "    <g>\n",
              "        <path d=\"M19 3H5c-1.1 0-2 .9-2 2v14c0 1.1.9 2 2 2h14c1.1 0 2-.9 2-2V5c0-1.1-.9-2-2-2zM9 17H7v-7h2v7zm4 0h-2V7h2v10zm4 0h-2v-4h2v4z\"/>\n",
              "    </g>\n",
              "</svg>\n",
              "  </button>\n",
              "\n",
              "<style>\n",
              "  .colab-df-quickchart {\n",
              "      --bg-color: #E8F0FE;\n",
              "      --fill-color: #1967D2;\n",
              "      --hover-bg-color: #E2EBFA;\n",
              "      --hover-fill-color: #174EA6;\n",
              "      --disabled-fill-color: #AAA;\n",
              "      --disabled-bg-color: #DDD;\n",
              "  }\n",
              "\n",
              "  [theme=dark] .colab-df-quickchart {\n",
              "      --bg-color: #3B4455;\n",
              "      --fill-color: #D2E3FC;\n",
              "      --hover-bg-color: #434B5C;\n",
              "      --hover-fill-color: #FFFFFF;\n",
              "      --disabled-bg-color: #3B4455;\n",
              "      --disabled-fill-color: #666;\n",
              "  }\n",
              "\n",
              "  .colab-df-quickchart {\n",
              "    background-color: var(--bg-color);\n",
              "    border: none;\n",
              "    border-radius: 50%;\n",
              "    cursor: pointer;\n",
              "    display: none;\n",
              "    fill: var(--fill-color);\n",
              "    height: 32px;\n",
              "    padding: 0;\n",
              "    width: 32px;\n",
              "  }\n",
              "\n",
              "  .colab-df-quickchart:hover {\n",
              "    background-color: var(--hover-bg-color);\n",
              "    box-shadow: 0 1px 2px rgba(60, 64, 67, 0.3), 0 1px 3px 1px rgba(60, 64, 67, 0.15);\n",
              "    fill: var(--button-hover-fill-color);\n",
              "  }\n",
              "\n",
              "  .colab-df-quickchart-complete:disabled,\n",
              "  .colab-df-quickchart-complete:disabled:hover {\n",
              "    background-color: var(--disabled-bg-color);\n",
              "    fill: var(--disabled-fill-color);\n",
              "    box-shadow: none;\n",
              "  }\n",
              "\n",
              "  .colab-df-spinner {\n",
              "    border: 2px solid var(--fill-color);\n",
              "    border-color: transparent;\n",
              "    border-bottom-color: var(--fill-color);\n",
              "    animation:\n",
              "      spin 1s steps(1) infinite;\n",
              "  }\n",
              "\n",
              "  @keyframes spin {\n",
              "    0% {\n",
              "      border-color: transparent;\n",
              "      border-bottom-color: var(--fill-color);\n",
              "      border-left-color: var(--fill-color);\n",
              "    }\n",
              "    20% {\n",
              "      border-color: transparent;\n",
              "      border-left-color: var(--fill-color);\n",
              "      border-top-color: var(--fill-color);\n",
              "    }\n",
              "    30% {\n",
              "      border-color: transparent;\n",
              "      border-left-color: var(--fill-color);\n",
              "      border-top-color: var(--fill-color);\n",
              "      border-right-color: var(--fill-color);\n",
              "    }\n",
              "    40% {\n",
              "      border-color: transparent;\n",
              "      border-right-color: var(--fill-color);\n",
              "      border-top-color: var(--fill-color);\n",
              "    }\n",
              "    60% {\n",
              "      border-color: transparent;\n",
              "      border-right-color: var(--fill-color);\n",
              "    }\n",
              "    80% {\n",
              "      border-color: transparent;\n",
              "      border-right-color: var(--fill-color);\n",
              "      border-bottom-color: var(--fill-color);\n",
              "    }\n",
              "    90% {\n",
              "      border-color: transparent;\n",
              "      border-bottom-color: var(--fill-color);\n",
              "    }\n",
              "  }\n",
              "</style>\n",
              "\n",
              "  <script>\n",
              "    async function quickchart(key) {\n",
              "      const quickchartButtonEl =\n",
              "        document.querySelector('#' + key + ' button');\n",
              "      quickchartButtonEl.disabled = true;  // To prevent multiple clicks.\n",
              "      quickchartButtonEl.classList.add('colab-df-spinner');\n",
              "      try {\n",
              "        const charts = await google.colab.kernel.invokeFunction(\n",
              "            'suggestCharts', [key], {});\n",
              "      } catch (error) {\n",
              "        console.error('Error during call to suggestCharts:', error);\n",
              "      }\n",
              "      quickchartButtonEl.classList.remove('colab-df-spinner');\n",
              "      quickchartButtonEl.classList.add('colab-df-quickchart-complete');\n",
              "    }\n",
              "    (() => {\n",
              "      let quickchartButtonEl =\n",
              "        document.querySelector('#df-b7d3887b-31c9-49c1-829a-820ae8436005 button');\n",
              "      quickchartButtonEl.style.display =\n",
              "        google.colab.kernel.accessAllowed ? 'block' : 'none';\n",
              "    })();\n",
              "  </script>\n",
              "</div>\n",
              "    </div>\n",
              "  </div>\n"
            ]
          },
          "metadata": {},
          "execution_count": 87
        }
      ],
      "source": [
        "df.describe()"
      ]
    },
    {
      "cell_type": "markdown",
      "metadata": {
        "id": "vAmC369yTpMF"
      },
      "source": [
        "## 3. Revisando los tipos de datos de cada columna"
      ]
    },
    {
      "cell_type": "markdown",
      "metadata": {
        "id": "9ESKxikIzA1d"
      },
      "source": [
        "Este paso es importante porque muchas veces por ejemplo, el precio o algún otro dato puede venir como una cadena de texto cuando en realidad queremos que sea un número de algún tipo. Si éste fuera el caso, tenemos que hacer la transformación del tipo de dato en la columna.\n",
        "\n",
        "En este caso en particular, por suerte, los datos vinieron correctamente."
      ]
    },
    {
      "cell_type": "code",
      "execution_count": null,
      "metadata": {
        "id": "qPbKQ0noRptD"
      },
      "outputs": [],
      "source": [
        "## revisar los tipos de cada columna"
      ]
    },
    {
      "cell_type": "markdown",
      "metadata": {
        "id": "QoHuBhXxT5E9"
      },
      "source": [
        "## 4. Eliminando columnas"
      ]
    },
    {
      "cell_type": "markdown",
      "metadata": {
        "id": "_3cy877Mze4H"
      },
      "source": [
        "Este paso es necesario en cada análisis exploratorio  para evitar tener columnas  que no vayan a aportarte información en el análisis.\n",
        "\n",
        "En este caso, a modo de ejemplo, podemos eliminar las columnas: Market Category, Vehicle style, Popularity, Number of doors, Vehicle Size."
      ]
    },
    {
      "cell_type": "code",
      "execution_count": null,
      "metadata": {
        "id": "uvSkK8swTr9H"
      },
      "outputs": [],
      "source": [
        "## Eliminar las coilumnas\n",
        ".......(['Market Category', 'Vehicle Style', 'Popularity', 'Number of Doors', 'Vehicle Size'], axis=1)\n",
        "df.head(5)"
      ]
    },
    {
      "cell_type": "markdown",
      "metadata": {
        "id": "caAownWdUZso"
      },
      "source": [
        "## 5. Renombrando las columnas"
      ]
    },
    {
      "cell_type": "markdown",
      "metadata": {
        "id": "UABLiEcyz-2G"
      },
      "source": [
        "En esta etapa lo que hacemos es ponerle un nombre que nos resulte más descriptivo. Muchas veces los datos vienen con nombres en las columnas un tanto confusos y siempre es mejor \"explícito\". Es un buen ejercicio que **mejora la legibilidad**."
      ]
    },
    {
      "cell_type": "code",
      "execution_count": null,
      "metadata": {
        "id": "1wHW41whURub"
      },
      "outputs": [],
      "source": [
        "......(columns={\"Engine Fuel Type\":\"Combust\",\"Engine HP\": \"HP\", \"Engine Cylinders\": \"Cilindros\", \"Transmission Type\": \"Transmision\", \"Driven_Wheels\": \"Tracción\",\"highway MPG\": \"MPG-H\", \"city mpg\": \"MPG-C\", \"MSRP\": \"Precio\" })\n",
        "df.head(5)"
      ]
    },
    {
      "cell_type": "markdown",
      "metadata": {
        "id": "uiW7x_O4WIDX"
      },
      "source": [
        "## 6. Eliminando registros duplicados"
      ]
    },
    {
      "cell_type": "markdown",
      "metadata": {
        "id": "9LpR5NW70hXm"
      },
      "source": [
        "Es altamente probable que en un dataset de +10k registros algunos de ellos se encuentren duplicados. Tener registros duplicados en nuestro análisis puede alterar los resultados y por ende, nuestras conclusiones.\n",
        "\n",
        "Con `shape` vemos que actualmente el *dataframe* tiene 11914 registros con 11 columas."
      ]
    },
    {
      "cell_type": "code",
      "execution_count": null,
      "metadata": {
        "id": "1nBN_BCDWSmv"
      },
      "outputs": [],
      "source": [
        "## Utilizar shape"
      ]
    },
    {
      "cell_type": "markdown",
      "metadata": {
        "id": "qn7Zh5_eDL2Y"
      },
      "source": [
        "Eliminar los duplicados con un *dataframe* de Pandas es tan complejo como llamar al método `drop_duplicates`. Este médoto nos devuelve un *nuevo dataframe*, si no queremos tener un nuevo *dataframe* lo que hacemos es simplemente darle el mismo nombre al nuevo:"
      ]
    },
    {
      "cell_type": "code",
      "execution_count": null,
      "metadata": {
        "id": "LbECZkyZDL2Y"
      },
      "outputs": [],
      "source": [
        "df = .............."
      ]
    },
    {
      "cell_type": "code",
      "execution_count": null,
      "metadata": {
        "id": "JGfWd6HjDL2Y"
      },
      "outputs": [],
      "source": [
        "## Ver como nos queda el dataframe con df.shape"
      ]
    },
    {
      "cell_type": "markdown",
      "source": [
        "¿Cuántos Registros Duplicados había en nuestro dataframe\""
      ],
      "metadata": {
        "id": "t93_SWE4uhKk"
      }
    },
    {
      "cell_type": "markdown",
      "metadata": {
        "id": "JkXUQtyQW3Dy"
      },
      "source": [
        "## 7. Eliminando registros con valores incompletos"
      ]
    },
    {
      "cell_type": "markdown",
      "metadata": {
        "id": "5dvC4XuiDL2f"
      },
      "source": [
        "Los *dataframes* de Pandas tienen un método `count` que nos informa por columna cuántos registros tienen valores:"
      ]
    },
    {
      "cell_type": "code",
      "execution_count": null,
      "metadata": {
        "id": "kuobmetTV820"
      },
      "outputs": [],
      "source": [
        "##utilizar el método count para ver cuántos registros tienen valores"
      ]
    },
    {
      "cell_type": "markdown",
      "metadata": {
        "id": "K5pKvJi41YCp"
      },
      "source": [
        "Este paso es muy similar al anterior, sólo que esta vez vamos a eliminar los registros que no tengan valores.\n",
        "Es común en vez de eliminar estos registros, reemplazar los valores faltantes por el valor promedio. En este ejemplo, los valores faltantes están en el orden de las decenas mientras que tenemos un total de 10k registros. Es decir, el porcentaje es muy bajo y por eso optamos por descartar esos valores."
      ]
    },
    {
      "cell_type": "markdown",
      "metadata": {
        "id": "gBWlEjMrDL2g"
      },
      "source": [
        "Notemos que en la columna `HP` tenemos 10856 registros con datos sobre un total de 10925. Es decir, hay 69 registros que no tienen un valor.\n",
        "Y en la columna `Cilindros` tenemos 10895 registros con datos. Es decir, hay 30 registros que no tienen un valor.\n",
        "\n",
        "También podemos comprobarlo preguntándole al *dataframe* que nos diga si hay datos vacíos o en *null* y pidiéndole que nos haga la suma de esos:"
      ]
    },
    {
      "cell_type": "code",
      "execution_count": null,
      "metadata": {
        "id": "Tzdlg-1OWjMz"
      },
      "outputs": [],
      "source": [
        "##  Cuál es la suma de los registros nulos nulos"
      ]
    },
    {
      "cell_type": "markdown",
      "metadata": {
        "id": "iWJqTVxTJQnO"
      },
      "source": [
        "Para borrar esos registros que no tienen datos, registros que tienen \"datos no disponibles\" (del inglés *not available*) usamos el método `dropna`."
      ]
    },
    {
      "cell_type": "code",
      "execution_count": null,
      "metadata": {
        "id": "KbbV0xHPWoad"
      },
      "outputs": [],
      "source": [
        "## quitar los nulos del dataframe"
      ]
    },
    {
      "cell_type": "markdown",
      "metadata": {
        "id": "2t7L9l2mJSoX"
      },
      "source": [
        "Ahora nuestro dataset sabemos que no tiene registros duplicados y que todos nuestros registros tienen valores en las 11 columnas."
      ]
    },
    {
      "cell_type": "code",
      "execution_count": null,
      "metadata": {
        "id": "V-DmX1O4Wtox"
      },
      "outputs": [],
      "source": [
        "## comprobar que no tenermos registros nulos"
      ]
    },
    {
      "cell_type": "markdown",
      "metadata": {
        "id": "bk8RAHqQJVJK"
      },
      "source": [
        "\n",
        "\n",
        "---\n",
        "\n"
      ]
    },
    {
      "cell_type": "markdown",
      "metadata": {
        "id": "8Py3sQc_ZxyU"
      },
      "source": [
        "## 8. Aplicando transformaciones\n"
      ]
    },
    {
      "cell_type": "markdown",
      "metadata": {
        "id": "JVUG3lRFDL2i"
      },
      "source": [
        "El origen de estos datos utiliza el sistema inglés. Por eso tenemos MPG, millas por galón. No sé ustedes, pero yo prefiero utilizar el sistema internacional. Sabiendo que 1 MPG equivale a 0.425144 KPL (Kilómetros por litro) podemos transformar esas columnas para hacer una mejor interpretación.\n",
        "\n",
        "Si llamamos al *dataframe* con el nombre de una columna podemos operar con esa columna:"
      ]
    },
    {
      "cell_type": "code",
      "execution_count": null,
      "metadata": {
        "id": "NrF1FAwEDL2j",
        "outputId": "dbe0c827-6a94-4c0e-bb5a-091c1a6578dd",
        "colab": {
          "base_uri": "https://localhost:8080/"
        }
      },
      "outputs": [
        {
          "output_type": "execute_result",
          "data": {
            "text/plain": [
              "0        26\n",
              "1        28\n",
              "2        28\n",
              "3        28\n",
              "4        28\n",
              "         ..\n",
              "11909    23\n",
              "11910    23\n",
              "11911    23\n",
              "11912    23\n",
              "11913    26\n",
              "Name: MPG-H, Length: 10895, dtype: int64"
            ]
          },
          "metadata": {},
          "execution_count": 101
        }
      ],
      "source": [
        "df[\"MPG-H\"]"
      ]
    },
    {
      "cell_type": "code",
      "execution_count": null,
      "metadata": {
        "id": "Ur1j56OlDL2j"
      },
      "outputs": [],
      "source": [
        "## transformar la columna MPG-H a MPG-H * 0.425144\n"
      ]
    },
    {
      "cell_type": "code",
      "execution_count": null,
      "metadata": {
        "id": "k8LEfXFvDL2k",
        "outputId": "c3b96d8d-997b-474b-8ac7-d685b02a3475",
        "colab": {
          "base_uri": "https://localhost:8080/"
        }
      },
      "outputs": [
        {
          "output_type": "execute_result",
          "data": {
            "text/plain": [
              "0        11.053744\n",
              "1        11.904032\n",
              "2        11.904032\n",
              "3        11.904032\n",
              "4        11.904032\n",
              "           ...    \n",
              "11909     9.778312\n",
              "11910     9.778312\n",
              "11911     9.778312\n",
              "11912     9.778312\n",
              "11913    11.053744\n",
              "Name: MPG-H, Length: 10895, dtype: float64"
            ]
          },
          "metadata": {},
          "execution_count": 103
        }
      ],
      "source": [
        "df[\"MPG-H\"]"
      ]
    },
    {
      "cell_type": "markdown",
      "metadata": {
        "id": "rFH-3ZvhDL2k"
      },
      "source": [
        "Lo mismo hacemos para la columna `MPG-C`:"
      ]
    },
    {
      "cell_type": "code",
      "execution_count": null,
      "metadata": {
        "id": "rd2KZJiKDL2k"
      },
      "outputs": [],
      "source": [
        "MPG-C = MPG-C * 0.425144"
      ]
    },
    {
      "cell_type": "markdown",
      "metadata": {
        "id": "O8YtjN3VDL2l"
      },
      "source": [
        "\n",
        "Y ahora deberíamos cambiar el nombre, porque ese nombre ya no es significativo.  \n",
        "MPG-H-->KPL-R  \n",
        "MPG-C-->KPL-C\n"
      ]
    },
    {
      "cell_type": "code",
      "execution_count": null,
      "metadata": {
        "id": "kgEk-y5ADL2l",
        "outputId": "686c9233-8886-4720-8bef-c273bd86c328",
        "colab": {
          "base_uri": "https://localhost:8080/",
          "height": 206
        }
      },
      "outputs": [
        {
          "output_type": "execute_result",
          "data": {
            "text/plain": [
              "  Make       Model  Year                      Combust     HP  Cilindros  \\\n",
              "0  BMW  1 Series M  2011  premium unleaded (required)  335.0        6.0   \n",
              "1  BMW    1 Series  2011  premium unleaded (required)  300.0        6.0   \n",
              "2  BMW    1 Series  2011  premium unleaded (required)  300.0        6.0   \n",
              "3  BMW    1 Series  2011  premium unleaded (required)  230.0        6.0   \n",
              "4  BMW    1 Series  2011  premium unleaded (required)  230.0        6.0   \n",
              "\n",
              "  Transmision          Tracción      KPL-R     KPL-C  Precio  \n",
              "0      MANUAL  rear wheel drive  11.053744  8.077736   46135  \n",
              "1      MANUAL  rear wheel drive  11.904032  8.077736   40650  \n",
              "2      MANUAL  rear wheel drive  11.904032  8.502880   36350  \n",
              "3      MANUAL  rear wheel drive  11.904032  7.652592   29450  \n",
              "4      MANUAL  rear wheel drive  11.904032  7.652592   34500  "
            ],
            "text/html": [
              "\n",
              "  <div id=\"df-ca1b797c-3c15-40ff-8ae8-11cfa4820050\" class=\"colab-df-container\">\n",
              "    <div>\n",
              "<style scoped>\n",
              "    .dataframe tbody tr th:only-of-type {\n",
              "        vertical-align: middle;\n",
              "    }\n",
              "\n",
              "    .dataframe tbody tr th {\n",
              "        vertical-align: top;\n",
              "    }\n",
              "\n",
              "    .dataframe thead th {\n",
              "        text-align: right;\n",
              "    }\n",
              "</style>\n",
              "<table border=\"1\" class=\"dataframe\">\n",
              "  <thead>\n",
              "    <tr style=\"text-align: right;\">\n",
              "      <th></th>\n",
              "      <th>Make</th>\n",
              "      <th>Model</th>\n",
              "      <th>Year</th>\n",
              "      <th>Combust</th>\n",
              "      <th>HP</th>\n",
              "      <th>Cilindros</th>\n",
              "      <th>Transmision</th>\n",
              "      <th>Tracción</th>\n",
              "      <th>KPL-R</th>\n",
              "      <th>KPL-C</th>\n",
              "      <th>Precio</th>\n",
              "    </tr>\n",
              "  </thead>\n",
              "  <tbody>\n",
              "    <tr>\n",
              "      <th>0</th>\n",
              "      <td>BMW</td>\n",
              "      <td>1 Series M</td>\n",
              "      <td>2011</td>\n",
              "      <td>premium unleaded (required)</td>\n",
              "      <td>335.0</td>\n",
              "      <td>6.0</td>\n",
              "      <td>MANUAL</td>\n",
              "      <td>rear wheel drive</td>\n",
              "      <td>11.053744</td>\n",
              "      <td>8.077736</td>\n",
              "      <td>46135</td>\n",
              "    </tr>\n",
              "    <tr>\n",
              "      <th>1</th>\n",
              "      <td>BMW</td>\n",
              "      <td>1 Series</td>\n",
              "      <td>2011</td>\n",
              "      <td>premium unleaded (required)</td>\n",
              "      <td>300.0</td>\n",
              "      <td>6.0</td>\n",
              "      <td>MANUAL</td>\n",
              "      <td>rear wheel drive</td>\n",
              "      <td>11.904032</td>\n",
              "      <td>8.077736</td>\n",
              "      <td>40650</td>\n",
              "    </tr>\n",
              "    <tr>\n",
              "      <th>2</th>\n",
              "      <td>BMW</td>\n",
              "      <td>1 Series</td>\n",
              "      <td>2011</td>\n",
              "      <td>premium unleaded (required)</td>\n",
              "      <td>300.0</td>\n",
              "      <td>6.0</td>\n",
              "      <td>MANUAL</td>\n",
              "      <td>rear wheel drive</td>\n",
              "      <td>11.904032</td>\n",
              "      <td>8.502880</td>\n",
              "      <td>36350</td>\n",
              "    </tr>\n",
              "    <tr>\n",
              "      <th>3</th>\n",
              "      <td>BMW</td>\n",
              "      <td>1 Series</td>\n",
              "      <td>2011</td>\n",
              "      <td>premium unleaded (required)</td>\n",
              "      <td>230.0</td>\n",
              "      <td>6.0</td>\n",
              "      <td>MANUAL</td>\n",
              "      <td>rear wheel drive</td>\n",
              "      <td>11.904032</td>\n",
              "      <td>7.652592</td>\n",
              "      <td>29450</td>\n",
              "    </tr>\n",
              "    <tr>\n",
              "      <th>4</th>\n",
              "      <td>BMW</td>\n",
              "      <td>1 Series</td>\n",
              "      <td>2011</td>\n",
              "      <td>premium unleaded (required)</td>\n",
              "      <td>230.0</td>\n",
              "      <td>6.0</td>\n",
              "      <td>MANUAL</td>\n",
              "      <td>rear wheel drive</td>\n",
              "      <td>11.904032</td>\n",
              "      <td>7.652592</td>\n",
              "      <td>34500</td>\n",
              "    </tr>\n",
              "  </tbody>\n",
              "</table>\n",
              "</div>\n",
              "    <div class=\"colab-df-buttons\">\n",
              "\n",
              "  <div class=\"colab-df-container\">\n",
              "    <button class=\"colab-df-convert\" onclick=\"convertToInteractive('df-ca1b797c-3c15-40ff-8ae8-11cfa4820050')\"\n",
              "            title=\"Convert this dataframe to an interactive table.\"\n",
              "            style=\"display:none;\">\n",
              "\n",
              "  <svg xmlns=\"http://www.w3.org/2000/svg\" height=\"24px\" viewBox=\"0 -960 960 960\">\n",
              "    <path d=\"M120-120v-720h720v720H120Zm60-500h600v-160H180v160Zm220 220h160v-160H400v160Zm0 220h160v-160H400v160ZM180-400h160v-160H180v160Zm440 0h160v-160H620v160ZM180-180h160v-160H180v160Zm440 0h160v-160H620v160Z\"/>\n",
              "  </svg>\n",
              "    </button>\n",
              "\n",
              "  <style>\n",
              "    .colab-df-container {\n",
              "      display:flex;\n",
              "      gap: 12px;\n",
              "    }\n",
              "\n",
              "    .colab-df-convert {\n",
              "      background-color: #E8F0FE;\n",
              "      border: none;\n",
              "      border-radius: 50%;\n",
              "      cursor: pointer;\n",
              "      display: none;\n",
              "      fill: #1967D2;\n",
              "      height: 32px;\n",
              "      padding: 0 0 0 0;\n",
              "      width: 32px;\n",
              "    }\n",
              "\n",
              "    .colab-df-convert:hover {\n",
              "      background-color: #E2EBFA;\n",
              "      box-shadow: 0px 1px 2px rgba(60, 64, 67, 0.3), 0px 1px 3px 1px rgba(60, 64, 67, 0.15);\n",
              "      fill: #174EA6;\n",
              "    }\n",
              "\n",
              "    .colab-df-buttons div {\n",
              "      margin-bottom: 4px;\n",
              "    }\n",
              "\n",
              "    [theme=dark] .colab-df-convert {\n",
              "      background-color: #3B4455;\n",
              "      fill: #D2E3FC;\n",
              "    }\n",
              "\n",
              "    [theme=dark] .colab-df-convert:hover {\n",
              "      background-color: #434B5C;\n",
              "      box-shadow: 0px 1px 3px 1px rgba(0, 0, 0, 0.15);\n",
              "      filter: drop-shadow(0px 1px 2px rgba(0, 0, 0, 0.3));\n",
              "      fill: #FFFFFF;\n",
              "    }\n",
              "  </style>\n",
              "\n",
              "    <script>\n",
              "      const buttonEl =\n",
              "        document.querySelector('#df-ca1b797c-3c15-40ff-8ae8-11cfa4820050 button.colab-df-convert');\n",
              "      buttonEl.style.display =\n",
              "        google.colab.kernel.accessAllowed ? 'block' : 'none';\n",
              "\n",
              "      async function convertToInteractive(key) {\n",
              "        const element = document.querySelector('#df-ca1b797c-3c15-40ff-8ae8-11cfa4820050');\n",
              "        const dataTable =\n",
              "          await google.colab.kernel.invokeFunction('convertToInteractive',\n",
              "                                                    [key], {});\n",
              "        if (!dataTable) return;\n",
              "\n",
              "        const docLinkHtml = 'Like what you see? Visit the ' +\n",
              "          '<a target=\"_blank\" href=https://colab.research.google.com/notebooks/data_table.ipynb>data table notebook</a>'\n",
              "          + ' to learn more about interactive tables.';\n",
              "        element.innerHTML = '';\n",
              "        dataTable['output_type'] = 'display_data';\n",
              "        await google.colab.output.renderOutput(dataTable, element);\n",
              "        const docLink = document.createElement('div');\n",
              "        docLink.innerHTML = docLinkHtml;\n",
              "        element.appendChild(docLink);\n",
              "      }\n",
              "    </script>\n",
              "  </div>\n",
              "\n",
              "\n",
              "<div id=\"df-91338f8d-6509-42ec-b1be-4c22a3cf3006\">\n",
              "  <button class=\"colab-df-quickchart\" onclick=\"quickchart('df-91338f8d-6509-42ec-b1be-4c22a3cf3006')\"\n",
              "            title=\"Suggest charts.\"\n",
              "            style=\"display:none;\">\n",
              "\n",
              "<svg xmlns=\"http://www.w3.org/2000/svg\" height=\"24px\"viewBox=\"0 0 24 24\"\n",
              "     width=\"24px\">\n",
              "    <g>\n",
              "        <path d=\"M19 3H5c-1.1 0-2 .9-2 2v14c0 1.1.9 2 2 2h14c1.1 0 2-.9 2-2V5c0-1.1-.9-2-2-2zM9 17H7v-7h2v7zm4 0h-2V7h2v10zm4 0h-2v-4h2v4z\"/>\n",
              "    </g>\n",
              "</svg>\n",
              "  </button>\n",
              "\n",
              "<style>\n",
              "  .colab-df-quickchart {\n",
              "      --bg-color: #E8F0FE;\n",
              "      --fill-color: #1967D2;\n",
              "      --hover-bg-color: #E2EBFA;\n",
              "      --hover-fill-color: #174EA6;\n",
              "      --disabled-fill-color: #AAA;\n",
              "      --disabled-bg-color: #DDD;\n",
              "  }\n",
              "\n",
              "  [theme=dark] .colab-df-quickchart {\n",
              "      --bg-color: #3B4455;\n",
              "      --fill-color: #D2E3FC;\n",
              "      --hover-bg-color: #434B5C;\n",
              "      --hover-fill-color: #FFFFFF;\n",
              "      --disabled-bg-color: #3B4455;\n",
              "      --disabled-fill-color: #666;\n",
              "  }\n",
              "\n",
              "  .colab-df-quickchart {\n",
              "    background-color: var(--bg-color);\n",
              "    border: none;\n",
              "    border-radius: 50%;\n",
              "    cursor: pointer;\n",
              "    display: none;\n",
              "    fill: var(--fill-color);\n",
              "    height: 32px;\n",
              "    padding: 0;\n",
              "    width: 32px;\n",
              "  }\n",
              "\n",
              "  .colab-df-quickchart:hover {\n",
              "    background-color: var(--hover-bg-color);\n",
              "    box-shadow: 0 1px 2px rgba(60, 64, 67, 0.3), 0 1px 3px 1px rgba(60, 64, 67, 0.15);\n",
              "    fill: var(--button-hover-fill-color);\n",
              "  }\n",
              "\n",
              "  .colab-df-quickchart-complete:disabled,\n",
              "  .colab-df-quickchart-complete:disabled:hover {\n",
              "    background-color: var(--disabled-bg-color);\n",
              "    fill: var(--disabled-fill-color);\n",
              "    box-shadow: none;\n",
              "  }\n",
              "\n",
              "  .colab-df-spinner {\n",
              "    border: 2px solid var(--fill-color);\n",
              "    border-color: transparent;\n",
              "    border-bottom-color: var(--fill-color);\n",
              "    animation:\n",
              "      spin 1s steps(1) infinite;\n",
              "  }\n",
              "\n",
              "  @keyframes spin {\n",
              "    0% {\n",
              "      border-color: transparent;\n",
              "      border-bottom-color: var(--fill-color);\n",
              "      border-left-color: var(--fill-color);\n",
              "    }\n",
              "    20% {\n",
              "      border-color: transparent;\n",
              "      border-left-color: var(--fill-color);\n",
              "      border-top-color: var(--fill-color);\n",
              "    }\n",
              "    30% {\n",
              "      border-color: transparent;\n",
              "      border-left-color: var(--fill-color);\n",
              "      border-top-color: var(--fill-color);\n",
              "      border-right-color: var(--fill-color);\n",
              "    }\n",
              "    40% {\n",
              "      border-color: transparent;\n",
              "      border-right-color: var(--fill-color);\n",
              "      border-top-color: var(--fill-color);\n",
              "    }\n",
              "    60% {\n",
              "      border-color: transparent;\n",
              "      border-right-color: var(--fill-color);\n",
              "    }\n",
              "    80% {\n",
              "      border-color: transparent;\n",
              "      border-right-color: var(--fill-color);\n",
              "      border-bottom-color: var(--fill-color);\n",
              "    }\n",
              "    90% {\n",
              "      border-color: transparent;\n",
              "      border-bottom-color: var(--fill-color);\n",
              "    }\n",
              "  }\n",
              "</style>\n",
              "\n",
              "  <script>\n",
              "    async function quickchart(key) {\n",
              "      const quickchartButtonEl =\n",
              "        document.querySelector('#' + key + ' button');\n",
              "      quickchartButtonEl.disabled = true;  // To prevent multiple clicks.\n",
              "      quickchartButtonEl.classList.add('colab-df-spinner');\n",
              "      try {\n",
              "        const charts = await google.colab.kernel.invokeFunction(\n",
              "            'suggestCharts', [key], {});\n",
              "      } catch (error) {\n",
              "        console.error('Error during call to suggestCharts:', error);\n",
              "      }\n",
              "      quickchartButtonEl.classList.remove('colab-df-spinner');\n",
              "      quickchartButtonEl.classList.add('colab-df-quickchart-complete');\n",
              "    }\n",
              "    (() => {\n",
              "      let quickchartButtonEl =\n",
              "        document.querySelector('#df-91338f8d-6509-42ec-b1be-4c22a3cf3006 button');\n",
              "      quickchartButtonEl.style.display =\n",
              "        google.colab.kernel.accessAllowed ? 'block' : 'none';\n",
              "    })();\n",
              "  </script>\n",
              "</div>\n",
              "    </div>\n",
              "  </div>\n"
            ]
          },
          "metadata": {},
          "execution_count": 105
        }
      ],
      "source": [
        "## Cambiar los nombres\n",
        "df.head(5)"
      ]
    },
    {
      "cell_type": "code",
      "source": [
        "df.shape"
      ],
      "metadata": {
        "colab": {
          "base_uri": "https://localhost:8080/"
        },
        "id": "Cp6_G8R6Vt_3",
        "outputId": "ba462947-ae69-44ac-db55-21ca491779ef"
      },
      "execution_count": null,
      "outputs": [
        {
          "output_type": "execute_result",
          "data": {
            "text/plain": [
              "(10895, 11)"
            ]
          },
          "metadata": {},
          "execution_count": 106
        }
      ]
    },
    {
      "cell_type": "code",
      "source": [
        "##obtener las marcas mas populares (10 primeras)\n",
        "popular_brands =\n"
      ],
      "metadata": {
        "id": "2pZuDibRdnMY"
      },
      "execution_count": null,
      "outputs": []
    },
    {
      "cell_type": "code",
      "source": [
        "## Hagamos un diagrama de barras\n",
        "\n",
        "plt.figure(figsize=(16,9))\n",
        "plt.title('Marcas mas populares')\n",
        "plt.xlabel('Count')\n",
        "plt.ylabel('Model')\n",
        "sns.barplot(x = popular_brands.values, y = popular_brands.index);"
      ],
      "metadata": {
        "colab": {
          "base_uri": "https://localhost:8080/",
          "height": 795
        },
        "id": "nUcCSTHNbc7i",
        "outputId": "e94cd3d7-8ccf-4eb3-a7ed-771f8e7c5694"
      },
      "execution_count": null,
      "outputs": [
        {
          "output_type": "display_data",
          "data": {
            "text/plain": [
              "<Figure size 1600x900 with 1 Axes>"
            ],
            "image/png": "[encoded data removed]"
          },
          "metadata": {}
        }
      ]
    },
    {
      "cell_type": "markdown",
      "source": [
        "Cambiemos los valores de la columna Combust a sólo 4  \n",
        " extra95', 'extra98', 'diesel','otro'"
      ],
      "metadata": {
        "id": "HM6FvZyUatVd"
      }
    },
    {
      "cell_type": "code",
      "source": [
        "df[\"Combust\"] = .....................\n",
        "df.head()"
      ],
      "metadata": {
        "id": "0__tdnDkTLBA"
      },
      "execution_count": null,
      "outputs": []
    },
    {
      "cell_type": "code",
      "source": [
        "## Hagamos un gráfico circular del combustible preferido\n",
        "\n",
        "plt.figure(figsize=(10,10))\n",
        "plt.title(\"Combustible preferido\")\n",
        "space = np.ones(4)/25\n",
        "df['Combust'].value_counts().plot(kind='pie', explode=space, autopct='%.3f%%', wedgeprops=dict(width=0.15), startangle=40, figsize=(10,10), shadow=True, cmap='cividis', legend=True);\n"
      ],
      "metadata": {
        "colab": {
          "base_uri": "https://localhost:8080/",
          "height": 829
        },
        "id": "PEIHExXZM2Eo",
        "outputId": "6c4b1129-d838-4ef2-816d-31841be72a96"
      },
      "execution_count": null,
      "outputs": [
        {
          "output_type": "display_data",
          "data": {
            "text/plain": [
              "<Figure size 1000x1000 with 1 Axes>"
            ],
            "image/png": "[encoded data removed]"
          },
          "metadata": {}
        }
      ]
    },
    {
      "cell_type": "markdown",
      "metadata": {
        "id": "pWTLkZ8iDL2l"
      },
      "source": [
        "## 9. Detectando valores atípicos"
      ]
    },
    {
      "cell_type": "markdown",
      "metadata": {
        "id": "1g6CJPofZzHN"
      },
      "source": [
        "Un valor atípico es un punto o un set de puntos que son diferentes de otros en el dataset. A veces puede ser valores que están muy por debajo o muy por encima. En general suele ser una buena medida quitar estos valores que no resultan representativos. Estos valores atípicos suelen generar modelos que no resultan representativos. Es por ello que es una buena alternativa removerlos del dataset.  \n",
        "\n",
        "Abajo vemos cómo con Boxplot (o diagrama de cajas) podemos observar los valores atípicos rápidamente.\n",
        "\n",
        "Si quieren más info sobre cómo detectar valores atípicos pueden ver el siguiente artículo de [towards data science](https://towardsdatascience.com/ways-to-detect-and-remove-the-outliers-404d16608dba)."
      ]
    },
    {
      "cell_type": "markdown",
      "source": [
        "![box.png](data:image/png;base64,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)"
      ],
      "metadata": {
        "id": "Sl7J6VvzIsy9"
      }
    },
    {
      "cell_type": "markdown",
      "source": [
        "* Primer cuartil: el 25% de los valores son menores o igual a este valor (punto 2 en el gráfico anterior).   \n",
        "* Mediana o Segundo Cuartil: Divide en dos partes iguales la distribución. De forma que  el 50% de los valores son menores o igual a este valor (punto 3 en el gráfico siguiente).\n",
        "+ Tercer cuartil: el 75% de los valores son menores o igual a este valor (punto 4 en el gráfico siguiente).\n",
        "* Rango Intercuartílico (RIC): Diferencia entre el valor del tercer cuartil y el primer cuartil.\n",
        "\n",
        "\n"
      ],
      "metadata": {
        "id": "uYnfk03LIMY-"
      }
    },
    {
      "cell_type": "code",
      "execution_count": null,
      "metadata": {
        "id": "eGVvBJgADL2m"
      },
      "outputs": [],
      "source": [
        "## diagrama de cajas\n",
        "sns.boxplot(data=df)"
      ]
    },
    {
      "cell_type": "markdown",
      "metadata": {
        "id": "aLv-rr6aDL2m"
      },
      "source": [
        "Analicemos por separado para evitar el sesgo de Precio"
      ]
    },
    {
      "cell_type": "code",
      "execution_count": null,
      "metadata": {
        "id": "vtxX_y6zZ2ri"
      },
      "outputs": [],
      "source": [
        "sns.boxplot(x=df['Precio'])"
      ]
    },
    {
      "cell_type": "code",
      "execution_count": null,
      "metadata": {
        "id": "9HtvQYVHZ8u5"
      },
      "outputs": [],
      "source": [
        "sns.boxplot(x=df['HP'])"
      ]
    },
    {
      "cell_type": "code",
      "execution_count": null,
      "metadata": {
        "id": "Xz3MwIjbaBUr"
      },
      "outputs": [],
      "source": [
        "sns.boxplot(x=df['Cilindros'])"
      ]
    },
    {
      "cell_type": "markdown",
      "metadata": {
        "id": "kCv110_cJiDz"
      },
      "source": [
        "Analicemos la disperción del precio que como se ve, tiene valores outliers:"
      ]
    },
    {
      "cell_type": "code",
      "source": [
        "df['Precio'].describe()"
      ],
      "metadata": {
        "id": "FFt3SGSgLhXt"
      },
      "execution_count": null,
      "outputs": []
    },
    {
      "cell_type": "code",
      "execution_count": null,
      "metadata": {
        "id": "J93lvaH9DL2r"
      },
      "outputs": [],
      "source": [
        "sns.histplot(df['Precio'])"
      ]
    },
    {
      "cell_type": "markdown",
      "metadata": {
        "id": "RrklHJVtDL2r"
      },
      "source": [
        "Se observa que Precio tiene una larga cola hacia la derecha.\n",
        "\n",
        "Analicemos los deciles y algunos percentiles para entender esos valores anómalos. Para esto, usaremos el método quantile para calcular los percentiles.\n",
        "\n",
        "* Los cuartiles, que dividen a la distribución en cuatro partes (corresponden a los cuantiles 0,25; 0,50 y 0,75);\n",
        "* Los quintiles, que dividen a la distribución en cinco partes (corresponden a los cuantiles 0,20; 0,40; 0,60 y 0,80);\n",
        "* Los deciles, que dividen a la distribución en diez partes;\n",
        "* Los percentiles, que dividen a la distribución en cien partes.\n",
        "* En el método Quantile: 0, 0.5 y 1 equivalen a valores mínimo, mediana y máximo."
      ]
    },
    {
      "cell_type": "code",
      "execution_count": null,
      "metadata": {
        "id": "skL1UsD3DL2r"
      },
      "outputs": [],
      "source": [
        "sns.boxplot(x=df['Precio'])\n",
        "df['Precio'].quantile([0, .1, .2, .3, .4, .5, .6, .7, .8, .9, .97, .98, .99, 1])"
      ]
    },
    {
      "cell_type": "markdown",
      "metadata": {
        "id": "4FpPS2kuDL2s"
      },
      "source": [
        "Recortemos los outliers... por ejemplo, recortando entre 200 y el cuartil del 90% (67208 como vimos en la celda anterior)"
      ]
    },
    {
      "cell_type": "code",
      "execution_count": null,
      "metadata": {
        "id": "C2nkMLWbDL2s"
      },
      "outputs": [],
      "source": [
        "corte_inferior = 200\n",
        "corte_superior = df[\"Precio\"].quantile(0.9)\n",
        "\n",
        "df = df[(df[\"Precio\"] < corte_superior) & (df[\"Precio\"] > corte_inferior)]"
      ]
    },
    {
      "cell_type": "markdown",
      "metadata": {
        "id": "fOPvMEUcDL2s"
      },
      "source": [
        "Veamos cómo quedó la distribución después de eliminar los outliers:"
      ]
    },
    {
      "cell_type": "code",
      "execution_count": null,
      "metadata": {
        "id": "oB4LDeJXDL2s"
      },
      "outputs": [],
      "source": [
        "sns.boxplot(x=df['Precio'])"
      ]
    },
    {
      "cell_type": "code",
      "execution_count": null,
      "metadata": {
        "id": "A1_kQatFDL2t"
      },
      "outputs": [],
      "source": [
        "sns.distplot(df['Precio'])"
      ]
    },
    {
      "cell_type": "markdown",
      "metadata": {
        "id": "yq68aXP_DL2t"
      },
      "source": [
        "¿Cómo definimos el corte inferior? Mejor preguntemosle al área de negocio que nos pasó este set de datos."
      ]
    },
    {
      "cell_type": "markdown",
      "metadata": {
        "id": "WqFPRda8eEp_"
      },
      "source": [
        "## 10. Gráficas"
      ]
    },
    {
      "cell_type": "markdown",
      "metadata": {
        "id": "Z-W6Q9-hJosZ"
      },
      "source": [
        "### Histograma\n",
        "\n",
        "El histograma es una gráfica que representa la cantidad de ocurrencias de una variable en un intervalo determinado. En este dataset tenemos principalmente 10 diferentes marcas de fabricantes, pero es importante saber saber quién tiene la mayor cantidad de autos. Este histograma es una solución trivial para saber cuántos autos fabrica cada compañía."
      ]
    },
    {
      "cell_type": "code",
      "execution_count": null,
      "metadata": {
        "id": "dAnd4DSyeHDb"
      },
      "outputs": [],
      "source": [
        "df[\"Make\"].value_counts().plot(kind='bar', figsize=(20,5))\n",
        "plt.title(\"Cantidad de autos por marca\")\n",
        "plt.ylabel('Cantidad de autos')\n",
        "plt.xlabel('Marca');"
      ]
    },
    {
      "cell_type": "markdown",
      "metadata": {
        "id": "c37WtYYWJuAQ"
      },
      "source": [
        "### Mapas de calor\n",
        "\n",
        "Los mapas de calor son gráficas que sirven para determinar variables dependientes. Una de las mejores maneras para encontrar estas relaciones es utilizando un mapa de calor. En el siguiente mapa de calor encontramos que el precio es una característica dependiente del tamaño del motor, de la potencia y de la cantidad de cilindros."
      ]
    },
    {
      "cell_type": "code",
      "execution_count": null,
      "metadata": {
        "id": "yhHfLVTj6nmy"
      },
      "outputs": [],
      "source": [
        "correlaciones= df.corr()\n",
        "sns.heatmap(correlaciones,cmap=\"BrBG\",annot=True)\n",
        "correlaciones"
      ]
    },
    {
      "cell_type": "markdown",
      "metadata": {
        "id": "1ROThOLQfRZw"
      },
      "source": [
        "### Dispersión\n",
        "\n",
        "Usamos este tipo de gráficas para encontrar correlación entre 2 variables. Acá graficamos precio en función de la potencia."
      ]
    },
    {
      "cell_type": "code",
      "execution_count": null,
      "metadata": {
        "id": "2aOfHNFefSrX"
      },
      "outputs": [],
      "source": [
        "fig, ax = plt.subplots(figsize=(10,6))\n",
        "ax.scatter(df['HP'], df['Precio'])\n",
        "ax.set_xlabel('HP')\n",
        "ax.set_ylabel('Precio')\n",
        "plt.show()"
      ]
    },
    {
      "cell_type": "markdown",
      "metadata": {
        "id": "LU9iTiiSDL2v"
      },
      "source": [
        "Con la gráfica anterior vemos que se puede trazar claramente una línea de tendencia."
      ]
    }
  ],
  "metadata": {
    "colab": {
      "provenance": []
    },
    "kernelspec": {
      "display_name": "Python 3",
      "language": "python",
      "name": "python3"
    },
    "language_info": {
      "codemirror_mode": {
        "name": "ipython",
        "version": 3
      },
      "file_extension": ".py",
      "mimetype": "text/x-python",
      "name": "python",
      "nbconvert_exporter": "python",
      "pygments_lexer": "ipython3",
      "version": "3.7.7"
    }
  },
  "nbformat": 4,
  "nbformat_minor": 0
}