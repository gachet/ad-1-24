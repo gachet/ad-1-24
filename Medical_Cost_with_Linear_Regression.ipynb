{
  "metadata": {
    "kernelspec": {
      "language": "python",
      "display_name": "Python 3",
      "name": "python3"
    },
    "language_info": {
      "name": "python",
      "version": "3.11.13",
      "mimetype": "text/x-python",
      "codemirror_mode": {
        "name": "ipython",
        "version": 3
      },
      "pygments_lexer": "ipython3",
      "nbconvert_exporter": "python",
      "file_extension": ".py"
    },
    "kaggle": {
      "accelerator": "none",
      "dataSources": [
        {
          "sourceId": 18513,
          "sourceType": "datasetVersion",
          "datasetId": 13720
        }
      ],
      "dockerImageVersionId": 31154,
      "isInternetEnabled": true,
      "language": "python",
      "sourceType": "notebook",
      "isGpuEnabled": false
    },
    "colab": {
      "name": "Medical Cost with Linear Regression",
      "provenance": [],
      "include_colab_link": true
    }
  },
  "nbformat_minor": 0,
  "nbformat": 4,
  "cells": [
    {
      "cell_type": "markdown",
      "metadata": {
        "id": "view-in-github",
        "colab_type": "text"
      },
      "source": [
        "<a href=\"https://colab.research.google.com/github/gachet/ad-1-24/blob/main/Medical_Cost_with_Linear_Regression.ipynb\" target=\"_parent\"><img src=\"https://colab.research.google.com/assets/colab-badge.svg\" alt=\"Open In Colab\"/></a>"
      ]
    },
    {
      "source": [
        "# IMPORTANT: RUN THIS CELL IN ORDER TO IMPORT YOUR KAGGLE DATA SOURCES,\n",
        "# THEN FEEL FREE TO DELETE THIS CELL.\n",
        "# NOTE: THIS NOTEBOOK ENVIRONMENT DIFFERS FROM KAGGLE'S PYTHON\n",
        "# ENVIRONMENT SO THERE MAY BE MISSING LIBRARIES USED BY YOUR\n",
        "# NOTEBOOK.\n",
        "import kagglehub\n",
        "mirichoi0218_insurance_path = kagglehub.dataset_download('mirichoi0218/insurance')\n",
        "\n",
        "print('Data source import complete.')\n"
      ],
      "metadata": {
        "id": "KJYmYZHrFhIz"
      },
      "cell_type": "code",
      "outputs": [],
      "execution_count": null
    },
    {
      "cell_type": "markdown",
      "source": [
        "![](https://accessiahealth.org/app/uploads/2024/06/iStock-1351105760.jpg)"
      ],
      "metadata": {
        "id": "X_Zp8_JJFhI5"
      }
    },
    {
      "cell_type": "markdown",
      "source": [
        "## Introduction"
      ],
      "metadata": {
        "id": "jxHijW5dFhI7"
      }
    },
    {
      "cell_type": "markdown",
      "source": [
        "Healthcare costs continue to pose one of the most significant economic pressures on individuals, insurers, and society at large. Using the Insurance dataset — which captures personal attributes including age, sex, body mass index (BMI), number of children, smoking status, region, and the actual medical insurance charges billed — this project aims to build a predictive model for insurance cost (“charges”).\n",
        "\n",
        "By leveraging machine learning (or regression) techniques, the goal is two-fold: (1) understand which factors most strongly drive increasing medical insurance costs, and (2) provide a reliable cost-estimation tool that stakeholders (insurers, policy makers, individuals) can use for decision-making. Through data cleaning, exploratory data analysis, feature engineering, model selection, and evaluation, this work transforms raw variables into actionable insights about the financial risk embedded in health insurance."
      ],
      "metadata": {
        "id": "y3lg7CKKFhI7"
      }
    },
    {
      "cell_type": "markdown",
      "source": [
        "## 1- Import Libraries"
      ],
      "metadata": {
        "id": "eqw9Mh-xFhI8"
      }
    },
    {
      "cell_type": "code",
      "source": [
        "import pandas as pd\n",
        "import numpy as np\n",
        "import matplotlib.pyplot as plt\n",
        "from sklearn.model_selection import train_test_split\n",
        "import seaborn as sns\n",
        "from sklearn.linear_model import LinearRegression\n",
        "from sklearn.metrics import accuracy_score\n",
        "from sklearn.preprocessing import LabelEncoder, StandardScaler\n",
        "from sklearn.metrics import r2_score, mean_squared_error\n",
        "from sklearn.model_selection import cross_val_score\n",
        "\n",
        "import warnings\n",
        "from warnings import filterwarnings\n",
        "warnings.filterwarnings(\"ignore\", category=FutureWarning)\n",
        "warnings.filterwarnings(\"ignore\", category=UserWarning)\n",
        "filterwarnings(\"ignore\")"
      ],
      "metadata": {
        "trusted": true,
        "execution": {
          "iopub.status.busy": "2025-10-13T16:34:03.451244Z",
          "iopub.execute_input": "2025-10-13T16:34:03.451624Z",
          "iopub.status.idle": "2025-10-13T16:34:03.457742Z",
          "shell.execute_reply.started": "2025-10-13T16:34:03.451599Z",
          "shell.execute_reply": "2025-10-13T16:34:03.456625Z"
        },
        "id": "i-1e2iFzFhI9"
      },
      "outputs": [],
      "execution_count": null
    },
    {
      "cell_type": "markdown",
      "source": [
        "## 2- Load Dataset"
      ],
      "metadata": {
        "id": "Ck9H_jTpFhI-"
      }
    },
    {
      "cell_type": "code",
      "source": [
        "df=pd.read_csv(\"/kaggle/input/insurance/insurance.csv\")"
      ],
      "metadata": {
        "trusted": true,
        "execution": {
          "iopub.status.busy": "2025-10-13T16:34:03.459017Z",
          "iopub.execute_input": "2025-10-13T16:34:03.459428Z",
          "iopub.status.idle": "2025-10-13T16:34:03.484263Z",
          "shell.execute_reply.started": "2025-10-13T16:34:03.459397Z",
          "shell.execute_reply": "2025-10-13T16:34:03.483293Z"
        },
        "id": "GaHRmKEzFhI-"
      },
      "outputs": [],
      "execution_count": null
    },
    {
      "cell_type": "markdown",
      "source": [
        "## 3- Analyzing the Dataset"
      ],
      "metadata": {
        "id": "A6ICqgjSFhI_"
      }
    },
    {
      "cell_type": "code",
      "source": [
        "df.info()"
      ],
      "metadata": {
        "trusted": true,
        "execution": {
          "iopub.status.busy": "2025-10-13T16:34:03.485296Z",
          "iopub.execute_input": "2025-10-13T16:34:03.485567Z",
          "iopub.status.idle": "2025-10-13T16:34:03.497644Z",
          "shell.execute_reply.started": "2025-10-13T16:34:03.485546Z",
          "shell.execute_reply": "2025-10-13T16:34:03.496769Z"
        },
        "id": "1W1gvEYlFhJA"
      },
      "outputs": [],
      "execution_count": null
    },
    {
      "cell_type": "code",
      "source": [
        "df.head()"
      ],
      "metadata": {
        "trusted": true,
        "execution": {
          "iopub.status.busy": "2025-10-13T16:34:03.499505Z",
          "iopub.execute_input": "2025-10-13T16:34:03.499795Z",
          "iopub.status.idle": "2025-10-13T16:34:03.523808Z",
          "shell.execute_reply.started": "2025-10-13T16:34:03.499774Z",
          "shell.execute_reply": "2025-10-13T16:34:03.522779Z"
        },
        "id": "9d92nVUZFhJA"
      },
      "outputs": [],
      "execution_count": null
    },
    {
      "cell_type": "code",
      "source": [
        "df.describe().T"
      ],
      "metadata": {
        "trusted": true,
        "execution": {
          "iopub.status.busy": "2025-10-13T16:34:03.524847Z",
          "iopub.execute_input": "2025-10-13T16:34:03.525157Z",
          "iopub.status.idle": "2025-10-13T16:34:03.560783Z",
          "shell.execute_reply.started": "2025-10-13T16:34:03.525129Z",
          "shell.execute_reply": "2025-10-13T16:34:03.559801Z"
        },
        "id": "b95XeH_RFhJA"
      },
      "outputs": [],
      "execution_count": null
    },
    {
      "cell_type": "markdown",
      "source": [
        "## 4- EDA"
      ],
      "metadata": {
        "id": "-kgVeCltFhJB"
      }
    },
    {
      "cell_type": "code",
      "source": [
        "plt.figure(figsize=(6,4))\n",
        "sns.histplot(x=\"age\",data=df,kde=True,)\n",
        "plt.title('Distribution of Age')\n",
        "plt.show()"
      ],
      "metadata": {
        "trusted": true,
        "execution": {
          "iopub.status.busy": "2025-10-13T16:34:03.561878Z",
          "iopub.execute_input": "2025-10-13T16:34:03.562194Z",
          "iopub.status.idle": "2025-10-13T16:34:03.798124Z",
          "shell.execute_reply.started": "2025-10-13T16:34:03.562163Z",
          "shell.execute_reply": "2025-10-13T16:34:03.797265Z"
        },
        "id": "pWZTjXyLFhJB"
      },
      "outputs": [],
      "execution_count": null
    },
    {
      "cell_type": "code",
      "source": [
        "plt.figure(figsize=(12, 6))\n",
        "num_vars = ['age', 'bmi', 'children', 'charges']\n",
        "for i, var in enumerate(num_vars, 1):\n",
        "    plt.subplot(1, 4, i)\n",
        "    sns.boxplot(y=df[var], color='coral')\n",
        "    plt.title(f'{var} Box Plot')\n",
        "plt.tight_layout()\n",
        "plt.show()"
      ],
      "metadata": {
        "trusted": true,
        "execution": {
          "iopub.status.busy": "2025-10-13T16:34:03.798938Z",
          "iopub.execute_input": "2025-10-13T16:34:03.799181Z",
          "iopub.status.idle": "2025-10-13T16:34:04.318148Z",
          "shell.execute_reply.started": "2025-10-13T16:34:03.799163Z",
          "shell.execute_reply": "2025-10-13T16:34:04.317267Z"
        },
        "id": "VoviQAOTFhJB"
      },
      "outputs": [],
      "execution_count": null
    },
    {
      "cell_type": "code",
      "source": [
        "le=LabelEncoder()\n",
        "cols_to_encode = [\"sex\", \"smoker\", \"region\"]\n",
        "\n",
        "for col in cols_to_encode:\n",
        "    df[col] = le.fit_transform(df[col])"
      ],
      "metadata": {
        "trusted": true,
        "execution": {
          "iopub.status.busy": "2025-10-13T16:34:04.319281Z",
          "iopub.execute_input": "2025-10-13T16:34:04.319632Z",
          "iopub.status.idle": "2025-10-13T16:34:04.326785Z",
          "shell.execute_reply.started": "2025-10-13T16:34:04.319601Z",
          "shell.execute_reply": "2025-10-13T16:34:04.325808Z"
        },
        "id": "4tr6mFZzFhJC"
      },
      "outputs": [],
      "execution_count": null
    },
    {
      "cell_type": "markdown",
      "source": [
        "We are transforming our object data to numerical with Label Encoder"
      ],
      "metadata": {
        "id": "ICrzA_Q6FhJC"
      }
    },
    {
      "cell_type": "code",
      "source": [
        "df.head()"
      ],
      "metadata": {
        "trusted": true,
        "execution": {
          "iopub.status.busy": "2025-10-13T16:34:04.329035Z",
          "iopub.execute_input": "2025-10-13T16:34:04.329615Z",
          "iopub.status.idle": "2025-10-13T16:34:04.353492Z",
          "shell.execute_reply.started": "2025-10-13T16:34:04.32959Z",
          "shell.execute_reply": "2025-10-13T16:34:04.352634Z"
        },
        "id": "X-SuEftYFhJC"
      },
      "outputs": [],
      "execution_count": null
    },
    {
      "cell_type": "code",
      "source": [
        "numeric = df.select_dtypes(include=np.number)\n",
        "plt.figure(figsize=(10,8))\n",
        "sns.heatmap(numeric.corr(), annot=True, fmt=\".2f\", cmap='viridis', center=0)\n",
        "plt.title('Correlation heatmap of numeric features')\n",
        "plt.show()"
      ],
      "metadata": {
        "trusted": true,
        "execution": {
          "iopub.status.busy": "2025-10-13T16:34:04.354551Z",
          "iopub.execute_input": "2025-10-13T16:34:04.354815Z",
          "iopub.status.idle": "2025-10-13T16:34:04.680345Z",
          "shell.execute_reply.started": "2025-10-13T16:34:04.354793Z",
          "shell.execute_reply": "2025-10-13T16:34:04.679403Z"
        },
        "id": "N2Gra6M2FhJD"
      },
      "outputs": [],
      "execution_count": null
    },
    {
      "cell_type": "code",
      "source": [
        "df=df.drop(columns=\"region\")"
      ],
      "metadata": {
        "trusted": true,
        "execution": {
          "iopub.status.busy": "2025-10-13T16:34:04.681682Z",
          "iopub.execute_input": "2025-10-13T16:34:04.681939Z",
          "iopub.status.idle": "2025-10-13T16:34:04.68712Z",
          "shell.execute_reply.started": "2025-10-13T16:34:04.68192Z",
          "shell.execute_reply": "2025-10-13T16:34:04.68609Z"
        },
        "id": "c1-CnIIUFhJD"
      },
      "outputs": [],
      "execution_count": null
    },
    {
      "cell_type": "code",
      "source": [
        "df.head()"
      ],
      "metadata": {
        "trusted": true,
        "execution": {
          "iopub.status.busy": "2025-10-13T16:34:04.687983Z",
          "iopub.execute_input": "2025-10-13T16:34:04.688391Z",
          "iopub.status.idle": "2025-10-13T16:34:04.713076Z",
          "shell.execute_reply.started": "2025-10-13T16:34:04.688364Z",
          "shell.execute_reply": "2025-10-13T16:34:04.712142Z"
        },
        "id": "iMpxBpk0FhJD"
      },
      "outputs": [],
      "execution_count": null
    },
    {
      "cell_type": "markdown",
      "source": [
        "## 5- Seperate target and features"
      ],
      "metadata": {
        "id": "E30vwcFnFhJE"
      }
    },
    {
      "cell_type": "code",
      "source": [
        "x=df.drop(columns=\"charges\")\n",
        "y=df[\"charges\"]"
      ],
      "metadata": {
        "trusted": true,
        "execution": {
          "iopub.status.busy": "2025-10-13T16:34:04.713964Z",
          "iopub.execute_input": "2025-10-13T16:34:04.71427Z",
          "iopub.status.idle": "2025-10-13T16:34:04.73165Z",
          "shell.execute_reply.started": "2025-10-13T16:34:04.714248Z",
          "shell.execute_reply": "2025-10-13T16:34:04.730525Z"
        },
        "id": "DaJLyP6mFhJE"
      },
      "outputs": [],
      "execution_count": null
    },
    {
      "cell_type": "code",
      "source": [
        "scaler=StandardScaler()\n",
        "x=scaler.fit_transform(x)"
      ],
      "metadata": {
        "trusted": true,
        "execution": {
          "iopub.status.busy": "2025-10-13T16:34:04.732791Z",
          "iopub.execute_input": "2025-10-13T16:34:04.733101Z",
          "iopub.status.idle": "2025-10-13T16:34:04.755754Z",
          "shell.execute_reply.started": "2025-10-13T16:34:04.733079Z",
          "shell.execute_reply": "2025-10-13T16:34:04.754917Z"
        },
        "id": "q64cSyxbFhJE"
      },
      "outputs": [],
      "execution_count": null
    },
    {
      "cell_type": "markdown",
      "source": [
        "## 6- Linear Regression Model"
      ],
      "metadata": {
        "id": "xnjjmFIUFhJE"
      }
    },
    {
      "cell_type": "code",
      "source": [
        "x_train, x_test, y_train, y_test = train_test_split(x, y, train_size=0.8, random_state=42)\n",
        "\n",
        "model = LinearRegression()\n",
        "model.fit(x_train, y_train)\n",
        "model.score(x_test,y_test)"
      ],
      "metadata": {
        "trusted": true,
        "execution": {
          "iopub.status.busy": "2025-10-13T16:34:04.756694Z",
          "iopub.execute_input": "2025-10-13T16:34:04.757078Z",
          "iopub.status.idle": "2025-10-13T16:34:04.782294Z",
          "shell.execute_reply.started": "2025-10-13T16:34:04.757016Z",
          "shell.execute_reply": "2025-10-13T16:34:04.781573Z"
        },
        "id": "ULrpIQp0FhJF"
      },
      "outputs": [],
      "execution_count": null
    },
    {
      "cell_type": "code",
      "source": [
        "y_pred = model.predict(x_test)\n",
        "\n",
        "# (R2 ve MSE)\n",
        "print(\"R^2 Score:\", r2_score(y_test, y_pred))\n",
        "print(\"Mean Squared Error:\", mean_squared_error(y_test, y_pred))\n"
      ],
      "metadata": {
        "trusted": true,
        "execution": {
          "iopub.status.busy": "2025-10-13T16:34:04.783355Z",
          "iopub.execute_input": "2025-10-13T16:34:04.783618Z",
          "iopub.status.idle": "2025-10-13T16:34:04.802965Z",
          "shell.execute_reply.started": "2025-10-13T16:34:04.783597Z",
          "shell.execute_reply": "2025-10-13T16:34:04.802069Z"
        },
        "id": "Ap67gJ8XFhJF"
      },
      "outputs": [],
      "execution_count": null
    },
    {
      "cell_type": "code",
      "source": [
        "scores = cross_val_score(model, x, y, cv=5, scoring='r2')\n",
        "print(\"Cross Validation Scores: \",scores)\n",
        "print(\"Mean Score:\", scores.mean())"
      ],
      "metadata": {
        "trusted": true,
        "execution": {
          "iopub.status.busy": "2025-10-13T16:38:23.365881Z",
          "iopub.execute_input": "2025-10-13T16:38:23.366594Z",
          "iopub.status.idle": "2025-10-13T16:38:23.388024Z",
          "shell.execute_reply.started": "2025-10-13T16:38:23.366561Z",
          "shell.execute_reply": "2025-10-13T16:38:23.387127Z"
        },
        "id": "MBlrZhwKFhJF"
      },
      "outputs": [],
      "execution_count": null
    },
    {
      "cell_type": "markdown",
      "source": [
        "## Conclusion"
      ],
      "metadata": {
        "id": "uApnvKCnFhJF"
      }
    },
    {
      "cell_type": "markdown",
      "source": [
        "The modelling exercise revealed several illuminating patterns in the determinants of individual insurance charges. Key drivers — such as smoker status, BMI, and age — consistently emerged as strong predictors of higher costs. For example, smokers incur markedly higher charges compared to non-smokers, emphasising the premium impact of lifestyle choices.\n",
        "Nonetheless, the model also highlights that certain variables (such as region or number of children) contribute less than might be expected, suggesting that cost predictions cannot rely purely on demographic segmentation. Moreover, while the model achieved respectable performance, it also indicates that a sizeable portion of variance remains unaccounted for — underlining the complexity and individualized nature of healthcare expenses.\n",
        "Ultimately, this model serves as a valuable decision-support tool but should be used with consideration of its limitations. For future work, integrating longitudinal data, negotiated insurance claims, policy details or non-linear interaction effects could enhance predictive accuracy and yield deeper risk insights"
      ],
      "metadata": {
        "id": "ohL3ZLfdFhJG"
      }
    }
  ]
}