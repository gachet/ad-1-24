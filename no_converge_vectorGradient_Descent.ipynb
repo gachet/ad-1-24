{
  "cells": [
    {
      "cell_type": "markdown",
      "metadata": {
        "id": "view-in-github",
        "colab_type": "text"
      },
      "source": [
        "<a href=\"https://colab.research.google.com/github/gachet/ad-1-24/blob/main/no_converge_vectorGradient_Descent.ipynb\" target=\"_parent\"><img src=\"https://colab.research.google.com/assets/colab-badge.svg\" alt=\"Open In Colab\"/></a>"
      ]
    },
    {
      "cell_type": "code",
      "execution_count": 2,
      "metadata": {
        "collapsed": true,
        "id": "sinDeZ45qDbs"
      },
      "outputs": [],
      "source": [
        "import pandas as pd\n",
        "import numpy as np\n",
        "import matplotlib.pyplot as plt\n",
        "%matplotlib inline"
      ]
    },
    {
      "cell_type": "code",
      "source": [
        "blood_pressure_data = np.array([\n",
        "    [52, 173, 132],\n",
        "    [59, 184, 143],\n",
        "    [67, 194, 153],\n",
        "    [73, 211, 162],\n",
        "    [64, 196, 154],\n",
        "    [74, 220, 168],\n",
        "    [54, 188, 137],\n",
        "    [61, 188, 149],\n",
        "    [65, 207, 159],\n",
        "    [46, 167, 128],\n",
        "    [72, 217, 166]\n",
        "])"
      ],
      "metadata": {
        "id": "Cq6HbvEUpajN"
      },
      "execution_count": 3,
      "outputs": []
    },
    {
      "cell_type": "code",
      "source": [
        "data1 = pd.DataFrame(blood_pressure_data,columns=[\"age\",\"weight\",\"Sist\"])\n",
        "data1.head()"
      ],
      "metadata": {
        "id": "83u3Ya0fplh1",
        "outputId": "0494754d-0442-4768-acaf-2335c369bd1d",
        "colab": {
          "base_uri": "https://localhost:8080/",
          "height": 206
        }
      },
      "execution_count": 4,
      "outputs": [
        {
          "output_type": "execute_result",
          "data": {
            "text/plain": [
              "   age  weight  Sist\n",
              "0   52     173   132\n",
              "1   59     184   143\n",
              "2   67     194   153\n",
              "3   73     211   162\n",
              "4   64     196   154"
            ],
            "text/html": [
              "\n",
              "  <div id=\"df-eb9150da-d9fa-43b8-a2f6-b03e63131693\" class=\"colab-df-container\">\n",
              "    <div>\n",
              "<style scoped>\n",
              "    .dataframe tbody tr th:only-of-type {\n",
              "        vertical-align: middle;\n",
              "    }\n",
              "\n",
              "    .dataframe tbody tr th {\n",
              "        vertical-align: top;\n",
              "    }\n",
              "\n",
              "    .dataframe thead th {\n",
              "        text-align: right;\n",
              "    }\n",
              "</style>\n",
              "<table border=\"1\" class=\"dataframe\">\n",
              "  <thead>\n",
              "    <tr style=\"text-align: right;\">\n",
              "      <th></th>\n",
              "      <th>age</th>\n",
              "      <th>weight</th>\n",
              "      <th>Sist</th>\n",
              "    </tr>\n",
              "  </thead>\n",
              "  <tbody>\n",
              "    <tr>\n",
              "      <th>0</th>\n",
              "      <td>52</td>\n",
              "      <td>173</td>\n",
              "      <td>132</td>\n",
              "    </tr>\n",
              "    <tr>\n",
              "      <th>1</th>\n",
              "      <td>59</td>\n",
              "      <td>184</td>\n",
              "      <td>143</td>\n",
              "    </tr>\n",
              "    <tr>\n",
              "      <th>2</th>\n",
              "      <td>67</td>\n",
              "      <td>194</td>\n",
              "      <td>153</td>\n",
              "    </tr>\n",
              "    <tr>\n",
              "      <th>3</th>\n",
              "      <td>73</td>\n",
              "      <td>211</td>\n",
              "      <td>162</td>\n",
              "    </tr>\n",
              "    <tr>\n",
              "      <th>4</th>\n",
              "      <td>64</td>\n",
              "      <td>196</td>\n",
              "      <td>154</td>\n",
              "    </tr>\n",
              "  </tbody>\n",
              "</table>\n",
              "</div>\n",
              "    <div class=\"colab-df-buttons\">\n",
              "\n",
              "  <div class=\"colab-df-container\">\n",
              "    <button class=\"colab-df-convert\" onclick=\"convertToInteractive('df-eb9150da-d9fa-43b8-a2f6-b03e63131693')\"\n",
              "            title=\"Convert this dataframe to an interactive table.\"\n",
              "            style=\"display:none;\">\n",
              "\n",
              "  <svg xmlns=\"http://www.w3.org/2000/svg\" height=\"24px\" viewBox=\"0 -960 960 960\">\n",
              "    <path d=\"M120-120v-720h720v720H120Zm60-500h600v-160H180v160Zm220 220h160v-160H400v160Zm0 220h160v-160H400v160ZM180-400h160v-160H180v160Zm440 0h160v-160H620v160ZM180-180h160v-160H180v160Zm440 0h160v-160H620v160Z\"/>\n",
              "  </svg>\n",
              "    </button>\n",
              "\n",
              "  <style>\n",
              "    .colab-df-container {\n",
              "      display:flex;\n",
              "      gap: 12px;\n",
              "    }\n",
              "\n",
              "    .colab-df-convert {\n",
              "      background-color: #E8F0FE;\n",
              "      border: none;\n",
              "      border-radius: 50%;\n",
              "      cursor: pointer;\n",
              "      display: none;\n",
              "      fill: #1967D2;\n",
              "      height: 32px;\n",
              "      padding: 0 0 0 0;\n",
              "      width: 32px;\n",
              "    }\n",
              "\n",
              "    .colab-df-convert:hover {\n",
              "      background-color: #E2EBFA;\n",
              "      box-shadow: 0px 1px 2px rgba(60, 64, 67, 0.3), 0px 1px 3px 1px rgba(60, 64, 67, 0.15);\n",
              "      fill: #174EA6;\n",
              "    }\n",
              "\n",
              "    .colab-df-buttons div {\n",
              "      margin-bottom: 4px;\n",
              "    }\n",
              "\n",
              "    [theme=dark] .colab-df-convert {\n",
              "      background-color: #3B4455;\n",
              "      fill: #D2E3FC;\n",
              "    }\n",
              "\n",
              "    [theme=dark] .colab-df-convert:hover {\n",
              "      background-color: #434B5C;\n",
              "      box-shadow: 0px 1px 3px 1px rgba(0, 0, 0, 0.15);\n",
              "      filter: drop-shadow(0px 1px 2px rgba(0, 0, 0, 0.3));\n",
              "      fill: #FFFFFF;\n",
              "    }\n",
              "  </style>\n",
              "\n",
              "    <script>\n",
              "      const buttonEl =\n",
              "        document.querySelector('#df-eb9150da-d9fa-43b8-a2f6-b03e63131693 button.colab-df-convert');\n",
              "      buttonEl.style.display =\n",
              "        google.colab.kernel.accessAllowed ? 'block' : 'none';\n",
              "\n",
              "      async function convertToInteractive(key) {\n",
              "        const element = document.querySelector('#df-eb9150da-d9fa-43b8-a2f6-b03e63131693');\n",
              "        const dataTable =\n",
              "          await google.colab.kernel.invokeFunction('convertToInteractive',\n",
              "                                                    [key], {});\n",
              "        if (!dataTable) return;\n",
              "\n",
              "        const docLinkHtml = 'Like what you see? Visit the ' +\n",
              "          '<a target=\"_blank\" href=https://colab.research.google.com/notebooks/data_table.ipynb>data table notebook</a>'\n",
              "          + ' to learn more about interactive tables.';\n",
              "        element.innerHTML = '';\n",
              "        dataTable['output_type'] = 'display_data';\n",
              "        await google.colab.output.renderOutput(dataTable, element);\n",
              "        const docLink = document.createElement('div');\n",
              "        docLink.innerHTML = docLinkHtml;\n",
              "        element.appendChild(docLink);\n",
              "      }\n",
              "    </script>\n",
              "  </div>\n",
              "\n",
              "\n",
              "<div id=\"df-118ab8a8-c55d-4ac2-9505-addcdebb5960\">\n",
              "  <button class=\"colab-df-quickchart\" onclick=\"quickchart('df-118ab8a8-c55d-4ac2-9505-addcdebb5960')\"\n",
              "            title=\"Suggest charts\"\n",
              "            style=\"display:none;\">\n",
              "\n",
              "<svg xmlns=\"http://www.w3.org/2000/svg\" height=\"24px\"viewBox=\"0 0 24 24\"\n",
              "     width=\"24px\">\n",
              "    <g>\n",
              "        <path d=\"M19 3H5c-1.1 0-2 .9-2 2v14c0 1.1.9 2 2 2h14c1.1 0 2-.9 2-2V5c0-1.1-.9-2-2-2zM9 17H7v-7h2v7zm4 0h-2V7h2v10zm4 0h-2v-4h2v4z\"/>\n",
              "    </g>\n",
              "</svg>\n",
              "  </button>\n",
              "\n",
              "<style>\n",
              "  .colab-df-quickchart {\n",
              "      --bg-color: #E8F0FE;\n",
              "      --fill-color: #1967D2;\n",
              "      --hover-bg-color: #E2EBFA;\n",
              "      --hover-fill-color: #174EA6;\n",
              "      --disabled-fill-color: #AAA;\n",
              "      --disabled-bg-color: #DDD;\n",
              "  }\n",
              "\n",
              "  [theme=dark] .colab-df-quickchart {\n",
              "      --bg-color: #3B4455;\n",
              "      --fill-color: #D2E3FC;\n",
              "      --hover-bg-color: #434B5C;\n",
              "      --hover-fill-color: #FFFFFF;\n",
              "      --disabled-bg-color: #3B4455;\n",
              "      --disabled-fill-color: #666;\n",
              "  }\n",
              "\n",
              "  .colab-df-quickchart {\n",
              "    background-color: var(--bg-color);\n",
              "    border: none;\n",
              "    border-radius: 50%;\n",
              "    cursor: pointer;\n",
              "    display: none;\n",
              "    fill: var(--fill-color);\n",
              "    height: 32px;\n",
              "    padding: 0;\n",
              "    width: 32px;\n",
              "  }\n",
              "\n",
              "  .colab-df-quickchart:hover {\n",
              "    background-color: var(--hover-bg-color);\n",
              "    box-shadow: 0 1px 2px rgba(60, 64, 67, 0.3), 0 1px 3px 1px rgba(60, 64, 67, 0.15);\n",
              "    fill: var(--button-hover-fill-color);\n",
              "  }\n",
              "\n",
              "  .colab-df-quickchart-complete:disabled,\n",
              "  .colab-df-quickchart-complete:disabled:hover {\n",
              "    background-color: var(--disabled-bg-color);\n",
              "    fill: var(--disabled-fill-color);\n",
              "    box-shadow: none;\n",
              "  }\n",
              "\n",
              "  .colab-df-spinner {\n",
              "    border: 2px solid var(--fill-color);\n",
              "    border-color: transparent;\n",
              "    border-bottom-color: var(--fill-color);\n",
              "    animation:\n",
              "      spin 1s steps(1) infinite;\n",
              "  }\n",
              "\n",
              "  @keyframes spin {\n",
              "    0% {\n",
              "      border-color: transparent;\n",
              "      border-bottom-color: var(--fill-color);\n",
              "      border-left-color: var(--fill-color);\n",
              "    }\n",
              "    20% {\n",
              "      border-color: transparent;\n",
              "      border-left-color: var(--fill-color);\n",
              "      border-top-color: var(--fill-color);\n",
              "    }\n",
              "    30% {\n",
              "      border-color: transparent;\n",
              "      border-left-color: var(--fill-color);\n",
              "      border-top-color: var(--fill-color);\n",
              "      border-right-color: var(--fill-color);\n",
              "    }\n",
              "    40% {\n",
              "      border-color: transparent;\n",
              "      border-right-color: var(--fill-color);\n",
              "      border-top-color: var(--fill-color);\n",
              "    }\n",
              "    60% {\n",
              "      border-color: transparent;\n",
              "      border-right-color: var(--fill-color);\n",
              "    }\n",
              "    80% {\n",
              "      border-color: transparent;\n",
              "      border-right-color: var(--fill-color);\n",
              "      border-bottom-color: var(--fill-color);\n",
              "    }\n",
              "    90% {\n",
              "      border-color: transparent;\n",
              "      border-bottom-color: var(--fill-color);\n",
              "    }\n",
              "  }\n",
              "</style>\n",
              "\n",
              "  <script>\n",
              "    async function quickchart(key) {\n",
              "      const quickchartButtonEl =\n",
              "        document.querySelector('#' + key + ' button');\n",
              "      quickchartButtonEl.disabled = true;  // To prevent multiple clicks.\n",
              "      quickchartButtonEl.classList.add('colab-df-spinner');\n",
              "      try {\n",
              "        const charts = await google.colab.kernel.invokeFunction(\n",
              "            'suggestCharts', [key], {});\n",
              "      } catch (error) {\n",
              "        console.error('Error during call to suggestCharts:', error);\n",
              "      }\n",
              "      quickchartButtonEl.classList.remove('colab-df-spinner');\n",
              "      quickchartButtonEl.classList.add('colab-df-quickchart-complete');\n",
              "    }\n",
              "    (() => {\n",
              "      let quickchartButtonEl =\n",
              "        document.querySelector('#df-118ab8a8-c55d-4ac2-9505-addcdebb5960 button');\n",
              "      quickchartButtonEl.style.display =\n",
              "        google.colab.kernel.accessAllowed ? 'block' : 'none';\n",
              "    })();\n",
              "  </script>\n",
              "</div>\n",
              "\n",
              "    </div>\n",
              "  </div>\n"
            ],
            "application/vnd.google.colaboratory.intrinsic+json": {
              "type": "dataframe",
              "variable_name": "data1",
              "summary": "{\n  \"name\": \"data1\",\n  \"rows\": 11,\n  \"fields\": [\n    {\n      \"column\": \"age\",\n      \"properties\": {\n        \"dtype\": \"number\",\n        \"std\": 9,\n        \"min\": 46,\n        \"max\": 74,\n        \"num_unique_values\": 11,\n        \"samples\": [\n          74,\n          52,\n          46\n        ],\n        \"semantic_type\": \"\",\n        \"description\": \"\"\n      }\n    },\n    {\n      \"column\": \"weight\",\n      \"properties\": {\n        \"dtype\": \"number\",\n        \"std\": 17,\n        \"min\": 167,\n        \"max\": 220,\n        \"num_unique_values\": 10,\n        \"samples\": [\n          167,\n          184,\n          220\n        ],\n        \"semantic_type\": \"\",\n        \"description\": \"\"\n      }\n    },\n    {\n      \"column\": \"Sist\",\n      \"properties\": {\n        \"dtype\": \"number\",\n        \"std\": 13,\n        \"min\": 128,\n        \"max\": 168,\n        \"num_unique_values\": 11,\n        \"samples\": [\n          168,\n          132,\n          128\n        ],\n        \"semantic_type\": \"\",\n        \"description\": \"\"\n      }\n    }\n  ]\n}"
            }
          },
          "metadata": {},
          "execution_count": 4
        }
      ]
    },
    {
      "cell_type": "markdown",
      "metadata": {
        "id": "hl0L5J9SqDbx"
      },
      "source": [
        "## Cost Function\n",
        "Resulta que para crear la mejor línea para modelar los datos, queremos elegir parámetros $\\beta$ que permitan que nuestro valor predicho sea lo más cercano posible al valor real. En otras palabras, queremos que se minimice la distancia  entre nuestra hipótesis $h(x)$ e y.\n",
        "\n",
        "Entonces definimos formalmente una función de costo usando mínimos cuadrados ordinarios que es simplemente la suma de las distancias al cuadrado. Para encontrar la recta de regresión lineal, minimizamos:\n",
        "$$J(\\beta) = \\frac{1}{2m}\\sum_{i=1}^m(h_\\beta(x^{(i)})-y^{(i)})^2$$\n",
        "\n",
        "Nuevamente la hipótesis que estamos tratando de encontrar viene dada por el modelo lineal:\n",
        "$$h_\\beta(x) = \\beta^{T}x = \\beta_0 + \\beta_1x_1$$\n",
        "\n",
        "Los parámetros del modelo son los valores beta. Ajustamos $\\beta_j$ para minimizar la función de coste $J(\\beta)$.\n",
        "\n",
        "Y podemos usar el descenso de gradiente por lotes donde cada iteración realiza la actualización.\n",
        "$$\\beta_j := \\beta_j - \\alpha\\frac{1}{m}\\sum_{i=1}^m (h_\\beta(x^{(i)})-y^{(i)}) x_{j}^{(i)}$$"
      ]
    },
    {
      "cell_type": "markdown",
      "metadata": {
        "id": "_g3ZTkM5qDby"
      },
      "source": [
        "Estamos intentando encontrar el mínimo local en esta función. Si comenzamos en el primer punto rojo en x = 2, encontramos el gradiente (derivada) y nos movemos en su contra. En este caso, la pendiente es negativa. Y como la pendiente es negativa, nuestro próximo intento es más hacia la derecha. Acercándonos así al mínimo.\n",
        "\n",
        "De hecho, seguimos actualizando nuestro parámetro beta para acercarnos cada vez más al mínimo.\n",
        "$$\\beta_j := \\beta_j - \\alpha\\frac{\\partial}{\\partial \\beta_j} J(\\beta)$$\n",
        "Donde $\\alpha$ es nuestra tasa de aprendizaje y $J(\\beta)$ es nuestra función de costos. Al ajustar alfa, podemos cambiar la rapidez con la que convergemos al mínimo (a riesgo de sobrepasarlo por completo y no converger a nuestro mínimo local).\n",
        "\n",
        "¿Deducir la fórmula final?"
      ]
    },
    {
      "cell_type": "markdown",
      "metadata": {
        "id": "b82AGZ4xqDby"
      },
      "source": [
        "Bien, intentemos implementar esto en Python. Primero declaro algunos parámetros. Alfa es mi tasa de aprendizaje y las iteraciones definen cuántas veces quiero realizar la actualización.\n",
        "\n",
        "Luego transformo el marco de datos que contiene mis datos en una matriz para obtener matemáticas matriciales más simples. Y luego escriba una función auxiliar para calcular la función de costo como se define anteriormente. Usando np.dot para la multiplicación de matrices internas"
      ]
    },
    {
      "cell_type": "code",
      "source": [
        "## Split population and profit into X and y\n",
        "\n",
        "data1['intercept'] = 1\n",
        "X_df = data1[[\"intercept\",\"age\",\"weight\"]]\n",
        "y_df = pd.DataFrame(data1.Sist)\n",
        "\n",
        "## Length, or number of observations, in our data\n",
        "m = len(y_df)"
      ],
      "metadata": {
        "id": "Ew0m-GeIqJY7"
      },
      "execution_count": 29,
      "outputs": []
    },
    {
      "cell_type": "code",
      "execution_count": 41,
      "metadata": {
        "id": "heS3QMRuqDbz"
      },
      "outputs": [],
      "source": [
        "## Add a columns of 1s as intercept to X\n",
        "\n",
        "\n",
        "## Transform to Numpy arrays for easier matrix math and start theta at 0\n",
        "X = np.array(X_df)\n",
        "y = np.array(y_df)\n",
        "theta = np.array([0, 0,0])"
      ]
    },
    {
      "cell_type": "code",
      "source": [
        "X"
      ],
      "metadata": {
        "id": "qz-DlshSrljP",
        "outputId": "965ffbcc-fabd-4f97-d0f3-773b83b5615d",
        "colab": {
          "base_uri": "https://localhost:8080/"
        }
      },
      "execution_count": 42,
      "outputs": [
        {
          "output_type": "execute_result",
          "data": {
            "text/plain": [
              "array([[  1,  52, 173],\n",
              "       [  1,  59, 184],\n",
              "       [  1,  67, 194],\n",
              "       [  1,  73, 211],\n",
              "       [  1,  64, 196],\n",
              "       [  1,  74, 220],\n",
              "       [  1,  54, 188],\n",
              "       [  1,  61, 188],\n",
              "       [  1,  65, 207],\n",
              "       [  1,  46, 167],\n",
              "       [  1,  72, 217]])"
            ]
          },
          "metadata": {},
          "execution_count": 42
        }
      ]
    },
    {
      "cell_type": "code",
      "source": [
        "y"
      ],
      "metadata": {
        "id": "Atwg_gY7rnz2",
        "outputId": "020c2ef0-717c-4627-c671-e1e0ea243f7b",
        "colab": {
          "base_uri": "https://localhost:8080/"
        }
      },
      "execution_count": 43,
      "outputs": [
        {
          "output_type": "execute_result",
          "data": {
            "text/plain": [
              "array([[132],\n",
              "       [143],\n",
              "       [153],\n",
              "       [162],\n",
              "       [154],\n",
              "       [168],\n",
              "       [137],\n",
              "       [149],\n",
              "       [159],\n",
              "       [128],\n",
              "       [166]])"
            ]
          },
          "metadata": {},
          "execution_count": 43
        }
      ]
    },
    {
      "cell_type": "code",
      "source": [
        "theta=theta.reshape(3,1)\n",
        "theta"
      ],
      "metadata": {
        "id": "TeBv_OAosgKG",
        "outputId": "bf45afa6-a9de-43b7-e44e-47088f9d414c",
        "colab": {
          "base_uri": "https://localhost:8080/"
        }
      },
      "execution_count": 61,
      "outputs": [
        {
          "output_type": "execute_result",
          "data": {
            "text/plain": [
              "array([[0],\n",
              "       [0],\n",
              "       [0]])"
            ]
          },
          "metadata": {},
          "execution_count": 61
        }
      ]
    },
    {
      "cell_type": "code",
      "execution_count": 56,
      "metadata": {
        "id": "wgA8_J9cqDbz"
      },
      "outputs": [],
      "source": [
        "def cost_function(X, y, theta):\n",
        "    \"\"\"\n",
        "    cost_function(X, y, theta) computes the cost of using theta as the\n",
        "    parameter for linear regression to fit the data points in X and y\n",
        "    \"\"\"\n",
        "    ## number of training examples\n",
        "    m = len(y)\n",
        "\n",
        "    ## Calculate the cost with the given parameters\n",
        "    J = np.sum((X.dot(theta)-y)**2)/(2*m)\n",
        "\n",
        "    return J"
      ]
    },
    {
      "cell_type": "code",
      "execution_count": 57,
      "metadata": {
        "colab": {
          "base_uri": "https://localhost:8080/"
        },
        "id": "PEt3nu2cqDbz",
        "outputId": "5b544322-9507-4af7-ea31-1ef566d98f91"
      },
      "outputs": [
        {
          "output_type": "execute_result",
          "data": {
            "text/plain": [
              "11348.045454545454"
            ]
          },
          "metadata": {},
          "execution_count": 57
        }
      ],
      "source": [
        "cost_function(X, y, theta)"
      ]
    },
    {
      "cell_type": "markdown",
      "metadata": {
        "id": "I8SFVRJMqDb0"
      },
      "source": [
        "Ahora, divido el algoritmo de descenso de gradiente en 4 partes para poder ver qué está pasando. Además, me gusta comprobar las dimensiones de mi matriz para asegurarme de que estoy haciendo los cálculos en el orden correcto.\n",
        "1. calcular la hipótesis[97x1] = x[97x2] * theta[2x1]\n",
        "2. calcular la pérdida [97x1] con resta de elementos\n",
        "3. calcular el gradiente [2x1] = X' [2x97] * pérdida [97*1]\n",
        "4. actualice el parámetro theta [2x1] después de la resta de elementos multiplicada por un escalar\n",
        "5. encuentre el costo usando cost_function()"
      ]
    },
    {
      "cell_type": "code",
      "execution_count": 68,
      "metadata": {
        "id": "w2IJtWakqDb0"
      },
      "outputs": [],
      "source": [
        "def gradient_descent(X, y, theta, alpha, iterations):\n",
        "    \"\"\"\n",
        "    gradient_descent Performs gradient descent to learn theta\n",
        "    theta = GRADIENTDESENT(X, y, theta, alpha, num_iters) updates theta by\n",
        "    taking num_iters gradient steps with learning rate alpha\n",
        "    \"\"\"\n",
        "    cost_history = [0] * iterations\n",
        "\n",
        "    for iteration in range(iterations):\n",
        "        hypothesis = X.dot(theta)\n",
        "        loss = hypothesis-y\n",
        "\n",
        "        gradient = X.T.dot(loss)/m\n",
        "        theta = theta - alpha*gradient\n",
        "        cost = cost_function(X, y, theta)\n",
        "        print(\"cost\",cost)\n",
        "        cost_history[iteration] = cost\n",
        "\n",
        "    return theta, cost_history\n"
      ]
    },
    {
      "cell_type": "code",
      "execution_count": 69,
      "metadata": {
        "id": "ksw12QBYqDby"
      },
      "outputs": [],
      "source": [
        "iterations = 4\n",
        "alpha = 0.01"
      ]
    },
    {
      "cell_type": "code",
      "execution_count": 70,
      "metadata": {
        "scrolled": true,
        "id": "GevBeWJQqDb0",
        "outputId": "92d3a09a-9c23-4d80-e625-1d95e5d79f95",
        "colab": {
          "base_uri": "https://localhost:8080/"
        }
      },
      "outputs": [
        {
          "output_type": "stream",
          "name": "stdout",
          "text": [
            "cost 2016363522.5811813\n",
            "cost 358396533396519.56\n",
            "cost 6.370283629553482e+19\n",
            "cost 1.1322797443484312e+25\n"
          ]
        }
      ],
      "source": [
        "(t, c) = gradient_descent(X,y,theta,alpha, iterations)"
      ]
    },
    {
      "cell_type": "code",
      "execution_count": null,
      "metadata": {
        "colab": {
          "base_uri": "https://localhost:8080/"
        },
        "id": "bex1Sl34qDb0",
        "outputId": "d2745716-aaa7-457e-e860-a9c7dc99ffcc"
      },
      "outputs": [
        {
          "output_type": "stream",
          "name": "stdout",
          "text": [
            "[ 1.16636235 -3.63029144]\n"
          ]
        }
      ],
      "source": [
        "## Print theta parameters\n",
        "print (t)"
      ]
    },
    {
      "cell_type": "code",
      "execution_count": null,
      "metadata": {
        "colab": {
          "base_uri": "https://localhost:8080/"
        },
        "id": "yMGDdD29qDb0",
        "outputId": "ef430682-476d-47c0-ea0f-ceba83b5b21f"
      },
      "outputs": [
        {
          "output_type": "stream",
          "name": "stdout",
          "text": [
            "0.4519767867701767\n",
            "4.534245012944714\n"
          ]
        }
      ],
      "source": [
        "## Prediction\n",
        "print (np.array([3.5, 1]).dot(t))\n",
        "print (np.array([7, 1]).dot(t))"
      ]
    },
    {
      "cell_type": "code",
      "execution_count": null,
      "metadata": {
        "id": "UlgnHtobqDb1"
      },
      "outputs": [],
      "source": [
        "## Plotting the best fit line\n",
        "best_fit_x = np.linspace(0, 25, 20)\n",
        "best_fit_y = [t[1] + t[0]*xx for xx in best_fit_x]"
      ]
    },
    {
      "cell_type": "code",
      "execution_count": null,
      "metadata": {
        "colab": {
          "base_uri": "https://localhost:8080/",
          "height": 581
        },
        "id": "rJp01O6-qDb1",
        "outputId": "08561da9-c771-43b0-f052-d95a397aae32"
      },
      "outputs": [
        {
          "output_type": "execute_result",
          "data": {
            "text/plain": [
              "Text(0.5, 1.0, 'Profit vs. Population with Linear Regression Line')"
            ]
          },
          "metadata": {},
          "execution_count": 23
        },
        {
          "output_type": "display_data",
          "data": {
            "text/plain": [
              "<Figure size 1000x600 with 1 Axes>"
            ],
            "image/png": "[encoded data removed]"
          },
          "metadata": {}
        }
      ],
      "source": [
        "plt.figure(figsize=(10,6))\n",
        "plt.plot(X_df.Poblacion, y_df, '.')\n",
        "plt.plot(best_fit_x, best_fit_y, '-')\n",
        "plt.axis([0,25,-5,25])\n",
        "plt.xlabel('Population of City in 10,000s')\n",
        "plt.ylabel('Profit in $10,000s')\n",
        "plt.title('Profit vs. Population with Linear Regression Line')"
      ]
    },
    {
      "cell_type": "code",
      "execution_count": null,
      "metadata": {
        "collapsed": true,
        "id": "mqjwZjikqDb1"
      },
      "outputs": [],
      "source": []
    }
  ],
  "metadata": {
    "kernelspec": {
      "display_name": "Python 2",
      "language": "python",
      "name": "python2"
    },
    "language_info": {
      "codemirror_mode": {
        "name": "ipython",
        "version": 2
      },
      "file_extension": ".py",
      "mimetype": "text/x-python",
      "name": "python",
      "nbconvert_exporter": "python",
      "pygments_lexer": "ipython2",
      "version": "2.7.11"
    },
    "colab": {
      "provenance": [],
      "include_colab_link": true
    }
  },
  "nbformat": 4,
  "nbformat_minor": 0
}