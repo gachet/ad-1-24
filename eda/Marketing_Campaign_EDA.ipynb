{
  "cells": [
    {
      "cell_type": "markdown",
      "metadata": {
        "id": "view-in-github",
        "colab_type": "text"
      },
      "source": [
        "<a href=\"https://colab.research.google.com/github/gachet/ad-1-24/blob/main/eda/Marketing_Campaign_EDA.ipynb\" target=\"_parent\"><img src=\"https://colab.research.google.com/assets/colab-badge.svg\" alt=\"Open In Colab\"/></a>"
      ]
    },
    {
      "cell_type": "code",
      "execution_count": 1,
      "id": "5922d650",
      "metadata": {
        "id": "5922d650"
      },
      "outputs": [],
      "source": [
        "# asking some questions first\n",
        "\n",
        "# which campaign performed the best, which did the worst\n",
        "# which sales channel performs the best, which does the worst\n",
        "# what kinds of products are doing well?\n",
        "# areas of improvement?"
      ]
    },
    {
      "cell_type": "code",
      "execution_count": 2,
      "id": "ee9d3fee",
      "metadata": {
        "id": "ee9d3fee"
      },
      "outputs": [],
      "source": [
        "# read the csv file on google drive into a dataframe\n",
        "\n",
        "import pandas as pd\n",
        "import numpy as np\n",
        "\n",
        "# set google drive file access to 'anyone with a link first'\n",
        "\n",
        "url='https://drive.google.com/file/d/14z4MTjpeWhu9mN249GBvJ9EpFTQaweyC/view?usp=sharing'\n",
        "file_id=url.split('/')[-2]\n",
        "dwn_url='https://drive.google.com/uc?id='+file_id\n",
        "df=pd.read_csv(dwn_url, parse_dates=['Dt_Customer'])"
      ]
    },
    {
      "cell_type": "code",
      "execution_count": 3,
      "id": "2e5048e6",
      "metadata": {
        "id": "2e5048e6"
      },
      "outputs": [],
      "source": [
        "# Data Cleaning"
      ]
    },
    {
      "cell_type": "code",
      "execution_count": 4,
      "id": "639aa028",
      "metadata": {
        "scrolled": true,
        "id": "639aa028",
        "outputId": "9bc9740f-a157-4d0d-a46a-f4a9b2accf89",
        "colab": {
          "base_uri": "https://localhost:8080/",
          "height": 255
        }
      },
      "outputs": [
        {
          "output_type": "execute_result",
          "data": {
            "text/plain": [
              "      ID  Year_Birth   Education Marital_Status   Income   Kidhome  Teenhome  \\\n",
              "0   1826        1970  Graduation       Divorced   84835.0        0         0   \n",
              "1      1        1961  Graduation         Single   57091.0        0         0   \n",
              "2  10476        1958  Graduation        Married   67267.0        0         1   \n",
              "3   1386        1967  Graduation       Together   32474.0        1         1   \n",
              "4   5371        1989  Graduation         Single   21474.0        1         0   \n",
              "\n",
              "  Dt_Customer  Recency  MntWines  ...  NumStorePurchases  NumWebVisitsMonth  \\\n",
              "0  2014-06-16        0       189  ...                  6                  1   \n",
              "1  2014-06-15        0       464  ...                  7                  5   \n",
              "2  2014-05-13        0       134  ...                  5                  2   \n",
              "3  2014-05-11        0        10  ...                  2                  7   \n",
              "4  2014-04-08        0         6  ...                  2                  7   \n",
              "\n",
              "   AcceptedCmp3  AcceptedCmp4  AcceptedCmp5  AcceptedCmp1  AcceptedCmp2  \\\n",
              "0             0             0             0             0             0   \n",
              "1             0             0             0             0             1   \n",
              "2             0             0             0             0             0   \n",
              "3             0             0             0             0             0   \n",
              "4             1             0             0             0             0   \n",
              "\n",
              "   Response  Complain    Country  \n",
              "0         1         0      Spain  \n",
              "1         1         0     Canada  \n",
              "2         0         0        USA  \n",
              "3         0         0  Australia  \n",
              "4         1         0      Spain  \n",
              "\n",
              "[5 rows x 28 columns]"
            ],
            "text/html": [
              "\n",
              "  <div id=\"df-3147654f-8f33-4e27-bc9e-84175978a275\" class=\"colab-df-container\">\n",
              "    <div>\n",
              "<style scoped>\n",
              "    .dataframe tbody tr th:only-of-type {\n",
              "        vertical-align: middle;\n",
              "    }\n",
              "\n",
              "    .dataframe tbody tr th {\n",
              "        vertical-align: top;\n",
              "    }\n",
              "\n",
              "    .dataframe thead th {\n",
              "        text-align: right;\n",
              "    }\n",
              "</style>\n",
              "<table border=\"1\" class=\"dataframe\">\n",
              "  <thead>\n",
              "    <tr style=\"text-align: right;\">\n",
              "      <th></th>\n",
              "      <th>ID</th>\n",
              "      <th>Year_Birth</th>\n",
              "      <th>Education</th>\n",
              "      <th>Marital_Status</th>\n",
              "      <th>Income</th>\n",
              "      <th>Kidhome</th>\n",
              "      <th>Teenhome</th>\n",
              "      <th>Dt_Customer</th>\n",
              "      <th>Recency</th>\n",
              "      <th>MntWines</th>\n",
              "      <th>...</th>\n",
              "      <th>NumStorePurchases</th>\n",
              "      <th>NumWebVisitsMonth</th>\n",
              "      <th>AcceptedCmp3</th>\n",
              "      <th>AcceptedCmp4</th>\n",
              "      <th>AcceptedCmp5</th>\n",
              "      <th>AcceptedCmp1</th>\n",
              "      <th>AcceptedCmp2</th>\n",
              "      <th>Response</th>\n",
              "      <th>Complain</th>\n",
              "      <th>Country</th>\n",
              "    </tr>\n",
              "  </thead>\n",
              "  <tbody>\n",
              "    <tr>\n",
              "      <th>0</th>\n",
              "      <td>1826</td>\n",
              "      <td>1970</td>\n",
              "      <td>Graduation</td>\n",
              "      <td>Divorced</td>\n",
              "      <td>84835.0</td>\n",
              "      <td>0</td>\n",
              "      <td>0</td>\n",
              "      <td>2014-06-16</td>\n",
              "      <td>0</td>\n",
              "      <td>189</td>\n",
              "      <td>...</td>\n",
              "      <td>6</td>\n",
              "      <td>1</td>\n",
              "      <td>0</td>\n",
              "      <td>0</td>\n",
              "      <td>0</td>\n",
              "      <td>0</td>\n",
              "      <td>0</td>\n",
              "      <td>1</td>\n",
              "      <td>0</td>\n",
              "      <td>Spain</td>\n",
              "    </tr>\n",
              "    <tr>\n",
              "      <th>1</th>\n",
              "      <td>1</td>\n",
              "      <td>1961</td>\n",
              "      <td>Graduation</td>\n",
              "      <td>Single</td>\n",
              "      <td>57091.0</td>\n",
              "      <td>0</td>\n",
              "      <td>0</td>\n",
              "      <td>2014-06-15</td>\n",
              "      <td>0</td>\n",
              "      <td>464</td>\n",
              "      <td>...</td>\n",
              "      <td>7</td>\n",
              "      <td>5</td>\n",
              "      <td>0</td>\n",
              "      <td>0</td>\n",
              "      <td>0</td>\n",
              "      <td>0</td>\n",
              "      <td>1</td>\n",
              "      <td>1</td>\n",
              "      <td>0</td>\n",
              "      <td>Canada</td>\n",
              "    </tr>\n",
              "    <tr>\n",
              "      <th>2</th>\n",
              "      <td>10476</td>\n",
              "      <td>1958</td>\n",
              "      <td>Graduation</td>\n",
              "      <td>Married</td>\n",
              "      <td>67267.0</td>\n",
              "      <td>0</td>\n",
              "      <td>1</td>\n",
              "      <td>2014-05-13</td>\n",
              "      <td>0</td>\n",
              "      <td>134</td>\n",
              "      <td>...</td>\n",
              "      <td>5</td>\n",
              "      <td>2</td>\n",
              "      <td>0</td>\n",
              "      <td>0</td>\n",
              "      <td>0</td>\n",
              "      <td>0</td>\n",
              "      <td>0</td>\n",
              "      <td>0</td>\n",
              "      <td>0</td>\n",
              "      <td>USA</td>\n",
              "    </tr>\n",
              "    <tr>\n",
              "      <th>3</th>\n",
              "      <td>1386</td>\n",
              "      <td>1967</td>\n",
              "      <td>Graduation</td>\n",
              "      <td>Together</td>\n",
              "      <td>32474.0</td>\n",
              "      <td>1</td>\n",
              "      <td>1</td>\n",
              "      <td>2014-05-11</td>\n",
              "      <td>0</td>\n",
              "      <td>10</td>\n",
              "      <td>...</td>\n",
              "      <td>2</td>\n",
              "      <td>7</td>\n",
              "      <td>0</td>\n",
              "      <td>0</td>\n",
              "      <td>0</td>\n",
              "      <td>0</td>\n",
              "      <td>0</td>\n",
              "      <td>0</td>\n",
              "      <td>0</td>\n",
              "      <td>Australia</td>\n",
              "    </tr>\n",
              "    <tr>\n",
              "      <th>4</th>\n",
              "      <td>5371</td>\n",
              "      <td>1989</td>\n",
              "      <td>Graduation</td>\n",
              "      <td>Single</td>\n",
              "      <td>21474.0</td>\n",
              "      <td>1</td>\n",
              "      <td>0</td>\n",
              "      <td>2014-04-08</td>\n",
              "      <td>0</td>\n",
              "      <td>6</td>\n",
              "      <td>...</td>\n",
              "      <td>2</td>\n",
              "      <td>7</td>\n",
              "      <td>1</td>\n",
              "      <td>0</td>\n",
              "      <td>0</td>\n",
              "      <td>0</td>\n",
              "      <td>0</td>\n",
              "      <td>1</td>\n",
              "      <td>0</td>\n",
              "      <td>Spain</td>\n",
              "    </tr>\n",
              "  </tbody>\n",
              "</table>\n",
              "<p>5 rows × 28 columns</p>\n",
              "</div>\n",
              "    <div class=\"colab-df-buttons\">\n",
              "\n",
              "  <div class=\"colab-df-container\">\n",
              "    <button class=\"colab-df-convert\" onclick=\"convertToInteractive('df-3147654f-8f33-4e27-bc9e-84175978a275')\"\n",
              "            title=\"Convert this dataframe to an interactive table.\"\n",
              "            style=\"display:none;\">\n",
              "\n",
              "  <svg xmlns=\"http://www.w3.org/2000/svg\" height=\"24px\" viewBox=\"0 -960 960 960\">\n",
              "    <path d=\"M120-120v-720h720v720H120Zm60-500h600v-160H180v160Zm220 220h160v-160H400v160Zm0 220h160v-160H400v160ZM180-400h160v-160H180v160Zm440 0h160v-160H620v160ZM180-180h160v-160H180v160Zm440 0h160v-160H620v160Z\"/>\n",
              "  </svg>\n",
              "    </button>\n",
              "\n",
              "  <style>\n",
              "    .colab-df-container {\n",
              "      display:flex;\n",
              "      gap: 12px;\n",
              "    }\n",
              "\n",
              "    .colab-df-convert {\n",
              "      background-color: #E8F0FE;\n",
              "      border: none;\n",
              "      border-radius: 50%;\n",
              "      cursor: pointer;\n",
              "      display: none;\n",
              "      fill: #1967D2;\n",
              "      height: 32px;\n",
              "      padding: 0 0 0 0;\n",
              "      width: 32px;\n",
              "    }\n",
              "\n",
              "    .colab-df-convert:hover {\n",
              "      background-color: #E2EBFA;\n",
              "      box-shadow: 0px 1px 2px rgba(60, 64, 67, 0.3), 0px 1px 3px 1px rgba(60, 64, 67, 0.15);\n",
              "      fill: #174EA6;\n",
              "    }\n",
              "\n",
              "    .colab-df-buttons div {\n",
              "      margin-bottom: 4px;\n",
              "    }\n",
              "\n",
              "    [theme=dark] .colab-df-convert {\n",
              "      background-color: #3B4455;\n",
              "      fill: #D2E3FC;\n",
              "    }\n",
              "\n",
              "    [theme=dark] .colab-df-convert:hover {\n",
              "      background-color: #434B5C;\n",
              "      box-shadow: 0px 1px 3px 1px rgba(0, 0, 0, 0.15);\n",
              "      filter: drop-shadow(0px 1px 2px rgba(0, 0, 0, 0.3));\n",
              "      fill: #FFFFFF;\n",
              "    }\n",
              "  </style>\n",
              "\n",
              "    <script>\n",
              "      const buttonEl =\n",
              "        document.querySelector('#df-3147654f-8f33-4e27-bc9e-84175978a275 button.colab-df-convert');\n",
              "      buttonEl.style.display =\n",
              "        google.colab.kernel.accessAllowed ? 'block' : 'none';\n",
              "\n",
              "      async function convertToInteractive(key) {\n",
              "        const element = document.querySelector('#df-3147654f-8f33-4e27-bc9e-84175978a275');\n",
              "        const dataTable =\n",
              "          await google.colab.kernel.invokeFunction('convertToInteractive',\n",
              "                                                    [key], {});\n",
              "        if (!dataTable) return;\n",
              "\n",
              "        const docLinkHtml = 'Like what you see? Visit the ' +\n",
              "          '<a target=\"_blank\" href=https://colab.research.google.com/notebooks/data_table.ipynb>data table notebook</a>'\n",
              "          + ' to learn more about interactive tables.';\n",
              "        element.innerHTML = '';\n",
              "        dataTable['output_type'] = 'display_data';\n",
              "        await google.colab.output.renderOutput(dataTable, element);\n",
              "        const docLink = document.createElement('div');\n",
              "        docLink.innerHTML = docLinkHtml;\n",
              "        element.appendChild(docLink);\n",
              "      }\n",
              "    </script>\n",
              "  </div>\n",
              "\n",
              "\n",
              "<div id=\"df-06d514b1-bf38-40f4-be64-9ee8a7b696be\">\n",
              "  <button class=\"colab-df-quickchart\" onclick=\"quickchart('df-06d514b1-bf38-40f4-be64-9ee8a7b696be')\"\n",
              "            title=\"Suggest charts\"\n",
              "            style=\"display:none;\">\n",
              "\n",
              "<svg xmlns=\"http://www.w3.org/2000/svg\" height=\"24px\"viewBox=\"0 0 24 24\"\n",
              "     width=\"24px\">\n",
              "    <g>\n",
              "        <path d=\"M19 3H5c-1.1 0-2 .9-2 2v14c0 1.1.9 2 2 2h14c1.1 0 2-.9 2-2V5c0-1.1-.9-2-2-2zM9 17H7v-7h2v7zm4 0h-2V7h2v10zm4 0h-2v-4h2v4z\"/>\n",
              "    </g>\n",
              "</svg>\n",
              "  </button>\n",
              "\n",
              "<style>\n",
              "  .colab-df-quickchart {\n",
              "      --bg-color: #E8F0FE;\n",
              "      --fill-color: #1967D2;\n",
              "      --hover-bg-color: #E2EBFA;\n",
              "      --hover-fill-color: #174EA6;\n",
              "      --disabled-fill-color: #AAA;\n",
              "      --disabled-bg-color: #DDD;\n",
              "  }\n",
              "\n",
              "  [theme=dark] .colab-df-quickchart {\n",
              "      --bg-color: #3B4455;\n",
              "      --fill-color: #D2E3FC;\n",
              "      --hover-bg-color: #434B5C;\n",
              "      --hover-fill-color: #FFFFFF;\n",
              "      --disabled-bg-color: #3B4455;\n",
              "      --disabled-fill-color: #666;\n",
              "  }\n",
              "\n",
              "  .colab-df-quickchart {\n",
              "    background-color: var(--bg-color);\n",
              "    border: none;\n",
              "    border-radius: 50%;\n",
              "    cursor: pointer;\n",
              "    display: none;\n",
              "    fill: var(--fill-color);\n",
              "    height: 32px;\n",
              "    padding: 0;\n",
              "    width: 32px;\n",
              "  }\n",
              "\n",
              "  .colab-df-quickchart:hover {\n",
              "    background-color: var(--hover-bg-color);\n",
              "    box-shadow: 0 1px 2px rgba(60, 64, 67, 0.3), 0 1px 3px 1px rgba(60, 64, 67, 0.15);\n",
              "    fill: var(--button-hover-fill-color);\n",
              "  }\n",
              "\n",
              "  .colab-df-quickchart-complete:disabled,\n",
              "  .colab-df-quickchart-complete:disabled:hover {\n",
              "    background-color: var(--disabled-bg-color);\n",
              "    fill: var(--disabled-fill-color);\n",
              "    box-shadow: none;\n",
              "  }\n",
              "\n",
              "  .colab-df-spinner {\n",
              "    border: 2px solid var(--fill-color);\n",
              "    border-color: transparent;\n",
              "    border-bottom-color: var(--fill-color);\n",
              "    animation:\n",
              "      spin 1s steps(1) infinite;\n",
              "  }\n",
              "\n",
              "  @keyframes spin {\n",
              "    0% {\n",
              "      border-color: transparent;\n",
              "      border-bottom-color: var(--fill-color);\n",
              "      border-left-color: var(--fill-color);\n",
              "    }\n",
              "    20% {\n",
              "      border-color: transparent;\n",
              "      border-left-color: var(--fill-color);\n",
              "      border-top-color: var(--fill-color);\n",
              "    }\n",
              "    30% {\n",
              "      border-color: transparent;\n",
              "      border-left-color: var(--fill-color);\n",
              "      border-top-color: var(--fill-color);\n",
              "      border-right-color: var(--fill-color);\n",
              "    }\n",
              "    40% {\n",
              "      border-color: transparent;\n",
              "      border-right-color: var(--fill-color);\n",
              "      border-top-color: var(--fill-color);\n",
              "    }\n",
              "    60% {\n",
              "      border-color: transparent;\n",
              "      border-right-color: var(--fill-color);\n",
              "    }\n",
              "    80% {\n",
              "      border-color: transparent;\n",
              "      border-right-color: var(--fill-color);\n",
              "      border-bottom-color: var(--fill-color);\n",
              "    }\n",
              "    90% {\n",
              "      border-color: transparent;\n",
              "      border-bottom-color: var(--fill-color);\n",
              "    }\n",
              "  }\n",
              "</style>\n",
              "\n",
              "  <script>\n",
              "    async function quickchart(key) {\n",
              "      const quickchartButtonEl =\n",
              "        document.querySelector('#' + key + ' button');\n",
              "      quickchartButtonEl.disabled = true;  // To prevent multiple clicks.\n",
              "      quickchartButtonEl.classList.add('colab-df-spinner');\n",
              "      try {\n",
              "        const charts = await google.colab.kernel.invokeFunction(\n",
              "            'suggestCharts', [key], {});\n",
              "      } catch (error) {\n",
              "        console.error('Error during call to suggestCharts:', error);\n",
              "      }\n",
              "      quickchartButtonEl.classList.remove('colab-df-spinner');\n",
              "      quickchartButtonEl.classList.add('colab-df-quickchart-complete');\n",
              "    }\n",
              "    (() => {\n",
              "      let quickchartButtonEl =\n",
              "        document.querySelector('#df-06d514b1-bf38-40f4-be64-9ee8a7b696be button');\n",
              "      quickchartButtonEl.style.display =\n",
              "        google.colab.kernel.accessAllowed ? 'block' : 'none';\n",
              "    })();\n",
              "  </script>\n",
              "</div>\n",
              "\n",
              "    </div>\n",
              "  </div>\n"
            ],
            "application/vnd.google.colaboratory.intrinsic+json": {
              "type": "dataframe",
              "variable_name": "df"
            }
          },
          "metadata": {},
          "execution_count": 4
        }
      ],
      "source": [
        "df.head()"
      ]
    },
    {
      "cell_type": "code",
      "execution_count": 5,
      "id": "826b8748",
      "metadata": {
        "id": "826b8748",
        "outputId": "1673c6ed-ba98-412b-af91-02c4fc1ba5b9",
        "colab": {
          "base_uri": "https://localhost:8080/"
        }
      },
      "outputs": [
        {
          "output_type": "execute_result",
          "data": {
            "text/plain": [
              "Index(['ID', 'Year_Birth', 'Education', 'Marital_Status', ' Income ',\n",
              "       'Kidhome', 'Teenhome', 'Dt_Customer', 'Recency', 'MntWines',\n",
              "       'MntFruits', 'MntMeatProducts', 'MntFishProducts', 'MntSweetProducts',\n",
              "       'MntGoldProds', 'NumDealsPurchases', 'NumWebPurchases',\n",
              "       'NumCatalogPurchases', 'NumStorePurchases', 'NumWebVisitsMonth',\n",
              "       'AcceptedCmp3', 'AcceptedCmp4', 'AcceptedCmp5', 'AcceptedCmp1',\n",
              "       'AcceptedCmp2', 'Response', 'Complain', 'Country'],\n",
              "      dtype='object')"
            ]
          },
          "metadata": {},
          "execution_count": 5
        }
      ],
      "source": [
        "df.columns"
      ]
    },
    {
      "cell_type": "code",
      "execution_count": 6,
      "id": "3f8f4ace",
      "metadata": {
        "scrolled": false,
        "id": "3f8f4ace",
        "outputId": "4eb8b110-eb04-4eb1-f56a-716125e5fe6d",
        "colab": {
          "base_uri": "https://localhost:8080/"
        }
      },
      "outputs": [
        {
          "output_type": "stream",
          "name": "stdout",
          "text": [
            "<class 'pandas.core.frame.DataFrame'>\n",
            "RangeIndex: 2240 entries, 0 to 2239\n",
            "Data columns (total 28 columns):\n",
            " #   Column               Non-Null Count  Dtype         \n",
            "---  ------               --------------  -----         \n",
            " 0   ID                   2240 non-null   int64         \n",
            " 1   Year_Birth           2240 non-null   int64         \n",
            " 2   Education            2240 non-null   object        \n",
            " 3   Marital_Status       2240 non-null   object        \n",
            " 4    Income              2216 non-null   float64       \n",
            " 5   Kidhome              2240 non-null   int64         \n",
            " 6   Teenhome             2240 non-null   int64         \n",
            " 7   Dt_Customer          2240 non-null   datetime64[ns]\n",
            " 8   Recency              2240 non-null   int64         \n",
            " 9   MntWines             2240 non-null   int64         \n",
            " 10  MntFruits            2240 non-null   int64         \n",
            " 11  MntMeatProducts      2240 non-null   int64         \n",
            " 12  MntFishProducts      2240 non-null   int64         \n",
            " 13  MntSweetProducts     2240 non-null   int64         \n",
            " 14  MntGoldProds         2240 non-null   int64         \n",
            " 15  NumDealsPurchases    2240 non-null   int64         \n",
            " 16  NumWebPurchases      2240 non-null   int64         \n",
            " 17  NumCatalogPurchases  2240 non-null   int64         \n",
            " 18  NumStorePurchases    2240 non-null   int64         \n",
            " 19  NumWebVisitsMonth    2240 non-null   int64         \n",
            " 20  AcceptedCmp3         2240 non-null   int64         \n",
            " 21  AcceptedCmp4         2240 non-null   int64         \n",
            " 22  AcceptedCmp5         2240 non-null   int64         \n",
            " 23  AcceptedCmp1         2240 non-null   int64         \n",
            " 24  AcceptedCmp2         2240 non-null   int64         \n",
            " 25  Response             2240 non-null   int64         \n",
            " 26  Complain             2240 non-null   int64         \n",
            " 27  Country              2240 non-null   object        \n",
            "dtypes: datetime64[ns](1), float64(1), int64(23), object(3)\n",
            "memory usage: 490.1+ KB\n"
          ]
        }
      ],
      "source": [
        "df.info()"
      ]
    },
    {
      "cell_type": "code",
      "execution_count": 7,
      "id": "c60d708c",
      "metadata": {
        "id": "c60d708c",
        "outputId": "83af8eb7-d6bc-4f46-c703-5ad274300934",
        "colab": {
          "base_uri": "https://localhost:8080/",
          "height": 255
        }
      },
      "outputs": [
        {
          "output_type": "execute_result",
          "data": {
            "text/plain": [
              "      ID  Year_Birth   Education Marital_Status   Income   Kidhome  Teenhome  \\\n",
              "0   1826        1970  Graduation       Divorced   84835.0        0         0   \n",
              "1      1        1961  Graduation         Single   57091.0        0         0   \n",
              "2  10476        1958  Graduation        Married   67267.0        0         1   \n",
              "3   1386        1967  Graduation       Together   32474.0        1         1   \n",
              "4   5371        1989  Graduation         Single   21474.0        1         0   \n",
              "\n",
              "  Dt_Customer  Recency  MntWines  ...  NumWebVisitsMonth  AcceptedCmp3  \\\n",
              "0  2014-06-16        0       189  ...                  1             0   \n",
              "1  2014-06-15        0       464  ...                  5             0   \n",
              "2  2014-05-13        0       134  ...                  2             0   \n",
              "3  2014-05-11        0        10  ...                  7             0   \n",
              "4  2014-04-08        0         6  ...                  7             1   \n",
              "\n",
              "   AcceptedCmp4  AcceptedCmp5  AcceptedCmp1  AcceptedCmp2  Response  Complain  \\\n",
              "0             0             0             0             0         1         0   \n",
              "1             0             0             0             1         1         0   \n",
              "2             0             0             0             0         0         0   \n",
              "3             0             0             0             0         0         0   \n",
              "4             0             0             0             0         1         0   \n",
              "\n",
              "     Country  Age  \n",
              "0      Spain   54  \n",
              "1     Canada   63  \n",
              "2        USA   66  \n",
              "3  Australia   57  \n",
              "4      Spain   35  \n",
              "\n",
              "[5 rows x 29 columns]"
            ],
            "text/html": [
              "\n",
              "  <div id=\"df-6d2d2bed-f5f2-43d1-87a9-625746b6a36d\" class=\"colab-df-container\">\n",
              "    <div>\n",
              "<style scoped>\n",
              "    .dataframe tbody tr th:only-of-type {\n",
              "        vertical-align: middle;\n",
              "    }\n",
              "\n",
              "    .dataframe tbody tr th {\n",
              "        vertical-align: top;\n",
              "    }\n",
              "\n",
              "    .dataframe thead th {\n",
              "        text-align: right;\n",
              "    }\n",
              "</style>\n",
              "<table border=\"1\" class=\"dataframe\">\n",
              "  <thead>\n",
              "    <tr style=\"text-align: right;\">\n",
              "      <th></th>\n",
              "      <th>ID</th>\n",
              "      <th>Year_Birth</th>\n",
              "      <th>Education</th>\n",
              "      <th>Marital_Status</th>\n",
              "      <th>Income</th>\n",
              "      <th>Kidhome</th>\n",
              "      <th>Teenhome</th>\n",
              "      <th>Dt_Customer</th>\n",
              "      <th>Recency</th>\n",
              "      <th>MntWines</th>\n",
              "      <th>...</th>\n",
              "      <th>NumWebVisitsMonth</th>\n",
              "      <th>AcceptedCmp3</th>\n",
              "      <th>AcceptedCmp4</th>\n",
              "      <th>AcceptedCmp5</th>\n",
              "      <th>AcceptedCmp1</th>\n",
              "      <th>AcceptedCmp2</th>\n",
              "      <th>Response</th>\n",
              "      <th>Complain</th>\n",
              "      <th>Country</th>\n",
              "      <th>Age</th>\n",
              "    </tr>\n",
              "  </thead>\n",
              "  <tbody>\n",
              "    <tr>\n",
              "      <th>0</th>\n",
              "      <td>1826</td>\n",
              "      <td>1970</td>\n",
              "      <td>Graduation</td>\n",
              "      <td>Divorced</td>\n",
              "      <td>84835.0</td>\n",
              "      <td>0</td>\n",
              "      <td>0</td>\n",
              "      <td>2014-06-16</td>\n",
              "      <td>0</td>\n",
              "      <td>189</td>\n",
              "      <td>...</td>\n",
              "      <td>1</td>\n",
              "      <td>0</td>\n",
              "      <td>0</td>\n",
              "      <td>0</td>\n",
              "      <td>0</td>\n",
              "      <td>0</td>\n",
              "      <td>1</td>\n",
              "      <td>0</td>\n",
              "      <td>Spain</td>\n",
              "      <td>54</td>\n",
              "    </tr>\n",
              "    <tr>\n",
              "      <th>1</th>\n",
              "      <td>1</td>\n",
              "      <td>1961</td>\n",
              "      <td>Graduation</td>\n",
              "      <td>Single</td>\n",
              "      <td>57091.0</td>\n",
              "      <td>0</td>\n",
              "      <td>0</td>\n",
              "      <td>2014-06-15</td>\n",
              "      <td>0</td>\n",
              "      <td>464</td>\n",
              "      <td>...</td>\n",
              "      <td>5</td>\n",
              "      <td>0</td>\n",
              "      <td>0</td>\n",
              "      <td>0</td>\n",
              "      <td>0</td>\n",
              "      <td>1</td>\n",
              "      <td>1</td>\n",
              "      <td>0</td>\n",
              "      <td>Canada</td>\n",
              "      <td>63</td>\n",
              "    </tr>\n",
              "    <tr>\n",
              "      <th>2</th>\n",
              "      <td>10476</td>\n",
              "      <td>1958</td>\n",
              "      <td>Graduation</td>\n",
              "      <td>Married</td>\n",
              "      <td>67267.0</td>\n",
              "      <td>0</td>\n",
              "      <td>1</td>\n",
              "      <td>2014-05-13</td>\n",
              "      <td>0</td>\n",
              "      <td>134</td>\n",
              "      <td>...</td>\n",
              "      <td>2</td>\n",
              "      <td>0</td>\n",
              "      <td>0</td>\n",
              "      <td>0</td>\n",
              "      <td>0</td>\n",
              "      <td>0</td>\n",
              "      <td>0</td>\n",
              "      <td>0</td>\n",
              "      <td>USA</td>\n",
              "      <td>66</td>\n",
              "    </tr>\n",
              "    <tr>\n",
              "      <th>3</th>\n",
              "      <td>1386</td>\n",
              "      <td>1967</td>\n",
              "      <td>Graduation</td>\n",
              "      <td>Together</td>\n",
              "      <td>32474.0</td>\n",
              "      <td>1</td>\n",
              "      <td>1</td>\n",
              "      <td>2014-05-11</td>\n",
              "      <td>0</td>\n",
              "      <td>10</td>\n",
              "      <td>...</td>\n",
              "      <td>7</td>\n",
              "      <td>0</td>\n",
              "      <td>0</td>\n",
              "      <td>0</td>\n",
              "      <td>0</td>\n",
              "      <td>0</td>\n",
              "      <td>0</td>\n",
              "      <td>0</td>\n",
              "      <td>Australia</td>\n",
              "      <td>57</td>\n",
              "    </tr>\n",
              "    <tr>\n",
              "      <th>4</th>\n",
              "      <td>5371</td>\n",
              "      <td>1989</td>\n",
              "      <td>Graduation</td>\n",
              "      <td>Single</td>\n",
              "      <td>21474.0</td>\n",
              "      <td>1</td>\n",
              "      <td>0</td>\n",
              "      <td>2014-04-08</td>\n",
              "      <td>0</td>\n",
              "      <td>6</td>\n",
              "      <td>...</td>\n",
              "      <td>7</td>\n",
              "      <td>1</td>\n",
              "      <td>0</td>\n",
              "      <td>0</td>\n",
              "      <td>0</td>\n",
              "      <td>0</td>\n",
              "      <td>1</td>\n",
              "      <td>0</td>\n",
              "      <td>Spain</td>\n",
              "      <td>35</td>\n",
              "    </tr>\n",
              "  </tbody>\n",
              "</table>\n",
              "<p>5 rows × 29 columns</p>\n",
              "</div>\n",
              "    <div class=\"colab-df-buttons\">\n",
              "\n",
              "  <div class=\"colab-df-container\">\n",
              "    <button class=\"colab-df-convert\" onclick=\"convertToInteractive('df-6d2d2bed-f5f2-43d1-87a9-625746b6a36d')\"\n",
              "            title=\"Convert this dataframe to an interactive table.\"\n",
              "            style=\"display:none;\">\n",
              "\n",
              "  <svg xmlns=\"http://www.w3.org/2000/svg\" height=\"24px\" viewBox=\"0 -960 960 960\">\n",
              "    <path d=\"M120-120v-720h720v720H120Zm60-500h600v-160H180v160Zm220 220h160v-160H400v160Zm0 220h160v-160H400v160ZM180-400h160v-160H180v160Zm440 0h160v-160H620v160ZM180-180h160v-160H180v160Zm440 0h160v-160H620v160Z\"/>\n",
              "  </svg>\n",
              "    </button>\n",
              "\n",
              "  <style>\n",
              "    .colab-df-container {\n",
              "      display:flex;\n",
              "      gap: 12px;\n",
              "    }\n",
              "\n",
              "    .colab-df-convert {\n",
              "      background-color: #E8F0FE;\n",
              "      border: none;\n",
              "      border-radius: 50%;\n",
              "      cursor: pointer;\n",
              "      display: none;\n",
              "      fill: #1967D2;\n",
              "      height: 32px;\n",
              "      padding: 0 0 0 0;\n",
              "      width: 32px;\n",
              "    }\n",
              "\n",
              "    .colab-df-convert:hover {\n",
              "      background-color: #E2EBFA;\n",
              "      box-shadow: 0px 1px 2px rgba(60, 64, 67, 0.3), 0px 1px 3px 1px rgba(60, 64, 67, 0.15);\n",
              "      fill: #174EA6;\n",
              "    }\n",
              "\n",
              "    .colab-df-buttons div {\n",
              "      margin-bottom: 4px;\n",
              "    }\n",
              "\n",
              "    [theme=dark] .colab-df-convert {\n",
              "      background-color: #3B4455;\n",
              "      fill: #D2E3FC;\n",
              "    }\n",
              "\n",
              "    [theme=dark] .colab-df-convert:hover {\n",
              "      background-color: #434B5C;\n",
              "      box-shadow: 0px 1px 3px 1px rgba(0, 0, 0, 0.15);\n",
              "      filter: drop-shadow(0px 1px 2px rgba(0, 0, 0, 0.3));\n",
              "      fill: #FFFFFF;\n",
              "    }\n",
              "  </style>\n",
              "\n",
              "    <script>\n",
              "      const buttonEl =\n",
              "        document.querySelector('#df-6d2d2bed-f5f2-43d1-87a9-625746b6a36d button.colab-df-convert');\n",
              "      buttonEl.style.display =\n",
              "        google.colab.kernel.accessAllowed ? 'block' : 'none';\n",
              "\n",
              "      async function convertToInteractive(key) {\n",
              "        const element = document.querySelector('#df-6d2d2bed-f5f2-43d1-87a9-625746b6a36d');\n",
              "        const dataTable =\n",
              "          await google.colab.kernel.invokeFunction('convertToInteractive',\n",
              "                                                    [key], {});\n",
              "        if (!dataTable) return;\n",
              "\n",
              "        const docLinkHtml = 'Like what you see? Visit the ' +\n",
              "          '<a target=\"_blank\" href=https://colab.research.google.com/notebooks/data_table.ipynb>data table notebook</a>'\n",
              "          + ' to learn more about interactive tables.';\n",
              "        element.innerHTML = '';\n",
              "        dataTable['output_type'] = 'display_data';\n",
              "        await google.colab.output.renderOutput(dataTable, element);\n",
              "        const docLink = document.createElement('div');\n",
              "        docLink.innerHTML = docLinkHtml;\n",
              "        element.appendChild(docLink);\n",
              "      }\n",
              "    </script>\n",
              "  </div>\n",
              "\n",
              "\n",
              "<div id=\"df-4cc6c704-572d-4f9e-9939-77cae8d4aa23\">\n",
              "  <button class=\"colab-df-quickchart\" onclick=\"quickchart('df-4cc6c704-572d-4f9e-9939-77cae8d4aa23')\"\n",
              "            title=\"Suggest charts\"\n",
              "            style=\"display:none;\">\n",
              "\n",
              "<svg xmlns=\"http://www.w3.org/2000/svg\" height=\"24px\"viewBox=\"0 0 24 24\"\n",
              "     width=\"24px\">\n",
              "    <g>\n",
              "        <path d=\"M19 3H5c-1.1 0-2 .9-2 2v14c0 1.1.9 2 2 2h14c1.1 0 2-.9 2-2V5c0-1.1-.9-2-2-2zM9 17H7v-7h2v7zm4 0h-2V7h2v10zm4 0h-2v-4h2v4z\"/>\n",
              "    </g>\n",
              "</svg>\n",
              "  </button>\n",
              "\n",
              "<style>\n",
              "  .colab-df-quickchart {\n",
              "      --bg-color: #E8F0FE;\n",
              "      --fill-color: #1967D2;\n",
              "      --hover-bg-color: #E2EBFA;\n",
              "      --hover-fill-color: #174EA6;\n",
              "      --disabled-fill-color: #AAA;\n",
              "      --disabled-bg-color: #DDD;\n",
              "  }\n",
              "\n",
              "  [theme=dark] .colab-df-quickchart {\n",
              "      --bg-color: #3B4455;\n",
              "      --fill-color: #D2E3FC;\n",
              "      --hover-bg-color: #434B5C;\n",
              "      --hover-fill-color: #FFFFFF;\n",
              "      --disabled-bg-color: #3B4455;\n",
              "      --disabled-fill-color: #666;\n",
              "  }\n",
              "\n",
              "  .colab-df-quickchart {\n",
              "    background-color: var(--bg-color);\n",
              "    border: none;\n",
              "    border-radius: 50%;\n",
              "    cursor: pointer;\n",
              "    display: none;\n",
              "    fill: var(--fill-color);\n",
              "    height: 32px;\n",
              "    padding: 0;\n",
              "    width: 32px;\n",
              "  }\n",
              "\n",
              "  .colab-df-quickchart:hover {\n",
              "    background-color: var(--hover-bg-color);\n",
              "    box-shadow: 0 1px 2px rgba(60, 64, 67, 0.3), 0 1px 3px 1px rgba(60, 64, 67, 0.15);\n",
              "    fill: var(--button-hover-fill-color);\n",
              "  }\n",
              "\n",
              "  .colab-df-quickchart-complete:disabled,\n",
              "  .colab-df-quickchart-complete:disabled:hover {\n",
              "    background-color: var(--disabled-bg-color);\n",
              "    fill: var(--disabled-fill-color);\n",
              "    box-shadow: none;\n",
              "  }\n",
              "\n",
              "  .colab-df-spinner {\n",
              "    border: 2px solid var(--fill-color);\n",
              "    border-color: transparent;\n",
              "    border-bottom-color: var(--fill-color);\n",
              "    animation:\n",
              "      spin 1s steps(1) infinite;\n",
              "  }\n",
              "\n",
              "  @keyframes spin {\n",
              "    0% {\n",
              "      border-color: transparent;\n",
              "      border-bottom-color: var(--fill-color);\n",
              "      border-left-color: var(--fill-color);\n",
              "    }\n",
              "    20% {\n",
              "      border-color: transparent;\n",
              "      border-left-color: var(--fill-color);\n",
              "      border-top-color: var(--fill-color);\n",
              "    }\n",
              "    30% {\n",
              "      border-color: transparent;\n",
              "      border-left-color: var(--fill-color);\n",
              "      border-top-color: var(--fill-color);\n",
              "      border-right-color: var(--fill-color);\n",
              "    }\n",
              "    40% {\n",
              "      border-color: transparent;\n",
              "      border-right-color: var(--fill-color);\n",
              "      border-top-color: var(--fill-color);\n",
              "    }\n",
              "    60% {\n",
              "      border-color: transparent;\n",
              "      border-right-color: var(--fill-color);\n",
              "    }\n",
              "    80% {\n",
              "      border-color: transparent;\n",
              "      border-right-color: var(--fill-color);\n",
              "      border-bottom-color: var(--fill-color);\n",
              "    }\n",
              "    90% {\n",
              "      border-color: transparent;\n",
              "      border-bottom-color: var(--fill-color);\n",
              "    }\n",
              "  }\n",
              "</style>\n",
              "\n",
              "  <script>\n",
              "    async function quickchart(key) {\n",
              "      const quickchartButtonEl =\n",
              "        document.querySelector('#' + key + ' button');\n",
              "      quickchartButtonEl.disabled = true;  // To prevent multiple clicks.\n",
              "      quickchartButtonEl.classList.add('colab-df-spinner');\n",
              "      try {\n",
              "        const charts = await google.colab.kernel.invokeFunction(\n",
              "            'suggestCharts', [key], {});\n",
              "      } catch (error) {\n",
              "        console.error('Error during call to suggestCharts:', error);\n",
              "      }\n",
              "      quickchartButtonEl.classList.remove('colab-df-spinner');\n",
              "      quickchartButtonEl.classList.add('colab-df-quickchart-complete');\n",
              "    }\n",
              "    (() => {\n",
              "      let quickchartButtonEl =\n",
              "        document.querySelector('#df-4cc6c704-572d-4f9e-9939-77cae8d4aa23 button');\n",
              "      quickchartButtonEl.style.display =\n",
              "        google.colab.kernel.accessAllowed ? 'block' : 'none';\n",
              "    })();\n",
              "  </script>\n",
              "</div>\n",
              "\n",
              "    </div>\n",
              "  </div>\n"
            ],
            "application/vnd.google.colaboratory.intrinsic+json": {
              "type": "dataframe",
              "variable_name": "df"
            }
          },
          "metadata": {},
          "execution_count": 7
        }
      ],
      "source": [
        "# there are some missing values in the Income col, we will deal with it later\n",
        "\n",
        "# add column 'age' (more useful than 'Year_Birth'), find the current year and calculate difference\n",
        "\n",
        "from datetime import datetime, timedelta\n",
        "\n",
        "df['Age']=datetime.now().year - df['Year_Birth']\n",
        "df.head()"
      ]
    },
    {
      "cell_type": "code",
      "execution_count": 9,
      "id": "5ce9478d",
      "metadata": {
        "id": "5ce9478d",
        "outputId": "fd0ec5b3-d80e-4bd1-8adb-7359071b64b7",
        "colab": {
          "base_uri": "https://localhost:8080/",
          "height": 373
        }
      },
      "outputs": [
        {
          "output_type": "error",
          "ename": "ValueError",
          "evalue": "Unit Y is not supported. Only unambiguous timedelta values durations are supported. Allowed units are 'W', 'D', 'h', 'm', 's', 'ms', 'us', 'ns'",
          "traceback": [
            "\u001b[0;31m---------------------------------------------------------------------------\u001b[0m",
            "\u001b[0;31mValueError\u001b[0m                                Traceback (most recent call last)",
            "\u001b[0;32m<ipython-input-9-80d7a0381b2d>\u001b[0m in \u001b[0;36m<cell line: 5>\u001b[0;34m()\u001b[0m\n\u001b[1;32m      3\u001b[0m \u001b[0mdf\u001b[0m\u001b[0;34m[\u001b[0m\u001b[0;34m'now'\u001b[0m\u001b[0;34m]\u001b[0m\u001b[0;34m=\u001b[0m\u001b[0mdatetime\u001b[0m\u001b[0;34m.\u001b[0m\u001b[0mnow\u001b[0m\u001b[0;34m(\u001b[0m\u001b[0;34m)\u001b[0m\u001b[0;34m\u001b[0m\u001b[0;34m\u001b[0m\u001b[0m\n\u001b[1;32m      4\u001b[0m \u001b[0mdf\u001b[0m\u001b[0;34m[\u001b[0m\u001b[0;34m'Tenure'\u001b[0m\u001b[0;34m]\u001b[0m\u001b[0;34m=\u001b[0m\u001b[0mdf\u001b[0m\u001b[0;34m[\u001b[0m\u001b[0;34m'now'\u001b[0m\u001b[0;34m]\u001b[0m\u001b[0;34m-\u001b[0m\u001b[0mdf\u001b[0m\u001b[0;34m[\u001b[0m\u001b[0;34m'Dt_Customer'\u001b[0m\u001b[0;34m]\u001b[0m\u001b[0;34m\u001b[0m\u001b[0;34m\u001b[0m\u001b[0m\n\u001b[0;32m----> 5\u001b[0;31m \u001b[0mdf\u001b[0m\u001b[0;34m[\u001b[0m\u001b[0;34m'Tenure'\u001b[0m\u001b[0;34m]\u001b[0m\u001b[0;34m=\u001b[0m\u001b[0mdf\u001b[0m\u001b[0;34m[\u001b[0m\u001b[0;34m'Tenure'\u001b[0m\u001b[0;34m]\u001b[0m\u001b[0;34m/\u001b[0m\u001b[0mnp\u001b[0m\u001b[0;34m.\u001b[0m\u001b[0mtimedelta64\u001b[0m\u001b[0;34m(\u001b[0m\u001b[0;36m1\u001b[0m\u001b[0;34m,\u001b[0m \u001b[0;34m'Y'\u001b[0m\u001b[0;34m)\u001b[0m\u001b[0;34m\u001b[0m\u001b[0;34m\u001b[0m\u001b[0m\n\u001b[0m\u001b[1;32m      6\u001b[0m \u001b[0mdf\u001b[0m\u001b[0;34m[\u001b[0m\u001b[0;34m'Tenure'\u001b[0m\u001b[0;34m]\u001b[0m\u001b[0;34m\u001b[0m\u001b[0;34m\u001b[0m\u001b[0m\n",
            "\u001b[0;32m/usr/local/lib/python3.10/dist-packages/pandas/core/ops/common.py\u001b[0m in \u001b[0;36mnew_method\u001b[0;34m(self, other)\u001b[0m\n\u001b[1;32m     74\u001b[0m         \u001b[0mother\u001b[0m \u001b[0;34m=\u001b[0m \u001b[0mitem_from_zerodim\u001b[0m\u001b[0;34m(\u001b[0m\u001b[0mother\u001b[0m\u001b[0;34m)\u001b[0m\u001b[0;34m\u001b[0m\u001b[0;34m\u001b[0m\u001b[0m\n\u001b[1;32m     75\u001b[0m \u001b[0;34m\u001b[0m\u001b[0m\n\u001b[0;32m---> 76\u001b[0;31m         \u001b[0;32mreturn\u001b[0m \u001b[0mmethod\u001b[0m\u001b[0;34m(\u001b[0m\u001b[0mself\u001b[0m\u001b[0;34m,\u001b[0m \u001b[0mother\u001b[0m\u001b[0;34m)\u001b[0m\u001b[0;34m\u001b[0m\u001b[0;34m\u001b[0m\u001b[0m\n\u001b[0m\u001b[1;32m     77\u001b[0m \u001b[0;34m\u001b[0m\u001b[0m\n\u001b[1;32m     78\u001b[0m     \u001b[0;32mreturn\u001b[0m \u001b[0mnew_method\u001b[0m\u001b[0;34m\u001b[0m\u001b[0;34m\u001b[0m\u001b[0m\n",
            "\u001b[0;32m/usr/local/lib/python3.10/dist-packages/pandas/core/arraylike.py\u001b[0m in \u001b[0;36m__truediv__\u001b[0;34m(self, other)\u001b[0m\n\u001b[1;32m    208\u001b[0m     \u001b[0;34m@\u001b[0m\u001b[0munpack_zerodim_and_defer\u001b[0m\u001b[0;34m(\u001b[0m\u001b[0;34m\"__truediv__\"\u001b[0m\u001b[0;34m)\u001b[0m\u001b[0;34m\u001b[0m\u001b[0;34m\u001b[0m\u001b[0m\n\u001b[1;32m    209\u001b[0m     \u001b[0;32mdef\u001b[0m \u001b[0m__truediv__\u001b[0m\u001b[0;34m(\u001b[0m\u001b[0mself\u001b[0m\u001b[0;34m,\u001b[0m \u001b[0mother\u001b[0m\u001b[0;34m)\u001b[0m\u001b[0;34m:\u001b[0m\u001b[0;34m\u001b[0m\u001b[0;34m\u001b[0m\u001b[0m\n\u001b[0;32m--> 210\u001b[0;31m         \u001b[0;32mreturn\u001b[0m \u001b[0mself\u001b[0m\u001b[0;34m.\u001b[0m\u001b[0m_arith_method\u001b[0m\u001b[0;34m(\u001b[0m\u001b[0mother\u001b[0m\u001b[0;34m,\u001b[0m \u001b[0moperator\u001b[0m\u001b[0;34m.\u001b[0m\u001b[0mtruediv\u001b[0m\u001b[0;34m)\u001b[0m\u001b[0;34m\u001b[0m\u001b[0;34m\u001b[0m\u001b[0m\n\u001b[0m\u001b[1;32m    211\u001b[0m \u001b[0;34m\u001b[0m\u001b[0m\n\u001b[1;32m    212\u001b[0m     \u001b[0;34m@\u001b[0m\u001b[0munpack_zerodim_and_defer\u001b[0m\u001b[0;34m(\u001b[0m\u001b[0;34m\"__rtruediv__\"\u001b[0m\u001b[0;34m)\u001b[0m\u001b[0;34m\u001b[0m\u001b[0;34m\u001b[0m\u001b[0m\n",
            "\u001b[0;32m/usr/local/lib/python3.10/dist-packages/pandas/core/series.py\u001b[0m in \u001b[0;36m_arith_method\u001b[0;34m(self, other, op)\u001b[0m\n\u001b[1;32m   6133\u001b[0m     \u001b[0;32mdef\u001b[0m \u001b[0m_arith_method\u001b[0m\u001b[0;34m(\u001b[0m\u001b[0mself\u001b[0m\u001b[0;34m,\u001b[0m \u001b[0mother\u001b[0m\u001b[0;34m,\u001b[0m \u001b[0mop\u001b[0m\u001b[0;34m)\u001b[0m\u001b[0;34m:\u001b[0m\u001b[0;34m\u001b[0m\u001b[0;34m\u001b[0m\u001b[0m\n\u001b[1;32m   6134\u001b[0m         \u001b[0mself\u001b[0m\u001b[0;34m,\u001b[0m \u001b[0mother\u001b[0m \u001b[0;34m=\u001b[0m \u001b[0mself\u001b[0m\u001b[0;34m.\u001b[0m\u001b[0m_align_for_op\u001b[0m\u001b[0;34m(\u001b[0m\u001b[0mother\u001b[0m\u001b[0;34m)\u001b[0m\u001b[0;34m\u001b[0m\u001b[0;34m\u001b[0m\u001b[0m\n\u001b[0;32m-> 6135\u001b[0;31m         \u001b[0;32mreturn\u001b[0m \u001b[0mbase\u001b[0m\u001b[0;34m.\u001b[0m\u001b[0mIndexOpsMixin\u001b[0m\u001b[0;34m.\u001b[0m\u001b[0m_arith_method\u001b[0m\u001b[0;34m(\u001b[0m\u001b[0mself\u001b[0m\u001b[0;34m,\u001b[0m \u001b[0mother\u001b[0m\u001b[0;34m,\u001b[0m \u001b[0mop\u001b[0m\u001b[0;34m)\u001b[0m\u001b[0;34m\u001b[0m\u001b[0;34m\u001b[0m\u001b[0m\n\u001b[0m\u001b[1;32m   6136\u001b[0m \u001b[0;34m\u001b[0m\u001b[0m\n\u001b[1;32m   6137\u001b[0m     \u001b[0;32mdef\u001b[0m \u001b[0m_align_for_op\u001b[0m\u001b[0;34m(\u001b[0m\u001b[0mself\u001b[0m\u001b[0;34m,\u001b[0m \u001b[0mright\u001b[0m\u001b[0;34m,\u001b[0m \u001b[0malign_asobject\u001b[0m\u001b[0;34m:\u001b[0m \u001b[0mbool\u001b[0m \u001b[0;34m=\u001b[0m \u001b[0;32mFalse\u001b[0m\u001b[0;34m)\u001b[0m\u001b[0;34m:\u001b[0m\u001b[0;34m\u001b[0m\u001b[0;34m\u001b[0m\u001b[0m\n",
            "\u001b[0;32m/usr/local/lib/python3.10/dist-packages/pandas/core/base.py\u001b[0m in \u001b[0;36m_arith_method\u001b[0;34m(self, other, op)\u001b[0m\n\u001b[1;32m   1374\u001b[0m         \u001b[0mlvalues\u001b[0m \u001b[0;34m=\u001b[0m \u001b[0mself\u001b[0m\u001b[0;34m.\u001b[0m\u001b[0m_values\u001b[0m\u001b[0;34m\u001b[0m\u001b[0;34m\u001b[0m\u001b[0m\n\u001b[1;32m   1375\u001b[0m         \u001b[0mrvalues\u001b[0m \u001b[0;34m=\u001b[0m \u001b[0mextract_array\u001b[0m\u001b[0;34m(\u001b[0m\u001b[0mother\u001b[0m\u001b[0;34m,\u001b[0m \u001b[0mextract_numpy\u001b[0m\u001b[0;34m=\u001b[0m\u001b[0;32mTrue\u001b[0m\u001b[0;34m,\u001b[0m \u001b[0mextract_range\u001b[0m\u001b[0;34m=\u001b[0m\u001b[0;32mTrue\u001b[0m\u001b[0;34m)\u001b[0m\u001b[0;34m\u001b[0m\u001b[0;34m\u001b[0m\u001b[0m\n\u001b[0;32m-> 1376\u001b[0;31m         \u001b[0mrvalues\u001b[0m \u001b[0;34m=\u001b[0m \u001b[0mops\u001b[0m\u001b[0;34m.\u001b[0m\u001b[0mmaybe_prepare_scalar_for_op\u001b[0m\u001b[0;34m(\u001b[0m\u001b[0mrvalues\u001b[0m\u001b[0;34m,\u001b[0m \u001b[0mlvalues\u001b[0m\u001b[0;34m.\u001b[0m\u001b[0mshape\u001b[0m\u001b[0;34m)\u001b[0m\u001b[0;34m\u001b[0m\u001b[0;34m\u001b[0m\u001b[0m\n\u001b[0m\u001b[1;32m   1377\u001b[0m         \u001b[0mrvalues\u001b[0m \u001b[0;34m=\u001b[0m \u001b[0mensure_wrapped_if_datetimelike\u001b[0m\u001b[0;34m(\u001b[0m\u001b[0mrvalues\u001b[0m\u001b[0;34m)\u001b[0m\u001b[0;34m\u001b[0m\u001b[0;34m\u001b[0m\u001b[0m\n\u001b[1;32m   1378\u001b[0m         \u001b[0;32mif\u001b[0m \u001b[0misinstance\u001b[0m\u001b[0;34m(\u001b[0m\u001b[0mrvalues\u001b[0m\u001b[0;34m,\u001b[0m \u001b[0mrange\u001b[0m\u001b[0;34m)\u001b[0m\u001b[0;34m:\u001b[0m\u001b[0;34m\u001b[0m\u001b[0;34m\u001b[0m\u001b[0m\n",
            "\u001b[0;32m/usr/local/lib/python3.10/dist-packages/pandas/core/ops/array_ops.py\u001b[0m in \u001b[0;36mmaybe_prepare_scalar_for_op\u001b[0;34m(obj, shape)\u001b[0m\n\u001b[1;32m    569\u001b[0m         \u001b[0;31m#  nanoseconds, or else we get undesired behavior like\u001b[0m\u001b[0;34m\u001b[0m\u001b[0;34m\u001b[0m\u001b[0m\n\u001b[1;32m    570\u001b[0m         \u001b[0;31m#  np.timedelta64(3, 'D') / 2 == np.timedelta64(1, 'D')\u001b[0m\u001b[0;34m\u001b[0m\u001b[0;34m\u001b[0m\u001b[0m\n\u001b[0;32m--> 571\u001b[0;31m         \u001b[0;32mreturn\u001b[0m \u001b[0mTimedelta\u001b[0m\u001b[0;34m(\u001b[0m\u001b[0mobj\u001b[0m\u001b[0;34m)\u001b[0m\u001b[0;34m\u001b[0m\u001b[0;34m\u001b[0m\u001b[0m\n\u001b[0m\u001b[1;32m    572\u001b[0m \u001b[0;34m\u001b[0m\u001b[0m\n\u001b[1;32m    573\u001b[0m     \u001b[0;31m# We want NumPy numeric scalars to behave like Python scalars\u001b[0m\u001b[0;34m\u001b[0m\u001b[0;34m\u001b[0m\u001b[0m\n",
            "\u001b[0;32mtimedeltas.pyx\u001b[0m in \u001b[0;36mpandas._libs.tslibs.timedeltas.Timedelta.__new__\u001b[0;34m()\u001b[0m\n",
            "\u001b[0;31mValueError\u001b[0m: Unit Y is not supported. Only unambiguous timedelta values durations are supported. Allowed units are 'W', 'D', 'h', 'm', 's', 'ms', 'us', 'ns'"
          ]
        }
      ],
      "source": [
        "# add column 'Tenure' (more useful than 'Dt_Customer', in years)\n",
        "\n",
        "df['now']=datetime.now()\n",
        "df['Tenure']=df['now']-df['Dt_Customer']\n",
        "df['Tenure']=df['Tenure']/np.timedelta64(1, 'Y')\n",
        "df['Tenure']"
      ]
    },
    {
      "cell_type": "code",
      "execution_count": null,
      "id": "7d530d77",
      "metadata": {
        "id": "7d530d77"
      },
      "outputs": [],
      "source": [
        "df.describe(include='all')"
      ]
    },
    {
      "cell_type": "code",
      "execution_count": null,
      "id": "882ffc84",
      "metadata": {
        "id": "882ffc84"
      },
      "outputs": [],
      "source": [
        "pd.unique(df['Education'])"
      ]
    },
    {
      "cell_type": "code",
      "execution_count": null,
      "id": "110ab4bc",
      "metadata": {
        "id": "110ab4bc"
      },
      "outputs": [],
      "source": [
        "pd.unique(df['Marital_Status'])"
      ]
    },
    {
      "cell_type": "code",
      "execution_count": null,
      "id": "882ab407",
      "metadata": {
        "id": "882ab407"
      },
      "outputs": [],
      "source": [
        "pd.unique(df['Country'])"
      ]
    },
    {
      "cell_type": "code",
      "execution_count": null,
      "id": "5aaae2b8",
      "metadata": {
        "id": "5aaae2b8"
      },
      "outputs": [],
      "source": [
        "pd.unique(df['AcceptedCmp1'])"
      ]
    },
    {
      "cell_type": "code",
      "execution_count": null,
      "id": "6386e340",
      "metadata": {
        "id": "6386e340"
      },
      "outputs": [],
      "source": [
        "pd.unique(df['AcceptedCmp2'])"
      ]
    },
    {
      "cell_type": "code",
      "execution_count": null,
      "id": "7c37b0f5",
      "metadata": {
        "id": "7c37b0f5"
      },
      "outputs": [],
      "source": [
        "pd.unique(df['AcceptedCmp3'])"
      ]
    },
    {
      "cell_type": "code",
      "execution_count": null,
      "id": "fecee7e8",
      "metadata": {
        "id": "fecee7e8"
      },
      "outputs": [],
      "source": [
        "pd.unique(df['AcceptedCmp4'])"
      ]
    },
    {
      "cell_type": "code",
      "execution_count": null,
      "id": "f1939686",
      "metadata": {
        "id": "f1939686"
      },
      "outputs": [],
      "source": [
        "pd.unique(df['AcceptedCmp5'])"
      ]
    },
    {
      "cell_type": "code",
      "execution_count": null,
      "id": "34738c24",
      "metadata": {
        "id": "34738c24"
      },
      "outputs": [],
      "source": [
        "# here's the list of what we need to clean -\n",
        "# 'Education': group 'Graduation' and '2n Cycle' in the same category as 'Master'\n",
        "# 'Marital_Status': replace 'Alone' with 'Single'; replace 'Married' and 'Together' with 'Coupled'; replace 'YOLO' and 'Absurd' with 'Other'\n",
        "# ' Income ': get rid of the spaces in the col name, and deal with missing values"
      ]
    },
    {
      "cell_type": "code",
      "execution_count": null,
      "id": "6481962b",
      "metadata": {
        "id": "6481962b"
      },
      "outputs": [],
      "source": [
        "# 'Graduation' and '2n Cycle' both mean 'Master'\n",
        "\n",
        "df['Education_Cleaned']=df['Education']"
      ]
    },
    {
      "cell_type": "code",
      "execution_count": null,
      "id": "50f06c76",
      "metadata": {
        "id": "50f06c76"
      },
      "outputs": [],
      "source": [
        "# cleaning the 'Education' col (not touching raw data)\n",
        "\n",
        "df['Education_Cleaned']=df['Education']\n",
        "df['Education_Cleaned']=df['Education_Cleaned'].replace(['Graduation', '2n Cycle'], 'Master')\n",
        "\n",
        "assert pd.unique(df['Education_Cleaned']).all() in ['Basic', 'Master', 'PhD']"
      ]
    },
    {
      "cell_type": "code",
      "execution_count": null,
      "id": "2255b232",
      "metadata": {
        "id": "2255b232"
      },
      "outputs": [],
      "source": [
        "# cleaning the 'Marital_Status' col (not touching raw data)\n",
        "\n",
        "df['Marital_Status_Cleaned']=df['Marital_Status']\n",
        "pd.unique(df['Marital_Status_Cleaned'])"
      ]
    },
    {
      "cell_type": "code",
      "execution_count": null,
      "id": "e524b4d1",
      "metadata": {
        "id": "e524b4d1"
      },
      "outputs": [],
      "source": [
        "df['Marital_Status_Cleaned']=df['Marital_Status_Cleaned'].replace(['Alone'], 'Single')\n",
        "df['Marital_Status_Cleaned']=df['Marital_Status_Cleaned'].replace(['Married', 'Together'], 'Coupled')\n",
        "df['Marital_Status_Cleaned']=df['Marital_Status_Cleaned'].replace(['YOLO', 'Absurd'], 'Other')\n",
        "\n",
        "assert pd.unique(df['Marital_Status_Cleaned']).all() in ['Divorced', 'Single', 'Coupled', 'Widow', 'Other']"
      ]
    },
    {
      "cell_type": "code",
      "execution_count": null,
      "id": "75dba47f",
      "metadata": {
        "id": "75dba47f"
      },
      "outputs": [],
      "source": [
        "# cleaning the ' Income ' col (not touching raw data)\n",
        "# first, start a new, identical col without spaces in the col name\n",
        "\n",
        "df['Income']=df[' Income ']\n",
        "\n",
        "assert df['Income'].equals(df[' Income '])"
      ]
    },
    {
      "cell_type": "code",
      "execution_count": null,
      "id": "f4e19bf3",
      "metadata": {
        "id": "f4e19bf3"
      },
      "outputs": [],
      "source": [
        "# next we deal with the missing values\n",
        "\n",
        "import sys\n",
        "!conda install --yes --prefix {sys.prefix} missingno\n",
        "\n",
        "import missingno as msno"
      ]
    },
    {
      "cell_type": "code",
      "execution_count": null,
      "id": "109cf339",
      "metadata": {
        "id": "109cf339"
      },
      "outputs": [],
      "source": [
        "%matplotlib inline\n",
        "msno.matrix(df)"
      ]
    },
    {
      "cell_type": "code",
      "execution_count": null,
      "id": "7620b446",
      "metadata": {
        "id": "7620b446"
      },
      "outputs": [],
      "source": [
        "# wondering if missing value has anything to do with other variables like 'Age'\n",
        "\n",
        "df_sorted=df.sort_values(by='Age')\n",
        "msno.matrix(df_sorted)"
      ]
    },
    {
      "cell_type": "code",
      "execution_count": null,
      "id": "3d0a830e",
      "metadata": {
        "id": "3d0a830e"
      },
      "outputs": [],
      "source": [
        "# no correlation it seems, we will assume that they are missing at random and fill the values with the mean\n",
        "\n",
        "missing_value=df['Income'].mean()\n",
        "df['Income'].fillna(value=missing_value, inplace=True)"
      ]
    },
    {
      "cell_type": "code",
      "execution_count": null,
      "id": "521b8bca",
      "metadata": {
        "id": "521b8bca"
      },
      "outputs": [],
      "source": [
        "df['Income'].describe()"
      ]
    },
    {
      "cell_type": "code",
      "execution_count": null,
      "id": "40a23f95",
      "metadata": {
        "id": "40a23f95"
      },
      "outputs": [],
      "source": [
        "# now we can have a cleaned df!\n",
        "\n",
        "df_cleaned = df.drop(columns=['Marital_Status', ' Income ', 'Education', 'Year_Birth', 'Dt_Customer'])\n",
        "df_cleaned.columns"
      ]
    },
    {
      "cell_type": "code",
      "execution_count": null,
      "id": "0ec78abd",
      "metadata": {
        "id": "0ec78abd"
      },
      "outputs": [],
      "source": [
        "# data all cleaned and wrangled! Moving on to Univariate Exploration"
      ]
    },
    {
      "cell_type": "code",
      "execution_count": null,
      "id": "dbd2fc6f",
      "metadata": {
        "id": "dbd2fc6f"
      },
      "outputs": [],
      "source": [
        "# Univariate Exploration - Categorical Variables"
      ]
    },
    {
      "cell_type": "code",
      "execution_count": null,
      "id": "059d72b5",
      "metadata": {
        "id": "059d72b5"
      },
      "outputs": [],
      "source": [
        "import matplotlib.pyplot as plt\n",
        "import seaborn as sns"
      ]
    },
    {
      "cell_type": "code",
      "execution_count": null,
      "id": "74cfb1ed",
      "metadata": {
        "id": "74cfb1ed"
      },
      "outputs": [],
      "source": [
        "Education_Order = ['Basic', 'Master', 'PhD']\n",
        "sns.countplot(x='Education_Cleaned', data=df_cleaned, order=Education_Order)"
      ]
    },
    {
      "cell_type": "code",
      "execution_count": null,
      "id": "8cfe5a46",
      "metadata": {
        "id": "8cfe5a46"
      },
      "outputs": [],
      "source": [
        "sns.countplot(x='Marital_Status_Cleaned', data=df_cleaned)"
      ]
    },
    {
      "cell_type": "code",
      "execution_count": null,
      "id": "404caed6",
      "metadata": {
        "id": "404caed6"
      },
      "outputs": [],
      "source": [
        "sns.countplot(x='Country', data=df_cleaned)\n",
        "plt.xticks(rotation=45)"
      ]
    },
    {
      "cell_type": "code",
      "execution_count": null,
      "id": "f04e2d58",
      "metadata": {
        "id": "f04e2d58"
      },
      "outputs": [],
      "source": [
        "fig, axes = plt.subplots(1, 5, sharey=True)\n",
        "\n",
        "sns.countplot(data=df_cleaned, x='AcceptedCmp1', ax=axes[0])\n",
        "sns.countplot(data=df_cleaned, x='AcceptedCmp2', ax=axes[1])\n",
        "sns.countplot(data=df_cleaned, x='AcceptedCmp3', ax=axes[2])\n",
        "sns.countplot(data=df_cleaned, x='AcceptedCmp4', ax=axes[3])\n",
        "sns.countplot(data=df_cleaned, x='AcceptedCmp5', ax=axes[4])\n",
        "\n",
        "fig.subplots_adjust(wspace=1.5)"
      ]
    },
    {
      "cell_type": "code",
      "execution_count": null,
      "id": "3dd9444a",
      "metadata": {
        "id": "3dd9444a"
      },
      "outputs": [],
      "source": [
        "sns.countplot(data=df_cleaned, x='Response')"
      ]
    },
    {
      "cell_type": "code",
      "execution_count": null,
      "id": "d4d2bb05",
      "metadata": {
        "id": "d4d2bb05"
      },
      "outputs": [],
      "source": [
        "sns.countplot(data=df_cleaned, x='Complain')"
      ]
    },
    {
      "cell_type": "code",
      "execution_count": null,
      "id": "5c1e9843",
      "metadata": {
        "id": "5c1e9843"
      },
      "outputs": [],
      "source": [
        "# Univariate Exploration - Numerical Variables"
      ]
    },
    {
      "cell_type": "code",
      "execution_count": null,
      "id": "11c6d5b1",
      "metadata": {
        "id": "11c6d5b1"
      },
      "outputs": [],
      "source": [
        "sns.histplot(data=df_cleaned, x='Age', bins=30)"
      ]
    },
    {
      "cell_type": "code",
      "execution_count": null,
      "id": "67dd52b5",
      "metadata": {
        "id": "67dd52b5"
      },
      "outputs": [],
      "source": [
        "sns.boxplot(data=df_cleaned, x='Income')"
      ]
    },
    {
      "cell_type": "code",
      "execution_count": null,
      "id": "45c9347b",
      "metadata": {
        "id": "45c9347b"
      },
      "outputs": [],
      "source": [
        "sns.countplot(data=df_cleaned, x='Kidhome')"
      ]
    },
    {
      "cell_type": "code",
      "execution_count": null,
      "id": "6613aa8e",
      "metadata": {
        "id": "6613aa8e"
      },
      "outputs": [],
      "source": [
        "sns.countplot(data=df_cleaned, x='Teenhome')"
      ]
    },
    {
      "cell_type": "code",
      "execution_count": null,
      "id": "c47fb970",
      "metadata": {
        "id": "c47fb970"
      },
      "outputs": [],
      "source": [
        "sns.histplot(data=df_cleaned, x='Recency', bins=20)"
      ]
    },
    {
      "cell_type": "code",
      "execution_count": null,
      "id": "54ce3ea8",
      "metadata": {
        "id": "54ce3ea8"
      },
      "outputs": [],
      "source": [
        "# visualize all the 'amounts' columns together with box plots\n",
        "\n",
        "df_mnt=df_cleaned[['MntWines', 'MntFruits', 'MntMeatProducts', 'MntFishProducts', 'MntSweetProducts', 'MntGoldProds']]\n",
        "df_mnt_melted=pd.melt(df_mnt)\n",
        "\n",
        "sns.boxplot(x='variable', y='value', data=df_mnt_melted)\n",
        "plt.xticks(rotation=45)"
      ]
    },
    {
      "cell_type": "code",
      "execution_count": null,
      "id": "fd1371b6",
      "metadata": {
        "id": "fd1371b6"
      },
      "outputs": [],
      "source": [
        "# visualize all the 'number of purchases' columns together with box plots\n",
        "\n",
        "df_num=df_cleaned[['NumDealsPurchases', 'NumWebPurchases', 'NumCatalogPurchases', 'NumStorePurchases']]\n",
        "df_num_melted=pd.melt(df_num)\n",
        "\n",
        "sns.boxplot(x='variable', y='value', data=df_num_melted)\n",
        "plt.xticks(rotation=45)"
      ]
    },
    {
      "cell_type": "code",
      "execution_count": null,
      "id": "e8aacf05",
      "metadata": {
        "id": "e8aacf05"
      },
      "outputs": [],
      "source": [
        "sns.boxplot(data=df_cleaned, y='NumWebVisitsMonth')\n"
      ]
    },
    {
      "cell_type": "code",
      "execution_count": null,
      "id": "93d28f1d",
      "metadata": {
        "id": "93d28f1d"
      },
      "outputs": [],
      "source": [
        "# findings from univariate exploration:\n",
        "# the profile of a typical customer - Spanish with Master's degree, coupled up, in their 40s-70s, earns 35-68k per year, has no or one child\n",
        "# campaign #2 did the worst (least accepted)\n",
        "# customers spent the most on wine, followed by meat\n",
        "# store seems to be customers' favourite channel, followed by web\n",
        "# more than 10% of customers accepted offer from the last campaign\n",
        "# customers seem to be overall satisfied since there's minimal complaints"
      ]
    },
    {
      "cell_type": "code",
      "execution_count": null,
      "id": "1319a7f8",
      "metadata": {
        "id": "1319a7f8"
      },
      "outputs": [],
      "source": [
        "# Bivariate Exploration"
      ]
    },
    {
      "cell_type": "code",
      "execution_count": null,
      "id": "bbe3134a",
      "metadata": {
        "id": "bbe3134a"
      },
      "outputs": [],
      "source": [
        "# first, correlation matrix and a heatmap to visualize it so I know which variables to look into next\n",
        "\n",
        "corr_mat=df_cleaned.corr()\n",
        "plt.figure(figsize=(20, 20))\n",
        "sns.heatmap(corr_mat, annot=True)\n"
      ]
    },
    {
      "cell_type": "code",
      "execution_count": null,
      "id": "eec10a47",
      "metadata": {
        "id": "eec10a47"
      },
      "outputs": [],
      "source": [
        "# I want to single out the strongest correlations\n",
        "\n",
        "c=corr_mat.abs()\n",
        "s=c.unstack()\n",
        "so = s.sort_values(kind=\"quicksort\", ascending=False)\n",
        "so=so[so!=1] #excluse the 1s\n",
        "so"
      ]
    },
    {
      "cell_type": "code",
      "execution_count": null,
      "id": "589a005a",
      "metadata": {
        "id": "589a005a"
      },
      "outputs": [],
      "source": [
        "# select moderate to strong correlations (>=0.5, anything above 0.7 is considered strong, above 0.5 is moderate)\n",
        "\n",
        "so_corr=so[so>=0.5].drop_duplicates()\n",
        "so_corr"
      ]
    },
    {
      "cell_type": "code",
      "execution_count": null,
      "id": "2208dc7e",
      "metadata": {
        "id": "2208dc7e"
      },
      "outputs": [],
      "source": [
        "# plot NumCatalogPurchases against: MntMeatProducts, MntWines, Income, MntFishProducts\n",
        "\n",
        "def jitter(values, j):\n",
        "    return values+np.random.normal(j, 0.5, values.shape)\n",
        "\n",
        "sns.set(font_scale = 1.5)\n",
        "fig, ax=plt.subplots(1,4,figsize=(30,10), sharey=True)\n",
        "\n",
        "sns.regplot(y=jitter(df_cleaned.NumCatalogPurchases, 0.5), x=df_cleaned.MntMeatProducts, scatter_kws={'alpha':0.25, 's':5}, ax=ax[0])\n",
        "sns.regplot(y=jitter(df_cleaned.NumCatalogPurchases, 0.5), x=df_cleaned.MntWines, scatter_kws={'alpha':0.25, 's':5}, ax=ax[1])\n",
        "sns.regplot(y=jitter(df_cleaned.NumCatalogPurchases, 0.5), x=df_cleaned.Income, scatter_kws={'alpha':0.25, 's':5}, ax=ax[2])\n",
        "sns.regplot(y=jitter(df_cleaned.NumCatalogPurchases, 0.5), x=df_cleaned.MntFishProducts, scatter_kws={'alpha':0.25, 's':5}, ax=ax[3])\n"
      ]
    },
    {
      "cell_type": "code",
      "execution_count": null,
      "id": "bdbb17e6",
      "metadata": {
        "id": "bdbb17e6"
      },
      "outputs": [],
      "source": [
        "# plot NumStorePurchases against: MntWines, Income\n",
        "\n",
        "fig, ax=plt.subplots(1,2, figsize=(30,10), sharey=True)\n",
        "\n",
        "sns.regplot(y=jitter(df_cleaned.NumStorePurchases, 0.5), x=df_cleaned.MntWines, scatter_kws={'alpha':0.25, 's':5}, ax=ax[0])\n",
        "sns.regplot(y=jitter(df_cleaned.NumStorePurchases, 0.5), x=df_cleaned.Income, scatter_kws={'alpha':0.25, 's':5}, ax=ax[1])"
      ]
    },
    {
      "cell_type": "code",
      "execution_count": null,
      "id": "fa12aa84",
      "metadata": {
        "id": "fa12aa84"
      },
      "outputs": [],
      "source": [
        "# plot NumWebPurchases against: MntWines\n",
        "\n",
        "sns.regplot(y=jitter(df_cleaned.NumWebPurchases, 0.5), x=df_cleaned.MntWines, scatter_kws={'alpha':0.25, 's':5})"
      ]
    },
    {
      "cell_type": "code",
      "execution_count": null,
      "id": "76a8538b",
      "metadata": {
        "id": "76a8538b"
      },
      "outputs": [],
      "source": [
        "# plot NumWebVisitsMonth against NumWebPurchases\n",
        "\n",
        "sns.regplot(y=jitter(df_cleaned.NumWebVisitsMonth, 0.5), x=jitter(df_cleaned.NumWebPurchases, 1), scatter_kws={'alpha':0.25, 's':5})"
      ]
    },
    {
      "cell_type": "code",
      "execution_count": null,
      "id": "13455d7f",
      "metadata": {
        "id": "13455d7f"
      },
      "outputs": [],
      "source": [
        "# there seems to be a weak and negative correlation between number of web visits and number of web purchases\n",
        "# which seems a bit strange...maybe our website isn't working well?"
      ]
    },
    {
      "cell_type": "code",
      "execution_count": null,
      "id": "ec58966f",
      "metadata": {
        "id": "ec58966f"
      },
      "outputs": [],
      "source": [
        "# plot MntWines against Income\n",
        "\n",
        "sns.regplot(y=jitter(df_cleaned.MntWines, 0.5), x=jitter(df_cleaned.Income, 1), scatter_kws={'alpha':0.25, 's':5})"
      ]
    },
    {
      "cell_type": "code",
      "execution_count": null,
      "id": "6a01b6a0",
      "metadata": {
        "id": "6a01b6a0"
      },
      "outputs": [],
      "source": [
        "# plot MntMeatProducts against: Income and NumWebVisitsMonth\n",
        "\n",
        "fig, ax=plt.subplots(1,2, figsize=(30,10), sharey=True)\n",
        "\n",
        "sns.regplot(y=jitter(df_cleaned.MntMeatProducts, 0.5), x=df_cleaned.Income, scatter_kws={'alpha':0.25, 's':5}, ax=ax[0])\n",
        "sns.regplot(y=jitter(df_cleaned.MntMeatProducts, 0.5), x=jitter(df_cleaned.NumWebVisitsMonth, 0.5), scatter_kws={'alpha':0.25, 's':5}, ax=ax[1])"
      ]
    },
    {
      "cell_type": "code",
      "execution_count": null,
      "id": "7251baef",
      "metadata": {
        "id": "7251baef"
      },
      "outputs": [],
      "source": [
        "# explore the relationship between Education and amounts spent on different kinds of products, sales channels and their favourite campaigns\n",
        "\n",
        "df_mnt_edu_pivot=pd.pivot_table(data=df_cleaned, values=['MntWines', 'MntFruits', 'MntMeatProducts', 'MntFishProducts', 'MntSweetProducts', 'MntGoldProds'], columns='Education_Cleaned', aggfunc=np.sum)\n",
        "df_num_edu_pivot=pd.pivot_table(data=df_cleaned, values=['NumDealsPurchases', 'NumWebPurchases', 'NumCatalogPurchases','NumStorePurchases'], columns='Education_Cleaned', aggfunc=np.sum)\n",
        "df_cmp_edu_pivot=pd.pivot_table(data=df_cleaned, values=['AcceptedCmp1', 'AcceptedCmp2', 'AcceptedCmp3', 'AcceptedCmp4', 'AcceptedCmp5'], columns='Education_Cleaned', aggfunc=np.sum)\n",
        "\n",
        "fig, ax = plt.subplots(1,3,figsize=(27,9))\n",
        "\n",
        "df_mnt_edu_pivot.plot(kind='bar', stacked=True, ax=ax[0])\n",
        "df_num_edu_pivot.plot(kind='bar', stacked=True, ax=ax[1])\n",
        "df_cmp_edu_pivot.plot(kind='bar', stacked=True, ax=ax[2])"
      ]
    },
    {
      "cell_type": "code",
      "execution_count": null,
      "id": "e8f46bd0",
      "metadata": {
        "id": "e8f46bd0"
      },
      "outputs": [],
      "source": [
        "# explore the relationship between Marital Status and amounts spent on different kinds of products, sales channels and their favourite campaigns\n",
        "\n",
        "df_mnt_ms_pivot=pd.pivot_table(data=df_cleaned, values=['MntWines', 'MntFruits', 'MntMeatProducts', 'MntFishProducts', 'MntSweetProducts', 'MntGoldProds'], columns='Marital_Status_Cleaned', aggfunc=np.sum)\n",
        "df_num_ms_pivot=pd.pivot_table(data=df_cleaned, values=['NumDealsPurchases', 'NumWebPurchases', 'NumCatalogPurchases','NumStorePurchases'], columns='Marital_Status_Cleaned', aggfunc=np.sum)\n",
        "df_cmp_ms_pivot=pd.pivot_table(data=df_cleaned, values=['AcceptedCmp1', 'AcceptedCmp2', 'AcceptedCmp3', 'AcceptedCmp4', 'AcceptedCmp5'], columns='Marital_Status_Cleaned', aggfunc=np.sum)\n",
        "\n",
        "fig, ax = plt.subplots(1,3,figsize=(30,18))\n",
        "\n",
        "df_mnt_ms_pivot.plot(kind='bar', stacked=True, ax=ax[0])\n",
        "df_num_ms_pivot.plot(kind='bar', stacked=True, ax=ax[1])\n",
        "df_cmp_ms_pivot.plot(kind='bar', stacked=True, ax=ax[2])"
      ]
    },
    {
      "cell_type": "code",
      "execution_count": null,
      "id": "f90e88e4",
      "metadata": {
        "id": "f90e88e4"
      },
      "outputs": [],
      "source": [
        "# does number of kids home have anything to do with the kinds of products people buy?\n",
        "\n",
        "df_mnt_kh_pivot=pd.pivot_table(data=df_cleaned, values=['MntWines', 'MntFruits', 'MntMeatProducts', 'MntFishProducts', 'MntSweetProducts', 'MntGoldProds'], columns='Kidhome', aggfunc=np.sum)\n",
        "df_mnt_th_pivot=pd.pivot_table(data=df_cleaned, values=['MntWines', 'MntFruits', 'MntMeatProducts', 'MntFishProducts', 'MntSweetProducts', 'MntGoldProds'], columns='Teenhome', aggfunc=np.sum)\n",
        "\n",
        "fig, ax = plt.subplots(1,2,figsize=(8,8),sharey=True)\n",
        "\n",
        "df_mnt_kh_pivot.plot(kind='bar', stacked=True, ax=ax[0])\n",
        "df_mnt_th_pivot.plot(kind='bar', stacked=True, ax=ax[1])"
      ]
    },
    {
      "cell_type": "code",
      "execution_count": null,
      "id": "8cf35c30",
      "metadata": {
        "id": "8cf35c30"
      },
      "outputs": [],
      "source": [
        "# explore the relationships between # of kids/teens home and sales channels\n",
        "\n",
        "df_num_kh_pivot=pd.pivot_table(data=df_cleaned, values=['NumDealsPurchases', 'NumWebPurchases', 'NumCatalogPurchases','NumStorePurchases'], columns='Kidhome', aggfunc=np.sum)\n",
        "df_num_th_pivot=pd.pivot_table(data=df_cleaned, values=['NumDealsPurchases', 'NumWebPurchases', 'NumCatalogPurchases','NumStorePurchases'], columns='Teenhome', aggfunc=np.sum)\n",
        "\n",
        "fig, ax = plt.subplots(1,2,figsize=(8,8), sharey=True)\n",
        "\n",
        "df_num_kh_pivot.plot(kind='bar', stacked=True, ax=ax[0])\n",
        "df_num_th_pivot.plot(kind='bar', stacked=True, ax=ax[1])"
      ]
    },
    {
      "cell_type": "code",
      "execution_count": null,
      "id": "838fa8df",
      "metadata": {
        "id": "838fa8df"
      },
      "outputs": [],
      "source": [
        "# explore the relationships between # of kids/teens home and campaign successes\n",
        "\n",
        "df_cmp_kh_pivot=pd.pivot_table(data=df_cleaned, values=['AcceptedCmp1', 'AcceptedCmp2', 'AcceptedCmp3', 'AcceptedCmp4', 'AcceptedCmp5'], columns='Kidhome', aggfunc=np.sum)\n",
        "df_cmp_th_pivot=pd.pivot_table(data=df_cleaned, values=['AcceptedCmp1', 'AcceptedCmp2', 'AcceptedCmp3', 'AcceptedCmp4', 'AcceptedCmp5'], columns='Teenhome', aggfunc=np.sum)\n",
        "\n",
        "fig, ax = plt.subplots(1,2,figsize=(30,15), sharey=True)\n",
        "\n",
        "df_cmp_kh_pivot.plot(kind='bar', stacked=True, ax=ax[0])\n",
        "df_cmp_th_pivot.plot(kind='bar', stacked=True, ax=ax[1])"
      ]
    },
    {
      "cell_type": "code",
      "execution_count": null,
      "id": "1acc3cc8",
      "metadata": {
        "id": "1acc3cc8"
      },
      "outputs": [],
      "source": [
        "# explore the relationship between Country and amounts spent on different kinds of products, sales channels and their favourite campaigns\n",
        "\n",
        "df_mnt_cty_pivot=pd.pivot_table(data=df_cleaned, values=['MntWines', 'MntFruits', 'MntMeatProducts', 'MntFishProducts', 'MntSweetProducts', 'MntGoldProds'], columns='Country', aggfunc=np.sum)\n",
        "df_num_cty_pivot=pd.pivot_table(data=df_cleaned, values=['NumDealsPurchases', 'NumWebPurchases', 'NumCatalogPurchases','NumStorePurchases'], columns='Country', aggfunc=np.sum)\n",
        "df_cmp_cty_pivot=pd.pivot_table(data=df_cleaned, values=['AcceptedCmp1', 'AcceptedCmp2', 'AcceptedCmp3', 'AcceptedCmp4', 'AcceptedCmp5'], columns='Country', aggfunc=np.sum)\n",
        "\n",
        "fig, ax = plt.subplots(1,3,figsize=(32,15))\n",
        "\n",
        "df_mnt_cty_pivot.plot(kind='bar', stacked=True, ax=ax[0])\n",
        "df_num_cty_pivot.plot(kind='bar', stacked=True, ax=ax[1])\n",
        "df_cmp_cty_pivot.plot(kind='bar', stacked=True, ax=ax[2])"
      ]
    },
    {
      "cell_type": "code",
      "execution_count": null,
      "id": "801bea76",
      "metadata": {
        "id": "801bea76"
      },
      "outputs": [],
      "source": [
        "# explore the relationships between customers' preferred sales channels and amounts spent on wine\n",
        "\n",
        "fig, ax = plt.subplots(1, 4, figsize=(20,5), sharey=True)\n",
        "\n",
        "sns.lineplot(data=df_cleaned, x='NumDealsPurchases', y='MntWines', ci=None, ax=ax[0])\n",
        "sns.lineplot(data=df_cleaned, x='NumWebPurchases', y='MntWines', ci=None, ax=ax[1])\n",
        "sns.lineplot(data=df_cleaned, x='NumCatalogPurchases', y='MntWines', ci=None, ax=ax[2])\n",
        "sns.lineplot(data=df_cleaned, x='NumStorePurchases', y='MntWines', ci=None, ax=ax[3])"
      ]
    },
    {
      "cell_type": "code",
      "execution_count": null,
      "id": "61282f7f",
      "metadata": {
        "id": "61282f7f"
      },
      "outputs": [],
      "source": [
        "# explore the relationships between customers' preferred sales channels and amounts spent on meat\n",
        "\n",
        "fig, ax = plt.subplots(1, 4, figsize=(20,5), sharey=True)\n",
        "\n",
        "sns.lineplot(data=df_cleaned, x='NumDealsPurchases', y='MntMeatProducts', ci=None, ax=ax[0])\n",
        "sns.lineplot(data=df_cleaned, x='NumWebPurchases', y='MntMeatProducts', ci=None, ax=ax[1])\n",
        "sns.lineplot(data=df_cleaned, x='NumCatalogPurchases', y='MntMeatProducts', ci=None, ax=ax[2])\n",
        "sns.lineplot(data=df_cleaned, x='NumStorePurchases', y='MntMeatProducts', ci=None, ax=ax[3])"
      ]
    },
    {
      "cell_type": "code",
      "execution_count": null,
      "id": "b08a9f22",
      "metadata": {
        "id": "b08a9f22"
      },
      "outputs": [],
      "source": [
        "# Recency by accepted campaigns - is there one campaign that works well for inactive customers?\n",
        "\n",
        "cmp1=df_cleaned[df_cleaned['AcceptedCmp1']==1]\n",
        "cmp2=df_cleaned[df_cleaned['AcceptedCmp2']==1]\n",
        "cmp3=df_cleaned[df_cleaned['AcceptedCmp3']==1]\n",
        "cmp4=df_cleaned[df_cleaned['AcceptedCmp4']==1]\n",
        "cmp5=df_cleaned[df_cleaned['AcceptedCmp5']==1]\n",
        "\n",
        "fig, ax = plt.subplots(5,1,figsize=(3,15),sharex=True)\n",
        "\n",
        "\n",
        "sns.ecdfplot(data=cmp1, x='Recency', ax=ax[0])\n",
        "sns.ecdfplot(data=cmp2, x='Recency', ax=ax[1])\n",
        "sns.ecdfplot(data=cmp3, x='Recency', ax=ax[2])\n",
        "sns.ecdfplot(data=cmp4, x='Recency', ax=ax[3])\n",
        "sns.ecdfplot(data=cmp5, x='Recency', ax=ax[4])\n",
        "ax[0].set(title='Campaign 1')\n",
        "ax[1].set(title='Campaign 2')\n",
        "ax[2].set(title='Campaign 3')\n",
        "ax[3].set(title='Campaign 4')\n",
        "ax[4].set(title='Campaign 5')"
      ]
    },
    {
      "cell_type": "code",
      "execution_count": null,
      "id": "5d19bdf3",
      "metadata": {
        "id": "5d19bdf3"
      },
      "outputs": [],
      "source": [
        "# Multivariate Exploration"
      ]
    },
    {
      "cell_type": "code",
      "execution_count": null,
      "id": "dd2f5fab",
      "metadata": {
        "id": "dd2f5fab"
      },
      "outputs": [],
      "source": [
        "# Income, Education and Marital Status\n",
        "\n",
        "df_edu_ms=df_cleaned[['Education_Cleaned', 'Marital_Status_Cleaned', 'Income']]\n",
        "df_edu_ms_melted=pd.melt(df_edu_ms, value_name='Income', value_vars='Income', id_vars=['Education_Cleaned', 'Marital_Status_Cleaned'])\n",
        "\n",
        "df_edu_ms_melted.columns\n",
        "\n",
        "plt.figure(figsize=(8,12))\n",
        "sns.boxplot(data=df_edu_ms_melted, x='Marital_Status_Cleaned', y='Income', hue='Education_Cleaned')"
      ]
    },
    {
      "cell_type": "code",
      "execution_count": null,
      "id": "9794a1ac",
      "metadata": {
        "id": "9794a1ac"
      },
      "outputs": [],
      "source": [
        "# Income, Education and Number of kids/teens\n",
        "\n",
        "df_edu_kh=df_cleaned[['Education_Cleaned', 'Kidhome', 'Income']]\n",
        "df_edu_kh_melted=pd.melt(df_edu_kh, value_name='Income', value_vars='Income', id_vars=['Education_Cleaned', 'Kidhome'])\n",
        "df_edu_th=df_cleaned[['Education_Cleaned', 'Teenhome', 'Income']]\n",
        "df_edu_th_melted=pd.melt(df_edu_th, value_name='Income', value_vars='Income', id_vars=['Education_Cleaned', 'Teenhome'])\n",
        "\n",
        "\n",
        "fig, ax = plt.subplots(1,2,figsize=(16,12),sharey=True)\n",
        "sns.boxplot(data=df_edu_kh_melted, x='Kidhome', y='Income', hue='Education_Cleaned', ax=ax[0])\n",
        "sns.boxplot(data=df_edu_th_melted, x='Teenhome', y='Income', hue='Education_Cleaned', ax=ax[1])"
      ]
    },
    {
      "cell_type": "code",
      "execution_count": null,
      "id": "93667147",
      "metadata": {
        "id": "93667147"
      },
      "outputs": [],
      "source": [
        "# Conclusions of the EDA"
      ]
    },
    {
      "cell_type": "code",
      "execution_count": null,
      "id": "4e4521dd",
      "metadata": {
        "id": "4e4521dd"
      },
      "outputs": [],
      "source": [
        "# 1 - The profile of our average customer\n",
        "\n",
        "# Lives in Spain with Master's degree, coupled up, in their 40s-70s, earns 35-68k per year, has no or one child"
      ]
    },
    {
      "cell_type": "code",
      "execution_count": null,
      "id": "31fdb66c",
      "metadata": {
        "id": "31fdb66c"
      },
      "outputs": [],
      "source": [
        "# 2 - The most popular product types\n",
        "\n",
        "# Our customers spend the most on wine by far, followed by meat\n",
        "# Customers who spend a lot on meat likes to purchase meat via catalogue\n",
        "# Customers with no kids tend to spend a lot on wine"
      ]
    },
    {
      "cell_type": "code",
      "execution_count": null,
      "id": "550cefdc",
      "metadata": {
        "id": "550cefdc"
      },
      "outputs": [],
      "source": [
        "# 3 - The most popular sales channels\n",
        "\n",
        "# Customers prefer to make their purchases in store, followed by online (web)"
      ]
    },
    {
      "cell_type": "code",
      "execution_count": null,
      "id": "69fe1662",
      "metadata": {
        "id": "69fe1662"
      },
      "outputs": [],
      "source": [
        "# 4 - How is 'web' sales channel doing\n",
        "\n",
        "# Even if web is relatively popular as a sales channel, it is alarming that higher website visits don't result in higher web purchases\n",
        "# In fact there seems to be a slightly negative correlation between website visits and website purchases\n",
        "# This needs to be looked into by the business, there could be something with our website"
      ]
    },
    {
      "cell_type": "code",
      "execution_count": null,
      "id": "1e2be4f3",
      "metadata": {
        "id": "1e2be4f3"
      },
      "outputs": [],
      "source": [
        "# 5 - Campaign performance\n",
        "\n",
        "# Campaign 4 is the winning campaign, campaign 2 received poor results\n",
        "# Campaign 3 seems to be very attractive to customers with basic education\n",
        "# Customers with 1-2 kids or teens at home really liked campaign 3\n",
        "# Customers with teens (at least one) at home really appreciated campaign 4"
      ]
    },
    {
      "cell_type": "code",
      "execution_count": null,
      "id": "f95f675b",
      "metadata": {
        "id": "f95f675b"
      },
      "outputs": [],
      "source": [
        "# 6 - Other thoughts\n",
        "\n",
        "# A large portion of our customers have at least a Master's degree\n",
        "# Higher education level seems to be correlated to higher income\n",
        "# Which makes me wonder if we as a business is not affordable for lower income customers\n",
        "# Customers with no kids seem to have higher income, which means that they might fit our targeted profile better\n",
        "# As a result, it might make sense for us to figure out how to tap into their disposable income (that they have no kids to spend on!) with our campaigns\n",
        "# Finally one thought on recency, I didn't find any correlation between any campaign and recency\n",
        "# But I think potential future campaigns that get inactive customers making purchases could be interesting"
      ]
    }
  ],
  "metadata": {
    "kernelspec": {
      "display_name": "Python 3 (ipykernel)",
      "language": "python",
      "name": "python3"
    },
    "language_info": {
      "codemirror_mode": {
        "name": "ipython",
        "version": 3
      },
      "file_extension": ".py",
      "mimetype": "text/x-python",
      "name": "python",
      "nbconvert_exporter": "python",
      "pygments_lexer": "ipython3",
      "version": "3.9.7"
    },
    "colab": {
      "provenance": [],
      "include_colab_link": true
    }
  },
  "nbformat": 4,
  "nbformat_minor": 5
}