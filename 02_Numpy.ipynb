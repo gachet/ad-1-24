{
  "cells": [
    {
      "cell_type": "markdown",
      "metadata": {
        "id": "WtS6xqxx04n1"
      },
      "source": [
        "# Numpy\n",
        "\n",
        "Numpy es un módulo de cálculo numérico. Está escrito en C, por lo tanto es muy rápido, sin embargo su interfaz está muy bien diseñada para trabajar de manera *pythonica*.\n",
        "\n",
        "\n",
        "__Contenidos:__\n",
        "\n",
        "+ Arreglos multidimensionales, atributos y métodos\n",
        "+ Cargar y salvar desde un archivo\n",
        "+ Operaciones con arreglos\n",
        "+ Funciones universales\n",
        "+ Slicing"
      ]
    },
    {
      "cell_type": "markdown",
      "metadata": {
        "id": "m89oOUNn04n6"
      },
      "source": [
        "Para poder utilizar Numpy, debemos importar el módulo. Esto lo conseguimos con la siguiente línea:"
      ]
    },
    {
      "cell_type": "code",
      "execution_count": 13,
      "metadata": {
        "id": "RPKNrq6H04n6"
      },
      "outputs": [],
      "source": [
        "import numpy as np"
      ]
    },
    {
      "cell_type": "markdown",
      "metadata": {
        "id": "CucCKhC504n7"
      },
      "source": [
        "## Arreglos (arrays)\n",
        "\n",
        "La principal estructura de datos ofrecida por Numpy son los arreglos. Se parecen a una lista, pero tiene las siguientes diferencias:\n",
        "\n",
        "+ El número de elementos en un array es fijo (no se puede hacer `append()` o `remove()`)\n",
        "+ Todos los elementos deben ser del mismo tipo.\n",
        "+ No se pueden mezclar distintos tipos de datos en un mismo array y una vez que se crea, el tipo de datos no se puede cambiar\n",
        "\n",
        "Las principales ventajas sobre las listas son:\n",
        "\n",
        "+ Pueden ser n-dimensionales (vectores, matrices, tensores).\n",
        "+ Soportan operaciones algebráicas y aritméticas.\n",
        "+ Fueron pensados para cálculo científico, por lo tanto funcionan muy rápido."
      ]
    },
    {
      "cell_type": "code",
      "execution_count": 14,
      "metadata": {
        "id": "03crnXzS04n8",
        "outputId": "10797318-4f5e-46fd-ca31-7efee0296c04",
        "colab": {
          "base_uri": "https://localhost:8080/"
        }
      },
      "outputs": [
        {
          "output_type": "stream",
          "name": "stdout",
          "text": [
            "[0. 0. 0. 0. 0. 0. 0. 0. 0. 0.]\n",
            "[[0. 0. 0.]\n",
            " [0. 0. 0.]\n",
            " [0. 0. 0.]]\n",
            "[[1 2 3]\n",
            " [4 5 6]\n",
            " [7 8 9]]\n"
          ]
        }
      ],
      "source": [
        "# Crea un vector de ceros\n",
        "zeros_1d = np.zeros(10)\n",
        "print(zeros_1d)\n",
        "\n",
        "# Crea una matriz de ceros\n",
        "zeros_2d = np.zeros((3,3))\n",
        "print(zeros_2d)\n",
        "\n",
        "# Crea una matriz a partir de lista\n",
        "matrix = np.array([[1,2,3],[4,5,6],[7,8,9]])\n",
        "print(matrix)"
      ]
    },
    {
      "cell_type": "markdown",
      "metadata": {
        "id": "WSZH2KVH04n9"
      },
      "source": [
        "- Nótese que los arrays se imprimen en consola de manera distinta a las listas, no hay comas entre los valores, sólo espacios\n",
        "- No es necesario indicar el tipo de datos que se desea crear (como en el caso primero), por defecto se crean floats\n",
        "\n",
        "- También se pueden crear arreglos multidimensionales"
      ]
    },
    {
      "cell_type": "markdown",
      "metadata": {
        "id": "vaDvqUvY04n-"
      },
      "source": [
        "Hay muchas formas de crear arreglos en Numpy, puede explorarlas todas en este [enlace](https://docs.scipy.org/doc/numpy-1.13.0/reference/routines.array-creation.html). Las más comunes son:\n",
        "\n",
        "| Función | Descripción |\n",
        "|:--------|:------------|\n",
        "| `empty` | Arreglo vacio (con los datos basura que haya en memoria) |\n",
        "| `zeros` | Arreglo de ceros |\n",
        "| `ones`  | Arreglo de unos |\n",
        "| `full`  | Se especifica un valor para llenar todo el arreglo con él |\n",
        "| `identity` | Unos en la diagonal y cero en el resto |\n",
        "| `array` | Constructor genérico |\n",
        "| `fromfunction` | Según una función dada que retorna un valor para cada punto de la coordenada |\n",
        "| `loadtxt` | Carga los datos de un archivo |\n",
        "\n",
        "### Ejemplo\n",
        "\n",
        "Crear una matriz tamaño 4x4 y una matriz identidad. Comprobar que esta matriz es la identidad del producto de matrices."
      ]
    },
    {
      "cell_type": "code",
      "execution_count": 15,
      "metadata": {
        "id": "lLiZudpd04n-",
        "outputId": "a8f28880-451d-4604-c61e-3f31b30eac6b",
        "colab": {
          "base_uri": "https://localhost:8080/"
        }
      },
      "outputs": [
        {
          "output_type": "stream",
          "name": "stdout",
          "text": [
            "[[4. 5. 2. 3.]\n",
            " [4. 5. 2. 3.]\n",
            " [4. 5. 2. 3.]\n",
            " [4. 5. 2. 3.]]\n",
            "[[5. 6. 3. 4.]\n",
            " [5. 6. 3. 4.]\n",
            " [5. 6. 3. 4.]\n",
            " [5. 6. 3. 4.]]\n"
          ]
        }
      ],
      "source": [
        "# Cree una matriz 4x4\n",
        "mat = np.array([[4,5,2,3],[4,5,2,3],[4,5,2,3],[4,5,2,3]])\n",
        "\n",
        "# Cree la matriz identidad\n",
        "ident = np.identity(4)\n",
        "\n",
        "# Multiplicación de matrices\n",
        "prod = np.dot(mat, ident)\n",
        "print(prod)\n",
        "\n",
        "# Sume una matriz de unos\n",
        "#    x += 1 equivale a decir a x = x + 1\n",
        "prod += 1\n",
        "print(prod)"
      ]
    },
    {
      "cell_type": "code",
      "execution_count": 16,
      "metadata": {
        "id": "0-U6g7sc04n_",
        "outputId": "f675e542-49ff-4a4e-ee25-1aeb8ec34f39",
        "colab": {
          "base_uri": "https://localhost:8080/"
        }
      },
      "outputs": [
        {
          "output_type": "execute_result",
          "data": {
            "text/plain": [
              "(4, 4)"
            ]
          },
          "metadata": {},
          "execution_count": 16
        }
      ],
      "source": [
        "ident = np.identity(4)\n",
        "ident.shape"
      ]
    },
    {
      "cell_type": "markdown",
      "metadata": {
        "id": "AeRnslJE04oA"
      },
      "source": [
        "## Atributos y métodos de array\n",
        "\n",
        "Los atributos de un objeto nos dicen cosas sobre él. Al igual que los métodos, se acceden con el operador punto. Los atributos más relevantes del objeto array se muestran en la tabla a continuación. Puede encontrar la documentación de los atributos [aquí](https://docs.scipy.org/doc/numpy-1.13.0/reference/arrays.ndarray.html#array-attributes). Para todos los efectos, `a` es un arreglo cualquiera de numpy.\n",
        "\n",
        "| Atributo | Descripción |\n",
        "|:-------|:------------|\n",
        "|`a.shape` | Retorna una tupla con el número de elementos por dimensión|\n",
        "|`a.ndim`  | Número de dimensiones |\n",
        "|`a.size`  | Número de elementos en el arreglo |\n",
        "| `a.dtype`| Tipo de datos almacenados en el arreglo |\n",
        "| `a.T`    | Transpuesta del arreglo |\n",
        "| `a.real` | Parte real del arreglo |\n",
        "| `a.imag` | Parte imaginaria del arreglo |\n",
        "| `a.flat` | Colapsa el arreglo a 1 dimesión |\n",
        "\n",
        "Existen otros métodos, que se exploran más adelante. Por ahora, la siguiente tabla muestra algunos tienen que ver con la *administración* del arreglo. Puede encontrar la documentación en este [enlace](https://docs.scipy.org/doc/numpy-1.13.0/reference/arrays.ndarray.html#array-methods).\n",
        "\n",
        "| Método | Descripción |\n",
        "|:-------|:------------|\n",
        "| `a.copy()` | Retorna una copia del arreglo |\n",
        "| `a.fill()` | Llena el arreglo con el valor dado |\n",
        "| `a.reshape()` | Retorna un arreglo con el shape solicitado, pero los mismos datos |\n",
        "| `a.resize()` | Cambia el tamaño y shape del arreglo sin crear una copia |\n",
        "| `a.sort()` | Ordena el arreglo |\n",
        "\n",
        "### Ejemplo"
      ]
    },
    {
      "cell_type": "code",
      "execution_count": 17,
      "metadata": {
        "id": "BxC-jZSu04oA",
        "colab": {
          "base_uri": "https://localhost:8080/"
        },
        "outputId": "4a717347-6270-4cbe-8a7e-82ea532ac634"
      },
      "outputs": [
        {
          "output_type": "stream",
          "name": "stdout",
          "text": [
            "[[2 3]\n",
            " [4 6]\n",
            " [8 1]]\n",
            "True\n"
          ]
        }
      ],
      "source": [
        "# Cree una matriz NO cuadrada. Revise sus dimensiones con .shape\n",
        "mat = np.array([[2,3,4],[6,8,1]])\n",
        "\n",
        "# Utilice .reshape() para cambiar la forma de la matriz\n",
        "mat_n = mat.reshape((3,2))\n",
        "print(mat_n)\n",
        "\n",
        "# Compruebe que .size es igual a np.prod(a.shape)\n",
        "c = (mat_n.size == np.prod(mat_n.shape))\n",
        "print(c)\n",
        "\n"
      ]
    },
    {
      "cell_type": "markdown",
      "metadata": {
        "id": "TWyzMwgD04oA"
      },
      "source": [
        "## Creación de rangos\n",
        "\n",
        "En muchas ocaciones es útil crear arreglos con rangos, por ejemplo, si se quiere modelar un fenómeno en función del tiempo de 1 a 10 s, es conveniente crear un arreglo `t` con pasos de 0.1s. Esto se consigue de la siguiente manera:"
      ]
    },
    {
      "cell_type": "code",
      "execution_count": 18,
      "metadata": {
        "id": "x0VJfdjY04oA",
        "colab": {
          "base_uri": "https://localhost:8080/"
        },
        "outputId": "b361e6f7-8c47-486f-cbe8-4df70b56ed48"
      },
      "outputs": [
        {
          "output_type": "stream",
          "name": "stdout",
          "text": [
            "[0.  0.1 0.2 0.3 0.4 0.5 0.6 0.7 0.8 0.9 1.  1.1 1.2 1.3 1.4 1.5 1.6 1.7\n",
            " 1.8 1.9 2.  2.1 2.2 2.3 2.4 2.5 2.6 2.7 2.8 2.9 3.  3.1 3.2 3.3 3.4 3.5\n",
            " 3.6 3.7 3.8 3.9 4.  4.1 4.2 4.3 4.4 4.5 4.6 4.7 4.8 4.9 5.  5.1 5.2 5.3\n",
            " 5.4 5.5 5.6 5.7 5.8 5.9 6.  6.1 6.2 6.3 6.4 6.5 6.6 6.7 6.8 6.9 7.  7.1\n",
            " 7.2 7.3 7.4 7.5 7.6 7.7 7.8 7.9 8.  8.1 8.2 8.3 8.4 8.5 8.6 8.7 8.8 8.9\n",
            " 9.  9.1 9.2 9.3 9.4 9.5 9.6 9.7 9.8 9.9]\n"
          ]
        }
      ],
      "source": [
        "t = np.arange(0, 10, 0.1)\n",
        "print(t)"
      ]
    },
    {
      "cell_type": "markdown",
      "metadata": {
        "id": "06VuP9jq04oB"
      },
      "source": [
        "Puede explorar más sobre la creación de rangos en numpy en este [enlace](https://docs.scipy.org/doc/numpy-1.13.0/reference/routines.array-creation.html#numerical-ranges). Los más importantes son:\n",
        "\n",
        "| Función | Descripción |\n",
        "|:--------|:------------|\n",
        "| `np.arange() `   | Retorna valores homogeneamente espaciados en el rango dado, según el paso indicado |\n",
        "| `np.linspace()`  | Retorna el número de valores homogeneamente espaciados indicados en un intervalo dado |\n",
        "| `np.logspace()`  | Semejante a `linspace`, pero con espaciamiento logarítmico |\n",
        "| `np.geomspace()` | Semejante a `linspace`, siguiendo una progresión geométrica |\n",
        "| `np.meshgrid()`  | Retorna los valores de una cuadricula |"
      ]
    },
    {
      "cell_type": "markdown",
      "metadata": {
        "id": "NAoUM-ca04oB"
      },
      "source": [
        "## Operaciones\n",
        "\n",
        "- Las operaciones de suma, resta, multiplicación y división de escalares se aplican a todos los elementos\n",
        "- También algunas de las operaciones que se aplican a las listas normales, y otras operaciones más complejas"
      ]
    },
    {
      "cell_type": "code",
      "execution_count": 19,
      "metadata": {
        "id": "OBJnTHxV04oB",
        "colab": {
          "base_uri": "https://localhost:8080/"
        },
        "outputId": "f77685ec-c919-48d2-9560-9ce8bd67ec37"
      },
      "outputs": [
        {
          "output_type": "stream",
          "name": "stdout",
          "text": [
            "[ 6  7  8  9 10 11 12 13 14 15 16 17]\n",
            "\n",
            "-------Suma---------\n",
            "138\n",
            "\n",
            "-------Máximo---------\n",
            "17\n",
            "\n",
            "--------Mínimo--------\n",
            "6\n",
            "\n",
            "--------Raíz Cuadrada--------\n",
            "[2.44948974 2.64575131 2.82842712 3.         3.16227766 3.31662479\n",
            " 3.46410162 3.60555128 3.74165739 3.87298335 4.         4.12310563]\n",
            "\n",
            "--------Cant. Datos--------\n",
            "12\n",
            "\n",
            "-------Forma del array---------\n",
            "1\n",
            "(12,)\n",
            "\n",
            "-------Cambiar el array de forma---------\n",
            "(3, 4)\n",
            "12\n",
            "3\n",
            "4\n",
            "\n",
            "-------Así se ve el array luego de cambiar de forma---------\n",
            "[[ 6  7  8  9]\n",
            " [10 11 12 13]\n",
            " [14 15 16 17]]\n"
          ]
        }
      ],
      "source": [
        "from numpy import array\n",
        "\n",
        "a = array([1, 2, 3, 4, 5, 6, 7, 8, 9, 10, 11, 12])\n",
        "a = a+5 # le suma el número 5 a todas las entradas del array\n",
        "print (a)\n",
        "print(\"\\n-------Suma---------\")\n",
        "print (a.sum()) # suma todas las entradas del array\n",
        "print(\"\\n-------Máximo---------\")\n",
        "print (a.max()) # retorna el valor máximo\n",
        "print(\"\\n--------Mínimo--------\")\n",
        "print (a.min()) # retorna el valor mínimo\n",
        "print(\"\\n--------Raíz Cuadrada--------\")\n",
        "print (np.sqrt(a)) # retorna un array cuyos valores son la raíz cuadrada de cada uno de los valores del array original\n",
        "print(\"\\n--------Cant. Datos--------\")\n",
        "print (a.size) # retorna la cantidad de datos que tiene el array\n",
        "print(\"\\n-------Forma del array---------\")\n",
        "tamaño_x = a.shape\n",
        "print(len(tamaño_x))\n",
        "print (tamaño_x) # retorna la forma que tienen los datos en el array, si tiene más de una dimensión, devuelve la magnitud máxima de cada una\n",
        "print(\"\\n-------Cambiar el array de forma---------\")\n",
        "a = a.reshape((3,4))\n",
        "print(a.shape)\n",
        "print (a.size)\n",
        "tamaño_x, tamaño_y = a.shape\n",
        "print(tamaño_x)\n",
        "print(tamaño_y)\n",
        "print(\"\\n-------Así se ve el array luego de cambiar de forma---------\")\n",
        "print (a)"
      ]
    },
    {
      "cell_type": "markdown",
      "metadata": {
        "id": "0bZU1jXs04oB"
      },
      "source": [
        "## Leer y guardar datos de un archivo\n",
        "\n",
        "Muchas veces nuestros datos de entrada estarán almacenados en un archivo, posiblemente fueron la salida de otro programa. Numpy facilita cargar un archivo `csv` directamente a un arreglo.\n",
        "\n",
        "El formato `csv` no es un estándar, pero expresa una idea. Se parece a un archivo excel, donde cada valor está separado por un *caracter separador*, generalmente una coma, y cada línea tiene un *caracter de cambio de línea*, generalmente un `\\n`. Por ejemplo:"
      ]
    },
    {
      "cell_type": "raw",
      "metadata": {
        "id": "g6_bU9kY04oB"
      },
      "source": [
        "4,9,3,4,0,4,4,1,7,6\n",
        "0,0,9,1,8,4,2,5,7,9\n",
        "0,2,3,8,3,7,3,9,1,5\n",
        "2,5,0,7,0,7,8,3,5,5\n",
        "7,0,4,3,6,5,6,7,9,2\n",
        "1,1,4,4,7,5,4,0,7,5\n",
        "1,2,9,8,7,3,5,4,9,3\n",
        "3,5,6,5,0,9,5,4,8,1\n",
        "5,8,1,1,8,2,4,3,4,7\n",
        "1,6,7,0,0,7,1,4,7,3"
      ]
    },
    {
      "cell_type": "markdown",
      "metadata": {
        "id": "bVfRTENA04oC"
      },
      "source": [
        "Para cargar un archivo `csv` se utiliza la función `loadtxt()`, puede encontrar la documentación en este [enlace](https://docs.scipy.org/doc/numpy/reference/generated/numpy.loadtxt.html). Intente carga el archivo `prueba_cargar.csv` e imprimirlo:"
      ]
    },
    {
      "cell_type": "code",
      "execution_count": 20,
      "metadata": {
        "id": "KjDQtpdg04oC",
        "colab": {
          "base_uri": "https://localhost:8080/",
          "height": 373
        },
        "outputId": "d39328c0-b950-4141-a13c-573e9f212d7c"
      },
      "outputs": [
        {
          "output_type": "error",
          "ename": "FileNotFoundError",
          "evalue": "ignored",
          "traceback": [
            "\u001b[0;31m---------------------------------------------------------------------------\u001b[0m",
            "\u001b[0;31mFileNotFoundError\u001b[0m                         Traceback (most recent call last)",
            "\u001b[0;32m<ipython-input-20-4427f25a5862>\u001b[0m in \u001b[0;36m<cell line: 3>\u001b[0;34m()\u001b[0m\n\u001b[1;32m      1\u001b[0m \u001b[0mf\u001b[0m \u001b[0;34m=\u001b[0m \u001b[0;34m'prueba_cargar.txt'\u001b[0m\u001b[0;34m\u001b[0m\u001b[0;34m\u001b[0m\u001b[0m\n\u001b[1;32m      2\u001b[0m \u001b[0;34m\u001b[0m\u001b[0m\n\u001b[0;32m----> 3\u001b[0;31m \u001b[0marr\u001b[0m \u001b[0;34m=\u001b[0m \u001b[0mnp\u001b[0m\u001b[0;34m.\u001b[0m\u001b[0mloadtxt\u001b[0m\u001b[0;34m(\u001b[0m\u001b[0mf\u001b[0m\u001b[0;34m,\u001b[0m \u001b[0mdelimiter\u001b[0m\u001b[0;34m=\u001b[0m\u001b[0;34m\",\"\u001b[0m\u001b[0;34m)\u001b[0m\u001b[0;34m\u001b[0m\u001b[0;34m\u001b[0m\u001b[0m\n\u001b[0m\u001b[1;32m      4\u001b[0m \u001b[0mprint\u001b[0m\u001b[0;34m(\u001b[0m\u001b[0marr\u001b[0m\u001b[0;34m)\u001b[0m\u001b[0;34m\u001b[0m\u001b[0;34m\u001b[0m\u001b[0m\n",
            "\u001b[0;32m/usr/local/lib/python3.10/dist-packages/numpy/lib/npyio.py\u001b[0m in \u001b[0;36mloadtxt\u001b[0;34m(fname, dtype, comments, delimiter, converters, skiprows, usecols, unpack, ndmin, encoding, max_rows, quotechar, like)\u001b[0m\n\u001b[1;32m   1336\u001b[0m         \u001b[0mdelimiter\u001b[0m \u001b[0;34m=\u001b[0m \u001b[0mdelimiter\u001b[0m\u001b[0;34m.\u001b[0m\u001b[0mdecode\u001b[0m\u001b[0;34m(\u001b[0m\u001b[0;34m'latin1'\u001b[0m\u001b[0;34m)\u001b[0m\u001b[0;34m\u001b[0m\u001b[0;34m\u001b[0m\u001b[0m\n\u001b[1;32m   1337\u001b[0m \u001b[0;34m\u001b[0m\u001b[0m\n\u001b[0;32m-> 1338\u001b[0;31m     arr = _read(fname, dtype=dtype, comment=comment, delimiter=delimiter,\n\u001b[0m\u001b[1;32m   1339\u001b[0m                 \u001b[0mconverters\u001b[0m\u001b[0;34m=\u001b[0m\u001b[0mconverters\u001b[0m\u001b[0;34m,\u001b[0m \u001b[0mskiplines\u001b[0m\u001b[0;34m=\u001b[0m\u001b[0mskiprows\u001b[0m\u001b[0;34m,\u001b[0m \u001b[0musecols\u001b[0m\u001b[0;34m=\u001b[0m\u001b[0musecols\u001b[0m\u001b[0;34m,\u001b[0m\u001b[0;34m\u001b[0m\u001b[0;34m\u001b[0m\u001b[0m\n\u001b[1;32m   1340\u001b[0m                 \u001b[0munpack\u001b[0m\u001b[0;34m=\u001b[0m\u001b[0munpack\u001b[0m\u001b[0;34m,\u001b[0m \u001b[0mndmin\u001b[0m\u001b[0;34m=\u001b[0m\u001b[0mndmin\u001b[0m\u001b[0;34m,\u001b[0m \u001b[0mencoding\u001b[0m\u001b[0;34m=\u001b[0m\u001b[0mencoding\u001b[0m\u001b[0;34m,\u001b[0m\u001b[0;34m\u001b[0m\u001b[0;34m\u001b[0m\u001b[0m\n",
            "\u001b[0;32m/usr/local/lib/python3.10/dist-packages/numpy/lib/npyio.py\u001b[0m in \u001b[0;36m_read\u001b[0;34m(fname, delimiter, comment, quote, imaginary_unit, usecols, skiplines, max_rows, converters, ndmin, unpack, dtype, encoding)\u001b[0m\n\u001b[1;32m    973\u001b[0m             \u001b[0mfname\u001b[0m \u001b[0;34m=\u001b[0m \u001b[0mos\u001b[0m\u001b[0;34m.\u001b[0m\u001b[0mfspath\u001b[0m\u001b[0;34m(\u001b[0m\u001b[0mfname\u001b[0m\u001b[0;34m)\u001b[0m\u001b[0;34m\u001b[0m\u001b[0;34m\u001b[0m\u001b[0m\n\u001b[1;32m    974\u001b[0m         \u001b[0;32mif\u001b[0m \u001b[0misinstance\u001b[0m\u001b[0;34m(\u001b[0m\u001b[0mfname\u001b[0m\u001b[0;34m,\u001b[0m \u001b[0mstr\u001b[0m\u001b[0;34m)\u001b[0m\u001b[0;34m:\u001b[0m\u001b[0;34m\u001b[0m\u001b[0;34m\u001b[0m\u001b[0m\n\u001b[0;32m--> 975\u001b[0;31m             \u001b[0mfh\u001b[0m \u001b[0;34m=\u001b[0m \u001b[0mnp\u001b[0m\u001b[0;34m.\u001b[0m\u001b[0mlib\u001b[0m\u001b[0;34m.\u001b[0m\u001b[0m_datasource\u001b[0m\u001b[0;34m.\u001b[0m\u001b[0mopen\u001b[0m\u001b[0;34m(\u001b[0m\u001b[0mfname\u001b[0m\u001b[0;34m,\u001b[0m \u001b[0;34m'rt'\u001b[0m\u001b[0;34m,\u001b[0m \u001b[0mencoding\u001b[0m\u001b[0;34m=\u001b[0m\u001b[0mencoding\u001b[0m\u001b[0;34m)\u001b[0m\u001b[0;34m\u001b[0m\u001b[0;34m\u001b[0m\u001b[0m\n\u001b[0m\u001b[1;32m    976\u001b[0m             \u001b[0;32mif\u001b[0m \u001b[0mencoding\u001b[0m \u001b[0;32mis\u001b[0m \u001b[0;32mNone\u001b[0m\u001b[0;34m:\u001b[0m\u001b[0;34m\u001b[0m\u001b[0;34m\u001b[0m\u001b[0m\n\u001b[1;32m    977\u001b[0m                 \u001b[0mencoding\u001b[0m \u001b[0;34m=\u001b[0m \u001b[0mgetattr\u001b[0m\u001b[0;34m(\u001b[0m\u001b[0mfh\u001b[0m\u001b[0;34m,\u001b[0m \u001b[0;34m'encoding'\u001b[0m\u001b[0;34m,\u001b[0m \u001b[0;34m'latin1'\u001b[0m\u001b[0;34m)\u001b[0m\u001b[0;34m\u001b[0m\u001b[0;34m\u001b[0m\u001b[0m\n",
            "\u001b[0;32m/usr/local/lib/python3.10/dist-packages/numpy/lib/_datasource.py\u001b[0m in \u001b[0;36mopen\u001b[0;34m(path, mode, destpath, encoding, newline)\u001b[0m\n\u001b[1;32m    191\u001b[0m \u001b[0;34m\u001b[0m\u001b[0m\n\u001b[1;32m    192\u001b[0m     \u001b[0mds\u001b[0m \u001b[0;34m=\u001b[0m \u001b[0mDataSource\u001b[0m\u001b[0;34m(\u001b[0m\u001b[0mdestpath\u001b[0m\u001b[0;34m)\u001b[0m\u001b[0;34m\u001b[0m\u001b[0;34m\u001b[0m\u001b[0m\n\u001b[0;32m--> 193\u001b[0;31m     \u001b[0;32mreturn\u001b[0m \u001b[0mds\u001b[0m\u001b[0;34m.\u001b[0m\u001b[0mopen\u001b[0m\u001b[0;34m(\u001b[0m\u001b[0mpath\u001b[0m\u001b[0;34m,\u001b[0m \u001b[0mmode\u001b[0m\u001b[0;34m,\u001b[0m \u001b[0mencoding\u001b[0m\u001b[0;34m=\u001b[0m\u001b[0mencoding\u001b[0m\u001b[0;34m,\u001b[0m \u001b[0mnewline\u001b[0m\u001b[0;34m=\u001b[0m\u001b[0mnewline\u001b[0m\u001b[0;34m)\u001b[0m\u001b[0;34m\u001b[0m\u001b[0;34m\u001b[0m\u001b[0m\n\u001b[0m\u001b[1;32m    194\u001b[0m \u001b[0;34m\u001b[0m\u001b[0m\n\u001b[1;32m    195\u001b[0m \u001b[0;34m\u001b[0m\u001b[0m\n",
            "\u001b[0;32m/usr/local/lib/python3.10/dist-packages/numpy/lib/_datasource.py\u001b[0m in \u001b[0;36mopen\u001b[0;34m(self, path, mode, encoding, newline)\u001b[0m\n\u001b[1;32m    531\u001b[0m                                       encoding=encoding, newline=newline)\n\u001b[1;32m    532\u001b[0m         \u001b[0;32melse\u001b[0m\u001b[0;34m:\u001b[0m\u001b[0;34m\u001b[0m\u001b[0;34m\u001b[0m\u001b[0m\n\u001b[0;32m--> 533\u001b[0;31m             \u001b[0;32mraise\u001b[0m \u001b[0mFileNotFoundError\u001b[0m\u001b[0;34m(\u001b[0m\u001b[0;34mf\"{path} not found.\"\u001b[0m\u001b[0;34m)\u001b[0m\u001b[0;34m\u001b[0m\u001b[0;34m\u001b[0m\u001b[0m\n\u001b[0m\u001b[1;32m    534\u001b[0m \u001b[0;34m\u001b[0m\u001b[0m\n\u001b[1;32m    535\u001b[0m \u001b[0;34m\u001b[0m\u001b[0m\n",
            "\u001b[0;31mFileNotFoundError\u001b[0m: prueba_cargar.txt not found."
          ]
        }
      ],
      "source": [
        "f = 'prueba_cargar.txt'\n",
        "\n",
        "arr = np.loadtxt(f, delimiter=\",\")\n",
        "print(arr)"
      ]
    },
    {
      "cell_type": "markdown",
      "metadata": {
        "id": "IjDxNqqx04oC"
      },
      "source": [
        "Otra acción importante es poder guardar nuestros resultados en un archivo, para esto, numpy ofrece la función `savetxt`, que funciona de manera análoga a `loadtxt`. Puede encontrar la documentación [aquí](https://docs.scipy.org/doc/numpy/reference/generated/numpy.savetxt.html). Ahora cree un rango de 0 a 100 con 10 000 valores y guárdelos en un archivo llamado `tiempo_test.csv`."
      ]
    },
    {
      "cell_type": "code",
      "execution_count": null,
      "metadata": {
        "id": "igjuT57U04oC"
      },
      "outputs": [],
      "source": [
        "f = 'tiempo_test.txt'\n",
        "\n",
        "# Cree el vector con el rango\n",
        "arr = np.arange(0, 1000, 0.01)\n",
        "\n",
        "# Sálvelo usando np.savetxt, use la coma como separador\n",
        "np.savetxt(f, arr, delimiter=\",\")"
      ]
    },
    {
      "cell_type": "markdown",
      "metadata": {
        "id": "CRcW9YWt04oC"
      },
      "source": [
        "## Operaciones\n",
        "\n",
        "En términos generales, los arreglos de numpy se comportan como matrices de álgebra lineal. Solo tenga presente cuando una operación se realiza *entrada por entrada*.\n",
        "\n",
        "Algunos ejemplos:"
      ]
    },
    {
      "cell_type": "code",
      "execution_count": 21,
      "metadata": {
        "scrolled": true,
        "id": "1dXKpypw04oD",
        "outputId": "08c76235-0dce-4773-e5e9-705baef2b0ce",
        "colab": {
          "base_uri": "https://localhost:8080/"
        }
      },
      "outputs": [
        {
          "output_type": "stream",
          "name": "stdout",
          "text": [
            "a + 10\n",
            "[11. 11. 11. 11. 11. 11. 11. 11. 11. 11.]\n",
            "c = a + b\n",
            "[25. 25. 25. 25. 25. 25. 25. 25. 25. 25.]\n",
            "d = 0.5 * a\n",
            "[5.5 5.5 5.5 5.5 5.5 5.5 5.5 5.5 5.5 5.5]\n",
            "h = e * f\n",
            "[[0. 1. 2. 3. 4. 5. 6. 7. 8. 9.]\n",
            " [0. 1. 2. 3. 4. 5. 6. 7. 8. 9.]\n",
            " [0. 1. 2. 3. 4. 5. 6. 7. 8. 9.]]\n",
            "j = i matmul j\n",
            "[  0.  24.  48.  72.  96. 120. 144. 168. 192. 216.]\n"
          ]
        }
      ],
      "source": [
        "# Suma escalar, entrada por entrada\n",
        "a = np.ones(10)\n",
        "a = a + 10\n",
        "print('a + 10')\n",
        "print(a)\n",
        "\n",
        "# Suma de vectores\n",
        "b = np.full(10, 14)\n",
        "c = a + b\n",
        "print('c = a + b')\n",
        "print(c)\n",
        "\n",
        "# Multiplicacion escalar, entrada por entrada\n",
        "d = 0.5 *a\n",
        "print('d = 0.5 * a')\n",
        "print(d)\n",
        "\n",
        "# Multiplicación de vectores ¡Se hace entrada por entrada!\n",
        "e = np.array([0,1,2,3,4,5,6,7,8,9])\n",
        "f = np.ones((3,10))\n",
        "h = e * f\n",
        "print('h = e * f')\n",
        "print(h)\n",
        "\n",
        "# Multiplicación de matrices\n",
        "i = np.array([9,8,7])\n",
        "j = i.dot(h)\n",
        "print('j = i matmul j')\n",
        "print(j)"
      ]
    },
    {
      "cell_type": "markdown",
      "metadata": {
        "id": "rsSHXJ2604oD"
      },
      "source": [
        "## Operaciones de reducción\n",
        "\n",
        "Suelen expresarse como métodos del objeto array. En general, tienen como consecuencia disminuir las dimensiones del arreglo y son muy utilizados en matemáticas y física. Por ejemplo, el producto interno (producto punto) es una operación de reducción.\n",
        "\n",
        "La siguiente tabla muestra los más utilizados, puede encontrar la documentación [aquí](https://docs.scipy.org/doc/numpy-1.13.0/reference/arrays.ndarray.html#calculation).\n",
        "\n",
        "| Operación | Descripción |\n",
        "|:----------|:------------|\n",
        "| `a.argmax()` | Retorna el índice donde ocurren los valores máximos de cada eje |\n",
        "| `a.min()`    | Retorna el valor mínimo de un eje |\n",
        "| `a.argmin()` | Retorna el índice donde ocurren los valores mínimos de cada eje |\n",
        "| `a.ptp()`    | Valor pico a pico en un eje |\n",
        "| `a.conj()`   | Retorna el conjugado complejo de todos los elementos |\n",
        "| `a.round()`  | Retorna el valor redondeado de cada elemento |\n",
        "| `a.trace()`  | Retorna la suma de las diagonales del arreglo |\n",
        "| `a.sum()`    | Retorna la suma del arreglo en el eje dado |\n",
        "| `a.cumsum()` | Retorna la suma acumulativa en un eje dado |\n",
        "| `a.mean()`   | Retorna la media aritmética en un eje dado |\n",
        "| `a.var()`    | Retorna la varianza en un eje dado|\n",
        "| `a.std()`    | Retorna la desviación estándar en un eje dado |\n",
        "| `a.prod()`   | Retorna el producto en un eje dado |\n",
        "| `a.cumprod()`| Retorna el producto acumulativo en un eje dado |\n"
      ]
    },
    {
      "cell_type": "code",
      "execution_count": 26,
      "metadata": {
        "id": "JPl52k1804oD",
        "outputId": "b239768e-65c3-459c-f3aa-8cbacbfe6aef",
        "colab": {
          "base_uri": "https://localhost:8080/"
        }
      },
      "outputs": [
        {
          "output_type": "stream",
          "name": "stdout",
          "text": [
            "[[10 13 17 48 75 21 32 98 75 54]\n",
            " [66 84 12  9 32 67 56 29 45 70]]\n",
            "[66 84 17 48 75 67 56 98 75 70]\n"
          ]
        }
      ],
      "source": [
        "edad_participantes = [10,13,17,48,75,21,32,98,75,54,66,84,12,9,32,67,56,29,45,70]\n",
        "\n",
        "# Transforme la lista a un arreglo de Python\n",
        "edad_participantes = np.array(edad_participantes)\n",
        "\n",
        "\n",
        "# Cambie la forma del arreglo\n",
        "edad_participantes2x10 = edad_participantes.reshape(2,10)\n",
        "\n",
        "# Obtenga los siguientes valores GLOBALES:\n",
        "#    - Máxima\n",
        "#    - Mínima\n",
        "#    - Valor pico a pico\n",
        "#    - suma\n",
        "#    - media\n",
        "#    - desviación estándar\n",
        "\n",
        "\n",
        "\n",
        "# Repita la sección anterior pero en la dimensión 0 (por filas)\n",
        "print(edad_participantes2x10)\n",
        "print(edad_participantes2x10.max(0))\n",
        "\n"
      ]
    },
    {
      "cell_type": "markdown",
      "metadata": {
        "id": "MMxDNWdU04oE"
      },
      "source": [
        "## Funciones universales\n",
        "\n",
        "Son operaciones muy rápidas que se aplican a todas las entradas de un arreglo, por ejemplo, raíz cuadrada, seno, logaritmo. También incluyen los operadore de comparación y operadores lógicos (mayor que, menor que, and, or, ...). Deben usarse tanto como sea posible. Puede encontrar la lista completa de funciones universales en este [enlace](https://docs.scipy.org/doc/numpy-1.13.0/reference/ufuncs.html#math-operations)"
      ]
    },
    {
      "cell_type": "code",
      "execution_count": 27,
      "metadata": {
        "id": "7_nrqyeQ04oE",
        "colab": {
          "base_uri": "https://localhost:8080/"
        },
        "outputId": "9d7328ff-c5d8-4925-eb15-bd417f687197"
      },
      "outputs": [
        {
          "output_type": "stream",
          "name": "stdout",
          "text": [
            "Original: [ 0.  1.  2.  3.  4.  5.  6.  7.  8.  9. 10.]\n",
            "a^2: [  0.   1.   4.   9.  16.  25.  36.  49.  64.  81. 100.]\n",
            "raiz cuadrada: [ 0.  1.  2.  3.  4.  5.  6.  7.  8.  9. 10.]\n",
            "sin(a): [ 0.          0.84147098  0.90929743  0.14112001 -0.7568025  -0.95892427\n",
            " -0.2794155   0.6569866   0.98935825  0.41211849 -0.54402111]\n"
          ]
        }
      ],
      "source": [
        "a = np.linspace(0,10,11)\n",
        "print('Original: ' + str(a))\n",
        "a = np.power(a, 2)\n",
        "print('a^2: ' + str(a))\n",
        "a = np.sqrt(a)\n",
        "print('raiz cuadrada: ' + str(a))\n",
        "a = np.sin(a)\n",
        "print('sin(a): ' + str(a))"
      ]
    },
    {
      "cell_type": "markdown",
      "metadata": {
        "id": "udWjlHk804oE"
      },
      "source": [
        "## Sintaxis de *slicing*\n",
        "\n",
        "Al igual que las listas, los arreglos de numpy permiten acceso indexado y *slicing*, pero su modelo es superior y más flexible. Un slice se puede obtener siguiendo la construcción `inicio:final:paso`.  "
      ]
    },
    {
      "cell_type": "code",
      "execution_count": 28,
      "metadata": {
        "id": "8kv0cahb04oE",
        "outputId": "3b6c82c6-575e-4110-d592-4fe895a6cd6d",
        "colab": {
          "base_uri": "https://localhost:8080/"
        }
      },
      "outputs": [
        {
          "output_type": "stream",
          "name": "stdout",
          "text": [
            "[ 0.  1.  2.  3.  4.  5.  6.  7.  8.  9. 10.]\n",
            "4.0\n",
            "[3. 4. 5. 6. 7.]\n",
            "[1. 3. 5. 7. 9.]\n",
            "[3. 5. 7.]\n"
          ]
        }
      ],
      "source": [
        "a = np.linspace(0, 10, 11)\n",
        "\n",
        "# todos\n",
        "print(a[:])\n",
        "\n",
        "# en la posición 4 = 11 - 7\n",
        "print(a[-7])\n",
        "\n",
        "# de 3 a 8\n",
        "print(a[3:8])\n",
        "\n",
        "# de 1 a 9 en pasos de dos (los impares)\n",
        "print(a[1:11:2])\n",
        "\n",
        "# También soporta índeces negativos\n",
        "print(a[3:-2:2])"
      ]
    },
    {
      "cell_type": "markdown",
      "metadata": {
        "id": "hDn_1KnJ04oE"
      },
      "source": [
        "Una forma muy común de slicing es tomar todos los anteriores o todos los posteriores a un índice dado:"
      ]
    },
    {
      "cell_type": "code",
      "execution_count": 29,
      "metadata": {
        "id": "75AXvvYd04oF",
        "colab": {
          "base_uri": "https://localhost:8080/"
        },
        "outputId": "ae814af8-f3d4-4c8f-a695-0a27839ef3fb"
      },
      "outputs": [
        {
          "output_type": "stream",
          "name": "stdout",
          "text": [
            "[0. 1. 2. 3. 4.]\n",
            "[ 5.  6.  7.  8.  9. 10.]\n"
          ]
        }
      ],
      "source": [
        "# desde cero hasta 5-1\n",
        "print(a[:5])\n",
        "\n",
        "# desde 5 hasta el final\n",
        "print(a[5:])"
      ]
    },
    {
      "cell_type": "markdown",
      "metadata": {
        "id": "ushryvf_04oF"
      },
      "source": [
        "Una forma avanzada es utilizar una condición booleana para seleccionar los elementos:"
      ]
    },
    {
      "cell_type": "code",
      "execution_count": 30,
      "metadata": {
        "id": "uJmgCOQm04oF",
        "outputId": "457101c6-f505-4722-ce8a-7727832cd1a6",
        "colab": {
          "base_uri": "https://localhost:8080/"
        }
      },
      "outputs": [
        {
          "output_type": "stream",
          "name": "stdout",
          "text": [
            "[11. 12. 13. 14. 15. 16.]\n"
          ]
        }
      ],
      "source": [
        "# todos los valores mayores a 4\n",
        "print(a[a > 4] + 6)"
      ]
    },
    {
      "cell_type": "markdown",
      "metadata": {
        "id": "5qC9Nte104oF"
      },
      "source": [
        "Cuando los arreglos son multidimensionales, se utiliza coma para separar los índices dentro de los paréntesis cuadrados. A cada índice se le puede aplicar una operación de slicing. `:` significa todo."
      ]
    },
    {
      "cell_type": "code",
      "execution_count": null,
      "metadata": {
        "id": "dCeKTVGq04oF"
      },
      "outputs": [],
      "source": [
        "mat = np.arange(0, 20, 1).reshape((4,5))\n",
        "print(mat)\n",
        "print(mat[1:4, 3:])"
      ]
    },
    {
      "cell_type": "markdown",
      "metadata": {
        "id": "pFTxVxlk1a-C"
      },
      "source": [
        "### Más sobre matrices\n",
        "\n"
      ]
    },
    {
      "cell_type": "markdown",
      "metadata": {
        "id": "YT7752o91a-C"
      },
      "source": [
        "#### Multiplicación Matriz-vector y matriz-matriz\n",
        "\n",
        "COnsideramos la matriz $A$:\n",
        "\n",
        "$$\n",
        "A  =\n",
        "\\begin{bmatrix}\n",
        "3.4 & 2.6 \\\\\n",
        "2.1 & 4.5\n",
        "\\end{bmatrix}\n",
        "$$\n",
        "\n",
        "y el vector $x$:\n",
        "\n",
        "$$\n",
        "x  =\n",
        "\\begin{bmatrix}\n",
        "0.2 \\\\ -1.1\n",
        "\\end{bmatrix}\n",
        "$$"
      ]
    },
    {
      "cell_type": "code",
      "execution_count": 31,
      "metadata": {
        "id": "RYM_Vkz71a-C",
        "outputId": "4191134c-828c-428e-e0f6-7fbc860fc60b",
        "colab": {
          "base_uri": "https://localhost:8080/"
        }
      },
      "outputs": [
        {
          "output_type": "stream",
          "name": "stdout",
          "text": [
            "Matriz A:\n",
            " [[3.4 2.6]\n",
            " [2.1 4.5]]\n",
            "Vector x:\n",
            " [ 0.2 -1.1]\n"
          ]
        }
      ],
      "source": [
        "A = np.array([[3.4, 2.6], [2.1, 4.5]])\n",
        "print(\"Matriz A:\\n {}\".format(A))\n",
        "\n",
        "x = np.array([0.2, -1.1])\n",
        "print(\"Vector x:\\n {}\".format(x))"
      ]
    },
    {
      "cell_type": "markdown",
      "metadata": {
        "id": "Rg0m4wVN1a-D"
      },
      "source": [
        "Calculemos el producto $y = Ax$ :"
      ]
    },
    {
      "cell_type": "code",
      "execution_count": 32,
      "metadata": {
        "id": "1p29kPxz1a-D",
        "outputId": "ff251b35-98ee-423d-be89-9b0c3cf30a9a",
        "colab": {
          "base_uri": "https://localhost:8080/"
        }
      },
      "outputs": [
        {
          "output_type": "stream",
          "name": "stdout",
          "text": [
            "[-2.18 -4.53]\n"
          ]
        }
      ],
      "source": [
        "y = A.dot(x)\n",
        "print(y)"
      ]
    },
    {
      "cell_type": "markdown",
      "metadata": {
        "id": "5oNw8ATA1a-D"
      },
      "source": [
        "Calculemos la multiplicación $C = AB$, donde $A$, $B$, and $C$ son matrices:"
      ]
    },
    {
      "cell_type": "code",
      "execution_count": 33,
      "metadata": {
        "scrolled": true,
        "id": "LbS0g_tj1a-D",
        "outputId": "be1c53e5-7c2b-4778-8574-eb247ef59e09",
        "colab": {
          "base_uri": "https://localhost:8080/"
        }
      },
      "outputs": [
        {
          "output_type": "stream",
          "name": "stdout",
          "text": [
            "[[4.42 5.2 ]\n",
            " [2.73 9.  ]]\n"
          ]
        }
      ],
      "source": [
        "B = np.array([[1.3, 0], [0, 2.0]])\n",
        "\n",
        "C = A.dot(B)\n",
        "print(C)"
      ]
    },
    {
      "cell_type": "markdown",
      "metadata": {
        "id": "kjXvuCb21a-D"
      },
      "source": [
        "También podemos utilizar el operador @ (nuevo a partir python 3.5)"
      ]
    },
    {
      "cell_type": "code",
      "execution_count": 34,
      "metadata": {
        "id": "vPiKuL401a-D",
        "outputId": "a45e75f6-c114-433b-e90e-6b46cdda9183",
        "colab": {
          "base_uri": "https://localhost:8080/"
        }
      },
      "outputs": [
        {
          "output_type": "stream",
          "name": "stdout",
          "text": [
            "[[ 38  32]\n",
            " [101  86]]\n",
            "[[ 38  32]\n",
            " [101  86]]\n"
          ]
        }
      ],
      "source": [
        "\n",
        "\n",
        "B = np.array([[9,8],\n",
        "              [7,6],\n",
        "              [5,4]])\n",
        "print(np.dot(A,B))\n",
        "print(A @ B)"
      ]
    },
    {
      "cell_type": "code",
      "source": [
        "A = np.array([[1,2],\n",
        "              [4,5]])"
      ],
      "metadata": {
        "id": "p9QSDz18eXsE"
      },
      "execution_count": 38,
      "outputs": []
    },
    {
      "cell_type": "markdown",
      "metadata": {
        "id": "k48eQMJb1a-E"
      },
      "source": [
        "La inversa de una matriz ($A^{-1}$) y su determinante  ($\\det(A)$) se pueden obtener su utilizamos el módulo de NumPy s `linalg`:"
      ]
    },
    {
      "cell_type": "code",
      "execution_count": 39,
      "metadata": {
        "id": "_nreetRN1a-E",
        "outputId": "3906d213-9849-471a-9442-dd4dfdecd453",
        "colab": {
          "base_uri": "https://localhost:8080/"
        }
      },
      "outputs": [
        {
          "output_type": "stream",
          "name": "stdout",
          "text": [
            "Inversa de A:\n",
            " [[-1.66666667  0.66666667]\n",
            " [ 1.33333333 -0.33333333]]\n",
            "Determinante de A: -2.9999999999999996\n"
          ]
        }
      ],
      "source": [
        "Ainv = np.linalg.inv(A)\n",
        "print(\"Inversa de A:\\n {}\".format(Ainv))\n",
        "\n",
        "Adet = np.linalg.det(A)\n",
        "print(\"Determinante de A: {}\".format(Adet))"
      ]
    },
    {
      "cell_type": "markdown",
      "metadata": {
        "id": "ty5GBici1a-E"
      },
      "source": [
        "\n",
        "Una matriz Identidad  $I$. se puede crear utilizando"
      ]
    },
    {
      "cell_type": "code",
      "execution_count": 40,
      "metadata": {
        "id": "ySkjvZ4J1a-E",
        "outputId": "04a670f5-9af4-4be3-c5f7-8cd39f060b5c",
        "colab": {
          "base_uri": "https://localhost:8080/"
        }
      },
      "outputs": [
        {
          "output_type": "stream",
          "name": "stdout",
          "text": [
            "[[1. 0. 0. 0.]\n",
            " [0. 1. 0. 0.]\n",
            " [0. 0. 1. 0.]\n",
            " [0. 0. 0. 1.]]\n"
          ]
        }
      ],
      "source": [
        "I = np.eye(4)\n",
        "print(I)"
      ]
    },
    {
      "cell_type": "markdown",
      "metadata": {
        "id": "jblvYWpD1a-E"
      },
      "source": [
        "## Resolución de un sistea de ecuaciones lineales\n",
        "Mediante el uso de matrices podemos resolver ecuaciones lineales. For ejemplo, consideremos el sistema de ecuaciones:\n",
        "\n",
        "\\begin{equation}2x + 4y = 18\\end{equation}\n",
        "\\begin{equation}6x + 2y = 34\\end{equation}\n",
        "\n",
        "Escrito en forma de matrices sería:\n",
        "\n",
        "\\begin{equation}\\begin{bmatrix}2 & 4\\\\6 & 2\\end{bmatrix} \\cdot \\begin{bmatrix}x\\\\y\\end{bmatrix}=\\begin{bmatrix}18\\\\34\\end{bmatrix}\\end{equation}\n",
        "\n",
        "Notemos que las variables (***x*** and ***y***) se escriben como una columna de matriz (vector), que se multiplica por una matriz de coeficientes y se obtiene como resultado una matriz con los valores de las incógnitas. Si calculamos el producto punto en el lado izquierdo podemos ver claramente que representa el sistema de ecuaciones original:\n",
        "\n",
        "\\begin{equation}\\begin{bmatrix}2x + 4y\\\\6x + 2y\\end{bmatrix} =\\begin{bmatrix}18\\\\34\\end{bmatrix}\\end{equation}\n",
        "\n",
        "Demos nombre a nuestras matrices:\n",
        "\n",
        "\\begin{equation}A=\\begin{bmatrix}2 & 4\\\\6 & 2\\end{bmatrix}\\;\\;\\;\\;X=\\begin{bmatrix}x\\\\y\\end{bmatrix}\\;\\;\\;\\;B=\\begin{bmatrix}18\\\\34\\end{bmatrix}\\end{equation}\n",
        "\n",
        "Sabemos que ***A • X = B***, que aritméticamente representa ***X = B ÷ A***. Como la división de una matriz implica la multiplicación por su inversa, podemos encontrar los valores de nuestras variables (*X*) como: ***X = A<sup>-1</sup> • B***\n",
        "\n",
        "Primero necesitamos calcular la inversa de A:\n",
        "\n",
        "\\begin{equation}\\begin{bmatrix}2 & 4\\\\6 & 2\\end{bmatrix}^{-1} = \\frac{1}{(2\\times2)-(4\\times6)}  \\begin{bmatrix}2 & -4\\\\-6 & 2\\end{bmatrix}\\end{equation}\n",
        "\n",
        "\\begin{equation}= \\frac{1}{-20}  \\begin{bmatrix}2 & -4\\\\-6 & 2\\end{bmatrix}\\end{equation}\n",
        "\n",
        "\\begin{equation}=\\begin{bmatrix}-0.1 & 0.2\\\\0.3 & -0.1\\end{bmatrix}\\end{equation}\n",
        "\n",
        "Ahora la multiplicamos por B:\n",
        "\n",
        "\\begin{equation}X = \\begin{bmatrix}-0.1 & 0.2\\\\0.3 & -0.1\\end{bmatrix} \\cdot \\begin{bmatrix}18\\\\34\\end{bmatrix}\\end{equation}\n",
        "\n",
        "\\begin{equation}X = \\begin{bmatrix}(-0.1 \\times 18)+(0.2 \\times 34)\\\\(0.3\\times18)+(-0.1\\times34)\\end{bmatrix}\\end{equation}\n",
        "\n",
        "\\begin{equation}X = \\begin{bmatrix}5\\\\2\\end{bmatrix}\\end{equation}\n",
        "\n",
        "La matriz resultante (*X*) contiene los valores de  *x* and *y* variables, que lo podemos comprobar mediante las ecuaciones originales:\n",
        "\n",
        "\\begin{equation}(2\\times5) + (4\\times2) = 18\\end{equation}\n",
        "\\begin{equation}(6\\times5) + (2\\times2) = 34\\end{equation}\n",
        "\n",
        "Que se convierte simplemente en:\n",
        "\n",
        "\\begin{equation}10 + 8 = 18\\end{equation}\n",
        "\\begin{equation}30 + 4 = 34\\end{equation}\n",
        "\n",
        "\n",
        "Utilizando NUmpy esto es tan simple como:"
      ]
    },
    {
      "cell_type": "code",
      "execution_count": 41,
      "metadata": {
        "id": "bPWvBG4N1a-F",
        "outputId": "56e5a7d4-c327-4858-afa7-6be9d882ed02",
        "colab": {
          "base_uri": "https://localhost:8080/"
        }
      },
      "outputs": [
        {
          "output_type": "stream",
          "name": "stdout",
          "text": [
            "[[5.]\n",
            " [2.]]\n"
          ]
        }
      ],
      "source": [
        "A = np.array([[2,4],\n",
        "              [6,2]])\n",
        "\n",
        "B = np.array([[18],\n",
        "              [34]])\n",
        "\n",
        "X = np.dot(np.linalg.inv(A), B)\n",
        "print(X)"
      ]
    },
    {
      "cell_type": "markdown",
      "metadata": {
        "id": "NKQVcFxo1a-F"
      },
      "source": [
        "O bien"
      ]
    },
    {
      "cell_type": "code",
      "execution_count": 43,
      "metadata": {
        "id": "I6HxPEuS1a-F",
        "outputId": "377da60c-0657-40a8-fef2-40964ce613e7",
        "colab": {
          "base_uri": "https://localhost:8080/"
        }
      },
      "outputs": [
        {
          "output_type": "stream",
          "name": "stdout",
          "text": [
            "[[5.]\n",
            " [2.]]\n"
          ]
        }
      ],
      "source": [
        "\n",
        "A = np.array([[2,4],\n",
        "              [6,2]])\n",
        "\n",
        "B = np.array([[18],\n",
        "              [34]])\n",
        "\n",
        "X = np.linalg.inv(A) @ B\n",
        "\n",
        "print(X)"
      ]
    },
    {
      "cell_type": "markdown",
      "metadata": {
        "id": "Ug0le-ZD1a-F"
      },
      "source": [
        "O también utilizando el método **linalg.solve**"
      ]
    },
    {
      "cell_type": "code",
      "execution_count": 44,
      "metadata": {
        "id": "R7imjvI81a-F",
        "outputId": "ba593a12-03f6-43e1-8229-7fa5d43afa49",
        "colab": {
          "base_uri": "https://localhost:8080/"
        }
      },
      "outputs": [
        {
          "output_type": "stream",
          "name": "stdout",
          "text": [
            "[[5.]\n",
            " [2.]]\n"
          ]
        }
      ],
      "source": [
        "X = np.linalg.solve(A, B)\n",
        "print(X)"
      ]
    },
    {
      "cell_type": "markdown",
      "metadata": {
        "id": "5S3fWTYj1a-G"
      },
      "source": [
        "\n",
        "<p>Para más información, ver <a href=\"#ref\">Numpy Quickstart tutorial</a></p>\n"
      ]
    },
    {
      "cell_type": "markdown",
      "metadata": {
        "id": "ipKVrYcj04oF"
      },
      "source": [
        "# Matplotlib\n",
        "\n",
        "### Es una biblioteca de graficación para Python\n",
        "### Provee una manera rápida de visualizar datos\n",
        "\n",
        "- En los cuadernos de jupyter es necesario indicar que la visualización se debe de hacer en las celdas del cuaderno de esta forma --> %matplotlib inline\n",
        "- Se pueden graficar funciones en dominios limitados (y discretos)\n"
      ]
    },
    {
      "cell_type": "code",
      "execution_count": 45,
      "metadata": {
        "id": "zpV61scE04oG",
        "outputId": "1cc63bfd-6888-4b01-af2b-7a29f761554c",
        "colab": {
          "base_uri": "https://localhost:8080/",
          "height": 430
        }
      },
      "outputs": [
        {
          "output_type": "display_data",
          "data": {
            "text/plain": [
              "<Figure size 640x480 with 1 Axes>"
            ],
            "image/png": "[encoded data removed]"
          },
          "metadata": {}
        }
      ],
      "source": [
        "%matplotlib inline\n",
        "import matplotlib.pyplot as plt\n",
        "plt.plot([1,2,3,4])\n",
        "plt.ylabel('algunos numeritos')\n",
        "plt.show()"
      ]
    },
    {
      "cell_type": "markdown",
      "metadata": {
        "id": "enGwG87r04oH"
      },
      "source": [
        "+ Noten que el eje X tiene un rango automático porque si se provee una única lista de números, se asume que es una secuencia de valores en 'y', los valores en 'x' se generan de forma automática (empezando desde 0)\n",
        "\n",
        "`plot()` es un comando muy versátil, puede tomar un conjunto arbitratio de argumentos. Por ejemplo, para graficar x contra y, se puede hacer de la siguiente forma:"
      ]
    },
    {
      "cell_type": "code",
      "execution_count": 46,
      "metadata": {
        "id": "IgtXLysg04oH",
        "outputId": "e603c2f7-6059-4dd2-ee1d-7f40d7463531",
        "colab": {
          "base_uri": "https://localhost:8080/",
          "height": 430
        }
      },
      "outputs": [
        {
          "output_type": "display_data",
          "data": {
            "text/plain": [
              "<Figure size 640x480 with 1 Axes>"
            ],
            "image/png": "[encoded data removed]"
          },
          "metadata": {}
        }
      ],
      "source": [
        "plt.plot([1, 2, 3, 4], [1, 4, 9, 16])\n",
        "plt.show()"
      ]
    },
    {
      "cell_type": "markdown",
      "metadata": {
        "id": "DoluiqO904oH"
      },
      "source": [
        "+ Para cada par x,y existe un tercer parámetro (opcional), que es un string que indica el color y el tipo de línea del gráfico, el valor por defecto es 'b-', que es una línea azul, pero se puede especificar cualquier otra opción dentro de un conjunto de posibilidades:\n",
        "\n",
        "\n",
        "<img src=\"imagenes/lines.png\", width=300, height=300>\n",
        "<img src=\"imagenes/colors.png\", width=120, height=120>\n"
      ]
    },
    {
      "cell_type": "code",
      "execution_count": null,
      "metadata": {
        "id": "rs2Yy5eE04oH"
      },
      "outputs": [],
      "source": [
        "plt.plot([1,2,3,4], [1,4,9,16], 'g^')\n",
        "plt.show()"
      ]
    },
    {
      "cell_type": "markdown",
      "metadata": {
        "id": "nW2Ap7pe04oI"
      },
      "source": [
        "+ El comando **`plt.axis()`** recibe una lista con 4 argumentos que nos ayuda a delimitar el rango de los ejes de los gráficos"
      ]
    },
    {
      "cell_type": "code",
      "execution_count": null,
      "metadata": {
        "id": "85xBInPO04oI"
      },
      "outputs": [],
      "source": [
        "plt.plot([1,2,3,4], [1,4,9,16], 'm:')\n",
        "plt.axis([0, 6, 0, 20])\n",
        "plt.show()"
      ]
    },
    {
      "cell_type": "markdown",
      "metadata": {
        "id": "BuB5mNG204oI"
      },
      "source": [
        "### Claro que matplotlib también funciona con los arreglos de NumPy"
      ]
    },
    {
      "cell_type": "code",
      "execution_count": null,
      "metadata": {
        "id": "IifE4-Vr04oI"
      },
      "outputs": [],
      "source": [
        "import numpy as np\n",
        "import matplotlib.pyplot as plt\n",
        "\n",
        "# intervalos\n",
        "t = np.arange(0.0, 5.0, 0.2)\n",
        "\n",
        "# líneas punteadas rojas, cuadrados azules and triángulos verdes\n",
        "plt.plot(t, t, 'r--', t, t**2, 'bs', t, t**3, 'g^')\n",
        "plt.show()"
      ]
    },
    {
      "cell_type": "markdown",
      "metadata": {
        "id": "qqQORK4v04oI"
      },
      "source": [
        "Para trabajar con múltiples figuras, se pueden utilizar subplots:"
      ]
    },
    {
      "cell_type": "code",
      "execution_count": null,
      "metadata": {
        "id": "QtcdXjtP04oI"
      },
      "outputs": [],
      "source": [
        "def f(t):\n",
        "    return np.exp(-t) * np.cos(2*np.pi*t)\n",
        "\n",
        "t1 = np.arange(0.0, 5.0, 0.1)\n",
        "t2 = np.arange(0.0, 5.0, 0.02)\n",
        "\n",
        "plt.subplot(211)\n",
        "plt.plot(t1, f(t1), 'bo', t2, f(t2), 'k')\n",
        "\n",
        "plt.subplot(212)\n",
        "plt.plot(t2, np.cos(2*np.pi*t2), 'r--')\n",
        "plt.show()"
      ]
    },
    {
      "cell_type": "markdown",
      "metadata": {
        "id": "LB6YYq_Y04oJ"
      },
      "source": [
        "Los datos pueden ser leidos de un archivo y de una vez graficados"
      ]
    },
    {
      "cell_type": "code",
      "execution_count": null,
      "metadata": {
        "id": "ujdv-bcy04oJ"
      },
      "outputs": [],
      "source": [
        "%matplotlib inline\n",
        "from numpy import loadtxt\n",
        "datos = loadtxt(\"prueba.csv\")\n",
        "print(datos)\n",
        "x = datos[:,0]\n",
        "y = datos[:,1]\n",
        "plt.plot(x,y)\n",
        "plt.show()"
      ]
    },
    {
      "cell_type": "markdown",
      "metadata": {
        "id": "JfC3qidO04oJ"
      },
      "source": [
        "Utilizando la función **`plt.savefig(filename, dpi=72)`** se pueden guardan las figuras generadas a archivos para su uso fuera de python."
      ]
    },
    {
      "cell_type": "code",
      "execution_count": null,
      "metadata": {
        "id": "Aj6vW0HY04oJ"
      },
      "outputs": [],
      "source": []
    }
  ],
  "metadata": {
    "kernelspec": {
      "display_name": "Python 3",
      "language": "python",
      "name": "python3"
    },
    "language_info": {
      "codemirror_mode": {
        "name": "ipython",
        "version": 3
      },
      "file_extension": ".py",
      "mimetype": "text/x-python",
      "name": "python",
      "nbconvert_exporter": "python",
      "pygments_lexer": "ipython3",
      "version": "3.6.0"
    },
    "colab": {
      "provenance": []
    }
  },
  "nbformat": 4,
  "nbformat_minor": 0
}